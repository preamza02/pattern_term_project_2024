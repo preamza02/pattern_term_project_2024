{
 "cells": [
  {
   "cell_type": "code",
   "execution_count": 13,
   "metadata": {},
   "outputs": [],
   "source": [
    "import os\n",
    "from pathlib import Path\n",
    "import sys\n",
    "import time\n",
    "from functools import partial\n",
    "from tqdm import tqdm\n",
    "\n",
    "pwd = Path(os.getcwd())\n",
    "sys.path.append(str(pwd.parent.parent / \"gym-checkers-for-thai\"))"
   ]
  },
  {
   "cell_type": "code",
   "execution_count": 14,
   "metadata": {},
   "outputs": [],
   "source": [
    "from checkers.agents.baselines import play_a_game, RandomPlayer\n",
    "from checkers.game import Checkers\n",
    "from checkers.agents import Player\n",
    "from checkers.agents.alpha_beta import MinimaxPlayer, first_order_adv\n",
    "\n",
    "from player import GADQNPlayer\n",
    "from model import DQN\n",
    "\n",
    "import pygad\n",
    "import pygad.torchga\n",
    "import torch\n",
    "\n",
    "import mlflow\n",
    "import mlflow.pytorch\n",
    "\n",
    "import numpy as np"
   ]
  },
  {
   "cell_type": "code",
   "execution_count": 15,
   "metadata": {},
   "outputs": [],
   "source": [
    "MINIMAX_SEARCH_DEPTH = 2\n",
    "WEIGHT_FOLDER = pwd / \"weights\" / f\"vs_depth_{MINIMAX_SEARCH_DEPTH}\"\n",
    "\n",
    "# pygad config\n",
    "N_MATCHES = 55\n",
    "N_SOLUTIONS = 10\n",
    "N_GENERATIONS = 100"
   ]
  },
  {
   "cell_type": "code",
   "execution_count": 16,
   "metadata": {},
   "outputs": [],
   "source": [
    "# Create the folder if it doesn't exist\n",
    "WEIGHT_FOLDER.mkdir(parents=True, exist_ok=True)"
   ]
  },
  {
   "cell_type": "code",
   "execution_count": 17,
   "metadata": {},
   "outputs": [],
   "source": [
    "def run_experiment(model, n_matches=10, max_game_len=100, time_limit=10):\n",
    "    n_wins, n_draws, n_losses = 0, 0, 0\n",
    "    stime = time.time()\n",
    "\n",
    "    # delete after end the loop\n",
    "    looper = tqdm(range(n_matches), unit=\"matches\", leave=False)\n",
    "    for i in looper:\n",
    "        ch = Checkers()\n",
    "\n",
    "        # GA tuned model function\n",
    "        black_player = GADQNPlayer('black', model=model)\n",
    "\n",
    "        # Random player function\n",
    "        # white_player = RandomPlayer('white', seed=i)\n",
    "\n",
    "        # Minimax player function\n",
    "        white_player = MinimaxPlayer('white', \n",
    "                                     partial(first_order_adv, 'white', 86, 54.5, 87, 26),\n",
    "                                     search_depth=MINIMAX_SEARCH_DEPTH)\n",
    "        \n",
    "\n",
    "        #modify this function to put our RL model as white\n",
    "        winner = play_a_game(ch, black_player.next_move, white_player.next_move, max_game_len, is_show_detail=False)\n",
    "\n",
    "        # Keep scores\n",
    "        n_wins += 1 if winner == 'black' else 0\n",
    "        n_draws += 1 if winner is None else 0\n",
    "        n_losses += 1 if winner == 'white' else 0\n",
    "\n",
    "        looper.set_postfix(\n",
    "            wins=n_wins,\n",
    "            draws=n_draws,\n",
    "            losses=n_losses,\n",
    "        )\n",
    "        \n",
    "        if time.time() - stime > time_limit*60:\n",
    "            break\n",
    "    \n",
    "    return n_wins, n_draws, n_losses, black_player.n_moves, black_player.n_combo_kill"
   ]
  },
  {
   "cell_type": "code",
   "execution_count": 18,
   "metadata": {},
   "outputs": [],
   "source": [
    "max_fitness_score = 0\n",
    "\n",
    "def on_generation(ga_instance):\n",
    "    print(\"Generation = {generation}\".format(generation=ga_instance.generations_completed))\n",
    "    print(\"Best fitness = {fitness}\".format(fitness=ga_instance.best_solution()[1]))\n",
    "\n",
    "def on_fitness(ga_instance, population_fitness):\n",
    "    global max_fitness_score, last_generation_time\n",
    "\n",
    "    use_time = time.time() - last_generation_time\n",
    "\n",
    "    # update step progress\n",
    "    mlflow.log_metric(\"best_fitness\", ga_instance.best_solution()[1], step=ga_instance.generations_completed)\n",
    "    mlflow.log_metric(\"mean_fitness\", np.mean(population_fitness), step=ga_instance.generations_completed)\n",
    "    mlflow.log_metric(\"std_fitness\", np.std(population_fitness), step=ga_instance.generations_completed)\n",
    "    mlflow.log_metric(\"time\", use_time, step=ga_instance.generations_completed)\n",
    "\n",
    "    # save the best solution\n",
    "    solution, best_fitness, _ = ga_instance.best_solution()\n",
    "    if best_fitness > max_fitness_score:\n",
    "        model = DQN()\n",
    "        model_weights_dict = pygad.torchga.model_weights_as_dict(model=model, weights_vector=solution)\n",
    "        model.load_state_dict(model_weights_dict)\n",
    "\n",
    "        n_win, _, _, _, _ = run_experiment(model, n_matches=N_MATCHES)\n",
    "        win_rate = n_win / N_MATCHES\n",
    "\n",
    "        mlflow.log_metric(\"win_rate\", win_rate, step=ga_instance.generations_completed)\n",
    "\n",
    "        torch.save(model.state_dict(), f'{WEIGHT_FOLDER}/DQL_with_fitness{best_fitness:.2f}_winrate{win_rate*100:.2f}_generation{ga_instance.generations_completed}.pth')\n",
    "        print(\"Model saved\")\n",
    "\n",
    "        mlflow.pytorch.log_model(model, \"models\")\n",
    "\n",
    "        max_fitness_score = best_fitness\n",
    "    \n",
    "    last_generation_time = time.time()"
   ]
  },
  {
   "cell_type": "code",
   "execution_count": 19,
   "metadata": {},
   "outputs": [],
   "source": [
    "def fitness_func(ga_instance, solution, solution_idx):\n",
    "\n",
    "    model = DQN()\n",
    "    model_weights_dict = pygad.torchga.model_weights_as_dict(model=model, weights_vector=solution)\n",
    "    model.load_state_dict(model_weights_dict)\n",
    "\n",
    "    n_wins, n_draws, n_losses, n_moves, n_combo_kill = run_experiment(model, n_matches=N_MATCHES, max_game_len=100, time_limit=2)\n",
    "\n",
    "    win_score = 2\n",
    "    draw_score = 1\n",
    "    loss_score = 0\n",
    "    move_penalty = 0.01\n",
    "    combo_kill_bonus = 0.1\n",
    "\n",
    "    total_score = n_wins * win_score\n",
    "    total_score += n_draws * draw_score\n",
    "    total_score += n_losses * loss_score\n",
    "    total_score -= n_moves * move_penalty\n",
    "    total_score += n_combo_kill * combo_kill_bonus\n",
    "\n",
    "    return total_score"
   ]
  },
  {
   "cell_type": "code",
   "execution_count": 20,
   "metadata": {},
   "outputs": [
    {
     "name": "stderr",
     "output_type": "stream",
     "text": [
      "/Users/jirayuwat/anaconda3/envs/pattern_project/lib/python3.9/site-packages/pygad/pygad.py:1139: UserWarning: The 'delay_after_gen' parameter is deprecated starting from PyGAD 3.3.0. To delay or pause the evolution after each generation, assign a callback function/method to the 'on_generation' parameter to adds some time delay.\n",
      "  warnings.warn(\"The 'delay_after_gen' parameter is deprecated starting from PyGAD 3.3.0. To delay or pause the evolution after each generation, assign a callback function/method to the 'on_generation' parameter to adds some time delay.\")\n"
     ]
    }
   ],
   "source": [
    "torch_ga = pygad.torchga.TorchGA(model=DQN(),\n",
    "                                 num_solutions=N_SOLUTIONS)\n",
    "\n",
    "ga_instance = pygad.GA(num_generations=N_GENERATIONS,\n",
    "                       num_parents_mating=5,\n",
    "                       initial_population = torch_ga.population_weights,\n",
    "                       fitness_func=fitness_func,\n",
    "                       parent_selection_type=\"sss\",\n",
    "                       crossover_type=\"single_point\",\n",
    "                       mutation_type=\"random\",\n",
    "                       mutation_percent_genes=15,\n",
    "                       keep_parents=-1,\n",
    "                       on_generation=on_generation,\n",
    "                       on_fitness=on_fitness)"
   ]
  },
  {
   "cell_type": "code",
   "execution_count": 21,
   "metadata": {},
   "outputs": [
    {
     "name": "stderr",
     "output_type": "stream",
     "text": [
      "  0%|          | 0/1 [00:00<?, ?matches/s]"
     ]
    },
    {
     "name": "stderr",
     "output_type": "stream",
     "text": [
      "                                                                             \r"
     ]
    },
    {
     "name": "stdout",
     "output_type": "stream",
     "text": [
      "Model saved\n"
     ]
    },
    {
     "name": "stderr",
     "output_type": "stream",
     "text": [
      "/Users/jirayuwat/anaconda3/envs/pattern_project/lib/python3.9/site-packages/_distutils_hack/__init__.py:18: UserWarning: Distutils was imported before Setuptools, but importing Setuptools also replaces the `distutils` module in `sys.modules`. This may lead to undesirable behaviors or errors. To avoid these issues, avoid using distutils directly, ensure that setuptools is installed in the traditional way (e.g. not an editable install), and/or make sure that setuptools is always imported before distutils.\n",
      "  warnings.warn(\n",
      "/Users/jirayuwat/anaconda3/envs/pattern_project/lib/python3.9/site-packages/_distutils_hack/__init__.py:33: UserWarning: Setuptools is replacing distutils.\n",
      "  warnings.warn(\"Setuptools is replacing distutils.\")\n",
      "                                                                             \r"
     ]
    },
    {
     "name": "stdout",
     "output_type": "stream",
     "text": [
      "Generation = 1\n"
     ]
    },
    {
     "name": "stderr",
     "output_type": "stream",
     "text": [
      "                                                                     \r"
     ]
    },
    {
     "name": "stdout",
     "output_type": "stream",
     "text": [
      "Best fitness = -0.07\n"
     ]
    },
    {
     "name": "stderr",
     "output_type": "stream",
     "text": [
      "                                                                             \r"
     ]
    },
    {
     "name": "stdout",
     "output_type": "stream",
     "text": [
      "Generation = 2\n"
     ]
    },
    {
     "name": "stderr",
     "output_type": "stream",
     "text": [
      "                                                                             \r"
     ]
    },
    {
     "name": "stdout",
     "output_type": "stream",
     "text": [
      "Best fitness = 0.5\n"
     ]
    },
    {
     "name": "stderr",
     "output_type": "stream",
     "text": [
      "                                                                             \r"
     ]
    },
    {
     "name": "stdout",
     "output_type": "stream",
     "text": [
      "Generation = 3\n"
     ]
    },
    {
     "name": "stderr",
     "output_type": "stream",
     "text": [
      "                                                                     \r"
     ]
    },
    {
     "name": "stdout",
     "output_type": "stream",
     "text": [
      "Best fitness = 0.5\n"
     ]
    },
    {
     "name": "stderr",
     "output_type": "stream",
     "text": [
      "                                                                     \r"
     ]
    },
    {
     "name": "stdout",
     "output_type": "stream",
     "text": [
      "Generation = 4\n"
     ]
    },
    {
     "name": "stderr",
     "output_type": "stream",
     "text": [
      "                                                                             \r"
     ]
    },
    {
     "name": "stdout",
     "output_type": "stream",
     "text": [
      "Best fitness = 0.5\n"
     ]
    },
    {
     "name": "stderr",
     "output_type": "stream",
     "text": [
      "                                                                             \r"
     ]
    },
    {
     "name": "stdout",
     "output_type": "stream",
     "text": [
      "Generation = 5\n"
     ]
    },
    {
     "name": "stderr",
     "output_type": "stream",
     "text": [
      "                                                                     \r"
     ]
    },
    {
     "name": "stdout",
     "output_type": "stream",
     "text": [
      "Best fitness = 0.5\n"
     ]
    },
    {
     "name": "stderr",
     "output_type": "stream",
     "text": [
      "                                                                             \r"
     ]
    },
    {
     "name": "stdout",
     "output_type": "stream",
     "text": [
      "Generation = 6\n"
     ]
    },
    {
     "name": "stderr",
     "output_type": "stream",
     "text": [
      "                                                                             \r"
     ]
    },
    {
     "name": "stdout",
     "output_type": "stream",
     "text": [
      "Best fitness = 1.9\n"
     ]
    },
    {
     "name": "stderr",
     "output_type": "stream",
     "text": [
      "                                                                             \r"
     ]
    },
    {
     "name": "stdout",
     "output_type": "stream",
     "text": [
      "Generation = 7\n"
     ]
    },
    {
     "name": "stderr",
     "output_type": "stream",
     "text": [
      "                                                                     \r"
     ]
    },
    {
     "name": "stdout",
     "output_type": "stream",
     "text": [
      "Best fitness = 0.5\n"
     ]
    },
    {
     "name": "stderr",
     "output_type": "stream",
     "text": [
      "                                                                             \r"
     ]
    },
    {
     "name": "stdout",
     "output_type": "stream",
     "text": [
      "Generation = 8\n"
     ]
    },
    {
     "name": "stderr",
     "output_type": "stream",
     "text": [
      "                                                                     \r"
     ]
    },
    {
     "name": "stdout",
     "output_type": "stream",
     "text": [
      "Best fitness = 0.5\n"
     ]
    },
    {
     "name": "stderr",
     "output_type": "stream",
     "text": [
      "                                                                             \r"
     ]
    },
    {
     "name": "stdout",
     "output_type": "stream",
     "text": [
      "Generation = 9\n"
     ]
    },
    {
     "name": "stderr",
     "output_type": "stream",
     "text": [
      "                                                                             \r"
     ]
    },
    {
     "name": "stdout",
     "output_type": "stream",
     "text": [
      "Best fitness = 0.5\n"
     ]
    },
    {
     "name": "stderr",
     "output_type": "stream",
     "text": [
      "                                                                             \r"
     ]
    },
    {
     "name": "stdout",
     "output_type": "stream",
     "text": [
      "Generation = 10\n"
     ]
    },
    {
     "name": "stderr",
     "output_type": "stream",
     "text": [
      "                                                                     "
     ]
    },
    {
     "name": "stdout",
     "output_type": "stream",
     "text": [
      "Best fitness = 0.5\n"
     ]
    },
    {
     "name": "stderr",
     "output_type": "stream",
     "text": [
      "\r"
     ]
    }
   ],
   "source": [
    "mlflow.set_experiment(\"DQL vs Minimax (GA approach)\")\n",
    "with mlflow.start_run():\n",
    "    mlflow.log_param(\"N_MATCHES\", N_MATCHES)\n",
    "    mlflow.log_param(\"N_SOLUTIONS\", N_SOLUTIONS)\n",
    "    mlflow.log_param(\"N_GENERATIONS\", N_GENERATIONS)\n",
    "    mlflow.log_param(\"MINIMAX_SEARCH_DEPTH\", MINIMAX_SEARCH_DEPTH)\n",
    "\n",
    "    last_generation_time = time.time()\n",
    "    ga_instance.run()"
   ]
  },
  {
   "cell_type": "code",
   "execution_count": 22,
   "metadata": {},
   "outputs": [
    {
     "name": "stderr",
     "output_type": "stream",
     "text": [
      "                                                                     "
     ]
    },
    {
     "name": "stdout",
     "output_type": "stream",
     "text": [
      "Parameters of the best solution : [ 0.75978631  0.86275833  1.23876323 ... -0.03820738 -0.00620928\n",
      " -0.00973191]\n",
      "Fitness value of the best solution = 0.5\n"
     ]
    },
    {
     "name": "stderr",
     "output_type": "stream",
     "text": [
      "\r"
     ]
    }
   ],
   "source": [
    "solution, solution_fitness, solution_idx = ga_instance.best_solution()\n",
    "\n",
    "print(\"Parameters of the best solution : {solution}\".format(solution=solution))\n",
    "print(\"Fitness value of the best solution = {solution_fitness}\".format(solution_fitness=solution_fitness))"
   ]
  },
  {
   "cell_type": "code",
   "execution_count": 23,
   "metadata": {},
   "outputs": [
    {
     "data": {
      "image/png": "[encoded data removed]",
      "text/plain": [
       "<Figure size 640x480 with 1 Axes>"
      ]
     },
     "metadata": {},
     "output_type": "display_data"
    },
    {
     "data": {
      "image/png": "[encoded data removed]",
      "text/plain": [
       "<Figure size 640x480 with 1 Axes>"
      ]
     },
     "execution_count": 23,
     "metadata": {},
     "output_type": "execute_result"
    }
   ],
   "source": [
    "ga_instance.plot_fitness()"
   ]
  },
  {
   "cell_type": "code",
   "execution_count": 24,
   "metadata": {},
   "outputs": [],
   "source": [
    "ga_instance.save('ga_instance')"
   ]
  }
 ],
 "metadata": {
  "kernelspec": {
   "display_name": "pattern_project",
   "language": "python",
   "name": "python3"
  },
  "language_info": {
   "codemirror_mode": {
    "name": "ipython",
    "version": 3
   },
   "file_extension": ".py",
   "mimetype": "text/x-python",
   "name": "python",
   "nbconvert_exporter": "python",
   "pygments_lexer": "ipython3",
   "version": "3.9.19"
  }
 },
 "nbformat": 4,
 "nbformat_minor": 2
}
