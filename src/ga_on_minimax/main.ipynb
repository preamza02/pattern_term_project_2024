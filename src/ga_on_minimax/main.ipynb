{
 "cells": [
  {
   "cell_type": "code",
   "execution_count": 12,
   "metadata": {},
   "outputs": [],
   "source": [
    "import os\n",
    "from pathlib import Path\n",
    "import sys\n",
    "\n",
    "pwd = Path(os.getcwd())\n",
    "sys.path.append(str(pwd.parent.parent / \"gym-checkers-for-thai\"))"
   ]
  },
  {
   "cell_type": "code",
   "execution_count": 13,
   "metadata": {},
   "outputs": [],
   "source": [
    "from checkers.agents.baselines import play_a_game, RandomPlayer\n",
    "from checkers.game import Checkers\n",
    "from checkers.agents import Player\n",
    "from checkers.agents.alpha_beta import MinimaxPlayer, first_order_adv, material_value_adv\n",
    "from functools import partial\n",
    "from tqdm import tqdm\n",
    "import time\n",
    "import pygad\n",
    "import numpy as np"
   ]
  },
  {
   "cell_type": "code",
   "execution_count": 14,
   "metadata": {},
   "outputs": [],
   "source": [
    "def ga_material_value(king_value, man_value, pieces):\n",
    "    \"\"\"\n",
    "    Zero-th order heuristics\n",
    "    Heuristic based on advantage in material value\n",
    "    1. Men are worth `man_value` per man\n",
    "    1. Kings are worth `king_value` per king\n",
    "    \"\"\"\n",
    "    return man_value * len(pieces[\"men\"]) + king_value * len(pieces[\"kings\"])\n",
    "\n",
    "def ga_board_value(color, advance_bonus, safety_bonus, pieces):\n",
    "    value = 0\n",
    "    for piece_type in Checkers.all_piece_types:\n",
    "        for sq in pieces[piece_type]:\n",
    "            # XXX Assuming the standard board (empty corner at upper left)\n",
    "            row = sq // 4\n",
    "            col = (sq % 4) * 2 + (row + 1) % 2\n",
    "            # Advanced men\n",
    "            if piece_type == \"men\":\n",
    "                if color == \"black\":\n",
    "                    # Greater row is better\n",
    "                    advancement = row + 1\n",
    "                else:\n",
    "                    # White. Smaller row is better\n",
    "                    advancement = 8 - row\n",
    "                value += advancement / 8 * advance_bonus\n",
    "            # Safe pieces\n",
    "            if row == 0 or row == 7 or col == 0 or col == 7:\n",
    "                value += safety_bonus\n",
    "    return value\n",
    "\n",
    "\n",
    "def ga_tuned_adv(color,\n",
    "                    king_value,\n",
    "                    man_value,\n",
    "                    advance_bonus,\n",
    "                    safety_bonus,\n",
    "                    board,\n",
    "                    turn,\n",
    "                    last_moved_piece,):\n",
    "    black_adv = ga_material_value(king_value, man_value, board[\"black\"])\n",
    "    black_adv += ga_board_value(\"black\", advance_bonus, safety_bonus, board[\"black\"])\n",
    "    black_adv -= ga_material_value(king_value, man_value, board[\"white\"])\n",
    "    black_adv -= ga_board_value(\"white\", advance_bonus, safety_bonus, board[\"white\"])\n",
    "    return black_adv if color == \"black\" else -black_adv\n"
   ]
  },
  {
   "cell_type": "code",
   "execution_count": 15,
   "metadata": {},
   "outputs": [],
   "source": [
    "def run_experiment(king_value, man_value, advance_bonus, safety_bonus, n_matches=10, max_game_len=100, time_limit=10):\n",
    "    n_wins, n_draws, n_losses = 0, 0, 0\n",
    "    stime = time.time()\n",
    "    looper = tqdm(range(n_matches), unit=\"matches\")\n",
    "    for i in looper:\n",
    "        ch = Checkers()\n",
    "\n",
    "        # GA tuned value function\n",
    "        black_player = MinimaxPlayer(\n",
    "            'black',\n",
    "            value_func=partial(ga_tuned_adv, 'black', king_value, man_value, advance_bonus, safety_bonus),\n",
    "            rollout_order_gen=lambda x: sorted(x),\n",
    "            search_depth=4,\n",
    "            seed=i)\n",
    "\n",
    "        # original value function\n",
    "        white_player = MinimaxPlayer(\n",
    "            'white',\n",
    "            value_func=partial(first_order_adv, 'white', 200, 100, 20, 0),\n",
    "            rollout_order_gen=lambda x: sorted(x),\n",
    "            search_depth=4,\n",
    "            seed=i)\n",
    "\n",
    "        #modify this function to put our RL model as white\n",
    "        winner = play_a_game(ch, black_player.next_move, white_player.next_move, max_game_len, is_show_detail=False)\n",
    "\n",
    "        # Keep scores\n",
    "        n_wins += 1 if winner == 'black' else 0\n",
    "        n_draws += 1 if winner is None else 0\n",
    "        n_losses += 1 if winner == 'white' else 0\n",
    "\n",
    "        looper.set_postfix(\n",
    "            wins=n_wins,\n",
    "            draws=n_draws,\n",
    "            losses=n_losses,\n",
    "        )\n",
    "        \n",
    "        if time.time() - stime > time_limit*60:\n",
    "            break\n",
    "    \n",
    "    return n_wins, n_draws, n_losses"
   ]
  },
  {
   "cell_type": "code",
   "execution_count": 16,
   "metadata": {},
   "outputs": [],
   "source": [
    "def fitness_func(ga_instance, solution, solution_idx):\n",
    "    # print(solution)\n",
    "    king_value, man_value, advance_bonus, safety_bonus = solution\n",
    "    n_wins, n_draws, n_losses = run_experiment(king_value, man_value, advance_bonus, safety_bonus, n_matches=10, max_game_len=100, time_limit=5)\n",
    "\n",
    "    # save the fitness value in the solutions list\n",
    "    fitness = n_wins-n_losses\n",
    "    solution = np.array(solution)\n",
    "    np.save(f\"solution_log/sol_with_fitness_{fitness}.npy\", solution)\n",
    "\n",
    "    return fitness"
   ]
  },
  {
   "cell_type": "code",
   "execution_count": 8,
   "metadata": {},
   "outputs": [
    {
     "name": "stderr",
     "output_type": "stream",
     "text": [
      "c:\\Users\\jiray\\.conda\\envs\\pattern_project\\lib\\site-packages\\pygad\\pygad.py:748: UserWarning: The percentage of genes to mutate (mutation_percent_genes=10) resulted in selecting (0) genes. The number of genes to mutate is set to 1 (mutation_num_genes=1).\n",
      "If you do not want to mutate any gene, please set mutation_type=None.\n",
      "  warnings.warn(f\"The percentage of genes to mutate (mutation_percent_genes={mutation_percent_genes}) resulted in selecting ({mutation_num_genes}) genes. The number of genes to mutate is set to 1 (mutation_num_genes=1).\\nIf you do not want to mutate any gene, please set mutation_type=None.\")\n",
      "c:\\Users\\jiray\\.conda\\envs\\pattern_project\\lib\\site-packages\\pygad\\pygad.py:1139: UserWarning: The 'delay_after_gen' parameter is deprecated starting from PyGAD 3.3.0. To delay or pause the evolution after each generation, assign a callback function/method to the 'on_generation' parameter to adds some time delay.\n",
      "  warnings.warn(\"The 'delay_after_gen' parameter is deprecated starting from PyGAD 3.3.0. To delay or pause the evolution after each generation, assign a callback function/method to the 'on_generation' parameter to adds some time delay.\")\n"
     ]
    }
   ],
   "source": [
    "ga_instance = pygad.GA(num_generations=50,\n",
    "                       num_parents_mating=4,\n",
    "                       fitness_func=fitness_func,\n",
    "                       sol_per_pop=8,\n",
    "                       num_genes=4,\n",
    "                       init_range_low=0,\n",
    "                       init_range_high=100,\n",
    "                       parent_selection_type=\"sss\",\n",
    "                       keep_parents=1,\n",
    "                       crossover_type=\"single_point\",\n",
    "                       mutation_type=\"random\",\n",
    "                       mutation_percent_genes=10,)"
   ]
  },
  {
   "cell_type": "code",
   "execution_count": 9,
   "metadata": {},
   "outputs": [
    {
     "name": "stderr",
     "output_type": "stream",
     "text": [
      "100%|██████████| 10/10 [03:34<00:00, 21.47s/matches, draws=0, losses=10, wins=0]\n",
      "100%|██████████| 10/10 [02:58<00:00, 17.89s/matches, draws=0, losses=10, wins=0]\n",
      "100%|██████████| 10/10 [03:42<00:00, 22.26s/matches, draws=0, losses=10, wins=0]\n",
      " 90%|█████████ | 9/10 [05:14<00:34, 34.90s/matches, draws=0, losses=0, wins=10]\n",
      "100%|██████████| 10/10 [04:30<00:00, 27.01s/matches, draws=0, losses=10, wins=0]\n",
      "100%|██████████| 10/10 [02:20<00:00, 14.09s/matches, draws=0, losses=10, wins=0]\n",
      "100%|██████████| 10/10 [02:25<00:00, 14.59s/matches, draws=0, losses=0, wins=10]\n",
      "100%|██████████| 10/10 [02:17<00:00, 13.76s/matches, draws=0, losses=10, wins=0]\n",
      "100%|██████████| 10/10 [04:10<00:00, 25.04s/matches, draws=10, losses=0, wins=0]\n",
      "100%|██████████| 10/10 [02:23<00:00, 14.32s/matches, draws=0, losses=10, wins=0]\n",
      "100%|██████████| 10/10 [02:21<00:00, 14.17s/matches, draws=0, losses=0, wins=10]\n",
      "100%|██████████| 10/10 [04:18<00:00, 25.82s/matches, draws=0, losses=10, wins=0]\n",
      " 90%|█████████ | 9/10 [05:05<00:33, 33.95s/matches, draws=0, losses=0, wins=10]\n",
      " 30%|███       | 3/10 [06:24<14:56, 128.02s/matches, draws=4, losses=0, wins=0]\n",
      "100%|██████████| 10/10 [02:18<00:00, 13.90s/matches, draws=0, losses=10, wins=0]\n",
      "100%|██████████| 10/10 [03:25<00:00, 20.52s/matches, draws=0, losses=10, wins=0]\n",
      "100%|██████████| 10/10 [03:53<00:00, 23.30s/matches, draws=0, losses=10, wins=0]\n",
      " 80%|████████  | 8/10 [05:04<01:16, 38.06s/matches, draws=9, losses=0, wins=0]\n",
      " 90%|█████████ | 9/10 [05:03<00:33, 33.74s/matches, draws=0, losses=0, wins=10]\n",
      "100%|██████████| 10/10 [02:42<00:00, 16.24s/matches, draws=0, losses=10, wins=0]\n",
      "100%|██████████| 10/10 [02:25<00:00, 14.52s/matches, draws=0, losses=0, wins=10]\n",
      "100%|██████████| 10/10 [02:48<00:00, 16.81s/matches, draws=0, losses=10, wins=0]\n",
      " 40%|████      | 4/10 [05:35<08:23, 83.93s/matches, draws=5, losses=0, wins=0]\n",
      " 90%|█████████ | 9/10 [05:20<00:35, 35.58s/matches, draws=0, losses=0, wins=10]\n",
      "100%|██████████| 10/10 [02:26<00:00, 14.66s/matches, draws=0, losses=10, wins=0]\n",
      "100%|██████████| 10/10 [02:26<00:00, 14.65s/matches, draws=0, losses=0, wins=10]\n",
      " 90%|█████████ | 9/10 [05:16<00:35, 35.11s/matches, draws=0, losses=0, wins=10]\n",
      " 90%|█████████ | 9/10 [05:18<00:35, 35.35s/matches, draws=0, losses=0, wins=10]\n",
      " 80%|████████  | 8/10 [05:08<01:17, 38.54s/matches, draws=9, losses=0, wins=0]\n",
      " 90%|█████████ | 9/10 [05:29<00:36, 36.63s/matches, draws=0, losses=0, wins=10]\n",
      "100%|██████████| 10/10 [02:35<00:00, 15.52s/matches, draws=0, losses=0, wins=10]\n",
      " 90%|█████████ | 9/10 [03:10<00:21, 21.13s/matches, draws=0, losses=9, wins=0]\n"
     ]
    },
    {
     "ename": "KeyboardInterrupt",
     "evalue": "",
     "output_type": "error",
     "traceback": [
      "\u001b[1;31m---------------------------------------------------------------------------\u001b[0m",
      "\u001b[1;31mKeyboardInterrupt\u001b[0m                         Traceback (most recent call last)",
      "Cell \u001b[1;32mIn[9], line 1\u001b[0m\n\u001b[1;32m----> 1\u001b[0m \u001b[43mga_instance\u001b[49m\u001b[38;5;241;43m.\u001b[39;49m\u001b[43mrun\u001b[49m\u001b[43m(\u001b[49m\u001b[43m)\u001b[49m\n",
      "File \u001b[1;32mc:\\Users\\jiray\\.conda\\envs\\pattern_project\\lib\\site-packages\\pygad\\pygad.py:1980\u001b[0m, in \u001b[0;36mGA.run\u001b[1;34m(self)\u001b[0m\n\u001b[0;32m   1978\u001b[0m \u001b[38;5;28mself\u001b[39m\u001b[38;5;241m.\u001b[39mprevious_generation_fitness \u001b[38;5;241m=\u001b[39m \u001b[38;5;28mself\u001b[39m\u001b[38;5;241m.\u001b[39mlast_generation_fitness\u001b[38;5;241m.\u001b[39mcopy()\n\u001b[0;32m   1979\u001b[0m \u001b[38;5;66;03m# Measuring the fitness of each chromosome in the population. Save the fitness in the last_generation_fitness attribute.\u001b[39;00m\n\u001b[1;32m-> 1980\u001b[0m \u001b[38;5;28mself\u001b[39m\u001b[38;5;241m.\u001b[39mlast_generation_fitness \u001b[38;5;241m=\u001b[39m \u001b[38;5;28;43mself\u001b[39;49m\u001b[38;5;241;43m.\u001b[39;49m\u001b[43mcal_pop_fitness\u001b[49m\u001b[43m(\u001b[49m\u001b[43m)\u001b[49m\n\u001b[0;32m   1982\u001b[0m best_solution, best_solution_fitness, best_match_idx \u001b[38;5;241m=\u001b[39m \u001b[38;5;28mself\u001b[39m\u001b[38;5;241m.\u001b[39mbest_solution(\n\u001b[0;32m   1983\u001b[0m     pop_fitness\u001b[38;5;241m=\u001b[39m\u001b[38;5;28mself\u001b[39m\u001b[38;5;241m.\u001b[39mlast_generation_fitness)\n\u001b[0;32m   1985\u001b[0m \u001b[38;5;66;03m# Appending the best solution in the current generation to the best_solutions list.\u001b[39;00m\n",
      "File \u001b[1;32mc:\\Users\\jiray\\.conda\\envs\\pattern_project\\lib\\site-packages\\pygad\\pygad.py:1708\u001b[0m, in \u001b[0;36mGA.cal_pop_fitness\u001b[1;34m(self)\u001b[0m\n\u001b[0;32m   1705\u001b[0m \u001b[38;5;28;01melse\u001b[39;00m:\n\u001b[0;32m   1706\u001b[0m     \u001b[38;5;66;03m# Check if batch processing is used. If not, then calculate this missing fitness value.\u001b[39;00m\n\u001b[0;32m   1707\u001b[0m     \u001b[38;5;28;01mif\u001b[39;00m \u001b[38;5;28mself\u001b[39m\u001b[38;5;241m.\u001b[39mfitness_batch_size \u001b[38;5;129;01min\u001b[39;00m [\u001b[38;5;241m1\u001b[39m, \u001b[38;5;28;01mNone\u001b[39;00m]:\n\u001b[1;32m-> 1708\u001b[0m         fitness \u001b[38;5;241m=\u001b[39m \u001b[38;5;28;43mself\u001b[39;49m\u001b[38;5;241;43m.\u001b[39;49m\u001b[43mfitness_func\u001b[49m\u001b[43m(\u001b[49m\u001b[38;5;28;43mself\u001b[39;49m\u001b[43m,\u001b[49m\u001b[43m \u001b[49m\u001b[43msol\u001b[49m\u001b[43m,\u001b[49m\u001b[43m \u001b[49m\u001b[43msol_idx\u001b[49m\u001b[43m)\u001b[49m\n\u001b[0;32m   1709\u001b[0m         \u001b[38;5;28;01mif\u001b[39;00m \u001b[38;5;28mtype\u001b[39m(fitness) \u001b[38;5;129;01min\u001b[39;00m GA\u001b[38;5;241m.\u001b[39msupported_int_float_types:\n\u001b[0;32m   1710\u001b[0m             \u001b[38;5;66;03m# The fitness function returns a single numeric value.\u001b[39;00m\n\u001b[0;32m   1711\u001b[0m             \u001b[38;5;66;03m# This is a single-objective optimization problem.\u001b[39;00m\n\u001b[0;32m   1712\u001b[0m             \u001b[38;5;28;01mpass\u001b[39;00m\n",
      "Cell \u001b[1;32mIn[7], line 4\u001b[0m, in \u001b[0;36mfitness_func\u001b[1;34m(ga_instance, solution, solution_idx)\u001b[0m\n\u001b[0;32m      1\u001b[0m \u001b[38;5;28;01mdef\u001b[39;00m \u001b[38;5;21mfitness_func\u001b[39m(ga_instance, solution, solution_idx):\n\u001b[0;32m      2\u001b[0m     \u001b[38;5;66;03m# print(solution)\u001b[39;00m\n\u001b[0;32m      3\u001b[0m     king_value, man_value, advance_bonus, safety_bonus \u001b[38;5;241m=\u001b[39m solution\n\u001b[1;32m----> 4\u001b[0m     n_wins, n_draws, n_losses \u001b[38;5;241m=\u001b[39m \u001b[43mrun_experiment\u001b[49m\u001b[43m(\u001b[49m\u001b[43mking_value\u001b[49m\u001b[43m,\u001b[49m\u001b[43m \u001b[49m\u001b[43mman_value\u001b[49m\u001b[43m,\u001b[49m\u001b[43m \u001b[49m\u001b[43madvance_bonus\u001b[49m\u001b[43m,\u001b[49m\u001b[43m \u001b[49m\u001b[43msafety_bonus\u001b[49m\u001b[43m,\u001b[49m\u001b[43m \u001b[49m\u001b[43mn_matches\u001b[49m\u001b[38;5;241;43m=\u001b[39;49m\u001b[38;5;241;43m10\u001b[39;49m\u001b[43m,\u001b[49m\u001b[43m \u001b[49m\u001b[43mmax_game_len\u001b[49m\u001b[38;5;241;43m=\u001b[39;49m\u001b[38;5;241;43m100\u001b[39;49m\u001b[43m,\u001b[49m\u001b[43m \u001b[49m\u001b[43mtime_limit\u001b[49m\u001b[38;5;241;43m=\u001b[39;49m\u001b[38;5;241;43m5\u001b[39;49m\u001b[43m)\u001b[49m\n\u001b[0;32m      6\u001b[0m     \u001b[38;5;66;03m# save the fitness value in the solutions list\u001b[39;00m\n\u001b[0;32m      7\u001b[0m     fitness \u001b[38;5;241m=\u001b[39m n_wins\u001b[38;5;241m-\u001b[39mn_losses\n",
      "Cell \u001b[1;32mIn[6], line 25\u001b[0m, in \u001b[0;36mrun_experiment\u001b[1;34m(king_value, man_value, advance_bonus, safety_bonus, n_matches, max_game_len, time_limit)\u001b[0m\n\u001b[0;32m     17\u001b[0m white_player \u001b[38;5;241m=\u001b[39m MinimaxPlayer(\n\u001b[0;32m     18\u001b[0m     \u001b[38;5;124m'\u001b[39m\u001b[38;5;124mwhite\u001b[39m\u001b[38;5;124m'\u001b[39m,\n\u001b[0;32m     19\u001b[0m     value_func\u001b[38;5;241m=\u001b[39mpartial(first_order_adv, \u001b[38;5;124m'\u001b[39m\u001b[38;5;124mwhite\u001b[39m\u001b[38;5;124m'\u001b[39m, \u001b[38;5;241m200\u001b[39m, \u001b[38;5;241m100\u001b[39m, \u001b[38;5;241m20\u001b[39m, \u001b[38;5;241m0\u001b[39m),\n\u001b[0;32m     20\u001b[0m     rollout_order_gen\u001b[38;5;241m=\u001b[39m\u001b[38;5;28;01mlambda\u001b[39;00m x: \u001b[38;5;28msorted\u001b[39m(x),\n\u001b[0;32m     21\u001b[0m     search_depth\u001b[38;5;241m=\u001b[39m\u001b[38;5;241m4\u001b[39m,\n\u001b[0;32m     22\u001b[0m     seed\u001b[38;5;241m=\u001b[39mi)\n\u001b[0;32m     24\u001b[0m \u001b[38;5;66;03m#modify this function to put our RL model as white\u001b[39;00m\n\u001b[1;32m---> 25\u001b[0m winner \u001b[38;5;241m=\u001b[39m \u001b[43mplay_a_game\u001b[49m\u001b[43m(\u001b[49m\u001b[43mch\u001b[49m\u001b[43m,\u001b[49m\u001b[43m \u001b[49m\u001b[43mblack_player\u001b[49m\u001b[38;5;241;43m.\u001b[39;49m\u001b[43mnext_move\u001b[49m\u001b[43m,\u001b[49m\u001b[43m \u001b[49m\u001b[43mwhite_player\u001b[49m\u001b[38;5;241;43m.\u001b[39;49m\u001b[43mnext_move\u001b[49m\u001b[43m,\u001b[49m\u001b[43m \u001b[49m\u001b[43mmax_game_len\u001b[49m\u001b[43m,\u001b[49m\u001b[43m \u001b[49m\u001b[43mis_show_detail\u001b[49m\u001b[38;5;241;43m=\u001b[39;49m\u001b[38;5;28;43;01mFalse\u001b[39;49;00m\u001b[43m)\u001b[49m\n\u001b[0;32m     27\u001b[0m \u001b[38;5;66;03m# Keep scores\u001b[39;00m\n\u001b[0;32m     28\u001b[0m n_wins \u001b[38;5;241m+\u001b[39m\u001b[38;5;241m=\u001b[39m \u001b[38;5;241m1\u001b[39m \u001b[38;5;28;01mif\u001b[39;00m winner \u001b[38;5;241m==\u001b[39m \u001b[38;5;124m'\u001b[39m\u001b[38;5;124mblack\u001b[39m\u001b[38;5;124m'\u001b[39m \u001b[38;5;28;01melse\u001b[39;00m \u001b[38;5;241m0\u001b[39m\n",
      "File \u001b[1;32mc:\\Users\\jiray\\Desktop\\pattern_term_project_2024\\gym-checkers-for-thai\\checkers\\agents\\baselines.py:58\u001b[0m, in \u001b[0;36mplay_a_game\u001b[1;34m(checkers, black_player_move, white_player_move, max_plies, is_show_detail)\u001b[0m\n\u001b[0;32m     56\u001b[0m     \u001b[38;5;28mprint\u001b[39m(\u001b[38;5;124m\"\u001b[39m\u001b[38;5;132;01m%i\u001b[39;00m\u001b[38;5;124m legal moves \u001b[39m\u001b[38;5;132;01m%r\u001b[39;00m\u001b[38;5;124m\"\u001b[39m \u001b[38;5;241m%\u001b[39m (\u001b[38;5;28mlen\u001b[39m(moves), moves))\n\u001b[0;32m     57\u001b[0m \u001b[38;5;66;03m# Select a legal move for the current player\u001b[39;00m\n\u001b[1;32m---> 58\u001b[0m from_sq, to_sq \u001b[38;5;241m=\u001b[39m \u001b[43mplayers\u001b[49m\u001b[43m[\u001b[49m\u001b[43mturn\u001b[49m\u001b[43m]\u001b[49m\u001b[43m(\u001b[49m\u001b[43mboard\u001b[49m\u001b[43m,\u001b[49m\u001b[43m \u001b[49m\u001b[43mlast_moved_piece\u001b[49m\u001b[43m)\u001b[49m\n\u001b[0;32m     59\u001b[0m \u001b[38;5;28;01mif\u001b[39;00m is_show_detail:\n\u001b[0;32m     60\u001b[0m     \u001b[38;5;28mprint\u001b[39m(turn, \u001b[38;5;124m\"\u001b[39m\u001b[38;5;124mmoved \u001b[39m\u001b[38;5;132;01m%i\u001b[39;00m\u001b[38;5;124m, \u001b[39m\u001b[38;5;132;01m%i\u001b[39;00m\u001b[38;5;124m\"\u001b[39m \u001b[38;5;241m%\u001b[39m (from_sq, to_sq))\n",
      "File \u001b[1;32mc:\\Users\\jiray\\Desktop\\pattern_term_project_2024\\gym-checkers-for-thai\\checkers\\agents\\alpha_beta.py:76\u001b[0m, in \u001b[0;36mMinimaxPlayer.next_move\u001b[1;34m(self, board, last_moved_piece)\u001b[0m\n\u001b[0;32m     73\u001b[0m     best_move \u001b[38;5;241m=\u001b[39m moves[\u001b[38;5;241m0\u001b[39m]\n\u001b[0;32m     74\u001b[0m \u001b[38;5;28;01melse\u001b[39;00m:\n\u001b[0;32m     75\u001b[0m     \u001b[38;5;66;03m# More than one legal move\u001b[39;00m\n\u001b[1;32m---> 76\u001b[0m     value, best_move \u001b[38;5;241m=\u001b[39m \u001b[38;5;28;43mself\u001b[39;49m\u001b[38;5;241;43m.\u001b[39;49m\u001b[43mminimax_search\u001b[49m\u001b[43m(\u001b[49m\n\u001b[0;32m     77\u001b[0m \u001b[43m        \u001b[49m\u001b[43mstate\u001b[49m\u001b[43m,\u001b[49m\u001b[43m \u001b[49m\u001b[43mMinimaxPlayer\u001b[49m\u001b[38;5;241;43m.\u001b[39;49m\u001b[43mloss\u001b[49m\u001b[43m,\u001b[49m\u001b[43m \u001b[49m\u001b[43mMinimaxPlayer\u001b[49m\u001b[38;5;241;43m.\u001b[39;49m\u001b[43mwin\u001b[49m\u001b[43m,\u001b[49m\u001b[43m \u001b[49m\u001b[38;5;28;43mself\u001b[39;49m\u001b[38;5;241;43m.\u001b[39;49m\u001b[43msearch_depth\u001b[49m\u001b[43m,\u001b[49m\u001b[43m \u001b[49m\u001b[38;5;28;43mset\u001b[39;49m\u001b[43m(\u001b[49m\u001b[43m)\u001b[49m\n\u001b[0;32m     78\u001b[0m \u001b[43m    \u001b[49m\u001b[43m)\u001b[49m\n\u001b[0;32m     79\u001b[0m     \u001b[38;5;66;03m# print('move', move, 'value', value)\u001b[39;00m\n\u001b[0;32m     80\u001b[0m dt \u001b[38;5;241m=\u001b[39m time\u001b[38;5;241m.\u001b[39mtime() \u001b[38;5;241m-\u001b[39m t0\n",
      "File \u001b[1;32mc:\\Users\\jiray\\Desktop\\pattern_term_project_2024\\gym-checkers-for-thai\\checkers\\agents\\alpha_beta.py:146\u001b[0m, in \u001b[0;36mMinimaxPlayer.minimax_search\u001b[1;34m(self, state, alpha, beta, depth, visited_states)\u001b[0m\n\u001b[0;32m    144\u001b[0m next_state \u001b[38;5;241m=\u001b[39m \u001b[38;5;28mself\u001b[39m\u001b[38;5;241m.\u001b[39msimulator\u001b[38;5;241m.\u001b[39msave_state()\n\u001b[0;32m    145\u001b[0m \u001b[38;5;66;03m# Evaluate the next position\u001b[39;00m\n\u001b[1;32m--> 146\u001b[0m value, _ \u001b[38;5;241m=\u001b[39m \u001b[38;5;28;43mself\u001b[39;49m\u001b[38;5;241;43m.\u001b[39;49m\u001b[43mminimax_search\u001b[49m\u001b[43m(\u001b[49m\n\u001b[0;32m    147\u001b[0m \u001b[43m    \u001b[49m\u001b[43mnext_state\u001b[49m\u001b[43m,\u001b[49m\n\u001b[0;32m    148\u001b[0m \u001b[43m    \u001b[49m\u001b[43mextreme_value\u001b[49m\u001b[43m,\u001b[49m\n\u001b[0;32m    149\u001b[0m \u001b[43m    \u001b[49m\u001b[43mbeta\u001b[49m\u001b[43m,\u001b[49m\n\u001b[0;32m    150\u001b[0m \u001b[43m    \u001b[49m\u001b[43mdepth\u001b[49m\u001b[38;5;241;43m=\u001b[39;49m\u001b[43mdepth\u001b[49m\u001b[43m \u001b[49m\u001b[38;5;241;43m-\u001b[39;49m\u001b[43m \u001b[49m\u001b[38;5;241;43m1\u001b[39;49m\u001b[43m,\u001b[49m\n\u001b[0;32m    151\u001b[0m \u001b[43m    \u001b[49m\u001b[43mvisited_states\u001b[49m\u001b[38;5;241;43m=\u001b[39;49m\u001b[43mvisited_states\u001b[49m\u001b[43m,\u001b[49m\n\u001b[0;32m    152\u001b[0m \u001b[43m\u001b[49m\u001b[43m)\u001b[49m\n\u001b[0;32m    153\u001b[0m \u001b[38;5;66;03m# Update the max value\u001b[39;00m\n\u001b[0;32m    154\u001b[0m \u001b[38;5;28;01mif\u001b[39;00m extreme_value \u001b[38;5;241m<\u001b[39m value:\n",
      "File \u001b[1;32mc:\\Users\\jiray\\Desktop\\pattern_term_project_2024\\gym-checkers-for-thai\\checkers\\agents\\alpha_beta.py:173\u001b[0m, in \u001b[0;36mMinimaxPlayer.minimax_search\u001b[1;34m(self, state, alpha, beta, depth, visited_states)\u001b[0m\n\u001b[0;32m    171\u001b[0m next_state \u001b[38;5;241m=\u001b[39m \u001b[38;5;28mself\u001b[39m\u001b[38;5;241m.\u001b[39msimulator\u001b[38;5;241m.\u001b[39msave_state()\n\u001b[0;32m    172\u001b[0m \u001b[38;5;66;03m# Evaluate the next position\u001b[39;00m\n\u001b[1;32m--> 173\u001b[0m value, _ \u001b[38;5;241m=\u001b[39m \u001b[38;5;28;43mself\u001b[39;49m\u001b[38;5;241;43m.\u001b[39;49m\u001b[43mminimax_search\u001b[49m\u001b[43m(\u001b[49m\n\u001b[0;32m    174\u001b[0m \u001b[43m    \u001b[49m\u001b[43mnext_state\u001b[49m\u001b[43m,\u001b[49m\n\u001b[0;32m    175\u001b[0m \u001b[43m    \u001b[49m\u001b[43malpha\u001b[49m\u001b[43m,\u001b[49m\n\u001b[0;32m    176\u001b[0m \u001b[43m    \u001b[49m\u001b[43mextreme_value\u001b[49m\u001b[43m,\u001b[49m\n\u001b[0;32m    177\u001b[0m \u001b[43m    \u001b[49m\u001b[43mdepth\u001b[49m\u001b[38;5;241;43m=\u001b[39;49m\u001b[43mdepth\u001b[49m\u001b[43m \u001b[49m\u001b[38;5;241;43m-\u001b[39;49m\u001b[43m \u001b[49m\u001b[38;5;241;43m1\u001b[39;49m\u001b[43m,\u001b[49m\n\u001b[0;32m    178\u001b[0m \u001b[43m    \u001b[49m\u001b[43mvisited_states\u001b[49m\u001b[38;5;241;43m=\u001b[39;49m\u001b[43mvisited_states\u001b[49m\u001b[43m,\u001b[49m\n\u001b[0;32m    179\u001b[0m \u001b[43m\u001b[49m\u001b[43m)\u001b[49m\n\u001b[0;32m    180\u001b[0m \u001b[38;5;66;03m# Update the min value\u001b[39;00m\n\u001b[0;32m    181\u001b[0m \u001b[38;5;28;01mif\u001b[39;00m value \u001b[38;5;241m<\u001b[39m extreme_value:\n",
      "File \u001b[1;32mc:\\Users\\jiray\\Desktop\\pattern_term_project_2024\\gym-checkers-for-thai\\checkers\\agents\\alpha_beta.py:139\u001b[0m, in \u001b[0;36mMinimaxPlayer.minimax_search\u001b[1;34m(self, state, alpha, beta, depth, visited_states)\u001b[0m\n\u001b[0;32m    136\u001b[0m extreme_value \u001b[38;5;241m=\u001b[39m alpha\n\u001b[0;32m    137\u001b[0m \u001b[38;5;28;01mfor\u001b[39;00m move \u001b[38;5;129;01min\u001b[39;00m ordered_moves:\n\u001b[0;32m    138\u001b[0m     \u001b[38;5;66;03m# print(self.color == turn, depth, move, state[0])\u001b[39;00m\n\u001b[1;32m--> 139\u001b[0m     \u001b[38;5;28;43mself\u001b[39;49m\u001b[38;5;241;43m.\u001b[39;49m\u001b[43msimulator\u001b[49m\u001b[38;5;241;43m.\u001b[39;49m\u001b[43mrestore_state\u001b[49m\u001b[43m(\u001b[49m\u001b[43mstate\u001b[49m\u001b[43m)\u001b[49m\n\u001b[0;32m    140\u001b[0m     next_board, next_turn, next_last_moved_piece, next_moves, winner \u001b[38;5;241m=\u001b[39m (\n\u001b[0;32m    141\u001b[0m         \u001b[38;5;28mself\u001b[39m\u001b[38;5;241m.\u001b[39msimulator\u001b[38;5;241m.\u001b[39mmove(\u001b[38;5;241m*\u001b[39mmove, skip_check\u001b[38;5;241m=\u001b[39m\u001b[38;5;28;01mTrue\u001b[39;00m)\n\u001b[0;32m    142\u001b[0m     )\n\u001b[0;32m    143\u001b[0m     \u001b[38;5;66;03m# print(self.color == turn, depth, move, next_board)\u001b[39;00m\n",
      "File \u001b[1;32mc:\\Users\\jiray\\Desktop\\pattern_term_project_2024\\gym-checkers-for-thai\\checkers\\game.py:413\u001b[0m, in \u001b[0;36mCheckers.restore_state\u001b[1;34m(self, state)\u001b[0m\n\u001b[0;32m    411\u001b[0m \u001b[38;5;28;01mdef\u001b[39;00m \u001b[38;5;21mrestore_state\u001b[39m(\u001b[38;5;28mself\u001b[39m, state):\n\u001b[0;32m    412\u001b[0m     board, turn, last_moved_piece \u001b[38;5;241m=\u001b[39m state\n\u001b[1;32m--> 413\u001b[0m     \u001b[38;5;28mself\u001b[39m\u001b[38;5;241m.\u001b[39m_board \u001b[38;5;241m=\u001b[39m \u001b[43mcopy\u001b[49m\u001b[38;5;241;43m.\u001b[39;49m\u001b[43mdeepcopy\u001b[49m\u001b[43m(\u001b[49m\u001b[43mboard\u001b[49m\u001b[43m)\u001b[49m\n\u001b[0;32m    414\u001b[0m     \u001b[38;5;28mself\u001b[39m\u001b[38;5;241m.\u001b[39m_turn \u001b[38;5;241m=\u001b[39m turn\n\u001b[0;32m    415\u001b[0m     \u001b[38;5;28mself\u001b[39m\u001b[38;5;241m.\u001b[39m_last_moved_piece \u001b[38;5;241m=\u001b[39m last_moved_piece\n",
      "File \u001b[1;32mc:\\Users\\jiray\\.conda\\envs\\pattern_project\\lib\\copy.py:146\u001b[0m, in \u001b[0;36mdeepcopy\u001b[1;34m(x, memo, _nil)\u001b[0m\n\u001b[0;32m    144\u001b[0m copier \u001b[38;5;241m=\u001b[39m _deepcopy_dispatch\u001b[38;5;241m.\u001b[39mget(\u001b[38;5;28mcls\u001b[39m)\n\u001b[0;32m    145\u001b[0m \u001b[38;5;28;01mif\u001b[39;00m copier \u001b[38;5;129;01mis\u001b[39;00m \u001b[38;5;129;01mnot\u001b[39;00m \u001b[38;5;28;01mNone\u001b[39;00m:\n\u001b[1;32m--> 146\u001b[0m     y \u001b[38;5;241m=\u001b[39m \u001b[43mcopier\u001b[49m\u001b[43m(\u001b[49m\u001b[43mx\u001b[49m\u001b[43m,\u001b[49m\u001b[43m \u001b[49m\u001b[43mmemo\u001b[49m\u001b[43m)\u001b[49m\n\u001b[0;32m    147\u001b[0m \u001b[38;5;28;01melse\u001b[39;00m:\n\u001b[0;32m    148\u001b[0m     \u001b[38;5;28;01mif\u001b[39;00m \u001b[38;5;28missubclass\u001b[39m(\u001b[38;5;28mcls\u001b[39m, \u001b[38;5;28mtype\u001b[39m):\n",
      "File \u001b[1;32mc:\\Users\\jiray\\.conda\\envs\\pattern_project\\lib\\copy.py:230\u001b[0m, in \u001b[0;36m_deepcopy_dict\u001b[1;34m(x, memo, deepcopy)\u001b[0m\n\u001b[0;32m    228\u001b[0m memo[\u001b[38;5;28mid\u001b[39m(x)] \u001b[38;5;241m=\u001b[39m y\n\u001b[0;32m    229\u001b[0m \u001b[38;5;28;01mfor\u001b[39;00m key, value \u001b[38;5;129;01min\u001b[39;00m x\u001b[38;5;241m.\u001b[39mitems():\n\u001b[1;32m--> 230\u001b[0m     y[deepcopy(key, memo)] \u001b[38;5;241m=\u001b[39m \u001b[43mdeepcopy\u001b[49m\u001b[43m(\u001b[49m\u001b[43mvalue\u001b[49m\u001b[43m,\u001b[49m\u001b[43m \u001b[49m\u001b[43mmemo\u001b[49m\u001b[43m)\u001b[49m\n\u001b[0;32m    231\u001b[0m \u001b[38;5;28;01mreturn\u001b[39;00m y\n",
      "File \u001b[1;32mc:\\Users\\jiray\\.conda\\envs\\pattern_project\\lib\\copy.py:146\u001b[0m, in \u001b[0;36mdeepcopy\u001b[1;34m(x, memo, _nil)\u001b[0m\n\u001b[0;32m    144\u001b[0m copier \u001b[38;5;241m=\u001b[39m _deepcopy_dispatch\u001b[38;5;241m.\u001b[39mget(\u001b[38;5;28mcls\u001b[39m)\n\u001b[0;32m    145\u001b[0m \u001b[38;5;28;01mif\u001b[39;00m copier \u001b[38;5;129;01mis\u001b[39;00m \u001b[38;5;129;01mnot\u001b[39;00m \u001b[38;5;28;01mNone\u001b[39;00m:\n\u001b[1;32m--> 146\u001b[0m     y \u001b[38;5;241m=\u001b[39m \u001b[43mcopier\u001b[49m\u001b[43m(\u001b[49m\u001b[43mx\u001b[49m\u001b[43m,\u001b[49m\u001b[43m \u001b[49m\u001b[43mmemo\u001b[49m\u001b[43m)\u001b[49m\n\u001b[0;32m    147\u001b[0m \u001b[38;5;28;01melse\u001b[39;00m:\n\u001b[0;32m    148\u001b[0m     \u001b[38;5;28;01mif\u001b[39;00m \u001b[38;5;28missubclass\u001b[39m(\u001b[38;5;28mcls\u001b[39m, \u001b[38;5;28mtype\u001b[39m):\n",
      "File \u001b[1;32mc:\\Users\\jiray\\.conda\\envs\\pattern_project\\lib\\copy.py:230\u001b[0m, in \u001b[0;36m_deepcopy_dict\u001b[1;34m(x, memo, deepcopy)\u001b[0m\n\u001b[0;32m    228\u001b[0m memo[\u001b[38;5;28mid\u001b[39m(x)] \u001b[38;5;241m=\u001b[39m y\n\u001b[0;32m    229\u001b[0m \u001b[38;5;28;01mfor\u001b[39;00m key, value \u001b[38;5;129;01min\u001b[39;00m x\u001b[38;5;241m.\u001b[39mitems():\n\u001b[1;32m--> 230\u001b[0m     y[deepcopy(key, memo)] \u001b[38;5;241m=\u001b[39m \u001b[43mdeepcopy\u001b[49m\u001b[43m(\u001b[49m\u001b[43mvalue\u001b[49m\u001b[43m,\u001b[49m\u001b[43m \u001b[49m\u001b[43mmemo\u001b[49m\u001b[43m)\u001b[49m\n\u001b[0;32m    231\u001b[0m \u001b[38;5;28;01mreturn\u001b[39;00m y\n",
      "File \u001b[1;32mc:\\Users\\jiray\\.conda\\envs\\pattern_project\\lib\\copy.py:172\u001b[0m, in \u001b[0;36mdeepcopy\u001b[1;34m(x, memo, _nil)\u001b[0m\n\u001b[0;32m    170\u001b[0m                 y \u001b[38;5;241m=\u001b[39m x\n\u001b[0;32m    171\u001b[0m             \u001b[38;5;28;01melse\u001b[39;00m:\n\u001b[1;32m--> 172\u001b[0m                 y \u001b[38;5;241m=\u001b[39m \u001b[43m_reconstruct\u001b[49m\u001b[43m(\u001b[49m\u001b[43mx\u001b[49m\u001b[43m,\u001b[49m\u001b[43m \u001b[49m\u001b[43mmemo\u001b[49m\u001b[43m,\u001b[49m\u001b[43m \u001b[49m\u001b[38;5;241;43m*\u001b[39;49m\u001b[43mrv\u001b[49m\u001b[43m)\u001b[49m\n\u001b[0;32m    174\u001b[0m \u001b[38;5;66;03m# If is its own copy, don't memoize.\u001b[39;00m\n\u001b[0;32m    175\u001b[0m \u001b[38;5;28;01mif\u001b[39;00m y \u001b[38;5;129;01mis\u001b[39;00m \u001b[38;5;129;01mnot\u001b[39;00m x:\n",
      "File \u001b[1;32mc:\\Users\\jiray\\.conda\\envs\\pattern_project\\lib\\copy.py:264\u001b[0m, in \u001b[0;36m_reconstruct\u001b[1;34m(x, memo, func, args, state, listiter, dictiter, deepcopy)\u001b[0m\n\u001b[0;32m    262\u001b[0m \u001b[38;5;28;01mif\u001b[39;00m deep \u001b[38;5;129;01mand\u001b[39;00m args:\n\u001b[0;32m    263\u001b[0m     args \u001b[38;5;241m=\u001b[39m (deepcopy(arg, memo) \u001b[38;5;28;01mfor\u001b[39;00m arg \u001b[38;5;129;01min\u001b[39;00m args)\n\u001b[1;32m--> 264\u001b[0m y \u001b[38;5;241m=\u001b[39m \u001b[43mfunc\u001b[49m\u001b[43m(\u001b[49m\u001b[38;5;241;43m*\u001b[39;49m\u001b[43margs\u001b[49m\u001b[43m)\u001b[49m\n\u001b[0;32m    265\u001b[0m \u001b[38;5;28;01mif\u001b[39;00m deep:\n\u001b[0;32m    266\u001b[0m     memo[\u001b[38;5;28mid\u001b[39m(x)] \u001b[38;5;241m=\u001b[39m y\n",
      "File \u001b[1;32mc:\\Users\\jiray\\.conda\\envs\\pattern_project\\lib\\copy.py:263\u001b[0m, in \u001b[0;36m<genexpr>\u001b[1;34m(.0)\u001b[0m\n\u001b[0;32m    261\u001b[0m deep \u001b[38;5;241m=\u001b[39m memo \u001b[38;5;129;01mis\u001b[39;00m \u001b[38;5;129;01mnot\u001b[39;00m \u001b[38;5;28;01mNone\u001b[39;00m\n\u001b[0;32m    262\u001b[0m \u001b[38;5;28;01mif\u001b[39;00m deep \u001b[38;5;129;01mand\u001b[39;00m args:\n\u001b[1;32m--> 263\u001b[0m     args \u001b[38;5;241m=\u001b[39m (\u001b[43mdeepcopy\u001b[49m\u001b[43m(\u001b[49m\u001b[43marg\u001b[49m\u001b[43m,\u001b[49m\u001b[43m \u001b[49m\u001b[43mmemo\u001b[49m\u001b[43m)\u001b[49m \u001b[38;5;28;01mfor\u001b[39;00m arg \u001b[38;5;129;01min\u001b[39;00m args)\n\u001b[0;32m    264\u001b[0m y \u001b[38;5;241m=\u001b[39m func(\u001b[38;5;241m*\u001b[39margs)\n\u001b[0;32m    265\u001b[0m \u001b[38;5;28;01mif\u001b[39;00m deep:\n",
      "File \u001b[1;32mc:\\Users\\jiray\\.conda\\envs\\pattern_project\\lib\\copy.py:138\u001b[0m, in \u001b[0;36mdeepcopy\u001b[1;34m(x, memo, _nil)\u001b[0m\n\u001b[0;32m    135\u001b[0m     memo \u001b[38;5;241m=\u001b[39m {}\n\u001b[0;32m    137\u001b[0m d \u001b[38;5;241m=\u001b[39m \u001b[38;5;28mid\u001b[39m(x)\n\u001b[1;32m--> 138\u001b[0m y \u001b[38;5;241m=\u001b[39m \u001b[43mmemo\u001b[49m\u001b[38;5;241;43m.\u001b[39;49m\u001b[43mget\u001b[49m(d, _nil)\n\u001b[0;32m    139\u001b[0m \u001b[38;5;28;01mif\u001b[39;00m y \u001b[38;5;129;01mis\u001b[39;00m \u001b[38;5;129;01mnot\u001b[39;00m _nil:\n\u001b[0;32m    140\u001b[0m     \u001b[38;5;28;01mreturn\u001b[39;00m y\n",
      "\u001b[1;31mKeyboardInterrupt\u001b[0m: "
     ]
    }
   ],
   "source": [
    "ga_instance.run()"
   ]
  },
  {
   "cell_type": "code",
   "execution_count": null,
   "metadata": {},
   "outputs": [],
   "source": [
    "solution, solution_fitness, solution_idx = ga_instance.best_solution()\n",
    "\n",
    "print(\"Parameters of the best solution : {solution}\".format(solution=solution))\n",
    "print(\"Fitness value of the best solution = {solution_fitness}\".format(solution_fitness=solution_fitness))"
   ]
  },
  {
   "cell_type": "code",
   "execution_count": 17,
   "metadata": {},
   "outputs": [
    {
     "name": "stdout",
     "output_type": "stream",
     "text": [
      "Found the target file solution_log/sol_with_fitness_10.npy\n",
      "Loaded the solution [86.031558   54.56841273 87.21072336 25.85066098]\n"
     ]
    },
    {
     "name": "stderr",
     "output_type": "stream",
     "text": [
      "100%|██████████| 10/10 [02:36<00:00, 15.68s/matches, draws=0, losses=0, wins=10]"
     ]
    },
    {
     "name": "stdout",
     "output_type": "stream",
     "text": [
      "king_value = 86.0315580019275\n",
      "man_value = 54.56841272935628\n",
      "advance_bonus = 87.2107233584983\n",
      "safety_bonus = 25.850660978749083\n"
     ]
    },
    {
     "name": "stderr",
     "output_type": "stream",
     "text": [
      "\n"
     ]
    }
   ],
   "source": [
    "target_file = 'solution_log/sol_with_fitness_10.npy'\n",
    "if os.path.exists(target_file):\n",
    "    print(f\"Found the target file {target_file}\")\n",
    "    solution = np.load(target_file)\n",
    "    print(f\"Loaded the solution {solution}\")\n",
    "    king_value, man_value, advance_bonus, safety_bonus = solution\n",
    "    run_experiment(king_value, man_value, advance_bonus, safety_bonus, n_matches=10, max_game_len=100, time_limit=5)\n",
    "    print(f'king_value = {king_value}')\n",
    "    print(f'man_value = {man_value}')\n",
    "    print(f'advance_bonus = {advance_bonus}')\n",
    "    print(f'safety_bonus = {safety_bonus}')\n",
    "else:\n",
    "    print(f\"Could not find the target file {target_file}\")"
   ]
  }
 ],
 "metadata": {
  "kernelspec": {
   "display_name": "pattern_project",
   "language": "python",
   "name": "python3"
  },
  "language_info": {
   "codemirror_mode": {
    "name": "ipython",
    "version": 3
   },
   "file_extension": ".py",
   "mimetype": "text/x-python",
   "name": "python",
   "nbconvert_exporter": "python",
   "pygments_lexer": "ipython3",
   "version": "3.9.19"
  }
 },
 "nbformat": 4,
 "nbformat_minor": 2
}
