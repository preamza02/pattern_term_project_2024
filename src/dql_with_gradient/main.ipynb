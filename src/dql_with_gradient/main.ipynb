{
 "cells": [
  {
   "cell_type": "code",
   "execution_count": 1,
   "metadata": {},
   "outputs": [],
   "source": [
    "import os\n",
    "from pathlib import Path\n",
    "import sys\n",
    "import time\n",
    "from functools import partial\n",
    "from tqdm import tqdm\n",
    "import copy\n",
    "import  random\n",
    "\n",
    "from pprint import pprint\n",
    "\n",
    "pwd = Path(os.getcwd())\n",
    "sys.path.append(str(pwd.parent.parent / \"gym-checkers-for-thai\"))"
   ]
  },
  {
   "cell_type": "code",
   "execution_count": 2,
   "metadata": {},
   "outputs": [],
   "source": [
    "from checkers.agents.baselines import play_a_game, RandomPlayer\n",
    "from checkers.game import Checkers\n",
    "from checkers.agents import Player\n",
    "from checkers.agents.alpha_beta import MinimaxPlayer, first_order_adv\n",
    "\n",
    "from player import GDQLPlayer\n",
    "from model import GDQL\n",
    "\n",
    "import mlflow\n",
    "import mlflow.pytorch\n",
    "\n",
    "import matplotlib.pyplot as plt\n",
    "import seaborn as sns\n",
    "\n",
    "import torch\n",
    "\n",
    "import numpy as np"
   ]
  },
  {
   "cell_type": "code",
   "execution_count": 3,
   "metadata": {},
   "outputs": [],
   "source": [
    "MINIMAX_SEARCH_DEPTH = 2\n",
    "WEIGHT_FOLDER = pwd / \"weights\" / f\"vs_depth_{MINIMAX_SEARCH_DEPTH}\"\n",
    "\n",
    "N_EPISODES = 100\n",
    "N_MATCHES_PER_EPS = 50\n",
    "\n",
    "REWARD_DISCOUNT_FACTOR = 0.9\n",
    "\n",
    "EPSILON = 0.9\n",
    "EPSILON_DECAY_FACTOR = 0.999\n",
    "EPSILON_MIN = 0.05\n",
    "\n",
    "BATCH_SIZE = 256\n",
    "\n",
    "TARGET_UPDATE = 3 # update target network every TARGET_UPDATE episodes\n",
    "LEARNING_RATE = 1e-3"
   ]
  },
  {
   "cell_type": "code",
   "execution_count": 4,
   "metadata": {},
   "outputs": [],
   "source": [
    "try:\n",
    "    mlflow.end_run()\n",
    "except:\n",
    "    pass"
   ]
  },
  {
   "cell_type": "code",
   "execution_count": 5,
   "metadata": {},
   "outputs": [
    {
     "data": {
      "text/plain": [
       "0.001"
      ]
     },
     "execution_count": 5,
     "metadata": {},
     "output_type": "execute_result"
    }
   ],
   "source": [
    "mlflow.set_experiment(\"DQL with gredient descent\")\n",
    "mlflow.start_run()\n",
    "mlflow.log_param(\"MINIMAX_SEARCH_DEPTH\", MINIMAX_SEARCH_DEPTH)\n",
    "mlflow.log_param(\"N_EPISODES\", N_EPISODES)\n",
    "mlflow.log_param(\"N_MATCHES_PER_EPS\", N_MATCHES_PER_EPS)\n",
    "mlflow.log_param(\"REWARD_DISCOUNT_FACTOR\", REWARD_DISCOUNT_FACTOR)\n",
    "mlflow.log_param(\"EPSILON\", EPSILON)\n",
    "mlflow.log_param(\"EPSILON_DECAY_FACTOR\", EPSILON_DECAY_FACTOR)\n",
    "mlflow.log_param(\"EPSILON_MIN\", EPSILON_MIN)\n",
    "mlflow.log_param(\"BATCH_SIZE\", BATCH_SIZE)\n",
    "mlflow.log_param(\"TARGET_UPDATE\", TARGET_UPDATE)\n",
    "mlflow.log_param(\"LEARNING_RATE\", LEARNING_RATE)"
   ]
  },
  {
   "cell_type": "code",
   "execution_count": 6,
   "metadata": {},
   "outputs": [],
   "source": [
    "# Create the folder if it doesn't exist\n",
    "WEIGHT_FOLDER.mkdir(parents=True, exist_ok=True)"
   ]
  },
  {
   "cell_type": "code",
   "execution_count": 7,
   "metadata": {},
   "outputs": [
    {
     "name": "stdout",
     "output_type": "stream",
     "text": [
      "No weights found, starting from scratch\n"
     ]
    },
    {
     "name": "stderr",
     "output_type": "stream",
     "text": [
      "Episode 1: 100%|██████████| 50/50 [03:50<00:00,  4.61s/matches, loss=84.2, win_rate=0]\n"
     ]
    },
    {
     "name": "stdout",
     "output_type": "stream",
     "text": [
      "\tTarget model updated\n",
      "\tWins: 0, Losses: 50, Draws: 0\n"
     ]
    },
    {
     "name": "stderr",
     "output_type": "stream",
     "text": [
      "Episode 2: 100%|██████████| 50/50 [03:41<00:00,  4.44s/matches, loss=59.1, win_rate=0]\n"
     ]
    },
    {
     "name": "stdout",
     "output_type": "stream",
     "text": [
      "\tWins: 0, Losses: 50, Draws: 0\n"
     ]
    },
    {
     "name": "stderr",
     "output_type": "stream",
     "text": [
      "Episode 3: 100%|██████████| 50/50 [03:56<00:00,  4.72s/matches, loss=43.4, win_rate=0]\n"
     ]
    },
    {
     "name": "stdout",
     "output_type": "stream",
     "text": [
      "\tWins: 0, Losses: 50, Draws: 0\n"
     ]
    },
    {
     "name": "stderr",
     "output_type": "stream",
     "text": [
      "Episode 4: 100%|██████████| 50/50 [03:48<00:00,  4.56s/matches, loss=39, win_rate=0]  \n"
     ]
    },
    {
     "name": "stdout",
     "output_type": "stream",
     "text": [
      "\tTarget model updated\n",
      "\tWins: 0, Losses: 50, Draws: 0\n"
     ]
    },
    {
     "name": "stderr",
     "output_type": "stream",
     "text": [
      "Episode 5: 100%|██████████| 50/50 [04:13<00:00,  5.08s/matches, loss=21.3, win_rate=0]\n"
     ]
    },
    {
     "name": "stdout",
     "output_type": "stream",
     "text": [
      "\tWins: 0, Losses: 50, Draws: 0\n"
     ]
    },
    {
     "name": "stderr",
     "output_type": "stream",
     "text": [
      "Episode 6: 100%|██████████| 50/50 [03:49<00:00,  4.59s/matches, loss=13.8, win_rate=0]\n"
     ]
    },
    {
     "name": "stdout",
     "output_type": "stream",
     "text": [
      "\tWins: 0, Losses: 50, Draws: 0\n"
     ]
    },
    {
     "name": "stderr",
     "output_type": "stream",
     "text": [
      "Episode 7: 100%|██████████| 50/50 [04:11<00:00,  5.02s/matches, loss=65, win_rate=0.02]    \n"
     ]
    },
    {
     "name": "stdout",
     "output_type": "stream",
     "text": [
      "\tTarget model updated\n",
      "\tWins: 1, Losses: 49, Draws: 0\n",
      "\tNew max win rate: 0.02\n"
     ]
    },
    {
     "name": "stderr",
     "output_type": "stream",
     "text": [
      "Episode 8: 100%|██████████| 50/50 [04:41<00:00,  5.64s/matches, loss=12.3, win_rate=0]\n"
     ]
    },
    {
     "name": "stdout",
     "output_type": "stream",
     "text": [
      "\tWins: 0, Losses: 50, Draws: 0\n"
     ]
    },
    {
     "name": "stderr",
     "output_type": "stream",
     "text": [
      "Episode 9: 100%|██████████| 50/50 [04:07<00:00,  4.96s/matches, loss=19.8, win_rate=0]\n"
     ]
    },
    {
     "name": "stdout",
     "output_type": "stream",
     "text": [
      "\tWins: 0, Losses: 50, Draws: 0\n"
     ]
    },
    {
     "name": "stderr",
     "output_type": "stream",
     "text": [
      "Episode 10: 100%|██████████| 50/50 [04:02<00:00,  4.85s/matches, loss=52.5, win_rate=0.02]  \n"
     ]
    },
    {
     "name": "stdout",
     "output_type": "stream",
     "text": [
      "\tTarget model updated\n",
      "\tWins: 1, Losses: 48, Draws: 1\n"
     ]
    },
    {
     "name": "stderr",
     "output_type": "stream",
     "text": [
      "Episode 11: 100%|██████████| 50/50 [04:04<00:00,  4.89s/matches, loss=12.4, win_rate=0]\n"
     ]
    },
    {
     "name": "stdout",
     "output_type": "stream",
     "text": [
      "\tWins: 0, Losses: 50, Draws: 0\n"
     ]
    },
    {
     "name": "stderr",
     "output_type": "stream",
     "text": [
      "Episode 12: 100%|██████████| 50/50 [04:12<00:00,  5.04s/matches, loss=15.3, win_rate=0]\n"
     ]
    },
    {
     "name": "stdout",
     "output_type": "stream",
     "text": [
      "\tWins: 0, Losses: 50, Draws: 0\n"
     ]
    },
    {
     "name": "stderr",
     "output_type": "stream",
     "text": [
      "Episode 13: 100%|██████████| 50/50 [03:54<00:00,  4.70s/matches, loss=16.1, win_rate=0]\n"
     ]
    },
    {
     "name": "stdout",
     "output_type": "stream",
     "text": [
      "\tTarget model updated\n",
      "\tWins: 0, Losses: 50, Draws: 0\n"
     ]
    },
    {
     "name": "stderr",
     "output_type": "stream",
     "text": [
      "Episode 14: 100%|██████████| 50/50 [04:05<00:00,  4.90s/matches, loss=13.3, win_rate=0.02]  \n"
     ]
    },
    {
     "name": "stdout",
     "output_type": "stream",
     "text": [
      "\tWins: 1, Losses: 49, Draws: 0\n"
     ]
    },
    {
     "name": "stderr",
     "output_type": "stream",
     "text": [
      "Episode 15: 100%|██████████| 50/50 [04:08<00:00,  4.97s/matches, loss=14, win_rate=0]  \n"
     ]
    },
    {
     "name": "stdout",
     "output_type": "stream",
     "text": [
      "\tWins: 0, Losses: 50, Draws: 0\n"
     ]
    },
    {
     "name": "stderr",
     "output_type": "stream",
     "text": [
      "Episode 16: 100%|██████████| 50/50 [04:04<00:00,  4.88s/matches, loss=8.85, win_rate=0]\n"
     ]
    },
    {
     "name": "stdout",
     "output_type": "stream",
     "text": [
      "\tTarget model updated\n",
      "\tWins: 0, Losses: 50, Draws: 0\n"
     ]
    },
    {
     "name": "stderr",
     "output_type": "stream",
     "text": [
      "Episode 17: 100%|██████████| 50/50 [04:10<00:00,  5.02s/matches, loss=11.2, win_rate=0]\n"
     ]
    },
    {
     "name": "stdout",
     "output_type": "stream",
     "text": [
      "\tWins: 0, Losses: 49, Draws: 1\n"
     ]
    },
    {
     "name": "stderr",
     "output_type": "stream",
     "text": [
      "Episode 18: 100%|██████████| 50/50 [04:23<00:00,  5.28s/matches, loss=14.2, win_rate=0]\n"
     ]
    },
    {
     "name": "stdout",
     "output_type": "stream",
     "text": [
      "\tWins: 0, Losses: 49, Draws: 1\n"
     ]
    },
    {
     "name": "stderr",
     "output_type": "stream",
     "text": [
      "Episode 19: 100%|██████████| 50/50 [04:04<00:00,  4.88s/matches, loss=8.96, win_rate=0]\n"
     ]
    },
    {
     "name": "stdout",
     "output_type": "stream",
     "text": [
      "\tTarget model updated\n",
      "\tWins: 0, Losses: 50, Draws: 0\n"
     ]
    },
    {
     "name": "stderr",
     "output_type": "stream",
     "text": [
      "Episode 20: 100%|██████████| 50/50 [04:05<00:00,  4.91s/matches, loss=8.14, win_rate=0]\n"
     ]
    },
    {
     "name": "stdout",
     "output_type": "stream",
     "text": [
      "\tWins: 0, Losses: 50, Draws: 0\n"
     ]
    },
    {
     "name": "stderr",
     "output_type": "stream",
     "text": [
      "Episode 21: 100%|██████████| 50/50 [04:32<00:00,  5.45s/matches, loss=9.25, win_rate=0]\n"
     ]
    },
    {
     "name": "stdout",
     "output_type": "stream",
     "text": [
      "\tWins: 0, Losses: 50, Draws: 0\n"
     ]
    },
    {
     "name": "stderr",
     "output_type": "stream",
     "text": [
      "Episode 22: 100%|██████████| 50/50 [04:15<00:00,  5.12s/matches, loss=9.75, win_rate=0]\n"
     ]
    },
    {
     "name": "stdout",
     "output_type": "stream",
     "text": [
      "\tTarget model updated\n",
      "\tWins: 0, Losses: 49, Draws: 1\n"
     ]
    },
    {
     "name": "stderr",
     "output_type": "stream",
     "text": [
      "Episode 23: 100%|██████████| 50/50 [04:07<00:00,  4.96s/matches, loss=11.1, win_rate=0]\n"
     ]
    },
    {
     "name": "stdout",
     "output_type": "stream",
     "text": [
      "\tWins: 0, Losses: 50, Draws: 0\n"
     ]
    },
    {
     "name": "stderr",
     "output_type": "stream",
     "text": [
      "Episode 24: 100%|██████████| 50/50 [03:58<00:00,  4.77s/matches, loss=7.68, win_rate=0]\n"
     ]
    },
    {
     "name": "stdout",
     "output_type": "stream",
     "text": [
      "\tWins: 0, Losses: 50, Draws: 0\n"
     ]
    },
    {
     "name": "stderr",
     "output_type": "stream",
     "text": [
      "Episode 25: 100%|██████████| 50/50 [04:12<00:00,  5.05s/matches, loss=9.67, win_rate=0]\n"
     ]
    },
    {
     "name": "stdout",
     "output_type": "stream",
     "text": [
      "\tTarget model updated\n",
      "\tWins: 0, Losses: 50, Draws: 0\n"
     ]
    },
    {
     "name": "stderr",
     "output_type": "stream",
     "text": [
      "Episode 26: 100%|██████████| 50/50 [04:21<00:00,  5.23s/matches, loss=13.5, win_rate=0]\n"
     ]
    },
    {
     "name": "stdout",
     "output_type": "stream",
     "text": [
      "\tWins: 0, Losses: 50, Draws: 0\n"
     ]
    },
    {
     "name": "stderr",
     "output_type": "stream",
     "text": [
      "Episode 27: 100%|██████████| 50/50 [03:59<00:00,  4.80s/matches, loss=10.8, win_rate=0]\n"
     ]
    },
    {
     "name": "stdout",
     "output_type": "stream",
     "text": [
      "\tWins: 0, Losses: 50, Draws: 0\n"
     ]
    },
    {
     "name": "stderr",
     "output_type": "stream",
     "text": [
      "Episode 28: 100%|██████████| 50/50 [04:02<00:00,  4.86s/matches, loss=8.12, win_rate=0]\n"
     ]
    },
    {
     "name": "stdout",
     "output_type": "stream",
     "text": [
      "\tTarget model updated\n",
      "\tWins: 0, Losses: 50, Draws: 0\n"
     ]
    },
    {
     "name": "stderr",
     "output_type": "stream",
     "text": [
      "Episode 29: 100%|██████████| 50/50 [03:51<00:00,  4.63s/matches, loss=11.9, win_rate=0]\n"
     ]
    },
    {
     "name": "stdout",
     "output_type": "stream",
     "text": [
      "\tWins: 0, Losses: 50, Draws: 0\n"
     ]
    },
    {
     "name": "stderr",
     "output_type": "stream",
     "text": [
      "Episode 30: 100%|██████████| 50/50 [03:57<00:00,  4.74s/matches, loss=8.47, win_rate=0]\n"
     ]
    },
    {
     "name": "stdout",
     "output_type": "stream",
     "text": [
      "\tWins: 0, Losses: 50, Draws: 0\n"
     ]
    },
    {
     "name": "stderr",
     "output_type": "stream",
     "text": [
      "Episode 31: 100%|██████████| 50/50 [03:54<00:00,  4.69s/matches, loss=8.17, win_rate=0]\n"
     ]
    },
    {
     "name": "stdout",
     "output_type": "stream",
     "text": [
      "\tTarget model updated\n",
      "\tWins: 0, Losses: 50, Draws: 0\n"
     ]
    },
    {
     "name": "stderr",
     "output_type": "stream",
     "text": [
      "Episode 32: 100%|██████████| 50/50 [03:58<00:00,  4.76s/matches, loss=9.16, win_rate=0]\n"
     ]
    },
    {
     "name": "stdout",
     "output_type": "stream",
     "text": [
      "\tWins: 0, Losses: 50, Draws: 0\n"
     ]
    },
    {
     "name": "stderr",
     "output_type": "stream",
     "text": [
      "Episode 33: 100%|██████████| 50/50 [03:58<00:00,  4.77s/matches, loss=6.19, win_rate=0]\n"
     ]
    },
    {
     "name": "stdout",
     "output_type": "stream",
     "text": [
      "\tWins: 0, Losses: 50, Draws: 0\n"
     ]
    },
    {
     "name": "stderr",
     "output_type": "stream",
     "text": [
      "Episode 34: 100%|██████████| 50/50 [04:03<00:00,  4.88s/matches, loss=12.2, win_rate=0]\n"
     ]
    },
    {
     "name": "stdout",
     "output_type": "stream",
     "text": [
      "\tTarget model updated\n",
      "\tWins: 0, Losses: 50, Draws: 0\n"
     ]
    },
    {
     "name": "stderr",
     "output_type": "stream",
     "text": [
      "Episode 35: 100%|██████████| 50/50 [03:54<00:00,  4.69s/matches, loss=7.21, win_rate=0]\n"
     ]
    },
    {
     "name": "stdout",
     "output_type": "stream",
     "text": [
      "\tWins: 0, Losses: 50, Draws: 0\n"
     ]
    },
    {
     "name": "stderr",
     "output_type": "stream",
     "text": [
      "Episode 36: 100%|██████████| 50/50 [04:02<00:00,  4.86s/matches, loss=6.45, win_rate=0]\n"
     ]
    },
    {
     "name": "stdout",
     "output_type": "stream",
     "text": [
      "\tWins: 0, Losses: 50, Draws: 0\n"
     ]
    },
    {
     "name": "stderr",
     "output_type": "stream",
     "text": [
      "Episode 37: 100%|██████████| 50/50 [03:59<00:00,  4.79s/matches, loss=4.96, win_rate=0]\n"
     ]
    },
    {
     "name": "stdout",
     "output_type": "stream",
     "text": [
      "\tTarget model updated\n",
      "\tWins: 0, Losses: 50, Draws: 0\n"
     ]
    },
    {
     "name": "stderr",
     "output_type": "stream",
     "text": [
      "Episode 38: 100%|██████████| 50/50 [04:08<00:00,  4.98s/matches, loss=8.24, win_rate=0]\n"
     ]
    },
    {
     "name": "stdout",
     "output_type": "stream",
     "text": [
      "\tWins: 0, Losses: 50, Draws: 0\n"
     ]
    },
    {
     "name": "stderr",
     "output_type": "stream",
     "text": [
      "Episode 39: 100%|██████████| 50/50 [04:01<00:00,  4.82s/matches, loss=9.84, win_rate=0]\n"
     ]
    },
    {
     "name": "stdout",
     "output_type": "stream",
     "text": [
      "\tWins: 0, Losses: 50, Draws: 0\n"
     ]
    },
    {
     "name": "stderr",
     "output_type": "stream",
     "text": [
      "Episode 40: 100%|██████████| 50/50 [04:01<00:00,  4.84s/matches, loss=11.3, win_rate=0]\n"
     ]
    },
    {
     "name": "stdout",
     "output_type": "stream",
     "text": [
      "\tTarget model updated\n",
      "\tWins: 0, Losses: 50, Draws: 0\n"
     ]
    },
    {
     "name": "stderr",
     "output_type": "stream",
     "text": [
      "Episode 41: 100%|██████████| 50/50 [03:56<00:00,  4.74s/matches, loss=6.83, win_rate=0]\n"
     ]
    },
    {
     "name": "stdout",
     "output_type": "stream",
     "text": [
      "\tWins: 0, Losses: 50, Draws: 0\n"
     ]
    },
    {
     "name": "stderr",
     "output_type": "stream",
     "text": [
      "Episode 42: 100%|██████████| 50/50 [04:09<00:00,  4.99s/matches, loss=8.51, win_rate=0]\n"
     ]
    },
    {
     "name": "stdout",
     "output_type": "stream",
     "text": [
      "\tWins: 0, Losses: 50, Draws: 0\n"
     ]
    },
    {
     "name": "stderr",
     "output_type": "stream",
     "text": [
      "Episode 43: 100%|██████████| 50/50 [03:58<00:00,  4.77s/matches, loss=9.34, win_rate=0]\n"
     ]
    },
    {
     "name": "stdout",
     "output_type": "stream",
     "text": [
      "\tTarget model updated\n",
      "\tWins: 0, Losses: 50, Draws: 0\n"
     ]
    },
    {
     "name": "stderr",
     "output_type": "stream",
     "text": [
      "Episode 44: 100%|██████████| 50/50 [03:49<00:00,  4.60s/matches, loss=6.9, win_rate=0] \n"
     ]
    },
    {
     "name": "stdout",
     "output_type": "stream",
     "text": [
      "\tWins: 0, Losses: 50, Draws: 0\n"
     ]
    },
    {
     "name": "stderr",
     "output_type": "stream",
     "text": [
      "Episode 45: 100%|██████████| 50/50 [03:59<00:00,  4.79s/matches, loss=7.01, win_rate=0]\n"
     ]
    },
    {
     "name": "stdout",
     "output_type": "stream",
     "text": [
      "\tWins: 0, Losses: 50, Draws: 0\n"
     ]
    },
    {
     "name": "stderr",
     "output_type": "stream",
     "text": [
      "Episode 46: 100%|██████████| 50/50 [04:08<00:00,  4.96s/matches, loss=5.24, win_rate=0]\n"
     ]
    },
    {
     "name": "stdout",
     "output_type": "stream",
     "text": [
      "\tTarget model updated\n",
      "\tWins: 0, Losses: 50, Draws: 0\n"
     ]
    },
    {
     "name": "stderr",
     "output_type": "stream",
     "text": [
      "Episode 47: 100%|██████████| 50/50 [04:05<00:00,  4.92s/matches, loss=7.64, win_rate=0]\n"
     ]
    },
    {
     "name": "stdout",
     "output_type": "stream",
     "text": [
      "\tWins: 0, Losses: 50, Draws: 0\n"
     ]
    },
    {
     "name": "stderr",
     "output_type": "stream",
     "text": [
      "Episode 48: 100%|██████████| 50/50 [03:59<00:00,  4.79s/matches, loss=7.7, win_rate=0] \n"
     ]
    },
    {
     "name": "stdout",
     "output_type": "stream",
     "text": [
      "\tWins: 0, Losses: 50, Draws: 0\n"
     ]
    },
    {
     "name": "stderr",
     "output_type": "stream",
     "text": [
      "Episode 49: 100%|██████████| 50/50 [04:03<00:00,  4.87s/matches, loss=6.36, win_rate=0]\n"
     ]
    },
    {
     "name": "stdout",
     "output_type": "stream",
     "text": [
      "\tTarget model updated\n",
      "\tWins: 0, Losses: 50, Draws: 0\n"
     ]
    },
    {
     "name": "stderr",
     "output_type": "stream",
     "text": [
      "Episode 50: 100%|██████████| 50/50 [03:49<00:00,  4.59s/matches, loss=8.46, win_rate=0]\n"
     ]
    },
    {
     "name": "stdout",
     "output_type": "stream",
     "text": [
      "\tWins: 0, Losses: 50, Draws: 0\n"
     ]
    },
    {
     "name": "stderr",
     "output_type": "stream",
     "text": [
      "Episode 51: 100%|██████████| 50/50 [03:57<00:00,  4.75s/matches, loss=7.82, win_rate=0]\n"
     ]
    },
    {
     "name": "stdout",
     "output_type": "stream",
     "text": [
      "\tWins: 0, Losses: 50, Draws: 0\n"
     ]
    },
    {
     "name": "stderr",
     "output_type": "stream",
     "text": [
      "Episode 52: 100%|██████████| 50/50 [04:15<00:00,  5.11s/matches, loss=6.3, win_rate=0] \n"
     ]
    },
    {
     "name": "stdout",
     "output_type": "stream",
     "text": [
      "\tTarget model updated\n",
      "\tWins: 0, Losses: 50, Draws: 0\n"
     ]
    },
    {
     "name": "stderr",
     "output_type": "stream",
     "text": [
      "Episode 53: 100%|██████████| 50/50 [04:04<00:00,  4.88s/matches, loss=7.38, win_rate=0]\n"
     ]
    },
    {
     "name": "stdout",
     "output_type": "stream",
     "text": [
      "\tWins: 0, Losses: 50, Draws: 0\n"
     ]
    },
    {
     "name": "stderr",
     "output_type": "stream",
     "text": [
      "Episode 54: 100%|██████████| 50/50 [04:01<00:00,  4.83s/matches, loss=9.97, win_rate=0]\n"
     ]
    },
    {
     "name": "stdout",
     "output_type": "stream",
     "text": [
      "\tWins: 0, Losses: 50, Draws: 0\n"
     ]
    },
    {
     "name": "stderr",
     "output_type": "stream",
     "text": [
      "Episode 55: 100%|██████████| 50/50 [04:07<00:00,  4.94s/matches, loss=7.39, win_rate=0]\n"
     ]
    },
    {
     "name": "stdout",
     "output_type": "stream",
     "text": [
      "\tTarget model updated\n",
      "\tWins: 0, Losses: 50, Draws: 0\n"
     ]
    },
    {
     "name": "stderr",
     "output_type": "stream",
     "text": [
      "Episode 56: 100%|██████████| 50/50 [03:58<00:00,  4.77s/matches, loss=8.63, win_rate=0]\n"
     ]
    },
    {
     "name": "stdout",
     "output_type": "stream",
     "text": [
      "\tWins: 0, Losses: 50, Draws: 0\n"
     ]
    },
    {
     "name": "stderr",
     "output_type": "stream",
     "text": [
      "Episode 57: 100%|██████████| 50/50 [03:56<00:00,  4.73s/matches, loss=8.09, win_rate=0]\n"
     ]
    },
    {
     "name": "stdout",
     "output_type": "stream",
     "text": [
      "\tWins: 0, Losses: 50, Draws: 0\n"
     ]
    },
    {
     "name": "stderr",
     "output_type": "stream",
     "text": [
      "Episode 58: 100%|██████████| 50/50 [03:47<00:00,  4.56s/matches, loss=6.72, win_rate=0]\n"
     ]
    },
    {
     "name": "stdout",
     "output_type": "stream",
     "text": [
      "\tTarget model updated\n",
      "\tWins: 0, Losses: 50, Draws: 0\n"
     ]
    },
    {
     "name": "stderr",
     "output_type": "stream",
     "text": [
      "Episode 59: 100%|██████████| 50/50 [03:54<00:00,  4.70s/matches, loss=10.9, win_rate=0]\n"
     ]
    },
    {
     "name": "stdout",
     "output_type": "stream",
     "text": [
      "\tWins: 0, Losses: 50, Draws: 0\n"
     ]
    },
    {
     "name": "stderr",
     "output_type": "stream",
     "text": [
      "Episode 60: 100%|██████████| 50/50 [03:54<00:00,  4.70s/matches, loss=8.97, win_rate=0]\n"
     ]
    },
    {
     "name": "stdout",
     "output_type": "stream",
     "text": [
      "\tWins: 0, Losses: 50, Draws: 0\n"
     ]
    },
    {
     "name": "stderr",
     "output_type": "stream",
     "text": [
      "Episode 61: 100%|██████████| 50/50 [03:57<00:00,  4.76s/matches, loss=11.5, win_rate=0.02]  \n"
     ]
    },
    {
     "name": "stdout",
     "output_type": "stream",
     "text": [
      "\tTarget model updated\n",
      "\tWins: 1, Losses: 49, Draws: 0\n"
     ]
    },
    {
     "name": "stderr",
     "output_type": "stream",
     "text": [
      "Episode 62: 100%|██████████| 50/50 [04:15<00:00,  5.10s/matches, loss=10.1, win_rate=0]\n"
     ]
    },
    {
     "name": "stdout",
     "output_type": "stream",
     "text": [
      "\tWins: 0, Losses: 49, Draws: 1\n"
     ]
    },
    {
     "name": "stderr",
     "output_type": "stream",
     "text": [
      "Episode 63: 100%|██████████| 50/50 [04:03<00:00,  4.87s/matches, loss=8.62, win_rate=0]\n"
     ]
    },
    {
     "name": "stdout",
     "output_type": "stream",
     "text": [
      "\tWins: 0, Losses: 49, Draws: 1\n"
     ]
    },
    {
     "name": "stderr",
     "output_type": "stream",
     "text": [
      "Episode 64: 100%|██████████| 50/50 [04:06<00:00,  4.92s/matches, loss=10.7, win_rate=0]\n"
     ]
    },
    {
     "name": "stdout",
     "output_type": "stream",
     "text": [
      "\tTarget model updated\n",
      "\tWins: 0, Losses: 50, Draws: 0\n"
     ]
    },
    {
     "name": "stderr",
     "output_type": "stream",
     "text": [
      "Episode 65: 100%|██████████| 50/50 [03:49<00:00,  4.59s/matches, loss=9.81, win_rate=0]\n"
     ]
    },
    {
     "name": "stdout",
     "output_type": "stream",
     "text": [
      "\tWins: 0, Losses: 50, Draws: 0\n"
     ]
    },
    {
     "name": "stderr",
     "output_type": "stream",
     "text": [
      "Episode 66: 100%|██████████| 50/50 [03:53<00:00,  4.68s/matches, loss=6.97, win_rate=0]\n"
     ]
    },
    {
     "name": "stdout",
     "output_type": "stream",
     "text": [
      "\tWins: 0, Losses: 50, Draws: 0\n"
     ]
    },
    {
     "name": "stderr",
     "output_type": "stream",
     "text": [
      "Episode 67: 100%|██████████| 50/50 [04:11<00:00,  5.03s/matches, loss=6.68, win_rate=0]\n"
     ]
    },
    {
     "name": "stdout",
     "output_type": "stream",
     "text": [
      "\tTarget model updated\n",
      "\tWins: 0, Losses: 50, Draws: 0\n"
     ]
    },
    {
     "name": "stderr",
     "output_type": "stream",
     "text": [
      "Episode 68: 100%|██████████| 50/50 [04:10<00:00,  5.01s/matches, loss=7.95, win_rate=0]\n"
     ]
    },
    {
     "name": "stdout",
     "output_type": "stream",
     "text": [
      "\tWins: 0, Losses: 50, Draws: 0\n"
     ]
    },
    {
     "name": "stderr",
     "output_type": "stream",
     "text": [
      "Episode 69: 100%|██████████| 50/50 [04:06<00:00,  4.93s/matches, loss=9.04, win_rate=0]\n"
     ]
    },
    {
     "name": "stdout",
     "output_type": "stream",
     "text": [
      "\tWins: 0, Losses: 50, Draws: 0\n"
     ]
    },
    {
     "name": "stderr",
     "output_type": "stream",
     "text": [
      "Episode 70: 100%|██████████| 50/50 [04:09<00:00,  4.98s/matches, loss=13.5, win_rate=0]\n"
     ]
    },
    {
     "name": "stdout",
     "output_type": "stream",
     "text": [
      "\tTarget model updated\n",
      "\tWins: 0, Losses: 50, Draws: 0\n"
     ]
    },
    {
     "name": "stderr",
     "output_type": "stream",
     "text": [
      "Episode 71: 100%|██████████| 50/50 [04:02<00:00,  4.85s/matches, loss=8, win_rate=0]   \n"
     ]
    },
    {
     "name": "stdout",
     "output_type": "stream",
     "text": [
      "\tWins: 0, Losses: 50, Draws: 0\n"
     ]
    },
    {
     "name": "stderr",
     "output_type": "stream",
     "text": [
      "Episode 72: 100%|██████████| 50/50 [03:51<00:00,  4.62s/matches, loss=6.47, win_rate=0]\n"
     ]
    },
    {
     "name": "stdout",
     "output_type": "stream",
     "text": [
      "\tWins: 0, Losses: 50, Draws: 0\n"
     ]
    },
    {
     "name": "stderr",
     "output_type": "stream",
     "text": [
      "Episode 73: 100%|██████████| 50/50 [03:57<00:00,  4.75s/matches, loss=7.79, win_rate=0]\n"
     ]
    },
    {
     "name": "stdout",
     "output_type": "stream",
     "text": [
      "\tTarget model updated\n",
      "\tWins: 0, Losses: 50, Draws: 0\n"
     ]
    },
    {
     "name": "stderr",
     "output_type": "stream",
     "text": [
      "Episode 74: 100%|██████████| 50/50 [04:05<00:00,  4.91s/matches, loss=11.5, win_rate=0]\n"
     ]
    },
    {
     "name": "stdout",
     "output_type": "stream",
     "text": [
      "\tWins: 0, Losses: 50, Draws: 0\n"
     ]
    },
    {
     "name": "stderr",
     "output_type": "stream",
     "text": [
      "Episode 75: 100%|██████████| 50/50 [04:05<00:00,  4.91s/matches, loss=8.79, win_rate=0]\n"
     ]
    },
    {
     "name": "stdout",
     "output_type": "stream",
     "text": [
      "\tWins: 0, Losses: 50, Draws: 0\n"
     ]
    },
    {
     "name": "stderr",
     "output_type": "stream",
     "text": [
      "Episode 76: 100%|██████████| 50/50 [03:53<00:00,  4.67s/matches, loss=5.26, win_rate=0]\n"
     ]
    },
    {
     "name": "stdout",
     "output_type": "stream",
     "text": [
      "\tTarget model updated\n",
      "\tWins: 0, Losses: 50, Draws: 0\n"
     ]
    },
    {
     "name": "stderr",
     "output_type": "stream",
     "text": [
      "Episode 77: 100%|██████████| 50/50 [04:03<00:00,  4.87s/matches, loss=9.61, win_rate=0.04]  \n"
     ]
    },
    {
     "name": "stdout",
     "output_type": "stream",
     "text": [
      "\tWins: 2, Losses: 48, Draws: 0\n",
      "\tNew max win rate: 0.04\n"
     ]
    },
    {
     "name": "stderr",
     "output_type": "stream",
     "text": [
      "c:\\Users\\jiray\\.conda\\envs\\pattern_project\\lib\\site-packages\\_distutils_hack\\__init__.py:18: UserWarning: Distutils was imported before Setuptools, but importing Setuptools also replaces the `distutils` module in `sys.modules`. This may lead to undesirable behaviors or errors. To avoid these issues, avoid using distutils directly, ensure that setuptools is installed in the traditional way (e.g. not an editable install), and/or make sure that setuptools is always imported before distutils.\n",
      "  warnings.warn(\n",
      "c:\\Users\\jiray\\.conda\\envs\\pattern_project\\lib\\site-packages\\_distutils_hack\\__init__.py:33: UserWarning: Setuptools is replacing distutils.\n",
      "  warnings.warn(\"Setuptools is replacing distutils.\")\n",
      "Episode 78: 100%|██████████| 50/50 [03:45<00:00,  4.51s/matches, loss=8.53, win_rate=0]\n"
     ]
    },
    {
     "name": "stdout",
     "output_type": "stream",
     "text": [
      "\tWins: 0, Losses: 50, Draws: 0\n"
     ]
    },
    {
     "name": "stderr",
     "output_type": "stream",
     "text": [
      "Episode 79: 100%|██████████| 50/50 [04:06<00:00,  4.94s/matches, loss=9.51, win_rate=0]\n"
     ]
    },
    {
     "name": "stdout",
     "output_type": "stream",
     "text": [
      "\tTarget model updated\n",
      "\tWins: 0, Losses: 50, Draws: 0\n"
     ]
    },
    {
     "name": "stderr",
     "output_type": "stream",
     "text": [
      "Episode 80: 100%|██████████| 50/50 [04:14<00:00,  5.08s/matches, loss=9.98, win_rate=0.02]  \n"
     ]
    },
    {
     "name": "stdout",
     "output_type": "stream",
     "text": [
      "\tWins: 1, Losses: 49, Draws: 0\n"
     ]
    },
    {
     "name": "stderr",
     "output_type": "stream",
     "text": [
      "Episode 81: 100%|██████████| 50/50 [04:05<00:00,  4.92s/matches, loss=11.1, win_rate=0]\n"
     ]
    },
    {
     "name": "stdout",
     "output_type": "stream",
     "text": [
      "\tWins: 0, Losses: 50, Draws: 0\n"
     ]
    },
    {
     "name": "stderr",
     "output_type": "stream",
     "text": [
      "Episode 82: 100%|██████████| 50/50 [04:01<00:00,  4.84s/matches, loss=9.41, win_rate=0]\n"
     ]
    },
    {
     "name": "stdout",
     "output_type": "stream",
     "text": [
      "\tTarget model updated\n",
      "\tWins: 0, Losses: 50, Draws: 0\n"
     ]
    },
    {
     "name": "stderr",
     "output_type": "stream",
     "text": [
      "Episode 83: 100%|██████████| 50/50 [04:00<00:00,  4.81s/matches, loss=11.2, win_rate=0]\n"
     ]
    },
    {
     "name": "stdout",
     "output_type": "stream",
     "text": [
      "\tWins: 0, Losses: 50, Draws: 0\n"
     ]
    },
    {
     "name": "stderr",
     "output_type": "stream",
     "text": [
      "Episode 84: 100%|██████████| 50/50 [04:02<00:00,  4.84s/matches, loss=8.59, win_rate=0]\n"
     ]
    },
    {
     "name": "stdout",
     "output_type": "stream",
     "text": [
      "\tWins: 0, Losses: 50, Draws: 0\n"
     ]
    },
    {
     "name": "stderr",
     "output_type": "stream",
     "text": [
      "Episode 85: 100%|██████████| 50/50 [03:48<00:00,  4.57s/matches, loss=14.2, win_rate=0]\n"
     ]
    },
    {
     "name": "stdout",
     "output_type": "stream",
     "text": [
      "\tTarget model updated\n",
      "\tWins: 0, Losses: 50, Draws: 0\n"
     ]
    },
    {
     "name": "stderr",
     "output_type": "stream",
     "text": [
      "Episode 86: 100%|██████████| 50/50 [04:13<00:00,  5.08s/matches, loss=12.3, win_rate=0.02]  \n"
     ]
    },
    {
     "name": "stdout",
     "output_type": "stream",
     "text": [
      "\tWins: 1, Losses: 49, Draws: 0\n"
     ]
    },
    {
     "name": "stderr",
     "output_type": "stream",
     "text": [
      "Episode 87: 100%|██████████| 50/50 [04:06<00:00,  4.92s/matches, loss=7.11, win_rate=0]\n"
     ]
    },
    {
     "name": "stdout",
     "output_type": "stream",
     "text": [
      "\tWins: 0, Losses: 50, Draws: 0\n"
     ]
    },
    {
     "name": "stderr",
     "output_type": "stream",
     "text": [
      "Episode 88: 100%|██████████| 50/50 [04:06<00:00,  4.93s/matches, loss=8.54, win_rate=0]\n"
     ]
    },
    {
     "name": "stdout",
     "output_type": "stream",
     "text": [
      "\tTarget model updated\n",
      "\tWins: 0, Losses: 50, Draws: 0\n"
     ]
    },
    {
     "name": "stderr",
     "output_type": "stream",
     "text": [
      "Episode 89: 100%|██████████| 50/50 [04:07<00:00,  4.95s/matches, loss=11.1, win_rate=0]\n"
     ]
    },
    {
     "name": "stdout",
     "output_type": "stream",
     "text": [
      "\tWins: 0, Losses: 50, Draws: 0\n"
     ]
    },
    {
     "name": "stderr",
     "output_type": "stream",
     "text": [
      "Episode 90: 100%|██████████| 50/50 [04:05<00:00,  4.90s/matches, loss=9.59, win_rate=0]\n"
     ]
    },
    {
     "name": "stdout",
     "output_type": "stream",
     "text": [
      "\tWins: 0, Losses: 50, Draws: 0\n"
     ]
    },
    {
     "name": "stderr",
     "output_type": "stream",
     "text": [
      "Episode 91: 100%|██████████| 50/50 [03:51<00:00,  4.63s/matches, loss=7.79, win_rate=0]\n"
     ]
    },
    {
     "name": "stdout",
     "output_type": "stream",
     "text": [
      "\tTarget model updated\n",
      "\tWins: 0, Losses: 50, Draws: 0\n"
     ]
    },
    {
     "name": "stderr",
     "output_type": "stream",
     "text": [
      "Episode 92: 100%|██████████| 50/50 [04:13<00:00,  5.07s/matches, loss=12.2, win_rate=0.02]  \n"
     ]
    },
    {
     "name": "stdout",
     "output_type": "stream",
     "text": [
      "\tWins: 1, Losses: 49, Draws: 0\n"
     ]
    },
    {
     "name": "stderr",
     "output_type": "stream",
     "text": [
      "Episode 93: 100%|██████████| 50/50 [04:05<00:00,  4.91s/matches, loss=11.9, win_rate=0]\n"
     ]
    },
    {
     "name": "stdout",
     "output_type": "stream",
     "text": [
      "\tWins: 0, Losses: 50, Draws: 0\n"
     ]
    },
    {
     "name": "stderr",
     "output_type": "stream",
     "text": [
      "Episode 94: 100%|██████████| 50/50 [04:15<00:00,  5.10s/matches, loss=8.85, win_rate=0]\n"
     ]
    },
    {
     "name": "stdout",
     "output_type": "stream",
     "text": [
      "\tTarget model updated\n",
      "\tWins: 0, Losses: 50, Draws: 0\n"
     ]
    },
    {
     "name": "stderr",
     "output_type": "stream",
     "text": [
      "Episode 95: 100%|██████████| 50/50 [04:02<00:00,  4.85s/matches, loss=7.21, win_rate=0.02]  \n"
     ]
    },
    {
     "name": "stdout",
     "output_type": "stream",
     "text": [
      "\tWins: 1, Losses: 49, Draws: 0\n"
     ]
    },
    {
     "name": "stderr",
     "output_type": "stream",
     "text": [
      "Episode 96: 100%|██████████| 50/50 [04:14<00:00,  5.09s/matches, loss=8.61, win_rate=0]\n"
     ]
    },
    {
     "name": "stdout",
     "output_type": "stream",
     "text": [
      "\tWins: 0, Losses: 50, Draws: 0\n"
     ]
    },
    {
     "name": "stderr",
     "output_type": "stream",
     "text": [
      "Episode 97: 100%|██████████| 50/50 [04:02<00:00,  4.85s/matches, loss=21, win_rate=0]  \n"
     ]
    },
    {
     "name": "stdout",
     "output_type": "stream",
     "text": [
      "\tTarget model updated\n",
      "\tWins: 0, Losses: 49, Draws: 1\n"
     ]
    },
    {
     "name": "stderr",
     "output_type": "stream",
     "text": [
      "Episode 98: 100%|██████████| 50/50 [04:08<00:00,  4.97s/matches, loss=6.99, win_rate=0]\n"
     ]
    },
    {
     "name": "stdout",
     "output_type": "stream",
     "text": [
      "\tWins: 0, Losses: 50, Draws: 0\n"
     ]
    },
    {
     "name": "stderr",
     "output_type": "stream",
     "text": [
      "Episode 99: 100%|██████████| 50/50 [03:50<00:00,  4.60s/matches, loss=7.87, win_rate=0]\n"
     ]
    },
    {
     "name": "stdout",
     "output_type": "stream",
     "text": [
      "\tWins: 0, Losses: 50, Draws: 0\n"
     ]
    },
    {
     "name": "stderr",
     "output_type": "stream",
     "text": [
      "Episode 100: 100%|██████████| 50/50 [04:02<00:00,  4.84s/matches, loss=13.6, win_rate=0]"
     ]
    },
    {
     "name": "stdout",
     "output_type": "stream",
     "text": [
      "\tTarget model updated\n",
      "\tWins: 0, Losses: 50, Draws: 0\n"
     ]
    },
    {
     "name": "stderr",
     "output_type": "stream",
     "text": [
      "\n"
     ]
    }
   ],
   "source": [
    "online_model = GDQL(lr=LEARNING_RATE)\n",
    "target_model = GDQL(lr=LEARNING_RATE)\n",
    "try:\n",
    "    online_model.load_state_dict(torch.load(WEIGHT_FOLDER / \"online_model.pth\"))\n",
    "    target_model.load_state_dict(torch.load(WEIGHT_FOLDER / \"target_model.pth\"))\n",
    "except FileNotFoundError:\n",
    "    print(\"No weights found, starting from scratch\")\n",
    "except RuntimeError:\n",
    "    print(\"Weights are corrupted, starting from scratch\")\n",
    "\n",
    "max_win_rate = 0\n",
    "\n",
    "for episode in range(N_EPISODES):\n",
    "    stime = time.time()\n",
    "    n_wins, n_losses, n_draws = 0, 0, 0\n",
    "    mean_loss = 0\n",
    "    GDQLPlayer.experience.clear()\n",
    "\n",
    "\n",
    "    looper = tqdm(range(N_MATCHES_PER_EPS), unit=\"matches\", leave=True, desc=f\"Episode {episode+1}\")\n",
    "    for i in looper:\n",
    "        ch = Checkers()\n",
    "\n",
    "        black_player = GDQLPlayer('black',\n",
    "                                model=online_model,\n",
    "                                epsilon=EPSILON,\n",
    "                                epsilon_decay=EPSILON_DECAY_FACTOR,\n",
    "                                epsilon_min=EPSILON_MIN,)\n",
    "\n",
    "        if MINIMAX_SEARCH_DEPTH == 0:\n",
    "            # Random player function\n",
    "            white_player = RandomPlayer('white', seed=i)\n",
    "        else:\n",
    "            # Minimax player function\n",
    "            white_player = MinimaxPlayer('white', \n",
    "                                        partial(first_order_adv, 'white', 86, 54.5, 87, 26),\n",
    "                                        search_depth=MINIMAX_SEARCH_DEPTH)\n",
    "        \n",
    "        # push into environment\n",
    "        winner = play_a_game(ch, black_player.next_move, white_player.next_move, 100, is_show_detail=False)\n",
    "        if winner == 'black':\n",
    "            n_wins += 1\n",
    "            black_player.set_win()\n",
    "        elif winner == 'white':\n",
    "            n_losses += 1\n",
    "            black_player.set_lose()\n",
    "        else:\n",
    "            n_draws += 1\n",
    "\n",
    "        if len(GDQLPlayer.experience) > BATCH_SIZE:\n",
    "            batch_states = random.sample(GDQLPlayer.experience, BATCH_SIZE)\n",
    "            \n",
    "            # find target, online Q values and compute loss\n",
    "            loss = 0\n",
    "            for batch_idx, (state, action, reward, next_state) in enumerate(batch_states):\n",
    "                online_model.train()\n",
    "                target_model.eval()\n",
    "\n",
    "                # find target Q\n",
    "                if next_state is not None:\n",
    "                    max_next_state_value = -np.inf\n",
    "                    ch.restore_state(state)\n",
    "                    available_actions = ch.legal_moves()\n",
    "                    for available_action in available_actions:\n",
    "                        model_input = target_model.board2input(next_state[0], 'black', available_action)\n",
    "                        next_state_value = target_model(model_input)\n",
    "                        max_next_state_value = max(max_next_state_value, next_state_value)\n",
    "                    target_q = reward + max_next_state_value * REWARD_DISCOUNT_FACTOR\n",
    "                else:\n",
    "                    target_q = reward\n",
    "\n",
    "                # find online Q\n",
    "                model_input = online_model.board2input(state[0], 'black', action)\n",
    "                online_q = online_model(model_input)\n",
    "\n",
    "                loss += (online_q - target_q) ** 2\n",
    "            loss /= BATCH_SIZE\n",
    "            mean_loss += loss.item()\n",
    "            looper.set_postfix(loss=loss.item(),\n",
    "                               win_rate=n_wins / (i+1),)\n",
    "\n",
    "            # compute loss\n",
    "            online_model.optimizer.zero_grad()\n",
    "            loss.backward()\n",
    "            online_model.optimizer.step()\n",
    "\n",
    "    if episode % TARGET_UPDATE == 0:\n",
    "        target_model.load_state_dict(online_model.state_dict())\n",
    "        print(\"\\tTarget model updated\")\n",
    "    print(f\"\\tWins: {n_wins}, Losses: {n_losses}, Draws: {n_draws}\")\n",
    "\n",
    "    mlflow.log_metric(\"runl time\", time.time() - stime, step=episode)\n",
    "    mlflow.log_metric(\"win rate\", n_wins / N_MATCHES_PER_EPS, step=episode)\n",
    "    mlflow.log_metric(\"draw rate\", n_draws / N_MATCHES_PER_EPS, step=episode)\n",
    "    mlflow.log_metric(\"mean of mse loss\", mean_loss / N_MATCHES_PER_EPS, step=episode)\n",
    "    if n_wins / N_MATCHES_PER_EPS > max_win_rate:\n",
    "        max_win_rate = n_wins / N_MATCHES_PER_EPS\n",
    "        torch.save(online_model.state_dict(), WEIGHT_FOLDER / \"online_model.pth\")\n",
    "        torch.save(target_model.state_dict(), WEIGHT_FOLDER / \"target_model.pth\")\n",
    "        print(f\"\\tNew max win rate: {max_win_rate}\")\n",
    "        mlflow.pytorch.log_model(online_model, \"models\")\n",
    "        mlflow.log_artifact(WEIGHT_FOLDER / \"online_model.pth\")\n",
    "        mlflow.log_artifact(WEIGHT_FOLDER / \"target_model.pth\")"
   ]
  },
  {
   "cell_type": "code",
   "execution_count": 8,
   "metadata": {},
   "outputs": [],
   "source": [
    "mlflow.end_run()"
   ]
  },
  {
   "cell_type": "code",
   "execution_count": 9,
   "metadata": {},
   "outputs": [
    {
     "name": "stdout",
     "output_type": "stream",
     "text": [
      "_b_b_b_b\n",
      "b_b_b_b_\n",
      "_._._._.\n",
      "._._._._\n",
      "_._._._.\n",
      "._._._._\n",
      "_w_w_w_w\n",
      "w_w_w_w_\n",
      "0 turn: black last_moved_piece: None\n",
      "7 legal moves [(4, 8), (5, 8), (5, 9), (6, 9), (6, 10), (7, 10), (7, 11)]\n",
      "black moved 7, 11\n",
      "\n",
      "_b_b_b_b\n",
      "b_b_b_._\n",
      "_._._._b\n",
      "._._._._\n",
      "_._._._.\n",
      "._._._._\n",
      "_w_w_w_w\n",
      "w_w_w_w_\n",
      "1 turn: white last_moved_piece: None\n",
      "7 legal moves [(24, 21), (24, 20), (25, 22), (25, 21), (26, 23), (26, 22), (27, 23)]\n",
      "white moved 25, 22\n",
      "\n",
      "_b_b_b_b\n",
      "b_b_b_._\n",
      "_._._._b\n",
      "._._._._\n",
      "_._._._.\n",
      "._._w_._\n",
      "_w_._w_w\n",
      "w_w_w_w_\n",
      "2 turn: black last_moved_piece: None\n",
      "8 legal moves [(2, 7), (3, 7), (4, 8), (5, 8), (5, 9), (6, 9), (6, 10), (11, 15)]\n",
      "black moved 5, 8\n",
      "\n",
      "_b_b_b_b\n",
      "b_._b_._\n",
      "_b_._._b\n",
      "._._._._\n",
      "_._._._.\n",
      "._._w_._\n",
      "_w_._w_w\n",
      "w_w_w_w_\n",
      "3 turn: white last_moved_piece: None\n",
      "8 legal moves [(22, 18), (22, 17), (24, 21), (24, 20), (26, 23), (27, 23), (29, 25), (30, 25)]\n",
      "white moved 27, 23\n",
      "\n",
      "_b_b_b_b\n",
      "b_._b_._\n",
      "_b_._._b\n",
      "._._._._\n",
      "_._._._.\n",
      "._._w_w_\n",
      "_w_._w_.\n",
      "w_w_w_w_\n",
      "4 turn: black last_moved_piece: None\n",
      "9 legal moves [(0, 5), (1, 5), (2, 7), (3, 7), (6, 9), (6, 10), (8, 12), (8, 13), (11, 15)]\n",
      "black moved 8, 13\n",
      "\n",
      "_b_b_b_b\n",
      "b_._b_._\n",
      "_._._._b\n",
      "._b_._._\n",
      "_._._._.\n",
      "._._w_w_\n",
      "_w_._w_.\n",
      "w_w_w_w_\n",
      "5 turn: white last_moved_piece: None\n",
      "9 legal moves [(22, 18), (22, 17), (23, 19), (23, 18), (24, 21), (24, 20), (29, 25), (30, 25), (31, 27)]\n",
      "white moved 31, 27\n",
      "\n",
      "_b_b_b_b\n",
      "b_._b_._\n",
      "_._._._b\n",
      "._b_._._\n",
      "_._._._.\n",
      "._._w_w_\n",
      "_w_._w_w\n",
      "w_w_w_._\n",
      "6 turn: black last_moved_piece: None\n",
      "10 legal moves [(0, 5), (1, 5), (2, 7), (3, 7), (4, 8), (6, 9), (6, 10), (11, 15), (13, 16), (13, 17)]\n",
      "black moved 13, 17\n",
      "\n",
      "_b_b_b_b\n",
      "b_._b_._\n",
      "_._._._b\n",
      "._._._._\n",
      "_._b_._.\n",
      "._._w_w_\n",
      "_w_._w_w\n",
      "w_w_w_._\n",
      "7 turn: white last_moved_piece: None\n",
      "1 legal moves [(22, 13)]\n",
      "white moved 22, 13\n",
      "\n",
      "_b_b_b_b\n",
      "b_._b_._\n",
      "_._._._b\n",
      "._w_._._\n",
      "_._._._.\n",
      "._._._w_\n",
      "_w_._w_w\n",
      "w_w_w_._\n",
      "8 turn: black last_moved_piece: None\n",
      "8 legal moves [(0, 5), (1, 5), (2, 7), (3, 7), (4, 8), (6, 9), (6, 10), (11, 15)]\n",
      "black moved 6, 9\n",
      "\n",
      "_b_b_b_b\n",
      "b_._._._\n",
      "_._b_._b\n",
      "._w_._._\n",
      "_._._._.\n",
      "._._._w_\n",
      "_w_._w_w\n",
      "w_w_w_._\n",
      "9 turn: white last_moved_piece: None\n",
      "1 legal moves [(13, 6)]\n",
      "white moved 13, 6\n",
      "\n",
      "_b_b_b_b\n",
      "b_._w_._\n",
      "_._._._b\n",
      "._._._._\n",
      "_._._._.\n",
      "._._._w_\n",
      "_w_._w_w\n",
      "w_w_w_._\n",
      "10 turn: black last_moved_piece: None\n",
      "2 legal moves [(1, 10), (2, 9)]\n",
      "black moved 1, 10\n",
      "\n",
      "_b_._b_b\n",
      "b_._._._\n",
      "_._._b_b\n",
      "._._._._\n",
      "_._._._.\n",
      "._._._w_\n",
      "_w_._w_w\n",
      "w_w_w_._\n",
      "11 turn: white last_moved_piece: None\n",
      "7 legal moves [(23, 19), (23, 18), (24, 21), (24, 20), (26, 22), (29, 25), (30, 25)]\n",
      "white moved 29, 25\n",
      "\n",
      "_b_._b_b\n",
      "b_._._._\n",
      "_._._b_b\n",
      "._._._._\n",
      "_._._._.\n",
      "._._._w_\n",
      "_w_w_w_w\n",
      "w_._w_._\n",
      "12 turn: black last_moved_piece: None\n",
      "8 legal moves [(0, 5), (2, 6), (2, 7), (3, 7), (4, 8), (10, 14), (10, 15), (11, 15)]\n",
      "black moved 2, 7\n",
      "\n",
      "_b_._._b\n",
      "b_._._b_\n",
      "_._._b_b\n",
      "._._._._\n",
      "_._._._.\n",
      "._._._w_\n",
      "_w_w_w_w\n",
      "w_._w_._\n",
      "13 turn: white last_moved_piece: None\n",
      "7 legal moves [(25, 22), (25, 21), (23, 19), (23, 18), (24, 21), (24, 20), (26, 22)]\n",
      "white moved 26, 22\n",
      "\n",
      "_b_._._b\n",
      "b_._._b_\n",
      "_._._b_b\n",
      "._._._._\n",
      "_._._._.\n",
      "._._w_w_\n",
      "_w_w_._w\n",
      "w_._w_._\n",
      "14 turn: black last_moved_piece: None\n",
      "5 legal moves [(0, 5), (4, 8), (10, 14), (10, 15), (11, 15)]\n",
      "black moved 4, 8\n",
      "\n",
      "_b_._._b\n",
      "._._._b_\n",
      "_b_._b_b\n",
      "._._._._\n",
      "_._._._.\n",
      "._._w_w_\n",
      "_w_w_._w\n",
      "w_._w_._\n",
      "15 turn: white last_moved_piece: None\n",
      "8 legal moves [(22, 18), (22, 17), (25, 21), (23, 19), (23, 18), (24, 21), (24, 20), (30, 26)]\n",
      "white moved 24, 21\n",
      "\n",
      "_b_._._b\n",
      "._._._b_\n",
      "_b_._b_b\n",
      "._._._._\n",
      "_._._._.\n",
      "._w_w_w_\n",
      "_._w_._w\n",
      "w_._w_._\n",
      "16 turn: black last_moved_piece: None\n",
      "7 legal moves [(0, 4), (0, 5), (10, 14), (10, 15), (11, 15), (8, 12), (8, 13)]\n",
      "black moved 11, 15\n",
      "\n",
      "_b_._._b\n",
      "._._._b_\n",
      "_b_._b_.\n",
      "._._._b_\n",
      "_._._._.\n",
      "._w_w_w_\n",
      "_._w_._w\n",
      "w_._w_._\n",
      "17 turn: white last_moved_piece: None\n",
      "8 legal moves [(22, 18), (22, 17), (21, 17), (21, 16), (23, 19), (23, 18), (28, 24), (30, 26)]\n",
      "white moved 22, 18\n",
      "\n",
      "_b_._._b\n",
      "._._._b_\n",
      "_b_._b_.\n",
      "._._._b_\n",
      "_._._w_.\n",
      "._w_._w_\n",
      "_._w_._w\n",
      "w_._w_._\n",
      "18 turn: black last_moved_piece: None\n",
      "1 legal moves [(15, 22)]\n",
      "black moved 15, 22\n",
      "\n",
      "_b_._._b\n",
      "._._._b_\n",
      "_b_._b_.\n",
      "._._._._\n",
      "_._._._.\n",
      "._w_b_w_\n",
      "_._w_._w\n",
      "w_._w_._\n",
      "19 turn: black last_moved_piece: 22\n",
      "1 legal moves [(22, 29)]\n",
      "black moved 22, 29\n",
      "\n",
      "_b_._._b\n",
      "._._._b_\n",
      "_b_._b_.\n",
      "._._._._\n",
      "_._._._.\n",
      "._w_._w_\n",
      "_._._._w\n",
      "w_B_w_._\n",
      "20 turn: white last_moved_piece: None\n",
      "7 legal moves [(21, 17), (21, 16), (23, 19), (23, 18), (28, 24), (30, 26), (30, 25)]\n",
      "white moved 28, 24\n",
      "\n",
      "_b_._._b\n",
      "._._._b_\n",
      "_b_._b_.\n",
      "._._._._\n",
      "_._._._.\n",
      "._w_._w_\n",
      "_w_._._w\n",
      "._B_w_._\n",
      "21 turn: black last_moved_piece: None\n",
      "1 legal moves [(29, 20)]\n",
      "black moved 29, 20\n",
      "\n",
      "_b_._._b\n",
      "._._._b_\n",
      "_b_._b_.\n",
      "._._._._\n",
      "_._._._.\n",
      "B_w_._w_\n",
      "_._._._w\n",
      "._._w_._\n",
      "22 turn: white last_moved_piece: None\n",
      "6 legal moves [(21, 17), (21, 16), (23, 19), (23, 18), (30, 26), (30, 25)]\n",
      "white moved 23, 18\n",
      "\n",
      "_b_._._b\n",
      "._._._b_\n",
      "_b_._b_.\n",
      "._._._._\n",
      "_._._w_.\n",
      "B_w_._._\n",
      "_._._._w\n",
      "._._w_._\n",
      "23 turn: black last_moved_piece: None\n",
      "14 legal moves [(0, 4), (0, 5), (7, 11), (8, 12), (8, 13), (10, 14), (10, 15), (20, 24), (20, 29), (20, 16), (20, 13), (20, 9), (20, 6), (20, 2)]\n",
      "black moved 8, 12\n",
      "\n",
      "_b_._._b\n",
      "._._._b_\n",
      "_._._b_.\n",
      "b_._._._\n",
      "_._._w_.\n",
      "B_w_._._\n",
      "_._._._w\n",
      "._._w_._\n",
      "24 turn: white last_moved_piece: None\n",
      "7 legal moves [(18, 15), (18, 14), (21, 17), (21, 16), (27, 23), (30, 26), (30, 25)]\n",
      "white moved 30, 26\n",
      "\n",
      "_b_._._b\n",
      "._._._b_\n",
      "_._._b_.\n",
      "b_._._._\n",
      "_._._w_.\n",
      "B_w_._._\n",
      "_._._w_w\n",
      "._._._._\n",
      "25 turn: black last_moved_piece: None\n",
      "13 legal moves [(0, 4), (0, 5), (7, 11), (10, 14), (10, 15), (12, 16), (20, 24), (20, 29), (20, 16), (20, 13), (20, 9), (20, 6), (20, 2)]\n",
      "black moved 20, 6\n",
      "\n",
      "_b_._._b\n",
      "._._B_b_\n",
      "_._._b_.\n",
      "b_._._._\n",
      "_._._w_.\n",
      "._w_._._\n",
      "_._._w_w\n",
      "._._._._\n",
      "26 turn: white last_moved_piece: None\n",
      "7 legal moves [(18, 15), (18, 14), (21, 17), (21, 16), (26, 23), (26, 22), (27, 23)]\n",
      "white moved 21, 16\n",
      "\n",
      "_b_._._b\n",
      "._._B_b_\n",
      "_._._b_.\n",
      "b_._._._\n",
      "_w_._w_.\n",
      "._._._._\n",
      "_._._w_w\n",
      "._._._._\n",
      "27 turn: black last_moved_piece: None\n",
      "2 legal moves [(12, 21), (6, 20)]\n",
      "black moved 12, 21\n",
      "\n",
      "_b_._._b\n",
      "._._B_b_\n",
      "_._._b_.\n",
      "._._._._\n",
      "_._._w_.\n",
      "._b_._._\n",
      "_._._w_w\n",
      "._._._._\n",
      "28 turn: white last_moved_piece: None\n",
      "5 legal moves [(18, 15), (18, 14), (26, 23), (26, 22), (27, 23)]\n",
      "white moved 26, 22\n",
      "\n",
      "_b_._._b\n",
      "._._B_b_\n",
      "_._._b_.\n",
      "._._._._\n",
      "_._._w_.\n",
      "._b_w_._\n",
      "_._._._w\n",
      "._._._._\n",
      "29 turn: black last_moved_piece: None\n",
      "13 legal moves [(0, 4), (0, 5), (7, 11), (10, 14), (10, 15), (21, 24), (21, 25), (6, 9), (6, 13), (6, 16), (6, 20), (6, 2), (6, 1)]\n",
      "black moved 7, 11\n",
      "\n",
      "_b_._._b\n",
      "._._B_._\n",
      "_._._b_b\n",
      "._._._._\n",
      "_._._w_.\n",
      "._b_w_._\n",
      "_._._._w\n",
      "._._._._\n",
      "30 turn: white last_moved_piece: None\n",
      "4 legal moves [(18, 15), (18, 14), (22, 17), (27, 23)]\n",
      "white moved 18, 14\n",
      "\n",
      "_b_._._b\n",
      "._._B_._\n",
      "_._._b_b\n",
      "._._w_._\n",
      "_._._._.\n",
      "._b_w_._\n",
      "_._._._w\n",
      "._._._._\n",
      "31 turn: black last_moved_piece: None\n",
      "1 legal moves [(10, 17)]\n",
      "black moved 10, 17\n",
      "\n",
      "_b_._._b\n",
      "._._B_._\n",
      "_._._._b\n",
      "._._._._\n",
      "_._b_._.\n",
      "._b_w_._\n",
      "_._._._w\n",
      "._._._._\n",
      "32 turn: black last_moved_piece: 17\n",
      "1 legal moves [(17, 26)]\n",
      "black moved 17, 26\n",
      "\n",
      "_b_._._b\n",
      "._._B_._\n",
      "_._._._b\n",
      "._._._._\n",
      "_._._._.\n",
      "._b_._._\n",
      "_._._b_w\n",
      "._._._._\n",
      "33 turn: white last_moved_piece: None\n",
      "1 legal moves [(27, 23)]\n",
      "white moved 27, 23\n",
      "\n",
      "_b_._._b\n",
      "._._B_._\n",
      "_._._._b\n",
      "._._._._\n",
      "_._._._.\n",
      "._b_._w_\n",
      "_._._b_.\n",
      "._._._._\n",
      "34 turn: black last_moved_piece: None\n",
      "17 legal moves [(0, 4), (0, 5), (3, 7), (11, 15), (21, 24), (21, 25), (26, 30), (26, 31), (6, 9), (6, 13), (6, 16), (6, 20), (6, 10), (6, 15), (6, 19), (6, 2), (6, 1)]\n",
      "black moved 6, 13\n",
      "\n",
      "_b_._._b\n",
      "._._._._\n",
      "_._._._b\n",
      "._B_._._\n",
      "_._._._.\n",
      "._b_._w_\n",
      "_._._b_.\n",
      "._._._._\n",
      "35 turn: white last_moved_piece: None\n",
      "2 legal moves [(23, 19), (23, 18)]\n",
      "white moved 23, 19\n",
      "\n",
      "_b_._._b\n",
      "._._._._\n",
      "_._._._b\n",
      "._B_._._\n",
      "_._._._w\n",
      "._b_._._\n",
      "_._._b_.\n",
      "._._._._\n",
      "36 turn: black last_moved_piece: None\n",
      "17 legal moves [(0, 4), (0, 5), (3, 7), (11, 15), (21, 24), (21, 25), (26, 30), (26, 31), (13, 16), (13, 20), (13, 17), (13, 22), (13, 9), (13, 6), (13, 2), (13, 8), (13, 4)]\n",
      "black moved 13, 9\n",
      "\n",
      "_b_._._b\n",
      "._._._._\n",
      "_._B_._b\n",
      "._._._._\n",
      "_._._._w\n",
      "._b_._._\n",
      "_._._b_.\n",
      "._._._._\n",
      "37 turn: white last_moved_piece: None\n",
      "1 legal moves [(19, 15)]\n",
      "white moved 19, 15\n",
      "\n",
      "_b_._._b\n",
      "._._._._\n",
      "_._B_._b\n",
      "._._._w_\n",
      "_._._._.\n",
      "._b_._._\n",
      "_._._b_.\n",
      "._._._._\n",
      "38 turn: black last_moved_piece: None\n",
      "1 legal moves [(11, 18)]\n",
      "black moved 11, 18\n",
      "\n",
      "black player wins\n",
      "total legal moves 242 avg branching factor 6.205128205128205\n"
     ]
    }
   ],
   "source": [
    "ch = Checkers()\n",
    "\n",
    "black_player = GDQLPlayer('black',\n",
    "                                model=online_model,\n",
    "                                epsilon=EPSILON,\n",
    "                                epsilon_decay=EPSILON_DECAY_FACTOR,\n",
    "                                epsilon_min=EPSILON_MIN,)\n",
    "# Random player function\n",
    "white_player = RandomPlayer('white', seed=i)\n",
    "        \n",
    "# push into environment\n",
    "winner = play_a_game(ch, black_player.next_move, white_player.next_move, 100, is_show_detail=True)"
   ]
  },
  {
   "cell_type": "code",
   "execution_count": null,
   "metadata": {},
   "outputs": [],
   "source": []
  }
 ],
 "metadata": {
  "kernelspec": {
   "display_name": "pattern_project",
   "language": "python",
   "name": "python3"
  },
  "language_info": {
   "codemirror_mode": {
    "name": "ipython",
    "version": 3
   },
   "file_extension": ".py",
   "mimetype": "text/x-python",
   "name": "python",
   "nbconvert_exporter": "python",
   "pygments_lexer": "ipython3",
   "version": "3.9.19"
  }
 },
 "nbformat": 4,
 "nbformat_minor": 2
}
