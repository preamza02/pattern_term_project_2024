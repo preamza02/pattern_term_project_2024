{
 "cells": [
  {
   "cell_type": "code",
   "execution_count": 3,
   "metadata": {},
   "outputs": [
    {
     "name": "stdout",
     "output_type": "stream",
     "text": [
      "Requirement already satisfied: bs4 in c:\\users\\acer\\anaconda3\\envs\\pattern_project\\lib\\site-packages (0.0.2)\n",
      "Requirement already satisfied: beautifulsoup4 in c:\\users\\acer\\anaconda3\\envs\\pattern_project\\lib\\site-packages (from bs4) (4.12.3)\n",
      "Requirement already satisfied: soupsieve>1.2 in c:\\users\\acer\\anaconda3\\envs\\pattern_project\\lib\\site-packages (from beautifulsoup4->bs4) (2.5)\n",
      "Collecting selenium\n",
      "  Downloading selenium-4.20.0-py3-none-any.whl.metadata (6.9 kB)\n",
      "Collecting urllib3<3,>=1.26 (from urllib3[socks]<3,>=1.26->selenium)\n",
      "  Using cached urllib3-2.2.1-py3-none-any.whl.metadata (6.4 kB)\n",
      "Collecting trio~=0.17 (from selenium)\n",
      "  Downloading trio-0.25.0-py3-none-any.whl.metadata (8.7 kB)\n",
      "Collecting trio-websocket~=0.9 (from selenium)\n",
      "  Downloading trio_websocket-0.11.1-py3-none-any.whl.metadata (4.7 kB)\n",
      "Collecting certifi>=2021.10.8 (from selenium)\n",
      "  Using cached certifi-2024.2.2-py3-none-any.whl.metadata (2.2 kB)\n",
      "Requirement already satisfied: typing_extensions>=4.9.0 in c:\\users\\acer\\anaconda3\\envs\\pattern_project\\lib\\site-packages (from selenium) (4.11.0)\n",
      "Collecting attrs>=23.2.0 (from trio~=0.17->selenium)\n",
      "  Using cached attrs-23.2.0-py3-none-any.whl.metadata (9.5 kB)\n",
      "Collecting sortedcontainers (from trio~=0.17->selenium)\n",
      "  Downloading sortedcontainers-2.4.0-py2.py3-none-any.whl.metadata (10 kB)\n",
      "Collecting idna (from trio~=0.17->selenium)\n",
      "  Using cached idna-3.7-py3-none-any.whl.metadata (9.9 kB)\n",
      "Collecting outcome (from trio~=0.17->selenium)\n",
      "  Downloading outcome-1.3.0.post0-py2.py3-none-any.whl.metadata (2.6 kB)\n",
      "Collecting sniffio>=1.3.0 (from trio~=0.17->selenium)\n",
      "  Using cached sniffio-1.3.1-py3-none-any.whl.metadata (3.9 kB)\n",
      "Collecting cffi>=1.14 (from trio~=0.17->selenium)\n",
      "  Using cached cffi-1.16.0-cp311-cp311-win_amd64.whl.metadata (1.5 kB)\n",
      "Collecting wsproto>=0.14 (from trio-websocket~=0.9->selenium)\n",
      "  Downloading wsproto-1.2.0-py3-none-any.whl.metadata (5.6 kB)\n",
      "Collecting pysocks!=1.5.7,<2.0,>=1.5.6 (from urllib3[socks]<3,>=1.26->selenium)\n",
      "  Downloading PySocks-1.7.1-py3-none-any.whl.metadata (13 kB)\n",
      "Collecting pycparser (from cffi>=1.14->trio~=0.17->selenium)\n",
      "  Using cached pycparser-2.22-py3-none-any.whl.metadata (943 bytes)\n",
      "Collecting h11<1,>=0.9.0 (from wsproto>=0.14->trio-websocket~=0.9->selenium)\n",
      "  Using cached h11-0.14.0-py3-none-any.whl.metadata (8.2 kB)\n",
      "Downloading selenium-4.20.0-py3-none-any.whl (9.5 MB)\n",
      "   ---------------------------------------- 0.0/9.5 MB ? eta -:--:--\n",
      "   --- ------------------------------------ 0.9/9.5 MB 19.8 MB/s eta 0:00:01\n",
      "   ------------------ --------------------- 4.4/9.5 MB 46.7 MB/s eta 0:00:01\n",
      "   -------------------------------- ------- 7.7/9.5 MB 55.2 MB/s eta 0:00:01\n",
      "   ---------------------------------------- 9.5/9.5 MB 55.3 MB/s eta 0:00:00\n",
      "Using cached certifi-2024.2.2-py3-none-any.whl (163 kB)\n",
      "Downloading trio-0.25.0-py3-none-any.whl (467 kB)\n",
      "   ---------------------------------------- 0.0/467.2 kB ? eta -:--:--\n",
      "   --------------------------------------- 467.2/467.2 kB 28.6 MB/s eta 0:00:00\n",
      "Downloading trio_websocket-0.11.1-py3-none-any.whl (17 kB)\n",
      "Using cached urllib3-2.2.1-py3-none-any.whl (121 kB)\n",
      "Using cached attrs-23.2.0-py3-none-any.whl (60 kB)\n",
      "Using cached cffi-1.16.0-cp311-cp311-win_amd64.whl (181 kB)\n",
      "Downloading PySocks-1.7.1-py3-none-any.whl (16 kB)\n",
      "Using cached sniffio-1.3.1-py3-none-any.whl (10 kB)\n",
      "Downloading wsproto-1.2.0-py3-none-any.whl (24 kB)\n",
      "Using cached idna-3.7-py3-none-any.whl (66 kB)\n",
      "Downloading outcome-1.3.0.post0-py2.py3-none-any.whl (10 kB)\n",
      "Downloading sortedcontainers-2.4.0-py2.py3-none-any.whl (29 kB)\n",
      "Using cached h11-0.14.0-py3-none-any.whl (58 kB)\n",
      "Using cached pycparser-2.22-py3-none-any.whl (117 kB)\n",
      "Installing collected packages: sortedcontainers, urllib3, sniffio, pysocks, pycparser, idna, h11, certifi, attrs, wsproto, outcome, cffi, trio, trio-websocket, selenium\n",
      "Successfully installed attrs-23.2.0 certifi-2024.2.2 cffi-1.16.0 h11-0.14.0 idna-3.7 outcome-1.3.0.post0 pycparser-2.22 pysocks-1.7.1 selenium-4.20.0 sniffio-1.3.1 sortedcontainers-2.4.0 trio-0.25.0 trio-websocket-0.11.1 urllib3-2.2.1 wsproto-1.2.0\n",
      "Collecting chromedriver-autoinstaller\n",
      "  Downloading chromedriver_autoinstaller-0.6.4-py3-none-any.whl.metadata (2.1 kB)\n",
      "Requirement already satisfied: packaging>=23.1 in c:\\users\\acer\\anaconda3\\envs\\pattern_project\\lib\\site-packages (from chromedriver-autoinstaller) (24.0)\n",
      "Downloading chromedriver_autoinstaller-0.6.4-py3-none-any.whl (7.6 kB)\n",
      "Installing collected packages: chromedriver-autoinstaller\n",
      "Successfully installed chromedriver-autoinstaller-0.6.4\n"
     ]
    }
   ],
   "source": [
    "!pip install bs4\n",
    "!pip install selenium\n",
    "!pip install chromedriver-autoinstaller"
   ]
  },
  {
   "cell_type": "code",
   "execution_count": 6,
   "metadata": {},
   "outputs": [
    {
     "name": "stdout",
     "output_type": "stream",
     "text": [
      "Collecting pandas\n",
      "  Using cached pandas-2.2.2-cp311-cp311-win_amd64.whl.metadata (19 kB)\n",
      "Requirement already satisfied: numpy>=1.23.2 in c:\\users\\acer\\anaconda3\\envs\\pattern_project\\lib\\site-packages (from pandas) (1.26.4)\n",
      "Requirement already satisfied: python-dateutil>=2.8.2 in c:\\users\\acer\\anaconda3\\envs\\pattern_project\\lib\\site-packages (from pandas) (2.9.0)\n",
      "Collecting pytz>=2020.1 (from pandas)\n",
      "  Using cached pytz-2024.1-py2.py3-none-any.whl.metadata (22 kB)\n",
      "Collecting tzdata>=2022.7 (from pandas)\n",
      "  Using cached tzdata-2024.1-py2.py3-none-any.whl.metadata (1.4 kB)\n",
      "Requirement already satisfied: six>=1.5 in c:\\users\\acer\\anaconda3\\envs\\pattern_project\\lib\\site-packages (from python-dateutil>=2.8.2->pandas) (1.16.0)\n",
      "Using cached pandas-2.2.2-cp311-cp311-win_amd64.whl (11.6 MB)\n",
      "Using cached pytz-2024.1-py2.py3-none-any.whl (505 kB)\n",
      "Using cached tzdata-2024.1-py2.py3-none-any.whl (345 kB)\n",
      "Installing collected packages: pytz, tzdata, pandas\n",
      "Successfully installed pandas-2.2.2 pytz-2024.1 tzdata-2024.1\n"
     ]
    }
   ],
   "source": [
    "!pip install pandas"
   ]
  },
  {
   "cell_type": "code",
   "execution_count": 9,
   "metadata": {},
   "outputs": [],
   "source": [
    "from bs4 import BeautifulSoup\n",
    "import time\n",
    "import pandas as pd\n",
    "from bs4 import BeautifulSoup\n",
    "from selenium import webdriver\n",
    "import chromedriver_autoinstaller\n",
    "\n",
    "# setup chrome options\n",
    "chrome_options = webdriver.ChromeOptions()\n",
    "chrome_options.add_argument('--headless') # ensure GUI is off\n",
    "chrome_options.add_argument('--no-sandbox')\n",
    "chrome_options.add_argument('--disable-dev-shm-usage')\n",
    "\n",
    "chromedriver_autoinstaller.install()\n",
    "\n",
    "driver = webdriver.Chrome(options=chrome_options)"
   ]
  },
  {
   "cell_type": "code",
   "execution_count": 14,
   "metadata": {},
   "outputs": [],
   "source": [
    "from selenium.webdriver.support.ui import WebDriverWait\n",
    "from selenium.webdriver.support import expected_conditions as EC\n",
    "from selenium.webdriver.common.by import By\n",
    "from IPython.display import HTML\n"
   ]
  },
  {
   "cell_type": "code",
   "execution_count": 56,
   "metadata": {},
   "outputs": [],
   "source": [
    "driver.get('https://www.hosbase.com/invincible2/')\n",
    "page_source = driver.page_source\n",
    "\n",
    "soup = BeautifulSoup(page_source, 'html.parser')\n",
    "\n",
    "tbody_element = soup.find('tbody')\n",
    "\n",
    "tr_elements =tbody_element.find_all('tr')"
   ]
  },
  {
   "cell_type": "code",
   "execution_count": 116,
   "metadata": {},
   "outputs": [],
   "source": [
    "def get_row_array(td):\n",
    "  return [(abs(int(h.get('id').replace('board-cell-',''))),h.find('img').get('src').replace('images/','').replace('.png','')) for h in td.find_all('td') if h.get('id') and \"board-cell-\" in h.get('id')]\n",
    "def fix_num(n):\n",
    "  tran =[28,29,30,31,24,25,26,27,20,21,22,23,16,17,18,19,12,13,14,15,8,9,10,11,4,5,6,7,0,1,2,3]\n",
    "  return tran[n]\n",
    "\n",
    "def get_table(tbody):\n",
    "  table = []\n",
    "  for i in range(8):\n",
    "    rows_td = [ h.find('img').get('src').replace('images/','').replace('.png','').replace('empty','')  for h in tbody[i].find_all('td') if h.get('id') and \"board-cell-\" in h.get('id')]\n",
    "    # rows = [(i*4+j,rows_td[j])for j in range(4) ]\n",
    "    rows = [(fix_num(int(h.get('id').replace('board-cell-',''))),h.find('img').get('src').replace('images/','').replace('.png','').replace('empty','')) for h in tbody[i].find_all('td') if h.get('id') and \"board-cell-\" in h.get('id')]\n",
    "    \n",
    "    \n",
    "    table.append(rows)\n",
    "  return table\n",
    "  # return [get_row_array(i) for i in tbody ]\n",
    "def display_board(input_board):\n",
    "    for row in range(7, -1, -1):\n",
    "        row_display = \"|\".join([square[1][0].upper() if square[1] != 'empty' else '-' for square in input_board[row]])\n",
    "        print(row_display)\n",
    "def get_board_from_html(page_source):\n",
    "    soup = BeautifulSoup(page_source, 'html.parser')\n",
    "    tbody_element = soup.find('tbody')\n",
    "    tr_elements =tbody_element.find_all('tr')\n",
    "    return get_table(tr_elements)\n",
    "  "
   ]
  },
  {
   "cell_type": "code",
   "execution_count": null,
   "metadata": {},
   "outputs": [],
   "source": [
    "# [[(3, 'wb'), (2, 'wb'), (1, 'wb'), (0, 'wb')],\n",
    "#  [(7, 'wb'), (6, 'wb'), (5, 'wb'), (4, '')],\n",
    "#  [(11, ''), (10, ''), (9, 'wb'), (8, '')],\n",
    "#  [(15, ''), (14, ''), (13, ''), (12, '')],\n",
    "#  [(19, ''), (18, ''), (17, ''), (16, '')],\n",
    "#  [(23, 'bb'), (22, ''), (21, ''), (20, '')],\n",
    "#  [(27, ''), (26, 'bb'), (25, 'bb'), (24, 'bb')],\n",
    "#  [(31, 'bb'), (30, 'bb'), (29, 'bb'), (28, 'bb')]]"
   ]
  },
  {
   "cell_type": "code",
   "execution_count": 117,
   "metadata": {},
   "outputs": [
    {
     "data": {
      "text/plain": [
       "[[(31, 'wb'), (30, 'wb'), (29, 'wb'), (28, 'wb')],\n",
       " [(27, 'wb'), (26, 'wb'), (25, 'wb'), (24, '')],\n",
       " [(23, ''), (22, ''), (21, 'wb'), (20, '')],\n",
       " [(19, ''), (18, ''), (17, ''), (16, '')],\n",
       " [(15, ''), (14, ''), (13, ''), (12, '')],\n",
       " [(11, 'bb'), (10, ''), (9, ''), (8, '')],\n",
       " [(7, ''), (6, 'bb'), (5, 'bb'), (4, 'bb')],\n",
       " [(3, 'bb'), (2, 'bb'), (1, 'bb'), (0, 'bb')]]"
      ]
     },
     "execution_count": 117,
     "metadata": {},
     "output_type": "execute_result"
    },
    {
     "ename": "",
     "evalue": "",
     "output_type": "error",
     "traceback": [
      "\u001b[1;31mThe Kernel crashed while executing code in the current cell or a previous cell. \n",
      "\u001b[1;31mPlease review the code in the cell(s) to identify a possible cause of the failure. \n",
      "\u001b[1;31mClick <a href='https://aka.ms/vscodeJupyterKernelCrash'>here</a> for more info. \n",
      "\u001b[1;31mView Jupyter <a href='command:jupyter.viewOutput'>log</a> for further details."
     ]
    }
   ],
   "source": [
    "get_board_from_html(driver.page_source)"
   ]
  },
  {
   "cell_type": "code",
   "execution_count": 75,
   "metadata": {},
   "outputs": [],
   "source": [
    "element = driver.find_element(\"id\", \"neww\")\n",
    "element.click()"
   ]
  },
  {
   "cell_type": "code",
   "execution_count": 77,
   "metadata": {},
   "outputs": [],
   "source": [
    "element = driver.find_element(\"id\", \"newb\")\n",
    "element.click()"
   ]
  },
  {
   "cell_type": "code",
   "execution_count": 82,
   "metadata": {},
   "outputs": [],
   "source": [
    "from selenium.webdriver.common.action_chains import ActionChains\n",
    "\n",
    "def move_drag(before,after):\n",
    "    source_element = driver.find_element(\"id\", \"board-cell-\"+str(before))\n",
    "    target_element = driver.find_element(\"id\", \"board-cell-\"+str(after))\n",
    "    # Perform the drag-and-drop operation\n",
    "    action_chains = ActionChains(driver)\n",
    "    action_chains.drag_and_drop(source_element, target_element).perform()"
   ]
  },
  {
   "cell_type": "code",
   "execution_count": 93,
   "metadata": {},
   "outputs": [],
   "source": [
    "move_drag(27,23)"
   ]
  },
  {
   "cell_type": "code",
   "execution_count": 94,
   "metadata": {},
   "outputs": [
    {
     "data": {
      "text/plain": [
       "[[(3, 'wb'), (2, 'wb'), (1, 'wb'), (0, 'wb')],\n",
       " [(7, 'wb'), (6, 'wb'), (5, 'wb'), (4, 'empty')],\n",
       " [(11, 'empty'), (10, 'empty'), (9, 'wb'), (8, 'empty')],\n",
       " [(15, 'empty'), (14, 'empty'), (13, 'empty'), (12, 'empty')],\n",
       " [(19, 'empty'), (18, 'empty'), (17, 'empty'), (16, 'empty')],\n",
       " [(23, 'bb'), (22, 'empty'), (21, 'empty'), (20, 'empty')],\n",
       " [(27, 'empty'), (26, 'bb'), (25, 'bb'), (24, 'bb')],\n",
       " [(31, 'bb'), (30, 'bb'), (29, 'bb'), (28, 'bb')]]"
      ]
     },
     "execution_count": 94,
     "metadata": {},
     "output_type": "execute_result"
    }
   ],
   "source": [
    "get_board_from_html(driver.page_source)"
   ]
  }
 ],
 "metadata": {
  "kernelspec": {
   "display_name": "pattern_project",
   "language": "python",
   "name": "python3"
  },
  "language_info": {
   "codemirror_mode": {
    "name": "ipython",
    "version": 3
   },
   "file_extension": ".py",
   "mimetype": "text/x-python",
   "name": "python",
   "nbconvert_exporter": "python",
   "pygments_lexer": "ipython3",
   "version": "3.11.8"
  }
 },
 "nbformat": 4,
 "nbformat_minor": 2
}
