{
 "cells": [
  {
   "cell_type": "code",
   "execution_count": 11,
   "metadata": {},
   "outputs": [
    {
     "name": "stdout",
     "output_type": "stream",
     "text": [
      "c:\\Users\\pream\\Documents\\project_2024\\pattern recog\\term_project\\pattern_term_project_2024\n"
     ]
    }
   ],
   "source": [
    "from src.utils import append_gym_checker\n",
    "\n",
    "append_gym_checker()"
   ]
  },
  {
   "cell_type": "code",
   "execution_count": 1,
   "metadata": {},
   "outputs": [],
   "source": [
    "import os\n",
    "from pathlib import Path\n",
    "import sys\n",
    "\n",
    "pwd = Path(os.getcwd())\n",
    "if (pwd.name == \"notebooks\"):\n",
    "    sys.path.append(str(pwd.parent / \"gym-checkers-for-thai\"))\n",
    "else:\n",
    "    sys.path.append(str(pwd / \"gym-checkers-for-thai\"))"
   ]
  },
  {
   "cell_type": "code",
   "execution_count": 2,
   "metadata": {},
   "outputs": [
    {
     "name": "stdout",
     "output_type": "stream",
     "text": [
      "/home/nontawat/pattern_term_project_2024\n"
     ]
    }
   ],
   "source": [
    "!pwd"
   ]
  },
  {
   "cell_type": "code",
   "execution_count": 3,
   "metadata": {},
   "outputs": [],
   "source": [
    "from checkers.game import Checkers\n",
    "from checkers.agents.baselines import play_a_game\n",
    "from checkers.game import Checkers\n",
    "from checkers.agents.alpha_beta import MinimaxPlayer, first_order_adv, material_value_adv\n",
    "from tqdm import tqdm\n",
    "from functools import partial"
   ]
  },
  {
   "cell_type": "code",
   "execution_count": 4,
   "metadata": {},
   "outputs": [
    {
     "name": "stdout",
     "output_type": "stream",
     "text": [
      "/home/nontawat/pattern_term_project_2024\n"
     ]
    }
   ],
   "source": [
    "from src.prame_q_learn.agent.white_checker_agent import WhiteCheckerAgent\n",
    "from src.enum import RESULT_TYPE"
   ]
  },
  {
   "cell_type": "code",
   "execution_count": 8,
   "metadata": {},
   "outputs": [
    {
     "data": {
      "text/plain": [
       "2"
      ]
     },
     "execution_count": 8,
     "metadata": {},
     "output_type": "execute_result"
    }
   ],
   "source": [
    "import json\n",
    "if os.path.exists(\"src/prame_q_learn/agent/weight/white_weight.json\"):\n",
    "    os.remove(\"src/prame_q_learn/agent/weight/white_weight.json\")\n",
    "open(\"src/prame_q_learn/agent/weight/white_weight.json\",\"w\").write(\"{}\")"
   ]
  },
  {
   "cell_type": "code",
   "execution_count": 9,
   "metadata": {},
   "outputs": [
    {
     "name": "stderr",
     "output_type": "stream",
     "text": [
      "  5%|██████▍                                                                                                                          | 1/20 [00:02<00:52,  2.77s/it]"
     ]
    },
    {
     "name": "stdout",
     "output_type": "stream",
     "text": [
      "round : 1/20 result lose\n"
     ]
    },
    {
     "name": "stderr",
     "output_type": "stream",
     "text": [
      " 10%|████████████▉                                                                                                                    | 2/20 [00:06<00:54,  3.05s/it]"
     ]
    },
    {
     "name": "stdout",
     "output_type": "stream",
     "text": [
      "round : 2/20 result lose\n"
     ]
    },
    {
     "name": "stderr",
     "output_type": "stream",
     "text": [
      " 15%|███████████████████▎                                                                                                             | 3/20 [00:08<00:49,  2.93s/it]"
     ]
    },
    {
     "name": "stdout",
     "output_type": "stream",
     "text": [
      "round : 3/20 result lose\n"
     ]
    },
    {
     "name": "stderr",
     "output_type": "stream",
     "text": [
      " 20%|█████████████████████████▊                                                                                                       | 4/20 [00:12<00:49,  3.09s/it]"
     ]
    },
    {
     "name": "stdout",
     "output_type": "stream",
     "text": [
      "round : 4/20 result lose\n"
     ]
    },
    {
     "name": "stderr",
     "output_type": "stream",
     "text": [
      " 25%|████████████████████████████████▎                                                                                                | 5/20 [00:15<00:48,  3.23s/it]"
     ]
    },
    {
     "name": "stdout",
     "output_type": "stream",
     "text": [
      "round : 5/20 result lose\n"
     ]
    },
    {
     "name": "stderr",
     "output_type": "stream",
     "text": [
      " 30%|██████████████████████████████████████▋                                                                                          | 6/20 [00:18<00:42,  3.01s/it]"
     ]
    },
    {
     "name": "stdout",
     "output_type": "stream",
     "text": [
      "round : 6/20 result lose\n"
     ]
    },
    {
     "name": "stderr",
     "output_type": "stream",
     "text": [
      " 35%|█████████████████████████████████████████████▏                                                                                   | 7/20 [00:20<00:37,  2.90s/it]"
     ]
    },
    {
     "name": "stdout",
     "output_type": "stream",
     "text": [
      "round : 7/20 result lose\n"
     ]
    },
    {
     "name": "stderr",
     "output_type": "stream",
     "text": [
      " 40%|███████████████████████████████████████████████████▌                                                                             | 8/20 [00:24<00:36,  3.05s/it]"
     ]
    },
    {
     "name": "stdout",
     "output_type": "stream",
     "text": [
      "round : 8/20 result lose\n"
     ]
    },
    {
     "name": "stderr",
     "output_type": "stream",
     "text": [
      " 45%|██████████████████████████████████████████████████████████                                                                       | 9/20 [00:27<00:33,  3.07s/it]"
     ]
    },
    {
     "name": "stdout",
     "output_type": "stream",
     "text": [
      "round : 9/20 result lose\n"
     ]
    },
    {
     "name": "stderr",
     "output_type": "stream",
     "text": [
      " 50%|████████████████████████████████████████████████████████████████                                                                | 10/20 [00:30<00:31,  3.15s/it]"
     ]
    },
    {
     "name": "stdout",
     "output_type": "stream",
     "text": [
      "round : 10/20 result lose\n"
     ]
    },
    {
     "name": "stderr",
     "output_type": "stream",
     "text": [
      " 55%|██████████████████████████████████████████████████████████████████████▍                                                         | 11/20 [00:34<00:28,  3.20s/it]"
     ]
    },
    {
     "name": "stdout",
     "output_type": "stream",
     "text": [
      "round : 11/20 result lose\n"
     ]
    },
    {
     "name": "stderr",
     "output_type": "stream",
     "text": [
      " 60%|████████████████████████████████████████████████████████████████████████████▊                                                   | 12/20 [00:37<00:27,  3.38s/it]"
     ]
    },
    {
     "name": "stdout",
     "output_type": "stream",
     "text": [
      "round : 12/20 result lose\n"
     ]
    },
    {
     "name": "stderr",
     "output_type": "stream",
     "text": [
      " 65%|███████████████████████████████████████████████████████████████████████████████████▏                                            | 13/20 [00:40<00:23,  3.32s/it]"
     ]
    },
    {
     "name": "stdout",
     "output_type": "stream",
     "text": [
      "round : 13/20 result lose\n"
     ]
    },
    {
     "name": "stderr",
     "output_type": "stream",
     "text": [
      " 70%|█████████████████████████████████████████████████████████████████████████████████████████▌                                      | 14/20 [00:43<00:19,  3.20s/it]"
     ]
    },
    {
     "name": "stdout",
     "output_type": "stream",
     "text": [
      "round : 14/20 result lose\n"
     ]
    },
    {
     "name": "stderr",
     "output_type": "stream",
     "text": [
      " 75%|████████████████████████████████████████████████████████████████████████████████████████████████                                | 15/20 [00:46<00:15,  3.09s/it]"
     ]
    },
    {
     "name": "stdout",
     "output_type": "stream",
     "text": [
      "round : 15/20 result lose\n"
     ]
    },
    {
     "name": "stderr",
     "output_type": "stream",
     "text": [
      " 80%|██████████████████████████████████████████████████████████████████████████████████████████████████████▍                         | 16/20 [00:49<00:11,  2.91s/it]"
     ]
    },
    {
     "name": "stdout",
     "output_type": "stream",
     "text": [
      "round : 16/20 result lose\n"
     ]
    },
    {
     "name": "stderr",
     "output_type": "stream",
     "text": [
      " 85%|████████████████████████████████████████████████████████████████████████████████████████████████████████████▊                   | 17/20 [00:51<00:08,  2.86s/it]"
     ]
    },
    {
     "name": "stdout",
     "output_type": "stream",
     "text": [
      "round : 17/20 result lose\n"
     ]
    },
    {
     "name": "stderr",
     "output_type": "stream",
     "text": [
      " 90%|███████████████████████████████████████████████████████████████████████████████████████████████████████████████████▏            | 18/20 [00:55<00:05,  2.99s/it]"
     ]
    },
    {
     "name": "stdout",
     "output_type": "stream",
     "text": [
      "round : 18/20 result lose\n"
     ]
    },
    {
     "name": "stderr",
     "output_type": "stream",
     "text": [
      " 95%|█████████████████████████████████████████████████████████████████████████████████████████████████████████████████████████▌      | 19/20 [00:58<00:03,  3.02s/it]"
     ]
    },
    {
     "name": "stdout",
     "output_type": "stream",
     "text": [
      "round : 19/20 result lose\n"
     ]
    },
    {
     "name": "stderr",
     "output_type": "stream",
     "text": [
      "100%|████████████████████████████████████████████████████████████████████████████████████████████████████████████████████████████████| 20/20 [01:01<00:00,  3.10s/it]"
     ]
    },
    {
     "name": "stdout",
     "output_type": "stream",
     "text": [
      "round : 20/20 result lose\n",
      "black win 20 draw 0 loss 0\n"
     ]
    },
    {
     "name": "stderr",
     "output_type": "stream",
     "text": [
      "\n"
     ]
    }
   ],
   "source": [
    "# A few matches against a random player\n",
    "max_game_len = 100\n",
    "n_matches = 20\n",
    "n_wins, n_draws, n_losses = 0, 0, 0\n",
    "is_show_game = False\n",
    "for i in tqdm(range(n_matches)):\n",
    "    if is_show_game:\n",
    "        print('game', i)\n",
    "    ch = Checkers()\n",
    "    black_player = MinimaxPlayer(\n",
    "        'black',\n",
    "        value_func=partial(first_order_adv, 'black', 200, 100, 20, 0),\n",
    "        # The provided legal moves might be ordered differently\n",
    "        rollout_order_gen=lambda x: sorted(x),\n",
    "        search_depth=4,\n",
    "        seed=i)\n",
    "\n",
    "    # white_player = MinimaxPlayer('white', value_func=partial(material_value_adv, 'white', 2, 1), search_depth=4, seed=i * 2)\n",
    "    # white_player = RandomPlayer('white', seed=i * 2)\n",
    "    white_player = WhiteCheckerAgent(weight_path = \"src/prame_q_learn/agent/weight/white_weight.json\",        \n",
    "                                    explore_rate= 0.1,\n",
    "                                    alpha= 0.9,\n",
    "                                    gamma= 0.5,\n",
    "                                    win_score= 100,\n",
    "                                    draw_score= -5,\n",
    "                                    lose_score= -50,\n",
    "                                    )\n",
    "\n",
    "    #modify this function to put our RL model as white\n",
    "    winner = play_a_game(ch, black_player.next_move, white_player.next_move, max_game_len,is_show_detail = is_show_game)\n",
    "\n",
    "    # Play with a minimax player\n",
    "    # play_a_game(ch, keyboard_player_move, white_player.next_move)\n",
    "    if is_show_game:\n",
    "        print('black player evaluated %i positions in %.2fs (avg %.2f positions/s) effective branching factor %.2f' % (black_player.n_evaluated_positions, black_player.evaluation_dt, black_player.n_evaluated_positions / black_player.evaluation_dt, (black_player.n_evaluated_positions / black_player.ply) ** (1 / black_player.search_depth)))\n",
    "        print('black player pruned', black_player.prunes.items())\n",
    "        print()\n",
    "    # Keep scores\n",
    "    # n_wins += 1 if winner == 'black' else 0\n",
    "    # n_draws += 1 if winner is None else 0\n",
    "    # n_losses += 1 if winner == 'white' else 0\n",
    "    result:RESULT_TYPE\n",
    "    if winner == 'black':\n",
    "        n_wins += 1\n",
    "        result = RESULT_TYPE.LOSE\n",
    "    elif winner is None:\n",
    "        n_draws += 1\n",
    "        result = RESULT_TYPE.DRAW\n",
    "    else:\n",
    "        n_losses += 1\n",
    "        result = RESULT_TYPE.WIN\n",
    "    white_player.get_result(result)\n",
    "    print(f\"round : {i+1}/{n_matches} result {result.value}\")\n",
    "\n",
    "print('black win', n_wins, 'draw', n_draws, 'loss', n_losses)"
   ]
  },
  {
   "cell_type": "code",
   "execution_count": null,
   "metadata": {},
   "outputs": [],
   "source": []
  }
 ],
 "metadata": {
  "kernelspec": {
   "display_name": "Python 3 (ipykernel)",
   "language": "python",
   "name": "python3"
  },
  "language_info": {
   "codemirror_mode": {
    "name": "ipython",
    "version": 3
   },
   "file_extension": ".py",
   "mimetype": "text/x-python",
   "name": "python",
   "nbconvert_exporter": "python",
   "pygments_lexer": "ipython3",
   "version": "3.11.4"
  }
 },
 "nbformat": 4,
 "nbformat_minor": 4
}
