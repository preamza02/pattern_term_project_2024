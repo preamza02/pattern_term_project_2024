{
 "cells": [
  {
   "cell_type": "code",
   "execution_count": 1,
   "metadata": {},
   "outputs": [],
   "source": [
    "# from src.utils import append_gym_checker\n",
    "\n",
    "# append_gym_checker()"
   ]
  },
  {
   "cell_type": "code",
   "execution_count": 2,
   "metadata": {},
   "outputs": [],
   "source": [
    "import os\n",
    "from pathlib import Path\n",
    "import sys\n",
    "\n",
    "pwd = Path(os.getcwd())\n",
    "if (pwd.name == \"notebooks\"):\n",
    "    sys.path.append(str(pwd.parent / \"gym-checkers-for-thai\"))\n",
    "else:\n",
    "    sys.path.append(str(pwd / \"gym-checkers-for-thai\"))"
   ]
  },
  {
   "cell_type": "code",
   "execution_count": 3,
   "metadata": {},
   "outputs": [
    {
     "name": "stdout",
     "output_type": "stream",
     "text": [
      "/home/boat/pattern/pattern_term_project_2024\n"
     ]
    }
   ],
   "source": [
    "!pwd"
   ]
  },
  {
   "cell_type": "code",
   "execution_count": 4,
   "metadata": {},
   "outputs": [],
   "source": [
    "from checkers.game import Checkers\n",
    "from checkers.agents.baselines import play_a_game\n",
    "from checkers.game import Checkers\n",
    "from checkers.agents.alpha_beta import MinimaxPlayer, first_order_adv, material_value_adv\n",
    "from tqdm import tqdm\n",
    "from functools import partial"
   ]
  },
  {
   "cell_type": "code",
   "execution_count": 5,
   "metadata": {},
   "outputs": [
    {
     "name": "stdout",
     "output_type": "stream",
     "text": [
      "/home/boat/pattern/pattern_term_project_2024\n"
     ]
    }
   ],
   "source": [
    "from src.prame_q_learn.agent.white_checker_agent import WhiteCheckerAgent\n",
    "from src.enum import RESULT_TYPE"
   ]
  },
  {
   "cell_type": "code",
   "execution_count": 11,
   "metadata": {},
   "outputs": [
    {
     "data": {
      "text/plain": [
       "2"
      ]
     },
     "execution_count": 11,
     "metadata": {},
     "output_type": "execute_result"
    }
   ],
   "source": [
    "# import json\n",
    "# if os.path.exists(\"src/prame_q_learn/agent/weight/white_weight.json\"):\n",
    "#     os.remove(\"src/prame_q_learn/agent/weight/white_weight.json\")\n",
    "# open(\"src/prame_q_learn/agent/weight/white_weight.json\",\"w\").write(\"{}\")"
   ]
  },
  {
   "cell_type": "code",
   "execution_count": 12,
   "metadata": {},
   "outputs": [
    {
     "name": "stderr",
     "output_type": "stream",
     "text": [
      "  0%|▏                                                                                                                                           | 1/1000 [00:00<11:49,  1.41it/s]"
     ]
    },
    {
     "name": "stdout",
     "output_type": "stream",
     "text": [
      "round : 1/1000 result lose, explore_rate 0.1\n"
     ]
    },
    {
     "name": "stderr",
     "output_type": "stream",
     "text": [
      "  0%|▎                                                                                                                                           | 2/1000 [00:01<11:10,  1.49it/s]"
     ]
    },
    {
     "name": "stdout",
     "output_type": "stream",
     "text": [
      "round : 2/1000 result lose, explore_rate 0.1\n"
     ]
    },
    {
     "name": "stderr",
     "output_type": "stream",
     "text": [
      "  0%|▍                                                                                                                                           | 3/1000 [00:01<10:17,  1.61it/s]"
     ]
    },
    {
     "name": "stdout",
     "output_type": "stream",
     "text": [
      "round : 3/1000 result lose, explore_rate 0.1\n"
     ]
    },
    {
     "name": "stderr",
     "output_type": "stream",
     "text": [
      "  0%|▌                                                                                                                                           | 4/1000 [00:02<08:24,  1.98it/s]"
     ]
    },
    {
     "name": "stdout",
     "output_type": "stream",
     "text": [
      "round : 4/1000 result lose, explore_rate 0.1\n"
     ]
    },
    {
     "name": "stderr",
     "output_type": "stream",
     "text": [
      "  0%|▋                                                                                                                                           | 5/1000 [00:05<22:24,  1.35s/it]"
     ]
    },
    {
     "name": "stdout",
     "output_type": "stream",
     "text": [
      "round : 5/1000 result lose, explore_rate 0.1\n"
     ]
    },
    {
     "name": "stderr",
     "output_type": "stream",
     "text": [
      "  1%|▊                                                                                                                                           | 6/1000 [00:05<18:06,  1.09s/it]"
     ]
    },
    {
     "name": "stdout",
     "output_type": "stream",
     "text": [
      "round : 6/1000 result lose, explore_rate 0.1\n"
     ]
    },
    {
     "name": "stderr",
     "output_type": "stream",
     "text": [
      "  1%|▉                                                                                                                                           | 7/1000 [00:06<15:41,  1.05it/s]"
     ]
    },
    {
     "name": "stdout",
     "output_type": "stream",
     "text": [
      "round : 7/1000 result lose, explore_rate 0.1\n"
     ]
    },
    {
     "name": "stderr",
     "output_type": "stream",
     "text": [
      "  1%|█                                                                                                                                           | 8/1000 [00:07<15:04,  1.10it/s]"
     ]
    },
    {
     "name": "stdout",
     "output_type": "stream",
     "text": [
      "round : 8/1000 result lose, explore_rate 0.1\n"
     ]
    },
    {
     "name": "stderr",
     "output_type": "stream",
     "text": [
      "  1%|█▎                                                                                                                                          | 9/1000 [00:07<13:05,  1.26it/s]"
     ]
    },
    {
     "name": "stdout",
     "output_type": "stream",
     "text": [
      "round : 9/1000 result lose, explore_rate 0.1\n"
     ]
    },
    {
     "name": "stderr",
     "output_type": "stream",
     "text": [
      "  1%|█▍                                                                                                                                         | 10/1000 [00:08<11:47,  1.40it/s]"
     ]
    },
    {
     "name": "stdout",
     "output_type": "stream",
     "text": [
      "round : 10/1000 result lose, explore_rate 0.1\n"
     ]
    },
    {
     "name": "stderr",
     "output_type": "stream",
     "text": [
      "  1%|█▌                                                                                                                                         | 11/1000 [00:08<10:37,  1.55it/s]"
     ]
    },
    {
     "name": "stdout",
     "output_type": "stream",
     "text": [
      "round : 11/1000 result lose, explore_rate 0.1\n"
     ]
    },
    {
     "name": "stderr",
     "output_type": "stream",
     "text": [
      "  1%|█▋                                                                                                                                         | 12/1000 [00:10<13:46,  1.20it/s]"
     ]
    },
    {
     "name": "stdout",
     "output_type": "stream",
     "text": [
      "round : 12/1000 result lose, explore_rate 0.1\n"
     ]
    },
    {
     "name": "stderr",
     "output_type": "stream",
     "text": [
      "  1%|█▊                                                                                                                                         | 13/1000 [00:10<12:47,  1.29it/s]"
     ]
    },
    {
     "name": "stdout",
     "output_type": "stream",
     "text": [
      "round : 13/1000 result lose, explore_rate 0.1\n"
     ]
    },
    {
     "name": "stderr",
     "output_type": "stream",
     "text": [
      "  1%|█▉                                                                                                                                         | 14/1000 [00:11<11:29,  1.43it/s]"
     ]
    },
    {
     "name": "stdout",
     "output_type": "stream",
     "text": [
      "round : 14/1000 result lose, explore_rate 0.1\n"
     ]
    },
    {
     "name": "stderr",
     "output_type": "stream",
     "text": [
      "  2%|██                                                                                                                                         | 15/1000 [00:11<10:24,  1.58it/s]"
     ]
    },
    {
     "name": "stdout",
     "output_type": "stream",
     "text": [
      "round : 15/1000 result lose, explore_rate 0.1\n"
     ]
    },
    {
     "name": "stderr",
     "output_type": "stream",
     "text": [
      "  2%|██▏                                                                                                                                        | 16/1000 [00:12<10:14,  1.60it/s]"
     ]
    },
    {
     "name": "stdout",
     "output_type": "stream",
     "text": [
      "round : 16/1000 result lose, explore_rate 0.1\n"
     ]
    },
    {
     "name": "stderr",
     "output_type": "stream",
     "text": [
      "  2%|██▎                                                                                                                                        | 17/1000 [00:12<10:49,  1.51it/s]"
     ]
    },
    {
     "name": "stdout",
     "output_type": "stream",
     "text": [
      "round : 17/1000 result lose, explore_rate 0.1\n"
     ]
    },
    {
     "name": "stderr",
     "output_type": "stream",
     "text": [
      "  2%|██▌                                                                                                                                        | 18/1000 [00:14<14:47,  1.11it/s]"
     ]
    },
    {
     "name": "stdout",
     "output_type": "stream",
     "text": [
      "round : 18/1000 result lose, explore_rate 0.1\n"
     ]
    },
    {
     "name": "stderr",
     "output_type": "stream",
     "text": [
      "  2%|██▋                                                                                                                                        | 19/1000 [00:15<14:02,  1.16it/s]"
     ]
    },
    {
     "name": "stdout",
     "output_type": "stream",
     "text": [
      "round : 19/1000 result lose, explore_rate 0.1\n"
     ]
    },
    {
     "name": "stderr",
     "output_type": "stream",
     "text": [
      "  2%|██▊                                                                                                                                        | 20/1000 [00:15<12:21,  1.32it/s]"
     ]
    },
    {
     "name": "stdout",
     "output_type": "stream",
     "text": [
      "round : 20/1000 result lose, explore_rate 0.1\n"
     ]
    },
    {
     "name": "stderr",
     "output_type": "stream",
     "text": [
      "  2%|██▉                                                                                                                                        | 21/1000 [00:16<11:25,  1.43it/s]"
     ]
    },
    {
     "name": "stdout",
     "output_type": "stream",
     "text": [
      "round : 21/1000 result lose, explore_rate 0.1\n"
     ]
    },
    {
     "name": "stderr",
     "output_type": "stream",
     "text": [
      "  2%|███                                                                                                                                        | 22/1000 [00:16<10:38,  1.53it/s]"
     ]
    },
    {
     "name": "stdout",
     "output_type": "stream",
     "text": [
      "round : 22/1000 result lose, explore_rate 0.1\n"
     ]
    },
    {
     "name": "stderr",
     "output_type": "stream",
     "text": [
      "  2%|███▏                                                                                                                                       | 23/1000 [00:17<12:31,  1.30it/s]"
     ]
    },
    {
     "name": "stdout",
     "output_type": "stream",
     "text": [
      "round : 23/1000 result lose, explore_rate 0.1\n"
     ]
    },
    {
     "name": "stderr",
     "output_type": "stream",
     "text": [
      "  2%|███▎                                                                                                                                       | 24/1000 [00:18<11:24,  1.43it/s]"
     ]
    },
    {
     "name": "stdout",
     "output_type": "stream",
     "text": [
      "round : 24/1000 result lose, explore_rate 0.1\n"
     ]
    },
    {
     "name": "stderr",
     "output_type": "stream",
     "text": [
      "  2%|███▍                                                                                                                                       | 25/1000 [00:18<10:40,  1.52it/s]"
     ]
    },
    {
     "name": "stdout",
     "output_type": "stream",
     "text": [
      "round : 25/1000 result lose, explore_rate 0.1\n"
     ]
    },
    {
     "name": "stderr",
     "output_type": "stream",
     "text": [
      "  3%|███▌                                                                                                                                       | 26/1000 [00:19<10:23,  1.56it/s]"
     ]
    },
    {
     "name": "stdout",
     "output_type": "stream",
     "text": [
      "round : 26/1000 result lose, explore_rate 0.1\n"
     ]
    },
    {
     "name": "stderr",
     "output_type": "stream",
     "text": [
      "  3%|███▊                                                                                                                                       | 27/1000 [00:20<11:32,  1.40it/s]"
     ]
    },
    {
     "name": "stdout",
     "output_type": "stream",
     "text": [
      "round : 27/1000 result lose, explore_rate 0.1\n"
     ]
    },
    {
     "name": "stderr",
     "output_type": "stream",
     "text": [
      "  3%|███▉                                                                                                                                       | 28/1000 [00:21<11:19,  1.43it/s]"
     ]
    },
    {
     "name": "stdout",
     "output_type": "stream",
     "text": [
      "round : 28/1000 result lose, explore_rate 0.1\n"
     ]
    },
    {
     "name": "stderr",
     "output_type": "stream",
     "text": [
      "  3%|████                                                                                                                                       | 29/1000 [00:21<10:37,  1.52it/s]"
     ]
    },
    {
     "name": "stdout",
     "output_type": "stream",
     "text": [
      "round : 29/1000 result lose, explore_rate 0.1\n"
     ]
    },
    {
     "name": "stderr",
     "output_type": "stream",
     "text": [
      "  3%|████▏                                                                                                                                      | 30/1000 [00:22<11:12,  1.44it/s]"
     ]
    },
    {
     "name": "stdout",
     "output_type": "stream",
     "text": [
      "round : 30/1000 result lose, explore_rate 0.1\n"
     ]
    },
    {
     "name": "stderr",
     "output_type": "stream",
     "text": [
      "  3%|████▎                                                                                                                                      | 31/1000 [00:22<10:04,  1.60it/s]"
     ]
    },
    {
     "name": "stdout",
     "output_type": "stream",
     "text": [
      "round : 31/1000 result lose, explore_rate 0.1\n"
     ]
    },
    {
     "name": "stderr",
     "output_type": "stream",
     "text": [
      "  3%|████▍                                                                                                                                      | 32/1000 [00:23<09:48,  1.65it/s]"
     ]
    },
    {
     "name": "stdout",
     "output_type": "stream",
     "text": [
      "round : 32/1000 result lose, explore_rate 0.1\n"
     ]
    },
    {
     "name": "stderr",
     "output_type": "stream",
     "text": [
      "  3%|████▌                                                                                                                                      | 33/1000 [00:24<11:13,  1.43it/s]"
     ]
    },
    {
     "name": "stdout",
     "output_type": "stream",
     "text": [
      "round : 33/1000 result lose, explore_rate 0.1\n"
     ]
    },
    {
     "name": "stderr",
     "output_type": "stream",
     "text": [
      "  3%|████▋                                                                                                                                      | 34/1000 [00:24<10:25,  1.55it/s]"
     ]
    },
    {
     "name": "stdout",
     "output_type": "stream",
     "text": [
      "round : 34/1000 result lose, explore_rate 0.1\n"
     ]
    },
    {
     "name": "stderr",
     "output_type": "stream",
     "text": [
      "  4%|████▊                                                                                                                                      | 35/1000 [00:25<09:34,  1.68it/s]"
     ]
    },
    {
     "name": "stdout",
     "output_type": "stream",
     "text": [
      "round : 35/1000 result lose, explore_rate 0.1\n"
     ]
    },
    {
     "name": "stderr",
     "output_type": "stream",
     "text": [
      "  4%|█████                                                                                                                                      | 36/1000 [00:26<09:56,  1.62it/s]"
     ]
    },
    {
     "name": "stdout",
     "output_type": "stream",
     "text": [
      "round : 36/1000 result lose, explore_rate 0.1\n"
     ]
    },
    {
     "name": "stderr",
     "output_type": "stream",
     "text": [
      "  4%|█████▏                                                                                                                                     | 37/1000 [00:26<09:51,  1.63it/s]"
     ]
    },
    {
     "name": "stdout",
     "output_type": "stream",
     "text": [
      "round : 37/1000 result lose, explore_rate 0.1\n"
     ]
    },
    {
     "name": "stderr",
     "output_type": "stream",
     "text": [
      "  4%|█████▎                                                                                                                                     | 38/1000 [00:27<10:06,  1.59it/s]"
     ]
    },
    {
     "name": "stdout",
     "output_type": "stream",
     "text": [
      "round : 38/1000 result lose, explore_rate 0.1\n"
     ]
    },
    {
     "name": "stderr",
     "output_type": "stream",
     "text": [
      "  4%|█████▍                                                                                                                                     | 39/1000 [00:28<11:58,  1.34it/s]"
     ]
    },
    {
     "name": "stdout",
     "output_type": "stream",
     "text": [
      "round : 39/1000 result lose, explore_rate 0.1\n"
     ]
    },
    {
     "name": "stderr",
     "output_type": "stream",
     "text": [
      "  4%|█████▌                                                                                                                                     | 40/1000 [00:29<11:34,  1.38it/s]"
     ]
    },
    {
     "name": "stdout",
     "output_type": "stream",
     "text": [
      "round : 40/1000 result lose, explore_rate 0.1\n"
     ]
    },
    {
     "name": "stderr",
     "output_type": "stream",
     "text": [
      "  4%|█████▋                                                                                                                                     | 41/1000 [00:29<10:30,  1.52it/s]"
     ]
    },
    {
     "name": "stdout",
     "output_type": "stream",
     "text": [
      "round : 41/1000 result lose, explore_rate 0.1\n"
     ]
    },
    {
     "name": "stderr",
     "output_type": "stream",
     "text": [
      "  4%|█████▊                                                                                                                                     | 42/1000 [00:30<09:41,  1.65it/s]"
     ]
    },
    {
     "name": "stdout",
     "output_type": "stream",
     "text": [
      "round : 42/1000 result lose, explore_rate 0.1\n"
     ]
    },
    {
     "name": "stderr",
     "output_type": "stream",
     "text": [
      "  4%|█████▉                                                                                                                                     | 43/1000 [00:30<09:01,  1.77it/s]"
     ]
    },
    {
     "name": "stdout",
     "output_type": "stream",
     "text": [
      "round : 43/1000 result lose, explore_rate 0.1\n"
     ]
    },
    {
     "name": "stderr",
     "output_type": "stream",
     "text": [
      "  4%|██████                                                                                                                                     | 44/1000 [00:31<09:17,  1.72it/s]"
     ]
    },
    {
     "name": "stdout",
     "output_type": "stream",
     "text": [
      "round : 44/1000 result lose, explore_rate 0.1\n"
     ]
    },
    {
     "name": "stderr",
     "output_type": "stream",
     "text": [
      "  4%|██████▎                                                                                                                                    | 45/1000 [00:31<09:54,  1.61it/s]"
     ]
    },
    {
     "name": "stdout",
     "output_type": "stream",
     "text": [
      "round : 45/1000 result lose, explore_rate 0.1\n"
     ]
    },
    {
     "name": "stderr",
     "output_type": "stream",
     "text": [
      "  5%|██████▍                                                                                                                                    | 46/1000 [00:32<09:45,  1.63it/s]"
     ]
    },
    {
     "name": "stdout",
     "output_type": "stream",
     "text": [
      "round : 46/1000 result lose, explore_rate 0.1\n"
     ]
    },
    {
     "name": "stderr",
     "output_type": "stream",
     "text": [
      "  5%|██████▌                                                                                                                                    | 47/1000 [00:33<10:03,  1.58it/s]"
     ]
    },
    {
     "name": "stdout",
     "output_type": "stream",
     "text": [
      "round : 47/1000 result lose, explore_rate 0.1\n"
     ]
    },
    {
     "name": "stderr",
     "output_type": "stream",
     "text": [
      "  5%|██████▋                                                                                                                                    | 48/1000 [00:33<10:11,  1.56it/s]"
     ]
    },
    {
     "name": "stdout",
     "output_type": "stream",
     "text": [
      "round : 48/1000 result lose, explore_rate 0.1\n"
     ]
    },
    {
     "name": "stderr",
     "output_type": "stream",
     "text": [
      "  5%|██████▊                                                                                                                                    | 49/1000 [00:34<09:46,  1.62it/s]"
     ]
    },
    {
     "name": "stdout",
     "output_type": "stream",
     "text": [
      "round : 49/1000 result lose, explore_rate 0.1\n"
     ]
    },
    {
     "name": "stderr",
     "output_type": "stream",
     "text": [
      "  5%|██████▉                                                                                                                                    | 50/1000 [00:34<08:49,  1.79it/s]"
     ]
    },
    {
     "name": "stdout",
     "output_type": "stream",
     "text": [
      "round : 50/1000 result lose, explore_rate 0.1\n"
     ]
    },
    {
     "name": "stderr",
     "output_type": "stream",
     "text": [
      "  5%|███████                                                                                                                                    | 51/1000 [00:35<08:34,  1.84it/s]"
     ]
    },
    {
     "name": "stdout",
     "output_type": "stream",
     "text": [
      "round : 51/1000 result lose, explore_rate 0.1\n"
     ]
    },
    {
     "name": "stderr",
     "output_type": "stream",
     "text": [
      "  5%|███████▏                                                                                                                                   | 52/1000 [00:35<08:24,  1.88it/s]"
     ]
    },
    {
     "name": "stdout",
     "output_type": "stream",
     "text": [
      "round : 52/1000 result lose, explore_rate 0.1\n"
     ]
    },
    {
     "name": "stderr",
     "output_type": "stream",
     "text": [
      "  5%|███████▎                                                                                                                                   | 53/1000 [00:36<08:41,  1.82it/s]"
     ]
    },
    {
     "name": "stdout",
     "output_type": "stream",
     "text": [
      "round : 53/1000 result lose, explore_rate 0.1\n"
     ]
    },
    {
     "name": "stderr",
     "output_type": "stream",
     "text": [
      "  5%|███████▌                                                                                                                                   | 54/1000 [00:36<09:01,  1.75it/s]"
     ]
    },
    {
     "name": "stdout",
     "output_type": "stream",
     "text": [
      "round : 54/1000 result lose, explore_rate 0.1\n"
     ]
    },
    {
     "name": "stderr",
     "output_type": "stream",
     "text": [
      "  6%|███████▋                                                                                                                                   | 55/1000 [00:37<08:28,  1.86it/s]"
     ]
    },
    {
     "name": "stdout",
     "output_type": "stream",
     "text": [
      "round : 55/1000 result lose, explore_rate 0.1\n"
     ]
    },
    {
     "name": "stderr",
     "output_type": "stream",
     "text": [
      "  6%|███████▊                                                                                                                                   | 56/1000 [00:37<08:15,  1.90it/s]"
     ]
    },
    {
     "name": "stdout",
     "output_type": "stream",
     "text": [
      "round : 56/1000 result lose, explore_rate 0.1\n"
     ]
    },
    {
     "name": "stderr",
     "output_type": "stream",
     "text": [
      "  6%|███████▉                                                                                                                                   | 57/1000 [00:38<09:16,  1.69it/s]"
     ]
    },
    {
     "name": "stdout",
     "output_type": "stream",
     "text": [
      "round : 57/1000 result lose, explore_rate 0.1\n"
     ]
    },
    {
     "name": "stderr",
     "output_type": "stream",
     "text": [
      "  6%|████████                                                                                                                                   | 58/1000 [00:39<09:13,  1.70it/s]"
     ]
    },
    {
     "name": "stdout",
     "output_type": "stream",
     "text": [
      "round : 58/1000 result lose, explore_rate 0.1\n"
     ]
    },
    {
     "name": "stderr",
     "output_type": "stream",
     "text": [
      "  6%|████████▏                                                                                                                                  | 59/1000 [00:39<08:36,  1.82it/s]"
     ]
    },
    {
     "name": "stdout",
     "output_type": "stream",
     "text": [
      "round : 59/1000 result lose, explore_rate 0.1\n"
     ]
    },
    {
     "name": "stderr",
     "output_type": "stream",
     "text": [
      "  6%|████████▎                                                                                                                                  | 60/1000 [00:40<09:21,  1.67it/s]"
     ]
    },
    {
     "name": "stdout",
     "output_type": "stream",
     "text": [
      "round : 60/1000 result lose, explore_rate 0.1\n"
     ]
    },
    {
     "name": "stderr",
     "output_type": "stream",
     "text": [
      "  6%|████████▍                                                                                                                                  | 61/1000 [00:41<09:20,  1.67it/s]"
     ]
    },
    {
     "name": "stdout",
     "output_type": "stream",
     "text": [
      "round : 61/1000 result lose, explore_rate 0.1\n"
     ]
    },
    {
     "name": "stderr",
     "output_type": "stream",
     "text": [
      "  6%|████████▌                                                                                                                                  | 62/1000 [00:41<09:30,  1.64it/s]"
     ]
    },
    {
     "name": "stdout",
     "output_type": "stream",
     "text": [
      "round : 62/1000 result lose, explore_rate 0.1\n"
     ]
    },
    {
     "name": "stderr",
     "output_type": "stream",
     "text": [
      "  6%|████████▊                                                                                                                                  | 63/1000 [00:42<09:56,  1.57it/s]"
     ]
    },
    {
     "name": "stdout",
     "output_type": "stream",
     "text": [
      "round : 63/1000 result lose, explore_rate 0.1\n"
     ]
    },
    {
     "name": "stderr",
     "output_type": "stream",
     "text": [
      "  6%|████████▉                                                                                                                                  | 64/1000 [00:42<09:34,  1.63it/s]"
     ]
    },
    {
     "name": "stdout",
     "output_type": "stream",
     "text": [
      "round : 64/1000 result lose, explore_rate 0.1\n"
     ]
    },
    {
     "name": "stderr",
     "output_type": "stream",
     "text": [
      "  6%|█████████                                                                                                                                  | 65/1000 [00:43<10:21,  1.50it/s]"
     ]
    },
    {
     "name": "stdout",
     "output_type": "stream",
     "text": [
      "round : 65/1000 result lose, explore_rate 0.1\n"
     ]
    },
    {
     "name": "stderr",
     "output_type": "stream",
     "text": [
      "  7%|█████████▏                                                                                                                                 | 66/1000 [00:44<10:23,  1.50it/s]"
     ]
    },
    {
     "name": "stdout",
     "output_type": "stream",
     "text": [
      "round : 66/1000 result lose, explore_rate 0.1\n"
     ]
    },
    {
     "name": "stderr",
     "output_type": "stream",
     "text": [
      "  7%|█████████▎                                                                                                                                 | 67/1000 [00:45<10:20,  1.50it/s]"
     ]
    },
    {
     "name": "stdout",
     "output_type": "stream",
     "text": [
      "round : 67/1000 result lose, explore_rate 0.1\n"
     ]
    },
    {
     "name": "stderr",
     "output_type": "stream",
     "text": [
      "  7%|█████████▍                                                                                                                                 | 68/1000 [00:45<10:03,  1.54it/s]"
     ]
    },
    {
     "name": "stdout",
     "output_type": "stream",
     "text": [
      "round : 68/1000 result lose, explore_rate 0.1\n"
     ]
    },
    {
     "name": "stderr",
     "output_type": "stream",
     "text": [
      "  7%|█████████▌                                                                                                                                 | 69/1000 [00:46<11:29,  1.35it/s]"
     ]
    },
    {
     "name": "stdout",
     "output_type": "stream",
     "text": [
      "round : 69/1000 result lose, explore_rate 0.1\n"
     ]
    },
    {
     "name": "stderr",
     "output_type": "stream",
     "text": [
      "  7%|█████████▋                                                                                                                                 | 70/1000 [00:47<11:55,  1.30it/s]"
     ]
    },
    {
     "name": "stdout",
     "output_type": "stream",
     "text": [
      "round : 70/1000 result lose, explore_rate 0.1\n"
     ]
    },
    {
     "name": "stderr",
     "output_type": "stream",
     "text": [
      "  7%|█████████▊                                                                                                                                 | 71/1000 [00:48<11:58,  1.29it/s]"
     ]
    },
    {
     "name": "stdout",
     "output_type": "stream",
     "text": [
      "round : 71/1000 result lose, explore_rate 0.1\n"
     ]
    },
    {
     "name": "stderr",
     "output_type": "stream",
     "text": [
      "  7%|██████████                                                                                                                                 | 72/1000 [00:48<10:28,  1.48it/s]"
     ]
    },
    {
     "name": "stdout",
     "output_type": "stream",
     "text": [
      "round : 72/1000 result lose, explore_rate 0.1\n"
     ]
    },
    {
     "name": "stderr",
     "output_type": "stream",
     "text": [
      "  7%|██████████▏                                                                                                                                | 73/1000 [00:49<10:20,  1.49it/s]"
     ]
    },
    {
     "name": "stdout",
     "output_type": "stream",
     "text": [
      "round : 73/1000 result lose, explore_rate 0.1\n"
     ]
    },
    {
     "name": "stderr",
     "output_type": "stream",
     "text": [
      "  7%|██████████▎                                                                                                                                | 74/1000 [00:49<10:03,  1.53it/s]"
     ]
    },
    {
     "name": "stdout",
     "output_type": "stream",
     "text": [
      "round : 74/1000 result lose, explore_rate 0.1\n"
     ]
    },
    {
     "name": "stderr",
     "output_type": "stream",
     "text": [
      "  8%|██████████▍                                                                                                                                | 75/1000 [00:50<09:49,  1.57it/s]"
     ]
    },
    {
     "name": "stdout",
     "output_type": "stream",
     "text": [
      "round : 75/1000 result lose, explore_rate 0.1\n"
     ]
    },
    {
     "name": "stderr",
     "output_type": "stream",
     "text": [
      "  8%|██████████▌                                                                                                                                | 76/1000 [00:51<10:00,  1.54it/s]"
     ]
    },
    {
     "name": "stdout",
     "output_type": "stream",
     "text": [
      "round : 76/1000 result lose, explore_rate 0.1\n"
     ]
    },
    {
     "name": "stderr",
     "output_type": "stream",
     "text": [
      "  8%|██████████▋                                                                                                                                | 77/1000 [00:51<10:25,  1.47it/s]"
     ]
    },
    {
     "name": "stdout",
     "output_type": "stream",
     "text": [
      "round : 77/1000 result lose, explore_rate 0.1\n"
     ]
    },
    {
     "name": "stderr",
     "output_type": "stream",
     "text": [
      "  8%|██████████▊                                                                                                                                | 78/1000 [00:52<10:16,  1.50it/s]"
     ]
    },
    {
     "name": "stdout",
     "output_type": "stream",
     "text": [
      "round : 78/1000 result lose, explore_rate 0.1\n"
     ]
    },
    {
     "name": "stderr",
     "output_type": "stream",
     "text": [
      "  8%|██████████▉                                                                                                                                | 79/1000 [00:53<10:14,  1.50it/s]"
     ]
    },
    {
     "name": "stdout",
     "output_type": "stream",
     "text": [
      "round : 79/1000 result lose, explore_rate 0.1\n"
     ]
    },
    {
     "name": "stderr",
     "output_type": "stream",
     "text": [
      "  8%|███████████                                                                                                                                | 80/1000 [00:53<10:17,  1.49it/s]"
     ]
    },
    {
     "name": "stdout",
     "output_type": "stream",
     "text": [
      "round : 80/1000 result lose, explore_rate 0.1\n"
     ]
    },
    {
     "name": "stderr",
     "output_type": "stream",
     "text": [
      "  8%|███████████▎                                                                                                                               | 81/1000 [00:54<09:58,  1.53it/s]"
     ]
    },
    {
     "name": "stdout",
     "output_type": "stream",
     "text": [
      "round : 81/1000 result lose, explore_rate 0.1\n"
     ]
    },
    {
     "name": "stderr",
     "output_type": "stream",
     "text": [
      "  8%|███████████▍                                                                                                                               | 82/1000 [00:55<10:37,  1.44it/s]"
     ]
    },
    {
     "name": "stdout",
     "output_type": "stream",
     "text": [
      "round : 82/1000 result lose, explore_rate 0.1\n"
     ]
    },
    {
     "name": "stderr",
     "output_type": "stream",
     "text": [
      "  8%|███████████▌                                                                                                                               | 83/1000 [00:56<11:19,  1.35it/s]"
     ]
    },
    {
     "name": "stdout",
     "output_type": "stream",
     "text": [
      "round : 83/1000 result lose, explore_rate 0.1\n"
     ]
    },
    {
     "name": "stderr",
     "output_type": "stream",
     "text": [
      "  8%|███████████▋                                                                                                                               | 84/1000 [00:56<10:14,  1.49it/s]"
     ]
    },
    {
     "name": "stdout",
     "output_type": "stream",
     "text": [
      "round : 84/1000 result lose, explore_rate 0.1\n"
     ]
    },
    {
     "name": "stderr",
     "output_type": "stream",
     "text": [
      "  8%|███████████▊                                                                                                                               | 85/1000 [00:57<09:48,  1.56it/s]"
     ]
    },
    {
     "name": "stdout",
     "output_type": "stream",
     "text": [
      "round : 85/1000 result lose, explore_rate 0.1\n"
     ]
    },
    {
     "name": "stderr",
     "output_type": "stream",
     "text": [
      "  9%|███████████▉                                                                                                                               | 86/1000 [00:57<09:36,  1.59it/s]"
     ]
    },
    {
     "name": "stdout",
     "output_type": "stream",
     "text": [
      "round : 86/1000 result lose, explore_rate 0.1\n"
     ]
    },
    {
     "name": "stderr",
     "output_type": "stream",
     "text": [
      "  9%|████████████                                                                                                                               | 87/1000 [00:58<08:54,  1.71it/s]"
     ]
    },
    {
     "name": "stdout",
     "output_type": "stream",
     "text": [
      "round : 87/1000 result lose, explore_rate 0.1\n"
     ]
    },
    {
     "name": "stderr",
     "output_type": "stream",
     "text": [
      "  9%|████████████▏                                                                                                                              | 88/1000 [00:58<09:02,  1.68it/s]"
     ]
    },
    {
     "name": "stdout",
     "output_type": "stream",
     "text": [
      "round : 88/1000 result lose, explore_rate 0.1\n"
     ]
    },
    {
     "name": "stderr",
     "output_type": "stream",
     "text": [
      "  9%|████████████▎                                                                                                                              | 89/1000 [01:00<11:17,  1.34it/s]"
     ]
    },
    {
     "name": "stdout",
     "output_type": "stream",
     "text": [
      "round : 89/1000 result lose, explore_rate 0.1\n"
     ]
    },
    {
     "name": "stderr",
     "output_type": "stream",
     "text": [
      "  9%|████████████▌                                                                                                                              | 90/1000 [01:00<10:31,  1.44it/s]"
     ]
    },
    {
     "name": "stdout",
     "output_type": "stream",
     "text": [
      "round : 90/1000 result lose, explore_rate 0.1\n"
     ]
    },
    {
     "name": "stderr",
     "output_type": "stream",
     "text": [
      "  9%|████████████▋                                                                                                                              | 91/1000 [01:01<10:39,  1.42it/s]"
     ]
    },
    {
     "name": "stdout",
     "output_type": "stream",
     "text": [
      "round : 91/1000 result lose, explore_rate 0.1\n"
     ]
    },
    {
     "name": "stderr",
     "output_type": "stream",
     "text": [
      "  9%|████████████▊                                                                                                                              | 92/1000 [01:02<11:41,  1.29it/s]"
     ]
    },
    {
     "name": "stdout",
     "output_type": "stream",
     "text": [
      "round : 92/1000 result lose, explore_rate 0.1\n"
     ]
    },
    {
     "name": "stderr",
     "output_type": "stream",
     "text": [
      "  9%|████████████▉                                                                                                                              | 93/1000 [01:02<11:07,  1.36it/s]"
     ]
    },
    {
     "name": "stdout",
     "output_type": "stream",
     "text": [
      "round : 93/1000 result lose, explore_rate 0.1\n"
     ]
    },
    {
     "name": "stderr",
     "output_type": "stream",
     "text": [
      "  9%|█████████████                                                                                                                              | 94/1000 [01:04<12:33,  1.20it/s]"
     ]
    },
    {
     "name": "stdout",
     "output_type": "stream",
     "text": [
      "round : 94/1000 result lose, explore_rate 0.1\n"
     ]
    },
    {
     "name": "stderr",
     "output_type": "stream",
     "text": [
      " 10%|█████████████▏                                                                                                                             | 95/1000 [01:04<11:59,  1.26it/s]"
     ]
    },
    {
     "name": "stdout",
     "output_type": "stream",
     "text": [
      "round : 95/1000 result lose, explore_rate 0.1\n"
     ]
    },
    {
     "name": "stderr",
     "output_type": "stream",
     "text": [
      " 10%|█████████████▎                                                                                                                             | 96/1000 [01:05<11:35,  1.30it/s]"
     ]
    },
    {
     "name": "stdout",
     "output_type": "stream",
     "text": [
      "round : 96/1000 result lose, explore_rate 0.1\n"
     ]
    },
    {
     "name": "stderr",
     "output_type": "stream",
     "text": [
      " 10%|█████████████▍                                                                                                                             | 97/1000 [01:06<10:38,  1.41it/s]"
     ]
    },
    {
     "name": "stdout",
     "output_type": "stream",
     "text": [
      "round : 97/1000 result lose, explore_rate 0.1\n"
     ]
    },
    {
     "name": "stderr",
     "output_type": "stream",
     "text": [
      " 10%|█████████████▌                                                                                                                             | 98/1000 [01:07<12:13,  1.23it/s]"
     ]
    },
    {
     "name": "stdout",
     "output_type": "stream",
     "text": [
      "round : 98/1000 result lose, explore_rate 0.1\n"
     ]
    },
    {
     "name": "stderr",
     "output_type": "stream",
     "text": [
      " 10%|█████████████▊                                                                                                                             | 99/1000 [01:07<11:18,  1.33it/s]"
     ]
    },
    {
     "name": "stdout",
     "output_type": "stream",
     "text": [
      "round : 99/1000 result lose, explore_rate 0.1\n"
     ]
    },
    {
     "name": "stderr",
     "output_type": "stream",
     "text": [
      " 10%|█████████████▊                                                                                                                            | 100/1000 [01:08<10:42,  1.40it/s]"
     ]
    },
    {
     "name": "stdout",
     "output_type": "stream",
     "text": [
      "round : 100/1000 result lose, explore_rate 0.1\n"
     ]
    },
    {
     "name": "stderr",
     "output_type": "stream",
     "text": [
      " 10%|█████████████▉                                                                                                                            | 101/1000 [01:08<10:21,  1.45it/s]"
     ]
    },
    {
     "name": "stdout",
     "output_type": "stream",
     "text": [
      "round : 101/1000 result lose, explore_rate 0.1\n"
     ]
    },
    {
     "name": "stderr",
     "output_type": "stream",
     "text": [
      " 10%|██████████████                                                                                                                            | 102/1000 [01:09<09:36,  1.56it/s]"
     ]
    },
    {
     "name": "stdout",
     "output_type": "stream",
     "text": [
      "round : 102/1000 result lose, explore_rate 0.1\n"
     ]
    },
    {
     "name": "stderr",
     "output_type": "stream",
     "text": [
      " 10%|██████████████▏                                                                                                                           | 103/1000 [01:10<09:41,  1.54it/s]"
     ]
    },
    {
     "name": "stdout",
     "output_type": "stream",
     "text": [
      "round : 103/1000 result lose, explore_rate 0.1\n"
     ]
    },
    {
     "name": "stderr",
     "output_type": "stream",
     "text": [
      " 10%|██████████████▎                                                                                                                           | 104/1000 [01:10<09:10,  1.63it/s]"
     ]
    },
    {
     "name": "stdout",
     "output_type": "stream",
     "text": [
      "round : 104/1000 result lose, explore_rate 0.1\n"
     ]
    },
    {
     "name": "stderr",
     "output_type": "stream",
     "text": [
      " 10%|██████████████▍                                                                                                                           | 105/1000 [01:11<09:48,  1.52it/s]"
     ]
    },
    {
     "name": "stdout",
     "output_type": "stream",
     "text": [
      "round : 105/1000 result lose, explore_rate 0.1\n"
     ]
    },
    {
     "name": "stderr",
     "output_type": "stream",
     "text": [
      " 11%|██████████████▋                                                                                                                           | 106/1000 [01:11<09:14,  1.61it/s]"
     ]
    },
    {
     "name": "stdout",
     "output_type": "stream",
     "text": [
      "round : 106/1000 result lose, explore_rate 0.1\n"
     ]
    },
    {
     "name": "stderr",
     "output_type": "stream",
     "text": [
      " 11%|██████████████▊                                                                                                                           | 107/1000 [01:12<09:31,  1.56it/s]"
     ]
    },
    {
     "name": "stdout",
     "output_type": "stream",
     "text": [
      "round : 107/1000 result lose, explore_rate 0.1\n"
     ]
    },
    {
     "name": "stderr",
     "output_type": "stream",
     "text": [
      " 11%|██████████████▉                                                                                                                           | 108/1000 [01:13<09:06,  1.63it/s]"
     ]
    },
    {
     "name": "stdout",
     "output_type": "stream",
     "text": [
      "round : 108/1000 result lose, explore_rate 0.1\n"
     ]
    },
    {
     "name": "stderr",
     "output_type": "stream",
     "text": [
      " 11%|███████████████                                                                                                                           | 109/1000 [01:13<09:03,  1.64it/s]"
     ]
    },
    {
     "name": "stdout",
     "output_type": "stream",
     "text": [
      "round : 109/1000 result lose, explore_rate 0.1\n"
     ]
    },
    {
     "name": "stderr",
     "output_type": "stream",
     "text": [
      " 11%|███████████████▏                                                                                                                          | 110/1000 [01:14<09:35,  1.55it/s]"
     ]
    },
    {
     "name": "stdout",
     "output_type": "stream",
     "text": [
      "round : 110/1000 result lose, explore_rate 0.1\n"
     ]
    },
    {
     "name": "stderr",
     "output_type": "stream",
     "text": [
      " 11%|███████████████▎                                                                                                                          | 111/1000 [01:15<11:15,  1.32it/s]"
     ]
    },
    {
     "name": "stdout",
     "output_type": "stream",
     "text": [
      "round : 111/1000 result lose, explore_rate 0.1\n"
     ]
    },
    {
     "name": "stderr",
     "output_type": "stream",
     "text": [
      " 11%|███████████████▍                                                                                                                          | 112/1000 [01:16<10:11,  1.45it/s]"
     ]
    },
    {
     "name": "stdout",
     "output_type": "stream",
     "text": [
      "round : 112/1000 result lose, explore_rate 0.1\n"
     ]
    },
    {
     "name": "stderr",
     "output_type": "stream",
     "text": [
      " 11%|███████████████▌                                                                                                                          | 113/1000 [01:16<09:54,  1.49it/s]"
     ]
    },
    {
     "name": "stdout",
     "output_type": "stream",
     "text": [
      "round : 113/1000 result lose, explore_rate 0.1\n"
     ]
    },
    {
     "name": "stderr",
     "output_type": "stream",
     "text": [
      " 11%|███████████████▋                                                                                                                          | 114/1000 [01:17<09:40,  1.53it/s]"
     ]
    },
    {
     "name": "stdout",
     "output_type": "stream",
     "text": [
      "round : 114/1000 result lose, explore_rate 0.1\n"
     ]
    },
    {
     "name": "stderr",
     "output_type": "stream",
     "text": [
      " 12%|███████████████▊                                                                                                                          | 115/1000 [01:18<10:03,  1.47it/s]"
     ]
    },
    {
     "name": "stdout",
     "output_type": "stream",
     "text": [
      "round : 115/1000 result lose, explore_rate 0.1\n"
     ]
    },
    {
     "name": "stderr",
     "output_type": "stream",
     "text": [
      " 12%|████████████████                                                                                                                          | 116/1000 [01:18<09:58,  1.48it/s]"
     ]
    },
    {
     "name": "stdout",
     "output_type": "stream",
     "text": [
      "round : 116/1000 result lose, explore_rate 0.1\n"
     ]
    },
    {
     "name": "stderr",
     "output_type": "stream",
     "text": [
      " 12%|████████████████▏                                                                                                                         | 117/1000 [01:19<09:17,  1.58it/s]"
     ]
    },
    {
     "name": "stdout",
     "output_type": "stream",
     "text": [
      "round : 117/1000 result lose, explore_rate 0.1\n"
     ]
    },
    {
     "name": "stderr",
     "output_type": "stream",
     "text": [
      " 12%|████████████████▎                                                                                                                         | 118/1000 [01:19<09:04,  1.62it/s]"
     ]
    },
    {
     "name": "stdout",
     "output_type": "stream",
     "text": [
      "round : 118/1000 result lose, explore_rate 0.1\n"
     ]
    },
    {
     "name": "stderr",
     "output_type": "stream",
     "text": [
      " 12%|████████████████▍                                                                                                                         | 119/1000 [01:20<08:50,  1.66it/s]"
     ]
    },
    {
     "name": "stdout",
     "output_type": "stream",
     "text": [
      "round : 119/1000 result lose, explore_rate 0.1\n"
     ]
    },
    {
     "name": "stderr",
     "output_type": "stream",
     "text": [
      " 12%|████████████████▌                                                                                                                         | 120/1000 [01:21<08:49,  1.66it/s]"
     ]
    },
    {
     "name": "stdout",
     "output_type": "stream",
     "text": [
      "round : 120/1000 result lose, explore_rate 0.1\n"
     ]
    },
    {
     "name": "stderr",
     "output_type": "stream",
     "text": [
      " 12%|████████████████▋                                                                                                                         | 121/1000 [01:21<08:38,  1.70it/s]"
     ]
    },
    {
     "name": "stdout",
     "output_type": "stream",
     "text": [
      "round : 121/1000 result lose, explore_rate 0.1\n"
     ]
    },
    {
     "name": "stderr",
     "output_type": "stream",
     "text": [
      " 12%|████████████████▊                                                                                                                         | 122/1000 [01:22<08:23,  1.74it/s]"
     ]
    },
    {
     "name": "stdout",
     "output_type": "stream",
     "text": [
      "round : 122/1000 result lose, explore_rate 0.1\n"
     ]
    },
    {
     "name": "stderr",
     "output_type": "stream",
     "text": [
      " 12%|████████████████▉                                                                                                                         | 123/1000 [01:22<08:55,  1.64it/s]"
     ]
    },
    {
     "name": "stdout",
     "output_type": "stream",
     "text": [
      "round : 123/1000 result lose, explore_rate 0.1\n"
     ]
    },
    {
     "name": "stderr",
     "output_type": "stream",
     "text": [
      " 12%|█████████████████                                                                                                                         | 124/1000 [01:23<09:51,  1.48it/s]"
     ]
    },
    {
     "name": "stdout",
     "output_type": "stream",
     "text": [
      "round : 124/1000 result lose, explore_rate 0.1\n"
     ]
    },
    {
     "name": "stderr",
     "output_type": "stream",
     "text": [
      " 12%|█████████████████▎                                                                                                                        | 125/1000 [01:24<10:49,  1.35it/s]"
     ]
    },
    {
     "name": "stdout",
     "output_type": "stream",
     "text": [
      "round : 125/1000 result lose, explore_rate 0.1\n"
     ]
    },
    {
     "name": "stderr",
     "output_type": "stream",
     "text": [
      " 13%|█████████████████▍                                                                                                                        | 126/1000 [01:25<11:27,  1.27it/s]"
     ]
    },
    {
     "name": "stdout",
     "output_type": "stream",
     "text": [
      "round : 126/1000 result lose, explore_rate 0.1\n"
     ]
    },
    {
     "name": "stderr",
     "output_type": "stream",
     "text": [
      " 13%|█████████████████▌                                                                                                                        | 127/1000 [01:25<10:28,  1.39it/s]"
     ]
    },
    {
     "name": "stdout",
     "output_type": "stream",
     "text": [
      "round : 127/1000 result lose, explore_rate 0.1\n"
     ]
    },
    {
     "name": "stderr",
     "output_type": "stream",
     "text": [
      " 13%|█████████████████▋                                                                                                                        | 128/1000 [01:26<09:30,  1.53it/s]"
     ]
    },
    {
     "name": "stdout",
     "output_type": "stream",
     "text": [
      "round : 128/1000 result lose, explore_rate 0.1\n"
     ]
    },
    {
     "name": "stderr",
     "output_type": "stream",
     "text": [
      " 13%|█████████████████▊                                                                                                                        | 129/1000 [01:27<09:11,  1.58it/s]"
     ]
    },
    {
     "name": "stdout",
     "output_type": "stream",
     "text": [
      "round : 129/1000 result lose, explore_rate 0.1\n"
     ]
    },
    {
     "name": "stderr",
     "output_type": "stream",
     "text": [
      " 13%|█████████████████▉                                                                                                                        | 130/1000 [01:28<10:47,  1.34it/s]"
     ]
    },
    {
     "name": "stdout",
     "output_type": "stream",
     "text": [
      "round : 130/1000 result lose, explore_rate 0.1\n"
     ]
    },
    {
     "name": "stderr",
     "output_type": "stream",
     "text": [
      " 13%|██████████████████                                                                                                                        | 131/1000 [01:28<10:25,  1.39it/s]"
     ]
    },
    {
     "name": "stdout",
     "output_type": "stream",
     "text": [
      "round : 131/1000 result lose, explore_rate 0.1\n"
     ]
    },
    {
     "name": "stderr",
     "output_type": "stream",
     "text": [
      " 13%|██████████████████▏                                                                                                                       | 132/1000 [01:29<10:40,  1.36it/s]"
     ]
    },
    {
     "name": "stdout",
     "output_type": "stream",
     "text": [
      "round : 132/1000 result lose, explore_rate 0.1\n"
     ]
    },
    {
     "name": "stderr",
     "output_type": "stream",
     "text": [
      " 13%|██████████████████▎                                                                                                                       | 133/1000 [01:30<10:09,  1.42it/s]"
     ]
    },
    {
     "name": "stdout",
     "output_type": "stream",
     "text": [
      "round : 133/1000 result lose, explore_rate 0.1\n"
     ]
    },
    {
     "name": "stderr",
     "output_type": "stream",
     "text": [
      " 13%|██████████████████▍                                                                                                                       | 134/1000 [01:30<10:45,  1.34it/s]"
     ]
    },
    {
     "name": "stdout",
     "output_type": "stream",
     "text": [
      "round : 134/1000 result lose, explore_rate 0.1\n"
     ]
    },
    {
     "name": "stderr",
     "output_type": "stream",
     "text": [
      " 14%|██████████████████▋                                                                                                                       | 135/1000 [01:31<11:31,  1.25it/s]"
     ]
    },
    {
     "name": "stdout",
     "output_type": "stream",
     "text": [
      "round : 135/1000 result lose, explore_rate 0.1\n"
     ]
    },
    {
     "name": "stderr",
     "output_type": "stream",
     "text": [
      " 14%|██████████████████▊                                                                                                                       | 136/1000 [01:32<11:12,  1.28it/s]"
     ]
    },
    {
     "name": "stdout",
     "output_type": "stream",
     "text": [
      "round : 136/1000 result lose, explore_rate 0.1\n"
     ]
    },
    {
     "name": "stderr",
     "output_type": "stream",
     "text": [
      " 14%|██████████████████▉                                                                                                                       | 137/1000 [01:33<10:52,  1.32it/s]"
     ]
    },
    {
     "name": "stdout",
     "output_type": "stream",
     "text": [
      "round : 137/1000 result lose, explore_rate 0.1\n"
     ]
    },
    {
     "name": "stderr",
     "output_type": "stream",
     "text": [
      " 14%|███████████████████                                                                                                                       | 138/1000 [01:34<11:17,  1.27it/s]"
     ]
    },
    {
     "name": "stdout",
     "output_type": "stream",
     "text": [
      "round : 138/1000 result lose, explore_rate 0.1\n"
     ]
    },
    {
     "name": "stderr",
     "output_type": "stream",
     "text": [
      " 14%|███████████████████▏                                                                                                                      | 139/1000 [01:34<09:56,  1.44it/s]"
     ]
    },
    {
     "name": "stdout",
     "output_type": "stream",
     "text": [
      "round : 139/1000 result lose, explore_rate 0.1\n"
     ]
    },
    {
     "name": "stderr",
     "output_type": "stream",
     "text": [
      " 14%|███████████████████▎                                                                                                                      | 140/1000 [01:35<10:09,  1.41it/s]"
     ]
    },
    {
     "name": "stdout",
     "output_type": "stream",
     "text": [
      "round : 140/1000 result lose, explore_rate 0.1\n"
     ]
    },
    {
     "name": "stderr",
     "output_type": "stream",
     "text": [
      " 14%|███████████████████▍                                                                                                                      | 141/1000 [01:36<12:03,  1.19it/s]"
     ]
    },
    {
     "name": "stdout",
     "output_type": "stream",
     "text": [
      "round : 141/1000 result lose, explore_rate 0.1\n"
     ]
    },
    {
     "name": "stderr",
     "output_type": "stream",
     "text": [
      " 14%|███████████████████▌                                                                                                                      | 142/1000 [01:37<11:07,  1.28it/s]"
     ]
    },
    {
     "name": "stdout",
     "output_type": "stream",
     "text": [
      "round : 142/1000 result lose, explore_rate 0.1\n"
     ]
    },
    {
     "name": "stderr",
     "output_type": "stream",
     "text": [
      " 14%|███████████████████▋                                                                                                                      | 143/1000 [01:38<11:23,  1.25it/s]"
     ]
    },
    {
     "name": "stdout",
     "output_type": "stream",
     "text": [
      "round : 143/1000 result lose, explore_rate 0.1\n"
     ]
    },
    {
     "name": "stderr",
     "output_type": "stream",
     "text": [
      " 14%|███████████████████▊                                                                                                                      | 144/1000 [01:38<10:01,  1.42it/s]"
     ]
    },
    {
     "name": "stdout",
     "output_type": "stream",
     "text": [
      "round : 144/1000 result lose, explore_rate 0.1\n"
     ]
    },
    {
     "name": "stderr",
     "output_type": "stream",
     "text": [
      " 14%|████████████████████                                                                                                                      | 145/1000 [01:39<09:41,  1.47it/s]"
     ]
    },
    {
     "name": "stdout",
     "output_type": "stream",
     "text": [
      "round : 145/1000 result lose, explore_rate 0.1\n"
     ]
    },
    {
     "name": "stderr",
     "output_type": "stream",
     "text": [
      " 15%|████████████████████▏                                                                                                                     | 146/1000 [01:39<10:01,  1.42it/s]"
     ]
    },
    {
     "name": "stdout",
     "output_type": "stream",
     "text": [
      "round : 146/1000 result lose, explore_rate 0.1\n"
     ]
    },
    {
     "name": "stderr",
     "output_type": "stream",
     "text": [
      " 15%|████████████████████▎                                                                                                                     | 147/1000 [01:40<10:05,  1.41it/s]"
     ]
    },
    {
     "name": "stdout",
     "output_type": "stream",
     "text": [
      "round : 147/1000 result lose, explore_rate 0.1\n"
     ]
    },
    {
     "name": "stderr",
     "output_type": "stream",
     "text": [
      " 15%|████████████████████▍                                                                                                                     | 148/1000 [01:41<09:22,  1.52it/s]"
     ]
    },
    {
     "name": "stdout",
     "output_type": "stream",
     "text": [
      "round : 148/1000 result lose, explore_rate 0.1\n"
     ]
    },
    {
     "name": "stderr",
     "output_type": "stream",
     "text": [
      " 15%|████████████████████▌                                                                                                                     | 149/1000 [01:41<08:50,  1.61it/s]"
     ]
    },
    {
     "name": "stdout",
     "output_type": "stream",
     "text": [
      "round : 149/1000 result lose, explore_rate 0.1\n"
     ]
    },
    {
     "name": "stderr",
     "output_type": "stream",
     "text": [
      " 15%|████████████████████▋                                                                                                                     | 150/1000 [01:42<08:20,  1.70it/s]"
     ]
    },
    {
     "name": "stdout",
     "output_type": "stream",
     "text": [
      "round : 150/1000 result lose, explore_rate 0.1\n"
     ]
    },
    {
     "name": "stderr",
     "output_type": "stream",
     "text": [
      " 15%|████████████████████▊                                                                                                                     | 151/1000 [01:42<08:50,  1.60it/s]"
     ]
    },
    {
     "name": "stdout",
     "output_type": "stream",
     "text": [
      "round : 151/1000 result lose, explore_rate 0.1\n"
     ]
    },
    {
     "name": "stderr",
     "output_type": "stream",
     "text": [
      " 15%|████████████████████▉                                                                                                                     | 152/1000 [01:43<09:00,  1.57it/s]"
     ]
    },
    {
     "name": "stdout",
     "output_type": "stream",
     "text": [
      "round : 152/1000 result lose, explore_rate 0.1\n"
     ]
    },
    {
     "name": "stderr",
     "output_type": "stream",
     "text": [
      " 15%|█████████████████████                                                                                                                     | 153/1000 [01:44<08:08,  1.73it/s]"
     ]
    },
    {
     "name": "stdout",
     "output_type": "stream",
     "text": [
      "round : 153/1000 result lose, explore_rate 0.1\n"
     ]
    },
    {
     "name": "stderr",
     "output_type": "stream",
     "text": [
      " 15%|█████████████████████▎                                                                                                                    | 154/1000 [01:44<08:03,  1.75it/s]"
     ]
    },
    {
     "name": "stdout",
     "output_type": "stream",
     "text": [
      "round : 154/1000 result lose, explore_rate 0.1\n"
     ]
    },
    {
     "name": "stderr",
     "output_type": "stream",
     "text": [
      " 16%|█████████████████████▍                                                                                                                    | 155/1000 [01:45<08:17,  1.70it/s]"
     ]
    },
    {
     "name": "stdout",
     "output_type": "stream",
     "text": [
      "round : 155/1000 result lose, explore_rate 0.1\n"
     ]
    },
    {
     "name": "stderr",
     "output_type": "stream",
     "text": [
      " 16%|█████████████████████▌                                                                                                                    | 156/1000 [01:45<08:12,  1.71it/s]"
     ]
    },
    {
     "name": "stdout",
     "output_type": "stream",
     "text": [
      "round : 156/1000 result lose, explore_rate 0.1\n"
     ]
    },
    {
     "name": "stderr",
     "output_type": "stream",
     "text": [
      " 16%|█████████████████████▋                                                                                                                    | 157/1000 [01:46<08:06,  1.73it/s]"
     ]
    },
    {
     "name": "stdout",
     "output_type": "stream",
     "text": [
      "round : 157/1000 result lose, explore_rate 0.1\n"
     ]
    },
    {
     "name": "stderr",
     "output_type": "stream",
     "text": [
      " 16%|█████████████████████▊                                                                                                                    | 158/1000 [01:47<10:16,  1.37it/s]"
     ]
    },
    {
     "name": "stdout",
     "output_type": "stream",
     "text": [
      "round : 158/1000 result lose, explore_rate 0.1\n"
     ]
    },
    {
     "name": "stderr",
     "output_type": "stream",
     "text": [
      " 16%|█████████████████████▉                                                                                                                    | 159/1000 [01:47<09:18,  1.51it/s]"
     ]
    },
    {
     "name": "stdout",
     "output_type": "stream",
     "text": [
      "round : 159/1000 result lose, explore_rate 0.1\n"
     ]
    },
    {
     "name": "stderr",
     "output_type": "stream",
     "text": [
      " 16%|██████████████████████                                                                                                                    | 160/1000 [01:48<09:19,  1.50it/s]"
     ]
    },
    {
     "name": "stdout",
     "output_type": "stream",
     "text": [
      "round : 160/1000 result lose, explore_rate 0.1\n"
     ]
    },
    {
     "name": "stderr",
     "output_type": "stream",
     "text": [
      " 16%|██████████████████████▏                                                                                                                   | 161/1000 [01:49<09:09,  1.53it/s]"
     ]
    },
    {
     "name": "stdout",
     "output_type": "stream",
     "text": [
      "round : 161/1000 result lose, explore_rate 0.1\n"
     ]
    },
    {
     "name": "stderr",
     "output_type": "stream",
     "text": [
      " 16%|██████████████████████▎                                                                                                                   | 162/1000 [01:49<08:32,  1.64it/s]"
     ]
    },
    {
     "name": "stdout",
     "output_type": "stream",
     "text": [
      "round : 162/1000 result lose, explore_rate 0.1\n"
     ]
    },
    {
     "name": "stderr",
     "output_type": "stream",
     "text": [
      " 16%|██████████████████████▍                                                                                                                   | 163/1000 [01:50<08:49,  1.58it/s]"
     ]
    },
    {
     "name": "stdout",
     "output_type": "stream",
     "text": [
      "round : 163/1000 result lose, explore_rate 0.1\n"
     ]
    },
    {
     "name": "stderr",
     "output_type": "stream",
     "text": [
      " 16%|██████████████████████▋                                                                                                                   | 164/1000 [01:51<10:33,  1.32it/s]"
     ]
    },
    {
     "name": "stdout",
     "output_type": "stream",
     "text": [
      "round : 164/1000 result lose, explore_rate 0.1\n"
     ]
    },
    {
     "name": "stderr",
     "output_type": "stream",
     "text": [
      " 16%|██████████████████████▊                                                                                                                   | 165/1000 [01:52<11:22,  1.22it/s]"
     ]
    },
    {
     "name": "stdout",
     "output_type": "stream",
     "text": [
      "round : 165/1000 result lose, explore_rate 0.1\n"
     ]
    },
    {
     "name": "stderr",
     "output_type": "stream",
     "text": [
      " 17%|██████████████████████▉                                                                                                                   | 166/1000 [01:53<10:28,  1.33it/s]"
     ]
    },
    {
     "name": "stdout",
     "output_type": "stream",
     "text": [
      "round : 166/1000 result lose, explore_rate 0.1\n"
     ]
    },
    {
     "name": "stderr",
     "output_type": "stream",
     "text": [
      " 17%|███████████████████████                                                                                                                   | 167/1000 [01:53<09:46,  1.42it/s]"
     ]
    },
    {
     "name": "stdout",
     "output_type": "stream",
     "text": [
      "round : 167/1000 result lose, explore_rate 0.1\n"
     ]
    },
    {
     "name": "stderr",
     "output_type": "stream",
     "text": [
      " 17%|███████████████████████▏                                                                                                                  | 168/1000 [01:54<09:12,  1.51it/s]"
     ]
    },
    {
     "name": "stdout",
     "output_type": "stream",
     "text": [
      "round : 168/1000 result lose, explore_rate 0.1\n"
     ]
    },
    {
     "name": "stderr",
     "output_type": "stream",
     "text": [
      " 17%|███████████████████████▎                                                                                                                  | 169/1000 [01:54<08:56,  1.55it/s]"
     ]
    },
    {
     "name": "stdout",
     "output_type": "stream",
     "text": [
      "round : 169/1000 result lose, explore_rate 0.1\n"
     ]
    },
    {
     "name": "stderr",
     "output_type": "stream",
     "text": [
      " 17%|███████████████████████▍                                                                                                                  | 170/1000 [01:56<11:28,  1.21it/s]"
     ]
    },
    {
     "name": "stdout",
     "output_type": "stream",
     "text": [
      "round : 170/1000 result lose, explore_rate 0.1\n"
     ]
    },
    {
     "name": "stderr",
     "output_type": "stream",
     "text": [
      " 17%|███████████████████████▌                                                                                                                  | 171/1000 [01:57<12:00,  1.15it/s]"
     ]
    },
    {
     "name": "stdout",
     "output_type": "stream",
     "text": [
      "round : 171/1000 result lose, explore_rate 0.1\n"
     ]
    },
    {
     "name": "stderr",
     "output_type": "stream",
     "text": [
      " 17%|███████████████████████▋                                                                                                                  | 172/1000 [01:57<11:20,  1.22it/s]"
     ]
    },
    {
     "name": "stdout",
     "output_type": "stream",
     "text": [
      "round : 172/1000 result lose, explore_rate 0.1\n"
     ]
    },
    {
     "name": "stderr",
     "output_type": "stream",
     "text": [
      " 17%|███████████████████████▊                                                                                                                  | 173/1000 [01:58<10:30,  1.31it/s]"
     ]
    },
    {
     "name": "stdout",
     "output_type": "stream",
     "text": [
      "round : 173/1000 result lose, explore_rate 0.1\n"
     ]
    },
    {
     "name": "stderr",
     "output_type": "stream",
     "text": [
      " 17%|████████████████████████                                                                                                                  | 174/1000 [01:59<10:22,  1.33it/s]"
     ]
    },
    {
     "name": "stdout",
     "output_type": "stream",
     "text": [
      "round : 174/1000 result lose, explore_rate 0.1\n"
     ]
    },
    {
     "name": "stderr",
     "output_type": "stream",
     "text": [
      " 18%|████████████████████████▏                                                                                                                 | 175/1000 [01:59<10:02,  1.37it/s]"
     ]
    },
    {
     "name": "stdout",
     "output_type": "stream",
     "text": [
      "round : 175/1000 result lose, explore_rate 0.1\n"
     ]
    },
    {
     "name": "stderr",
     "output_type": "stream",
     "text": [
      " 18%|████████████████████████▎                                                                                                                 | 176/1000 [02:00<10:15,  1.34it/s]"
     ]
    },
    {
     "name": "stdout",
     "output_type": "stream",
     "text": [
      "round : 176/1000 result lose, explore_rate 0.1\n"
     ]
    },
    {
     "name": "stderr",
     "output_type": "stream",
     "text": [
      " 18%|████████████████████████▍                                                                                                                 | 177/1000 [02:01<10:02,  1.37it/s]"
     ]
    },
    {
     "name": "stdout",
     "output_type": "stream",
     "text": [
      "round : 177/1000 result lose, explore_rate 0.1\n"
     ]
    },
    {
     "name": "stderr",
     "output_type": "stream",
     "text": [
      " 18%|████████████████████████▌                                                                                                                 | 178/1000 [02:02<10:21,  1.32it/s]"
     ]
    },
    {
     "name": "stdout",
     "output_type": "stream",
     "text": [
      "round : 178/1000 result lose, explore_rate 0.1\n"
     ]
    },
    {
     "name": "stderr",
     "output_type": "stream",
     "text": [
      " 18%|████████████████████████▋                                                                                                                 | 179/1000 [02:03<11:12,  1.22it/s]"
     ]
    },
    {
     "name": "stdout",
     "output_type": "stream",
     "text": [
      "round : 179/1000 result lose, explore_rate 0.1\n"
     ]
    },
    {
     "name": "stderr",
     "output_type": "stream",
     "text": [
      " 18%|████████████████████████▊                                                                                                                 | 180/1000 [02:03<10:43,  1.28it/s]"
     ]
    },
    {
     "name": "stdout",
     "output_type": "stream",
     "text": [
      "round : 180/1000 result lose, explore_rate 0.1\n"
     ]
    },
    {
     "name": "stderr",
     "output_type": "stream",
     "text": [
      " 18%|████████████████████████▉                                                                                                                 | 181/1000 [02:04<10:09,  1.34it/s]"
     ]
    },
    {
     "name": "stdout",
     "output_type": "stream",
     "text": [
      "round : 181/1000 result lose, explore_rate 0.1\n"
     ]
    },
    {
     "name": "stderr",
     "output_type": "stream",
     "text": [
      " 18%|█████████████████████████                                                                                                                 | 182/1000 [02:05<10:00,  1.36it/s]"
     ]
    },
    {
     "name": "stdout",
     "output_type": "stream",
     "text": [
      "round : 182/1000 result lose, explore_rate 0.1\n"
     ]
    },
    {
     "name": "stderr",
     "output_type": "stream",
     "text": [
      " 18%|█████████████████████████▎                                                                                                                | 183/1000 [02:05<10:10,  1.34it/s]"
     ]
    },
    {
     "name": "stdout",
     "output_type": "stream",
     "text": [
      "round : 183/1000 result lose, explore_rate 0.1\n"
     ]
    },
    {
     "name": "stderr",
     "output_type": "stream",
     "text": [
      " 18%|█████████████████████████▍                                                                                                                | 184/1000 [02:06<09:53,  1.38it/s]"
     ]
    },
    {
     "name": "stdout",
     "output_type": "stream",
     "text": [
      "round : 184/1000 result lose, explore_rate 0.1\n"
     ]
    },
    {
     "name": "stderr",
     "output_type": "stream",
     "text": [
      " 18%|█████████████████████████▌                                                                                                                | 185/1000 [02:07<09:26,  1.44it/s]"
     ]
    },
    {
     "name": "stdout",
     "output_type": "stream",
     "text": [
      "round : 185/1000 result lose, explore_rate 0.1\n"
     ]
    },
    {
     "name": "stderr",
     "output_type": "stream",
     "text": [
      " 19%|█████████████████████████▋                                                                                                                | 186/1000 [02:07<09:08,  1.48it/s]"
     ]
    },
    {
     "name": "stdout",
     "output_type": "stream",
     "text": [
      "round : 186/1000 result lose, explore_rate 0.1\n"
     ]
    },
    {
     "name": "stderr",
     "output_type": "stream",
     "text": [
      " 19%|█████████████████████████▊                                                                                                                | 187/1000 [02:08<08:36,  1.57it/s]"
     ]
    },
    {
     "name": "stdout",
     "output_type": "stream",
     "text": [
      "round : 187/1000 result lose, explore_rate 0.1\n"
     ]
    },
    {
     "name": "stderr",
     "output_type": "stream",
     "text": [
      " 19%|█████████████████████████▉                                                                                                                | 188/1000 [02:09<09:50,  1.38it/s]"
     ]
    },
    {
     "name": "stdout",
     "output_type": "stream",
     "text": [
      "round : 188/1000 result lose, explore_rate 0.1\n"
     ]
    },
    {
     "name": "stderr",
     "output_type": "stream",
     "text": [
      " 19%|██████████████████████████                                                                                                                | 189/1000 [02:09<09:41,  1.40it/s]"
     ]
    },
    {
     "name": "stdout",
     "output_type": "stream",
     "text": [
      "round : 189/1000 result lose, explore_rate 0.1\n"
     ]
    },
    {
     "name": "stderr",
     "output_type": "stream",
     "text": [
      " 19%|██████████████████████████▏                                                                                                               | 190/1000 [02:11<11:48,  1.14it/s]"
     ]
    },
    {
     "name": "stdout",
     "output_type": "stream",
     "text": [
      "round : 190/1000 result lose, explore_rate 0.1\n"
     ]
    },
    {
     "name": "stderr",
     "output_type": "stream",
     "text": [
      " 19%|██████████████████████████▎                                                                                                               | 191/1000 [02:11<10:59,  1.23it/s]"
     ]
    },
    {
     "name": "stdout",
     "output_type": "stream",
     "text": [
      "round : 191/1000 result lose, explore_rate 0.1\n"
     ]
    },
    {
     "name": "stderr",
     "output_type": "stream",
     "text": [
      " 19%|██████████████████████████▍                                                                                                               | 192/1000 [02:12<09:19,  1.44it/s]"
     ]
    },
    {
     "name": "stdout",
     "output_type": "stream",
     "text": [
      "round : 192/1000 result lose, explore_rate 0.1\n"
     ]
    },
    {
     "name": "stderr",
     "output_type": "stream",
     "text": [
      " 19%|██████████████████████████▋                                                                                                               | 193/1000 [02:12<08:58,  1.50it/s]"
     ]
    },
    {
     "name": "stdout",
     "output_type": "stream",
     "text": [
      "round : 193/1000 result lose, explore_rate 0.1\n"
     ]
    },
    {
     "name": "stderr",
     "output_type": "stream",
     "text": [
      " 19%|██████████████████████████▊                                                                                                               | 194/1000 [02:13<09:11,  1.46it/s]"
     ]
    },
    {
     "name": "stdout",
     "output_type": "stream",
     "text": [
      "round : 194/1000 result lose, explore_rate 0.1\n"
     ]
    },
    {
     "name": "stderr",
     "output_type": "stream",
     "text": [
      " 20%|██████████████████████████▉                                                                                                               | 195/1000 [02:14<09:20,  1.44it/s]"
     ]
    },
    {
     "name": "stdout",
     "output_type": "stream",
     "text": [
      "round : 195/1000 result lose, explore_rate 0.1\n"
     ]
    },
    {
     "name": "stderr",
     "output_type": "stream",
     "text": [
      " 20%|███████████████████████████                                                                                                               | 196/1000 [02:14<08:54,  1.50it/s]"
     ]
    },
    {
     "name": "stdout",
     "output_type": "stream",
     "text": [
      "round : 196/1000 result lose, explore_rate 0.1\n"
     ]
    },
    {
     "name": "stderr",
     "output_type": "stream",
     "text": [
      " 20%|███████████████████████████▏                                                                                                              | 197/1000 [02:15<08:49,  1.52it/s]"
     ]
    },
    {
     "name": "stdout",
     "output_type": "stream",
     "text": [
      "round : 197/1000 result lose, explore_rate 0.1\n"
     ]
    },
    {
     "name": "stderr",
     "output_type": "stream",
     "text": [
      " 20%|███████████████████████████▎                                                                                                              | 198/1000 [02:16<08:41,  1.54it/s]"
     ]
    },
    {
     "name": "stdout",
     "output_type": "stream",
     "text": [
      "round : 198/1000 result lose, explore_rate 0.1\n"
     ]
    },
    {
     "name": "stderr",
     "output_type": "stream",
     "text": [
      " 20%|███████████████████████████▍                                                                                                              | 199/1000 [02:16<08:23,  1.59it/s]"
     ]
    },
    {
     "name": "stdout",
     "output_type": "stream",
     "text": [
      "round : 199/1000 result lose, explore_rate 0.1\n"
     ]
    },
    {
     "name": "stderr",
     "output_type": "stream",
     "text": [
      " 20%|███████████████████████████▌                                                                                                              | 200/1000 [02:17<07:58,  1.67it/s]"
     ]
    },
    {
     "name": "stdout",
     "output_type": "stream",
     "text": [
      "round : 200/1000 result lose, explore_rate 0.1\n"
     ]
    },
    {
     "name": "stderr",
     "output_type": "stream",
     "text": [
      " 20%|███████████████████████████▋                                                                                                              | 201/1000 [02:17<07:32,  1.77it/s]"
     ]
    },
    {
     "name": "stdout",
     "output_type": "stream",
     "text": [
      "round : 201/1000 result lose, explore_rate 0.1\n"
     ]
    },
    {
     "name": "stderr",
     "output_type": "stream",
     "text": [
      " 20%|███████████████████████████▉                                                                                                              | 202/1000 [02:18<08:13,  1.62it/s]"
     ]
    },
    {
     "name": "stdout",
     "output_type": "stream",
     "text": [
      "round : 202/1000 result lose, explore_rate 0.1\n"
     ]
    },
    {
     "name": "stderr",
     "output_type": "stream",
     "text": [
      " 20%|████████████████████████████                                                                                                              | 203/1000 [02:19<08:13,  1.61it/s]"
     ]
    },
    {
     "name": "stdout",
     "output_type": "stream",
     "text": [
      "round : 203/1000 result lose, explore_rate 0.1\n"
     ]
    },
    {
     "name": "stderr",
     "output_type": "stream",
     "text": [
      " 20%|████████████████████████████▏                                                                                                             | 204/1000 [02:20<08:57,  1.48it/s]"
     ]
    },
    {
     "name": "stdout",
     "output_type": "stream",
     "text": [
      "round : 204/1000 result lose, explore_rate 0.1\n"
     ]
    },
    {
     "name": "stderr",
     "output_type": "stream",
     "text": [
      " 20%|████████████████████████████▎                                                                                                             | 205/1000 [02:20<08:26,  1.57it/s]"
     ]
    },
    {
     "name": "stdout",
     "output_type": "stream",
     "text": [
      "round : 205/1000 result lose, explore_rate 0.1\n"
     ]
    },
    {
     "name": "stderr",
     "output_type": "stream",
     "text": [
      " 21%|████████████████████████████▍                                                                                                             | 206/1000 [02:21<08:18,  1.59it/s]"
     ]
    },
    {
     "name": "stdout",
     "output_type": "stream",
     "text": [
      "round : 206/1000 result lose, explore_rate 0.1\n"
     ]
    },
    {
     "name": "stderr",
     "output_type": "stream",
     "text": [
      " 21%|████████████████████████████▌                                                                                                             | 207/1000 [02:21<07:45,  1.70it/s]"
     ]
    },
    {
     "name": "stdout",
     "output_type": "stream",
     "text": [
      "round : 207/1000 result lose, explore_rate 0.1\n"
     ]
    },
    {
     "name": "stderr",
     "output_type": "stream",
     "text": [
      " 21%|████████████████████████████▋                                                                                                             | 208/1000 [02:22<07:45,  1.70it/s]"
     ]
    },
    {
     "name": "stdout",
     "output_type": "stream",
     "text": [
      "round : 208/1000 result lose, explore_rate 0.1\n"
     ]
    },
    {
     "name": "stderr",
     "output_type": "stream",
     "text": [
      " 21%|████████████████████████████▊                                                                                                             | 209/1000 [02:22<07:47,  1.69it/s]"
     ]
    },
    {
     "name": "stdout",
     "output_type": "stream",
     "text": [
      "round : 209/1000 result lose, explore_rate 0.1\n"
     ]
    },
    {
     "name": "stderr",
     "output_type": "stream",
     "text": [
      " 21%|████████████████████████████▉                                                                                                             | 210/1000 [02:23<07:50,  1.68it/s]"
     ]
    },
    {
     "name": "stdout",
     "output_type": "stream",
     "text": [
      "round : 210/1000 result lose, explore_rate 0.1\n"
     ]
    },
    {
     "name": "stderr",
     "output_type": "stream",
     "text": [
      " 21%|█████████████████████████████                                                                                                             | 211/1000 [02:24<09:39,  1.36it/s]"
     ]
    },
    {
     "name": "stdout",
     "output_type": "stream",
     "text": [
      "round : 211/1000 result lose, explore_rate 0.1\n"
     ]
    },
    {
     "name": "stderr",
     "output_type": "stream",
     "text": [
      " 21%|█████████████████████████████▎                                                                                                            | 212/1000 [02:25<09:04,  1.45it/s]"
     ]
    },
    {
     "name": "stdout",
     "output_type": "stream",
     "text": [
      "round : 212/1000 result lose, explore_rate 0.1\n"
     ]
    },
    {
     "name": "stderr",
     "output_type": "stream",
     "text": [
      " 21%|█████████████████████████████▍                                                                                                            | 213/1000 [02:26<11:18,  1.16it/s]"
     ]
    },
    {
     "name": "stdout",
     "output_type": "stream",
     "text": [
      "round : 213/1000 result lose, explore_rate 0.1\n"
     ]
    },
    {
     "name": "stderr",
     "output_type": "stream",
     "text": [
      " 21%|█████████████████████████████▌                                                                                                            | 214/1000 [02:27<10:57,  1.20it/s]"
     ]
    },
    {
     "name": "stdout",
     "output_type": "stream",
     "text": [
      "round : 214/1000 result lose, explore_rate 0.1\n"
     ]
    },
    {
     "name": "stderr",
     "output_type": "stream",
     "text": [
      " 22%|█████████████████████████████▋                                                                                                            | 215/1000 [02:27<11:00,  1.19it/s]"
     ]
    },
    {
     "name": "stdout",
     "output_type": "stream",
     "text": [
      "round : 215/1000 result lose, explore_rate 0.1\n"
     ]
    },
    {
     "name": "stderr",
     "output_type": "stream",
     "text": [
      " 22%|█████████████████████████████▊                                                                                                            | 216/1000 [02:28<10:17,  1.27it/s]"
     ]
    },
    {
     "name": "stdout",
     "output_type": "stream",
     "text": [
      "round : 216/1000 result lose, explore_rate 0.1\n"
     ]
    },
    {
     "name": "stderr",
     "output_type": "stream",
     "text": [
      " 22%|█████████████████████████████▉                                                                                                            | 217/1000 [02:29<09:23,  1.39it/s]"
     ]
    },
    {
     "name": "stdout",
     "output_type": "stream",
     "text": [
      "round : 217/1000 result lose, explore_rate 0.1\n"
     ]
    },
    {
     "name": "stderr",
     "output_type": "stream",
     "text": [
      " 22%|██████████████████████████████                                                                                                            | 218/1000 [02:29<09:14,  1.41it/s]"
     ]
    },
    {
     "name": "stdout",
     "output_type": "stream",
     "text": [
      "round : 218/1000 result lose, explore_rate 0.1\n"
     ]
    },
    {
     "name": "stderr",
     "output_type": "stream",
     "text": [
      " 22%|██████████████████████████████▏                                                                                                           | 219/1000 [02:30<09:19,  1.40it/s]"
     ]
    },
    {
     "name": "stdout",
     "output_type": "stream",
     "text": [
      "round : 219/1000 result lose, explore_rate 0.1\n"
     ]
    },
    {
     "name": "stderr",
     "output_type": "stream",
     "text": [
      " 22%|██████████████████████████████▎                                                                                                           | 220/1000 [02:31<09:11,  1.41it/s]"
     ]
    },
    {
     "name": "stdout",
     "output_type": "stream",
     "text": [
      "round : 220/1000 result lose, explore_rate 0.1\n"
     ]
    },
    {
     "name": "stderr",
     "output_type": "stream",
     "text": [
      " 22%|██████████████████████████████▍                                                                                                           | 221/1000 [02:32<10:02,  1.29it/s]"
     ]
    },
    {
     "name": "stdout",
     "output_type": "stream",
     "text": [
      "round : 221/1000 result lose, explore_rate 0.1\n"
     ]
    },
    {
     "name": "stderr",
     "output_type": "stream",
     "text": [
      " 22%|██████████████████████████████▋                                                                                                           | 222/1000 [02:32<09:24,  1.38it/s]"
     ]
    },
    {
     "name": "stdout",
     "output_type": "stream",
     "text": [
      "round : 222/1000 result lose, explore_rate 0.1\n"
     ]
    },
    {
     "name": "stderr",
     "output_type": "stream",
     "text": [
      " 22%|██████████████████████████████▊                                                                                                           | 223/1000 [02:33<08:34,  1.51it/s]"
     ]
    },
    {
     "name": "stdout",
     "output_type": "stream",
     "text": [
      "round : 223/1000 result lose, explore_rate 0.1\n"
     ]
    },
    {
     "name": "stderr",
     "output_type": "stream",
     "text": [
      " 22%|██████████████████████████████▉                                                                                                           | 224/1000 [02:34<08:34,  1.51it/s]"
     ]
    },
    {
     "name": "stdout",
     "output_type": "stream",
     "text": [
      "round : 224/1000 result lose, explore_rate 0.1\n"
     ]
    },
    {
     "name": "stderr",
     "output_type": "stream",
     "text": [
      " 22%|███████████████████████████████                                                                                                           | 225/1000 [02:34<08:59,  1.44it/s]"
     ]
    },
    {
     "name": "stdout",
     "output_type": "stream",
     "text": [
      "round : 225/1000 result lose, explore_rate 0.1\n"
     ]
    },
    {
     "name": "stderr",
     "output_type": "stream",
     "text": [
      " 23%|███████████████████████████████▏                                                                                                          | 226/1000 [02:35<08:21,  1.54it/s]"
     ]
    },
    {
     "name": "stdout",
     "output_type": "stream",
     "text": [
      "round : 226/1000 result lose, explore_rate 0.1\n"
     ]
    },
    {
     "name": "stderr",
     "output_type": "stream",
     "text": [
      " 23%|███████████████████████████████▎                                                                                                          | 227/1000 [02:35<07:43,  1.67it/s]"
     ]
    },
    {
     "name": "stdout",
     "output_type": "stream",
     "text": [
      "round : 227/1000 result lose, explore_rate 0.1\n"
     ]
    },
    {
     "name": "stderr",
     "output_type": "stream",
     "text": [
      " 23%|███████████████████████████████▍                                                                                                          | 228/1000 [02:36<08:59,  1.43it/s]"
     ]
    },
    {
     "name": "stdout",
     "output_type": "stream",
     "text": [
      "round : 228/1000 result lose, explore_rate 0.1\n"
     ]
    },
    {
     "name": "stderr",
     "output_type": "stream",
     "text": [
      " 23%|███████████████████████████████▌                                                                                                          | 229/1000 [02:37<08:23,  1.53it/s]"
     ]
    },
    {
     "name": "stdout",
     "output_type": "stream",
     "text": [
      "round : 229/1000 result lose, explore_rate 0.1\n"
     ]
    },
    {
     "name": "stderr",
     "output_type": "stream",
     "text": [
      " 23%|███████████████████████████████▋                                                                                                          | 230/1000 [02:37<08:25,  1.52it/s]"
     ]
    },
    {
     "name": "stdout",
     "output_type": "stream",
     "text": [
      "round : 230/1000 result lose, explore_rate 0.1\n"
     ]
    },
    {
     "name": "stderr",
     "output_type": "stream",
     "text": [
      " 23%|███████████████████████████████▉                                                                                                          | 231/1000 [02:38<08:16,  1.55it/s]"
     ]
    },
    {
     "name": "stdout",
     "output_type": "stream",
     "text": [
      "round : 231/1000 result lose, explore_rate 0.1\n"
     ]
    },
    {
     "name": "stderr",
     "output_type": "stream",
     "text": [
      " 23%|████████████████████████████████                                                                                                          | 232/1000 [02:39<07:42,  1.66it/s]"
     ]
    },
    {
     "name": "stdout",
     "output_type": "stream",
     "text": [
      "round : 232/1000 result lose, explore_rate 0.1\n"
     ]
    },
    {
     "name": "stderr",
     "output_type": "stream",
     "text": [
      " 23%|████████████████████████████████▏                                                                                                         | 233/1000 [02:39<07:23,  1.73it/s]"
     ]
    },
    {
     "name": "stdout",
     "output_type": "stream",
     "text": [
      "round : 233/1000 result lose, explore_rate 0.1\n"
     ]
    },
    {
     "name": "stderr",
     "output_type": "stream",
     "text": [
      " 23%|████████████████████████████████▎                                                                                                         | 234/1000 [02:40<08:12,  1.56it/s]"
     ]
    },
    {
     "name": "stdout",
     "output_type": "stream",
     "text": [
      "round : 234/1000 result lose, explore_rate 0.1\n"
     ]
    },
    {
     "name": "stderr",
     "output_type": "stream",
     "text": [
      " 24%|████████████████████████████████▍                                                                                                         | 235/1000 [02:40<07:44,  1.65it/s]"
     ]
    },
    {
     "name": "stdout",
     "output_type": "stream",
     "text": [
      "round : 235/1000 result lose, explore_rate 0.1\n"
     ]
    },
    {
     "name": "stderr",
     "output_type": "stream",
     "text": [
      " 24%|████████████████████████████████▌                                                                                                         | 236/1000 [02:41<07:50,  1.62it/s]"
     ]
    },
    {
     "name": "stdout",
     "output_type": "stream",
     "text": [
      "round : 236/1000 result lose, explore_rate 0.1\n"
     ]
    },
    {
     "name": "stderr",
     "output_type": "stream",
     "text": [
      " 24%|████████████████████████████████▋                                                                                                         | 237/1000 [02:42<07:50,  1.62it/s]"
     ]
    },
    {
     "name": "stdout",
     "output_type": "stream",
     "text": [
      "round : 237/1000 result lose, explore_rate 0.1\n"
     ]
    },
    {
     "name": "stderr",
     "output_type": "stream",
     "text": [
      " 24%|████████████████████████████████▊                                                                                                         | 238/1000 [02:42<07:50,  1.62it/s]"
     ]
    },
    {
     "name": "stdout",
     "output_type": "stream",
     "text": [
      "round : 238/1000 result lose, explore_rate 0.1\n"
     ]
    },
    {
     "name": "stderr",
     "output_type": "stream",
     "text": [
      " 24%|████████████████████████████████▉                                                                                                         | 239/1000 [02:43<08:00,  1.58it/s]"
     ]
    },
    {
     "name": "stdout",
     "output_type": "stream",
     "text": [
      "round : 239/1000 result lose, explore_rate 0.1\n"
     ]
    },
    {
     "name": "stderr",
     "output_type": "stream",
     "text": [
      " 24%|█████████████████████████████████                                                                                                         | 240/1000 [02:44<08:25,  1.50it/s]"
     ]
    },
    {
     "name": "stdout",
     "output_type": "stream",
     "text": [
      "round : 240/1000 result lose, explore_rate 0.1\n"
     ]
    },
    {
     "name": "stderr",
     "output_type": "stream",
     "text": [
      " 24%|█████████████████████████████████▎                                                                                                        | 241/1000 [02:45<09:07,  1.39it/s]"
     ]
    },
    {
     "name": "stdout",
     "output_type": "stream",
     "text": [
      "round : 241/1000 result lose, explore_rate 0.1\n"
     ]
    },
    {
     "name": "stderr",
     "output_type": "stream",
     "text": [
      " 24%|█████████████████████████████████▍                                                                                                        | 242/1000 [02:45<09:03,  1.39it/s]"
     ]
    },
    {
     "name": "stdout",
     "output_type": "stream",
     "text": [
      "round : 242/1000 result lose, explore_rate 0.1\n"
     ]
    },
    {
     "name": "stderr",
     "output_type": "stream",
     "text": [
      " 24%|█████████████████████████████████▌                                                                                                        | 243/1000 [02:46<08:17,  1.52it/s]"
     ]
    },
    {
     "name": "stdout",
     "output_type": "stream",
     "text": [
      "round : 243/1000 result lose, explore_rate 0.1\n"
     ]
    },
    {
     "name": "stderr",
     "output_type": "stream",
     "text": [
      " 24%|█████████████████████████████████▋                                                                                                        | 244/1000 [02:46<07:55,  1.59it/s]"
     ]
    },
    {
     "name": "stdout",
     "output_type": "stream",
     "text": [
      "round : 244/1000 result lose, explore_rate 0.1\n"
     ]
    },
    {
     "name": "stderr",
     "output_type": "stream",
     "text": [
      " 24%|█████████████████████████████████▊                                                                                                        | 245/1000 [02:47<08:12,  1.53it/s]"
     ]
    },
    {
     "name": "stdout",
     "output_type": "stream",
     "text": [
      "round : 245/1000 result lose, explore_rate 0.1\n"
     ]
    },
    {
     "name": "stderr",
     "output_type": "stream",
     "text": [
      " 25%|█████████████████████████████████▉                                                                                                        | 246/1000 [02:48<08:00,  1.57it/s]"
     ]
    },
    {
     "name": "stdout",
     "output_type": "stream",
     "text": [
      "round : 246/1000 result lose, explore_rate 0.1\n"
     ]
    },
    {
     "name": "stderr",
     "output_type": "stream",
     "text": [
      " 25%|██████████████████████████████████                                                                                                        | 247/1000 [02:49<09:18,  1.35it/s]"
     ]
    },
    {
     "name": "stdout",
     "output_type": "stream",
     "text": [
      "round : 247/1000 result lose, explore_rate 0.1\n"
     ]
    },
    {
     "name": "stderr",
     "output_type": "stream",
     "text": [
      " 25%|██████████████████████████████████▏                                                                                                       | 248/1000 [02:49<08:53,  1.41it/s]"
     ]
    },
    {
     "name": "stdout",
     "output_type": "stream",
     "text": [
      "round : 248/1000 result lose, explore_rate 0.1\n"
     ]
    },
    {
     "name": "stderr",
     "output_type": "stream",
     "text": [
      " 25%|██████████████████████████████████▎                                                                                                       | 249/1000 [02:50<09:45,  1.28it/s]"
     ]
    },
    {
     "name": "stdout",
     "output_type": "stream",
     "text": [
      "round : 249/1000 result lose, explore_rate 0.1\n"
     ]
    },
    {
     "name": "stderr",
     "output_type": "stream",
     "text": [
      " 25%|██████████████████████████████████▌                                                                                                       | 250/1000 [02:51<10:56,  1.14it/s]"
     ]
    },
    {
     "name": "stdout",
     "output_type": "stream",
     "text": [
      "round : 250/1000 result lose, explore_rate 0.1\n"
     ]
    },
    {
     "name": "stderr",
     "output_type": "stream",
     "text": [
      " 25%|██████████████████████████████████▋                                                                                                       | 251/1000 [02:52<09:33,  1.31it/s]"
     ]
    },
    {
     "name": "stdout",
     "output_type": "stream",
     "text": [
      "round : 251/1000 result lose, explore_rate 0.1\n"
     ]
    },
    {
     "name": "stderr",
     "output_type": "stream",
     "text": [
      " 25%|██████████████████████████████████▊                                                                                                       | 252/1000 [02:53<09:10,  1.36it/s]"
     ]
    },
    {
     "name": "stdout",
     "output_type": "stream",
     "text": [
      "round : 252/1000 result lose, explore_rate 0.1\n"
     ]
    },
    {
     "name": "stderr",
     "output_type": "stream",
     "text": [
      " 25%|██████████████████████████████████▉                                                                                                       | 253/1000 [02:53<08:34,  1.45it/s]"
     ]
    },
    {
     "name": "stdout",
     "output_type": "stream",
     "text": [
      "round : 253/1000 result lose, explore_rate 0.1\n"
     ]
    },
    {
     "name": "stderr",
     "output_type": "stream",
     "text": [
      " 25%|███████████████████████████████████                                                                                                       | 254/1000 [02:54<08:16,  1.50it/s]"
     ]
    },
    {
     "name": "stdout",
     "output_type": "stream",
     "text": [
      "round : 254/1000 result lose, explore_rate 0.1\n"
     ]
    },
    {
     "name": "stderr",
     "output_type": "stream",
     "text": [
      " 26%|███████████████████████████████████▏                                                                                                      | 255/1000 [02:54<07:49,  1.59it/s]"
     ]
    },
    {
     "name": "stdout",
     "output_type": "stream",
     "text": [
      "round : 255/1000 result lose, explore_rate 0.1\n"
     ]
    },
    {
     "name": "stderr",
     "output_type": "stream",
     "text": [
      " 26%|███████████████████████████████████▎                                                                                                      | 256/1000 [02:55<07:42,  1.61it/s]"
     ]
    },
    {
     "name": "stdout",
     "output_type": "stream",
     "text": [
      "round : 256/1000 result lose, explore_rate 0.1\n"
     ]
    },
    {
     "name": "stderr",
     "output_type": "stream",
     "text": [
      " 26%|███████████████████████████████████▍                                                                                                      | 257/1000 [02:56<07:56,  1.56it/s]"
     ]
    },
    {
     "name": "stdout",
     "output_type": "stream",
     "text": [
      "round : 257/1000 result lose, explore_rate 0.1\n"
     ]
    },
    {
     "name": "stderr",
     "output_type": "stream",
     "text": [
      " 26%|███████████████████████████████████▌                                                                                                      | 258/1000 [02:56<07:28,  1.65it/s]"
     ]
    },
    {
     "name": "stdout",
     "output_type": "stream",
     "text": [
      "round : 258/1000 result lose, explore_rate 0.1\n"
     ]
    },
    {
     "name": "stderr",
     "output_type": "stream",
     "text": [
      " 26%|███████████████████████████████████▋                                                                                                      | 259/1000 [02:57<07:26,  1.66it/s]"
     ]
    },
    {
     "name": "stdout",
     "output_type": "stream",
     "text": [
      "round : 259/1000 result lose, explore_rate 0.1\n"
     ]
    },
    {
     "name": "stderr",
     "output_type": "stream",
     "text": [
      " 26%|███████████████████████████████████▉                                                                                                      | 260/1000 [02:57<07:15,  1.70it/s]"
     ]
    },
    {
     "name": "stdout",
     "output_type": "stream",
     "text": [
      "round : 260/1000 result lose, explore_rate 0.1\n"
     ]
    },
    {
     "name": "stderr",
     "output_type": "stream",
     "text": [
      " 26%|████████████████████████████████████                                                                                                      | 261/1000 [02:58<07:14,  1.70it/s]"
     ]
    },
    {
     "name": "stdout",
     "output_type": "stream",
     "text": [
      "round : 261/1000 result lose, explore_rate 0.1\n"
     ]
    },
    {
     "name": "stderr",
     "output_type": "stream",
     "text": [
      " 26%|████████████████████████████████████▏                                                                                                     | 262/1000 [02:58<07:37,  1.61it/s]"
     ]
    },
    {
     "name": "stdout",
     "output_type": "stream",
     "text": [
      "round : 262/1000 result lose, explore_rate 0.1\n"
     ]
    },
    {
     "name": "stderr",
     "output_type": "stream",
     "text": [
      " 26%|████████████████████████████████████▎                                                                                                     | 263/1000 [02:59<07:55,  1.55it/s]"
     ]
    },
    {
     "name": "stdout",
     "output_type": "stream",
     "text": [
      "round : 263/1000 result lose, explore_rate 0.1\n"
     ]
    },
    {
     "name": "stderr",
     "output_type": "stream",
     "text": [
      " 26%|████████████████████████████████████▍                                                                                                     | 264/1000 [03:00<07:34,  1.62it/s]"
     ]
    },
    {
     "name": "stdout",
     "output_type": "stream",
     "text": [
      "round : 264/1000 result lose, explore_rate 0.1\n"
     ]
    },
    {
     "name": "stderr",
     "output_type": "stream",
     "text": [
      " 26%|████████████████████████████████████▌                                                                                                     | 265/1000 [03:00<07:59,  1.53it/s]"
     ]
    },
    {
     "name": "stdout",
     "output_type": "stream",
     "text": [
      "round : 265/1000 result lose, explore_rate 0.1\n"
     ]
    },
    {
     "name": "stderr",
     "output_type": "stream",
     "text": [
      " 27%|████████████████████████████████████▋                                                                                                     | 266/1000 [03:01<07:58,  1.53it/s]"
     ]
    },
    {
     "name": "stdout",
     "output_type": "stream",
     "text": [
      "round : 266/1000 result lose, explore_rate 0.1\n"
     ]
    },
    {
     "name": "stderr",
     "output_type": "stream",
     "text": [
      " 27%|████████████████████████████████████▊                                                                                                     | 267/1000 [03:02<07:25,  1.65it/s]"
     ]
    },
    {
     "name": "stdout",
     "output_type": "stream",
     "text": [
      "round : 267/1000 result lose, explore_rate 0.1\n"
     ]
    },
    {
     "name": "stderr",
     "output_type": "stream",
     "text": [
      " 27%|████████████████████████████████████▉                                                                                                     | 268/1000 [03:02<07:58,  1.53it/s]"
     ]
    },
    {
     "name": "stdout",
     "output_type": "stream",
     "text": [
      "round : 268/1000 result lose, explore_rate 0.1\n"
     ]
    },
    {
     "name": "stderr",
     "output_type": "stream",
     "text": [
      " 27%|█████████████████████████████████████                                                                                                     | 269/1000 [03:03<09:35,  1.27it/s]"
     ]
    },
    {
     "name": "stdout",
     "output_type": "stream",
     "text": [
      "round : 269/1000 result lose, explore_rate 0.1\n"
     ]
    },
    {
     "name": "stderr",
     "output_type": "stream",
     "text": [
      " 27%|█████████████████████████████████████▎                                                                                                    | 270/1000 [03:04<09:05,  1.34it/s]"
     ]
    },
    {
     "name": "stdout",
     "output_type": "stream",
     "text": [
      "round : 270/1000 result lose, explore_rate 0.1\n"
     ]
    },
    {
     "name": "stderr",
     "output_type": "stream",
     "text": [
      " 27%|█████████████████████████████████████▍                                                                                                    | 271/1000 [03:05<08:44,  1.39it/s]"
     ]
    },
    {
     "name": "stdout",
     "output_type": "stream",
     "text": [
      "round : 271/1000 result lose, explore_rate 0.1\n"
     ]
    },
    {
     "name": "stderr",
     "output_type": "stream",
     "text": [
      " 27%|█████████████████████████████████████▌                                                                                                    | 272/1000 [03:06<09:14,  1.31it/s]"
     ]
    },
    {
     "name": "stdout",
     "output_type": "stream",
     "text": [
      "round : 272/1000 result lose, explore_rate 0.1\n"
     ]
    },
    {
     "name": "stderr",
     "output_type": "stream",
     "text": [
      " 27%|█████████████████████████████████████▋                                                                                                    | 273/1000 [03:07<09:51,  1.23it/s]"
     ]
    },
    {
     "name": "stdout",
     "output_type": "stream",
     "text": [
      "round : 273/1000 result lose, explore_rate 0.1\n"
     ]
    },
    {
     "name": "stderr",
     "output_type": "stream",
     "text": [
      " 27%|█████████████████████████████████████▊                                                                                                    | 274/1000 [03:07<09:27,  1.28it/s]"
     ]
    },
    {
     "name": "stdout",
     "output_type": "stream",
     "text": [
      "round : 274/1000 result lose, explore_rate 0.1\n"
     ]
    },
    {
     "name": "stderr",
     "output_type": "stream",
     "text": [
      " 28%|█████████████████████████████████████▉                                                                                                    | 275/1000 [03:08<09:00,  1.34it/s]"
     ]
    },
    {
     "name": "stdout",
     "output_type": "stream",
     "text": [
      "round : 275/1000 result lose, explore_rate 0.1\n"
     ]
    },
    {
     "name": "stderr",
     "output_type": "stream",
     "text": [
      " 28%|██████████████████████████████████████                                                                                                    | 276/1000 [03:09<08:17,  1.46it/s]"
     ]
    },
    {
     "name": "stdout",
     "output_type": "stream",
     "text": [
      "round : 276/1000 result lose, explore_rate 0.1\n"
     ]
    },
    {
     "name": "stderr",
     "output_type": "stream",
     "text": [
      " 28%|██████████████████████████████████████▏                                                                                                   | 277/1000 [03:10<10:26,  1.15it/s]"
     ]
    },
    {
     "name": "stdout",
     "output_type": "stream",
     "text": [
      "round : 277/1000 result lose, explore_rate 0.1\n"
     ]
    },
    {
     "name": "stderr",
     "output_type": "stream",
     "text": [
      " 28%|██████████████████████████████████████▎                                                                                                   | 278/1000 [03:10<09:26,  1.27it/s]"
     ]
    },
    {
     "name": "stdout",
     "output_type": "stream",
     "text": [
      "round : 278/1000 result lose, explore_rate 0.1\n"
     ]
    },
    {
     "name": "stderr",
     "output_type": "stream",
     "text": [
      " 28%|██████████████████████████████████████▌                                                                                                   | 279/1000 [03:11<08:19,  1.44it/s]"
     ]
    },
    {
     "name": "stdout",
     "output_type": "stream",
     "text": [
      "round : 279/1000 result lose, explore_rate 0.1\n"
     ]
    },
    {
     "name": "stderr",
     "output_type": "stream",
     "text": [
      " 28%|██████████████████████████████████████▋                                                                                                   | 280/1000 [03:11<07:46,  1.54it/s]"
     ]
    },
    {
     "name": "stdout",
     "output_type": "stream",
     "text": [
      "round : 280/1000 result lose, explore_rate 0.1\n"
     ]
    },
    {
     "name": "stderr",
     "output_type": "stream",
     "text": [
      " 28%|██████████████████████████████████████▊                                                                                                   | 281/1000 [03:12<08:05,  1.48it/s]"
     ]
    },
    {
     "name": "stdout",
     "output_type": "stream",
     "text": [
      "round : 281/1000 result lose, explore_rate 0.1\n"
     ]
    },
    {
     "name": "stderr",
     "output_type": "stream",
     "text": [
      " 28%|██████████████████████████████████████▉                                                                                                   | 282/1000 [03:13<07:47,  1.54it/s]"
     ]
    },
    {
     "name": "stdout",
     "output_type": "stream",
     "text": [
      "round : 282/1000 result lose, explore_rate 0.1\n"
     ]
    },
    {
     "name": "stderr",
     "output_type": "stream",
     "text": [
      " 28%|███████████████████████████████████████                                                                                                   | 283/1000 [03:14<08:45,  1.36it/s]"
     ]
    },
    {
     "name": "stdout",
     "output_type": "stream",
     "text": [
      "round : 283/1000 result lose, explore_rate 0.1\n"
     ]
    },
    {
     "name": "stderr",
     "output_type": "stream",
     "text": [
      " 28%|███████████████████████████████████████▏                                                                                                  | 284/1000 [03:14<08:08,  1.47it/s]"
     ]
    },
    {
     "name": "stdout",
     "output_type": "stream",
     "text": [
      "round : 284/1000 result lose, explore_rate 0.1\n"
     ]
    },
    {
     "name": "stderr",
     "output_type": "stream",
     "text": [
      " 28%|███████████████████████████████████████▎                                                                                                  | 285/1000 [03:15<08:08,  1.46it/s]"
     ]
    },
    {
     "name": "stdout",
     "output_type": "stream",
     "text": [
      "round : 285/1000 result lose, explore_rate 0.1\n"
     ]
    },
    {
     "name": "stderr",
     "output_type": "stream",
     "text": [
      " 29%|███████████████████████████████████████▍                                                                                                  | 286/1000 [03:16<08:40,  1.37it/s]"
     ]
    },
    {
     "name": "stdout",
     "output_type": "stream",
     "text": [
      "round : 286/1000 result lose, explore_rate 0.1\n"
     ]
    },
    {
     "name": "stderr",
     "output_type": "stream",
     "text": [
      " 29%|███████████████████████████████████████▌                                                                                                  | 287/1000 [03:16<08:42,  1.36it/s]"
     ]
    },
    {
     "name": "stdout",
     "output_type": "stream",
     "text": [
      "round : 287/1000 result lose, explore_rate 0.1\n"
     ]
    },
    {
     "name": "stderr",
     "output_type": "stream",
     "text": [
      " 29%|███████████████████████████████████████▋                                                                                                  | 288/1000 [03:17<09:11,  1.29it/s]"
     ]
    },
    {
     "name": "stdout",
     "output_type": "stream",
     "text": [
      "round : 288/1000 result lose, explore_rate 0.1\n"
     ]
    },
    {
     "name": "stderr",
     "output_type": "stream",
     "text": [
      " 29%|███████████████████████████████████████▉                                                                                                  | 289/1000 [03:18<08:43,  1.36it/s]"
     ]
    },
    {
     "name": "stdout",
     "output_type": "stream",
     "text": [
      "round : 289/1000 result lose, explore_rate 0.1\n"
     ]
    },
    {
     "name": "stderr",
     "output_type": "stream",
     "text": [
      " 29%|████████████████████████████████████████                                                                                                  | 290/1000 [03:18<07:44,  1.53it/s]"
     ]
    },
    {
     "name": "stdout",
     "output_type": "stream",
     "text": [
      "round : 290/1000 result lose, explore_rate 0.1\n"
     ]
    },
    {
     "name": "stderr",
     "output_type": "stream",
     "text": [
      " 29%|████████████████████████████████████████▏                                                                                                 | 291/1000 [03:19<07:37,  1.55it/s]"
     ]
    },
    {
     "name": "stdout",
     "output_type": "stream",
     "text": [
      "round : 291/1000 result lose, explore_rate 0.1\n"
     ]
    },
    {
     "name": "stderr",
     "output_type": "stream",
     "text": [
      " 29%|████████████████████████████████████████▎                                                                                                 | 292/1000 [03:20<06:56,  1.70it/s]"
     ]
    },
    {
     "name": "stdout",
     "output_type": "stream",
     "text": [
      "round : 292/1000 result lose, explore_rate 0.1\n"
     ]
    },
    {
     "name": "stderr",
     "output_type": "stream",
     "text": [
      " 29%|████████████████████████████████████████▍                                                                                                 | 293/1000 [03:20<07:02,  1.67it/s]"
     ]
    },
    {
     "name": "stdout",
     "output_type": "stream",
     "text": [
      "round : 293/1000 result lose, explore_rate 0.1\n"
     ]
    },
    {
     "name": "stderr",
     "output_type": "stream",
     "text": [
      " 29%|████████████████████████████████████████▌                                                                                                 | 294/1000 [03:21<06:56,  1.69it/s]"
     ]
    },
    {
     "name": "stdout",
     "output_type": "stream",
     "text": [
      "round : 294/1000 result lose, explore_rate 0.1\n"
     ]
    },
    {
     "name": "stderr",
     "output_type": "stream",
     "text": [
      " 30%|████████████████████████████████████████▋                                                                                                 | 295/1000 [03:21<06:58,  1.68it/s]"
     ]
    },
    {
     "name": "stdout",
     "output_type": "stream",
     "text": [
      "round : 295/1000 result lose, explore_rate 0.1\n"
     ]
    },
    {
     "name": "stderr",
     "output_type": "stream",
     "text": [
      " 30%|████████████████████████████████████████▊                                                                                                 | 296/1000 [03:22<06:44,  1.74it/s]"
     ]
    },
    {
     "name": "stdout",
     "output_type": "stream",
     "text": [
      "round : 296/1000 result lose, explore_rate 0.1\n"
     ]
    },
    {
     "name": "stderr",
     "output_type": "stream",
     "text": [
      " 30%|████████████████████████████████████████▉                                                                                                 | 297/1000 [03:23<09:50,  1.19it/s]"
     ]
    },
    {
     "name": "stdout",
     "output_type": "stream",
     "text": [
      "round : 297/1000 result lose, explore_rate 0.1\n"
     ]
    },
    {
     "name": "stderr",
     "output_type": "stream",
     "text": [
      " 30%|█████████████████████████████████████████                                                                                                 | 298/1000 [03:24<09:00,  1.30it/s]"
     ]
    },
    {
     "name": "stdout",
     "output_type": "stream",
     "text": [
      "round : 298/1000 result lose, explore_rate 0.1\n"
     ]
    },
    {
     "name": "stderr",
     "output_type": "stream",
     "text": [
      " 30%|█████████████████████████████████████████▎                                                                                                | 299/1000 [03:25<08:24,  1.39it/s]"
     ]
    },
    {
     "name": "stdout",
     "output_type": "stream",
     "text": [
      "round : 299/1000 result lose, explore_rate 0.1\n"
     ]
    },
    {
     "name": "stderr",
     "output_type": "stream",
     "text": [
      " 30%|█████████████████████████████████████████▍                                                                                                | 300/1000 [03:25<07:57,  1.47it/s]"
     ]
    },
    {
     "name": "stdout",
     "output_type": "stream",
     "text": [
      "round : 300/1000 result lose, explore_rate 0.1\n"
     ]
    },
    {
     "name": "stderr",
     "output_type": "stream",
     "text": [
      " 30%|█████████████████████████████████████████▌                                                                                                | 301/1000 [03:26<08:04,  1.44it/s]"
     ]
    },
    {
     "name": "stdout",
     "output_type": "stream",
     "text": [
      "round : 301/1000 result lose, explore_rate 0.1\n"
     ]
    },
    {
     "name": "stderr",
     "output_type": "stream",
     "text": [
      " 30%|█████████████████████████████████████████▋                                                                                                | 302/1000 [03:27<08:20,  1.40it/s]"
     ]
    },
    {
     "name": "stdout",
     "output_type": "stream",
     "text": [
      "round : 302/1000 result lose, explore_rate 0.1\n"
     ]
    },
    {
     "name": "stderr",
     "output_type": "stream",
     "text": [
      " 30%|█████████████████████████████████████████▊                                                                                                | 303/1000 [03:27<08:12,  1.41it/s]"
     ]
    },
    {
     "name": "stdout",
     "output_type": "stream",
     "text": [
      "round : 303/1000 result lose, explore_rate 0.1\n"
     ]
    },
    {
     "name": "stderr",
     "output_type": "stream",
     "text": [
      " 30%|█████████████████████████████████████████▉                                                                                                | 304/1000 [03:28<09:01,  1.28it/s]"
     ]
    },
    {
     "name": "stdout",
     "output_type": "stream",
     "text": [
      "round : 304/1000 result lose, explore_rate 0.1\n"
     ]
    },
    {
     "name": "stderr",
     "output_type": "stream",
     "text": [
      " 30%|██████████████████████████████████████████                                                                                                | 305/1000 [03:29<08:42,  1.33it/s]"
     ]
    },
    {
     "name": "stdout",
     "output_type": "stream",
     "text": [
      "round : 305/1000 result lose, explore_rate 0.1\n"
     ]
    },
    {
     "name": "stderr",
     "output_type": "stream",
     "text": [
      " 31%|██████████████████████████████████████████▏                                                                                               | 306/1000 [03:30<09:24,  1.23it/s]"
     ]
    },
    {
     "name": "stdout",
     "output_type": "stream",
     "text": [
      "round : 306/1000 result lose, explore_rate 0.1\n"
     ]
    },
    {
     "name": "stderr",
     "output_type": "stream",
     "text": [
      " 31%|██████████████████████████████████████████▎                                                                                               | 307/1000 [03:31<09:58,  1.16it/s]"
     ]
    },
    {
     "name": "stdout",
     "output_type": "stream",
     "text": [
      "round : 307/1000 result lose, explore_rate 0.1\n"
     ]
    },
    {
     "name": "stderr",
     "output_type": "stream",
     "text": [
      " 31%|██████████████████████████████████████████▌                                                                                               | 308/1000 [03:31<08:52,  1.30it/s]"
     ]
    },
    {
     "name": "stdout",
     "output_type": "stream",
     "text": [
      "round : 308/1000 result lose, explore_rate 0.1\n"
     ]
    },
    {
     "name": "stderr",
     "output_type": "stream",
     "text": [
      " 31%|██████████████████████████████████████████▋                                                                                               | 309/1000 [03:32<08:35,  1.34it/s]"
     ]
    },
    {
     "name": "stdout",
     "output_type": "stream",
     "text": [
      "round : 309/1000 result lose, explore_rate 0.1\n"
     ]
    },
    {
     "name": "stderr",
     "output_type": "stream",
     "text": [
      " 31%|██████████████████████████████████████████▊                                                                                               | 310/1000 [03:33<08:15,  1.39it/s]"
     ]
    },
    {
     "name": "stdout",
     "output_type": "stream",
     "text": [
      "round : 310/1000 result lose, explore_rate 0.1\n"
     ]
    },
    {
     "name": "stderr",
     "output_type": "stream",
     "text": [
      " 31%|██████████████████████████████████████████▉                                                                                               | 311/1000 [03:34<08:35,  1.34it/s]"
     ]
    },
    {
     "name": "stdout",
     "output_type": "stream",
     "text": [
      "round : 311/1000 result lose, explore_rate 0.1\n"
     ]
    },
    {
     "name": "stderr",
     "output_type": "stream",
     "text": [
      " 31%|███████████████████████████████████████████                                                                                               | 312/1000 [03:34<08:44,  1.31it/s]"
     ]
    },
    {
     "name": "stdout",
     "output_type": "stream",
     "text": [
      "round : 312/1000 result lose, explore_rate 0.1\n"
     ]
    },
    {
     "name": "stderr",
     "output_type": "stream",
     "text": [
      " 31%|███████████████████████████████████████████▏                                                                                              | 313/1000 [03:35<08:27,  1.35it/s]"
     ]
    },
    {
     "name": "stdout",
     "output_type": "stream",
     "text": [
      "round : 313/1000 result lose, explore_rate 0.1\n"
     ]
    },
    {
     "name": "stderr",
     "output_type": "stream",
     "text": [
      " 31%|███████████████████████████████████████████▎                                                                                              | 314/1000 [03:36<08:36,  1.33it/s]"
     ]
    },
    {
     "name": "stdout",
     "output_type": "stream",
     "text": [
      "round : 314/1000 result lose, explore_rate 0.1\n"
     ]
    },
    {
     "name": "stderr",
     "output_type": "stream",
     "text": [
      " 32%|███████████████████████████████████████████▍                                                                                              | 315/1000 [03:37<08:10,  1.40it/s]"
     ]
    },
    {
     "name": "stdout",
     "output_type": "stream",
     "text": [
      "round : 315/1000 result lose, explore_rate 0.1\n"
     ]
    },
    {
     "name": "stderr",
     "output_type": "stream",
     "text": [
      " 32%|███████████████████████████████████████████▌                                                                                              | 316/1000 [03:37<07:26,  1.53it/s]"
     ]
    },
    {
     "name": "stdout",
     "output_type": "stream",
     "text": [
      "round : 316/1000 result lose, explore_rate 0.1\n"
     ]
    },
    {
     "name": "stderr",
     "output_type": "stream",
     "text": [
      " 32%|███████████████████████████████████████████▋                                                                                              | 317/1000 [03:38<07:50,  1.45it/s]"
     ]
    },
    {
     "name": "stdout",
     "output_type": "stream",
     "text": [
      "round : 317/1000 result lose, explore_rate 0.1\n"
     ]
    },
    {
     "name": "stderr",
     "output_type": "stream",
     "text": [
      " 32%|███████████████████████████████████████████▉                                                                                              | 318/1000 [03:38<07:12,  1.58it/s]"
     ]
    },
    {
     "name": "stdout",
     "output_type": "stream",
     "text": [
      "round : 318/1000 result lose, explore_rate 0.1\n"
     ]
    },
    {
     "name": "stderr",
     "output_type": "stream",
     "text": [
      " 32%|████████████████████████████████████████████                                                                                              | 319/1000 [03:39<07:00,  1.62it/s]"
     ]
    },
    {
     "name": "stdout",
     "output_type": "stream",
     "text": [
      "round : 319/1000 result lose, explore_rate 0.1\n"
     ]
    },
    {
     "name": "stderr",
     "output_type": "stream",
     "text": [
      " 32%|████████████████████████████████████████████▏                                                                                             | 320/1000 [03:39<06:48,  1.67it/s]"
     ]
    },
    {
     "name": "stdout",
     "output_type": "stream",
     "text": [
      "round : 320/1000 result lose, explore_rate 0.1\n"
     ]
    },
    {
     "name": "stderr",
     "output_type": "stream",
     "text": [
      " 32%|████████████████████████████████████████████▎                                                                                             | 321/1000 [03:40<07:21,  1.54it/s]"
     ]
    },
    {
     "name": "stdout",
     "output_type": "stream",
     "text": [
      "round : 321/1000 result lose, explore_rate 0.1\n"
     ]
    },
    {
     "name": "stderr",
     "output_type": "stream",
     "text": [
      " 32%|████████████████████████████████████████████▍                                                                                             | 322/1000 [03:41<06:59,  1.62it/s]"
     ]
    },
    {
     "name": "stdout",
     "output_type": "stream",
     "text": [
      "round : 322/1000 result lose, explore_rate 0.1\n"
     ]
    },
    {
     "name": "stderr",
     "output_type": "stream",
     "text": [
      " 32%|████████████████████████████████████████████▌                                                                                             | 323/1000 [03:41<06:15,  1.81it/s]"
     ]
    },
    {
     "name": "stdout",
     "output_type": "stream",
     "text": [
      "round : 323/1000 result lose, explore_rate 0.1\n"
     ]
    },
    {
     "name": "stderr",
     "output_type": "stream",
     "text": [
      " 32%|████████████████████████████████████████████▋                                                                                             | 324/1000 [03:42<06:24,  1.76it/s]"
     ]
    },
    {
     "name": "stdout",
     "output_type": "stream",
     "text": [
      "round : 324/1000 result lose, explore_rate 0.1\n"
     ]
    },
    {
     "name": "stderr",
     "output_type": "stream",
     "text": [
      " 32%|████████████████████████████████████████████▊                                                                                             | 325/1000 [03:42<06:41,  1.68it/s]"
     ]
    },
    {
     "name": "stdout",
     "output_type": "stream",
     "text": [
      "round : 325/1000 result lose, explore_rate 0.1\n"
     ]
    },
    {
     "name": "stderr",
     "output_type": "stream",
     "text": [
      " 33%|████████████████████████████████████████████▉                                                                                             | 326/1000 [03:43<07:25,  1.51it/s]"
     ]
    },
    {
     "name": "stdout",
     "output_type": "stream",
     "text": [
      "round : 326/1000 result lose, explore_rate 0.1\n"
     ]
    },
    {
     "name": "stderr",
     "output_type": "stream",
     "text": [
      " 33%|█████████████████████████████████████████████▏                                                                                            | 327/1000 [03:44<08:08,  1.38it/s]"
     ]
    },
    {
     "name": "stdout",
     "output_type": "stream",
     "text": [
      "round : 327/1000 result lose, explore_rate 0.1\n"
     ]
    },
    {
     "name": "stderr",
     "output_type": "stream",
     "text": [
      " 33%|█████████████████████████████████████████████▎                                                                                            | 328/1000 [03:45<07:57,  1.41it/s]"
     ]
    },
    {
     "name": "stdout",
     "output_type": "stream",
     "text": [
      "round : 328/1000 result lose, explore_rate 0.1\n"
     ]
    },
    {
     "name": "stderr",
     "output_type": "stream",
     "text": [
      " 33%|█████████████████████████████████████████████▍                                                                                            | 329/1000 [03:45<07:37,  1.47it/s]"
     ]
    },
    {
     "name": "stdout",
     "output_type": "stream",
     "text": [
      "round : 329/1000 result lose, explore_rate 0.1\n"
     ]
    },
    {
     "name": "stderr",
     "output_type": "stream",
     "text": [
      " 33%|█████████████████████████████████████████████▌                                                                                            | 330/1000 [03:46<07:11,  1.55it/s]"
     ]
    },
    {
     "name": "stdout",
     "output_type": "stream",
     "text": [
      "round : 330/1000 result lose, explore_rate 0.1\n"
     ]
    },
    {
     "name": "stderr",
     "output_type": "stream",
     "text": [
      " 33%|█████████████████████████████████████████████▋                                                                                            | 331/1000 [03:47<07:12,  1.55it/s]"
     ]
    },
    {
     "name": "stdout",
     "output_type": "stream",
     "text": [
      "round : 331/1000 result lose, explore_rate 0.1\n"
     ]
    },
    {
     "name": "stderr",
     "output_type": "stream",
     "text": [
      " 33%|█████████████████████████████████████████████▊                                                                                            | 332/1000 [03:47<06:45,  1.65it/s]"
     ]
    },
    {
     "name": "stdout",
     "output_type": "stream",
     "text": [
      "round : 332/1000 result lose, explore_rate 0.1\n"
     ]
    },
    {
     "name": "stderr",
     "output_type": "stream",
     "text": [
      " 33%|█████████████████████████████████████████████▉                                                                                            | 333/1000 [03:48<06:50,  1.62it/s]"
     ]
    },
    {
     "name": "stdout",
     "output_type": "stream",
     "text": [
      "round : 333/1000 result lose, explore_rate 0.1\n"
     ]
    },
    {
     "name": "stderr",
     "output_type": "stream",
     "text": [
      " 33%|██████████████████████████████████████████████                                                                                            | 334/1000 [03:48<06:47,  1.63it/s]"
     ]
    },
    {
     "name": "stdout",
     "output_type": "stream",
     "text": [
      "round : 334/1000 result lose, explore_rate 0.1\n"
     ]
    },
    {
     "name": "stderr",
     "output_type": "stream",
     "text": [
      " 34%|██████████████████████████████████████████████▏                                                                                           | 335/1000 [03:49<06:42,  1.65it/s]"
     ]
    },
    {
     "name": "stdout",
     "output_type": "stream",
     "text": [
      "round : 335/1000 result lose, explore_rate 0.1\n"
     ]
    },
    {
     "name": "stderr",
     "output_type": "stream",
     "text": [
      " 34%|██████████████████████████████████████████████▎                                                                                           | 336/1000 [03:50<06:36,  1.67it/s]"
     ]
    },
    {
     "name": "stdout",
     "output_type": "stream",
     "text": [
      "round : 336/1000 result lose, explore_rate 0.1\n"
     ]
    },
    {
     "name": "stderr",
     "output_type": "stream",
     "text": [
      " 34%|██████████████████████████████████████████████▌                                                                                           | 337/1000 [03:50<07:44,  1.43it/s]"
     ]
    },
    {
     "name": "stdout",
     "output_type": "stream",
     "text": [
      "round : 337/1000 result lose, explore_rate 0.1\n"
     ]
    },
    {
     "name": "stderr",
     "output_type": "stream",
     "text": [
      " 34%|██████████████████████████████████████████████▋                                                                                           | 338/1000 [03:51<07:20,  1.50it/s]"
     ]
    },
    {
     "name": "stdout",
     "output_type": "stream",
     "text": [
      "round : 338/1000 result lose, explore_rate 0.1\n"
     ]
    },
    {
     "name": "stderr",
     "output_type": "stream",
     "text": [
      " 34%|██████████████████████████████████████████████▊                                                                                           | 339/1000 [03:52<07:13,  1.53it/s]"
     ]
    },
    {
     "name": "stdout",
     "output_type": "stream",
     "text": [
      "round : 339/1000 result lose, explore_rate 0.1\n"
     ]
    },
    {
     "name": "stderr",
     "output_type": "stream",
     "text": [
      " 34%|██████████████████████████████████████████████▉                                                                                           | 340/1000 [03:52<06:51,  1.60it/s]"
     ]
    },
    {
     "name": "stdout",
     "output_type": "stream",
     "text": [
      "round : 340/1000 result lose, explore_rate 0.1\n"
     ]
    },
    {
     "name": "stderr",
     "output_type": "stream",
     "text": [
      " 34%|███████████████████████████████████████████████                                                                                           | 341/1000 [03:53<06:46,  1.62it/s]"
     ]
    },
    {
     "name": "stdout",
     "output_type": "stream",
     "text": [
      "round : 341/1000 result lose, explore_rate 0.1\n"
     ]
    },
    {
     "name": "stderr",
     "output_type": "stream",
     "text": [
      " 34%|███████████████████████████████████████████████▏                                                                                          | 342/1000 [03:53<06:39,  1.65it/s]"
     ]
    },
    {
     "name": "stdout",
     "output_type": "stream",
     "text": [
      "round : 342/1000 result lose, explore_rate 0.1\n"
     ]
    },
    {
     "name": "stderr",
     "output_type": "stream",
     "text": [
      " 34%|███████████████████████████████████████████████▎                                                                                          | 343/1000 [03:54<06:29,  1.69it/s]"
     ]
    },
    {
     "name": "stdout",
     "output_type": "stream",
     "text": [
      "round : 343/1000 result lose, explore_rate 0.1\n"
     ]
    },
    {
     "name": "stderr",
     "output_type": "stream",
     "text": [
      " 34%|███████████████████████████████████████████████▍                                                                                          | 344/1000 [03:55<06:42,  1.63it/s]"
     ]
    },
    {
     "name": "stdout",
     "output_type": "stream",
     "text": [
      "round : 344/1000 result lose, explore_rate 0.1\n"
     ]
    },
    {
     "name": "stderr",
     "output_type": "stream",
     "text": [
      " 34%|███████████████████████████████████████████████▌                                                                                          | 345/1000 [03:56<08:12,  1.33it/s]"
     ]
    },
    {
     "name": "stdout",
     "output_type": "stream",
     "text": [
      "round : 345/1000 result lose, explore_rate 0.1\n"
     ]
    },
    {
     "name": "stderr",
     "output_type": "stream",
     "text": [
      " 35%|███████████████████████████████████████████████▋                                                                                          | 346/1000 [03:56<08:14,  1.32it/s]"
     ]
    },
    {
     "name": "stdout",
     "output_type": "stream",
     "text": [
      "round : 346/1000 result lose, explore_rate 0.1\n"
     ]
    },
    {
     "name": "stderr",
     "output_type": "stream",
     "text": [
      " 35%|███████████████████████████████████████████████▉                                                                                          | 347/1000 [03:57<07:38,  1.43it/s]"
     ]
    },
    {
     "name": "stdout",
     "output_type": "stream",
     "text": [
      "round : 347/1000 result lose, explore_rate 0.1\n"
     ]
    },
    {
     "name": "stderr",
     "output_type": "stream",
     "text": [
      " 35%|████████████████████████████████████████████████                                                                                          | 348/1000 [03:58<06:58,  1.56it/s]"
     ]
    },
    {
     "name": "stdout",
     "output_type": "stream",
     "text": [
      "round : 348/1000 result lose, explore_rate 0.1\n"
     ]
    },
    {
     "name": "stderr",
     "output_type": "stream",
     "text": [
      " 35%|████████████████████████████████████████████████▏                                                                                         | 349/1000 [03:58<06:29,  1.67it/s]"
     ]
    },
    {
     "name": "stdout",
     "output_type": "stream",
     "text": [
      "round : 349/1000 result lose, explore_rate 0.1\n"
     ]
    },
    {
     "name": "stderr",
     "output_type": "stream",
     "text": [
      " 35%|████████████████████████████████████████████████▎                                                                                         | 350/1000 [03:59<06:54,  1.57it/s]"
     ]
    },
    {
     "name": "stdout",
     "output_type": "stream",
     "text": [
      "round : 350/1000 result lose, explore_rate 0.1\n"
     ]
    },
    {
     "name": "stderr",
     "output_type": "stream",
     "text": [
      " 35%|████████████████████████████████████████████████▍                                                                                         | 351/1000 [03:59<06:27,  1.67it/s]"
     ]
    },
    {
     "name": "stdout",
     "output_type": "stream",
     "text": [
      "round : 351/1000 result lose, explore_rate 0.1\n"
     ]
    },
    {
     "name": "stderr",
     "output_type": "stream",
     "text": [
      " 35%|████████████████████████████████████████████████▌                                                                                         | 352/1000 [04:00<06:46,  1.60it/s]"
     ]
    },
    {
     "name": "stdout",
     "output_type": "stream",
     "text": [
      "round : 352/1000 result lose, explore_rate 0.1\n"
     ]
    },
    {
     "name": "stderr",
     "output_type": "stream",
     "text": [
      " 35%|████████████████████████████████████████████████▋                                                                                         | 353/1000 [04:01<06:34,  1.64it/s]"
     ]
    },
    {
     "name": "stdout",
     "output_type": "stream",
     "text": [
      "round : 353/1000 result lose, explore_rate 0.1\n"
     ]
    },
    {
     "name": "stderr",
     "output_type": "stream",
     "text": [
      " 35%|████████████████████████████████████████████████▊                                                                                         | 354/1000 [04:01<06:30,  1.65it/s]"
     ]
    },
    {
     "name": "stdout",
     "output_type": "stream",
     "text": [
      "round : 354/1000 result lose, explore_rate 0.1\n"
     ]
    },
    {
     "name": "stderr",
     "output_type": "stream",
     "text": [
      " 36%|████████████████████████████████████████████████▉                                                                                         | 355/1000 [04:02<06:51,  1.57it/s]"
     ]
    },
    {
     "name": "stdout",
     "output_type": "stream",
     "text": [
      "round : 355/1000 result lose, explore_rate 0.1\n"
     ]
    },
    {
     "name": "stderr",
     "output_type": "stream",
     "text": [
      " 36%|█████████████████████████████████████████████████▏                                                                                        | 356/1000 [04:03<08:00,  1.34it/s]"
     ]
    },
    {
     "name": "stdout",
     "output_type": "stream",
     "text": [
      "round : 356/1000 result lose, explore_rate 0.1\n"
     ]
    },
    {
     "name": "stderr",
     "output_type": "stream",
     "text": [
      " 36%|█████████████████████████████████████████████████▎                                                                                        | 357/1000 [04:04<07:57,  1.35it/s]"
     ]
    },
    {
     "name": "stdout",
     "output_type": "stream",
     "text": [
      "round : 357/1000 result lose, explore_rate 0.1\n"
     ]
    },
    {
     "name": "stderr",
     "output_type": "stream",
     "text": [
      " 36%|█████████████████████████████████████████████████▍                                                                                        | 358/1000 [04:04<07:38,  1.40it/s]"
     ]
    },
    {
     "name": "stdout",
     "output_type": "stream",
     "text": [
      "round : 358/1000 result lose, explore_rate 0.1\n"
     ]
    },
    {
     "name": "stderr",
     "output_type": "stream",
     "text": [
      " 36%|█████████████████████████████████████████████████▌                                                                                        | 359/1000 [04:05<07:03,  1.51it/s]"
     ]
    },
    {
     "name": "stdout",
     "output_type": "stream",
     "text": [
      "round : 359/1000 result lose, explore_rate 0.1\n"
     ]
    },
    {
     "name": "stderr",
     "output_type": "stream",
     "text": [
      " 36%|█████████████████████████████████████████████████▋                                                                                        | 360/1000 [04:06<07:18,  1.46it/s]"
     ]
    },
    {
     "name": "stdout",
     "output_type": "stream",
     "text": [
      "round : 360/1000 result lose, explore_rate 0.1\n"
     ]
    },
    {
     "name": "stderr",
     "output_type": "stream",
     "text": [
      " 36%|█████████████████████████████████████████████████▊                                                                                        | 361/1000 [04:06<07:02,  1.51it/s]"
     ]
    },
    {
     "name": "stdout",
     "output_type": "stream",
     "text": [
      "round : 361/1000 result lose, explore_rate 0.1\n"
     ]
    },
    {
     "name": "stderr",
     "output_type": "stream",
     "text": [
      " 36%|█████████████████████████████████████████████████▉                                                                                        | 362/1000 [04:07<06:50,  1.55it/s]"
     ]
    },
    {
     "name": "stdout",
     "output_type": "stream",
     "text": [
      "round : 362/1000 result lose, explore_rate 0.1\n"
     ]
    },
    {
     "name": "stderr",
     "output_type": "stream",
     "text": [
      " 36%|██████████████████████████████████████████████████                                                                                        | 363/1000 [04:07<07:04,  1.50it/s]"
     ]
    },
    {
     "name": "stdout",
     "output_type": "stream",
     "text": [
      "round : 363/1000 result lose, explore_rate 0.1\n"
     ]
    },
    {
     "name": "stderr",
     "output_type": "stream",
     "text": [
      " 36%|██████████████████████████████████████████████████▏                                                                                       | 364/1000 [04:08<07:15,  1.46it/s]"
     ]
    },
    {
     "name": "stdout",
     "output_type": "stream",
     "text": [
      "round : 364/1000 result lose, explore_rate 0.1\n"
     ]
    },
    {
     "name": "stderr",
     "output_type": "stream",
     "text": [
      " 36%|██████████████████████████████████████████████████▎                                                                                       | 365/1000 [04:09<07:19,  1.44it/s]"
     ]
    },
    {
     "name": "stdout",
     "output_type": "stream",
     "text": [
      "round : 365/1000 result lose, explore_rate 0.1\n"
     ]
    },
    {
     "name": "stderr",
     "output_type": "stream",
     "text": [
      " 37%|██████████████████████████████████████████████████▌                                                                                       | 366/1000 [04:10<09:40,  1.09it/s]"
     ]
    },
    {
     "name": "stdout",
     "output_type": "stream",
     "text": [
      "round : 366/1000 result lose, explore_rate 0.1\n"
     ]
    },
    {
     "name": "stderr",
     "output_type": "stream",
     "text": [
      " 37%|██████████████████████████████████████████████████▋                                                                                       | 367/1000 [04:11<08:56,  1.18it/s]"
     ]
    },
    {
     "name": "stdout",
     "output_type": "stream",
     "text": [
      "round : 367/1000 result lose, explore_rate 0.1\n"
     ]
    },
    {
     "name": "stderr",
     "output_type": "stream",
     "text": [
      " 37%|██████████████████████████████████████████████████▊                                                                                       | 368/1000 [04:12<07:57,  1.32it/s]"
     ]
    },
    {
     "name": "stdout",
     "output_type": "stream",
     "text": [
      "round : 368/1000 result lose, explore_rate 0.1\n"
     ]
    },
    {
     "name": "stderr",
     "output_type": "stream",
     "text": [
      " 37%|██████████████████████████████████████████████████▉                                                                                       | 369/1000 [04:12<07:47,  1.35it/s]"
     ]
    },
    {
     "name": "stdout",
     "output_type": "stream",
     "text": [
      "round : 369/1000 result lose, explore_rate 0.1\n"
     ]
    },
    {
     "name": "stderr",
     "output_type": "stream",
     "text": [
      " 37%|███████████████████████████████████████████████████                                                                                       | 370/1000 [04:13<07:33,  1.39it/s]"
     ]
    },
    {
     "name": "stdout",
     "output_type": "stream",
     "text": [
      "round : 370/1000 result lose, explore_rate 0.1\n"
     ]
    },
    {
     "name": "stderr",
     "output_type": "stream",
     "text": [
      " 37%|███████████████████████████████████████████████████▏                                                                                      | 371/1000 [04:13<07:07,  1.47it/s]"
     ]
    },
    {
     "name": "stdout",
     "output_type": "stream",
     "text": [
      "round : 371/1000 result lose, explore_rate 0.1\n"
     ]
    },
    {
     "name": "stderr",
     "output_type": "stream",
     "text": [
      " 37%|███████████████████████████████████████████████████▎                                                                                      | 372/1000 [04:14<07:12,  1.45it/s]"
     ]
    },
    {
     "name": "stdout",
     "output_type": "stream",
     "text": [
      "round : 372/1000 result lose, explore_rate 0.1\n"
     ]
    },
    {
     "name": "stderr",
     "output_type": "stream",
     "text": [
      " 37%|███████████████████████████████████████████████████▍                                                                                      | 373/1000 [04:15<07:42,  1.36it/s]"
     ]
    },
    {
     "name": "stdout",
     "output_type": "stream",
     "text": [
      "round : 373/1000 result lose, explore_rate 0.1\n"
     ]
    },
    {
     "name": "stderr",
     "output_type": "stream",
     "text": [
      " 37%|███████████████████████████████████████████████████▌                                                                                      | 374/1000 [04:16<07:09,  1.46it/s]"
     ]
    },
    {
     "name": "stdout",
     "output_type": "stream",
     "text": [
      "round : 374/1000 result lose, explore_rate 0.1\n"
     ]
    },
    {
     "name": "stderr",
     "output_type": "stream",
     "text": [
      " 38%|███████████████████████████████████████████████████▊                                                                                      | 375/1000 [04:16<07:30,  1.39it/s]"
     ]
    },
    {
     "name": "stdout",
     "output_type": "stream",
     "text": [
      "round : 375/1000 result lose, explore_rate 0.1\n"
     ]
    },
    {
     "name": "stderr",
     "output_type": "stream",
     "text": [
      " 38%|███████████████████████████████████████████████████▉                                                                                      | 376/1000 [04:17<07:31,  1.38it/s]"
     ]
    },
    {
     "name": "stdout",
     "output_type": "stream",
     "text": [
      "round : 376/1000 result lose, explore_rate 0.1\n"
     ]
    },
    {
     "name": "stderr",
     "output_type": "stream",
     "text": [
      " 38%|████████████████████████████████████████████████████                                                                                      | 377/1000 [04:18<07:15,  1.43it/s]"
     ]
    },
    {
     "name": "stdout",
     "output_type": "stream",
     "text": [
      "round : 377/1000 result lose, explore_rate 0.1\n"
     ]
    },
    {
     "name": "stderr",
     "output_type": "stream",
     "text": [
      " 38%|████████████████████████████████████████████████████▏                                                                                     | 378/1000 [04:19<07:17,  1.42it/s]"
     ]
    },
    {
     "name": "stdout",
     "output_type": "stream",
     "text": [
      "round : 378/1000 result lose, explore_rate 0.1\n"
     ]
    },
    {
     "name": "stderr",
     "output_type": "stream",
     "text": [
      " 38%|████████████████████████████████████████████████████▎                                                                                     | 379/1000 [04:19<07:10,  1.44it/s]"
     ]
    },
    {
     "name": "stdout",
     "output_type": "stream",
     "text": [
      "round : 379/1000 result lose, explore_rate 0.1\n"
     ]
    },
    {
     "name": "stderr",
     "output_type": "stream",
     "text": [
      " 38%|████████████████████████████████████████████████████▍                                                                                     | 380/1000 [04:20<06:59,  1.48it/s]"
     ]
    },
    {
     "name": "stdout",
     "output_type": "stream",
     "text": [
      "round : 380/1000 result lose, explore_rate 0.1\n"
     ]
    },
    {
     "name": "stderr",
     "output_type": "stream",
     "text": [
      " 38%|████████████████████████████████████████████████████▌                                                                                     | 381/1000 [04:21<07:13,  1.43it/s]"
     ]
    },
    {
     "name": "stdout",
     "output_type": "stream",
     "text": [
      "round : 381/1000 result lose, explore_rate 0.1\n"
     ]
    },
    {
     "name": "stderr",
     "output_type": "stream",
     "text": [
      " 38%|████████████████████████████████████████████████████▋                                                                                     | 382/1000 [04:21<06:54,  1.49it/s]"
     ]
    },
    {
     "name": "stdout",
     "output_type": "stream",
     "text": [
      "round : 382/1000 result lose, explore_rate 0.1\n"
     ]
    },
    {
     "name": "stderr",
     "output_type": "stream",
     "text": [
      " 38%|████████████████████████████████████████████████████▊                                                                                     | 383/1000 [04:22<06:40,  1.54it/s]"
     ]
    },
    {
     "name": "stdout",
     "output_type": "stream",
     "text": [
      "round : 383/1000 result lose, explore_rate 0.1\n"
     ]
    },
    {
     "name": "stderr",
     "output_type": "stream",
     "text": [
      " 38%|████████████████████████████████████████████████████▉                                                                                     | 384/1000 [04:22<06:44,  1.52it/s]"
     ]
    },
    {
     "name": "stdout",
     "output_type": "stream",
     "text": [
      "round : 384/1000 result lose, explore_rate 0.1\n"
     ]
    },
    {
     "name": "stderr",
     "output_type": "stream",
     "text": [
      " 38%|█████████████████████████████████████████████████████▏                                                                                    | 385/1000 [04:23<06:38,  1.54it/s]"
     ]
    },
    {
     "name": "stdout",
     "output_type": "stream",
     "text": [
      "round : 385/1000 result lose, explore_rate 0.1\n"
     ]
    },
    {
     "name": "stderr",
     "output_type": "stream",
     "text": [
      " 39%|█████████████████████████████████████████████████████▎                                                                                    | 386/1000 [04:24<07:01,  1.46it/s]"
     ]
    },
    {
     "name": "stdout",
     "output_type": "stream",
     "text": [
      "round : 386/1000 result lose, explore_rate 0.1\n"
     ]
    },
    {
     "name": "stderr",
     "output_type": "stream",
     "text": [
      " 39%|█████████████████████████████████████████████████████▍                                                                                    | 387/1000 [04:25<07:56,  1.29it/s]"
     ]
    },
    {
     "name": "stdout",
     "output_type": "stream",
     "text": [
      "round : 387/1000 result lose, explore_rate 0.1\n"
     ]
    },
    {
     "name": "stderr",
     "output_type": "stream",
     "text": [
      " 39%|█████████████████████████████████████████████████████▌                                                                                    | 388/1000 [04:26<08:04,  1.26it/s]"
     ]
    },
    {
     "name": "stdout",
     "output_type": "stream",
     "text": [
      "round : 388/1000 result lose, explore_rate 0.1\n"
     ]
    },
    {
     "name": "stderr",
     "output_type": "stream",
     "text": [
      " 39%|█████████████████████████████████████████████████████▋                                                                                    | 389/1000 [04:26<07:47,  1.31it/s]"
     ]
    },
    {
     "name": "stdout",
     "output_type": "stream",
     "text": [
      "round : 389/1000 result lose, explore_rate 0.1\n"
     ]
    },
    {
     "name": "stderr",
     "output_type": "stream",
     "text": [
      " 39%|█████████████████████████████████████████████████████▊                                                                                    | 390/1000 [04:27<07:20,  1.38it/s]"
     ]
    },
    {
     "name": "stdout",
     "output_type": "stream",
     "text": [
      "round : 390/1000 result lose, explore_rate 0.1\n"
     ]
    },
    {
     "name": "stderr",
     "output_type": "stream",
     "text": [
      " 39%|█████████████████████████████████████████████████████▉                                                                                    | 391/1000 [04:28<07:59,  1.27it/s]"
     ]
    },
    {
     "name": "stdout",
     "output_type": "stream",
     "text": [
      "round : 391/1000 result lose, explore_rate 0.1\n"
     ]
    },
    {
     "name": "stderr",
     "output_type": "stream",
     "text": [
      " 39%|██████████████████████████████████████████████████████                                                                                    | 392/1000 [04:29<07:50,  1.29it/s]"
     ]
    },
    {
     "name": "stdout",
     "output_type": "stream",
     "text": [
      "round : 392/1000 result lose, explore_rate 0.1\n"
     ]
    },
    {
     "name": "stderr",
     "output_type": "stream",
     "text": [
      " 39%|██████████████████████████████████████████████████████▏                                                                                   | 393/1000 [04:29<07:24,  1.36it/s]"
     ]
    },
    {
     "name": "stdout",
     "output_type": "stream",
     "text": [
      "round : 393/1000 result lose, explore_rate 0.1\n"
     ]
    },
    {
     "name": "stderr",
     "output_type": "stream",
     "text": [
      " 39%|██████████████████████████████████████████████████████▎                                                                                   | 394/1000 [04:30<07:01,  1.44it/s]"
     ]
    },
    {
     "name": "stdout",
     "output_type": "stream",
     "text": [
      "round : 394/1000 result lose, explore_rate 0.1\n"
     ]
    },
    {
     "name": "stderr",
     "output_type": "stream",
     "text": [
      " 40%|██████████████████████████████████████████████████████▌                                                                                   | 395/1000 [04:31<06:53,  1.46it/s]"
     ]
    },
    {
     "name": "stdout",
     "output_type": "stream",
     "text": [
      "round : 395/1000 result lose, explore_rate 0.1\n"
     ]
    },
    {
     "name": "stderr",
     "output_type": "stream",
     "text": [
      " 40%|██████████████████████████████████████████████████████▋                                                                                   | 396/1000 [04:31<06:38,  1.52it/s]"
     ]
    },
    {
     "name": "stdout",
     "output_type": "stream",
     "text": [
      "round : 396/1000 result lose, explore_rate 0.1\n"
     ]
    },
    {
     "name": "stderr",
     "output_type": "stream",
     "text": [
      " 40%|██████████████████████████████████████████████████████▊                                                                                   | 397/1000 [04:32<06:37,  1.52it/s]"
     ]
    },
    {
     "name": "stdout",
     "output_type": "stream",
     "text": [
      "round : 397/1000 result lose, explore_rate 0.1\n"
     ]
    },
    {
     "name": "stderr",
     "output_type": "stream",
     "text": [
      " 40%|██████████████████████████████████████████████████████▉                                                                                   | 398/1000 [04:32<06:33,  1.53it/s]"
     ]
    },
    {
     "name": "stdout",
     "output_type": "stream",
     "text": [
      "round : 398/1000 result lose, explore_rate 0.1\n"
     ]
    },
    {
     "name": "stderr",
     "output_type": "stream",
     "text": [
      " 40%|███████████████████████████████████████████████████████                                                                                   | 399/1000 [04:33<06:30,  1.54it/s]"
     ]
    },
    {
     "name": "stdout",
     "output_type": "stream",
     "text": [
      "round : 399/1000 result lose, explore_rate 0.1\n"
     ]
    },
    {
     "name": "stderr",
     "output_type": "stream",
     "text": [
      " 40%|███████████████████████████████████████████████████████▏                                                                                  | 400/1000 [04:34<06:33,  1.52it/s]"
     ]
    },
    {
     "name": "stdout",
     "output_type": "stream",
     "text": [
      "round : 400/1000 result lose, explore_rate 0.1\n"
     ]
    },
    {
     "name": "stderr",
     "output_type": "stream",
     "text": [
      " 40%|███████████████████████████████████████████████████████▎                                                                                  | 401/1000 [04:35<06:47,  1.47it/s]"
     ]
    },
    {
     "name": "stdout",
     "output_type": "stream",
     "text": [
      "round : 401/1000 result lose, explore_rate 0.1\n"
     ]
    },
    {
     "name": "stderr",
     "output_type": "stream",
     "text": [
      " 40%|███████████████████████████████████████████████████████▍                                                                                  | 402/1000 [04:35<06:30,  1.53it/s]"
     ]
    },
    {
     "name": "stdout",
     "output_type": "stream",
     "text": [
      "round : 402/1000 result lose, explore_rate 0.1\n"
     ]
    },
    {
     "name": "stderr",
     "output_type": "stream",
     "text": [
      " 40%|███████████████████████████████████████████████████████▌                                                                                  | 403/1000 [04:36<06:41,  1.49it/s]"
     ]
    },
    {
     "name": "stdout",
     "output_type": "stream",
     "text": [
      "round : 403/1000 result lose, explore_rate 0.1\n"
     ]
    },
    {
     "name": "stderr",
     "output_type": "stream",
     "text": [
      " 40%|███████████████████████████████████████████████████████▊                                                                                  | 404/1000 [04:36<06:20,  1.57it/s]"
     ]
    },
    {
     "name": "stdout",
     "output_type": "stream",
     "text": [
      "round : 404/1000 result lose, explore_rate 0.1\n"
     ]
    },
    {
     "name": "stderr",
     "output_type": "stream",
     "text": [
      " 40%|███████████████████████████████████████████████████████▉                                                                                  | 405/1000 [04:37<07:37,  1.30it/s]"
     ]
    },
    {
     "name": "stdout",
     "output_type": "stream",
     "text": [
      "round : 405/1000 result lose, explore_rate 0.1\n"
     ]
    },
    {
     "name": "stderr",
     "output_type": "stream",
     "text": [
      " 41%|████████████████████████████████████████████████████████                                                                                  | 406/1000 [04:38<07:31,  1.32it/s]"
     ]
    },
    {
     "name": "stdout",
     "output_type": "stream",
     "text": [
      "round : 406/1000 result lose, explore_rate 0.1\n"
     ]
    },
    {
     "name": "stderr",
     "output_type": "stream",
     "text": [
      " 41%|████████████████████████████████████████████████████████▏                                                                                 | 407/1000 [04:39<07:43,  1.28it/s]"
     ]
    },
    {
     "name": "stdout",
     "output_type": "stream",
     "text": [
      "round : 407/1000 result lose, explore_rate 0.1\n"
     ]
    },
    {
     "name": "stderr",
     "output_type": "stream",
     "text": [
      " 41%|████████████████████████████████████████████████████████▎                                                                                 | 408/1000 [04:40<08:00,  1.23it/s]"
     ]
    },
    {
     "name": "stdout",
     "output_type": "stream",
     "text": [
      "round : 408/1000 result lose, explore_rate 0.1\n"
     ]
    },
    {
     "name": "stderr",
     "output_type": "stream",
     "text": [
      " 41%|████████████████████████████████████████████████████████▍                                                                                 | 409/1000 [04:41<07:37,  1.29it/s]"
     ]
    },
    {
     "name": "stdout",
     "output_type": "stream",
     "text": [
      "round : 409/1000 result lose, explore_rate 0.1\n"
     ]
    },
    {
     "name": "stderr",
     "output_type": "stream",
     "text": [
      " 41%|████████████████████████████████████████████████████████▌                                                                                 | 410/1000 [04:41<06:51,  1.43it/s]"
     ]
    },
    {
     "name": "stdout",
     "output_type": "stream",
     "text": [
      "round : 410/1000 result lose, explore_rate 0.1\n"
     ]
    },
    {
     "name": "stderr",
     "output_type": "stream",
     "text": [
      " 41%|████████████████████████████████████████████████████████▋                                                                                 | 411/1000 [04:42<06:50,  1.43it/s]"
     ]
    },
    {
     "name": "stdout",
     "output_type": "stream",
     "text": [
      "round : 411/1000 result lose, explore_rate 0.1\n"
     ]
    },
    {
     "name": "stderr",
     "output_type": "stream",
     "text": [
      " 41%|████████████████████████████████████████████████████████▊                                                                                 | 412/1000 [04:43<06:49,  1.44it/s]"
     ]
    },
    {
     "name": "stdout",
     "output_type": "stream",
     "text": [
      "round : 412/1000 result lose, explore_rate 0.1\n"
     ]
    },
    {
     "name": "stderr",
     "output_type": "stream",
     "text": [
      " 41%|████████████████████████████████████████████████████████▉                                                                                 | 413/1000 [04:43<06:27,  1.51it/s]"
     ]
    },
    {
     "name": "stdout",
     "output_type": "stream",
     "text": [
      "round : 413/1000 result lose, explore_rate 0.1\n"
     ]
    },
    {
     "name": "stderr",
     "output_type": "stream",
     "text": [
      " 41%|█████████████████████████████████████████████████████████▏                                                                                | 414/1000 [04:44<06:39,  1.47it/s]"
     ]
    },
    {
     "name": "stdout",
     "output_type": "stream",
     "text": [
      "round : 414/1000 result lose, explore_rate 0.1\n"
     ]
    },
    {
     "name": "stderr",
     "output_type": "stream",
     "text": [
      " 42%|█████████████████████████████████████████████████████████▎                                                                                | 415/1000 [04:44<06:17,  1.55it/s]"
     ]
    },
    {
     "name": "stdout",
     "output_type": "stream",
     "text": [
      "round : 415/1000 result lose, explore_rate 0.1\n"
     ]
    },
    {
     "name": "stderr",
     "output_type": "stream",
     "text": [
      " 42%|█████████████████████████████████████████████████████████▍                                                                                | 416/1000 [04:45<06:20,  1.53it/s]"
     ]
    },
    {
     "name": "stdout",
     "output_type": "stream",
     "text": [
      "round : 416/1000 result lose, explore_rate 0.1\n"
     ]
    },
    {
     "name": "stderr",
     "output_type": "stream",
     "text": [
      " 42%|█████████████████████████████████████████████████████████▌                                                                                | 417/1000 [04:46<05:48,  1.67it/s]"
     ]
    },
    {
     "name": "stdout",
     "output_type": "stream",
     "text": [
      "round : 417/1000 result lose, explore_rate 0.1\n"
     ]
    },
    {
     "name": "stderr",
     "output_type": "stream",
     "text": [
      " 42%|█████████████████████████████████████████████████████████▋                                                                                | 418/1000 [04:46<06:11,  1.57it/s]"
     ]
    },
    {
     "name": "stdout",
     "output_type": "stream",
     "text": [
      "round : 418/1000 result lose, explore_rate 0.1\n"
     ]
    },
    {
     "name": "stderr",
     "output_type": "stream",
     "text": [
      " 42%|█████████████████████████████████████████████████████████▊                                                                                | 419/1000 [04:47<06:17,  1.54it/s]"
     ]
    },
    {
     "name": "stdout",
     "output_type": "stream",
     "text": [
      "round : 419/1000 result lose, explore_rate 0.1\n"
     ]
    },
    {
     "name": "stderr",
     "output_type": "stream",
     "text": [
      " 42%|█████████████████████████████████████████████████████████▉                                                                                | 420/1000 [04:48<06:42,  1.44it/s]"
     ]
    },
    {
     "name": "stdout",
     "output_type": "stream",
     "text": [
      "round : 420/1000 result lose, explore_rate 0.1\n"
     ]
    },
    {
     "name": "stderr",
     "output_type": "stream",
     "text": [
      " 42%|██████████████████████████████████████████████████████████                                                                                | 421/1000 [04:49<06:59,  1.38it/s]"
     ]
    },
    {
     "name": "stdout",
     "output_type": "stream",
     "text": [
      "round : 421/1000 result lose, explore_rate 0.1\n"
     ]
    },
    {
     "name": "stderr",
     "output_type": "stream",
     "text": [
      " 42%|██████████████████████████████████████████████████████████▏                                                                               | 422/1000 [04:49<07:00,  1.38it/s]"
     ]
    },
    {
     "name": "stdout",
     "output_type": "stream",
     "text": [
      "round : 422/1000 result lose, explore_rate 0.1\n"
     ]
    },
    {
     "name": "stderr",
     "output_type": "stream",
     "text": [
      " 42%|██████████████████████████████████████████████████████████▎                                                                               | 423/1000 [04:50<06:58,  1.38it/s]"
     ]
    },
    {
     "name": "stdout",
     "output_type": "stream",
     "text": [
      "round : 423/1000 result lose, explore_rate 0.1\n"
     ]
    },
    {
     "name": "stderr",
     "output_type": "stream",
     "text": [
      " 42%|██████████████████████████████████████████████████████████▌                                                                               | 424/1000 [04:51<06:38,  1.45it/s]"
     ]
    },
    {
     "name": "stdout",
     "output_type": "stream",
     "text": [
      "round : 424/1000 result lose, explore_rate 0.1\n"
     ]
    },
    {
     "name": "stderr",
     "output_type": "stream",
     "text": [
      " 42%|██████████████████████████████████████████████████████████▋                                                                               | 425/1000 [04:51<06:53,  1.39it/s]"
     ]
    },
    {
     "name": "stdout",
     "output_type": "stream",
     "text": [
      "round : 425/1000 result lose, explore_rate 0.1\n"
     ]
    },
    {
     "name": "stderr",
     "output_type": "stream",
     "text": [
      " 43%|██████████████████████████████████████████████████████████▊                                                                               | 426/1000 [04:52<06:20,  1.51it/s]"
     ]
    },
    {
     "name": "stdout",
     "output_type": "stream",
     "text": [
      "round : 426/1000 result lose, explore_rate 0.1\n"
     ]
    },
    {
     "name": "stderr",
     "output_type": "stream",
     "text": [
      " 43%|██████████████████████████████████████████████████████████▉                                                                               | 427/1000 [04:53<07:26,  1.28it/s]"
     ]
    },
    {
     "name": "stdout",
     "output_type": "stream",
     "text": [
      "round : 427/1000 result lose, explore_rate 0.1\n"
     ]
    },
    {
     "name": "stderr",
     "output_type": "stream",
     "text": [
      " 43%|███████████████████████████████████████████████████████████                                                                               | 428/1000 [04:54<06:59,  1.36it/s]"
     ]
    },
    {
     "name": "stdout",
     "output_type": "stream",
     "text": [
      "round : 428/1000 result lose, explore_rate 0.1\n"
     ]
    },
    {
     "name": "stderr",
     "output_type": "stream",
     "text": [
      " 43%|███████████████████████████████████████████████████████████▏                                                                              | 429/1000 [04:54<07:21,  1.29it/s]"
     ]
    },
    {
     "name": "stdout",
     "output_type": "stream",
     "text": [
      "round : 429/1000 result lose, explore_rate 0.1\n"
     ]
    },
    {
     "name": "stderr",
     "output_type": "stream",
     "text": [
      " 43%|███████████████████████████████████████████████████████████▎                                                                              | 430/1000 [04:55<07:50,  1.21it/s]"
     ]
    },
    {
     "name": "stdout",
     "output_type": "stream",
     "text": [
      "round : 430/1000 result lose, explore_rate 0.1\n"
     ]
    },
    {
     "name": "stderr",
     "output_type": "stream",
     "text": [
      " 43%|███████████████████████████████████████████████████████████▍                                                                              | 431/1000 [04:56<07:20,  1.29it/s]"
     ]
    },
    {
     "name": "stdout",
     "output_type": "stream",
     "text": [
      "round : 431/1000 result lose, explore_rate 0.1\n"
     ]
    },
    {
     "name": "stderr",
     "output_type": "stream",
     "text": [
      " 43%|███████████████████████████████████████████████████████████▌                                                                              | 432/1000 [04:57<06:58,  1.36it/s]"
     ]
    },
    {
     "name": "stdout",
     "output_type": "stream",
     "text": [
      "round : 432/1000 result lose, explore_rate 0.1\n"
     ]
    },
    {
     "name": "stderr",
     "output_type": "stream",
     "text": [
      " 43%|███████████████████████████████████████████████████████████▊                                                                              | 433/1000 [04:57<06:45,  1.40it/s]"
     ]
    },
    {
     "name": "stdout",
     "output_type": "stream",
     "text": [
      "round : 433/1000 result lose, explore_rate 0.1\n"
     ]
    },
    {
     "name": "stderr",
     "output_type": "stream",
     "text": [
      " 43%|███████████████████████████████████████████████████████████▉                                                                              | 434/1000 [04:58<06:22,  1.48it/s]"
     ]
    },
    {
     "name": "stdout",
     "output_type": "stream",
     "text": [
      "round : 434/1000 result lose, explore_rate 0.1\n"
     ]
    },
    {
     "name": "stderr",
     "output_type": "stream",
     "text": [
      " 44%|████████████████████████████████████████████████████████████                                                                              | 435/1000 [04:58<05:51,  1.61it/s]"
     ]
    },
    {
     "name": "stdout",
     "output_type": "stream",
     "text": [
      "round : 435/1000 result lose, explore_rate 0.1\n"
     ]
    },
    {
     "name": "stderr",
     "output_type": "stream",
     "text": [
      " 44%|████████████████████████████████████████████████████████████▏                                                                             | 436/1000 [04:59<06:11,  1.52it/s]"
     ]
    },
    {
     "name": "stdout",
     "output_type": "stream",
     "text": [
      "round : 436/1000 result lose, explore_rate 0.1\n"
     ]
    },
    {
     "name": "stderr",
     "output_type": "stream",
     "text": [
      " 44%|████████████████████████████████████████████████████████████▎                                                                             | 437/1000 [05:00<06:34,  1.43it/s]"
     ]
    },
    {
     "name": "stdout",
     "output_type": "stream",
     "text": [
      "round : 437/1000 result lose, explore_rate 0.1\n"
     ]
    },
    {
     "name": "stderr",
     "output_type": "stream",
     "text": [
      " 44%|████████████████████████████████████████████████████████████▍                                                                             | 438/1000 [05:01<06:06,  1.53it/s]"
     ]
    },
    {
     "name": "stdout",
     "output_type": "stream",
     "text": [
      "round : 438/1000 result lose, explore_rate 0.1\n"
     ]
    },
    {
     "name": "stderr",
     "output_type": "stream",
     "text": [
      " 44%|████████████████████████████████████████████████████████████▌                                                                             | 439/1000 [05:01<06:30,  1.44it/s]"
     ]
    },
    {
     "name": "stdout",
     "output_type": "stream",
     "text": [
      "round : 439/1000 result lose, explore_rate 0.1\n"
     ]
    },
    {
     "name": "stderr",
     "output_type": "stream",
     "text": [
      " 44%|████████████████████████████████████████████████████████████▋                                                                             | 440/1000 [05:02<06:12,  1.50it/s]"
     ]
    },
    {
     "name": "stdout",
     "output_type": "stream",
     "text": [
      "round : 440/1000 result lose, explore_rate 0.1\n"
     ]
    },
    {
     "name": "stderr",
     "output_type": "stream",
     "text": [
      " 44%|████████████████████████████████████████████████████████████▊                                                                             | 441/1000 [05:03<07:37,  1.22it/s]"
     ]
    },
    {
     "name": "stdout",
     "output_type": "stream",
     "text": [
      "round : 441/1000 result lose, explore_rate 0.1\n"
     ]
    },
    {
     "name": "stderr",
     "output_type": "stream",
     "text": [
      " 44%|████████████████████████████████████████████████████████████▉                                                                             | 442/1000 [05:04<07:01,  1.32it/s]"
     ]
    },
    {
     "name": "stdout",
     "output_type": "stream",
     "text": [
      "round : 442/1000 result lose, explore_rate 0.1\n"
     ]
    },
    {
     "name": "stderr",
     "output_type": "stream",
     "text": [
      " 44%|█████████████████████████████████████████████████████████████▏                                                                            | 443/1000 [05:04<06:34,  1.41it/s]"
     ]
    },
    {
     "name": "stdout",
     "output_type": "stream",
     "text": [
      "round : 443/1000 result lose, explore_rate 0.1\n"
     ]
    },
    {
     "name": "stderr",
     "output_type": "stream",
     "text": [
      " 44%|█████████████████████████████████████████████████████████████▎                                                                            | 444/1000 [05:05<06:36,  1.40it/s]"
     ]
    },
    {
     "name": "stdout",
     "output_type": "stream",
     "text": [
      "round : 444/1000 result lose, explore_rate 0.1\n"
     ]
    },
    {
     "name": "stderr",
     "output_type": "stream",
     "text": [
      " 44%|█████████████████████████████████████████████████████████████▍                                                                            | 445/1000 [05:06<06:36,  1.40it/s]"
     ]
    },
    {
     "name": "stdout",
     "output_type": "stream",
     "text": [
      "round : 445/1000 result lose, explore_rate 0.1\n"
     ]
    },
    {
     "name": "stderr",
     "output_type": "stream",
     "text": [
      " 45%|█████████████████████████████████████████████████████████████▌                                                                            | 446/1000 [05:06<06:27,  1.43it/s]"
     ]
    },
    {
     "name": "stdout",
     "output_type": "stream",
     "text": [
      "round : 446/1000 result lose, explore_rate 0.1\n"
     ]
    },
    {
     "name": "stderr",
     "output_type": "stream",
     "text": [
      " 45%|█████████████████████████████████████████████████████████████▋                                                                            | 447/1000 [05:07<06:39,  1.38it/s]"
     ]
    },
    {
     "name": "stdout",
     "output_type": "stream",
     "text": [
      "round : 447/1000 result lose, explore_rate 0.1\n"
     ]
    },
    {
     "name": "stderr",
     "output_type": "stream",
     "text": [
      " 45%|█████████████████████████████████████████████████████████████▊                                                                            | 448/1000 [05:08<06:44,  1.36it/s]"
     ]
    },
    {
     "name": "stdout",
     "output_type": "stream",
     "text": [
      "round : 448/1000 result lose, explore_rate 0.1\n"
     ]
    },
    {
     "name": "stderr",
     "output_type": "stream",
     "text": [
      " 45%|█████████████████████████████████████████████████████████████▉                                                                            | 449/1000 [05:09<06:20,  1.45it/s]"
     ]
    },
    {
     "name": "stdout",
     "output_type": "stream",
     "text": [
      "round : 449/1000 result lose, explore_rate 0.1\n"
     ]
    },
    {
     "name": "stderr",
     "output_type": "stream",
     "text": [
      " 45%|██████████████████████████████████████████████████████████████                                                                            | 450/1000 [05:09<06:11,  1.48it/s]"
     ]
    },
    {
     "name": "stdout",
     "output_type": "stream",
     "text": [
      "round : 450/1000 result lose, explore_rate 0.1\n"
     ]
    },
    {
     "name": "stderr",
     "output_type": "stream",
     "text": [
      " 45%|██████████████████████████████████████████████████████████████▏                                                                           | 451/1000 [05:10<06:42,  1.36it/s]"
     ]
    },
    {
     "name": "stdout",
     "output_type": "stream",
     "text": [
      "round : 451/1000 result lose, explore_rate 0.1\n"
     ]
    },
    {
     "name": "stderr",
     "output_type": "stream",
     "text": [
      " 45%|██████████████████████████████████████████████████████████████▍                                                                           | 452/1000 [05:11<06:05,  1.50it/s]"
     ]
    },
    {
     "name": "stdout",
     "output_type": "stream",
     "text": [
      "round : 452/1000 result lose, explore_rate 0.1\n"
     ]
    },
    {
     "name": "stderr",
     "output_type": "stream",
     "text": [
      " 45%|██████████████████████████████████████████████████████████████▌                                                                           | 453/1000 [05:11<06:28,  1.41it/s]"
     ]
    },
    {
     "name": "stdout",
     "output_type": "stream",
     "text": [
      "round : 453/1000 result lose, explore_rate 0.1\n"
     ]
    },
    {
     "name": "stderr",
     "output_type": "stream",
     "text": [
      " 45%|██████████████████████████████████████████████████████████████▋                                                                           | 454/1000 [05:12<06:03,  1.50it/s]"
     ]
    },
    {
     "name": "stdout",
     "output_type": "stream",
     "text": [
      "round : 454/1000 result lose, explore_rate 0.1\n"
     ]
    },
    {
     "name": "stderr",
     "output_type": "stream",
     "text": [
      " 46%|██████████████████████████████████████████████████████████████▊                                                                           | 455/1000 [05:13<07:37,  1.19it/s]"
     ]
    },
    {
     "name": "stdout",
     "output_type": "stream",
     "text": [
      "round : 455/1000 result lose, explore_rate 0.1\n"
     ]
    },
    {
     "name": "stderr",
     "output_type": "stream",
     "text": [
      " 46%|██████████████████████████████████████████████████████████████▉                                                                           | 456/1000 [05:14<06:52,  1.32it/s]"
     ]
    },
    {
     "name": "stdout",
     "output_type": "stream",
     "text": [
      "round : 456/1000 result lose, explore_rate 0.1\n"
     ]
    },
    {
     "name": "stderr",
     "output_type": "stream",
     "text": [
      " 46%|███████████████████████████████████████████████████████████████                                                                           | 457/1000 [05:14<06:41,  1.35it/s]"
     ]
    },
    {
     "name": "stdout",
     "output_type": "stream",
     "text": [
      "round : 457/1000 result lose, explore_rate 0.1\n"
     ]
    },
    {
     "name": "stderr",
     "output_type": "stream",
     "text": [
      " 46%|███████████████████████████████████████████████████████████████▏                                                                          | 458/1000 [05:15<06:50,  1.32it/s]"
     ]
    },
    {
     "name": "stdout",
     "output_type": "stream",
     "text": [
      "round : 458/1000 result lose, explore_rate 0.1\n"
     ]
    },
    {
     "name": "stderr",
     "output_type": "stream",
     "text": [
      " 46%|███████████████████████████████████████████████████████████████▎                                                                          | 459/1000 [05:16<07:17,  1.24it/s]"
     ]
    },
    {
     "name": "stdout",
     "output_type": "stream",
     "text": [
      "round : 459/1000 result lose, explore_rate 0.1\n"
     ]
    },
    {
     "name": "stderr",
     "output_type": "stream",
     "text": [
      " 46%|███████████████████████████████████████████████████████████████▍                                                                          | 460/1000 [05:17<06:51,  1.31it/s]"
     ]
    },
    {
     "name": "stdout",
     "output_type": "stream",
     "text": [
      "round : 460/1000 result lose, explore_rate 0.1\n"
     ]
    },
    {
     "name": "stderr",
     "output_type": "stream",
     "text": [
      " 46%|███████████████████████████████████████████████████████████████▌                                                                          | 461/1000 [05:17<06:15,  1.44it/s]"
     ]
    },
    {
     "name": "stdout",
     "output_type": "stream",
     "text": [
      "round : 461/1000 result lose, explore_rate 0.1\n"
     ]
    },
    {
     "name": "stderr",
     "output_type": "stream",
     "text": [
      " 46%|███████████████████████████████████████████████████████████████▊                                                                          | 462/1000 [05:18<06:09,  1.46it/s]"
     ]
    },
    {
     "name": "stdout",
     "output_type": "stream",
     "text": [
      "round : 462/1000 result lose, explore_rate 0.1\n"
     ]
    },
    {
     "name": "stderr",
     "output_type": "stream",
     "text": [
      " 46%|███████████████████████████████████████████████████████████████▉                                                                          | 463/1000 [05:19<06:22,  1.40it/s]"
     ]
    },
    {
     "name": "stdout",
     "output_type": "stream",
     "text": [
      "round : 463/1000 result lose, explore_rate 0.1\n"
     ]
    },
    {
     "name": "stderr",
     "output_type": "stream",
     "text": [
      " 46%|████████████████████████████████████████████████████████████████                                                                          | 464/1000 [05:20<06:28,  1.38it/s]"
     ]
    },
    {
     "name": "stdout",
     "output_type": "stream",
     "text": [
      "round : 464/1000 result lose, explore_rate 0.1\n"
     ]
    },
    {
     "name": "stderr",
     "output_type": "stream",
     "text": [
      " 46%|████████████████████████████████████████████████████████████████▏                                                                         | 465/1000 [05:20<06:07,  1.45it/s]"
     ]
    },
    {
     "name": "stdout",
     "output_type": "stream",
     "text": [
      "round : 465/1000 result lose, explore_rate 0.1\n"
     ]
    },
    {
     "name": "stderr",
     "output_type": "stream",
     "text": [
      " 47%|████████████████████████████████████████████████████████████████▎                                                                         | 466/1000 [05:21<05:47,  1.54it/s]"
     ]
    },
    {
     "name": "stdout",
     "output_type": "stream",
     "text": [
      "round : 466/1000 result lose, explore_rate 0.1\n"
     ]
    },
    {
     "name": "stderr",
     "output_type": "stream",
     "text": [
      " 47%|████████████████████████████████████████████████████████████████▍                                                                         | 467/1000 [05:22<06:15,  1.42it/s]"
     ]
    },
    {
     "name": "stdout",
     "output_type": "stream",
     "text": [
      "round : 467/1000 result lose, explore_rate 0.1\n"
     ]
    },
    {
     "name": "stderr",
     "output_type": "stream",
     "text": [
      " 47%|████████████████████████████████████████████████████████████████▌                                                                         | 468/1000 [05:22<05:51,  1.51it/s]"
     ]
    },
    {
     "name": "stdout",
     "output_type": "stream",
     "text": [
      "round : 468/1000 result lose, explore_rate 0.1\n"
     ]
    },
    {
     "name": "stderr",
     "output_type": "stream",
     "text": [
      " 47%|████████████████████████████████████████████████████████████████▋                                                                         | 469/1000 [05:23<06:08,  1.44it/s]"
     ]
    },
    {
     "name": "stdout",
     "output_type": "stream",
     "text": [
      "round : 469/1000 result lose, explore_rate 0.1\n"
     ]
    },
    {
     "name": "stderr",
     "output_type": "stream",
     "text": [
      " 47%|████████████████████████████████████████████████████████████████▊                                                                         | 470/1000 [05:24<06:49,  1.30it/s]"
     ]
    },
    {
     "name": "stdout",
     "output_type": "stream",
     "text": [
      "round : 470/1000 result lose, explore_rate 0.1\n"
     ]
    },
    {
     "name": "stderr",
     "output_type": "stream",
     "text": [
      " 47%|████████████████████████████████████████████████████████████████▉                                                                         | 471/1000 [05:25<06:55,  1.27it/s]"
     ]
    },
    {
     "name": "stdout",
     "output_type": "stream",
     "text": [
      "round : 471/1000 result lose, explore_rate 0.1\n"
     ]
    },
    {
     "name": "stderr",
     "output_type": "stream",
     "text": [
      " 47%|█████████████████████████████████████████████████████████████████▏                                                                        | 472/1000 [05:26<07:17,  1.21it/s]"
     ]
    },
    {
     "name": "stdout",
     "output_type": "stream",
     "text": [
      "round : 472/1000 result lose, explore_rate 0.1\n"
     ]
    },
    {
     "name": "stderr",
     "output_type": "stream",
     "text": [
      " 47%|█████████████████████████████████████████████████████████████████▎                                                                        | 473/1000 [05:26<07:03,  1.25it/s]"
     ]
    },
    {
     "name": "stdout",
     "output_type": "stream",
     "text": [
      "round : 473/1000 result lose, explore_rate 0.1\n"
     ]
    },
    {
     "name": "stderr",
     "output_type": "stream",
     "text": [
      " 47%|█████████████████████████████████████████████████████████████████▍                                                                        | 474/1000 [05:27<06:40,  1.31it/s]"
     ]
    },
    {
     "name": "stdout",
     "output_type": "stream",
     "text": [
      "round : 474/1000 result lose, explore_rate 0.1\n"
     ]
    },
    {
     "name": "stderr",
     "output_type": "stream",
     "text": [
      " 48%|█████████████████████████████████████████████████████████████████▌                                                                        | 475/1000 [05:28<06:05,  1.43it/s]"
     ]
    },
    {
     "name": "stdout",
     "output_type": "stream",
     "text": [
      "round : 475/1000 result lose, explore_rate 0.1\n"
     ]
    },
    {
     "name": "stderr",
     "output_type": "stream",
     "text": [
      " 48%|█████████████████████████████████████████████████████████████████▋                                                                        | 476/1000 [05:28<06:00,  1.45it/s]"
     ]
    },
    {
     "name": "stdout",
     "output_type": "stream",
     "text": [
      "round : 476/1000 result lose, explore_rate 0.1\n"
     ]
    },
    {
     "name": "stderr",
     "output_type": "stream",
     "text": [
      " 48%|█████████████████████████████████████████████████████████████████▊                                                                        | 477/1000 [05:29<05:42,  1.53it/s]"
     ]
    },
    {
     "name": "stdout",
     "output_type": "stream",
     "text": [
      "round : 477/1000 result lose, explore_rate 0.1\n"
     ]
    },
    {
     "name": "stderr",
     "output_type": "stream",
     "text": [
      " 48%|█████████████████████████████████████████████████████████████████▉                                                                        | 478/1000 [05:31<09:15,  1.06s/it]"
     ]
    },
    {
     "name": "stdout",
     "output_type": "stream",
     "text": [
      "round : 478/1000 result draw, explore_rate 0.1\n"
     ]
    },
    {
     "name": "stderr",
     "output_type": "stream",
     "text": [
      " 48%|██████████████████████████████████████████████████████████████████                                                                        | 479/1000 [05:31<08:17,  1.05it/s]"
     ]
    },
    {
     "name": "stdout",
     "output_type": "stream",
     "text": [
      "round : 479/1000 result lose, explore_rate 0.1\n"
     ]
    },
    {
     "name": "stderr",
     "output_type": "stream",
     "text": [
      " 48%|██████████████████████████████████████████████████████████████████▏                                                                       | 480/1000 [05:33<09:22,  1.08s/it]"
     ]
    },
    {
     "name": "stdout",
     "output_type": "stream",
     "text": [
      "round : 480/1000 result draw, explore_rate 0.1\n"
     ]
    },
    {
     "name": "stderr",
     "output_type": "stream",
     "text": [
      " 48%|██████████████████████████████████████████████████████████████████▍                                                                       | 481/1000 [05:33<07:51,  1.10it/s]"
     ]
    },
    {
     "name": "stdout",
     "output_type": "stream",
     "text": [
      "round : 481/1000 result lose, explore_rate 0.1\n"
     ]
    },
    {
     "name": "stderr",
     "output_type": "stream",
     "text": [
      " 48%|██████████████████████████████████████████████████████████████████▌                                                                       | 482/1000 [05:34<07:19,  1.18it/s]"
     ]
    },
    {
     "name": "stdout",
     "output_type": "stream",
     "text": [
      "round : 482/1000 result lose, explore_rate 0.1\n"
     ]
    },
    {
     "name": "stderr",
     "output_type": "stream",
     "text": [
      " 48%|██████████████████████████████████████████████████████████████████▋                                                                       | 483/1000 [05:35<06:40,  1.29it/s]"
     ]
    },
    {
     "name": "stdout",
     "output_type": "stream",
     "text": [
      "round : 483/1000 result lose, explore_rate 0.1\n"
     ]
    },
    {
     "name": "stderr",
     "output_type": "stream",
     "text": [
      " 48%|██████████████████████████████████████████████████████████████████▊                                                                       | 484/1000 [05:35<06:32,  1.31it/s]"
     ]
    },
    {
     "name": "stdout",
     "output_type": "stream",
     "text": [
      "round : 484/1000 result lose, explore_rate 0.1\n"
     ]
    },
    {
     "name": "stderr",
     "output_type": "stream",
     "text": [
      " 48%|██████████████████████████████████████████████████████████████████▉                                                                       | 485/1000 [05:36<06:15,  1.37it/s]"
     ]
    },
    {
     "name": "stdout",
     "output_type": "stream",
     "text": [
      "round : 485/1000 result lose, explore_rate 0.1\n"
     ]
    },
    {
     "name": "stderr",
     "output_type": "stream",
     "text": [
      " 49%|███████████████████████████████████████████████████████████████████                                                                       | 486/1000 [05:37<05:44,  1.49it/s]"
     ]
    },
    {
     "name": "stdout",
     "output_type": "stream",
     "text": [
      "round : 486/1000 result lose, explore_rate 0.1\n"
     ]
    },
    {
     "name": "stderr",
     "output_type": "stream",
     "text": [
      " 49%|███████████████████████████████████████████████████████████████████▏                                                                      | 487/1000 [05:37<05:50,  1.46it/s]"
     ]
    },
    {
     "name": "stdout",
     "output_type": "stream",
     "text": [
      "round : 487/1000 result lose, explore_rate 0.1\n"
     ]
    },
    {
     "name": "stderr",
     "output_type": "stream",
     "text": [
      " 49%|███████████████████████████████████████████████████████████████████▎                                                                      | 488/1000 [05:38<05:31,  1.55it/s]"
     ]
    },
    {
     "name": "stdout",
     "output_type": "stream",
     "text": [
      "round : 488/1000 result lose, explore_rate 0.1\n"
     ]
    },
    {
     "name": "stderr",
     "output_type": "stream",
     "text": [
      " 49%|███████████████████████████████████████████████████████████████████▍                                                                      | 489/1000 [05:39<06:03,  1.41it/s]"
     ]
    },
    {
     "name": "stdout",
     "output_type": "stream",
     "text": [
      "round : 489/1000 result lose, explore_rate 0.1\n"
     ]
    },
    {
     "name": "stderr",
     "output_type": "stream",
     "text": [
      " 49%|███████████████████████████████████████████████████████████████████▌                                                                      | 490/1000 [05:39<06:00,  1.42it/s]"
     ]
    },
    {
     "name": "stdout",
     "output_type": "stream",
     "text": [
      "round : 490/1000 result lose, explore_rate 0.1\n"
     ]
    },
    {
     "name": "stderr",
     "output_type": "stream",
     "text": [
      " 49%|███████████████████████████████████████████████████████████████████▊                                                                      | 491/1000 [05:40<05:48,  1.46it/s]"
     ]
    },
    {
     "name": "stdout",
     "output_type": "stream",
     "text": [
      "round : 491/1000 result lose, explore_rate 0.1\n"
     ]
    },
    {
     "name": "stderr",
     "output_type": "stream",
     "text": [
      " 49%|███████████████████████████████████████████████████████████████████▉                                                                      | 492/1000 [05:41<06:25,  1.32it/s]"
     ]
    },
    {
     "name": "stdout",
     "output_type": "stream",
     "text": [
      "round : 492/1000 result lose, explore_rate 0.1\n"
     ]
    },
    {
     "name": "stderr",
     "output_type": "stream",
     "text": [
      " 49%|████████████████████████████████████████████████████████████████████                                                                      | 493/1000 [05:42<06:09,  1.37it/s]"
     ]
    },
    {
     "name": "stdout",
     "output_type": "stream",
     "text": [
      "round : 493/1000 result lose, explore_rate 0.1\n"
     ]
    },
    {
     "name": "stderr",
     "output_type": "stream",
     "text": [
      " 49%|████████████████████████████████████████████████████████████████████▏                                                                     | 494/1000 [05:42<05:38,  1.49it/s]"
     ]
    },
    {
     "name": "stdout",
     "output_type": "stream",
     "text": [
      "round : 494/1000 result lose, explore_rate 0.1\n"
     ]
    },
    {
     "name": "stderr",
     "output_type": "stream",
     "text": [
      " 50%|████████████████████████████████████████████████████████████████████▎                                                                     | 495/1000 [05:43<05:45,  1.46it/s]"
     ]
    },
    {
     "name": "stdout",
     "output_type": "stream",
     "text": [
      "round : 495/1000 result lose, explore_rate 0.1\n"
     ]
    },
    {
     "name": "stderr",
     "output_type": "stream",
     "text": [
      " 50%|████████████████████████████████████████████████████████████████████▍                                                                     | 496/1000 [05:44<05:57,  1.41it/s]"
     ]
    },
    {
     "name": "stdout",
     "output_type": "stream",
     "text": [
      "round : 496/1000 result lose, explore_rate 0.1\n"
     ]
    },
    {
     "name": "stderr",
     "output_type": "stream",
     "text": [
      " 50%|████████████████████████████████████████████████████████████████████▌                                                                     | 497/1000 [05:44<06:02,  1.39it/s]"
     ]
    },
    {
     "name": "stdout",
     "output_type": "stream",
     "text": [
      "round : 497/1000 result lose, explore_rate 0.1\n"
     ]
    },
    {
     "name": "stderr",
     "output_type": "stream",
     "text": [
      " 50%|████████████████████████████████████████████████████████████████████▋                                                                     | 498/1000 [05:45<05:50,  1.43it/s]"
     ]
    },
    {
     "name": "stdout",
     "output_type": "stream",
     "text": [
      "round : 498/1000 result lose, explore_rate 0.1\n"
     ]
    },
    {
     "name": "stderr",
     "output_type": "stream",
     "text": [
      " 50%|████████████████████████████████████████████████████████████████████▊                                                                     | 499/1000 [05:46<05:50,  1.43it/s]"
     ]
    },
    {
     "name": "stdout",
     "output_type": "stream",
     "text": [
      "round : 499/1000 result lose, explore_rate 0.1\n"
     ]
    },
    {
     "name": "stderr",
     "output_type": "stream",
     "text": [
      " 50%|█████████████████████████████████████████████████████████████████████                                                                     | 500/1000 [05:46<05:27,  1.53it/s]"
     ]
    },
    {
     "name": "stdout",
     "output_type": "stream",
     "text": [
      "round : 500/1000 result lose, explore_rate 0.1\n"
     ]
    },
    {
     "name": "stderr",
     "output_type": "stream",
     "text": [
      " 50%|█████████████████████████████████████████████████████████████████████▏                                                                    | 501/1000 [05:47<05:07,  1.62it/s]"
     ]
    },
    {
     "name": "stdout",
     "output_type": "stream",
     "text": [
      "round : 501/1000 result lose, explore_rate 0.1\n"
     ]
    },
    {
     "name": "stderr",
     "output_type": "stream",
     "text": [
      " 50%|█████████████████████████████████████████████████████████████████████▎                                                                    | 502/1000 [05:47<04:50,  1.71it/s]"
     ]
    },
    {
     "name": "stdout",
     "output_type": "stream",
     "text": [
      "round : 502/1000 result lose, explore_rate 0.1\n"
     ]
    },
    {
     "name": "stderr",
     "output_type": "stream",
     "text": [
      " 50%|█████████████████████████████████████████████████████████████████████▍                                                                    | 503/1000 [05:48<04:41,  1.76it/s]"
     ]
    },
    {
     "name": "stdout",
     "output_type": "stream",
     "text": [
      "round : 503/1000 result lose, explore_rate 0.1\n"
     ]
    },
    {
     "name": "stderr",
     "output_type": "stream",
     "text": [
      " 50%|█████████████████████████████████████████████████████████████████████▌                                                                    | 504/1000 [05:48<04:32,  1.82it/s]"
     ]
    },
    {
     "name": "stdout",
     "output_type": "stream",
     "text": [
      "round : 504/1000 result lose, explore_rate 0.1\n"
     ]
    },
    {
     "name": "stderr",
     "output_type": "stream",
     "text": [
      " 50%|█████████████████████████████████████████████████████████████████████▋                                                                    | 505/1000 [05:49<05:24,  1.53it/s]"
     ]
    },
    {
     "name": "stdout",
     "output_type": "stream",
     "text": [
      "round : 505/1000 result lose, explore_rate 0.1\n"
     ]
    },
    {
     "name": "stderr",
     "output_type": "stream",
     "text": [
      " 51%|█████████████████████████████████████████████████████████████████████▊                                                                    | 506/1000 [05:50<06:10,  1.33it/s]"
     ]
    },
    {
     "name": "stdout",
     "output_type": "stream",
     "text": [
      "round : 506/1000 result lose, explore_rate 0.1\n"
     ]
    },
    {
     "name": "stderr",
     "output_type": "stream",
     "text": [
      " 51%|█████████████████████████████████████████████████████████████████████▉                                                                    | 507/1000 [05:51<06:03,  1.36it/s]"
     ]
    },
    {
     "name": "stdout",
     "output_type": "stream",
     "text": [
      "round : 507/1000 result lose, explore_rate 0.1\n"
     ]
    },
    {
     "name": "stderr",
     "output_type": "stream",
     "text": [
      " 51%|██████████████████████████████████████████████████████████████████████                                                                    | 508/1000 [05:52<06:00,  1.37it/s]"
     ]
    },
    {
     "name": "stdout",
     "output_type": "stream",
     "text": [
      "round : 508/1000 result lose, explore_rate 0.1\n"
     ]
    },
    {
     "name": "stderr",
     "output_type": "stream",
     "text": [
      " 51%|██████████████████████████████████████████████████████████████████████▏                                                                   | 509/1000 [05:52<05:51,  1.40it/s]"
     ]
    },
    {
     "name": "stdout",
     "output_type": "stream",
     "text": [
      "round : 509/1000 result lose, explore_rate 0.1\n"
     ]
    },
    {
     "name": "stderr",
     "output_type": "stream",
     "text": [
      " 51%|██████████████████████████████████████████████████████████████████████▍                                                                   | 510/1000 [05:53<05:12,  1.57it/s]"
     ]
    },
    {
     "name": "stdout",
     "output_type": "stream",
     "text": [
      "round : 510/1000 result lose, explore_rate 0.1\n"
     ]
    },
    {
     "name": "stderr",
     "output_type": "stream",
     "text": [
      " 51%|██████████████████████████████████████████████████████████████████████▌                                                                   | 511/1000 [05:54<05:23,  1.51it/s]"
     ]
    },
    {
     "name": "stdout",
     "output_type": "stream",
     "text": [
      "round : 511/1000 result lose, explore_rate 0.1\n"
     ]
    },
    {
     "name": "stderr",
     "output_type": "stream",
     "text": [
      " 51%|██████████████████████████████████████████████████████████████████████▋                                                                   | 512/1000 [05:54<05:08,  1.58it/s]"
     ]
    },
    {
     "name": "stdout",
     "output_type": "stream",
     "text": [
      "round : 512/1000 result lose, explore_rate 0.1\n"
     ]
    },
    {
     "name": "stderr",
     "output_type": "stream",
     "text": [
      " 51%|██████████████████████████████████████████████████████████████████████▊                                                                   | 513/1000 [05:55<04:45,  1.71it/s]"
     ]
    },
    {
     "name": "stdout",
     "output_type": "stream",
     "text": [
      "round : 513/1000 result lose, explore_rate 0.1\n"
     ]
    },
    {
     "name": "stderr",
     "output_type": "stream",
     "text": [
      " 51%|██████████████████████████████████████████████████████████████████████▉                                                                   | 514/1000 [05:55<04:40,  1.73it/s]"
     ]
    },
    {
     "name": "stdout",
     "output_type": "stream",
     "text": [
      "round : 514/1000 result lose, explore_rate 0.1\n"
     ]
    },
    {
     "name": "stderr",
     "output_type": "stream",
     "text": [
      " 52%|███████████████████████████████████████████████████████████████████████                                                                   | 515/1000 [05:56<04:53,  1.65it/s]"
     ]
    },
    {
     "name": "stdout",
     "output_type": "stream",
     "text": [
      "round : 515/1000 result lose, explore_rate 0.1\n"
     ]
    },
    {
     "name": "stderr",
     "output_type": "stream",
     "text": [
      " 52%|███████████████████████████████████████████████████████████████████████▏                                                                  | 516/1000 [05:56<04:46,  1.69it/s]"
     ]
    },
    {
     "name": "stdout",
     "output_type": "stream",
     "text": [
      "round : 516/1000 result lose, explore_rate 0.1\n"
     ]
    },
    {
     "name": "stderr",
     "output_type": "stream",
     "text": [
      " 52%|███████████████████████████████████████████████████████████████████████▎                                                                  | 517/1000 [05:57<04:50,  1.66it/s]"
     ]
    },
    {
     "name": "stdout",
     "output_type": "stream",
     "text": [
      "round : 517/1000 result lose, explore_rate 0.1\n"
     ]
    },
    {
     "name": "stderr",
     "output_type": "stream",
     "text": [
      " 52%|███████████████████████████████████████████████████████████████████████▍                                                                  | 518/1000 [05:58<04:58,  1.62it/s]"
     ]
    },
    {
     "name": "stdout",
     "output_type": "stream",
     "text": [
      "round : 518/1000 result lose, explore_rate 0.1\n"
     ]
    },
    {
     "name": "stderr",
     "output_type": "stream",
     "text": [
      " 52%|███████████████████████████████████████████████████████████████████████▌                                                                  | 519/1000 [05:58<05:24,  1.48it/s]"
     ]
    },
    {
     "name": "stdout",
     "output_type": "stream",
     "text": [
      "round : 519/1000 result lose, explore_rate 0.1\n"
     ]
    },
    {
     "name": "stderr",
     "output_type": "stream",
     "text": [
      " 52%|███████████████████████████████████████████████████████████████████████▊                                                                  | 520/1000 [05:59<04:59,  1.60it/s]"
     ]
    },
    {
     "name": "stdout",
     "output_type": "stream",
     "text": [
      "round : 520/1000 result lose, explore_rate 0.1\n"
     ]
    },
    {
     "name": "stderr",
     "output_type": "stream",
     "text": [
      " 52%|███████████████████████████████████████████████████████████████████████▉                                                                  | 521/1000 [06:00<05:13,  1.53it/s]"
     ]
    },
    {
     "name": "stdout",
     "output_type": "stream",
     "text": [
      "round : 521/1000 result lose, explore_rate 0.1\n"
     ]
    },
    {
     "name": "stderr",
     "output_type": "stream",
     "text": [
      " 52%|████████████████████████████████████████████████████████████████████████                                                                  | 522/1000 [06:01<06:25,  1.24it/s]"
     ]
    },
    {
     "name": "stdout",
     "output_type": "stream",
     "text": [
      "round : 522/1000 result lose, explore_rate 0.1\n"
     ]
    },
    {
     "name": "stderr",
     "output_type": "stream",
     "text": [
      " 52%|████████████████████████████████████████████████████████████████████████▏                                                                 | 523/1000 [06:01<06:00,  1.32it/s]"
     ]
    },
    {
     "name": "stdout",
     "output_type": "stream",
     "text": [
      "round : 523/1000 result lose, explore_rate 0.1\n"
     ]
    },
    {
     "name": "stderr",
     "output_type": "stream",
     "text": [
      " 52%|████████████████████████████████████████████████████████████████████████▎                                                                 | 524/1000 [06:02<06:10,  1.28it/s]"
     ]
    },
    {
     "name": "stdout",
     "output_type": "stream",
     "text": [
      "round : 524/1000 result lose, explore_rate 0.1\n"
     ]
    },
    {
     "name": "stderr",
     "output_type": "stream",
     "text": [
      " 52%|████████████████████████████████████████████████████████████████████████▍                                                                 | 525/1000 [06:03<05:50,  1.36it/s]"
     ]
    },
    {
     "name": "stdout",
     "output_type": "stream",
     "text": [
      "round : 525/1000 result lose, explore_rate 0.1\n"
     ]
    },
    {
     "name": "stderr",
     "output_type": "stream",
     "text": [
      " 53%|████████████████████████████████████████████████████████████████████████▌                                                                 | 526/1000 [06:04<06:18,  1.25it/s]"
     ]
    },
    {
     "name": "stdout",
     "output_type": "stream",
     "text": [
      "round : 526/1000 result lose, explore_rate 0.1\n"
     ]
    },
    {
     "name": "stderr",
     "output_type": "stream",
     "text": [
      " 53%|████████████████████████████████████████████████████████████████████████▋                                                                 | 527/1000 [06:05<06:11,  1.27it/s]"
     ]
    },
    {
     "name": "stdout",
     "output_type": "stream",
     "text": [
      "round : 527/1000 result lose, explore_rate 0.1\n"
     ]
    },
    {
     "name": "stderr",
     "output_type": "stream",
     "text": [
      " 53%|████████████████████████████████████████████████████████████████████████▊                                                                 | 528/1000 [06:05<05:59,  1.31it/s]"
     ]
    },
    {
     "name": "stdout",
     "output_type": "stream",
     "text": [
      "round : 528/1000 result lose, explore_rate 0.1\n"
     ]
    },
    {
     "name": "stderr",
     "output_type": "stream",
     "text": [
      " 53%|█████████████████████████████████████████████████████████████████████████                                                                 | 529/1000 [06:06<05:46,  1.36it/s]"
     ]
    },
    {
     "name": "stdout",
     "output_type": "stream",
     "text": [
      "round : 529/1000 result lose, explore_rate 0.1\n"
     ]
    },
    {
     "name": "stderr",
     "output_type": "stream",
     "text": [
      " 53%|█████████████████████████████████████████████████████████████████████████▏                                                                | 530/1000 [06:07<05:18,  1.48it/s]"
     ]
    },
    {
     "name": "stdout",
     "output_type": "stream",
     "text": [
      "round : 530/1000 result lose, explore_rate 0.1\n"
     ]
    },
    {
     "name": "stderr",
     "output_type": "stream",
     "text": [
      " 53%|█████████████████████████████████████████████████████████████████████████▎                                                                | 531/1000 [06:07<05:36,  1.40it/s]"
     ]
    },
    {
     "name": "stdout",
     "output_type": "stream",
     "text": [
      "round : 531/1000 result lose, explore_rate 0.1\n"
     ]
    },
    {
     "name": "stderr",
     "output_type": "stream",
     "text": [
      " 53%|█████████████████████████████████████████████████████████████████████████▍                                                                | 532/1000 [06:08<05:20,  1.46it/s]"
     ]
    },
    {
     "name": "stdout",
     "output_type": "stream",
     "text": [
      "round : 532/1000 result lose, explore_rate 0.1\n"
     ]
    },
    {
     "name": "stderr",
     "output_type": "stream",
     "text": [
      " 53%|█████████████████████████████████████████████████████████████████████████▌                                                                | 533/1000 [06:09<05:17,  1.47it/s]"
     ]
    },
    {
     "name": "stdout",
     "output_type": "stream",
     "text": [
      "round : 533/1000 result lose, explore_rate 0.1\n"
     ]
    },
    {
     "name": "stderr",
     "output_type": "stream",
     "text": [
      " 53%|█████████████████████████████████████████████████████████████████████████▋                                                                | 534/1000 [06:09<04:57,  1.57it/s]"
     ]
    },
    {
     "name": "stdout",
     "output_type": "stream",
     "text": [
      "round : 534/1000 result lose, explore_rate 0.1\n"
     ]
    },
    {
     "name": "stderr",
     "output_type": "stream",
     "text": [
      " 54%|█████████████████████████████████████████████████████████████████████████▊                                                                | 535/1000 [06:10<04:30,  1.72it/s]"
     ]
    },
    {
     "name": "stdout",
     "output_type": "stream",
     "text": [
      "round : 535/1000 result lose, explore_rate 0.1\n"
     ]
    },
    {
     "name": "stderr",
     "output_type": "stream",
     "text": [
      " 54%|█████████████████████████████████████████████████████████████████████████▉                                                                | 536/1000 [06:10<04:16,  1.81it/s]"
     ]
    },
    {
     "name": "stdout",
     "output_type": "stream",
     "text": [
      "round : 536/1000 result lose, explore_rate 0.1\n"
     ]
    },
    {
     "name": "stderr",
     "output_type": "stream",
     "text": [
      " 54%|██████████████████████████████████████████████████████████████████████████                                                                | 537/1000 [06:12<06:17,  1.23it/s]"
     ]
    },
    {
     "name": "stdout",
     "output_type": "stream",
     "text": [
      "round : 537/1000 result lose, explore_rate 0.1\n"
     ]
    },
    {
     "name": "stderr",
     "output_type": "stream",
     "text": [
      " 54%|██████████████████████████████████████████████████████████████████████████▏                                                               | 538/1000 [06:12<05:52,  1.31it/s]"
     ]
    },
    {
     "name": "stdout",
     "output_type": "stream",
     "text": [
      "round : 538/1000 result lose, explore_rate 0.1\n"
     ]
    },
    {
     "name": "stderr",
     "output_type": "stream",
     "text": [
      " 54%|██████████████████████████████████████████████████████████████████████████▍                                                               | 539/1000 [06:13<06:03,  1.27it/s]"
     ]
    },
    {
     "name": "stdout",
     "output_type": "stream",
     "text": [
      "round : 539/1000 result lose, explore_rate 0.1\n"
     ]
    },
    {
     "name": "stderr",
     "output_type": "stream",
     "text": [
      " 54%|██████████████████████████████████████████████████████████████████████████▌                                                               | 540/1000 [06:14<05:45,  1.33it/s]"
     ]
    },
    {
     "name": "stdout",
     "output_type": "stream",
     "text": [
      "round : 540/1000 result lose, explore_rate 0.1\n"
     ]
    },
    {
     "name": "stderr",
     "output_type": "stream",
     "text": [
      " 54%|██████████████████████████████████████████████████████████████████████████▋                                                               | 541/1000 [06:14<05:45,  1.33it/s]"
     ]
    },
    {
     "name": "stdout",
     "output_type": "stream",
     "text": [
      "round : 541/1000 result lose, explore_rate 0.1\n"
     ]
    },
    {
     "name": "stderr",
     "output_type": "stream",
     "text": [
      " 54%|██████████████████████████████████████████████████████████████████████████▊                                                               | 542/1000 [06:15<05:36,  1.36it/s]"
     ]
    },
    {
     "name": "stdout",
     "output_type": "stream",
     "text": [
      "round : 542/1000 result lose, explore_rate 0.1\n"
     ]
    },
    {
     "name": "stderr",
     "output_type": "stream",
     "text": [
      " 54%|██████████████████████████████████████████████████████████████████████████▉                                                               | 543/1000 [06:16<05:48,  1.31it/s]"
     ]
    },
    {
     "name": "stdout",
     "output_type": "stream",
     "text": [
      "round : 543/1000 result lose, explore_rate 0.1\n"
     ]
    },
    {
     "name": "stderr",
     "output_type": "stream",
     "text": [
      " 54%|███████████████████████████████████████████████████████████████████████████                                                               | 544/1000 [06:17<05:39,  1.34it/s]"
     ]
    },
    {
     "name": "stdout",
     "output_type": "stream",
     "text": [
      "round : 544/1000 result lose, explore_rate 0.1\n"
     ]
    },
    {
     "name": "stderr",
     "output_type": "stream",
     "text": [
      " 55%|███████████████████████████████████████████████████████████████████████████▏                                                              | 545/1000 [06:17<05:35,  1.36it/s]"
     ]
    },
    {
     "name": "stdout",
     "output_type": "stream",
     "text": [
      "round : 545/1000 result lose, explore_rate 0.1\n"
     ]
    },
    {
     "name": "stderr",
     "output_type": "stream",
     "text": [
      " 55%|███████████████████████████████████████████████████████████████████████████▎                                                              | 546/1000 [06:18<04:55,  1.53it/s]"
     ]
    },
    {
     "name": "stdout",
     "output_type": "stream",
     "text": [
      "round : 546/1000 result lose, explore_rate 0.1\n"
     ]
    },
    {
     "name": "stderr",
     "output_type": "stream",
     "text": [
      " 55%|███████████████████████████████████████████████████████████████████████████▍                                                              | 547/1000 [06:18<04:28,  1.69it/s]"
     ]
    },
    {
     "name": "stdout",
     "output_type": "stream",
     "text": [
      "round : 547/1000 result lose, explore_rate 0.1\n"
     ]
    },
    {
     "name": "stderr",
     "output_type": "stream",
     "text": [
      " 55%|███████████████████████████████████████████████████████████████████████████▌                                                              | 548/1000 [06:19<04:18,  1.75it/s]"
     ]
    },
    {
     "name": "stdout",
     "output_type": "stream",
     "text": [
      "round : 548/1000 result lose, explore_rate 0.1\n"
     ]
    },
    {
     "name": "stderr",
     "output_type": "stream",
     "text": [
      " 55%|███████████████████████████████████████████████████████████████████████████▊                                                              | 549/1000 [06:19<04:12,  1.79it/s]"
     ]
    },
    {
     "name": "stdout",
     "output_type": "stream",
     "text": [
      "round : 549/1000 result lose, explore_rate 0.1\n"
     ]
    },
    {
     "name": "stderr",
     "output_type": "stream",
     "text": [
      " 55%|███████████████████████████████████████████████████████████████████████████▉                                                              | 550/1000 [06:20<03:53,  1.93it/s]"
     ]
    },
    {
     "name": "stdout",
     "output_type": "stream",
     "text": [
      "round : 550/1000 result lose, explore_rate 0.1\n"
     ]
    },
    {
     "name": "stderr",
     "output_type": "stream",
     "text": [
      " 55%|████████████████████████████████████████████████████████████████████████████                                                              | 551/1000 [06:21<05:03,  1.48it/s]"
     ]
    },
    {
     "name": "stdout",
     "output_type": "stream",
     "text": [
      "round : 551/1000 result lose, explore_rate 0.1\n"
     ]
    },
    {
     "name": "stderr",
     "output_type": "stream",
     "text": [
      " 55%|████████████████████████████████████████████████████████████████████████████▏                                                             | 552/1000 [06:22<05:19,  1.40it/s]"
     ]
    },
    {
     "name": "stdout",
     "output_type": "stream",
     "text": [
      "round : 552/1000 result lose, explore_rate 0.1\n"
     ]
    },
    {
     "name": "stderr",
     "output_type": "stream",
     "text": [
      " 55%|████████████████████████████████████████████████████████████████████████████▎                                                             | 553/1000 [06:22<05:25,  1.37it/s]"
     ]
    },
    {
     "name": "stdout",
     "output_type": "stream",
     "text": [
      "round : 553/1000 result lose, explore_rate 0.1\n"
     ]
    },
    {
     "name": "stderr",
     "output_type": "stream",
     "text": [
      " 55%|████████████████████████████████████████████████████████████████████████████▍                                                             | 554/1000 [06:23<05:09,  1.44it/s]"
     ]
    },
    {
     "name": "stdout",
     "output_type": "stream",
     "text": [
      "round : 554/1000 result lose, explore_rate 0.1\n"
     ]
    },
    {
     "name": "stderr",
     "output_type": "stream",
     "text": [
      " 56%|████████████████████████████████████████████████████████████████████████████▌                                                             | 555/1000 [06:24<05:13,  1.42it/s]"
     ]
    },
    {
     "name": "stdout",
     "output_type": "stream",
     "text": [
      "round : 555/1000 result lose, explore_rate 0.1\n"
     ]
    },
    {
     "name": "stderr",
     "output_type": "stream",
     "text": [
      " 56%|████████████████████████████████████████████████████████████████████████████▋                                                             | 556/1000 [06:25<05:23,  1.37it/s]"
     ]
    },
    {
     "name": "stdout",
     "output_type": "stream",
     "text": [
      "round : 556/1000 result lose, explore_rate 0.1\n"
     ]
    },
    {
     "name": "stderr",
     "output_type": "stream",
     "text": [
      " 56%|████████████████████████████████████████████████████████████████████████████▊                                                             | 557/1000 [06:25<05:23,  1.37it/s]"
     ]
    },
    {
     "name": "stdout",
     "output_type": "stream",
     "text": [
      "round : 557/1000 result lose, explore_rate 0.1\n"
     ]
    },
    {
     "name": "stderr",
     "output_type": "stream",
     "text": [
      " 56%|█████████████████████████████████████████████████████████████████████████████                                                             | 558/1000 [06:26<05:07,  1.44it/s]"
     ]
    },
    {
     "name": "stdout",
     "output_type": "stream",
     "text": [
      "round : 558/1000 result lose, explore_rate 0.1\n"
     ]
    },
    {
     "name": "stderr",
     "output_type": "stream",
     "text": [
      " 56%|█████████████████████████████████████████████████████████████████████████████▏                                                            | 559/1000 [06:26<04:45,  1.54it/s]"
     ]
    },
    {
     "name": "stdout",
     "output_type": "stream",
     "text": [
      "round : 559/1000 result lose, explore_rate 0.1\n"
     ]
    },
    {
     "name": "stderr",
     "output_type": "stream",
     "text": [
      " 56%|█████████████████████████████████████████████████████████████████████████████▎                                                            | 560/1000 [06:27<04:51,  1.51it/s]"
     ]
    },
    {
     "name": "stdout",
     "output_type": "stream",
     "text": [
      "round : 560/1000 result lose, explore_rate 0.1\n"
     ]
    },
    {
     "name": "stderr",
     "output_type": "stream",
     "text": [
      " 56%|█████████████████████████████████████████████████████████████████████████████▍                                                            | 561/1000 [06:28<04:31,  1.62it/s]"
     ]
    },
    {
     "name": "stdout",
     "output_type": "stream",
     "text": [
      "round : 561/1000 result lose, explore_rate 0.1\n"
     ]
    },
    {
     "name": "stderr",
     "output_type": "stream",
     "text": [
      " 56%|█████████████████████████████████████████████████████████████████████████████▌                                                            | 562/1000 [06:29<06:07,  1.19it/s]"
     ]
    },
    {
     "name": "stdout",
     "output_type": "stream",
     "text": [
      "round : 562/1000 result lose, explore_rate 0.1\n"
     ]
    },
    {
     "name": "stderr",
     "output_type": "stream",
     "text": [
      " 56%|█████████████████████████████████████████████████████████████████████████████▋                                                            | 563/1000 [06:30<05:41,  1.28it/s]"
     ]
    },
    {
     "name": "stdout",
     "output_type": "stream",
     "text": [
      "round : 563/1000 result lose, explore_rate 0.1\n"
     ]
    },
    {
     "name": "stderr",
     "output_type": "stream",
     "text": [
      " 56%|█████████████████████████████████████████████████████████████████████████████▊                                                            | 564/1000 [06:30<05:19,  1.37it/s]"
     ]
    },
    {
     "name": "stdout",
     "output_type": "stream",
     "text": [
      "round : 564/1000 result lose, explore_rate 0.1\n"
     ]
    },
    {
     "name": "stderr",
     "output_type": "stream",
     "text": [
      " 56%|█████████████████████████████████████████████████████████████████████████████▉                                                            | 565/1000 [06:31<05:14,  1.38it/s]"
     ]
    },
    {
     "name": "stdout",
     "output_type": "stream",
     "text": [
      "round : 565/1000 result lose, explore_rate 0.1\n"
     ]
    },
    {
     "name": "stderr",
     "output_type": "stream",
     "text": [
      " 57%|██████████████████████████████████████████████████████████████████████████████                                                            | 566/1000 [06:32<05:43,  1.27it/s]"
     ]
    },
    {
     "name": "stdout",
     "output_type": "stream",
     "text": [
      "round : 566/1000 result lose, explore_rate 0.1\n"
     ]
    },
    {
     "name": "stderr",
     "output_type": "stream",
     "text": [
      " 57%|██████████████████████████████████████████████████████████████████████████████▏                                                           | 567/1000 [06:33<05:15,  1.37it/s]"
     ]
    },
    {
     "name": "stdout",
     "output_type": "stream",
     "text": [
      "round : 567/1000 result lose, explore_rate 0.1\n"
     ]
    },
    {
     "name": "stderr",
     "output_type": "stream",
     "text": [
      " 57%|██████████████████████████████████████████████████████████████████████████████▍                                                           | 568/1000 [06:33<05:12,  1.38it/s]"
     ]
    },
    {
     "name": "stdout",
     "output_type": "stream",
     "text": [
      "round : 568/1000 result lose, explore_rate 0.1\n"
     ]
    },
    {
     "name": "stderr",
     "output_type": "stream",
     "text": [
      " 57%|██████████████████████████████████████████████████████████████████████████████▌                                                           | 569/1000 [06:34<04:55,  1.46it/s]"
     ]
    },
    {
     "name": "stdout",
     "output_type": "stream",
     "text": [
      "round : 569/1000 result lose, explore_rate 0.1\n"
     ]
    },
    {
     "name": "stderr",
     "output_type": "stream",
     "text": [
      " 57%|██████████████████████████████████████████████████████████████████████████████▋                                                           | 570/1000 [06:34<04:26,  1.61it/s]"
     ]
    },
    {
     "name": "stdout",
     "output_type": "stream",
     "text": [
      "round : 570/1000 result lose, explore_rate 0.1\n"
     ]
    },
    {
     "name": "stderr",
     "output_type": "stream",
     "text": [
      " 57%|██████████████████████████████████████████████████████████████████████████████▊                                                           | 571/1000 [06:35<04:39,  1.53it/s]"
     ]
    },
    {
     "name": "stdout",
     "output_type": "stream",
     "text": [
      "round : 571/1000 result lose, explore_rate 0.1\n"
     ]
    },
    {
     "name": "stderr",
     "output_type": "stream",
     "text": [
      " 57%|██████████████████████████████████████████████████████████████████████████████▉                                                           | 572/1000 [06:36<04:36,  1.55it/s]"
     ]
    },
    {
     "name": "stdout",
     "output_type": "stream",
     "text": [
      "round : 572/1000 result lose, explore_rate 0.1\n"
     ]
    },
    {
     "name": "stderr",
     "output_type": "stream",
     "text": [
      " 57%|███████████████████████████████████████████████████████████████████████████████                                                           | 573/1000 [06:36<04:31,  1.57it/s]"
     ]
    },
    {
     "name": "stdout",
     "output_type": "stream",
     "text": [
      "round : 573/1000 result lose, explore_rate 0.1\n"
     ]
    },
    {
     "name": "stderr",
     "output_type": "stream",
     "text": [
      " 57%|███████████████████████████████████████████████████████████████████████████████▏                                                          | 574/1000 [06:37<05:36,  1.27it/s]"
     ]
    },
    {
     "name": "stdout",
     "output_type": "stream",
     "text": [
      "round : 574/1000 result lose, explore_rate 0.1\n"
     ]
    },
    {
     "name": "stderr",
     "output_type": "stream",
     "text": [
      " 57%|███████████████████████████████████████████████████████████████████████████████▎                                                          | 575/1000 [06:38<05:12,  1.36it/s]"
     ]
    },
    {
     "name": "stdout",
     "output_type": "stream",
     "text": [
      "round : 575/1000 result lose, explore_rate 0.1\n"
     ]
    },
    {
     "name": "stderr",
     "output_type": "stream",
     "text": [
      " 58%|███████████████████████████████████████████████████████████████████████████████▍                                                          | 576/1000 [06:39<05:09,  1.37it/s]"
     ]
    },
    {
     "name": "stdout",
     "output_type": "stream",
     "text": [
      "round : 576/1000 result lose, explore_rate 0.1\n"
     ]
    },
    {
     "name": "stderr",
     "output_type": "stream",
     "text": [
      " 58%|███████████████████████████████████████████████████████████████████████████████▋                                                          | 577/1000 [06:39<05:01,  1.40it/s]"
     ]
    },
    {
     "name": "stdout",
     "output_type": "stream",
     "text": [
      "round : 577/1000 result lose, explore_rate 0.1\n"
     ]
    },
    {
     "name": "stderr",
     "output_type": "stream",
     "text": [
      " 58%|███████████████████████████████████████████████████████████████████████████████▊                                                          | 578/1000 [06:40<05:14,  1.34it/s]"
     ]
    },
    {
     "name": "stdout",
     "output_type": "stream",
     "text": [
      "round : 578/1000 result lose, explore_rate 0.1\n"
     ]
    },
    {
     "name": "stderr",
     "output_type": "stream",
     "text": [
      " 58%|███████████████████████████████████████████████████████████████████████████████▉                                                          | 579/1000 [06:41<05:14,  1.34it/s]"
     ]
    },
    {
     "name": "stdout",
     "output_type": "stream",
     "text": [
      "round : 579/1000 result lose, explore_rate 0.1\n"
     ]
    },
    {
     "name": "stderr",
     "output_type": "stream",
     "text": [
      " 58%|████████████████████████████████████████████████████████████████████████████████                                                          | 580/1000 [06:42<04:56,  1.42it/s]"
     ]
    },
    {
     "name": "stdout",
     "output_type": "stream",
     "text": [
      "round : 580/1000 result lose, explore_rate 0.1\n"
     ]
    },
    {
     "name": "stderr",
     "output_type": "stream",
     "text": [
      " 58%|████████████████████████████████████████████████████████████████████████████████▏                                                         | 581/1000 [06:42<04:40,  1.49it/s]"
     ]
    },
    {
     "name": "stdout",
     "output_type": "stream",
     "text": [
      "round : 581/1000 result lose, explore_rate 0.1\n"
     ]
    },
    {
     "name": "stderr",
     "output_type": "stream",
     "text": [
      " 58%|████████████████████████████████████████████████████████████████████████████████▎                                                         | 582/1000 [06:43<04:47,  1.45it/s]"
     ]
    },
    {
     "name": "stdout",
     "output_type": "stream",
     "text": [
      "round : 582/1000 result lose, explore_rate 0.1\n"
     ]
    },
    {
     "name": "stderr",
     "output_type": "stream",
     "text": [
      " 58%|████████████████████████████████████████████████████████████████████████████████▍                                                         | 583/1000 [06:44<04:52,  1.42it/s]"
     ]
    },
    {
     "name": "stdout",
     "output_type": "stream",
     "text": [
      "round : 583/1000 result lose, explore_rate 0.1\n"
     ]
    },
    {
     "name": "stderr",
     "output_type": "stream",
     "text": [
      " 58%|████████████████████████████████████████████████████████████████████████████████▌                                                         | 584/1000 [06:44<05:08,  1.35it/s]"
     ]
    },
    {
     "name": "stdout",
     "output_type": "stream",
     "text": [
      "round : 584/1000 result lose, explore_rate 0.1\n"
     ]
    },
    {
     "name": "stderr",
     "output_type": "stream",
     "text": [
      " 58%|████████████████████████████████████████████████████████████████████████████████▋                                                         | 585/1000 [06:45<05:19,  1.30it/s]"
     ]
    },
    {
     "name": "stdout",
     "output_type": "stream",
     "text": [
      "round : 585/1000 result lose, explore_rate 0.1\n"
     ]
    },
    {
     "name": "stderr",
     "output_type": "stream",
     "text": [
      " 59%|████████████████████████████████████████████████████████████████████████████████▊                                                         | 586/1000 [06:46<05:49,  1.19it/s]"
     ]
    },
    {
     "name": "stdout",
     "output_type": "stream",
     "text": [
      "round : 586/1000 result lose, explore_rate 0.1\n"
     ]
    },
    {
     "name": "stderr",
     "output_type": "stream",
     "text": [
      " 59%|█████████████████████████████████████████████████████████████████████████████████                                                         | 587/1000 [06:47<05:15,  1.31it/s]"
     ]
    },
    {
     "name": "stdout",
     "output_type": "stream",
     "text": [
      "round : 587/1000 result lose, explore_rate 0.1\n"
     ]
    },
    {
     "name": "stderr",
     "output_type": "stream",
     "text": [
      " 59%|█████████████████████████████████████████████████████████████████████████████████▏                                                        | 588/1000 [06:48<05:12,  1.32it/s]"
     ]
    },
    {
     "name": "stdout",
     "output_type": "stream",
     "text": [
      "round : 588/1000 result lose, explore_rate 0.1\n"
     ]
    },
    {
     "name": "stderr",
     "output_type": "stream",
     "text": [
      " 59%|█████████████████████████████████████████████████████████████████████████████████▎                                                        | 589/1000 [06:48<04:55,  1.39it/s]"
     ]
    },
    {
     "name": "stdout",
     "output_type": "stream",
     "text": [
      "round : 589/1000 result lose, explore_rate 0.1\n"
     ]
    },
    {
     "name": "stderr",
     "output_type": "stream",
     "text": [
      " 59%|█████████████████████████████████████████████████████████████████████████████████▍                                                        | 590/1000 [06:49<04:43,  1.45it/s]"
     ]
    },
    {
     "name": "stdout",
     "output_type": "stream",
     "text": [
      "round : 590/1000 result lose, explore_rate 0.1\n"
     ]
    },
    {
     "name": "stderr",
     "output_type": "stream",
     "text": [
      " 59%|█████████████████████████████████████████████████████████████████████████████████▌                                                        | 591/1000 [06:49<04:21,  1.56it/s]"
     ]
    },
    {
     "name": "stdout",
     "output_type": "stream",
     "text": [
      "round : 591/1000 result lose, explore_rate 0.1\n"
     ]
    },
    {
     "name": "stderr",
     "output_type": "stream",
     "text": [
      " 59%|█████████████████████████████████████████████████████████████████████████████████▋                                                        | 592/1000 [06:50<04:20,  1.57it/s]"
     ]
    },
    {
     "name": "stdout",
     "output_type": "stream",
     "text": [
      "round : 592/1000 result lose, explore_rate 0.1\n"
     ]
    },
    {
     "name": "stderr",
     "output_type": "stream",
     "text": [
      " 59%|█████████████████████████████████████████████████████████████████████████████████▊                                                        | 593/1000 [06:51<04:10,  1.63it/s]"
     ]
    },
    {
     "name": "stdout",
     "output_type": "stream",
     "text": [
      "round : 593/1000 result lose, explore_rate 0.1\n"
     ]
    },
    {
     "name": "stderr",
     "output_type": "stream",
     "text": [
      " 59%|█████████████████████████████████████████████████████████████████████████████████▉                                                        | 594/1000 [06:51<04:15,  1.59it/s]"
     ]
    },
    {
     "name": "stdout",
     "output_type": "stream",
     "text": [
      "round : 594/1000 result lose, explore_rate 0.1\n"
     ]
    },
    {
     "name": "stderr",
     "output_type": "stream",
     "text": [
      " 60%|██████████████████████████████████████████████████████████████████████████████████                                                        | 595/1000 [06:52<04:23,  1.53it/s]"
     ]
    },
    {
     "name": "stdout",
     "output_type": "stream",
     "text": [
      "round : 595/1000 result lose, explore_rate 0.1\n"
     ]
    },
    {
     "name": "stderr",
     "output_type": "stream",
     "text": [
      " 60%|██████████████████████████████████████████████████████████████████████████████████▏                                                       | 596/1000 [06:53<04:25,  1.52it/s]"
     ]
    },
    {
     "name": "stdout",
     "output_type": "stream",
     "text": [
      "round : 596/1000 result lose, explore_rate 0.1\n"
     ]
    },
    {
     "name": "stderr",
     "output_type": "stream",
     "text": [
      " 60%|██████████████████████████████████████████████████████████████████████████████████▍                                                       | 597/1000 [06:53<04:30,  1.49it/s]"
     ]
    },
    {
     "name": "stdout",
     "output_type": "stream",
     "text": [
      "round : 597/1000 result lose, explore_rate 0.1\n"
     ]
    },
    {
     "name": "stderr",
     "output_type": "stream",
     "text": [
      " 60%|██████████████████████████████████████████████████████████████████████████████████▌                                                       | 598/1000 [06:54<04:24,  1.52it/s]"
     ]
    },
    {
     "name": "stdout",
     "output_type": "stream",
     "text": [
      "round : 598/1000 result lose, explore_rate 0.1\n"
     ]
    },
    {
     "name": "stderr",
     "output_type": "stream",
     "text": [
      " 60%|██████████████████████████████████████████████████████████████████████████████████▋                                                       | 599/1000 [06:55<04:25,  1.51it/s]"
     ]
    },
    {
     "name": "stdout",
     "output_type": "stream",
     "text": [
      "round : 599/1000 result lose, explore_rate 0.1\n"
     ]
    },
    {
     "name": "stderr",
     "output_type": "stream",
     "text": [
      " 60%|██████████████████████████████████████████████████████████████████████████████████▊                                                       | 600/1000 [06:55<04:04,  1.63it/s]"
     ]
    },
    {
     "name": "stdout",
     "output_type": "stream",
     "text": [
      "round : 600/1000 result lose, explore_rate 0.1\n"
     ]
    },
    {
     "name": "stderr",
     "output_type": "stream",
     "text": [
      " 60%|██████████████████████████████████████████████████████████████████████████████████▉                                                       | 601/1000 [06:56<04:43,  1.41it/s]"
     ]
    },
    {
     "name": "stdout",
     "output_type": "stream",
     "text": [
      "round : 601/1000 result lose, explore_rate 0.1\n"
     ]
    },
    {
     "name": "stderr",
     "output_type": "stream",
     "text": [
      " 60%|███████████████████████████████████████████████████████████████████████████████████                                                       | 602/1000 [06:57<04:36,  1.44it/s]"
     ]
    },
    {
     "name": "stdout",
     "output_type": "stream",
     "text": [
      "round : 602/1000 result lose, explore_rate 0.1\n"
     ]
    },
    {
     "name": "stderr",
     "output_type": "stream",
     "text": [
      " 60%|███████████████████████████████████████████████████████████████████████████████████▏                                                      | 603/1000 [06:57<04:32,  1.45it/s]"
     ]
    },
    {
     "name": "stdout",
     "output_type": "stream",
     "text": [
      "round : 603/1000 result lose, explore_rate 0.1\n"
     ]
    },
    {
     "name": "stderr",
     "output_type": "stream",
     "text": [
      " 60%|███████████████████████████████████████████████████████████████████████████████████▎                                                      | 604/1000 [06:58<04:33,  1.45it/s]"
     ]
    },
    {
     "name": "stdout",
     "output_type": "stream",
     "text": [
      "round : 604/1000 result lose, explore_rate 0.1\n"
     ]
    },
    {
     "name": "stderr",
     "output_type": "stream",
     "text": [
      " 60%|███████████████████████████████████████████████████████████████████████████████████▍                                                      | 605/1000 [06:59<04:51,  1.36it/s]"
     ]
    },
    {
     "name": "stdout",
     "output_type": "stream",
     "text": [
      "round : 605/1000 result lose, explore_rate 0.1\n"
     ]
    },
    {
     "name": "stderr",
     "output_type": "stream",
     "text": [
      " 61%|███████████████████████████████████████████████████████████████████████████████████▋                                                      | 606/1000 [06:59<04:21,  1.50it/s]"
     ]
    },
    {
     "name": "stdout",
     "output_type": "stream",
     "text": [
      "round : 606/1000 result lose, explore_rate 0.1\n"
     ]
    },
    {
     "name": "stderr",
     "output_type": "stream",
     "text": [
      " 61%|███████████████████████████████████████████████████████████████████████████████████▊                                                      | 607/1000 [07:00<04:12,  1.56it/s]"
     ]
    },
    {
     "name": "stdout",
     "output_type": "stream",
     "text": [
      "round : 607/1000 result lose, explore_rate 0.1\n"
     ]
    },
    {
     "name": "stderr",
     "output_type": "stream",
     "text": [
      " 61%|███████████████████████████████████████████████████████████████████████████████████▉                                                      | 608/1000 [07:01<04:06,  1.59it/s]"
     ]
    },
    {
     "name": "stdout",
     "output_type": "stream",
     "text": [
      "round : 608/1000 result lose, explore_rate 0.1\n"
     ]
    },
    {
     "name": "stderr",
     "output_type": "stream",
     "text": [
      " 61%|████████████████████████████████████████████████████████████████████████████████████                                                      | 609/1000 [07:01<03:54,  1.67it/s]"
     ]
    },
    {
     "name": "stdout",
     "output_type": "stream",
     "text": [
      "round : 609/1000 result lose, explore_rate 0.1\n"
     ]
    },
    {
     "name": "stderr",
     "output_type": "stream",
     "text": [
      " 61%|████████████████████████████████████████████████████████████████████████████████████▏                                                     | 610/1000 [07:02<04:13,  1.54it/s]"
     ]
    },
    {
     "name": "stdout",
     "output_type": "stream",
     "text": [
      "round : 610/1000 result lose, explore_rate 0.1\n"
     ]
    },
    {
     "name": "stderr",
     "output_type": "stream",
     "text": [
      " 61%|████████████████████████████████████████████████████████████████████████████████████▎                                                     | 611/1000 [07:03<04:45,  1.36it/s]"
     ]
    },
    {
     "name": "stdout",
     "output_type": "stream",
     "text": [
      "round : 611/1000 result lose, explore_rate 0.1\n"
     ]
    },
    {
     "name": "stderr",
     "output_type": "stream",
     "text": [
      " 61%|████████████████████████████████████████████████████████████████████████████████████▍                                                     | 612/1000 [07:03<04:22,  1.48it/s]"
     ]
    },
    {
     "name": "stdout",
     "output_type": "stream",
     "text": [
      "round : 612/1000 result lose, explore_rate 0.1\n"
     ]
    },
    {
     "name": "stderr",
     "output_type": "stream",
     "text": [
      " 61%|████████████████████████████████████████████████████████████████████████████████████▌                                                     | 613/1000 [07:04<03:57,  1.63it/s]"
     ]
    },
    {
     "name": "stdout",
     "output_type": "stream",
     "text": [
      "round : 613/1000 result lose, explore_rate 0.1\n"
     ]
    },
    {
     "name": "stderr",
     "output_type": "stream",
     "text": [
      " 61%|████████████████████████████████████████████████████████████████████████████████████▋                                                     | 614/1000 [07:05<04:24,  1.46it/s]"
     ]
    },
    {
     "name": "stdout",
     "output_type": "stream",
     "text": [
      "round : 614/1000 result lose, explore_rate 0.1\n"
     ]
    },
    {
     "name": "stderr",
     "output_type": "stream",
     "text": [
      " 62%|████████████████████████████████████████████████████████████████████████████████████▊                                                     | 615/1000 [07:05<04:27,  1.44it/s]"
     ]
    },
    {
     "name": "stdout",
     "output_type": "stream",
     "text": [
      "round : 615/1000 result lose, explore_rate 0.1\n"
     ]
    },
    {
     "name": "stderr",
     "output_type": "stream",
     "text": [
      " 62%|█████████████████████████████████████████████████████████████████████████████████████                                                     | 616/1000 [07:06<04:02,  1.58it/s]"
     ]
    },
    {
     "name": "stdout",
     "output_type": "stream",
     "text": [
      "round : 616/1000 result lose, explore_rate 0.1\n"
     ]
    },
    {
     "name": "stderr",
     "output_type": "stream",
     "text": [
      " 62%|█████████████████████████████████████████████████████████████████████████████████████▏                                                    | 617/1000 [07:07<04:47,  1.33it/s]"
     ]
    },
    {
     "name": "stdout",
     "output_type": "stream",
     "text": [
      "round : 617/1000 result lose, explore_rate 0.1\n"
     ]
    },
    {
     "name": "stderr",
     "output_type": "stream",
     "text": [
      " 62%|█████████████████████████████████████████████████████████████████████████████████████▎                                                    | 618/1000 [07:08<04:24,  1.44it/s]"
     ]
    },
    {
     "name": "stdout",
     "output_type": "stream",
     "text": [
      "round : 618/1000 result lose, explore_rate 0.1\n"
     ]
    },
    {
     "name": "stderr",
     "output_type": "stream",
     "text": [
      " 62%|█████████████████████████████████████████████████████████████████████████████████████▍                                                    | 619/1000 [07:08<04:44,  1.34it/s]"
     ]
    },
    {
     "name": "stdout",
     "output_type": "stream",
     "text": [
      "round : 619/1000 result lose, explore_rate 0.1\n"
     ]
    },
    {
     "name": "stderr",
     "output_type": "stream",
     "text": [
      " 62%|█████████████████████████████████████████████████████████████████████████████████████▌                                                    | 620/1000 [07:09<04:34,  1.38it/s]"
     ]
    },
    {
     "name": "stdout",
     "output_type": "stream",
     "text": [
      "round : 620/1000 result lose, explore_rate 0.1\n"
     ]
    },
    {
     "name": "stderr",
     "output_type": "stream",
     "text": [
      " 62%|█████████████████████████████████████████████████████████████████████████████████████▋                                                    | 621/1000 [07:10<05:20,  1.18it/s]"
     ]
    },
    {
     "name": "stdout",
     "output_type": "stream",
     "text": [
      "round : 621/1000 result lose, explore_rate 0.1\n"
     ]
    },
    {
     "name": "stderr",
     "output_type": "stream",
     "text": [
      " 62%|█████████████████████████████████████████████████████████████████████████████████████▊                                                    | 622/1000 [07:11<04:43,  1.33it/s]"
     ]
    },
    {
     "name": "stdout",
     "output_type": "stream",
     "text": [
      "round : 622/1000 result lose, explore_rate 0.1\n"
     ]
    },
    {
     "name": "stderr",
     "output_type": "stream",
     "text": [
      " 62%|█████████████████████████████████████████████████████████████████████████████████████▉                                                    | 623/1000 [07:11<04:21,  1.44it/s]"
     ]
    },
    {
     "name": "stdout",
     "output_type": "stream",
     "text": [
      "round : 623/1000 result lose, explore_rate 0.1\n"
     ]
    },
    {
     "name": "stderr",
     "output_type": "stream",
     "text": [
      " 62%|██████████████████████████████████████████████████████████████████████████████████████                                                    | 624/1000 [07:12<04:14,  1.48it/s]"
     ]
    },
    {
     "name": "stdout",
     "output_type": "stream",
     "text": [
      "round : 624/1000 result lose, explore_rate 0.1\n"
     ]
    },
    {
     "name": "stderr",
     "output_type": "stream",
     "text": [
      " 62%|██████████████████████████████████████████████████████████████████████████████████████▎                                                   | 625/1000 [07:13<04:22,  1.43it/s]"
     ]
    },
    {
     "name": "stdout",
     "output_type": "stream",
     "text": [
      "round : 625/1000 result lose, explore_rate 0.1\n"
     ]
    },
    {
     "name": "stderr",
     "output_type": "stream",
     "text": [
      " 63%|██████████████████████████████████████████████████████████████████████████████████████▍                                                   | 626/1000 [07:13<04:26,  1.40it/s]"
     ]
    },
    {
     "name": "stdout",
     "output_type": "stream",
     "text": [
      "round : 626/1000 result lose, explore_rate 0.1\n"
     ]
    },
    {
     "name": "stderr",
     "output_type": "stream",
     "text": [
      " 63%|██████████████████████████████████████████████████████████████████████████████████████▌                                                   | 627/1000 [07:14<04:51,  1.28it/s]"
     ]
    },
    {
     "name": "stdout",
     "output_type": "stream",
     "text": [
      "round : 627/1000 result lose, explore_rate 0.1\n"
     ]
    },
    {
     "name": "stderr",
     "output_type": "stream",
     "text": [
      " 63%|██████████████████████████████████████████████████████████████████████████████████████▋                                                   | 628/1000 [07:15<04:40,  1.33it/s]"
     ]
    },
    {
     "name": "stdout",
     "output_type": "stream",
     "text": [
      "round : 628/1000 result lose, explore_rate 0.1\n"
     ]
    },
    {
     "name": "stderr",
     "output_type": "stream",
     "text": [
      " 63%|██████████████████████████████████████████████████████████████████████████████████████▊                                                   | 629/1000 [07:16<04:26,  1.39it/s]"
     ]
    },
    {
     "name": "stdout",
     "output_type": "stream",
     "text": [
      "round : 629/1000 result lose, explore_rate 0.1\n"
     ]
    },
    {
     "name": "stderr",
     "output_type": "stream",
     "text": [
      " 63%|██████████████████████████████████████████████████████████████████████████████████████▉                                                   | 630/1000 [07:16<04:12,  1.46it/s]"
     ]
    },
    {
     "name": "stdout",
     "output_type": "stream",
     "text": [
      "round : 630/1000 result lose, explore_rate 0.1\n"
     ]
    },
    {
     "name": "stderr",
     "output_type": "stream",
     "text": [
      " 63%|███████████████████████████████████████████████████████████████████████████████████████                                                   | 631/1000 [07:17<04:06,  1.50it/s]"
     ]
    },
    {
     "name": "stdout",
     "output_type": "stream",
     "text": [
      "round : 631/1000 result lose, explore_rate 0.1\n"
     ]
    },
    {
     "name": "stderr",
     "output_type": "stream",
     "text": [
      " 63%|███████████████████████████████████████████████████████████████████████████████████████▏                                                  | 632/1000 [07:18<04:03,  1.51it/s]"
     ]
    },
    {
     "name": "stdout",
     "output_type": "stream",
     "text": [
      "round : 632/1000 result lose, explore_rate 0.1\n"
     ]
    },
    {
     "name": "stderr",
     "output_type": "stream",
     "text": [
      " 63%|███████████████████████████████████████████████████████████████████████████████████████▎                                                  | 633/1000 [07:18<03:43,  1.64it/s]"
     ]
    },
    {
     "name": "stdout",
     "output_type": "stream",
     "text": [
      "round : 633/1000 result lose, explore_rate 0.1\n"
     ]
    },
    {
     "name": "stderr",
     "output_type": "stream",
     "text": [
      " 63%|███████████████████████████████████████████████████████████████████████████████████████▍                                                  | 634/1000 [07:19<03:31,  1.73it/s]"
     ]
    },
    {
     "name": "stdout",
     "output_type": "stream",
     "text": [
      "round : 634/1000 result lose, explore_rate 0.1\n"
     ]
    },
    {
     "name": "stderr",
     "output_type": "stream",
     "text": [
      " 64%|███████████████████████████████████████████████████████████████████████████████████████▋                                                  | 635/1000 [07:19<03:39,  1.67it/s]"
     ]
    },
    {
     "name": "stdout",
     "output_type": "stream",
     "text": [
      "round : 635/1000 result lose, explore_rate 0.1\n"
     ]
    },
    {
     "name": "stderr",
     "output_type": "stream",
     "text": [
      " 64%|███████████████████████████████████████████████████████████████████████████████████████▊                                                  | 636/1000 [07:20<03:30,  1.73it/s]"
     ]
    },
    {
     "name": "stdout",
     "output_type": "stream",
     "text": [
      "round : 636/1000 result lose, explore_rate 0.1\n"
     ]
    },
    {
     "name": "stderr",
     "output_type": "stream",
     "text": [
      " 64%|███████████████████████████████████████████████████████████████████████████████████████▉                                                  | 637/1000 [07:21<03:59,  1.51it/s]"
     ]
    },
    {
     "name": "stdout",
     "output_type": "stream",
     "text": [
      "round : 637/1000 result lose, explore_rate 0.1\n"
     ]
    },
    {
     "name": "stderr",
     "output_type": "stream",
     "text": [
      " 64%|████████████████████████████████████████████████████████████████████████████████████████                                                  | 638/1000 [07:21<03:46,  1.60it/s]"
     ]
    },
    {
     "name": "stdout",
     "output_type": "stream",
     "text": [
      "round : 638/1000 result lose, explore_rate 0.1\n"
     ]
    },
    {
     "name": "stderr",
     "output_type": "stream",
     "text": [
      " 64%|████████████████████████████████████████████████████████████████████████████████████████▏                                                 | 639/1000 [07:22<03:30,  1.72it/s]"
     ]
    },
    {
     "name": "stdout",
     "output_type": "stream",
     "text": [
      "round : 639/1000 result lose, explore_rate 0.1\n"
     ]
    },
    {
     "name": "stderr",
     "output_type": "stream",
     "text": [
      " 64%|████████████████████████████████████████████████████████████████████████████████████████▎                                                 | 640/1000 [07:22<03:44,  1.60it/s]"
     ]
    },
    {
     "name": "stdout",
     "output_type": "stream",
     "text": [
      "round : 640/1000 result lose, explore_rate 0.1\n"
     ]
    },
    {
     "name": "stderr",
     "output_type": "stream",
     "text": [
      " 64%|████████████████████████████████████████████████████████████████████████████████████████▍                                                 | 641/1000 [07:23<03:28,  1.72it/s]"
     ]
    },
    {
     "name": "stdout",
     "output_type": "stream",
     "text": [
      "round : 641/1000 result lose, explore_rate 0.1\n"
     ]
    },
    {
     "name": "stderr",
     "output_type": "stream",
     "text": [
      " 64%|████████████████████████████████████████████████████████████████████████████████████████▌                                                 | 642/1000 [07:23<03:38,  1.64it/s]"
     ]
    },
    {
     "name": "stdout",
     "output_type": "stream",
     "text": [
      "round : 642/1000 result lose, explore_rate 0.1\n"
     ]
    },
    {
     "name": "stderr",
     "output_type": "stream",
     "text": [
      " 64%|████████████████████████████████████████████████████████████████████████████████████████▋                                                 | 643/1000 [07:25<04:44,  1.25it/s]"
     ]
    },
    {
     "name": "stdout",
     "output_type": "stream",
     "text": [
      "round : 643/1000 result lose, explore_rate 0.1\n"
     ]
    },
    {
     "name": "stderr",
     "output_type": "stream",
     "text": [
      " 64%|████████████████████████████████████████████████████████████████████████████████████████▊                                                 | 644/1000 [07:26<05:43,  1.04it/s]"
     ]
    },
    {
     "name": "stdout",
     "output_type": "stream",
     "text": [
      "round : 644/1000 result lose, explore_rate 0.1\n"
     ]
    },
    {
     "name": "stderr",
     "output_type": "stream",
     "text": [
      " 64%|█████████████████████████████████████████████████████████████████████████████████████████                                                 | 645/1000 [07:27<05:32,  1.07it/s]"
     ]
    },
    {
     "name": "stdout",
     "output_type": "stream",
     "text": [
      "round : 645/1000 result lose, explore_rate 0.1\n"
     ]
    },
    {
     "name": "stderr",
     "output_type": "stream",
     "text": [
      " 65%|█████████████████████████████████████████████████████████████████████████████████████████▏                                                | 646/1000 [07:28<05:03,  1.17it/s]"
     ]
    },
    {
     "name": "stdout",
     "output_type": "stream",
     "text": [
      "round : 646/1000 result lose, explore_rate 0.1\n"
     ]
    },
    {
     "name": "stderr",
     "output_type": "stream",
     "text": [
      " 65%|█████████████████████████████████████████████████████████████████████████████████████████▎                                                | 647/1000 [07:28<04:35,  1.28it/s]"
     ]
    },
    {
     "name": "stdout",
     "output_type": "stream",
     "text": [
      "round : 647/1000 result lose, explore_rate 0.1\n"
     ]
    },
    {
     "name": "stderr",
     "output_type": "stream",
     "text": [
      " 65%|█████████████████████████████████████████████████████████████████████████████████████████▍                                                | 648/1000 [07:29<04:07,  1.42it/s]"
     ]
    },
    {
     "name": "stdout",
     "output_type": "stream",
     "text": [
      "round : 648/1000 result lose, explore_rate 0.1\n"
     ]
    },
    {
     "name": "stderr",
     "output_type": "stream",
     "text": [
      " 65%|█████████████████████████████████████████████████████████████████████████████████████████▌                                                | 649/1000 [07:29<04:05,  1.43it/s]"
     ]
    },
    {
     "name": "stdout",
     "output_type": "stream",
     "text": [
      "round : 649/1000 result lose, explore_rate 0.1\n"
     ]
    },
    {
     "name": "stderr",
     "output_type": "stream",
     "text": [
      " 65%|█████████████████████████████████████████████████████████████████████████████████████████▋                                                | 650/1000 [07:30<04:15,  1.37it/s]"
     ]
    },
    {
     "name": "stdout",
     "output_type": "stream",
     "text": [
      "round : 650/1000 result lose, explore_rate 0.1\n"
     ]
    },
    {
     "name": "stderr",
     "output_type": "stream",
     "text": [
      " 65%|█████████████████████████████████████████████████████████████████████████████████████████▊                                                | 651/1000 [07:31<03:53,  1.49it/s]"
     ]
    },
    {
     "name": "stdout",
     "output_type": "stream",
     "text": [
      "round : 651/1000 result lose, explore_rate 0.1\n"
     ]
    },
    {
     "name": "stderr",
     "output_type": "stream",
     "text": [
      " 65%|█████████████████████████████████████████████████████████████████████████████████████████▉                                                | 652/1000 [07:31<03:38,  1.59it/s]"
     ]
    },
    {
     "name": "stdout",
     "output_type": "stream",
     "text": [
      "round : 652/1000 result lose, explore_rate 0.1\n"
     ]
    },
    {
     "name": "stderr",
     "output_type": "stream",
     "text": [
      " 65%|██████████████████████████████████████████████████████████████████████████████████████████                                                | 653/1000 [07:32<03:58,  1.45it/s]"
     ]
    },
    {
     "name": "stdout",
     "output_type": "stream",
     "text": [
      "round : 653/1000 result lose, explore_rate 0.1\n"
     ]
    },
    {
     "name": "stderr",
     "output_type": "stream",
     "text": [
      " 65%|██████████████████████████████████████████████████████████████████████████████████████████▎                                               | 654/1000 [07:33<03:45,  1.54it/s]"
     ]
    },
    {
     "name": "stdout",
     "output_type": "stream",
     "text": [
      "round : 654/1000 result lose, explore_rate 0.1\n"
     ]
    },
    {
     "name": "stderr",
     "output_type": "stream",
     "text": [
      " 66%|██████████████████████████████████████████████████████████████████████████████████████████▍                                               | 655/1000 [07:33<03:55,  1.47it/s]"
     ]
    },
    {
     "name": "stdout",
     "output_type": "stream",
     "text": [
      "round : 655/1000 result lose, explore_rate 0.1\n"
     ]
    },
    {
     "name": "stderr",
     "output_type": "stream",
     "text": [
      " 66%|██████████████████████████████████████████████████████████████████████████████████████████▌                                               | 656/1000 [07:34<04:13,  1.36it/s]"
     ]
    },
    {
     "name": "stdout",
     "output_type": "stream",
     "text": [
      "round : 656/1000 result lose, explore_rate 0.1\n"
     ]
    },
    {
     "name": "stderr",
     "output_type": "stream",
     "text": [
      " 66%|██████████████████████████████████████████████████████████████████████████████████████████▋                                               | 657/1000 [07:35<04:14,  1.35it/s]"
     ]
    },
    {
     "name": "stdout",
     "output_type": "stream",
     "text": [
      "round : 657/1000 result lose, explore_rate 0.1\n"
     ]
    },
    {
     "name": "stderr",
     "output_type": "stream",
     "text": [
      " 66%|██████████████████████████████████████████████████████████████████████████████████████████▊                                               | 658/1000 [07:36<04:28,  1.28it/s]"
     ]
    },
    {
     "name": "stdout",
     "output_type": "stream",
     "text": [
      "round : 658/1000 result lose, explore_rate 0.1\n"
     ]
    },
    {
     "name": "stderr",
     "output_type": "stream",
     "text": [
      " 66%|██████████████████████████████████████████████████████████████████████████████████████████▉                                               | 659/1000 [07:37<04:24,  1.29it/s]"
     ]
    },
    {
     "name": "stdout",
     "output_type": "stream",
     "text": [
      "round : 659/1000 result lose, explore_rate 0.1\n"
     ]
    },
    {
     "name": "stderr",
     "output_type": "stream",
     "text": [
      " 66%|███████████████████████████████████████████████████████████████████████████████████████████                                               | 660/1000 [07:37<03:54,  1.45it/s]"
     ]
    },
    {
     "name": "stdout",
     "output_type": "stream",
     "text": [
      "round : 660/1000 result lose, explore_rate 0.1\n"
     ]
    },
    {
     "name": "stderr",
     "output_type": "stream",
     "text": [
      " 66%|███████████████████████████████████████████████████████████████████████████████████████████▏                                              | 661/1000 [07:38<04:26,  1.27it/s]"
     ]
    },
    {
     "name": "stdout",
     "output_type": "stream",
     "text": [
      "round : 661/1000 result lose, explore_rate 0.1\n"
     ]
    },
    {
     "name": "stderr",
     "output_type": "stream",
     "text": [
      " 66%|███████████████████████████████████████████████████████████████████████████████████████████▎                                              | 662/1000 [07:39<03:58,  1.42it/s]"
     ]
    },
    {
     "name": "stdout",
     "output_type": "stream",
     "text": [
      "round : 662/1000 result lose, explore_rate 0.1\n"
     ]
    },
    {
     "name": "stderr",
     "output_type": "stream",
     "text": [
      " 66%|███████████████████████████████████████████████████████████████████████████████████████████▍                                              | 663/1000 [07:40<04:07,  1.36it/s]"
     ]
    },
    {
     "name": "stdout",
     "output_type": "stream",
     "text": [
      "round : 663/1000 result lose, explore_rate 0.1\n"
     ]
    },
    {
     "name": "stderr",
     "output_type": "stream",
     "text": [
      " 66%|███████████████████████████████████████████████████████████████████████████████████████████▋                                              | 664/1000 [07:40<03:56,  1.42it/s]"
     ]
    },
    {
     "name": "stdout",
     "output_type": "stream",
     "text": [
      "round : 664/1000 result lose, explore_rate 0.1\n"
     ]
    },
    {
     "name": "stderr",
     "output_type": "stream",
     "text": [
      " 66%|███████████████████████████████████████████████████████████████████████████████████████████▊                                              | 665/1000 [07:41<03:34,  1.56it/s]"
     ]
    },
    {
     "name": "stdout",
     "output_type": "stream",
     "text": [
      "round : 665/1000 result lose, explore_rate 0.1\n"
     ]
    },
    {
     "name": "stderr",
     "output_type": "stream",
     "text": [
      " 67%|███████████████████████████████████████████████████████████████████████████████████████████▉                                              | 666/1000 [07:41<03:18,  1.68it/s]"
     ]
    },
    {
     "name": "stdout",
     "output_type": "stream",
     "text": [
      "round : 666/1000 result lose, explore_rate 0.1\n"
     ]
    },
    {
     "name": "stderr",
     "output_type": "stream",
     "text": [
      " 67%|████████████████████████████████████████████████████████████████████████████████████████████                                              | 667/1000 [07:42<03:20,  1.66it/s]"
     ]
    },
    {
     "name": "stdout",
     "output_type": "stream",
     "text": [
      "round : 667/1000 result lose, explore_rate 0.1\n"
     ]
    },
    {
     "name": "stderr",
     "output_type": "stream",
     "text": [
      " 67%|████████████████████████████████████████████████████████████████████████████████████████████▏                                             | 668/1000 [07:42<03:27,  1.60it/s]"
     ]
    },
    {
     "name": "stdout",
     "output_type": "stream",
     "text": [
      "round : 668/1000 result lose, explore_rate 0.1\n"
     ]
    },
    {
     "name": "stderr",
     "output_type": "stream",
     "text": [
      " 67%|████████████████████████████████████████████████████████████████████████████████████████████▎                                             | 669/1000 [07:43<03:48,  1.45it/s]"
     ]
    },
    {
     "name": "stdout",
     "output_type": "stream",
     "text": [
      "round : 669/1000 result lose, explore_rate 0.1\n"
     ]
    },
    {
     "name": "stderr",
     "output_type": "stream",
     "text": [
      " 67%|████████████████████████████████████████████████████████████████████████████████████████████▍                                             | 670/1000 [07:44<03:50,  1.43it/s]"
     ]
    },
    {
     "name": "stdout",
     "output_type": "stream",
     "text": [
      "round : 670/1000 result lose, explore_rate 0.1\n"
     ]
    },
    {
     "name": "stderr",
     "output_type": "stream",
     "text": [
      " 67%|████████████████████████████████████████████████████████████████████████████████████████████▌                                             | 671/1000 [07:45<03:35,  1.52it/s]"
     ]
    },
    {
     "name": "stdout",
     "output_type": "stream",
     "text": [
      "round : 671/1000 result lose, explore_rate 0.1\n"
     ]
    },
    {
     "name": "stderr",
     "output_type": "stream",
     "text": [
      " 67%|████████████████████████████████████████████████████████████████████████████████████████████▋                                             | 672/1000 [07:45<03:35,  1.52it/s]"
     ]
    },
    {
     "name": "stdout",
     "output_type": "stream",
     "text": [
      "round : 672/1000 result lose, explore_rate 0.1\n"
     ]
    },
    {
     "name": "stderr",
     "output_type": "stream",
     "text": [
      " 67%|████████████████████████████████████████████████████████████████████████████████████████████▊                                             | 673/1000 [07:46<03:43,  1.47it/s]"
     ]
    },
    {
     "name": "stdout",
     "output_type": "stream",
     "text": [
      "round : 673/1000 result lose, explore_rate 0.1\n"
     ]
    },
    {
     "name": "stderr",
     "output_type": "stream",
     "text": [
      " 67%|█████████████████████████████████████████████████████████████████████████████████████████████                                             | 674/1000 [07:47<03:34,  1.52it/s]"
     ]
    },
    {
     "name": "stdout",
     "output_type": "stream",
     "text": [
      "round : 674/1000 result lose, explore_rate 0.1\n"
     ]
    },
    {
     "name": "stderr",
     "output_type": "stream",
     "text": [
      " 68%|█████████████████████████████████████████████████████████████████████████████████████████████▏                                            | 675/1000 [07:47<03:48,  1.42it/s]"
     ]
    },
    {
     "name": "stdout",
     "output_type": "stream",
     "text": [
      "round : 675/1000 result lose, explore_rate 0.1\n"
     ]
    },
    {
     "name": "stderr",
     "output_type": "stream",
     "text": [
      " 68%|█████████████████████████████████████████████████████████████████████████████████████████████▎                                            | 676/1000 [07:48<03:46,  1.43it/s]"
     ]
    },
    {
     "name": "stdout",
     "output_type": "stream",
     "text": [
      "round : 676/1000 result lose, explore_rate 0.1\n"
     ]
    },
    {
     "name": "stderr",
     "output_type": "stream",
     "text": [
      " 68%|█████████████████████████████████████████████████████████████████████████████████████████████▍                                            | 677/1000 [07:49<04:08,  1.30it/s]"
     ]
    },
    {
     "name": "stdout",
     "output_type": "stream",
     "text": [
      "round : 677/1000 result lose, explore_rate 0.1\n"
     ]
    },
    {
     "name": "stderr",
     "output_type": "stream",
     "text": [
      " 68%|█████████████████████████████████████████████████████████████████████████████████████████████▌                                            | 678/1000 [07:50<03:50,  1.40it/s]"
     ]
    },
    {
     "name": "stdout",
     "output_type": "stream",
     "text": [
      "round : 678/1000 result lose, explore_rate 0.1\n"
     ]
    },
    {
     "name": "stderr",
     "output_type": "stream",
     "text": [
      " 68%|█████████████████████████████████████████████████████████████████████████████████████████████▋                                            | 679/1000 [07:50<03:33,  1.50it/s]"
     ]
    },
    {
     "name": "stdout",
     "output_type": "stream",
     "text": [
      "round : 679/1000 result lose, explore_rate 0.1\n"
     ]
    },
    {
     "name": "stderr",
     "output_type": "stream",
     "text": [
      " 68%|█████████████████████████████████████████████████████████████████████████████████████████████▊                                            | 680/1000 [07:51<03:15,  1.64it/s]"
     ]
    },
    {
     "name": "stdout",
     "output_type": "stream",
     "text": [
      "round : 680/1000 result lose, explore_rate 0.1\n"
     ]
    },
    {
     "name": "stderr",
     "output_type": "stream",
     "text": [
      " 68%|█████████████████████████████████████████████████████████████████████████████████████████████▉                                            | 681/1000 [07:51<03:05,  1.72it/s]"
     ]
    },
    {
     "name": "stdout",
     "output_type": "stream",
     "text": [
      "round : 681/1000 result lose, explore_rate 0.1\n"
     ]
    },
    {
     "name": "stderr",
     "output_type": "stream",
     "text": [
      " 68%|██████████████████████████████████████████████████████████████████████████████████████████████                                            | 682/1000 [07:52<03:06,  1.70it/s]"
     ]
    },
    {
     "name": "stdout",
     "output_type": "stream",
     "text": [
      "round : 682/1000 result lose, explore_rate 0.1\n"
     ]
    },
    {
     "name": "stderr",
     "output_type": "stream",
     "text": [
      " 68%|██████████████████████████████████████████████████████████████████████████████████████████████▎                                           | 683/1000 [07:53<03:24,  1.55it/s]"
     ]
    },
    {
     "name": "stdout",
     "output_type": "stream",
     "text": [
      "round : 683/1000 result lose, explore_rate 0.1\n"
     ]
    },
    {
     "name": "stderr",
     "output_type": "stream",
     "text": [
      " 68%|██████████████████████████████████████████████████████████████████████████████████████████████▍                                           | 684/1000 [07:53<03:21,  1.57it/s]"
     ]
    },
    {
     "name": "stdout",
     "output_type": "stream",
     "text": [
      "round : 684/1000 result lose, explore_rate 0.1\n"
     ]
    },
    {
     "name": "stderr",
     "output_type": "stream",
     "text": [
      " 68%|██████████████████████████████████████████████████████████████████████████████████████████████▌                                           | 685/1000 [07:54<03:36,  1.45it/s]"
     ]
    },
    {
     "name": "stdout",
     "output_type": "stream",
     "text": [
      "round : 685/1000 result lose, explore_rate 0.1\n"
     ]
    },
    {
     "name": "stderr",
     "output_type": "stream",
     "text": [
      " 69%|██████████████████████████████████████████████████████████████████████████████████████████████▋                                           | 686/1000 [07:55<03:37,  1.45it/s]"
     ]
    },
    {
     "name": "stdout",
     "output_type": "stream",
     "text": [
      "round : 686/1000 result lose, explore_rate 0.1\n"
     ]
    },
    {
     "name": "stderr",
     "output_type": "stream",
     "text": [
      " 69%|██████████████████████████████████████████████████████████████████████████████████████████████▊                                           | 687/1000 [07:55<03:27,  1.51it/s]"
     ]
    },
    {
     "name": "stdout",
     "output_type": "stream",
     "text": [
      "round : 687/1000 result lose, explore_rate 0.1\n"
     ]
    },
    {
     "name": "stderr",
     "output_type": "stream",
     "text": [
      " 69%|██████████████████████████████████████████████████████████████████████████████████████████████▉                                           | 688/1000 [07:56<03:40,  1.42it/s]"
     ]
    },
    {
     "name": "stdout",
     "output_type": "stream",
     "text": [
      "round : 688/1000 result lose, explore_rate 0.1\n"
     ]
    },
    {
     "name": "stderr",
     "output_type": "stream",
     "text": [
      " 69%|███████████████████████████████████████████████████████████████████████████████████████████████                                           | 689/1000 [07:57<03:31,  1.47it/s]"
     ]
    },
    {
     "name": "stdout",
     "output_type": "stream",
     "text": [
      "round : 689/1000 result lose, explore_rate 0.1\n"
     ]
    },
    {
     "name": "stderr",
     "output_type": "stream",
     "text": [
      " 69%|███████████████████████████████████████████████████████████████████████████████████████████████▏                                          | 690/1000 [07:57<03:41,  1.40it/s]"
     ]
    },
    {
     "name": "stdout",
     "output_type": "stream",
     "text": [
      "round : 690/1000 result lose, explore_rate 0.1\n"
     ]
    },
    {
     "name": "stderr",
     "output_type": "stream",
     "text": [
      " 69%|███████████████████████████████████████████████████████████████████████████████████████████████▎                                          | 691/1000 [07:58<03:30,  1.47it/s]"
     ]
    },
    {
     "name": "stdout",
     "output_type": "stream",
     "text": [
      "round : 691/1000 result lose, explore_rate 0.1\n"
     ]
    },
    {
     "name": "stderr",
     "output_type": "stream",
     "text": [
      " 69%|███████████████████████████████████████████████████████████████████████████████████████████████▍                                          | 692/1000 [07:59<03:39,  1.40it/s]"
     ]
    },
    {
     "name": "stdout",
     "output_type": "stream",
     "text": [
      "round : 692/1000 result lose, explore_rate 0.1\n"
     ]
    },
    {
     "name": "stderr",
     "output_type": "stream",
     "text": [
      " 69%|███████████████████████████████████████████████████████████████████████████████████████████████▋                                          | 693/1000 [07:59<03:25,  1.50it/s]"
     ]
    },
    {
     "name": "stdout",
     "output_type": "stream",
     "text": [
      "round : 693/1000 result lose, explore_rate 0.1\n"
     ]
    },
    {
     "name": "stderr",
     "output_type": "stream",
     "text": [
      " 69%|███████████████████████████████████████████████████████████████████████████████████████████████▊                                          | 694/1000 [08:00<03:35,  1.42it/s]"
     ]
    },
    {
     "name": "stdout",
     "output_type": "stream",
     "text": [
      "round : 694/1000 result lose, explore_rate 0.1\n"
     ]
    },
    {
     "name": "stderr",
     "output_type": "stream",
     "text": [
      " 70%|███████████████████████████████████████████████████████████████████████████████████████████████▉                                          | 695/1000 [08:01<04:29,  1.13it/s]"
     ]
    },
    {
     "name": "stdout",
     "output_type": "stream",
     "text": [
      "round : 695/1000 result lose, explore_rate 0.1\n"
     ]
    },
    {
     "name": "stderr",
     "output_type": "stream",
     "text": [
      " 70%|████████████████████████████████████████████████████████████████████████████████████████████████                                          | 696/1000 [08:02<04:28,  1.13it/s]"
     ]
    },
    {
     "name": "stdout",
     "output_type": "stream",
     "text": [
      "round : 696/1000 result lose, explore_rate 0.1\n"
     ]
    },
    {
     "name": "stderr",
     "output_type": "stream",
     "text": [
      " 70%|████████████████████████████████████████████████████████████████████████████████████████████████▏                                         | 697/1000 [08:03<04:31,  1.12it/s]"
     ]
    },
    {
     "name": "stdout",
     "output_type": "stream",
     "text": [
      "round : 697/1000 result lose, explore_rate 0.1\n"
     ]
    },
    {
     "name": "stderr",
     "output_type": "stream",
     "text": [
      " 70%|████████████████████████████████████████████████████████████████████████████████████████████████▎                                         | 698/1000 [08:04<04:42,  1.07it/s]"
     ]
    },
    {
     "name": "stdout",
     "output_type": "stream",
     "text": [
      "round : 698/1000 result lose, explore_rate 0.1\n"
     ]
    },
    {
     "name": "stderr",
     "output_type": "stream",
     "text": [
      " 70%|████████████████████████████████████████████████████████████████████████████████████████████████▍                                         | 699/1000 [08:05<04:49,  1.04it/s]"
     ]
    },
    {
     "name": "stdout",
     "output_type": "stream",
     "text": [
      "round : 699/1000 result lose, explore_rate 0.1\n"
     ]
    },
    {
     "name": "stderr",
     "output_type": "stream",
     "text": [
      " 70%|████████████████████████████████████████████████████████████████████████████████████████████████▌                                         | 700/1000 [08:06<04:21,  1.15it/s]"
     ]
    },
    {
     "name": "stdout",
     "output_type": "stream",
     "text": [
      "round : 700/1000 result lose, explore_rate 0.1\n"
     ]
    },
    {
     "name": "stderr",
     "output_type": "stream",
     "text": [
      " 70%|████████████████████████████████████████████████████████████████████████████████████████████████▋                                         | 701/1000 [08:07<04:08,  1.20it/s]"
     ]
    },
    {
     "name": "stdout",
     "output_type": "stream",
     "text": [
      "round : 701/1000 result lose, explore_rate 0.1\n"
     ]
    },
    {
     "name": "stderr",
     "output_type": "stream",
     "text": [
      " 70%|████████████████████████████████████████████████████████████████████████████████████████████████▉                                         | 702/1000 [08:07<03:35,  1.38it/s]"
     ]
    },
    {
     "name": "stdout",
     "output_type": "stream",
     "text": [
      "round : 702/1000 result lose, explore_rate 0.1\n"
     ]
    },
    {
     "name": "stderr",
     "output_type": "stream",
     "text": [
      " 70%|█████████████████████████████████████████████████████████████████████████████████████████████████                                         | 703/1000 [08:08<03:40,  1.34it/s]"
     ]
    },
    {
     "name": "stdout",
     "output_type": "stream",
     "text": [
      "round : 703/1000 result lose, explore_rate 0.1\n"
     ]
    },
    {
     "name": "stderr",
     "output_type": "stream",
     "text": [
      " 70%|█████████████████████████████████████████████████████████████████████████████████████████████████▏                                        | 704/1000 [08:09<03:23,  1.46it/s]"
     ]
    },
    {
     "name": "stdout",
     "output_type": "stream",
     "text": [
      "round : 704/1000 result lose, explore_rate 0.1\n"
     ]
    },
    {
     "name": "stderr",
     "output_type": "stream",
     "text": [
      " 70%|█████████████████████████████████████████████████████████████████████████████████████████████████▎                                        | 705/1000 [08:09<03:11,  1.54it/s]"
     ]
    },
    {
     "name": "stdout",
     "output_type": "stream",
     "text": [
      "round : 705/1000 result lose, explore_rate 0.1\n"
     ]
    },
    {
     "name": "stderr",
     "output_type": "stream",
     "text": [
      " 71%|█████████████████████████████████████████████████████████████████████████████████████████████████▍                                        | 706/1000 [08:10<02:57,  1.66it/s]"
     ]
    },
    {
     "name": "stdout",
     "output_type": "stream",
     "text": [
      "round : 706/1000 result lose, explore_rate 0.1\n"
     ]
    },
    {
     "name": "stderr",
     "output_type": "stream",
     "text": [
      " 71%|█████████████████████████████████████████████████████████████████████████████████████████████████▌                                        | 707/1000 [08:10<03:11,  1.53it/s]"
     ]
    },
    {
     "name": "stdout",
     "output_type": "stream",
     "text": [
      "round : 707/1000 result lose, explore_rate 0.1\n"
     ]
    },
    {
     "name": "stderr",
     "output_type": "stream",
     "text": [
      " 71%|█████████████████████████████████████████████████████████████████████████████████████████████████▋                                        | 708/1000 [08:11<03:17,  1.48it/s]"
     ]
    },
    {
     "name": "stdout",
     "output_type": "stream",
     "text": [
      "round : 708/1000 result lose, explore_rate 0.1\n"
     ]
    },
    {
     "name": "stderr",
     "output_type": "stream",
     "text": [
      " 71%|█████████████████████████████████████████████████████████████████████████████████████████████████▊                                        | 709/1000 [08:12<03:20,  1.45it/s]"
     ]
    },
    {
     "name": "stdout",
     "output_type": "stream",
     "text": [
      "round : 709/1000 result lose, explore_rate 0.1\n"
     ]
    },
    {
     "name": "stderr",
     "output_type": "stream",
     "text": [
      " 71%|█████████████████████████████████████████████████████████████████████████████████████████████████▉                                        | 710/1000 [08:13<03:21,  1.44it/s]"
     ]
    },
    {
     "name": "stdout",
     "output_type": "stream",
     "text": [
      "round : 710/1000 result lose, explore_rate 0.1\n"
     ]
    },
    {
     "name": "stderr",
     "output_type": "stream",
     "text": [
      " 71%|██████████████████████████████████████████████████████████████████████████████████████████████████                                        | 711/1000 [08:13<03:14,  1.48it/s]"
     ]
    },
    {
     "name": "stdout",
     "output_type": "stream",
     "text": [
      "round : 711/1000 result lose, explore_rate 0.1\n"
     ]
    },
    {
     "name": "stderr",
     "output_type": "stream",
     "text": [
      " 71%|██████████████████████████████████████████████████████████████████████████████████████████████████▎                                       | 712/1000 [08:14<03:20,  1.43it/s]"
     ]
    },
    {
     "name": "stdout",
     "output_type": "stream",
     "text": [
      "round : 712/1000 result lose, explore_rate 0.1\n"
     ]
    },
    {
     "name": "stderr",
     "output_type": "stream",
     "text": [
      " 71%|██████████████████████████████████████████████████████████████████████████████████████████████████▍                                       | 713/1000 [08:15<03:19,  1.44it/s]"
     ]
    },
    {
     "name": "stdout",
     "output_type": "stream",
     "text": [
      "round : 713/1000 result lose, explore_rate 0.1\n"
     ]
    },
    {
     "name": "stderr",
     "output_type": "stream",
     "text": [
      " 71%|██████████████████████████████████████████████████████████████████████████████████████████████████▌                                       | 714/1000 [08:15<03:08,  1.52it/s]"
     ]
    },
    {
     "name": "stdout",
     "output_type": "stream",
     "text": [
      "round : 714/1000 result lose, explore_rate 0.1\n"
     ]
    },
    {
     "name": "stderr",
     "output_type": "stream",
     "text": [
      " 72%|██████████████████████████████████████████████████████████████████████████████████████████████████▋                                       | 715/1000 [08:16<03:12,  1.48it/s]"
     ]
    },
    {
     "name": "stdout",
     "output_type": "stream",
     "text": [
      "round : 715/1000 result lose, explore_rate 0.1\n"
     ]
    },
    {
     "name": "stderr",
     "output_type": "stream",
     "text": [
      " 72%|██████████████████████████████████████████████████████████████████████████████████████████████████▊                                       | 716/1000 [08:17<03:11,  1.48it/s]"
     ]
    },
    {
     "name": "stdout",
     "output_type": "stream",
     "text": [
      "round : 716/1000 result lose, explore_rate 0.1\n"
     ]
    },
    {
     "name": "stderr",
     "output_type": "stream",
     "text": [
      " 72%|██████████████████████████████████████████████████████████████████████████████████████████████████▉                                       | 717/1000 [08:17<03:26,  1.37it/s]"
     ]
    },
    {
     "name": "stdout",
     "output_type": "stream",
     "text": [
      "round : 717/1000 result lose, explore_rate 0.1\n"
     ]
    },
    {
     "name": "stderr",
     "output_type": "stream",
     "text": [
      " 72%|███████████████████████████████████████████████████████████████████████████████████████████████████                                       | 718/1000 [08:18<03:10,  1.48it/s]"
     ]
    },
    {
     "name": "stdout",
     "output_type": "stream",
     "text": [
      "round : 718/1000 result lose, explore_rate 0.1\n"
     ]
    },
    {
     "name": "stderr",
     "output_type": "stream",
     "text": [
      " 72%|███████████████████████████████████████████████████████████████████████████████████████████████████▏                                      | 719/1000 [08:19<03:07,  1.50it/s]"
     ]
    },
    {
     "name": "stdout",
     "output_type": "stream",
     "text": [
      "round : 719/1000 result lose, explore_rate 0.1\n"
     ]
    },
    {
     "name": "stderr",
     "output_type": "stream",
     "text": [
      " 72%|███████████████████████████████████████████████████████████████████████████████████████████████████▎                                      | 720/1000 [08:19<03:20,  1.39it/s]"
     ]
    },
    {
     "name": "stdout",
     "output_type": "stream",
     "text": [
      "round : 720/1000 result lose, explore_rate 0.1\n"
     ]
    },
    {
     "name": "stderr",
     "output_type": "stream",
     "text": [
      " 72%|███████████████████████████████████████████████████████████████████████████████████████████████████▍                                      | 721/1000 [08:20<03:05,  1.50it/s]"
     ]
    },
    {
     "name": "stdout",
     "output_type": "stream",
     "text": [
      "round : 721/1000 result lose, explore_rate 0.1\n"
     ]
    },
    {
     "name": "stderr",
     "output_type": "stream",
     "text": [
      " 72%|███████████████████████████████████████████████████████████████████████████████████████████████████▋                                      | 722/1000 [08:21<02:56,  1.57it/s]"
     ]
    },
    {
     "name": "stdout",
     "output_type": "stream",
     "text": [
      "round : 722/1000 result lose, explore_rate 0.1\n"
     ]
    },
    {
     "name": "stderr",
     "output_type": "stream",
     "text": [
      " 72%|███████████████████████████████████████████████████████████████████████████████████████████████████▊                                      | 723/1000 [08:21<02:52,  1.61it/s]"
     ]
    },
    {
     "name": "stdout",
     "output_type": "stream",
     "text": [
      "round : 723/1000 result lose, explore_rate 0.1\n"
     ]
    },
    {
     "name": "stderr",
     "output_type": "stream",
     "text": [
      " 72%|███████████████████████████████████████████████████████████████████████████████████████████████████▉                                      | 724/1000 [08:22<02:43,  1.69it/s]"
     ]
    },
    {
     "name": "stdout",
     "output_type": "stream",
     "text": [
      "round : 724/1000 result lose, explore_rate 0.1\n"
     ]
    },
    {
     "name": "stderr",
     "output_type": "stream",
     "text": [
      " 72%|████████████████████████████████████████████████████████████████████████████████████████████████████                                      | 725/1000 [08:22<02:52,  1.59it/s]"
     ]
    },
    {
     "name": "stdout",
     "output_type": "stream",
     "text": [
      "round : 725/1000 result lose, explore_rate 0.1\n"
     ]
    },
    {
     "name": "stderr",
     "output_type": "stream",
     "text": [
      " 73%|████████████████████████████████████████████████████████████████████████████████████████████████████▏                                     | 726/1000 [08:23<03:09,  1.45it/s]"
     ]
    },
    {
     "name": "stdout",
     "output_type": "stream",
     "text": [
      "round : 726/1000 result lose, explore_rate 0.1\n"
     ]
    },
    {
     "name": "stderr",
     "output_type": "stream",
     "text": [
      " 73%|████████████████████████████████████████████████████████████████████████████████████████████████████▎                                     | 727/1000 [08:24<03:00,  1.51it/s]"
     ]
    },
    {
     "name": "stdout",
     "output_type": "stream",
     "text": [
      "round : 727/1000 result lose, explore_rate 0.1\n"
     ]
    },
    {
     "name": "stderr",
     "output_type": "stream",
     "text": [
      " 73%|████████████████████████████████████████████████████████████████████████████████████████████████████▍                                     | 728/1000 [08:24<02:56,  1.54it/s]"
     ]
    },
    {
     "name": "stdout",
     "output_type": "stream",
     "text": [
      "round : 728/1000 result lose, explore_rate 0.1\n"
     ]
    },
    {
     "name": "stderr",
     "output_type": "stream",
     "text": [
      " 73%|████████████████████████████████████████████████████████████████████████████████████████████████████▌                                     | 729/1000 [08:26<03:30,  1.29it/s]"
     ]
    },
    {
     "name": "stdout",
     "output_type": "stream",
     "text": [
      "round : 729/1000 result lose, explore_rate 0.1\n"
     ]
    },
    {
     "name": "stderr",
     "output_type": "stream",
     "text": [
      " 73%|████████████████████████████████████████████████████████████████████████████████████████████████████▋                                     | 730/1000 [08:26<03:22,  1.33it/s]"
     ]
    },
    {
     "name": "stdout",
     "output_type": "stream",
     "text": [
      "round : 730/1000 result lose, explore_rate 0.1\n"
     ]
    },
    {
     "name": "stderr",
     "output_type": "stream",
     "text": [
      " 73%|████████████████████████████████████████████████████████████████████████████████████████████████████▉                                     | 731/1000 [08:27<03:14,  1.38it/s]"
     ]
    },
    {
     "name": "stdout",
     "output_type": "stream",
     "text": [
      "round : 731/1000 result lose, explore_rate 0.1\n"
     ]
    },
    {
     "name": "stderr",
     "output_type": "stream",
     "text": [
      " 73%|█████████████████████████████████████████████████████████████████████████████████████████████████████                                     | 732/1000 [08:27<02:54,  1.54it/s]"
     ]
    },
    {
     "name": "stdout",
     "output_type": "stream",
     "text": [
      "round : 732/1000 result lose, explore_rate 0.1\n"
     ]
    },
    {
     "name": "stderr",
     "output_type": "stream",
     "text": [
      " 73%|█████████████████████████████████████████████████████████████████████████████████████████████████████▏                                    | 733/1000 [08:28<02:38,  1.68it/s]"
     ]
    },
    {
     "name": "stdout",
     "output_type": "stream",
     "text": [
      "round : 733/1000 result lose, explore_rate 0.1\n"
     ]
    },
    {
     "name": "stderr",
     "output_type": "stream",
     "text": [
      " 73%|█████████████████████████████████████████████████████████████████████████████████████████████████████▎                                    | 734/1000 [08:29<02:50,  1.56it/s]"
     ]
    },
    {
     "name": "stdout",
     "output_type": "stream",
     "text": [
      "round : 734/1000 result lose, explore_rate 0.1\n"
     ]
    },
    {
     "name": "stderr",
     "output_type": "stream",
     "text": [
      " 74%|█████████████████████████████████████████████████████████████████████████████████████████████████████▍                                    | 735/1000 [08:29<02:52,  1.54it/s]"
     ]
    },
    {
     "name": "stdout",
     "output_type": "stream",
     "text": [
      "round : 735/1000 result lose, explore_rate 0.1\n"
     ]
    },
    {
     "name": "stderr",
     "output_type": "stream",
     "text": [
      " 74%|█████████████████████████████████████████████████████████████████████████████████████████████████████▌                                    | 736/1000 [08:30<03:12,  1.37it/s]"
     ]
    },
    {
     "name": "stdout",
     "output_type": "stream",
     "text": [
      "round : 736/1000 result lose, explore_rate 0.1\n"
     ]
    },
    {
     "name": "stderr",
     "output_type": "stream",
     "text": [
      " 74%|█████████████████████████████████████████████████████████████████████████████████████████████████████▋                                    | 737/1000 [08:31<03:02,  1.44it/s]"
     ]
    },
    {
     "name": "stdout",
     "output_type": "stream",
     "text": [
      "round : 737/1000 result lose, explore_rate 0.1\n"
     ]
    },
    {
     "name": "stderr",
     "output_type": "stream",
     "text": [
      " 74%|█████████████████████████████████████████████████████████████████████████████████████████████████████▊                                    | 738/1000 [08:32<03:21,  1.30it/s]"
     ]
    },
    {
     "name": "stdout",
     "output_type": "stream",
     "text": [
      "round : 738/1000 result lose, explore_rate 0.1\n"
     ]
    },
    {
     "name": "stderr",
     "output_type": "stream",
     "text": [
      " 74%|█████████████████████████████████████████████████████████████████████████████████████████████████████▉                                    | 739/1000 [08:32<03:06,  1.40it/s]"
     ]
    },
    {
     "name": "stdout",
     "output_type": "stream",
     "text": [
      "round : 739/1000 result lose, explore_rate 0.1\n"
     ]
    },
    {
     "name": "stderr",
     "output_type": "stream",
     "text": [
      " 74%|██████████████████████████████████████████████████████████████████████████████████████████████████████                                    | 740/1000 [08:33<03:12,  1.35it/s]"
     ]
    },
    {
     "name": "stdout",
     "output_type": "stream",
     "text": [
      "round : 740/1000 result lose, explore_rate 0.1\n"
     ]
    },
    {
     "name": "stderr",
     "output_type": "stream",
     "text": [
      " 74%|██████████████████████████████████████████████████████████████████████████████████████████████████████▎                                   | 741/1000 [08:34<02:57,  1.46it/s]"
     ]
    },
    {
     "name": "stdout",
     "output_type": "stream",
     "text": [
      "round : 741/1000 result lose, explore_rate 0.1\n"
     ]
    },
    {
     "name": "stderr",
     "output_type": "stream",
     "text": [
      " 74%|██████████████████████████████████████████████████████████████████████████████████████████████████████▍                                   | 742/1000 [08:34<02:54,  1.48it/s]"
     ]
    },
    {
     "name": "stdout",
     "output_type": "stream",
     "text": [
      "round : 742/1000 result lose, explore_rate 0.1\n"
     ]
    },
    {
     "name": "stderr",
     "output_type": "stream",
     "text": [
      " 74%|██████████████████████████████████████████████████████████████████████████████████████████████████████▌                                   | 743/1000 [08:35<02:45,  1.55it/s]"
     ]
    },
    {
     "name": "stdout",
     "output_type": "stream",
     "text": [
      "round : 743/1000 result lose, explore_rate 0.1\n"
     ]
    },
    {
     "name": "stderr",
     "output_type": "stream",
     "text": [
      " 74%|██████████████████████████████████████████████████████████████████████████████████████████████████████▋                                   | 744/1000 [08:36<02:48,  1.52it/s]"
     ]
    },
    {
     "name": "stdout",
     "output_type": "stream",
     "text": [
      "round : 744/1000 result lose, explore_rate 0.1\n"
     ]
    },
    {
     "name": "stderr",
     "output_type": "stream",
     "text": [
      " 74%|██████████████████████████████████████████████████████████████████████████████████████████████████████▊                                   | 745/1000 [08:36<02:34,  1.65it/s]"
     ]
    },
    {
     "name": "stdout",
     "output_type": "stream",
     "text": [
      "round : 745/1000 result lose, explore_rate 0.1\n"
     ]
    },
    {
     "name": "stderr",
     "output_type": "stream",
     "text": [
      " 75%|██████████████████████████████████████████████████████████████████████████████████████████████████████▉                                   | 746/1000 [08:37<02:43,  1.56it/s]"
     ]
    },
    {
     "name": "stdout",
     "output_type": "stream",
     "text": [
      "round : 746/1000 result lose, explore_rate 0.1\n"
     ]
    },
    {
     "name": "stderr",
     "output_type": "stream",
     "text": [
      " 75%|███████████████████████████████████████████████████████████████████████████████████████████████████████                                   | 747/1000 [08:38<02:58,  1.42it/s]"
     ]
    },
    {
     "name": "stdout",
     "output_type": "stream",
     "text": [
      "round : 747/1000 result lose, explore_rate 0.1\n"
     ]
    },
    {
     "name": "stderr",
     "output_type": "stream",
     "text": [
      " 75%|███████████████████████████████████████████████████████████████████████████████████████████████████████▏                                  | 748/1000 [08:38<02:48,  1.50it/s]"
     ]
    },
    {
     "name": "stdout",
     "output_type": "stream",
     "text": [
      "round : 748/1000 result lose, explore_rate 0.1\n"
     ]
    },
    {
     "name": "stderr",
     "output_type": "stream",
     "text": [
      " 75%|███████████████████████████████████████████████████████████████████████████████████████████████████████▎                                  | 749/1000 [08:39<02:53,  1.44it/s]"
     ]
    },
    {
     "name": "stdout",
     "output_type": "stream",
     "text": [
      "round : 749/1000 result lose, explore_rate 0.1\n"
     ]
    },
    {
     "name": "stderr",
     "output_type": "stream",
     "text": [
      " 75%|███████████████████████████████████████████████████████████████████████████████████████████████████████▌                                  | 750/1000 [08:39<02:40,  1.56it/s]"
     ]
    },
    {
     "name": "stdout",
     "output_type": "stream",
     "text": [
      "round : 750/1000 result lose, explore_rate 0.1\n"
     ]
    },
    {
     "name": "stderr",
     "output_type": "stream",
     "text": [
      " 75%|███████████████████████████████████████████████████████████████████████████████████████████████████████▋                                  | 751/1000 [08:40<02:36,  1.60it/s]"
     ]
    },
    {
     "name": "stdout",
     "output_type": "stream",
     "text": [
      "round : 751/1000 result lose, explore_rate 0.1\n"
     ]
    },
    {
     "name": "stderr",
     "output_type": "stream",
     "text": [
      " 75%|███████████████████████████████████████████████████████████████████████████████████████████████████████▊                                  | 752/1000 [08:41<02:29,  1.66it/s]"
     ]
    },
    {
     "name": "stdout",
     "output_type": "stream",
     "text": [
      "round : 752/1000 result lose, explore_rate 0.1\n"
     ]
    },
    {
     "name": "stderr",
     "output_type": "stream",
     "text": [
      " 75%|███████████████████████████████████████████████████████████████████████████████████████████████████████▉                                  | 753/1000 [08:41<02:36,  1.58it/s]"
     ]
    },
    {
     "name": "stdout",
     "output_type": "stream",
     "text": [
      "round : 753/1000 result lose, explore_rate 0.1\n"
     ]
    },
    {
     "name": "stderr",
     "output_type": "stream",
     "text": [
      " 75%|████████████████████████████████████████████████████████████████████████████████████████████████████████                                  | 754/1000 [08:42<02:32,  1.61it/s]"
     ]
    },
    {
     "name": "stdout",
     "output_type": "stream",
     "text": [
      "round : 754/1000 result lose, explore_rate 0.1\n"
     ]
    },
    {
     "name": "stderr",
     "output_type": "stream",
     "text": [
      " 76%|████████████████████████████████████████████████████████████████████████████████████████████████████████▏                                 | 755/1000 [08:43<02:35,  1.58it/s]"
     ]
    },
    {
     "name": "stdout",
     "output_type": "stream",
     "text": [
      "round : 755/1000 result lose, explore_rate 0.1\n"
     ]
    },
    {
     "name": "stderr",
     "output_type": "stream",
     "text": [
      " 76%|████████████████████████████████████████████████████████████████████████████████████████████████████████▎                                 | 756/1000 [08:43<02:53,  1.41it/s]"
     ]
    },
    {
     "name": "stdout",
     "output_type": "stream",
     "text": [
      "round : 756/1000 result lose, explore_rate 0.1\n"
     ]
    },
    {
     "name": "stderr",
     "output_type": "stream",
     "text": [
      " 76%|████████████████████████████████████████████████████████████████████████████████████████████████████████▍                                 | 757/1000 [08:44<02:51,  1.42it/s]"
     ]
    },
    {
     "name": "stdout",
     "output_type": "stream",
     "text": [
      "round : 757/1000 result lose, explore_rate 0.1\n"
     ]
    },
    {
     "name": "stderr",
     "output_type": "stream",
     "text": [
      " 76%|████████████████████████████████████████████████████████████████████████████████████████████████████████▌                                 | 758/1000 [08:45<02:48,  1.44it/s]"
     ]
    },
    {
     "name": "stdout",
     "output_type": "stream",
     "text": [
      "round : 758/1000 result lose, explore_rate 0.1\n"
     ]
    },
    {
     "name": "stderr",
     "output_type": "stream",
     "text": [
      " 76%|████████████████████████████████████████████████████████████████████████████████████████████████████████▋                                 | 759/1000 [08:45<02:40,  1.50it/s]"
     ]
    },
    {
     "name": "stdout",
     "output_type": "stream",
     "text": [
      "round : 759/1000 result lose, explore_rate 0.1\n"
     ]
    },
    {
     "name": "stderr",
     "output_type": "stream",
     "text": [
      " 76%|████████████████████████████████████████████████████████████████████████████████████████████████████████▉                                 | 760/1000 [08:46<02:36,  1.54it/s]"
     ]
    },
    {
     "name": "stdout",
     "output_type": "stream",
     "text": [
      "round : 760/1000 result lose, explore_rate 0.1\n"
     ]
    },
    {
     "name": "stderr",
     "output_type": "stream",
     "text": [
      " 76%|█████████████████████████████████████████████████████████████████████████████████████████████████████████                                 | 761/1000 [08:47<02:47,  1.43it/s]"
     ]
    },
    {
     "name": "stdout",
     "output_type": "stream",
     "text": [
      "round : 761/1000 result lose, explore_rate 0.1\n"
     ]
    },
    {
     "name": "stderr",
     "output_type": "stream",
     "text": [
      " 76%|█████████████████████████████████████████████████████████████████████████████████████████████████████████▏                                | 762/1000 [08:48<03:13,  1.23it/s]"
     ]
    },
    {
     "name": "stdout",
     "output_type": "stream",
     "text": [
      "round : 762/1000 result lose, explore_rate 0.1\n"
     ]
    },
    {
     "name": "stderr",
     "output_type": "stream",
     "text": [
      " 76%|█████████████████████████████████████████████████████████████████████████████████████████████████████████▎                                | 763/1000 [08:49<02:56,  1.34it/s]"
     ]
    },
    {
     "name": "stdout",
     "output_type": "stream",
     "text": [
      "round : 763/1000 result lose, explore_rate 0.1\n"
     ]
    },
    {
     "name": "stderr",
     "output_type": "stream",
     "text": [
      " 76%|█████████████████████████████████████████████████████████████████████████████████████████████████████████▍                                | 764/1000 [08:49<02:59,  1.32it/s]"
     ]
    },
    {
     "name": "stdout",
     "output_type": "stream",
     "text": [
      "round : 764/1000 result lose, explore_rate 0.1\n"
     ]
    },
    {
     "name": "stderr",
     "output_type": "stream",
     "text": [
      " 76%|█████████████████████████████████████████████████████████████████████████████████████████████████████████▌                                | 765/1000 [08:50<02:52,  1.36it/s]"
     ]
    },
    {
     "name": "stdout",
     "output_type": "stream",
     "text": [
      "round : 765/1000 result lose, explore_rate 0.1\n"
     ]
    },
    {
     "name": "stderr",
     "output_type": "stream",
     "text": [
      " 77%|█████████████████████████████████████████████████████████████████████████████████████████████████████████▋                                | 766/1000 [08:51<02:49,  1.38it/s]"
     ]
    },
    {
     "name": "stdout",
     "output_type": "stream",
     "text": [
      "round : 766/1000 result lose, explore_rate 0.1\n"
     ]
    },
    {
     "name": "stderr",
     "output_type": "stream",
     "text": [
      " 77%|█████████████████████████████████████████████████████████████████████████████████████████████████████████▊                                | 767/1000 [08:52<02:53,  1.34it/s]"
     ]
    },
    {
     "name": "stdout",
     "output_type": "stream",
     "text": [
      "round : 767/1000 result lose, explore_rate 0.1\n"
     ]
    },
    {
     "name": "stderr",
     "output_type": "stream",
     "text": [
      " 77%|█████████████████████████████████████████████████████████████████████████████████████████████████████████▉                                | 768/1000 [08:52<03:04,  1.26it/s]"
     ]
    },
    {
     "name": "stdout",
     "output_type": "stream",
     "text": [
      "round : 768/1000 result lose, explore_rate 0.1\n"
     ]
    },
    {
     "name": "stderr",
     "output_type": "stream",
     "text": [
      " 77%|██████████████████████████████████████████████████████████████████████████████████████████████████████████                                | 769/1000 [08:53<02:51,  1.34it/s]"
     ]
    },
    {
     "name": "stdout",
     "output_type": "stream",
     "text": [
      "round : 769/1000 result lose, explore_rate 0.1\n"
     ]
    },
    {
     "name": "stderr",
     "output_type": "stream",
     "text": [
      " 77%|██████████████████████████████████████████████████████████████████████████████████████████████████████████▎                               | 770/1000 [08:54<02:35,  1.48it/s]"
     ]
    },
    {
     "name": "stdout",
     "output_type": "stream",
     "text": [
      "round : 770/1000 result lose, explore_rate 0.1\n"
     ]
    },
    {
     "name": "stderr",
     "output_type": "stream",
     "text": [
      " 77%|██████████████████████████████████████████████████████████████████████████████████████████████████████████▍                               | 771/1000 [08:54<02:42,  1.41it/s]"
     ]
    },
    {
     "name": "stdout",
     "output_type": "stream",
     "text": [
      "round : 771/1000 result lose, explore_rate 0.1\n"
     ]
    },
    {
     "name": "stderr",
     "output_type": "stream",
     "text": [
      " 77%|██████████████████████████████████████████████████████████████████████████████████████████████████████████▌                               | 772/1000 [08:55<02:39,  1.43it/s]"
     ]
    },
    {
     "name": "stdout",
     "output_type": "stream",
     "text": [
      "round : 772/1000 result lose, explore_rate 0.1\n"
     ]
    },
    {
     "name": "stderr",
     "output_type": "stream",
     "text": [
      " 77%|██████████████████████████████████████████████████████████████████████████████████████████████████████████▋                               | 773/1000 [08:56<02:24,  1.57it/s]"
     ]
    },
    {
     "name": "stdout",
     "output_type": "stream",
     "text": [
      "round : 773/1000 result lose, explore_rate 0.1\n"
     ]
    },
    {
     "name": "stderr",
     "output_type": "stream",
     "text": [
      " 77%|██████████████████████████████████████████████████████████████████████████████████████████████████████████▊                               | 774/1000 [08:56<02:31,  1.49it/s]"
     ]
    },
    {
     "name": "stdout",
     "output_type": "stream",
     "text": [
      "round : 774/1000 result lose, explore_rate 0.1\n"
     ]
    },
    {
     "name": "stderr",
     "output_type": "stream",
     "text": [
      " 78%|██████████████████████████████████████████████████████████████████████████████████████████████████████████▉                               | 775/1000 [08:57<02:36,  1.44it/s]"
     ]
    },
    {
     "name": "stdout",
     "output_type": "stream",
     "text": [
      "round : 775/1000 result lose, explore_rate 0.1\n"
     ]
    },
    {
     "name": "stderr",
     "output_type": "stream",
     "text": [
      " 78%|███████████████████████████████████████████████████████████████████████████████████████████████████████████                               | 776/1000 [08:58<02:34,  1.45it/s]"
     ]
    },
    {
     "name": "stdout",
     "output_type": "stream",
     "text": [
      "round : 776/1000 result lose, explore_rate 0.1\n"
     ]
    },
    {
     "name": "stderr",
     "output_type": "stream",
     "text": [
      " 78%|███████████████████████████████████████████████████████████████████████████████████████████████████████████▏                              | 777/1000 [08:58<02:23,  1.55it/s]"
     ]
    },
    {
     "name": "stdout",
     "output_type": "stream",
     "text": [
      "round : 777/1000 result lose, explore_rate 0.1\n"
     ]
    },
    {
     "name": "stderr",
     "output_type": "stream",
     "text": [
      " 78%|███████████████████████████████████████████████████████████████████████████████████████████████████████████▎                              | 778/1000 [08:59<02:30,  1.48it/s]"
     ]
    },
    {
     "name": "stdout",
     "output_type": "stream",
     "text": [
      "round : 778/1000 result lose, explore_rate 0.1\n"
     ]
    },
    {
     "name": "stderr",
     "output_type": "stream",
     "text": [
      " 78%|███████████████████████████████████████████████████████████████████████████████████████████████████████████▌                              | 779/1000 [09:00<02:33,  1.44it/s]"
     ]
    },
    {
     "name": "stdout",
     "output_type": "stream",
     "text": [
      "round : 779/1000 result lose, explore_rate 0.1\n"
     ]
    },
    {
     "name": "stderr",
     "output_type": "stream",
     "text": [
      " 78%|███████████████████████████████████████████████████████████████████████████████████████████████████████████▋                              | 780/1000 [09:00<02:29,  1.48it/s]"
     ]
    },
    {
     "name": "stdout",
     "output_type": "stream",
     "text": [
      "round : 780/1000 result lose, explore_rate 0.1\n"
     ]
    },
    {
     "name": "stderr",
     "output_type": "stream",
     "text": [
      " 78%|███████████████████████████████████████████████████████████████████████████████████████████████████████████▊                              | 781/1000 [09:01<02:17,  1.59it/s]"
     ]
    },
    {
     "name": "stdout",
     "output_type": "stream",
     "text": [
      "round : 781/1000 result lose, explore_rate 0.1\n"
     ]
    },
    {
     "name": "stderr",
     "output_type": "stream",
     "text": [
      " 78%|███████████████████████████████████████████████████████████████████████████████████████████████████████████▉                              | 782/1000 [09:02<02:20,  1.55it/s]"
     ]
    },
    {
     "name": "stdout",
     "output_type": "stream",
     "text": [
      "round : 782/1000 result lose, explore_rate 0.1\n"
     ]
    },
    {
     "name": "stderr",
     "output_type": "stream",
     "text": [
      " 78%|████████████████████████████████████████████████████████████████████████████████████████████████████████████                              | 783/1000 [09:02<02:18,  1.57it/s]"
     ]
    },
    {
     "name": "stdout",
     "output_type": "stream",
     "text": [
      "round : 783/1000 result lose, explore_rate 0.1\n"
     ]
    },
    {
     "name": "stderr",
     "output_type": "stream",
     "text": [
      " 78%|████████████████████████████████████████████████████████████████████████████████████████████████████████████▏                             | 784/1000 [09:03<02:28,  1.46it/s]"
     ]
    },
    {
     "name": "stdout",
     "output_type": "stream",
     "text": [
      "round : 784/1000 result lose, explore_rate 0.1\n"
     ]
    },
    {
     "name": "stderr",
     "output_type": "stream",
     "text": [
      " 78%|████████████████████████████████████████████████████████████████████████████████████████████████████████████▎                             | 785/1000 [09:04<02:44,  1.30it/s]"
     ]
    },
    {
     "name": "stdout",
     "output_type": "stream",
     "text": [
      "round : 785/1000 result lose, explore_rate 0.1\n"
     ]
    },
    {
     "name": "stderr",
     "output_type": "stream",
     "text": [
      " 79%|████████████████████████████████████████████████████████████████████████████████████████████████████████████▍                             | 786/1000 [09:05<02:34,  1.38it/s]"
     ]
    },
    {
     "name": "stdout",
     "output_type": "stream",
     "text": [
      "round : 786/1000 result lose, explore_rate 0.1\n"
     ]
    },
    {
     "name": "stderr",
     "output_type": "stream",
     "text": [
      " 79%|████████████████████████████████████████████████████████████████████████████████████████████████████████████▌                             | 787/1000 [09:05<02:44,  1.30it/s]"
     ]
    },
    {
     "name": "stdout",
     "output_type": "stream",
     "text": [
      "round : 787/1000 result lose, explore_rate 0.1\n"
     ]
    },
    {
     "name": "stderr",
     "output_type": "stream",
     "text": [
      " 79%|████████████████████████████████████████████████████████████████████████████████████████████████████████████▋                             | 788/1000 [09:06<02:26,  1.45it/s]"
     ]
    },
    {
     "name": "stdout",
     "output_type": "stream",
     "text": [
      "round : 788/1000 result lose, explore_rate 0.1\n"
     ]
    },
    {
     "name": "stderr",
     "output_type": "stream",
     "text": [
      " 79%|████████████████████████████████████████████████████████████████████████████████████████████████████████████▉                             | 789/1000 [09:07<02:18,  1.53it/s]"
     ]
    },
    {
     "name": "stdout",
     "output_type": "stream",
     "text": [
      "round : 789/1000 result lose, explore_rate 0.1\n"
     ]
    },
    {
     "name": "stderr",
     "output_type": "stream",
     "text": [
      " 79%|█████████████████████████████████████████████████████████████████████████████████████████████████████████████                             | 790/1000 [09:07<02:22,  1.47it/s]"
     ]
    },
    {
     "name": "stdout",
     "output_type": "stream",
     "text": [
      "round : 790/1000 result lose, explore_rate 0.1\n"
     ]
    },
    {
     "name": "stderr",
     "output_type": "stream",
     "text": [
      " 79%|█████████████████████████████████████████████████████████████████████████████████████████████████████████████▏                            | 791/1000 [09:08<02:16,  1.53it/s]"
     ]
    },
    {
     "name": "stdout",
     "output_type": "stream",
     "text": [
      "round : 791/1000 result lose, explore_rate 0.1\n"
     ]
    },
    {
     "name": "stderr",
     "output_type": "stream",
     "text": [
      " 79%|█████████████████████████████████████████████████████████████████████████████████████████████████████████████▎                            | 792/1000 [09:08<02:13,  1.56it/s]"
     ]
    },
    {
     "name": "stdout",
     "output_type": "stream",
     "text": [
      "round : 792/1000 result lose, explore_rate 0.1\n"
     ]
    },
    {
     "name": "stderr",
     "output_type": "stream",
     "text": [
      " 79%|█████████████████████████████████████████████████████████████████████████████████████████████████████████████▍                            | 793/1000 [09:09<02:08,  1.61it/s]"
     ]
    },
    {
     "name": "stdout",
     "output_type": "stream",
     "text": [
      "round : 793/1000 result lose, explore_rate 0.1\n"
     ]
    },
    {
     "name": "stderr",
     "output_type": "stream",
     "text": [
      " 79%|█████████████████████████████████████████████████████████████████████████████████████████████████████████████▌                            | 794/1000 [09:10<02:12,  1.55it/s]"
     ]
    },
    {
     "name": "stdout",
     "output_type": "stream",
     "text": [
      "round : 794/1000 result lose, explore_rate 0.1\n"
     ]
    },
    {
     "name": "stderr",
     "output_type": "stream",
     "text": [
      " 80%|█████████████████████████████████████████████████████████████████████████████████████████████████████████████▋                            | 795/1000 [09:10<02:18,  1.48it/s]"
     ]
    },
    {
     "name": "stdout",
     "output_type": "stream",
     "text": [
      "round : 795/1000 result lose, explore_rate 0.1\n"
     ]
    },
    {
     "name": "stderr",
     "output_type": "stream",
     "text": [
      " 80%|█████████████████████████████████████████████████████████████████████████████████████████████████████████████▊                            | 796/1000 [09:11<02:16,  1.50it/s]"
     ]
    },
    {
     "name": "stdout",
     "output_type": "stream",
     "text": [
      "round : 796/1000 result lose, explore_rate 0.1\n"
     ]
    },
    {
     "name": "stderr",
     "output_type": "stream",
     "text": [
      " 80%|█████████████████████████████████████████████████████████████████████████████████████████████████████████████▉                            | 797/1000 [09:12<02:15,  1.49it/s]"
     ]
    },
    {
     "name": "stdout",
     "output_type": "stream",
     "text": [
      "round : 797/1000 result lose, explore_rate 0.1\n"
     ]
    },
    {
     "name": "stderr",
     "output_type": "stream",
     "text": [
      " 80%|██████████████████████████████████████████████████████████████████████████████████████████████████████████████                            | 798/1000 [09:13<02:18,  1.45it/s]"
     ]
    },
    {
     "name": "stdout",
     "output_type": "stream",
     "text": [
      "round : 798/1000 result lose, explore_rate 0.1\n"
     ]
    },
    {
     "name": "stderr",
     "output_type": "stream",
     "text": [
      " 80%|██████████████████████████████████████████████████████████████████████████████████████████████████████████████▎                           | 799/1000 [09:13<02:15,  1.48it/s]"
     ]
    },
    {
     "name": "stdout",
     "output_type": "stream",
     "text": [
      "round : 799/1000 result lose, explore_rate 0.1\n"
     ]
    },
    {
     "name": "stderr",
     "output_type": "stream",
     "text": [
      " 80%|██████████████████████████████████████████████████████████████████████████████████████████████████████████████▍                           | 800/1000 [09:14<02:19,  1.44it/s]"
     ]
    },
    {
     "name": "stdout",
     "output_type": "stream",
     "text": [
      "round : 800/1000 result lose, explore_rate 0.1\n"
     ]
    },
    {
     "name": "stderr",
     "output_type": "stream",
     "text": [
      " 80%|██████████████████████████████████████████████████████████████████████████████████████████████████████████████▌                           | 801/1000 [09:15<02:23,  1.39it/s]"
     ]
    },
    {
     "name": "stdout",
     "output_type": "stream",
     "text": [
      "round : 801/1000 result lose, explore_rate 0.1\n"
     ]
    },
    {
     "name": "stderr",
     "output_type": "stream",
     "text": [
      " 80%|██████████████████████████████████████████████████████████████████████████████████████████████████████████████▋                           | 802/1000 [09:16<02:30,  1.32it/s]"
     ]
    },
    {
     "name": "stdout",
     "output_type": "stream",
     "text": [
      "round : 802/1000 result lose, explore_rate 0.1\n"
     ]
    },
    {
     "name": "stderr",
     "output_type": "stream",
     "text": [
      " 80%|██████████████████████████████████████████████████████████████████████████████████████████████████████████████▊                           | 803/1000 [09:16<02:34,  1.28it/s]"
     ]
    },
    {
     "name": "stdout",
     "output_type": "stream",
     "text": [
      "round : 803/1000 result lose, explore_rate 0.1\n"
     ]
    },
    {
     "name": "stderr",
     "output_type": "stream",
     "text": [
      " 80%|██████████████████████████████████████████████████████████████████████████████████████████████████████████████▉                           | 804/1000 [09:17<02:29,  1.31it/s]"
     ]
    },
    {
     "name": "stdout",
     "output_type": "stream",
     "text": [
      "round : 804/1000 result lose, explore_rate 0.1\n"
     ]
    },
    {
     "name": "stderr",
     "output_type": "stream",
     "text": [
      " 80%|███████████████████████████████████████████████████████████████████████████████████████████████████████████████                           | 805/1000 [09:18<02:29,  1.30it/s]"
     ]
    },
    {
     "name": "stdout",
     "output_type": "stream",
     "text": [
      "round : 805/1000 result lose, explore_rate 0.1\n"
     ]
    },
    {
     "name": "stderr",
     "output_type": "stream",
     "text": [
      " 81%|███████████████████████████████████████████████████████████████████████████████████████████████████████████████▏                          | 806/1000 [09:19<02:22,  1.37it/s]"
     ]
    },
    {
     "name": "stdout",
     "output_type": "stream",
     "text": [
      "round : 806/1000 result lose, explore_rate 0.1\n"
     ]
    },
    {
     "name": "stderr",
     "output_type": "stream",
     "text": [
      " 81%|███████████████████████████████████████████████████████████████████████████████████████████████████████████████▎                          | 807/1000 [09:19<02:15,  1.43it/s]"
     ]
    },
    {
     "name": "stdout",
     "output_type": "stream",
     "text": [
      "round : 807/1000 result lose, explore_rate 0.1\n"
     ]
    },
    {
     "name": "stderr",
     "output_type": "stream",
     "text": [
      " 81%|███████████████████████████████████████████████████████████████████████████████████████████████████████████████▌                          | 808/1000 [09:20<02:18,  1.38it/s]"
     ]
    },
    {
     "name": "stdout",
     "output_type": "stream",
     "text": [
      "round : 808/1000 result lose, explore_rate 0.1\n"
     ]
    },
    {
     "name": "stderr",
     "output_type": "stream",
     "text": [
      " 81%|███████████████████████████████████████████████████████████████████████████████████████████████████████████████▋                          | 809/1000 [09:20<02:08,  1.48it/s]"
     ]
    },
    {
     "name": "stdout",
     "output_type": "stream",
     "text": [
      "round : 809/1000 result lose, explore_rate 0.1\n"
     ]
    },
    {
     "name": "stderr",
     "output_type": "stream",
     "text": [
      " 81%|███████████████████████████████████████████████████████████████████████████████████████████████████████████████▊                          | 810/1000 [09:21<02:19,  1.37it/s]"
     ]
    },
    {
     "name": "stdout",
     "output_type": "stream",
     "text": [
      "round : 810/1000 result lose, explore_rate 0.1\n"
     ]
    },
    {
     "name": "stderr",
     "output_type": "stream",
     "text": [
      " 81%|███████████████████████████████████████████████████████████████████████████████████████████████████████████████▉                          | 811/1000 [09:22<02:09,  1.46it/s]"
     ]
    },
    {
     "name": "stdout",
     "output_type": "stream",
     "text": [
      "round : 811/1000 result lose, explore_rate 0.1\n"
     ]
    },
    {
     "name": "stderr",
     "output_type": "stream",
     "text": [
      " 81%|████████████████████████████████████████████████████████████████████████████████████████████████████████████████                          | 812/1000 [09:23<02:33,  1.23it/s]"
     ]
    },
    {
     "name": "stdout",
     "output_type": "stream",
     "text": [
      "round : 812/1000 result lose, explore_rate 0.1\n"
     ]
    },
    {
     "name": "stderr",
     "output_type": "stream",
     "text": [
      " 81%|████████████████████████████████████████████████████████████████████████████████████████████████████████████████▏                         | 813/1000 [09:24<02:46,  1.12it/s]"
     ]
    },
    {
     "name": "stdout",
     "output_type": "stream",
     "text": [
      "round : 813/1000 result lose, explore_rate 0.1\n"
     ]
    },
    {
     "name": "stderr",
     "output_type": "stream",
     "text": [
      " 81%|████████████████████████████████████████████████████████████████████████████████████████████████████████████████▎                         | 814/1000 [09:25<02:35,  1.19it/s]"
     ]
    },
    {
     "name": "stdout",
     "output_type": "stream",
     "text": [
      "round : 814/1000 result lose, explore_rate 0.1\n"
     ]
    },
    {
     "name": "stderr",
     "output_type": "stream",
     "text": [
      " 82%|████████████████████████████████████████████████████████████████████████████████████████████████████████████████▍                         | 815/1000 [09:26<02:27,  1.26it/s]"
     ]
    },
    {
     "name": "stdout",
     "output_type": "stream",
     "text": [
      "round : 815/1000 result lose, explore_rate 0.1\n"
     ]
    },
    {
     "name": "stderr",
     "output_type": "stream",
     "text": [
      " 82%|████████████████████████████████████████████████████████████████████████████████████████████████████████████████▌                         | 816/1000 [09:26<02:15,  1.36it/s]"
     ]
    },
    {
     "name": "stdout",
     "output_type": "stream",
     "text": [
      "round : 816/1000 result lose, explore_rate 0.1\n"
     ]
    },
    {
     "name": "stderr",
     "output_type": "stream",
     "text": [
      " 82%|████████████████████████████████████████████████████████████████████████████████████████████████████████████████▋                         | 817/1000 [09:27<02:18,  1.32it/s]"
     ]
    },
    {
     "name": "stdout",
     "output_type": "stream",
     "text": [
      "round : 817/1000 result lose, explore_rate 0.1\n"
     ]
    },
    {
     "name": "stderr",
     "output_type": "stream",
     "text": [
      " 82%|████████████████████████████████████████████████████████████████████████████████████████████████████████████████▉                         | 818/1000 [09:28<02:17,  1.32it/s]"
     ]
    },
    {
     "name": "stdout",
     "output_type": "stream",
     "text": [
      "round : 818/1000 result lose, explore_rate 0.1\n"
     ]
    },
    {
     "name": "stderr",
     "output_type": "stream",
     "text": [
      " 82%|█████████████████████████████████████████████████████████████████████████████████████████████████████████████████                         | 819/1000 [09:29<02:25,  1.24it/s]"
     ]
    },
    {
     "name": "stdout",
     "output_type": "stream",
     "text": [
      "round : 819/1000 result lose, explore_rate 0.1\n"
     ]
    },
    {
     "name": "stderr",
     "output_type": "stream",
     "text": [
      " 82%|█████████████████████████████████████████████████████████████████████████████████████████████████████████████████▏                        | 820/1000 [09:30<02:30,  1.20it/s]"
     ]
    },
    {
     "name": "stdout",
     "output_type": "stream",
     "text": [
      "round : 820/1000 result lose, explore_rate 0.1\n"
     ]
    },
    {
     "name": "stderr",
     "output_type": "stream",
     "text": [
      " 82%|█████████████████████████████████████████████████████████████████████████████████████████████████████████████████▎                        | 821/1000 [09:30<02:27,  1.21it/s]"
     ]
    },
    {
     "name": "stdout",
     "output_type": "stream",
     "text": [
      "round : 821/1000 result lose, explore_rate 0.1\n"
     ]
    },
    {
     "name": "stderr",
     "output_type": "stream",
     "text": [
      " 82%|█████████████████████████████████████████████████████████████████████████████████████████████████████████████████▍                        | 822/1000 [09:31<02:27,  1.21it/s]"
     ]
    },
    {
     "name": "stdout",
     "output_type": "stream",
     "text": [
      "round : 822/1000 result lose, explore_rate 0.1\n"
     ]
    },
    {
     "name": "stderr",
     "output_type": "stream",
     "text": [
      " 82%|█████████████████████████████████████████████████████████████████████████████████████████████████████████████████▌                        | 823/1000 [09:32<02:22,  1.24it/s]"
     ]
    },
    {
     "name": "stdout",
     "output_type": "stream",
     "text": [
      "round : 823/1000 result lose, explore_rate 0.1\n"
     ]
    },
    {
     "name": "stderr",
     "output_type": "stream",
     "text": [
      " 82%|█████████████████████████████████████████████████████████████████████████████████████████████████████████████████▋                        | 824/1000 [09:33<02:28,  1.18it/s]"
     ]
    },
    {
     "name": "stdout",
     "output_type": "stream",
     "text": [
      "round : 824/1000 result lose, explore_rate 0.1\n"
     ]
    },
    {
     "name": "stderr",
     "output_type": "stream",
     "text": [
      " 82%|█████████████████████████████████████████████████████████████████████████████████████████████████████████████████▊                        | 825/1000 [09:33<02:12,  1.32it/s]"
     ]
    },
    {
     "name": "stdout",
     "output_type": "stream",
     "text": [
      "round : 825/1000 result lose, explore_rate 0.1\n"
     ]
    },
    {
     "name": "stderr",
     "output_type": "stream",
     "text": [
      " 83%|█████████████████████████████████████████████████████████████████████████████████████████████████████████████████▉                        | 826/1000 [09:34<02:08,  1.35it/s]"
     ]
    },
    {
     "name": "stdout",
     "output_type": "stream",
     "text": [
      "round : 826/1000 result lose, explore_rate 0.1\n"
     ]
    },
    {
     "name": "stderr",
     "output_type": "stream",
     "text": [
      " 83%|██████████████████████████████████████████████████████████████████████████████████████████████████████████████████▏                       | 827/1000 [09:35<01:56,  1.48it/s]"
     ]
    },
    {
     "name": "stdout",
     "output_type": "stream",
     "text": [
      "round : 827/1000 result lose, explore_rate 0.1\n"
     ]
    },
    {
     "name": "stderr",
     "output_type": "stream",
     "text": [
      " 83%|██████████████████████████████████████████████████████████████████████████████████████████████████████████████████▎                       | 828/1000 [09:36<02:18,  1.24it/s]"
     ]
    },
    {
     "name": "stdout",
     "output_type": "stream",
     "text": [
      "round : 828/1000 result lose, explore_rate 0.1\n"
     ]
    },
    {
     "name": "stderr",
     "output_type": "stream",
     "text": [
      " 83%|██████████████████████████████████████████████████████████████████████████████████████████████████████████████████▍                       | 829/1000 [09:36<02:04,  1.37it/s]"
     ]
    },
    {
     "name": "stdout",
     "output_type": "stream",
     "text": [
      "round : 829/1000 result lose, explore_rate 0.1\n"
     ]
    },
    {
     "name": "stderr",
     "output_type": "stream",
     "text": [
      " 83%|██████████████████████████████████████████████████████████████████████████████████████████████████████████████████▌                       | 830/1000 [09:37<01:57,  1.45it/s]"
     ]
    },
    {
     "name": "stdout",
     "output_type": "stream",
     "text": [
      "round : 830/1000 result lose, explore_rate 0.1\n"
     ]
    },
    {
     "name": "stderr",
     "output_type": "stream",
     "text": [
      " 83%|██████████████████████████████████████████████████████████████████████████████████████████████████████████████████▋                       | 831/1000 [09:38<01:54,  1.47it/s]"
     ]
    },
    {
     "name": "stdout",
     "output_type": "stream",
     "text": [
      "round : 831/1000 result lose, explore_rate 0.1\n"
     ]
    },
    {
     "name": "stderr",
     "output_type": "stream",
     "text": [
      " 83%|██████████████████████████████████████████████████████████████████████████████████████████████████████████████████▊                       | 832/1000 [09:38<02:08,  1.30it/s]"
     ]
    },
    {
     "name": "stdout",
     "output_type": "stream",
     "text": [
      "round : 832/1000 result lose, explore_rate 0.1\n"
     ]
    },
    {
     "name": "stderr",
     "output_type": "stream",
     "text": [
      " 83%|██████████████████████████████████████████████████████████████████████████████████████████████████████████████████▉                       | 833/1000 [09:39<02:00,  1.39it/s]"
     ]
    },
    {
     "name": "stdout",
     "output_type": "stream",
     "text": [
      "round : 833/1000 result lose, explore_rate 0.1\n"
     ]
    },
    {
     "name": "stderr",
     "output_type": "stream",
     "text": [
      " 83%|███████████████████████████████████████████████████████████████████████████████████████████████████████████████████                       | 834/1000 [09:40<01:52,  1.48it/s]"
     ]
    },
    {
     "name": "stdout",
     "output_type": "stream",
     "text": [
      "round : 834/1000 result lose, explore_rate 0.1\n"
     ]
    },
    {
     "name": "stderr",
     "output_type": "stream",
     "text": [
      " 84%|███████████████████████████████████████████████████████████████████████████████████████████████████████████████████▏                      | 835/1000 [09:40<01:55,  1.43it/s]"
     ]
    },
    {
     "name": "stdout",
     "output_type": "stream",
     "text": [
      "round : 835/1000 result lose, explore_rate 0.1\n"
     ]
    },
    {
     "name": "stderr",
     "output_type": "stream",
     "text": [
      " 84%|███████████████████████████████████████████████████████████████████████████████████████████████████████████████████▎                      | 836/1000 [09:41<01:44,  1.58it/s]"
     ]
    },
    {
     "name": "stdout",
     "output_type": "stream",
     "text": [
      "round : 836/1000 result lose, explore_rate 0.1\n"
     ]
    },
    {
     "name": "stderr",
     "output_type": "stream",
     "text": [
      " 84%|███████████████████████████████████████████████████████████████████████████████████████████████████████████████████▌                      | 837/1000 [09:42<01:43,  1.58it/s]"
     ]
    },
    {
     "name": "stdout",
     "output_type": "stream",
     "text": [
      "round : 837/1000 result lose, explore_rate 0.1\n"
     ]
    },
    {
     "name": "stderr",
     "output_type": "stream",
     "text": [
      " 84%|███████████████████████████████████████████████████████████████████████████████████████████████████████████████████▋                      | 838/1000 [09:42<01:45,  1.53it/s]"
     ]
    },
    {
     "name": "stdout",
     "output_type": "stream",
     "text": [
      "round : 838/1000 result lose, explore_rate 0.1\n"
     ]
    },
    {
     "name": "stderr",
     "output_type": "stream",
     "text": [
      " 84%|███████████████████████████████████████████████████████████████████████████████████████████████████████████████████▊                      | 839/1000 [09:43<01:41,  1.59it/s]"
     ]
    },
    {
     "name": "stdout",
     "output_type": "stream",
     "text": [
      "round : 839/1000 result lose, explore_rate 0.1\n"
     ]
    },
    {
     "name": "stderr",
     "output_type": "stream",
     "text": [
      " 84%|███████████████████████████████████████████████████████████████████████████████████████████████████████████████████▉                      | 840/1000 [09:43<01:39,  1.60it/s]"
     ]
    },
    {
     "name": "stdout",
     "output_type": "stream",
     "text": [
      "round : 840/1000 result lose, explore_rate 0.1\n"
     ]
    },
    {
     "name": "stderr",
     "output_type": "stream",
     "text": [
      " 84%|████████████████████████████████████████████████████████████████████████████████████████████████████████████████████                      | 841/1000 [09:44<01:41,  1.57it/s]"
     ]
    },
    {
     "name": "stdout",
     "output_type": "stream",
     "text": [
      "round : 841/1000 result lose, explore_rate 0.1\n"
     ]
    },
    {
     "name": "stderr",
     "output_type": "stream",
     "text": [
      " 84%|████████████████████████████████████████████████████████████████████████████████████████████████████████████████████▏                     | 842/1000 [09:45<01:44,  1.52it/s]"
     ]
    },
    {
     "name": "stdout",
     "output_type": "stream",
     "text": [
      "round : 842/1000 result lose, explore_rate 0.1\n"
     ]
    },
    {
     "name": "stderr",
     "output_type": "stream",
     "text": [
      " 84%|████████████████████████████████████████████████████████████████████████████████████████████████████████████████████▎                     | 843/1000 [09:46<01:47,  1.46it/s]"
     ]
    },
    {
     "name": "stdout",
     "output_type": "stream",
     "text": [
      "round : 843/1000 result lose, explore_rate 0.1\n"
     ]
    },
    {
     "name": "stderr",
     "output_type": "stream",
     "text": [
      " 84%|████████████████████████████████████████████████████████████████████████████████████████████████████████████████████▍                     | 844/1000 [09:46<01:48,  1.43it/s]"
     ]
    },
    {
     "name": "stdout",
     "output_type": "stream",
     "text": [
      "round : 844/1000 result lose, explore_rate 0.1\n"
     ]
    },
    {
     "name": "stderr",
     "output_type": "stream",
     "text": [
      " 84%|████████████████████████████████████████████████████████████████████████████████████████████████████████████████████▌                     | 845/1000 [09:47<01:44,  1.49it/s]"
     ]
    },
    {
     "name": "stdout",
     "output_type": "stream",
     "text": [
      "round : 845/1000 result lose, explore_rate 0.1\n"
     ]
    },
    {
     "name": "stderr",
     "output_type": "stream",
     "text": [
      " 85%|████████████████████████████████████████████████████████████████████████████████████████████████████████████████████▋                     | 846/1000 [09:48<01:45,  1.45it/s]"
     ]
    },
    {
     "name": "stdout",
     "output_type": "stream",
     "text": [
      "round : 846/1000 result lose, explore_rate 0.1\n"
     ]
    },
    {
     "name": "stderr",
     "output_type": "stream",
     "text": [
      " 85%|████████████████████████████████████████████████████████████████████████████████████████████████████████████████████▉                     | 847/1000 [09:48<01:46,  1.44it/s]"
     ]
    },
    {
     "name": "stdout",
     "output_type": "stream",
     "text": [
      "round : 847/1000 result lose, explore_rate 0.1\n"
     ]
    },
    {
     "name": "stderr",
     "output_type": "stream",
     "text": [
      " 85%|█████████████████████████████████████████████████████████████████████████████████████████████████████████████████████                     | 848/1000 [09:49<01:45,  1.44it/s]"
     ]
    },
    {
     "name": "stdout",
     "output_type": "stream",
     "text": [
      "round : 848/1000 result lose, explore_rate 0.1\n"
     ]
    },
    {
     "name": "stderr",
     "output_type": "stream",
     "text": [
      " 85%|█████████████████████████████████████████████████████████████████████████████████████████████████████████████████████▏                    | 849/1000 [09:50<01:52,  1.35it/s]"
     ]
    },
    {
     "name": "stdout",
     "output_type": "stream",
     "text": [
      "round : 849/1000 result lose, explore_rate 0.1\n"
     ]
    },
    {
     "name": "stderr",
     "output_type": "stream",
     "text": [
      " 85%|█████████████████████████████████████████████████████████████████████████████████████████████████████████████████████▎                    | 850/1000 [09:51<01:47,  1.40it/s]"
     ]
    },
    {
     "name": "stdout",
     "output_type": "stream",
     "text": [
      "round : 850/1000 result lose, explore_rate 0.1\n"
     ]
    },
    {
     "name": "stderr",
     "output_type": "stream",
     "text": [
      " 85%|█████████████████████████████████████████████████████████████████████████████████████████████████████████████████████▍                    | 851/1000 [09:51<01:51,  1.33it/s]"
     ]
    },
    {
     "name": "stdout",
     "output_type": "stream",
     "text": [
      "round : 851/1000 result lose, explore_rate 0.1\n"
     ]
    },
    {
     "name": "stderr",
     "output_type": "stream",
     "text": [
      " 85%|█████████████████████████████████████████████████████████████████████████████████████████████████████████████████████▌                    | 852/1000 [09:52<01:51,  1.33it/s]"
     ]
    },
    {
     "name": "stdout",
     "output_type": "stream",
     "text": [
      "round : 852/1000 result lose, explore_rate 0.1\n"
     ]
    },
    {
     "name": "stderr",
     "output_type": "stream",
     "text": [
      " 85%|█████████████████████████████████████████████████████████████████████████████████████████████████████████████████████▋                    | 853/1000 [09:53<02:00,  1.22it/s]"
     ]
    },
    {
     "name": "stdout",
     "output_type": "stream",
     "text": [
      "round : 853/1000 result lose, explore_rate 0.1\n"
     ]
    },
    {
     "name": "stderr",
     "output_type": "stream",
     "text": [
      " 85%|█████████████████████████████████████████████████████████████████████████████████████████████████████████████████████▊                    | 854/1000 [09:54<01:55,  1.26it/s]"
     ]
    },
    {
     "name": "stdout",
     "output_type": "stream",
     "text": [
      "round : 854/1000 result lose, explore_rate 0.1\n"
     ]
    },
    {
     "name": "stderr",
     "output_type": "stream",
     "text": [
      " 86%|█████████████████████████████████████████████████████████████████████████████████████████████████████████████████████▉                    | 855/1000 [09:54<01:47,  1.35it/s]"
     ]
    },
    {
     "name": "stdout",
     "output_type": "stream",
     "text": [
      "round : 855/1000 result lose, explore_rate 0.1\n"
     ]
    },
    {
     "name": "stderr",
     "output_type": "stream",
     "text": [
      " 86%|██████████████████████████████████████████████████████████████████████████████████████████████████████████████████████▏                   | 856/1000 [09:56<02:07,  1.13it/s]"
     ]
    },
    {
     "name": "stdout",
     "output_type": "stream",
     "text": [
      "round : 856/1000 result lose, explore_rate 0.1\n"
     ]
    },
    {
     "name": "stderr",
     "output_type": "stream",
     "text": [
      " 86%|██████████████████████████████████████████████████████████████████████████████████████████████████████████████████████▎                   | 857/1000 [09:57<02:08,  1.11it/s]"
     ]
    },
    {
     "name": "stdout",
     "output_type": "stream",
     "text": [
      "round : 857/1000 result lose, explore_rate 0.1\n"
     ]
    },
    {
     "name": "stderr",
     "output_type": "stream",
     "text": [
      " 86%|██████████████████████████████████████████████████████████████████████████████████████████████████████████████████████▍                   | 858/1000 [09:57<02:02,  1.16it/s]"
     ]
    },
    {
     "name": "stdout",
     "output_type": "stream",
     "text": [
      "round : 858/1000 result lose, explore_rate 0.1\n"
     ]
    },
    {
     "name": "stderr",
     "output_type": "stream",
     "text": [
      " 86%|██████████████████████████████████████████████████████████████████████████████████████████████████████████████████████▌                   | 859/1000 [09:58<01:57,  1.20it/s]"
     ]
    },
    {
     "name": "stdout",
     "output_type": "stream",
     "text": [
      "round : 859/1000 result lose, explore_rate 0.1\n"
     ]
    },
    {
     "name": "stderr",
     "output_type": "stream",
     "text": [
      " 86%|██████████████████████████████████████████████████████████████████████████████████████████████████████████████████████▋                   | 860/1000 [09:59<02:11,  1.06it/s]"
     ]
    },
    {
     "name": "stdout",
     "output_type": "stream",
     "text": [
      "round : 860/1000 result lose, explore_rate 0.1\n"
     ]
    },
    {
     "name": "stderr",
     "output_type": "stream",
     "text": [
      " 86%|██████████████████████████████████████████████████████████████████████████████████████████████████████████████████████▊                   | 861/1000 [10:00<02:11,  1.06it/s]"
     ]
    },
    {
     "name": "stdout",
     "output_type": "stream",
     "text": [
      "round : 861/1000 result lose, explore_rate 0.1\n"
     ]
    },
    {
     "name": "stderr",
     "output_type": "stream",
     "text": [
      " 86%|██████████████████████████████████████████████████████████████████████████████████████████████████████████████████████▉                   | 862/1000 [10:01<01:56,  1.18it/s]"
     ]
    },
    {
     "name": "stdout",
     "output_type": "stream",
     "text": [
      "round : 862/1000 result lose, explore_rate 0.1\n"
     ]
    },
    {
     "name": "stderr",
     "output_type": "stream",
     "text": [
      " 86%|███████████████████████████████████████████████████████████████████████████████████████████████████████████████████████                   | 863/1000 [10:02<01:54,  1.19it/s]"
     ]
    },
    {
     "name": "stdout",
     "output_type": "stream",
     "text": [
      "round : 863/1000 result lose, explore_rate 0.1\n"
     ]
    },
    {
     "name": "stderr",
     "output_type": "stream",
     "text": [
      " 86%|███████████████████████████████████████████████████████████████████████████████████████████████████████████████████████▏                  | 864/1000 [10:03<01:52,  1.21it/s]"
     ]
    },
    {
     "name": "stdout",
     "output_type": "stream",
     "text": [
      "round : 864/1000 result lose, explore_rate 0.1\n"
     ]
    },
    {
     "name": "stderr",
     "output_type": "stream",
     "text": [
      " 86%|███████████████████████████████████████████████████████████████████████████████████████████████████████████████████████▎                  | 865/1000 [10:03<01:51,  1.22it/s]"
     ]
    },
    {
     "name": "stdout",
     "output_type": "stream",
     "text": [
      "round : 865/1000 result lose, explore_rate 0.1\n"
     ]
    },
    {
     "name": "stderr",
     "output_type": "stream",
     "text": [
      " 87%|███████████████████████████████████████████████████████████████████████████████████████████████████████████████████████▌                  | 866/1000 [10:04<01:59,  1.12it/s]"
     ]
    },
    {
     "name": "stdout",
     "output_type": "stream",
     "text": [
      "round : 866/1000 result lose, explore_rate 0.1\n"
     ]
    },
    {
     "name": "stderr",
     "output_type": "stream",
     "text": [
      " 87%|███████████████████████████████████████████████████████████████████████████████████████████████████████████████████████▋                  | 867/1000 [10:05<01:46,  1.24it/s]"
     ]
    },
    {
     "name": "stdout",
     "output_type": "stream",
     "text": [
      "round : 867/1000 result lose, explore_rate 0.1\n"
     ]
    },
    {
     "name": "stderr",
     "output_type": "stream",
     "text": [
      " 87%|███████████████████████████████████████████████████████████████████████████████████████████████████████████████████████▊                  | 868/1000 [10:06<01:43,  1.28it/s]"
     ]
    },
    {
     "name": "stdout",
     "output_type": "stream",
     "text": [
      "round : 868/1000 result lose, explore_rate 0.1\n"
     ]
    },
    {
     "name": "stderr",
     "output_type": "stream",
     "text": [
      " 87%|███████████████████████████████████████████████████████████████████████████████████████████████████████████████████████▉                  | 869/1000 [10:06<01:30,  1.44it/s]"
     ]
    },
    {
     "name": "stdout",
     "output_type": "stream",
     "text": [
      "round : 869/1000 result lose, explore_rate 0.1\n"
     ]
    },
    {
     "name": "stderr",
     "output_type": "stream",
     "text": [
      " 87%|████████████████████████████████████████████████████████████████████████████████████████████████████████████████████████                  | 870/1000 [10:07<01:28,  1.46it/s]"
     ]
    },
    {
     "name": "stdout",
     "output_type": "stream",
     "text": [
      "round : 870/1000 result lose, explore_rate 0.1\n"
     ]
    },
    {
     "name": "stderr",
     "output_type": "stream",
     "text": [
      " 87%|████████████████████████████████████████████████████████████████████████████████████████████████████████████████████████▏                 | 871/1000 [10:07<01:24,  1.53it/s]"
     ]
    },
    {
     "name": "stdout",
     "output_type": "stream",
     "text": [
      "round : 871/1000 result lose, explore_rate 0.1\n"
     ]
    },
    {
     "name": "stderr",
     "output_type": "stream",
     "text": [
      " 87%|████████████████████████████████████████████████████████████████████████████████████████████████████████████████████████▎                 | 872/1000 [10:08<01:28,  1.44it/s]"
     ]
    },
    {
     "name": "stdout",
     "output_type": "stream",
     "text": [
      "round : 872/1000 result lose, explore_rate 0.1\n"
     ]
    },
    {
     "name": "stderr",
     "output_type": "stream",
     "text": [
      " 87%|████████████████████████████████████████████████████████████████████████████████████████████████████████████████████████▍                 | 873/1000 [10:09<01:30,  1.40it/s]"
     ]
    },
    {
     "name": "stdout",
     "output_type": "stream",
     "text": [
      "round : 873/1000 result lose, explore_rate 0.1\n"
     ]
    },
    {
     "name": "stderr",
     "output_type": "stream",
     "text": [
      " 87%|████████████████████████████████████████████████████████████████████████████████████████████████████████████████████████▌                 | 874/1000 [10:10<01:35,  1.32it/s]"
     ]
    },
    {
     "name": "stdout",
     "output_type": "stream",
     "text": [
      "round : 874/1000 result lose, explore_rate 0.1\n"
     ]
    },
    {
     "name": "stderr",
     "output_type": "stream",
     "text": [
      " 88%|████████████████████████████████████████████████████████████████████████████████████████████████████████████████████████▊                 | 875/1000 [10:11<01:32,  1.36it/s]"
     ]
    },
    {
     "name": "stdout",
     "output_type": "stream",
     "text": [
      "round : 875/1000 result lose, explore_rate 0.1\n"
     ]
    },
    {
     "name": "stderr",
     "output_type": "stream",
     "text": [
      " 88%|████████████████████████████████████████████████████████████████████████████████████████████████████████████████████████▉                 | 876/1000 [10:12<01:39,  1.24it/s]"
     ]
    },
    {
     "name": "stdout",
     "output_type": "stream",
     "text": [
      "round : 876/1000 result lose, explore_rate 0.1\n"
     ]
    },
    {
     "name": "stderr",
     "output_type": "stream",
     "text": [
      " 88%|█████████████████████████████████████████████████████████████████████████████████████████████████████████████████████████                 | 877/1000 [10:12<01:39,  1.24it/s]"
     ]
    },
    {
     "name": "stdout",
     "output_type": "stream",
     "text": [
      "round : 877/1000 result lose, explore_rate 0.1\n"
     ]
    },
    {
     "name": "stderr",
     "output_type": "stream",
     "text": [
      " 88%|█████████████████████████████████████████████████████████████████████████████████████████████████████████████████████████▏                | 878/1000 [10:13<01:35,  1.28it/s]"
     ]
    },
    {
     "name": "stdout",
     "output_type": "stream",
     "text": [
      "round : 878/1000 result lose, explore_rate 0.1\n"
     ]
    },
    {
     "name": "stderr",
     "output_type": "stream",
     "text": [
      " 88%|█████████████████████████████████████████████████████████████████████████████████████████████████████████████████████████▎                | 879/1000 [10:14<01:40,  1.20it/s]"
     ]
    },
    {
     "name": "stdout",
     "output_type": "stream",
     "text": [
      "round : 879/1000 result lose, explore_rate 0.1\n"
     ]
    },
    {
     "name": "stderr",
     "output_type": "stream",
     "text": [
      " 88%|█████████████████████████████████████████████████████████████████████████████████████████████████████████████████████████▍                | 880/1000 [10:15<01:36,  1.24it/s]"
     ]
    },
    {
     "name": "stdout",
     "output_type": "stream",
     "text": [
      "round : 880/1000 result lose, explore_rate 0.1\n"
     ]
    },
    {
     "name": "stderr",
     "output_type": "stream",
     "text": [
      " 88%|█████████████████████████████████████████████████████████████████████████████████████████████████████████████████████████▌                | 881/1000 [10:15<01:28,  1.35it/s]"
     ]
    },
    {
     "name": "stdout",
     "output_type": "stream",
     "text": [
      "round : 881/1000 result lose, explore_rate 0.1\n"
     ]
    },
    {
     "name": "stderr",
     "output_type": "stream",
     "text": [
      " 88%|█████████████████████████████████████████████████████████████████████████████████████████████████████████████████████████▋                | 882/1000 [10:16<01:24,  1.40it/s]"
     ]
    },
    {
     "name": "stdout",
     "output_type": "stream",
     "text": [
      "round : 882/1000 result lose, explore_rate 0.1\n"
     ]
    },
    {
     "name": "stderr",
     "output_type": "stream",
     "text": [
      " 88%|█████████████████████████████████████████████████████████████████████████████████████████████████████████████████████████▊                | 883/1000 [10:17<01:24,  1.38it/s]"
     ]
    },
    {
     "name": "stdout",
     "output_type": "stream",
     "text": [
      "round : 883/1000 result lose, explore_rate 0.1\n"
     ]
    },
    {
     "name": "stderr",
     "output_type": "stream",
     "text": [
      " 88%|█████████████████████████████████████████████████████████████████████████████████████████████████████████████████████████▉                | 884/1000 [10:18<01:28,  1.31it/s]"
     ]
    },
    {
     "name": "stdout",
     "output_type": "stream",
     "text": [
      "round : 884/1000 result lose, explore_rate 0.1\n"
     ]
    },
    {
     "name": "stderr",
     "output_type": "stream",
     "text": [
      " 88%|██████████████████████████████████████████████████████████████████████████████████████████████████████████████████████████▏               | 885/1000 [10:18<01:31,  1.25it/s]"
     ]
    },
    {
     "name": "stdout",
     "output_type": "stream",
     "text": [
      "round : 885/1000 result lose, explore_rate 0.1\n"
     ]
    },
    {
     "name": "stderr",
     "output_type": "stream",
     "text": [
      " 89%|██████████████████████████████████████████████████████████████████████████████████████████████████████████████████████████▎               | 886/1000 [10:19<01:30,  1.26it/s]"
     ]
    },
    {
     "name": "stdout",
     "output_type": "stream",
     "text": [
      "round : 886/1000 result lose, explore_rate 0.1\n"
     ]
    },
    {
     "name": "stderr",
     "output_type": "stream",
     "text": [
      " 89%|██████████████████████████████████████████████████████████████████████████████████████████████████████████████████████████▍               | 887/1000 [10:20<01:24,  1.33it/s]"
     ]
    },
    {
     "name": "stdout",
     "output_type": "stream",
     "text": [
      "round : 887/1000 result lose, explore_rate 0.1\n"
     ]
    },
    {
     "name": "stderr",
     "output_type": "stream",
     "text": [
      " 89%|██████████████████████████████████████████████████████████████████████████████████████████████████████████████████████████▌               | 888/1000 [10:20<01:17,  1.44it/s]"
     ]
    },
    {
     "name": "stdout",
     "output_type": "stream",
     "text": [
      "round : 888/1000 result lose, explore_rate 0.1\n"
     ]
    },
    {
     "name": "stderr",
     "output_type": "stream",
     "text": [
      " 89%|██████████████████████████████████████████████████████████████████████████████████████████████████████████████████████████▋               | 889/1000 [10:21<01:21,  1.36it/s]"
     ]
    },
    {
     "name": "stdout",
     "output_type": "stream",
     "text": [
      "round : 889/1000 result lose, explore_rate 0.1\n"
     ]
    },
    {
     "name": "stderr",
     "output_type": "stream",
     "text": [
      " 89%|██████████████████████████████████████████████████████████████████████████████████████████████████████████████████████████▊               | 890/1000 [10:22<01:13,  1.50it/s]"
     ]
    },
    {
     "name": "stdout",
     "output_type": "stream",
     "text": [
      "round : 890/1000 result lose, explore_rate 0.1\n"
     ]
    },
    {
     "name": "stderr",
     "output_type": "stream",
     "text": [
      " 89%|██████████████████████████████████████████████████████████████████████████████████████████████████████████████████████████▉               | 891/1000 [10:22<01:10,  1.54it/s]"
     ]
    },
    {
     "name": "stdout",
     "output_type": "stream",
     "text": [
      "round : 891/1000 result lose, explore_rate 0.1\n"
     ]
    },
    {
     "name": "stderr",
     "output_type": "stream",
     "text": [
      " 89%|███████████████████████████████████████████████████████████████████████████████████████████████████████████████████████████               | 892/1000 [10:23<01:09,  1.56it/s]"
     ]
    },
    {
     "name": "stdout",
     "output_type": "stream",
     "text": [
      "round : 892/1000 result lose, explore_rate 0.1\n"
     ]
    },
    {
     "name": "stderr",
     "output_type": "stream",
     "text": [
      " 89%|███████████████████████████████████████████████████████████████████████████████████████████████████████████████████████████▏              | 893/1000 [10:24<01:10,  1.52it/s]"
     ]
    },
    {
     "name": "stdout",
     "output_type": "stream",
     "text": [
      "round : 893/1000 result lose, explore_rate 0.1\n"
     ]
    },
    {
     "name": "stderr",
     "output_type": "stream",
     "text": [
      " 89%|███████████████████████████████████████████████████████████████████████████████████████████████████████████████████████████▎              | 894/1000 [10:25<01:15,  1.40it/s]"
     ]
    },
    {
     "name": "stdout",
     "output_type": "stream",
     "text": [
      "round : 894/1000 result lose, explore_rate 0.1\n"
     ]
    },
    {
     "name": "stderr",
     "output_type": "stream",
     "text": [
      " 90%|███████████████████████████████████████████████████████████████████████████████████████████████████████████████████████████▌              | 895/1000 [10:25<01:17,  1.35it/s]"
     ]
    },
    {
     "name": "stdout",
     "output_type": "stream",
     "text": [
      "round : 895/1000 result lose, explore_rate 0.1\n"
     ]
    },
    {
     "name": "stderr",
     "output_type": "stream",
     "text": [
      " 90%|███████████████████████████████████████████████████████████████████████████████████████████████████████████████████████████▋              | 896/1000 [10:26<01:15,  1.38it/s]"
     ]
    },
    {
     "name": "stdout",
     "output_type": "stream",
     "text": [
      "round : 896/1000 result lose, explore_rate 0.1\n"
     ]
    },
    {
     "name": "stderr",
     "output_type": "stream",
     "text": [
      " 90%|███████████████████████████████████████████████████████████████████████████████████████████████████████████████████████████▊              | 897/1000 [10:27<01:11,  1.44it/s]"
     ]
    },
    {
     "name": "stdout",
     "output_type": "stream",
     "text": [
      "round : 897/1000 result lose, explore_rate 0.1\n"
     ]
    },
    {
     "name": "stderr",
     "output_type": "stream",
     "text": [
      " 90%|███████████████████████████████████████████████████████████████████████████████████████████████████████████████████████████▉              | 898/1000 [10:27<01:11,  1.43it/s]"
     ]
    },
    {
     "name": "stdout",
     "output_type": "stream",
     "text": [
      "round : 898/1000 result lose, explore_rate 0.1\n"
     ]
    },
    {
     "name": "stderr",
     "output_type": "stream",
     "text": [
      " 90%|████████████████████████████████████████████████████████████████████████████████████████████████████████████████████████████              | 899/1000 [10:28<01:07,  1.49it/s]"
     ]
    },
    {
     "name": "stdout",
     "output_type": "stream",
     "text": [
      "round : 899/1000 result lose, explore_rate 0.1\n"
     ]
    },
    {
     "name": "stderr",
     "output_type": "stream",
     "text": [
      " 90%|████████████████████████████████████████████████████████████████████████████████████████████████████████████████████████████▏             | 900/1000 [10:29<01:05,  1.52it/s]"
     ]
    },
    {
     "name": "stdout",
     "output_type": "stream",
     "text": [
      "round : 900/1000 result lose, explore_rate 0.1\n"
     ]
    },
    {
     "name": "stderr",
     "output_type": "stream",
     "text": [
      " 90%|████████████████████████████████████████████████████████████████████████████████████████████████████████████████████████████▎             | 901/1000 [10:29<01:06,  1.49it/s]"
     ]
    },
    {
     "name": "stdout",
     "output_type": "stream",
     "text": [
      "round : 901/1000 result lose, explore_rate 0.1\n"
     ]
    },
    {
     "name": "stderr",
     "output_type": "stream",
     "text": [
      " 90%|████████████████████████████████████████████████████████████████████████████████████████████████████████████████████████████▍             | 902/1000 [10:30<01:09,  1.42it/s]"
     ]
    },
    {
     "name": "stdout",
     "output_type": "stream",
     "text": [
      "round : 902/1000 result lose, explore_rate 0.1\n"
     ]
    },
    {
     "name": "stderr",
     "output_type": "stream",
     "text": [
      " 90%|████████████████████████████████████████████████████████████████████████████████████████████████████████████████████████████▌             | 903/1000 [10:31<01:08,  1.41it/s]"
     ]
    },
    {
     "name": "stdout",
     "output_type": "stream",
     "text": [
      "round : 903/1000 result lose, explore_rate 0.1\n"
     ]
    },
    {
     "name": "stderr",
     "output_type": "stream",
     "text": [
      " 90%|████████████████████████████████████████████████████████████████████████████████████████████████████████████████████████████▊             | 904/1000 [10:32<01:08,  1.39it/s]"
     ]
    },
    {
     "name": "stdout",
     "output_type": "stream",
     "text": [
      "round : 904/1000 result lose, explore_rate 0.1\n"
     ]
    },
    {
     "name": "stderr",
     "output_type": "stream",
     "text": [
      " 90%|████████████████████████████████████████████████████████████████████████████████████████████████████████████████████████████▉             | 905/1000 [10:32<01:06,  1.42it/s]"
     ]
    },
    {
     "name": "stdout",
     "output_type": "stream",
     "text": [
      "round : 905/1000 result lose, explore_rate 0.1\n"
     ]
    },
    {
     "name": "stderr",
     "output_type": "stream",
     "text": [
      " 91%|█████████████████████████████████████████████████████████████████████████████████████████████████████████████████████████████             | 906/1000 [10:33<01:02,  1.50it/s]"
     ]
    },
    {
     "name": "stdout",
     "output_type": "stream",
     "text": [
      "round : 906/1000 result lose, explore_rate 0.1\n"
     ]
    },
    {
     "name": "stderr",
     "output_type": "stream",
     "text": [
      " 91%|█████████████████████████████████████████████████████████████████████████████████████████████████████████████████████████████▏            | 907/1000 [10:34<01:18,  1.19it/s]"
     ]
    },
    {
     "name": "stdout",
     "output_type": "stream",
     "text": [
      "round : 907/1000 result lose, explore_rate 0.1\n"
     ]
    },
    {
     "name": "stderr",
     "output_type": "stream",
     "text": [
      " 91%|█████████████████████████████████████████████████████████████████████████████████████████████████████████████████████████████▎            | 908/1000 [10:35<01:10,  1.30it/s]"
     ]
    },
    {
     "name": "stdout",
     "output_type": "stream",
     "text": [
      "round : 908/1000 result lose, explore_rate 0.1\n"
     ]
    },
    {
     "name": "stderr",
     "output_type": "stream",
     "text": [
      " 91%|█████████████████████████████████████████████████████████████████████████████████████████████████████████████████████████████▍            | 909/1000 [10:36<01:16,  1.19it/s]"
     ]
    },
    {
     "name": "stdout",
     "output_type": "stream",
     "text": [
      "round : 909/1000 result lose, explore_rate 0.1\n"
     ]
    },
    {
     "name": "stderr",
     "output_type": "stream",
     "text": [
      " 91%|█████████████████████████████████████████████████████████████████████████████████████████████████████████████████████████████▌            | 910/1000 [10:37<01:17,  1.15it/s]"
     ]
    },
    {
     "name": "stdout",
     "output_type": "stream",
     "text": [
      "round : 910/1000 result lose, explore_rate 0.1\n"
     ]
    },
    {
     "name": "stderr",
     "output_type": "stream",
     "text": [
      " 91%|█████████████████████████████████████████████████████████████████████████████████████████████████████████████████████████████▋            | 911/1000 [10:37<01:15,  1.18it/s]"
     ]
    },
    {
     "name": "stdout",
     "output_type": "stream",
     "text": [
      "round : 911/1000 result lose, explore_rate 0.1\n"
     ]
    },
    {
     "name": "stderr",
     "output_type": "stream",
     "text": [
      " 91%|█████████████████████████████████████████████████████████████████████████████████████████████████████████████████████████████▊            | 912/1000 [10:38<01:07,  1.30it/s]"
     ]
    },
    {
     "name": "stdout",
     "output_type": "stream",
     "text": [
      "round : 912/1000 result lose, explore_rate 0.1\n"
     ]
    },
    {
     "name": "stderr",
     "output_type": "stream",
     "text": [
      " 91%|█████████████████████████████████████████████████████████████████████████████████████████████████████████████████████████████▉            | 913/1000 [10:39<01:05,  1.33it/s]"
     ]
    },
    {
     "name": "stdout",
     "output_type": "stream",
     "text": [
      "round : 913/1000 result lose, explore_rate 0.1\n"
     ]
    },
    {
     "name": "stderr",
     "output_type": "stream",
     "text": [
      " 91%|██████████████████████████████████████████████████████████████████████████████████████████████████████████████████████████████▏           | 914/1000 [10:39<01:00,  1.43it/s]"
     ]
    },
    {
     "name": "stdout",
     "output_type": "stream",
     "text": [
      "round : 914/1000 result lose, explore_rate 0.1\n"
     ]
    },
    {
     "name": "stderr",
     "output_type": "stream",
     "text": [
      " 92%|██████████████████████████████████████████████████████████████████████████████████████████████████████████████████████████████▎           | 915/1000 [10:40<00:55,  1.52it/s]"
     ]
    },
    {
     "name": "stdout",
     "output_type": "stream",
     "text": [
      "round : 915/1000 result lose, explore_rate 0.1\n"
     ]
    },
    {
     "name": "stderr",
     "output_type": "stream",
     "text": [
      " 92%|██████████████████████████████████████████████████████████████████████████████████████████████████████████████████████████████▍           | 916/1000 [10:40<00:54,  1.54it/s]"
     ]
    },
    {
     "name": "stdout",
     "output_type": "stream",
     "text": [
      "round : 916/1000 result lose, explore_rate 0.1\n"
     ]
    },
    {
     "name": "stderr",
     "output_type": "stream",
     "text": [
      " 92%|██████████████████████████████████████████████████████████████████████████████████████████████████████████████████████████████▌           | 917/1000 [10:41<00:53,  1.55it/s]"
     ]
    },
    {
     "name": "stdout",
     "output_type": "stream",
     "text": [
      "round : 917/1000 result lose, explore_rate 0.1\n"
     ]
    },
    {
     "name": "stderr",
     "output_type": "stream",
     "text": [
      " 92%|██████████████████████████████████████████████████████████████████████████████████████████████████████████████████████████████▋           | 918/1000 [10:42<00:54,  1.51it/s]"
     ]
    },
    {
     "name": "stdout",
     "output_type": "stream",
     "text": [
      "round : 918/1000 result lose, explore_rate 0.1\n"
     ]
    },
    {
     "name": "stderr",
     "output_type": "stream",
     "text": [
      " 92%|██████████████████████████████████████████████████████████████████████████████████████████████████████████████████████████████▊           | 919/1000 [10:43<01:00,  1.34it/s]"
     ]
    },
    {
     "name": "stdout",
     "output_type": "stream",
     "text": [
      "round : 919/1000 result lose, explore_rate 0.1\n"
     ]
    },
    {
     "name": "stderr",
     "output_type": "stream",
     "text": [
      " 92%|██████████████████████████████████████████████████████████████████████████████████████████████████████████████████████████████▉           | 920/1000 [10:44<00:59,  1.34it/s]"
     ]
    },
    {
     "name": "stdout",
     "output_type": "stream",
     "text": [
      "round : 920/1000 result lose, explore_rate 0.1\n"
     ]
    },
    {
     "name": "stderr",
     "output_type": "stream",
     "text": [
      " 92%|███████████████████████████████████████████████████████████████████████████████████████████████████████████████████████████████           | 921/1000 [10:44<00:56,  1.40it/s]"
     ]
    },
    {
     "name": "stdout",
     "output_type": "stream",
     "text": [
      "round : 921/1000 result lose, explore_rate 0.1\n"
     ]
    },
    {
     "name": "stderr",
     "output_type": "stream",
     "text": [
      " 92%|███████████████████████████████████████████████████████████████████████████████████████████████████████████████████████████████▏          | 922/1000 [10:45<00:59,  1.32it/s]"
     ]
    },
    {
     "name": "stdout",
     "output_type": "stream",
     "text": [
      "round : 922/1000 result lose, explore_rate 0.1\n"
     ]
    },
    {
     "name": "stderr",
     "output_type": "stream",
     "text": [
      " 92%|███████████████████████████████████████████████████████████████████████████████████████████████████████████████████████████████▎          | 923/1000 [10:46<00:54,  1.41it/s]"
     ]
    },
    {
     "name": "stdout",
     "output_type": "stream",
     "text": [
      "round : 923/1000 result lose, explore_rate 0.1\n"
     ]
    },
    {
     "name": "stderr",
     "output_type": "stream",
     "text": [
      " 92%|███████████████████████████████████████████████████████████████████████████████████████████████████████████████████████████████▌          | 924/1000 [10:46<00:50,  1.50it/s]"
     ]
    },
    {
     "name": "stdout",
     "output_type": "stream",
     "text": [
      "round : 924/1000 result lose, explore_rate 0.1\n"
     ]
    },
    {
     "name": "stderr",
     "output_type": "stream",
     "text": [
      " 92%|███████████████████████████████████████████████████████████████████████████████████████████████████████████████████████████████▋          | 925/1000 [10:47<00:52,  1.42it/s]"
     ]
    },
    {
     "name": "stdout",
     "output_type": "stream",
     "text": [
      "round : 925/1000 result lose, explore_rate 0.1\n"
     ]
    },
    {
     "name": "stderr",
     "output_type": "stream",
     "text": [
      " 93%|███████████████████████████████████████████████████████████████████████████████████████████████████████████████████████████████▊          | 926/1000 [10:48<00:50,  1.47it/s]"
     ]
    },
    {
     "name": "stdout",
     "output_type": "stream",
     "text": [
      "round : 926/1000 result lose, explore_rate 0.1\n"
     ]
    },
    {
     "name": "stderr",
     "output_type": "stream",
     "text": [
      " 93%|███████████████████████████████████████████████████████████████████████████████████████████████████████████████████████████████▉          | 927/1000 [10:48<00:49,  1.47it/s]"
     ]
    },
    {
     "name": "stdout",
     "output_type": "stream",
     "text": [
      "round : 927/1000 result lose, explore_rate 0.1\n"
     ]
    },
    {
     "name": "stderr",
     "output_type": "stream",
     "text": [
      " 93%|████████████████████████████████████████████████████████████████████████████████████████████████████████████████████████████████          | 928/1000 [10:49<00:52,  1.38it/s]"
     ]
    },
    {
     "name": "stdout",
     "output_type": "stream",
     "text": [
      "round : 928/1000 result lose, explore_rate 0.1\n"
     ]
    },
    {
     "name": "stderr",
     "output_type": "stream",
     "text": [
      " 93%|████████████████████████████████████████████████████████████████████████████████████████████████████████████████████████████████▏         | 929/1000 [10:50<00:51,  1.39it/s]"
     ]
    },
    {
     "name": "stdout",
     "output_type": "stream",
     "text": [
      "round : 929/1000 result lose, explore_rate 0.1\n"
     ]
    },
    {
     "name": "stderr",
     "output_type": "stream",
     "text": [
      " 93%|████████████████████████████████████████████████████████████████████████████████████████████████████████████████████████████████▎         | 930/1000 [10:51<00:51,  1.37it/s]"
     ]
    },
    {
     "name": "stdout",
     "output_type": "stream",
     "text": [
      "round : 930/1000 result lose, explore_rate 0.1\n"
     ]
    },
    {
     "name": "stderr",
     "output_type": "stream",
     "text": [
      " 93%|████████████████████████████████████████████████████████████████████████████████████████████████████████████████████████████████▍         | 931/1000 [10:51<00:52,  1.31it/s]"
     ]
    },
    {
     "name": "stdout",
     "output_type": "stream",
     "text": [
      "round : 931/1000 result lose, explore_rate 0.1\n"
     ]
    },
    {
     "name": "stderr",
     "output_type": "stream",
     "text": [
      " 93%|████████████████████████████████████████████████████████████████████████████████████████████████████████████████████████████████▌         | 932/1000 [10:52<00:52,  1.30it/s]"
     ]
    },
    {
     "name": "stdout",
     "output_type": "stream",
     "text": [
      "round : 932/1000 result lose, explore_rate 0.1\n"
     ]
    },
    {
     "name": "stderr",
     "output_type": "stream",
     "text": [
      " 93%|████████████████████████████████████████████████████████████████████████████████████████████████████████████████████████████████▊         | 933/1000 [10:53<00:48,  1.38it/s]"
     ]
    },
    {
     "name": "stdout",
     "output_type": "stream",
     "text": [
      "round : 933/1000 result lose, explore_rate 0.1\n"
     ]
    },
    {
     "name": "stderr",
     "output_type": "stream",
     "text": [
      " 93%|████████████████████████████████████████████████████████████████████████████████████████████████████████████████████████████████▉         | 934/1000 [10:54<00:48,  1.36it/s]"
     ]
    },
    {
     "name": "stdout",
     "output_type": "stream",
     "text": [
      "round : 934/1000 result lose, explore_rate 0.1\n"
     ]
    },
    {
     "name": "stderr",
     "output_type": "stream",
     "text": [
      " 94%|█████████████████████████████████████████████████████████████████████████████████████████████████████████████████████████████████         | 935/1000 [10:54<00:46,  1.40it/s]"
     ]
    },
    {
     "name": "stdout",
     "output_type": "stream",
     "text": [
      "round : 935/1000 result lose, explore_rate 0.1\n"
     ]
    },
    {
     "name": "stderr",
     "output_type": "stream",
     "text": [
      " 94%|█████████████████████████████████████████████████████████████████████████████████████████████████████████████████████████████████▏        | 936/1000 [10:55<00:46,  1.37it/s]"
     ]
    },
    {
     "name": "stdout",
     "output_type": "stream",
     "text": [
      "round : 936/1000 result lose, explore_rate 0.1\n"
     ]
    },
    {
     "name": "stderr",
     "output_type": "stream",
     "text": [
      " 94%|█████████████████████████████████████████████████████████████████████████████████████████████████████████████████████████████████▎        | 937/1000 [10:56<00:48,  1.30it/s]"
     ]
    },
    {
     "name": "stdout",
     "output_type": "stream",
     "text": [
      "round : 937/1000 result lose, explore_rate 0.1\n"
     ]
    },
    {
     "name": "stderr",
     "output_type": "stream",
     "text": [
      " 94%|█████████████████████████████████████████████████████████████████████████████████████████████████████████████████████████████████▍        | 938/1000 [10:57<00:45,  1.37it/s]"
     ]
    },
    {
     "name": "stdout",
     "output_type": "stream",
     "text": [
      "round : 938/1000 result lose, explore_rate 0.1\n"
     ]
    },
    {
     "name": "stderr",
     "output_type": "stream",
     "text": [
      " 94%|█████████████████████████████████████████████████████████████████████████████████████████████████████████████████████████████████▌        | 939/1000 [10:57<00:47,  1.29it/s]"
     ]
    },
    {
     "name": "stdout",
     "output_type": "stream",
     "text": [
      "round : 939/1000 result lose, explore_rate 0.1\n"
     ]
    },
    {
     "name": "stderr",
     "output_type": "stream",
     "text": [
      " 94%|█████████████████████████████████████████████████████████████████████████████████████████████████████████████████████████████████▋        | 940/1000 [10:58<00:49,  1.22it/s]"
     ]
    },
    {
     "name": "stdout",
     "output_type": "stream",
     "text": [
      "round : 940/1000 result lose, explore_rate 0.1\n"
     ]
    },
    {
     "name": "stderr",
     "output_type": "stream",
     "text": [
      " 94%|█████████████████████████████████████████████████████████████████████████████████████████████████████████████████████████████████▊        | 941/1000 [11:00<00:55,  1.07it/s]"
     ]
    },
    {
     "name": "stdout",
     "output_type": "stream",
     "text": [
      "round : 941/1000 result lose, explore_rate 0.1\n"
     ]
    },
    {
     "name": "stderr",
     "output_type": "stream",
     "text": [
      " 94%|█████████████████████████████████████████████████████████████████████████████████████████████████████████████████████████████████▉        | 942/1000 [11:00<00:48,  1.20it/s]"
     ]
    },
    {
     "name": "stdout",
     "output_type": "stream",
     "text": [
      "round : 942/1000 result lose, explore_rate 0.1\n"
     ]
    },
    {
     "name": "stderr",
     "output_type": "stream",
     "text": [
      " 94%|██████████████████████████████████████████████████████████████████████████████████████████████████████████████████████████████████▏       | 943/1000 [11:01<00:46,  1.22it/s]"
     ]
    },
    {
     "name": "stdout",
     "output_type": "stream",
     "text": [
      "round : 943/1000 result lose, explore_rate 0.1\n"
     ]
    },
    {
     "name": "stderr",
     "output_type": "stream",
     "text": [
      " 94%|██████████████████████████████████████████████████████████████████████████████████████████████████████████████████████████████████▎       | 944/1000 [11:01<00:40,  1.40it/s]"
     ]
    },
    {
     "name": "stdout",
     "output_type": "stream",
     "text": [
      "round : 944/1000 result lose, explore_rate 0.1\n"
     ]
    },
    {
     "name": "stderr",
     "output_type": "stream",
     "text": [
      " 94%|██████████████████████████████████████████████████████████████████████████████████████████████████████████████████████████████████▍       | 945/1000 [11:02<00:36,  1.49it/s]"
     ]
    },
    {
     "name": "stdout",
     "output_type": "stream",
     "text": [
      "round : 945/1000 result lose, explore_rate 0.1\n"
     ]
    },
    {
     "name": "stderr",
     "output_type": "stream",
     "text": [
      " 95%|██████████████████████████████████████████████████████████████████████████████████████████████████████████████████████████████████▌       | 946/1000 [11:02<00:34,  1.57it/s]"
     ]
    },
    {
     "name": "stdout",
     "output_type": "stream",
     "text": [
      "round : 946/1000 result lose, explore_rate 0.1\n"
     ]
    },
    {
     "name": "stderr",
     "output_type": "stream",
     "text": [
      " 95%|██████████████████████████████████████████████████████████████████████████████████████████████████████████████████████████████████▋       | 947/1000 [11:03<00:33,  1.57it/s]"
     ]
    },
    {
     "name": "stdout",
     "output_type": "stream",
     "text": [
      "round : 947/1000 result lose, explore_rate 0.1\n"
     ]
    },
    {
     "name": "stderr",
     "output_type": "stream",
     "text": [
      " 95%|██████████████████████████████████████████████████████████████████████████████████████████████████████████████████████████████████▊       | 948/1000 [11:04<00:32,  1.62it/s]"
     ]
    },
    {
     "name": "stdout",
     "output_type": "stream",
     "text": [
      "round : 948/1000 result lose, explore_rate 0.1\n"
     ]
    },
    {
     "name": "stderr",
     "output_type": "stream",
     "text": [
      " 95%|██████████████████████████████████████████████████████████████████████████████████████████████████████████████████████████████████▉       | 949/1000 [11:04<00:34,  1.49it/s]"
     ]
    },
    {
     "name": "stdout",
     "output_type": "stream",
     "text": [
      "round : 949/1000 result lose, explore_rate 0.1\n"
     ]
    },
    {
     "name": "stderr",
     "output_type": "stream",
     "text": [
      " 95%|███████████████████████████████████████████████████████████████████████████████████████████████████████████████████████████████████       | 950/1000 [11:05<00:32,  1.56it/s]"
     ]
    },
    {
     "name": "stdout",
     "output_type": "stream",
     "text": [
      "round : 950/1000 result lose, explore_rate 0.1\n"
     ]
    },
    {
     "name": "stderr",
     "output_type": "stream",
     "text": [
      " 95%|███████████████████████████████████████████████████████████████████████████████████████████████████████████████████████████████████▏      | 951/1000 [11:06<00:31,  1.55it/s]"
     ]
    },
    {
     "name": "stdout",
     "output_type": "stream",
     "text": [
      "round : 951/1000 result lose, explore_rate 0.1\n"
     ]
    },
    {
     "name": "stderr",
     "output_type": "stream",
     "text": [
      " 95%|███████████████████████████████████████████████████████████████████████████████████████████████████████████████████████████████████▍      | 952/1000 [11:06<00:31,  1.52it/s]"
     ]
    },
    {
     "name": "stdout",
     "output_type": "stream",
     "text": [
      "round : 952/1000 result lose, explore_rate 0.1\n"
     ]
    },
    {
     "name": "stderr",
     "output_type": "stream",
     "text": [
      " 95%|███████████████████████████████████████████████████████████████████████████████████████████████████████████████████████████████████▌      | 953/1000 [11:07<00:32,  1.45it/s]"
     ]
    },
    {
     "name": "stdout",
     "output_type": "stream",
     "text": [
      "round : 953/1000 result lose, explore_rate 0.1\n"
     ]
    },
    {
     "name": "stderr",
     "output_type": "stream",
     "text": [
      " 95%|███████████████████████████████████████████████████████████████████████████████████████████████████████████████████████████████████▋      | 954/1000 [11:08<00:31,  1.44it/s]"
     ]
    },
    {
     "name": "stdout",
     "output_type": "stream",
     "text": [
      "round : 954/1000 result lose, explore_rate 0.1\n"
     ]
    },
    {
     "name": "stderr",
     "output_type": "stream",
     "text": [
      " 96%|███████████████████████████████████████████████████████████████████████████████████████████████████████████████████████████████████▊      | 955/1000 [11:08<00:29,  1.50it/s]"
     ]
    },
    {
     "name": "stdout",
     "output_type": "stream",
     "text": [
      "round : 955/1000 result lose, explore_rate 0.1\n"
     ]
    },
    {
     "name": "stderr",
     "output_type": "stream",
     "text": [
      " 96%|███████████████████████████████████████████████████████████████████████████████████████████████████████████████████████████████████▉      | 956/1000 [11:09<00:30,  1.46it/s]"
     ]
    },
    {
     "name": "stdout",
     "output_type": "stream",
     "text": [
      "round : 956/1000 result lose, explore_rate 0.1\n"
     ]
    },
    {
     "name": "stderr",
     "output_type": "stream",
     "text": [
      " 96%|████████████████████████████████████████████████████████████████████████████████████████████████████████████████████████████████████      | 957/1000 [11:10<00:28,  1.51it/s]"
     ]
    },
    {
     "name": "stdout",
     "output_type": "stream",
     "text": [
      "round : 957/1000 result lose, explore_rate 0.1\n"
     ]
    },
    {
     "name": "stderr",
     "output_type": "stream",
     "text": [
      " 96%|████████████████████████████████████████████████████████████████████████████████████████████████████████████████████████████████████▏     | 958/1000 [11:10<00:27,  1.51it/s]"
     ]
    },
    {
     "name": "stdout",
     "output_type": "stream",
     "text": [
      "round : 958/1000 result lose, explore_rate 0.1\n"
     ]
    },
    {
     "name": "stderr",
     "output_type": "stream",
     "text": [
      " 96%|████████████████████████████████████████████████████████████████████████████████████████████████████████████████████████████████████▎     | 959/1000 [11:13<00:43,  1.07s/it]"
     ]
    },
    {
     "name": "stdout",
     "output_type": "stream",
     "text": [
      "round : 959/1000 result draw, explore_rate 0.1\n"
     ]
    },
    {
     "name": "stderr",
     "output_type": "stream",
     "text": [
      " 96%|████████████████████████████████████████████████████████████████████████████████████████████████████████████████████████████████████▍     | 960/1000 [11:13<00:39,  1.02it/s]"
     ]
    },
    {
     "name": "stdout",
     "output_type": "stream",
     "text": [
      "round : 960/1000 result lose, explore_rate 0.1\n"
     ]
    },
    {
     "name": "stderr",
     "output_type": "stream",
     "text": [
      " 96%|████████████████████████████████████████████████████████████████████████████████████████████████████████████████████████████████████▌     | 961/1000 [11:14<00:34,  1.13it/s]"
     ]
    },
    {
     "name": "stdout",
     "output_type": "stream",
     "text": [
      "round : 961/1000 result lose, explore_rate 0.1\n"
     ]
    },
    {
     "name": "stderr",
     "output_type": "stream",
     "text": [
      " 96%|████████████████████████████████████████████████████████████████████████████████████████████████████████████████████████████████████▊     | 962/1000 [11:16<00:52,  1.37s/it]"
     ]
    },
    {
     "name": "stdout",
     "output_type": "stream",
     "text": [
      "round : 962/1000 result lose, explore_rate 0.1\n"
     ]
    },
    {
     "name": "stderr",
     "output_type": "stream",
     "text": [
      " 96%|████████████████████████████████████████████████████████████████████████████████████████████████████████████████████████████████████▉     | 963/1000 [11:17<00:43,  1.17s/it]"
     ]
    },
    {
     "name": "stdout",
     "output_type": "stream",
     "text": [
      "round : 963/1000 result lose, explore_rate 0.1\n"
     ]
    },
    {
     "name": "stderr",
     "output_type": "stream",
     "text": [
      " 96%|█████████████████████████████████████████████████████████████████████████████████████████████████████████████████████████████████████     | 964/1000 [11:18<00:36,  1.01s/it]"
     ]
    },
    {
     "name": "stdout",
     "output_type": "stream",
     "text": [
      "round : 964/1000 result lose, explore_rate 0.1\n"
     ]
    },
    {
     "name": "stderr",
     "output_type": "stream",
     "text": [
      " 96%|█████████████████████████████████████████████████████████████████████████████████████████████████████████████████████████████████████▏    | 965/1000 [11:19<00:32,  1.06it/s]"
     ]
    },
    {
     "name": "stdout",
     "output_type": "stream",
     "text": [
      "round : 965/1000 result lose, explore_rate 0.1\n"
     ]
    },
    {
     "name": "stderr",
     "output_type": "stream",
     "text": [
      " 97%|█████████████████████████████████████████████████████████████████████████████████████████████████████████████████████████████████████▎    | 966/1000 [11:19<00:28,  1.20it/s]"
     ]
    },
    {
     "name": "stdout",
     "output_type": "stream",
     "text": [
      "round : 966/1000 result lose, explore_rate 0.1\n"
     ]
    },
    {
     "name": "stderr",
     "output_type": "stream",
     "text": [
      " 97%|█████████████████████████████████████████████████████████████████████████████████████████████████████████████████████████████████████▍    | 967/1000 [11:20<00:26,  1.26it/s]"
     ]
    },
    {
     "name": "stdout",
     "output_type": "stream",
     "text": [
      "round : 967/1000 result lose, explore_rate 0.1\n"
     ]
    },
    {
     "name": "stderr",
     "output_type": "stream",
     "text": [
      " 97%|█████████████████████████████████████████████████████████████████████████████████████████████████████████████████████████████████████▌    | 968/1000 [11:21<00:25,  1.25it/s]"
     ]
    },
    {
     "name": "stdout",
     "output_type": "stream",
     "text": [
      "round : 968/1000 result lose, explore_rate 0.1\n"
     ]
    },
    {
     "name": "stderr",
     "output_type": "stream",
     "text": [
      " 97%|█████████████████████████████████████████████████████████████████████████████████████████████████████████████████████████████████████▋    | 969/1000 [11:22<00:27,  1.14it/s]"
     ]
    },
    {
     "name": "stdout",
     "output_type": "stream",
     "text": [
      "round : 969/1000 result lose, explore_rate 0.1\n"
     ]
    },
    {
     "name": "stderr",
     "output_type": "stream",
     "text": [
      " 97%|█████████████████████████████████████████████████████████████████████████████████████████████████████████████████████████████████████▊    | 970/1000 [11:22<00:24,  1.22it/s]"
     ]
    },
    {
     "name": "stdout",
     "output_type": "stream",
     "text": [
      "round : 970/1000 result lose, explore_rate 0.1\n"
     ]
    },
    {
     "name": "stderr",
     "output_type": "stream",
     "text": [
      " 97%|█████████████████████████████████████████████████████████████████████████████████████████████████████████████████████████████████████▉    | 971/1000 [11:23<00:23,  1.26it/s]"
     ]
    },
    {
     "name": "stdout",
     "output_type": "stream",
     "text": [
      "round : 971/1000 result lose, explore_rate 0.1\n"
     ]
    },
    {
     "name": "stderr",
     "output_type": "stream",
     "text": [
      " 97%|██████████████████████████████████████████████████████████████████████████████████████████████████████████████████████████████████████▏   | 972/1000 [11:24<00:21,  1.30it/s]"
     ]
    },
    {
     "name": "stdout",
     "output_type": "stream",
     "text": [
      "round : 972/1000 result lose, explore_rate 0.1\n"
     ]
    },
    {
     "name": "stderr",
     "output_type": "stream",
     "text": [
      " 97%|██████████████████████████████████████████████████████████████████████████████████████████████████████████████████████████████████████▎   | 973/1000 [11:25<00:21,  1.24it/s]"
     ]
    },
    {
     "name": "stdout",
     "output_type": "stream",
     "text": [
      "round : 973/1000 result lose, explore_rate 0.1\n"
     ]
    },
    {
     "name": "stderr",
     "output_type": "stream",
     "text": [
      " 97%|██████████████████████████████████████████████████████████████████████████████████████████████████████████████████████████████████████▍   | 974/1000 [11:25<00:20,  1.28it/s]"
     ]
    },
    {
     "name": "stdout",
     "output_type": "stream",
     "text": [
      "round : 974/1000 result lose, explore_rate 0.1\n"
     ]
    },
    {
     "name": "stderr",
     "output_type": "stream",
     "text": [
      " 98%|██████████████████████████████████████████████████████████████████████████████████████████████████████████████████████████████████████▌   | 975/1000 [11:26<00:20,  1.23it/s]"
     ]
    },
    {
     "name": "stdout",
     "output_type": "stream",
     "text": [
      "round : 975/1000 result lose, explore_rate 0.1\n"
     ]
    },
    {
     "name": "stderr",
     "output_type": "stream",
     "text": [
      " 98%|██████████████████████████████████████████████████████████████████████████████████████████████████████████████████████████████████████▋   | 976/1000 [11:27<00:19,  1.25it/s]"
     ]
    },
    {
     "name": "stdout",
     "output_type": "stream",
     "text": [
      "round : 976/1000 result lose, explore_rate 0.1\n"
     ]
    },
    {
     "name": "stderr",
     "output_type": "stream",
     "text": [
      " 98%|██████████████████████████████████████████████████████████████████████████████████████████████████████████████████████████████████████▊   | 977/1000 [11:28<00:17,  1.34it/s]"
     ]
    },
    {
     "name": "stdout",
     "output_type": "stream",
     "text": [
      "round : 977/1000 result lose, explore_rate 0.1\n"
     ]
    },
    {
     "name": "stderr",
     "output_type": "stream",
     "text": [
      " 98%|██████████████████████████████████████████████████████████████████████████████████████████████████████████████████████████████████████▉   | 978/1000 [11:29<00:17,  1.25it/s]"
     ]
    },
    {
     "name": "stdout",
     "output_type": "stream",
     "text": [
      "round : 978/1000 result lose, explore_rate 0.1\n"
     ]
    },
    {
     "name": "stderr",
     "output_type": "stream",
     "text": [
      " 98%|███████████████████████████████████████████████████████████████████████████████████████████████████████████████████████████████████████   | 979/1000 [11:29<00:14,  1.42it/s]"
     ]
    },
    {
     "name": "stdout",
     "output_type": "stream",
     "text": [
      "round : 979/1000 result lose, explore_rate 0.1\n"
     ]
    },
    {
     "name": "stderr",
     "output_type": "stream",
     "text": [
      " 98%|███████████████████████████████████████████████████████████████████████████████████████████████████████████████████████████████████████▏  | 980/1000 [11:30<00:13,  1.49it/s]"
     ]
    },
    {
     "name": "stdout",
     "output_type": "stream",
     "text": [
      "round : 980/1000 result lose, explore_rate 0.1\n"
     ]
    },
    {
     "name": "stderr",
     "output_type": "stream",
     "text": [
      " 98%|███████████████████████████████████████████████████████████████████████████████████████████████████████████████████████████████████████▍  | 981/1000 [11:31<00:13,  1.40it/s]"
     ]
    },
    {
     "name": "stdout",
     "output_type": "stream",
     "text": [
      "round : 981/1000 result lose, explore_rate 0.1\n"
     ]
    },
    {
     "name": "stderr",
     "output_type": "stream",
     "text": [
      " 98%|███████████████████████████████████████████████████████████████████████████████████████████████████████████████████████████████████████▌  | 982/1000 [11:31<00:12,  1.45it/s]"
     ]
    },
    {
     "name": "stdout",
     "output_type": "stream",
     "text": [
      "round : 982/1000 result lose, explore_rate 0.1\n"
     ]
    },
    {
     "name": "stderr",
     "output_type": "stream",
     "text": [
      " 98%|███████████████████████████████████████████████████████████████████████████████████████████████████████████████████████████████████████▋  | 983/1000 [11:32<00:11,  1.45it/s]"
     ]
    },
    {
     "name": "stdout",
     "output_type": "stream",
     "text": [
      "round : 983/1000 result lose, explore_rate 0.1\n"
     ]
    },
    {
     "name": "stderr",
     "output_type": "stream",
     "text": [
      " 98%|███████████████████████████████████████████████████████████████████████████████████████████████████████████████████████████████████████▊  | 984/1000 [11:32<00:10,  1.56it/s]"
     ]
    },
    {
     "name": "stdout",
     "output_type": "stream",
     "text": [
      "round : 984/1000 result lose, explore_rate 0.1\n"
     ]
    },
    {
     "name": "stderr",
     "output_type": "stream",
     "text": [
      " 98%|███████████████████████████████████████████████████████████████████████████████████████████████████████████████████████████████████████▉  | 985/1000 [11:33<00:09,  1.52it/s]"
     ]
    },
    {
     "name": "stdout",
     "output_type": "stream",
     "text": [
      "round : 985/1000 result lose, explore_rate 0.1\n"
     ]
    },
    {
     "name": "stderr",
     "output_type": "stream",
     "text": [
      " 99%|████████████████████████████████████████████████████████████████████████████████████████████████████████████████████████████████████████  | 986/1000 [11:34<00:09,  1.53it/s]"
     ]
    },
    {
     "name": "stdout",
     "output_type": "stream",
     "text": [
      "round : 986/1000 result lose, explore_rate 0.1\n"
     ]
    },
    {
     "name": "stderr",
     "output_type": "stream",
     "text": [
      " 99%|████████████████████████████████████████████████████████████████████████████████████████████████████████████████████████████████████████▏ | 987/1000 [11:36<00:13,  1.01s/it]"
     ]
    },
    {
     "name": "stdout",
     "output_type": "stream",
     "text": [
      "round : 987/1000 result draw, explore_rate 0.1\n"
     ]
    },
    {
     "name": "stderr",
     "output_type": "stream",
     "text": [
      " 99%|████████████████████████████████████████████████████████████████████████████████████████████████████████████████████████████████████████▎ | 988/1000 [11:36<00:10,  1.19it/s]"
     ]
    },
    {
     "name": "stdout",
     "output_type": "stream",
     "text": [
      "round : 988/1000 result lose, explore_rate 0.1\n"
     ]
    },
    {
     "name": "stderr",
     "output_type": "stream",
     "text": [
      " 99%|████████████████████████████████████████████████████████████████████████████████████████████████████████████████████████████████████████▍ | 989/1000 [11:37<00:08,  1.27it/s]"
     ]
    },
    {
     "name": "stdout",
     "output_type": "stream",
     "text": [
      "round : 989/1000 result lose, explore_rate 0.1\n"
     ]
    },
    {
     "name": "stderr",
     "output_type": "stream",
     "text": [
      " 99%|████████████████████████████████████████████████████████████████████████████████████████████████████████████████████████████████████████▌ | 990/1000 [11:37<00:07,  1.35it/s]"
     ]
    },
    {
     "name": "stdout",
     "output_type": "stream",
     "text": [
      "round : 990/1000 result lose, explore_rate 0.1\n"
     ]
    },
    {
     "name": "stderr",
     "output_type": "stream",
     "text": [
      " 99%|████████████████████████████████████████████████████████████████████████████████████████████████████████████████████████████████████████▊ | 991/1000 [11:38<00:06,  1.36it/s]"
     ]
    },
    {
     "name": "stdout",
     "output_type": "stream",
     "text": [
      "round : 991/1000 result lose, explore_rate 0.1\n"
     ]
    },
    {
     "name": "stderr",
     "output_type": "stream",
     "text": [
      " 99%|████████████████████████████████████████████████████████████████████████████████████████████████████████████████████████████████████████▉ | 992/1000 [11:39<00:05,  1.53it/s]"
     ]
    },
    {
     "name": "stdout",
     "output_type": "stream",
     "text": [
      "round : 992/1000 result lose, explore_rate 0.1\n"
     ]
    },
    {
     "name": "stderr",
     "output_type": "stream",
     "text": [
      " 99%|█████████████████████████████████████████████████████████████████████████████████████████████████████████████████████████████████████████ | 993/1000 [11:39<00:04,  1.51it/s]"
     ]
    },
    {
     "name": "stdout",
     "output_type": "stream",
     "text": [
      "round : 993/1000 result lose, explore_rate 0.1\n"
     ]
    },
    {
     "name": "stderr",
     "output_type": "stream",
     "text": [
      " 99%|█████████████████████████████████████████████████████████████████████████████████████████████████████████████████████████████████████████▏| 994/1000 [11:40<00:03,  1.51it/s]"
     ]
    },
    {
     "name": "stdout",
     "output_type": "stream",
     "text": [
      "round : 994/1000 result lose, explore_rate 0.1\n"
     ]
    },
    {
     "name": "stderr",
     "output_type": "stream",
     "text": [
      "100%|█████████████████████████████████████████████████████████████████████████████████████████████████████████████████████████████████████████▎| 995/1000 [11:41<00:03,  1.49it/s]"
     ]
    },
    {
     "name": "stdout",
     "output_type": "stream",
     "text": [
      "round : 995/1000 result lose, explore_rate 0.1\n"
     ]
    },
    {
     "name": "stderr",
     "output_type": "stream",
     "text": [
      "100%|█████████████████████████████████████████████████████████████████████████████████████████████████████████████████████████████████████████▍| 996/1000 [11:41<00:02,  1.51it/s]"
     ]
    },
    {
     "name": "stdout",
     "output_type": "stream",
     "text": [
      "round : 996/1000 result lose, explore_rate 0.1\n"
     ]
    },
    {
     "name": "stderr",
     "output_type": "stream",
     "text": [
      "100%|█████████████████████████████████████████████████████████████████████████████████████████████████████████████████████████████████████████▌| 997/1000 [11:42<00:01,  1.57it/s]"
     ]
    },
    {
     "name": "stdout",
     "output_type": "stream",
     "text": [
      "round : 997/1000 result lose, explore_rate 0.1\n"
     ]
    },
    {
     "name": "stderr",
     "output_type": "stream",
     "text": [
      "100%|█████████████████████████████████████████████████████████████████████████████████████████████████████████████████████████████████████████▋| 998/1000 [11:43<00:01,  1.50it/s]"
     ]
    },
    {
     "name": "stdout",
     "output_type": "stream",
     "text": [
      "round : 998/1000 result lose, explore_rate 0.1\n"
     ]
    },
    {
     "name": "stderr",
     "output_type": "stream",
     "text": [
      "100%|█████████████████████████████████████████████████████████████████████████████████████████████████████████████████████████████████████████▊| 999/1000 [11:44<00:00,  1.08it/s]"
     ]
    },
    {
     "name": "stdout",
     "output_type": "stream",
     "text": [
      "round : 999/1000 result lose, explore_rate 0.1\n"
     ]
    },
    {
     "name": "stderr",
     "output_type": "stream",
     "text": [
      "100%|█████████████████████████████████████████████████████████████████████████████████████████████████████████████████████████████████████████| 1000/1000 [11:45<00:00,  1.42it/s]"
     ]
    },
    {
     "name": "stdout",
     "output_type": "stream",
     "text": [
      "round : 1000/1000 result lose, explore_rate 0.1\n",
      "black win 996 draw 4 loss 0\n"
     ]
    },
    {
     "name": "stderr",
     "output_type": "stream",
     "text": [
      "\n"
     ]
    }
   ],
   "source": [
    "# A few matches against a random player\n",
    "max_game_len = 100\n",
    "n_matches = 1000\n",
    "n_wins, n_draws, n_losses = 0, 0, 0\n",
    "is_show_game = False\n",
    "explore_rate=0.1\n",
    "for i in tqdm(range(n_matches)):\n",
    "    if is_show_game:\n",
    "        print('game', i)\n",
    "    ch = Checkers()\n",
    "    black_player = MinimaxPlayer(\n",
    "        'black',\n",
    "        # value_func=partial(first_order_adv, 'black', 200, 100, 20, 0),\n",
    "        value_func=partial(first_order_adv, 'black', 86.0315, 54.568, 87.21072, 25.85066),        \n",
    "        # The provided legal moves might be ordered differently\n",
    "        rollout_order_gen=lambda x: sorted(x),\n",
    "        search_depth=3,\n",
    "        seed=i)\n",
    "\n",
    "    # white_player = MinimaxPlayer('white', value_func=partial(material_value_adv, 'white', 2, 1), search_depth=4, seed=i * 2)\n",
    "    # white_player = RandomPlayer('white', seed=i * 2)\n",
    "    white_player = WhiteCheckerAgent(weight_path = \"src/prame_q_learn/agent/weight/white_weight.json\",        \n",
    "                                    explore_rate=explore_rate,\n",
    "                                    explore_rate_decay_factor=1.0,\n",
    "                                    alpha= 0.9,\n",
    "                                    gamma= 0.5,\n",
    "                                    win_score= 100,\n",
    "                                    draw_score= -5,\n",
    "                                    lose_score= -50,\n",
    "                                    )\n",
    "\n",
    "    #modify this function to put our RL model as white\n",
    "    winner = play_a_game(ch, black_player.next_move, white_player.next_move, max_game_len,is_show_detail = is_show_game)\n",
    "\n",
    "    # Play with a minimax player\n",
    "    # play_a_game(ch, keyboard_player_move, white_player.next_move)\n",
    "    if is_show_game:\n",
    "        print('black player evaluated %i positions in %.2fs (avg %.2f positions/s) effective branching factor %.2f' % (black_player.n_evaluated_positions, black_player.evaluation_dt, black_player.n_evaluated_positions / black_player.evaluation_dt, (black_player.n_evaluated_positions / black_player.ply) ** (1 / black_player.search_depth)))\n",
    "        print('black player pruned', black_player.prunes.items())\n",
    "        print()\n",
    "    # Keep scores\n",
    "    # n_wins += 1 if winner == 'black' else 0\n",
    "    # n_draws += 1 if winner is None else 0\n",
    "    # n_losses += 1 if winner == 'white' else 0\n",
    "    result:RESULT_TYPE\n",
    "    if winner == 'black':\n",
    "        n_wins += 1\n",
    "        result = RESULT_TYPE.LOSE\n",
    "    elif winner is None:\n",
    "        n_draws += 1\n",
    "        result = RESULT_TYPE.DRAW\n",
    "    else:\n",
    "        n_losses += 1\n",
    "        result = RESULT_TYPE.WIN\n",
    "    white_player.get_result(result)\n",
    "    print(f\"round : {i+1}/{n_matches} result {result.value}, explore_rate {explore_rate}\")\n",
    "    \n",
    "    explore_rate = white_player._explore_rate\n",
    "\n",
    "print('black win', n_wins, 'draw', n_draws, 'loss', n_losses)"
   ]
  },
  {
   "cell_type": "markdown",
   "metadata": {},
   "source": [
    "# Depth N supervised model"
   ]
  },
  {
   "cell_type": "markdown",
   "metadata": {},
   "source": [
    "## depth 5 vs depth 3 "
   ]
  },
  {
   "cell_type": "code",
   "execution_count": 144,
   "metadata": {},
   "outputs": [
    {
     "name": "stderr",
     "output_type": "stream",
     "text": [
      "  0%|                                                                                                                                                       | 0/1 [00:00<?, ?it/s]"
     ]
    },
    {
     "name": "stdout",
     "output_type": "stream",
     "text": [
      "game 0\n",
      "_b_b_b_b\n",
      "b_b_b_b_\n",
      "_._._._.\n",
      "._._._._\n",
      "_._._._.\n",
      "._._._._\n",
      "_w_w_w_w\n",
      "w_w_w_w_\n",
      "0 turn: black last_moved_piece: None\n",
      "7 legal moves [(4, 8), (5, 8), (5, 9), (6, 9), (6, 10), (7, 10), (7, 11)]\n",
      "black moved 5, 8\n",
      "\n",
      "_b_b_b_b\n",
      "b_._b_b_\n",
      "_b_._._.\n",
      "._._._._\n",
      "_._._._.\n",
      "._._._._\n",
      "_w_w_w_w\n",
      "w_w_w_w_\n",
      "1 turn: white last_moved_piece: None\n",
      "7 legal moves [(24, 21), (24, 20), (25, 22), (25, 21), (26, 23), (26, 22), (27, 23)]\n",
      "white moved 24, 20\n",
      "\n",
      "_b_b_b_b\n",
      "b_._b_b_\n",
      "_b_._._.\n",
      "._._._._\n",
      "_._._._.\n",
      "w_._._._\n",
      "_._w_w_w\n",
      "w_w_w_w_\n",
      "2 turn: black last_moved_piece: None\n",
      "8 legal moves [(0, 5), (1, 5), (6, 9), (6, 10), (7, 10), (7, 11), (8, 12), (8, 13)]\n",
      "black moved 7, 11\n",
      "\n",
      "_b_b_b_b\n",
      "b_._b_._\n",
      "_b_._._b\n",
      "._._._._\n",
      "_._._._.\n",
      "w_._._._\n",
      "_._w_w_w\n",
      "w_w_w_w_\n",
      "3 turn: white last_moved_piece: None\n",
      "8 legal moves [(20, 16), (25, 22), (25, 21), (26, 23), (26, 22), (27, 23), (28, 24), (29, 24)]\n",
      "white moved 26, 23\n",
      "\n",
      "_b_b_b_b\n",
      "b_._b_._\n",
      "_b_._._b\n",
      "._._._._\n",
      "_._._._.\n",
      "w_._._w_\n",
      "_._w_._w\n",
      "w_w_w_w_\n",
      "4 turn: black last_moved_piece: None\n",
      "9 legal moves [(0, 5), (1, 5), (2, 7), (3, 7), (6, 9), (6, 10), (8, 12), (8, 13), (11, 15)]\n",
      "black moved 6, 9\n",
      "\n",
      "_b_b_b_b\n",
      "b_._._._\n",
      "_b_b_._b\n",
      "._._._._\n",
      "_._._._.\n",
      "w_._._w_\n",
      "_._w_._w\n",
      "w_w_w_w_\n",
      "5 turn: white last_moved_piece: None\n",
      "9 legal moves [(20, 16), (23, 19), (23, 18), (25, 22), (25, 21), (28, 24), (29, 24), (30, 26), (31, 26)]\n",
      "white moved 23, 19\n",
      "\n",
      "_b_b_b_b\n",
      "b_._._._\n",
      "_b_b_._b\n",
      "._._._._\n",
      "_._._._w\n",
      "w_._._._\n",
      "_._w_._w\n",
      "w_w_w_w_\n",
      "6 turn: black last_moved_piece: None\n",
      "11 legal moves [(0, 5), (1, 5), (1, 6), (2, 6), (2, 7), (3, 7), (8, 12), (8, 13), (9, 13), (9, 14), (11, 15)]\n",
      "black moved 8, 12\n",
      "\n",
      "_b_b_b_b\n",
      "b_._._._\n",
      "_._b_._b\n",
      "b_._._._\n",
      "_._._._w\n",
      "w_._._._\n",
      "_._w_._w\n",
      "w_w_w_w_\n",
      "7 turn: white last_moved_piece: None\n",
      "9 legal moves [(19, 15), (20, 16), (25, 22), (25, 21), (27, 23), (28, 24), (29, 24), (30, 26), (31, 26)]\n",
      "white moved 20, 16\n",
      "\n",
      "_b_b_b_b\n",
      "b_._._._\n",
      "_._b_._b\n",
      "b_._._._\n",
      "_w_._._w\n",
      "._._._._\n",
      "_._w_._w\n",
      "w_w_w_w_\n",
      "8 turn: black last_moved_piece: None\n",
      "1 legal moves [(12, 21)]\n",
      "black moved 12, 21\n",
      "\n",
      "_b_b_b_b\n",
      "b_._._._\n",
      "_._b_._b\n",
      "._._._._\n",
      "_._._._w\n",
      "._b_._._\n",
      "_._w_._w\n",
      "w_w_w_w_\n",
      "9 turn: white last_moved_piece: None\n",
      "1 legal moves [(25, 16)]\n",
      "white moved 25, 16\n",
      "\n",
      "_b_b_b_b\n",
      "b_._._._\n",
      "_._b_._b\n",
      "._._._._\n",
      "_w_._._w\n",
      "._._._._\n",
      "_._._._w\n",
      "w_w_w_w_\n",
      "10 turn: black last_moved_piece: None\n",
      "10 legal moves [(0, 5), (1, 5), (1, 6), (2, 6), (2, 7), (3, 7), (4, 8), (9, 13), (9, 14), (11, 15)]\n",
      "black moved 9, 14\n",
      "\n",
      "_b_b_b_b\n",
      "b_._._._\n",
      "_._._._b\n",
      "._._b_._\n",
      "_w_._._w\n",
      "._._._._\n",
      "_._._._w\n",
      "w_w_w_w_\n",
      "11 turn: white last_moved_piece: None\n",
      "10 legal moves [(16, 13), (16, 12), (19, 15), (27, 23), (28, 24), (29, 25), (29, 24), (30, 26), (30, 25), (31, 26)]\n",
      "white moved 16, 12\n",
      "\n",
      "_b_b_b_b\n",
      "b_._._._\n",
      "_._._._b\n",
      "w_._b_._\n",
      "_._._._w\n",
      "._._._._\n",
      "_._._._w\n",
      "w_w_w_w_\n",
      "12 turn: black last_moved_piece: None\n",
      "10 legal moves [(0, 5), (1, 5), (1, 6), (2, 6), (2, 7), (3, 7), (4, 8), (11, 15), (14, 17), (14, 18)]\n",
      "black moved 14, 17\n",
      "\n",
      "_b_b_b_b\n",
      "b_._._._\n",
      "_._._._b\n",
      "w_._._._\n",
      "_._b_._w\n",
      "._._._._\n",
      "_._._._w\n",
      "w_w_w_w_\n",
      "13 turn: white last_moved_piece: None\n",
      "9 legal moves [(12, 8), (19, 15), (27, 23), (28, 24), (29, 25), (29, 24), (30, 26), (30, 25), (31, 26)]\n",
      "white moved 27, 23\n",
      "\n",
      "_b_b_b_b\n",
      "b_._._._\n",
      "_._._._b\n",
      "w_._._._\n",
      "_._b_._w\n",
      "._._._w_\n",
      "_._._._.\n",
      "w_w_w_w_\n",
      "14 turn: black last_moved_piece: None\n",
      "10 legal moves [(0, 5), (1, 5), (1, 6), (2, 6), (2, 7), (3, 7), (4, 8), (11, 15), (17, 21), (17, 22)]\n",
      "black moved 4, 8\n",
      "\n",
      "_b_b_b_b\n",
      "._._._._\n",
      "_b_._._b\n",
      "w_._._._\n",
      "_._b_._w\n",
      "._._._w_\n",
      "_._._._.\n",
      "w_w_w_w_\n",
      "15 turn: white last_moved_piece: None\n",
      "1 legal moves [(12, 5)]\n",
      "white moved 12, 5\n",
      "\n",
      "_b_b_b_b\n",
      "._w_._._\n",
      "_._._._b\n",
      "._._._._\n",
      "_._b_._w\n",
      "._._._w_\n",
      "_._._._.\n",
      "w_w_w_w_\n",
      "16 turn: black last_moved_piece: None\n",
      "2 legal moves [(0, 9), (1, 8)]\n",
      "black moved 1, 8\n",
      "\n",
      "_b_._b_b\n",
      "._._._._\n",
      "_b_._._b\n",
      "._._._._\n",
      "_._b_._w\n",
      "._._._w_\n",
      "_._._._.\n",
      "w_w_w_w_\n",
      "17 turn: white last_moved_piece: None\n",
      "9 legal moves [(19, 15), (23, 18), (28, 24), (29, 25), (29, 24), (30, 26), (30, 25), (31, 27), (31, 26)]\n",
      "white moved 23, 18\n",
      "\n",
      "_b_._b_b\n",
      "._._._._\n",
      "_b_._._b\n",
      "._._._._\n",
      "_._b_w_w\n",
      "._._._._\n",
      "_._._._.\n",
      "w_w_w_w_\n",
      "18 turn: black last_moved_piece: None\n",
      "10 legal moves [(0, 4), (0, 5), (2, 6), (2, 7), (3, 7), (8, 12), (8, 13), (11, 15), (17, 21), (17, 22)]\n",
      "black moved 0, 4\n",
      "\n",
      "_._._b_b\n",
      "b_._._._\n",
      "_b_._._b\n",
      "._._._._\n",
      "_._b_w_w\n",
      "._._._._\n",
      "_._._._.\n",
      "w_w_w_w_\n",
      "19 turn: white last_moved_piece: None\n",
      "10 legal moves [(18, 15), (18, 14), (19, 15), (28, 24), (29, 25), (29, 24), (30, 26), (30, 25), (31, 27), (31, 26)]\n",
      "white moved 18, 14\n",
      "\n",
      "_._._b_b\n",
      "b_._._._\n",
      "_b_._._b\n",
      "._._w_._\n",
      "_._b_._w\n",
      "._._._._\n",
      "_._._._.\n",
      "w_w_w_w_\n",
      "20 turn: black last_moved_piece: None\n",
      "8 legal moves [(2, 6), (2, 7), (3, 7), (8, 12), (8, 13), (11, 15), (17, 21), (17, 22)]\n",
      "black moved 8, 12\n",
      "\n",
      "_._._b_b\n",
      "b_._._._\n",
      "_._._._b\n",
      "b_._w_._\n",
      "_._b_._w\n",
      "._._._._\n",
      "_._._._.\n",
      "w_w_w_w_\n",
      "21 turn: white last_moved_piece: None\n",
      "10 legal moves [(14, 10), (14, 9), (19, 15), (28, 24), (29, 25), (29, 24), (30, 26), (30, 25), (31, 27), (31, 26)]\n",
      "white moved 14, 9\n",
      "\n",
      "_._._b_b\n",
      "b_._._._\n",
      "_._w_._b\n",
      "b_._._._\n",
      "_._b_._w\n",
      "._._._._\n",
      "_._._._.\n",
      "w_w_w_w_\n",
      "22 turn: black last_moved_piece: None\n",
      "8 legal moves [(2, 6), (2, 7), (3, 7), (4, 8), (11, 15), (12, 16), (17, 21), (17, 22)]\n",
      "black moved 12, 16\n",
      "\n",
      "_._._b_b\n",
      "b_._._._\n",
      "_._w_._b\n",
      "._._._._\n",
      "_b_b_._w\n",
      "._._._._\n",
      "_._._._.\n",
      "w_w_w_w_\n",
      "23 turn: white last_moved_piece: None\n",
      "10 legal moves [(9, 6), (9, 5), (19, 15), (28, 24), (29, 25), (29, 24), (30, 26), (30, 25), (31, 27), (31, 26)]\n",
      "white moved 9, 5\n",
      "\n",
      "_._._b_b\n",
      "b_w_._._\n",
      "_._._._b\n",
      "._._._._\n",
      "_b_b_._w\n",
      "._._._._\n",
      "_._._._.\n",
      "w_w_w_w_\n",
      "24 turn: black last_moved_piece: None\n",
      "9 legal moves [(2, 6), (2, 7), (3, 7), (4, 8), (11, 15), (16, 20), (16, 21), (17, 21), (17, 22)]\n",
      "black moved 16, 20\n",
      "\n",
      "_._._b_b\n",
      "b_w_._._\n",
      "_._._._b\n",
      "._._._._\n",
      "_._b_._w\n",
      "b_._._._\n",
      "_._._._.\n",
      "w_w_w_w_\n",
      "25 turn: white last_moved_piece: None\n",
      "10 legal moves [(5, 1), (5, 0), (19, 15), (28, 24), (29, 25), (29, 24), (30, 26), (30, 25), (31, 27), (31, 26)]\n",
      "white moved 28, 24\n",
      "\n",
      "_._._b_b\n",
      "b_w_._._\n",
      "_._._._b\n",
      "._._._._\n",
      "_._b_._w\n",
      "b_._._._\n",
      "_w_._._.\n",
      "._w_w_w_\n",
      "26 turn: black last_moved_piece: None\n",
      "7 legal moves [(2, 6), (2, 7), (3, 7), (4, 8), (11, 15), (17, 21), (17, 22)]\n",
      "black moved 4, 8\n",
      "\n",
      "_._._b_b\n",
      "._w_._._\n",
      "_b_._._b\n",
      "._._._._\n",
      "_._b_._w\n",
      "b_._._._\n",
      "_w_._._.\n",
      "._w_w_w_\n",
      "27 turn: white last_moved_piece: None\n",
      "9 legal moves [(5, 1), (5, 0), (19, 15), (24, 21), (29, 25), (30, 26), (30, 25), (31, 27), (31, 26)]\n",
      "white moved 30, 25\n",
      "\n",
      "_._._b_b\n",
      "._w_._._\n",
      "_b_._._b\n",
      "._._._._\n",
      "_._b_._w\n",
      "b_._._._\n",
      "_w_w_._.\n",
      "._w_._w_\n",
      "28 turn: black last_moved_piece: None\n",
      "8 legal moves [(2, 6), (2, 7), (3, 7), (8, 12), (8, 13), (11, 15), (17, 21), (17, 22)]\n",
      "black moved 8, 12\n",
      "\n",
      "_._._b_b\n",
      "._w_._._\n",
      "_._._._b\n",
      "b_._._._\n",
      "_._b_._w\n",
      "b_._._._\n",
      "_w_w_._.\n",
      "._w_._w_\n",
      "29 turn: white last_moved_piece: None\n",
      "8 legal moves [(5, 1), (5, 0), (19, 15), (24, 21), (25, 22), (25, 21), (31, 27), (31, 26)]\n",
      "white moved 25, 22\n",
      "\n",
      "_._._b_b\n",
      "._w_._._\n",
      "_._._._b\n",
      "b_._._._\n",
      "_._b_._w\n",
      "b_._w_._\n",
      "_w_._._.\n",
      "._w_._w_\n",
      "30 turn: black last_moved_piece: None\n",
      "1 legal moves [(17, 26)]\n",
      "black moved 17, 26\n",
      "\n",
      "_._._b_b\n",
      "._w_._._\n",
      "_._._._b\n",
      "b_._._._\n",
      "_._._._w\n",
      "b_._._._\n",
      "_w_._b_.\n",
      "._w_._w_\n",
      "31 turn: white last_moved_piece: None\n",
      "1 legal moves [(31, 22)]\n",
      "white moved 31, 22\n",
      "\n",
      "_._._b_b\n",
      "._w_._._\n",
      "_._._._b\n",
      "b_._._._\n",
      "_._._._w\n",
      "b_._w_._\n",
      "_w_._._.\n",
      "._w_._._\n",
      "32 turn: black last_moved_piece: None\n",
      "5 legal moves [(2, 6), (2, 7), (3, 7), (11, 15), (12, 16)]\n",
      "black moved 12, 16\n",
      "\n",
      "_._._b_b\n",
      "._w_._._\n",
      "_._._._b\n",
      "._._._._\n",
      "_b_._._w\n",
      "b_._w_._\n",
      "_w_._._.\n",
      "._w_._._\n",
      "33 turn: white last_moved_piece: None\n",
      "7 legal moves [(5, 1), (5, 0), (19, 15), (24, 21), (29, 25), (22, 18), (22, 17)]\n",
      "white moved 22, 18\n",
      "\n",
      "_._._b_b\n",
      "._w_._._\n",
      "_._._._b\n",
      "._._._._\n",
      "_b_._w_w\n",
      "b_._._._\n",
      "_w_._._.\n",
      "._w_._._\n",
      "34 turn: black last_moved_piece: None\n",
      "5 legal moves [(2, 6), (2, 7), (3, 7), (11, 15), (16, 21)]\n",
      "black moved 2, 6\n",
      "\n",
      "_._._._b\n",
      "._w_b_._\n",
      "_._._._b\n",
      "._._._._\n",
      "_b_._w_w\n",
      "b_._._._\n",
      "_w_._._.\n",
      "._w_._._\n",
      "35 turn: white last_moved_piece: None\n",
      "7 legal moves [(5, 1), (5, 0), (18, 15), (18, 14), (19, 15), (24, 21), (29, 25)]\n",
      "white moved 24, 21\n",
      "\n",
      "_._._._b\n",
      "._w_b_._\n",
      "_._._._b\n",
      "._._._._\n",
      "_b_._w_w\n",
      "b_w_._._\n",
      "_._._._.\n",
      "._w_._._\n",
      "36 turn: black last_moved_piece: None\n",
      "1 legal moves [(16, 25)]\n",
      "black moved 16, 25\n",
      "\n",
      "_._._._b\n",
      "._w_b_._\n",
      "_._._._b\n",
      "._._._._\n",
      "_._._w_w\n",
      "b_._._._\n",
      "_._b_._.\n",
      "._w_._._\n",
      "37 turn: white last_moved_piece: None\n",
      "1 legal moves [(29, 22)]\n",
      "white moved 29, 22\n",
      "\n",
      "_._._._b\n",
      "._w_b_._\n",
      "_._._._b\n",
      "._._._._\n",
      "_._._w_w\n",
      "b_._w_._\n",
      "_._._._.\n",
      "._._._._\n",
      "38 turn: black last_moved_piece: None\n",
      "5 legal moves [(3, 7), (6, 9), (6, 10), (11, 15), (20, 24)]\n",
      "black moved 6, 9\n",
      "\n",
      "_._._._b\n",
      "._w_._._\n",
      "_._b_._b\n",
      "._._._._\n",
      "_._._w_w\n",
      "b_._w_._\n",
      "_._._._.\n",
      "._._._._\n",
      "39 turn: white last_moved_piece: None\n",
      "6 legal moves [(5, 1), (5, 0), (18, 15), (18, 14), (19, 15), (22, 17)]\n",
      "white moved 22, 17\n",
      "\n",
      "_._._._b\n",
      "._w_._._\n",
      "_._b_._b\n",
      "._._._._\n",
      "_._w_w_w\n",
      "b_._._._\n",
      "_._._._.\n",
      "._._._._\n",
      "40 turn: black last_moved_piece: None\n",
      "5 legal moves [(3, 7), (9, 13), (9, 14), (11, 15), (20, 24)]\n",
      "black moved 3, 7\n",
      "\n",
      "_._._._.\n",
      "._w_._b_\n",
      "_._b_._b\n",
      "._._._._\n",
      "_._w_w_w\n",
      "b_._._._\n",
      "_._._._.\n",
      "._._._._\n",
      "41 turn: white last_moved_piece: None\n",
      "7 legal moves [(5, 1), (5, 0), (17, 14), (17, 13), (18, 15), (18, 14), (19, 15)]\n",
      "white moved 5, 0\n",
      "\n",
      "_W_._._.\n",
      "._._._b_\n",
      "_._b_._b\n",
      "._._._._\n",
      "_._w_w_w\n",
      "b_._._._\n",
      "_._._._.\n",
      "._._._._\n",
      "42 turn: black last_moved_piece: None\n",
      "5 legal moves [(7, 10), (9, 13), (9, 14), (11, 15), (20, 24)]\n",
      "black moved 9, 13\n",
      "\n",
      "_W_._._.\n",
      "._._._b_\n",
      "_._._._b\n",
      "._b_._._\n",
      "_._w_w_w\n",
      "b_._._._\n",
      "_._._._.\n",
      "._._._._\n",
      "43 turn: white last_moved_piece: None\n",
      "1 legal moves [(17, 8)]\n",
      "white moved 17, 8\n",
      "\n",
      "_W_._._.\n",
      "._._._b_\n",
      "_w_._._b\n",
      "._._._._\n",
      "_._._w_w\n",
      "b_._._._\n",
      "_._._._.\n",
      "._._._._\n",
      "44 turn: black last_moved_piece: None\n",
      "3 legal moves [(7, 10), (11, 15), (20, 24)]\n",
      "black moved 7, 10\n",
      "\n",
      "_W_._._.\n",
      "._._._._\n",
      "_w_._b_b\n",
      "._._._._\n",
      "_._._w_w\n",
      "b_._._._\n",
      "_._._._.\n",
      "._._._._\n",
      "45 turn: white last_moved_piece: None\n",
      "9 legal moves [(8, 5), (8, 4), (18, 15), (18, 14), (19, 15), (0, 4), (0, 5), (0, 9), (0, 14)]\n",
      "white moved 0, 4\n",
      "\n",
      "_._._._.\n",
      "W_._._._\n",
      "_w_._b_b\n",
      "._._._._\n",
      "_._._w_w\n",
      "b_._._._\n",
      "_._._._.\n",
      "._._._._\n",
      "46 turn: black last_moved_piece: None\n",
      "4 legal moves [(10, 14), (10, 15), (11, 15), (20, 24)]\n",
      "black moved 20, 24\n",
      "\n",
      "_._._._.\n",
      "W_._._._\n",
      "_w_._b_b\n",
      "._._._._\n",
      "_._._w_w\n",
      "._._._._\n",
      "_b_._._.\n",
      "._._._._\n",
      "47 turn: white last_moved_piece: None\n",
      "5 legal moves [(8, 5), (18, 15), (18, 14), (19, 15), (4, 0)]\n",
      "white moved 8, 5\n",
      "\n",
      "_._._._.\n",
      "W_w_._._\n",
      "_._._b_b\n",
      "._._._._\n",
      "_._._w_w\n",
      "._._._._\n",
      "_b_._._.\n",
      "._._._._\n",
      "48 turn: black last_moved_piece: None\n",
      "5 legal moves [(10, 14), (10, 15), (11, 15), (24, 28), (24, 29)]\n",
      "black moved 24, 29\n",
      "\n",
      "_._._._.\n",
      "W_w_._._\n",
      "_._._b_b\n",
      "._._._._\n",
      "_._._w_w\n",
      "._._._._\n",
      "_._._._.\n",
      "._B_._._\n",
      "49 turn: white last_moved_piece: None\n",
      "12 legal moves [(5, 1), (5, 0), (18, 15), (18, 14), (19, 15), (4, 8), (4, 13), (4, 17), (4, 22), (4, 26), (4, 31), (4, 0)]\n",
      "white moved 4, 22\n",
      "\n",
      "_._._._.\n",
      "._w_._._\n",
      "_._._b_b\n",
      "._._._._\n",
      "_._._w_w\n",
      "._._W_._\n",
      "_._._._.\n",
      "._B_._._\n",
      "50 turn: black last_moved_piece: None\n",
      "6 legal moves [(10, 14), (10, 15), (11, 15), (29, 25), (29, 24), (29, 20)]\n",
      "black moved 29, 20\n",
      "\n",
      "_._._._.\n",
      "._w_._._\n",
      "_._._b_b\n",
      "._._._._\n",
      "_._._w_w\n",
      "B_._W_._\n",
      "_._._._.\n",
      "._._._._\n",
      "51 turn: white last_moved_piece: None\n",
      "13 legal moves [(5, 1), (5, 0), (18, 15), (18, 14), (19, 15), (22, 25), (22, 29), (22, 26), (22, 31), (22, 17), (22, 13), (22, 8), (22, 4)]\n",
      "white moved 5, 1\n",
      "\n",
      "_._W_._.\n",
      "._._._._\n",
      "_._._b_b\n",
      "._._._._\n",
      "_._._w_w\n",
      "B_._W_._\n",
      "_._._._.\n",
      "._._._._\n",
      "52 turn: black last_moved_piece: None\n",
      "10 legal moves [(10, 14), (10, 15), (11, 15), (20, 24), (20, 29), (20, 16), (20, 13), (20, 9), (20, 6), (20, 2)]\n",
      "black moved 20, 9\n",
      "\n",
      "_._W_._.\n",
      "._._._._\n",
      "_._B_b_b\n",
      "._._._._\n",
      "_._._w_w\n",
      "._._W_._\n",
      "_._._._.\n",
      "._._._._\n",
      "53 turn: white last_moved_piece: None\n",
      "1 legal moves [(1, 15)]\n",
      "white moved 1, 15\n",
      "\n",
      "_._._._.\n",
      "._._._._\n",
      "_._B_._b\n",
      "._._._W_\n",
      "_._._w_w\n",
      "._._W_._\n",
      "_._._._.\n",
      "._._._._\n",
      "54 turn: black last_moved_piece: None\n",
      "1 legal moves [(9, 23)]\n",
      "black moved 9, 23\n",
      "\n",
      "_._._._.\n",
      "._._._._\n",
      "_._._._b\n",
      "._._._W_\n",
      "_._._._w\n",
      "._._W_B_\n",
      "_._._._.\n",
      "._._._._\n",
      "55 turn: white last_moved_piece: None\n",
      "13 legal moves [(22, 25), (22, 29), (22, 26), (22, 31), (22, 18), (22, 17), (22, 13), (22, 8), (22, 4), (15, 18), (15, 10), (15, 6), (15, 1)]\n",
      "white moved 15, 1\n",
      "\n",
      "_._W_._.\n",
      "._._._._\n",
      "_._._._b\n",
      "._._._._\n",
      "_._._._w\n",
      "._._W_B_\n",
      "_._._._.\n",
      "._._._._\n",
      "56 turn: black last_moved_piece: None\n",
      "9 legal moves [(11, 15), (23, 26), (23, 30), (23, 27), (23, 18), (23, 14), (23, 9), (23, 5), (23, 0)]\n",
      "black moved 23, 0\n",
      "\n",
      "_B_W_._.\n",
      "._._._._\n",
      "_._._._b\n",
      "._._._._\n",
      "_._._._w\n",
      "._._W_._\n",
      "_._._._.\n",
      "._._._._\n",
      "57 turn: white last_moved_piece: None\n",
      "17 legal moves [(19, 15), (1, 5), (1, 8), (1, 12), (1, 6), (1, 10), (1, 15), (22, 25), (22, 29), (22, 26), (22, 31), (22, 18), (22, 15), (22, 17), (22, 13), (22, 8), (22, 4)]\n",
      "white moved 1, 12\n",
      "\n",
      "_B_._._.\n",
      "._._._._\n",
      "_._._._b\n",
      "W_._._._\n",
      "_._._._w\n",
      "._._W_._\n",
      "_._._._.\n",
      "._._._._\n",
      "58 turn: black last_moved_piece: None\n",
      "8 legal moves [(11, 15), (0, 4), (0, 5), (0, 9), (0, 14), (0, 18), (0, 23), (0, 27)]\n",
      "black moved 0, 4\n",
      "\n",
      "_._._._.\n",
      "B_._._._\n",
      "_._._._b\n",
      "W_._._._\n",
      "_._._._w\n",
      "._._W_._\n",
      "_._._._.\n",
      "._._._._\n",
      "59 turn: white last_moved_piece: None\n",
      "17 legal moves [(19, 15), (22, 25), (22, 29), (22, 26), (22, 31), (22, 18), (22, 15), (22, 17), (22, 13), (22, 8), (12, 16), (12, 21), (12, 25), (12, 30), (12, 8), (12, 5), (12, 1)]\n",
      "white moved 22, 18\n",
      "\n",
      "_._._._.\n",
      "B_._._._\n",
      "_._._._b\n",
      "W_._._._\n",
      "_._._W_w\n",
      "._._._._\n",
      "_._._._.\n",
      "._._._._\n",
      "60 turn: black last_moved_piece: None\n",
      "8 legal moves [(11, 15), (4, 8), (4, 13), (4, 17), (4, 22), (4, 26), (4, 31), (4, 0)]\n",
      "black moved 4, 0\n",
      "\n",
      "_B_._._.\n",
      "._._._._\n",
      "_._._._b\n",
      "W_._._._\n",
      "_._._W_w\n",
      "._._._._\n",
      "_._._._.\n",
      "._._._._\n",
      "61 turn: white last_moved_piece: None\n",
      "17 legal moves [(19, 15), (18, 22), (18, 25), (18, 29), (18, 23), (18, 27), (18, 15), (18, 14), (18, 9), (18, 5), (12, 16), (12, 21), (12, 25), (12, 30), (12, 8), (12, 5), (12, 1)]\n",
      "white moved 18, 22\n",
      "\n",
      "_B_._._.\n",
      "._._._._\n",
      "_._._._b\n",
      "W_._._._\n",
      "_._._._w\n",
      "._._W_._\n",
      "_._._._.\n",
      "._._._._\n",
      "62 turn: black last_moved_piece: None\n",
      "8 legal moves [(11, 15), (0, 4), (0, 5), (0, 9), (0, 14), (0, 18), (0, 23), (0, 27)]\n",
      "black moved 0, 4\n",
      "\n",
      "_._._._.\n",
      "B_._._._\n",
      "_._._._b\n",
      "W_._._._\n",
      "_._._._w\n",
      "._._W_._\n",
      "_._._._.\n",
      "._._._._\n",
      "63 turn: white last_moved_piece: None\n",
      "17 legal moves [(19, 15), (22, 25), (22, 29), (22, 26), (22, 31), (22, 18), (22, 15), (22, 17), (22, 13), (22, 8), (12, 16), (12, 21), (12, 25), (12, 30), (12, 8), (12, 5), (12, 1)]\n",
      "white moved 22, 18\n",
      "\n",
      "_._._._.\n",
      "B_._._._\n",
      "_._._._b\n",
      "W_._._._\n",
      "_._._W_w\n",
      "._._._._\n",
      "_._._._.\n",
      "._._._._\n",
      "64 turn: black last_moved_piece: None\n",
      "8 legal moves [(11, 15), (4, 8), (4, 13), (4, 17), (4, 22), (4, 26), (4, 31), (4, 0)]\n",
      "black moved 4, 0\n",
      "\n",
      "_B_._._.\n",
      "._._._._\n",
      "_._._._b\n",
      "W_._._._\n",
      "_._._W_w\n",
      "._._._._\n",
      "_._._._.\n",
      "._._._._\n",
      "65 turn: white last_moved_piece: None\n",
      "17 legal moves [(19, 15), (18, 22), (18, 25), (18, 29), (18, 23), (18, 27), (18, 15), (18, 14), (18, 9), (18, 5), (12, 16), (12, 21), (12, 25), (12, 30), (12, 8), (12, 5), (12, 1)]\n",
      "white moved 18, 22\n",
      "\n",
      "_B_._._.\n",
      "._._._._\n",
      "_._._._b\n",
      "W_._._._\n",
      "_._._._w\n",
      "._._W_._\n",
      "_._._._.\n",
      "._._._._\n",
      "66 turn: black last_moved_piece: None\n",
      "8 legal moves [(11, 15), (0, 4), (0, 5), (0, 9), (0, 14), (0, 18), (0, 23), (0, 27)]\n",
      "black moved 0, 4\n",
      "\n",
      "_._._._.\n",
      "B_._._._\n",
      "_._._._b\n",
      "W_._._._\n",
      "_._._._w\n",
      "._._W_._\n",
      "_._._._.\n",
      "._._._._\n",
      "67 turn: white last_moved_piece: None\n",
      "17 legal moves [(19, 15), (22, 25), (22, 29), (22, 26), (22, 31), (22, 18), (22, 15), (22, 17), (22, 13), (22, 8), (12, 16), (12, 21), (12, 25), (12, 30), (12, 8), (12, 5), (12, 1)]\n",
      "white moved 22, 18\n",
      "\n",
      "_._._._.\n",
      "B_._._._\n",
      "_._._._b\n",
      "W_._._._\n",
      "_._._W_w\n",
      "._._._._\n",
      "_._._._.\n",
      "._._._._\n",
      "68 turn: black last_moved_piece: None\n",
      "8 legal moves [(11, 15), (4, 8), (4, 13), (4, 17), (4, 22), (4, 26), (4, 31), (4, 0)]\n",
      "black moved 4, 0\n",
      "\n",
      "_B_._._.\n",
      "._._._._\n",
      "_._._._b\n",
      "W_._._._\n",
      "_._._W_w\n",
      "._._._._\n",
      "_._._._.\n",
      "._._._._\n",
      "69 turn: white last_moved_piece: None\n",
      "17 legal moves [(19, 15), (18, 22), (18, 25), (18, 29), (18, 23), (18, 27), (18, 15), (18, 14), (18, 9), (18, 5), (12, 16), (12, 21), (12, 25), (12, 30), (12, 8), (12, 5), (12, 1)]\n",
      "white moved 18, 22\n",
      "\n",
      "_B_._._.\n",
      "._._._._\n",
      "_._._._b\n",
      "W_._._._\n",
      "_._._._w\n",
      "._._W_._\n",
      "_._._._.\n",
      "._._._._\n",
      "70 turn: black last_moved_piece: None\n",
      "8 legal moves [(11, 15), (0, 4), (0, 5), (0, 9), (0, 14), (0, 18), (0, 23), (0, 27)]\n",
      "black moved 0, 4\n",
      "\n",
      "_._._._.\n",
      "B_._._._\n",
      "_._._._b\n",
      "W_._._._\n",
      "_._._._w\n",
      "._._W_._\n",
      "_._._._.\n",
      "._._._._\n",
      "71 turn: white last_moved_piece: None\n",
      "17 legal moves [(19, 15), (22, 25), (22, 29), (22, 26), (22, 31), (22, 18), (22, 15), (22, 17), (22, 13), (22, 8), (12, 16), (12, 21), (12, 25), (12, 30), (12, 8), (12, 5), (12, 1)]\n",
      "white moved 22, 18\n",
      "\n",
      "_._._._.\n",
      "B_._._._\n",
      "_._._._b\n",
      "W_._._._\n",
      "_._._W_w\n",
      "._._._._\n",
      "_._._._.\n",
      "._._._._\n",
      "72 turn: black last_moved_piece: None\n",
      "8 legal moves [(11, 15), (4, 8), (4, 13), (4, 17), (4, 22), (4, 26), (4, 31), (4, 0)]\n",
      "black moved 4, 0\n",
      "\n",
      "_B_._._.\n",
      "._._._._\n",
      "_._._._b\n",
      "W_._._._\n",
      "_._._W_w\n",
      "._._._._\n",
      "_._._._.\n",
      "._._._._\n",
      "73 turn: white last_moved_piece: None\n",
      "17 legal moves [(19, 15), (18, 22), (18, 25), (18, 29), (18, 23), (18, 27), (18, 15), (18, 14), (18, 9), (18, 5), (12, 16), (12, 21), (12, 25), (12, 30), (12, 8), (12, 5), (12, 1)]\n",
      "white moved 18, 22\n",
      "\n",
      "_B_._._.\n",
      "._._._._\n",
      "_._._._b\n",
      "W_._._._\n",
      "_._._._w\n",
      "._._W_._\n",
      "_._._._.\n",
      "._._._._\n",
      "74 turn: black last_moved_piece: None\n",
      "8 legal moves [(11, 15), (0, 4), (0, 5), (0, 9), (0, 14), (0, 18), (0, 23), (0, 27)]\n",
      "black moved 0, 4\n",
      "\n",
      "_._._._.\n",
      "B_._._._\n",
      "_._._._b\n",
      "W_._._._\n",
      "_._._._w\n",
      "._._W_._\n",
      "_._._._.\n",
      "._._._._\n",
      "75 turn: white last_moved_piece: None\n",
      "17 legal moves [(19, 15), (22, 25), (22, 29), (22, 26), (22, 31), (22, 18), (22, 15), (22, 17), (22, 13), (22, 8), (12, 16), (12, 21), (12, 25), (12, 30), (12, 8), (12, 5), (12, 1)]\n",
      "white moved 22, 18\n",
      "\n",
      "_._._._.\n",
      "B_._._._\n",
      "_._._._b\n",
      "W_._._._\n",
      "_._._W_w\n",
      "._._._._\n",
      "_._._._.\n",
      "._._._._\n",
      "76 turn: black last_moved_piece: None\n",
      "8 legal moves [(11, 15), (4, 8), (4, 13), (4, 17), (4, 22), (4, 26), (4, 31), (4, 0)]\n",
      "black moved 4, 0\n",
      "\n",
      "_B_._._.\n",
      "._._._._\n",
      "_._._._b\n",
      "W_._._._\n",
      "_._._W_w\n",
      "._._._._\n",
      "_._._._.\n",
      "._._._._\n",
      "77 turn: white last_moved_piece: None\n",
      "17 legal moves [(19, 15), (18, 22), (18, 25), (18, 29), (18, 23), (18, 27), (18, 15), (18, 14), (18, 9), (18, 5), (12, 16), (12, 21), (12, 25), (12, 30), (12, 8), (12, 5), (12, 1)]\n",
      "white moved 18, 22\n",
      "\n",
      "_B_._._.\n",
      "._._._._\n",
      "_._._._b\n",
      "W_._._._\n",
      "_._._._w\n",
      "._._W_._\n",
      "_._._._.\n",
      "._._._._\n",
      "78 turn: black last_moved_piece: None\n",
      "8 legal moves [(11, 15), (0, 4), (0, 5), (0, 9), (0, 14), (0, 18), (0, 23), (0, 27)]\n",
      "black moved 0, 4\n",
      "\n",
      "_._._._.\n",
      "B_._._._\n",
      "_._._._b\n",
      "W_._._._\n",
      "_._._._w\n",
      "._._W_._\n",
      "_._._._.\n",
      "._._._._\n",
      "79 turn: white last_moved_piece: None\n",
      "17 legal moves [(19, 15), (22, 25), (22, 29), (22, 26), (22, 31), (22, 18), (22, 15), (22, 17), (22, 13), (22, 8), (12, 16), (12, 21), (12, 25), (12, 30), (12, 8), (12, 5), (12, 1)]\n",
      "white moved 22, 18\n",
      "\n",
      "_._._._.\n",
      "B_._._._\n",
      "_._._._b\n",
      "W_._._._\n",
      "_._._W_w\n",
      "._._._._\n",
      "_._._._.\n",
      "._._._._\n",
      "80 turn: black last_moved_piece: None\n",
      "8 legal moves [(11, 15), (4, 8), (4, 13), (4, 17), (4, 22), (4, 26), (4, 31), (4, 0)]\n",
      "black moved 4, 0\n",
      "\n",
      "_B_._._.\n",
      "._._._._\n",
      "_._._._b\n",
      "W_._._._\n",
      "_._._W_w\n",
      "._._._._\n",
      "_._._._.\n",
      "._._._._\n",
      "81 turn: white last_moved_piece: None\n",
      "17 legal moves [(19, 15), (18, 22), (18, 25), (18, 29), (18, 23), (18, 27), (18, 15), (18, 14), (18, 9), (18, 5), (12, 16), (12, 21), (12, 25), (12, 30), (12, 8), (12, 5), (12, 1)]\n",
      "white moved 18, 22\n",
      "\n",
      "_B_._._.\n",
      "._._._._\n",
      "_._._._b\n",
      "W_._._._\n",
      "_._._._w\n",
      "._._W_._\n",
      "_._._._.\n",
      "._._._._\n",
      "82 turn: black last_moved_piece: None\n",
      "8 legal moves [(11, 15), (0, 4), (0, 5), (0, 9), (0, 14), (0, 18), (0, 23), (0, 27)]\n",
      "black moved 0, 4\n",
      "\n",
      "_._._._.\n",
      "B_._._._\n",
      "_._._._b\n",
      "W_._._._\n",
      "_._._._w\n",
      "._._W_._\n",
      "_._._._.\n",
      "._._._._\n",
      "83 turn: white last_moved_piece: None\n",
      "17 legal moves [(19, 15), (22, 25), (22, 29), (22, 26), (22, 31), (22, 18), (22, 15), (22, 17), (22, 13), (22, 8), (12, 16), (12, 21), (12, 25), (12, 30), (12, 8), (12, 5), (12, 1)]\n",
      "white moved 22, 18\n",
      "\n",
      "_._._._.\n",
      "B_._._._\n",
      "_._._._b\n",
      "W_._._._\n",
      "_._._W_w\n",
      "._._._._\n",
      "_._._._.\n",
      "._._._._\n",
      "84 turn: black last_moved_piece: None\n",
      "8 legal moves [(11, 15), (4, 8), (4, 13), (4, 17), (4, 22), (4, 26), (4, 31), (4, 0)]\n",
      "black moved 4, 0\n",
      "\n",
      "_B_._._.\n",
      "._._._._\n",
      "_._._._b\n",
      "W_._._._\n",
      "_._._W_w\n",
      "._._._._\n",
      "_._._._.\n",
      "._._._._\n",
      "85 turn: white last_moved_piece: None\n",
      "17 legal moves [(19, 15), (18, 22), (18, 25), (18, 29), (18, 23), (18, 27), (18, 15), (18, 14), (18, 9), (18, 5), (12, 16), (12, 21), (12, 25), (12, 30), (12, 8), (12, 5), (12, 1)]\n",
      "white moved 18, 22\n",
      "\n",
      "_B_._._.\n",
      "._._._._\n",
      "_._._._b\n",
      "W_._._._\n",
      "_._._._w\n",
      "._._W_._\n",
      "_._._._.\n",
      "._._._._\n",
      "86 turn: black last_moved_piece: None\n",
      "8 legal moves [(11, 15), (0, 4), (0, 5), (0, 9), (0, 14), (0, 18), (0, 23), (0, 27)]\n",
      "black moved 0, 4\n",
      "\n",
      "_._._._.\n",
      "B_._._._\n",
      "_._._._b\n",
      "W_._._._\n",
      "_._._._w\n",
      "._._W_._\n",
      "_._._._.\n",
      "._._._._\n",
      "87 turn: white last_moved_piece: None\n",
      "17 legal moves [(19, 15), (22, 25), (22, 29), (22, 26), (22, 31), (22, 18), (22, 15), (22, 17), (22, 13), (22, 8), (12, 16), (12, 21), (12, 25), (12, 30), (12, 8), (12, 5), (12, 1)]\n",
      "white moved 22, 18\n",
      "\n",
      "_._._._.\n",
      "B_._._._\n",
      "_._._._b\n",
      "W_._._._\n",
      "_._._W_w\n",
      "._._._._\n",
      "_._._._.\n",
      "._._._._\n",
      "88 turn: black last_moved_piece: None\n",
      "8 legal moves [(11, 15), (4, 8), (4, 13), (4, 17), (4, 22), (4, 26), (4, 31), (4, 0)]\n",
      "black moved 4, 0\n",
      "\n",
      "_B_._._.\n",
      "._._._._\n",
      "_._._._b\n",
      "W_._._._\n",
      "_._._W_w\n",
      "._._._._\n",
      "_._._._.\n",
      "._._._._\n",
      "89 turn: white last_moved_piece: None\n",
      "17 legal moves [(19, 15), (18, 22), (18, 25), (18, 29), (18, 23), (18, 27), (18, 15), (18, 14), (18, 9), (18, 5), (12, 16), (12, 21), (12, 25), (12, 30), (12, 8), (12, 5), (12, 1)]\n",
      "white moved 18, 22\n",
      "\n",
      "_B_._._.\n",
      "._._._._\n",
      "_._._._b\n",
      "W_._._._\n",
      "_._._._w\n",
      "._._W_._\n",
      "_._._._.\n",
      "._._._._\n",
      "90 turn: black last_moved_piece: None\n",
      "8 legal moves [(11, 15), (0, 4), (0, 5), (0, 9), (0, 14), (0, 18), (0, 23), (0, 27)]\n",
      "black moved 0, 4\n",
      "\n",
      "_._._._.\n",
      "B_._._._\n",
      "_._._._b\n",
      "W_._._._\n",
      "_._._._w\n",
      "._._W_._\n",
      "_._._._.\n",
      "._._._._\n",
      "91 turn: white last_moved_piece: None\n",
      "17 legal moves [(19, 15), (22, 25), (22, 29), (22, 26), (22, 31), (22, 18), (22, 15), (22, 17), (22, 13), (22, 8), (12, 16), (12, 21), (12, 25), (12, 30), (12, 8), (12, 5), (12, 1)]\n",
      "white moved 22, 18\n",
      "\n",
      "_._._._.\n",
      "B_._._._\n",
      "_._._._b\n",
      "W_._._._\n",
      "_._._W_w\n",
      "._._._._\n",
      "_._._._.\n",
      "._._._._\n",
      "92 turn: black last_moved_piece: None\n",
      "8 legal moves [(11, 15), (4, 8), (4, 13), (4, 17), (4, 22), (4, 26), (4, 31), (4, 0)]\n",
      "black moved 4, 0\n",
      "\n",
      "_B_._._.\n",
      "._._._._\n",
      "_._._._b\n",
      "W_._._._\n",
      "_._._W_w\n",
      "._._._._\n",
      "_._._._.\n",
      "._._._._\n",
      "93 turn: white last_moved_piece: None\n",
      "17 legal moves [(19, 15), (18, 22), (18, 25), (18, 29), (18, 23), (18, 27), (18, 15), (18, 14), (18, 9), (18, 5), (12, 16), (12, 21), (12, 25), (12, 30), (12, 8), (12, 5), (12, 1)]\n",
      "white moved 18, 22\n",
      "\n",
      "_B_._._.\n",
      "._._._._\n",
      "_._._._b\n",
      "W_._._._\n",
      "_._._._w\n",
      "._._W_._\n",
      "_._._._.\n",
      "._._._._\n",
      "94 turn: black last_moved_piece: None\n",
      "8 legal moves [(11, 15), (0, 4), (0, 5), (0, 9), (0, 14), (0, 18), (0, 23), (0, 27)]\n",
      "black moved 0, 4\n",
      "\n",
      "_._._._.\n",
      "B_._._._\n",
      "_._._._b\n",
      "W_._._._\n",
      "_._._._w\n",
      "._._W_._\n",
      "_._._._.\n",
      "._._._._\n",
      "95 turn: white last_moved_piece: None\n",
      "17 legal moves [(19, 15), (22, 25), (22, 29), (22, 26), (22, 31), (22, 18), (22, 15), (22, 17), (22, 13), (22, 8), (12, 16), (12, 21), (12, 25), (12, 30), (12, 8), (12, 5), (12, 1)]\n",
      "white moved 22, 18\n",
      "\n",
      "_._._._.\n",
      "B_._._._\n",
      "_._._._b\n",
      "W_._._._\n",
      "_._._W_w\n",
      "._._._._\n",
      "_._._._.\n",
      "._._._._\n",
      "96 turn: black last_moved_piece: None\n",
      "8 legal moves [(11, 15), (4, 8), (4, 13), (4, 17), (4, 22), (4, 26), (4, 31), (4, 0)]\n",
      "black moved 4, 0\n",
      "\n",
      "_B_._._.\n",
      "._._._._\n",
      "_._._._b\n",
      "W_._._._\n",
      "_._._W_w\n",
      "._._._._\n",
      "_._._._.\n",
      "._._._._\n",
      "97 turn: white last_moved_piece: None\n",
      "17 legal moves [(19, 15), (18, 22), (18, 25), (18, 29), (18, 23), (18, 27), (18, 15), (18, 14), (18, 9), (18, 5), (12, 16), (12, 21), (12, 25), (12, 30), (12, 8), (12, 5), (12, 1)]\n",
      "white moved 18, 22\n",
      "\n",
      "_B_._._.\n",
      "._._._._\n",
      "_._._._b\n",
      "W_._._._\n",
      "_._._._w\n",
      "._._W_._\n",
      "_._._._.\n",
      "._._._._\n",
      "98 turn: black last_moved_piece: None\n",
      "8 legal moves [(11, 15), (0, 4), (0, 5), (0, 9), (0, 14), (0, 18), (0, 23), (0, 27)]\n",
      "black moved 0, 4\n",
      "\n",
      "_._._._.\n",
      "B_._._._\n",
      "_._._._b\n",
      "W_._._._\n",
      "_._._._w\n",
      "._._W_._\n",
      "_._._._.\n",
      "._._._._\n",
      "99 turn: white last_moved_piece: None\n",
      "17 legal moves [(19, 15), (22, 25), (22, 29), (22, 26), (22, 31), (22, 18), (22, 15), (22, 17), (22, 13), (22, 8), (12, 16), (12, 21), (12, 25), (12, 30), (12, 8), (12, 5), (12, 1)]\n"
     ]
    },
    {
     "name": "stderr",
     "output_type": "stream",
     "text": [
      "100%|███████████████████████████████████████████████████████████████████████████████████████████████████████████████████████████████████████████████| 1/1 [00:13<00:00, 13.21s/it]"
     ]
    },
    {
     "name": "stdout",
     "output_type": "stream",
     "text": [
      "white moved 22, 18\n",
      "\n",
      "draw\n",
      "total legal moves 928 avg branching factor 9.28\n",
      "black player evaluated 13467 positions in 2.51s (avg 5373.39 positions/s) effective branching factor 6.46\n",
      "black player pruned dict_items([(('beta', 1), 1876), (('alpha', 1), 8)])\n",
      "\n",
      "round : 1/1 result draw, explore_rate 0.1\n",
      "[[{'black': {'men': {0, 1, 2, 3, 4, 6, 7, 8}, 'kings': set()}, 'white': {'men': {24, 25, 26, 27, 28, 29, 30, 31}, 'kings': set()}}, (24, 20)], [{'black': {'men': {0, 1, 2, 3, 4, 6, 8, 11}, 'kings': set()}, 'white': {'men': {20, 25, 26, 27, 28, 29, 30, 31}, 'kings': set()}}, (26, 23)], [{'black': {'men': {0, 1, 2, 3, 4, 8, 9, 11}, 'kings': set()}, 'white': {'men': {20, 23, 25, 27, 28, 29, 30, 31}, 'kings': set()}}, (23, 19)], [{'black': {'men': {0, 1, 2, 3, 4, 9, 11, 12}, 'kings': set()}, 'white': {'men': {19, 20, 25, 27, 28, 29, 30, 31}, 'kings': set()}}, (20, 16)], [{'black': {'men': {0, 1, 2, 3, 4, 9, 11, 21}, 'kings': set()}, 'white': {'men': {19, 25, 27, 28, 29, 30, 31}, 'kings': set()}}, (25, 16)], [{'black': {'men': {0, 1, 2, 3, 4, 11, 14}, 'kings': set()}, 'white': {'men': {16, 19, 27, 28, 29, 30, 31}, 'kings': set()}}, (16, 12)], [{'black': {'men': {0, 1, 2, 3, 4, 11, 17}, 'kings': set()}, 'white': {'men': {12, 19, 27, 28, 29, 30, 31}, 'kings': set()}}, (27, 23)], [{'black': {'men': {0, 1, 2, 3, 8, 11, 17}, 'kings': set()}, 'white': {'men': {12, 19, 23, 28, 29, 30, 31}, 'kings': set()}}, (12, 5)], [{'black': {'men': {0, 2, 3, 8, 11, 17}, 'kings': set()}, 'white': {'men': {19, 23, 28, 29, 30, 31}, 'kings': set()}}, (23, 18)], [{'black': {'men': {2, 3, 4, 8, 11, 17}, 'kings': set()}, 'white': {'men': {18, 19, 28, 29, 30, 31}, 'kings': set()}}, (18, 14)], [{'black': {'men': {2, 3, 4, 11, 12, 17}, 'kings': set()}, 'white': {'men': {14, 19, 28, 29, 30, 31}, 'kings': set()}}, (14, 9)], [{'black': {'men': {2, 3, 4, 11, 16, 17}, 'kings': set()}, 'white': {'men': {9, 19, 28, 29, 30, 31}, 'kings': set()}}, (9, 5)], [{'black': {'men': {2, 3, 4, 11, 17, 20}, 'kings': set()}, 'white': {'men': {5, 19, 28, 29, 30, 31}, 'kings': set()}}, (28, 24)], [{'black': {'men': {2, 3, 8, 11, 17, 20}, 'kings': set()}, 'white': {'men': {5, 19, 24, 29, 30, 31}, 'kings': set()}}, (30, 25)], [{'black': {'men': {2, 3, 11, 12, 17, 20}, 'kings': set()}, 'white': {'men': {5, 19, 24, 25, 29, 31}, 'kings': set()}}, (25, 22)], [{'black': {'men': {2, 3, 11, 12, 20, 26}, 'kings': set()}, 'white': {'men': {5, 19, 24, 29, 31}, 'kings': set()}}, (31, 22)], [{'black': {'men': {2, 3, 11, 16, 20}, 'kings': set()}, 'white': {'men': {5, 19, 22, 24, 29}, 'kings': set()}}, (22, 18)], [{'black': {'men': {3, 6, 11, 16, 20}, 'kings': set()}, 'white': {'men': {5, 18, 19, 24, 29}, 'kings': set()}}, (24, 21)], [{'black': {'men': {3, 6, 11, 20, 25}, 'kings': set()}, 'white': {'men': {29, 18, 19, 5}, 'kings': set()}}, (29, 22)], [{'black': {'men': {11, 9, 3, 20}, 'kings': set()}, 'white': {'men': {18, 19, 5, 22}, 'kings': set()}}, (22, 17)], [{'black': {'men': {9, 11, 20, 7}, 'kings': set()}, 'white': {'men': {17, 18, 19, 5}, 'kings': set()}}, (5, 0)], [{'black': {'men': {11, 20, 13, 7}, 'kings': set()}, 'white': {'men': {17, 18, 19}, 'kings': {0}}}, (17, 8)], [{'black': {'men': {10, 11, 20}, 'kings': set()}, 'white': {'men': {8, 18, 19}, 'kings': {0}}}, (0, 4)], [{'black': {'men': {24, 10, 11}, 'kings': set()}, 'white': {'men': {8, 18, 19}, 'kings': {4}}}, (8, 5)], [{'black': {'men': {10, 11}, 'kings': {29}}, 'white': {'men': {18, 19, 5}, 'kings': {4}}}, (4, 22)], [{'black': {'men': {10, 11}, 'kings': {20}}, 'white': {'men': {18, 19, 5}, 'kings': {22}}}, (5, 1)], [{'black': {'men': {10, 11}, 'kings': {9}}, 'white': {'men': {18, 19}, 'kings': {1, 22}}}, (1, 15)], [{'black': {'men': {11}, 'kings': {23}}, 'white': {'men': {19}, 'kings': {22, 15}}}, (15, 1)], [{'black': {'men': {11}, 'kings': {0}}, 'white': {'men': {19}, 'kings': {1, 22}}}, (1, 12)], [{'black': {'men': {11}, 'kings': {4}}, 'white': {'men': {19}, 'kings': {12, 22}}}, (22, 18)], [{'black': {'men': {11}, 'kings': {0}}, 'white': {'men': {19}, 'kings': {18, 12}}}, (18, 22)], [{'black': {'men': {11}, 'kings': {4}}, 'white': {'men': {19}, 'kings': {12, 22}}}, (22, 18)], [{'black': {'men': {11}, 'kings': {0}}, 'white': {'men': {19}, 'kings': {18, 12}}}, (18, 22)], [{'black': {'men': {11}, 'kings': {4}}, 'white': {'men': {19}, 'kings': {12, 22}}}, (22, 18)], [{'black': {'men': {11}, 'kings': {0}}, 'white': {'men': {19}, 'kings': {18, 12}}}, (18, 22)], [{'black': {'men': {11}, 'kings': {4}}, 'white': {'men': {19}, 'kings': {12, 22}}}, (22, 18)], [{'black': {'men': {11}, 'kings': {0}}, 'white': {'men': {19}, 'kings': {18, 12}}}, (18, 22)], [{'black': {'men': {11}, 'kings': {4}}, 'white': {'men': {19}, 'kings': {12, 22}}}, (22, 18)], [{'black': {'men': {11}, 'kings': {0}}, 'white': {'men': {19}, 'kings': {18, 12}}}, (18, 22)], [{'black': {'men': {11}, 'kings': {4}}, 'white': {'men': {19}, 'kings': {12, 22}}}, (22, 18)], [{'black': {'men': {11}, 'kings': {0}}, 'white': {'men': {19}, 'kings': {18, 12}}}, (18, 22)], [{'black': {'men': {11}, 'kings': {4}}, 'white': {'men': {19}, 'kings': {12, 22}}}, (22, 18)], [{'black': {'men': {11}, 'kings': {0}}, 'white': {'men': {19}, 'kings': {18, 12}}}, (18, 22)], [{'black': {'men': {11}, 'kings': {4}}, 'white': {'men': {19}, 'kings': {12, 22}}}, (22, 18)], [{'black': {'men': {11}, 'kings': {0}}, 'white': {'men': {19}, 'kings': {18, 12}}}, (18, 22)], [{'black': {'men': {11}, 'kings': {4}}, 'white': {'men': {19}, 'kings': {12, 22}}}, (22, 18)], [{'black': {'men': {11}, 'kings': {0}}, 'white': {'men': {19}, 'kings': {18, 12}}}, (18, 22)], [{'black': {'men': {11}, 'kings': {4}}, 'white': {'men': {19}, 'kings': {12, 22}}}, (22, 18)], [{'black': {'men': {11}, 'kings': {0}}, 'white': {'men': {19}, 'kings': {18, 12}}}, (18, 22)], [{'black': {'men': {11}, 'kings': {4}}, 'white': {'men': {19}, 'kings': {12, 22}}}, (22, 18)]]\n",
      "black win 0 draw 1 loss 0\n"
     ]
    },
    {
     "name": "stderr",
     "output_type": "stream",
     "text": [
      "\n"
     ]
    }
   ],
   "source": [
    "# A few matches against a random player\n",
    "max_game_len = 100\n",
    "n_matches = 1\n",
    "n_wins, n_draws, n_losses = 0, 0, 0\n",
    "is_show_game = True\n",
    "explore_rate=0.1\n",
    "for i in tqdm(range(n_matches)):\n",
    "    if is_show_game:\n",
    "        print('game', i)\n",
    "    ch = Checkers()\n",
    "    black_player = MinimaxPlayer(\n",
    "        'black',\n",
    "        # value_func=partial(first_order_adv, 'black', 200, 100, 20, 0),\n",
    "        value_func=partial(first_order_adv, 'black', 86.0315, 54.568, 87.21072, 25.85066),        \n",
    "        # The provided legal moves might be ordered differently\n",
    "        rollout_order_gen=lambda x: sorted(x),\n",
    "        search_depth=3,\n",
    "        seed=i)\n",
    "\n",
    "    white_player = MinimaxPlayer(\n",
    "                    'white',\n",
    "                    # value_func=partial(first_order_adv, 'black', 200, 100, 20, 0),\n",
    "                    value_func=partial(first_order_adv, 'white', 86.0315, 54.568, 87.21072, 25.85066),        \n",
    "                    # The provided legal moves might be ordered differently\n",
    "                    rollout_order_gen=lambda x: sorted(x),\n",
    "                    search_depth=4,\n",
    "                    seed=i)\n",
    "\n",
    "    #modify this function to put our RL model as white\n",
    "    winner = play_a_game(ch, black_player.next_move, white_player.next_move, max_game_len,is_show_detail = is_show_game)\n",
    "\n",
    "    # Play with a minimax player\n",
    "    # play_a_game(ch, keyboard_player_move, white_player.next_move)\n",
    "    if is_show_game:\n",
    "        print('black player evaluated %i positions in %.2fs (avg %.2f positions/s) effective branching factor %.2f' % (black_player.n_evaluated_positions, black_player.evaluation_dt, black_player.n_evaluated_positions / black_player.evaluation_dt, (black_player.n_evaluated_positions / black_player.ply) ** (1 / black_player.search_depth)))\n",
    "        print('black player pruned', black_player.prunes.items())\n",
    "        print()\n",
    "    result:RESULT_TYPE\n",
    "    if winner == 'black':\n",
    "        n_wins += 1\n",
    "        result = RESULT_TYPE.LOSE\n",
    "    elif winner is None:\n",
    "        n_draws += 1\n",
    "        result = RESULT_TYPE.DRAW\n",
    "    else:\n",
    "        n_losses += 1\n",
    "        result = RESULT_TYPE.WIN\n",
    "\n",
    "    print(f\"round : {i+1}/{n_matches} result {result.value}, explore_rate {explore_rate}\")\n",
    "    print(white_player.board_move_dict)\n",
    "\n",
    "print('black win', n_wins, 'draw', n_draws, 'loss', n_losses)"
   ]
  },
  {
   "cell_type": "code",
   "execution_count": 145,
   "metadata": {},
   "outputs": [
    {
     "data": {
      "text/plain": [
       "[{'black': {'men': {0, 1, 2, 3, 4, 6, 7, 8}, 'kings': set()},\n",
       "  'white': {'men': {24, 25, 26, 27, 28, 29, 30, 31}, 'kings': set()}},\n",
       " (24, 20)]"
      ]
     },
     "execution_count": 145,
     "metadata": {},
     "output_type": "execute_result"
    }
   ],
   "source": [
    "white_player.board_move_dict[0]"
   ]
  },
  {
   "cell_type": "code",
   "execution_count": 146,
   "metadata": {},
   "outputs": [],
   "source": [
    "import torch\n",
    "def encode_board_to_feature_map(board):\n",
    "    output_maps = torch.zeros((4, 8, 4))\n",
    "    for k,(side, typ) in enumerate([[\"black\",\"men\"], [\"black\", \"kings\"], [\"white\",\"men\"],[\"white\",\"kings\"]]):\n",
    "        _indices = list(board[side][typ])\n",
    "        _2d_indices = [[int(i/4), i % 4] for i in _indices]\n",
    "        _maps = torch.zeros((1,8,4))\n",
    "        for i,j in _2d_indices:\n",
    "            _maps[:,i,j] = torch.tensor([1.0])\n",
    "        output_maps[k, :, :] = _maps\n",
    "    return output_maps\n",
    "\n",
    "def encode_action(action):\n",
    "    output_maps = torch.zeros((2, 8, 4))\n",
    "    a = [int(action[0] / 4), action[0] % 4]\n",
    "    b = [int(action[1] / 4), action[1] % 4]\n",
    "    output_maps[0, a[0],a[1]] = 1.0\n",
    "    output_maps[1, b[0],b[1]] = 1.0\n",
    "    return output_maps"
   ]
  },
  {
   "cell_type": "code",
   "execution_count": 147,
   "metadata": {},
   "outputs": [
    {
     "data": {
      "text/plain": [
       "tensor([[[1., 1., 1., 1.],\n",
       "         [1., 0., 1., 1.],\n",
       "         [1., 0., 0., 0.],\n",
       "         [0., 0., 0., 0.],\n",
       "         [0., 0., 0., 0.],\n",
       "         [0., 0., 0., 0.],\n",
       "         [0., 0., 0., 0.],\n",
       "         [0., 0., 0., 0.]],\n",
       "\n",
       "        [[0., 0., 0., 0.],\n",
       "         [0., 0., 0., 0.],\n",
       "         [0., 0., 0., 0.],\n",
       "         [0., 0., 0., 0.],\n",
       "         [0., 0., 0., 0.],\n",
       "         [0., 0., 0., 0.],\n",
       "         [0., 0., 0., 0.],\n",
       "         [0., 0., 0., 0.]],\n",
       "\n",
       "        [[0., 0., 0., 0.],\n",
       "         [0., 0., 0., 0.],\n",
       "         [0., 0., 0., 0.],\n",
       "         [0., 0., 0., 0.],\n",
       "         [0., 0., 0., 0.],\n",
       "         [0., 0., 0., 0.],\n",
       "         [1., 1., 1., 1.],\n",
       "         [1., 1., 1., 1.]],\n",
       "\n",
       "        [[0., 0., 0., 0.],\n",
       "         [0., 0., 0., 0.],\n",
       "         [0., 0., 0., 0.],\n",
       "         [0., 0., 0., 0.],\n",
       "         [0., 0., 0., 0.],\n",
       "         [0., 0., 0., 0.],\n",
       "         [0., 0., 0., 0.],\n",
       "         [0., 0., 0., 0.]]])"
      ]
     },
     "execution_count": 147,
     "metadata": {},
     "output_type": "execute_result"
    }
   ],
   "source": [
    "encode_board_to_feature_map(white_player.board_move_dict[0][0])"
   ]
  },
  {
   "cell_type": "code",
   "execution_count": 148,
   "metadata": {},
   "outputs": [
    {
     "data": {
      "text/plain": [
       "tensor([[[0., 0., 0., 0.],\n",
       "         [0., 0., 0., 0.],\n",
       "         [0., 0., 0., 0.],\n",
       "         [0., 0., 0., 0.],\n",
       "         [0., 0., 0., 0.],\n",
       "         [0., 0., 0., 0.],\n",
       "         [1., 0., 0., 0.],\n",
       "         [0., 0., 0., 0.]],\n",
       "\n",
       "        [[0., 0., 0., 0.],\n",
       "         [0., 0., 0., 0.],\n",
       "         [0., 0., 0., 0.],\n",
       "         [0., 0., 0., 0.],\n",
       "         [0., 0., 0., 0.],\n",
       "         [1., 0., 0., 0.],\n",
       "         [0., 0., 0., 0.],\n",
       "         [0., 0., 0., 0.]]])"
      ]
     },
     "execution_count": 148,
     "metadata": {},
     "output_type": "execute_result"
    }
   ],
   "source": [
    "encode_action(white_player.board_move_dict[0][1])"
   ]
  },
  {
   "cell_type": "code",
   "execution_count": 187,
   "metadata": {},
   "outputs": [
    {
     "name": "stdout",
     "output_type": "stream",
     "text": [
      "MultiLayerDenseModel(\n",
      "  (model): Sequential(\n",
      "    (0): Linear(in_features=128, out_features=256, bias=True)\n",
      "    (1): ReLU()\n",
      "    (2): Linear(in_features=256, out_features=512, bias=True)\n",
      "    (3): ReLU()\n",
      "    (4): Linear(in_features=512, out_features=256, bias=True)\n",
      "    (5): ReLU()\n",
      "    (6): Linear(in_features=256, out_features=64, bias=True)\n",
      "    (7): Sigmoid()\n",
      "  )\n",
      ")\n"
     ]
    }
   ],
   "source": [
    "import torch\n",
    "import torch.nn as nn\n",
    "from torch.utils.data import TensorDataset, DataLoader\n",
    "\n",
    "class MultiLayerDenseModel(nn.Module):\n",
    "    def __init__(self, input_size, output_size, hidden_sizes):\n",
    "        super(MultiLayerDenseModel, self).__init__()\n",
    "        self.input_size = input_size\n",
    "        self.output_size = output_size\n",
    "        self.hidden_sizes = hidden_sizes\n",
    "        \n",
    "        # Define layers\n",
    "        layers = []\n",
    "        in_features = input_size\n",
    "        for hidden_size in hidden_sizes:\n",
    "            layers.append(nn.Linear(in_features, hidden_size))\n",
    "            layers.append(nn.ReLU())  # You can change the activation function if needed\n",
    "            in_features = hidden_size\n",
    "        layers.append(nn.Linear(in_features, output_size))\n",
    "        layers.append(nn.Sigmoid())\n",
    "        \n",
    "        # Create the sequential model\n",
    "        self.model = nn.Sequential(*layers)\n",
    "        \n",
    "    def forward(self, x):\n",
    "        return self.model(x)\n",
    "\n",
    "# Example usage:\n",
    "input_size = 128\n",
    "output_size = 64\n",
    "hidden_sizes = [256, 512, 256]  # Example hidden layer sizes\n",
    "model = MultiLayerDenseModel(input_size, output_size, hidden_sizes)\n",
    "print(model)"
   ]
  },
  {
   "cell_type": "markdown",
   "metadata": {},
   "source": [
    "## train loop"
   ]
  },
  {
   "cell_type": "code",
   "execution_count": 188,
   "metadata": {},
   "outputs": [],
   "source": [
    "# # in_data = encode_board_to_feature_map(white_player.board_move_dict[0][0])\n",
    "# in_data = in_data[None,:,:,:]\n",
    "# print(in_data.shape)\n",
    "# in_data = in_data.flatten(start_dim=1)\n",
    "# print(in_data.shape)\n",
    "# model.forward(in_data).shape"
   ]
  },
  {
   "cell_type": "code",
   "execution_count": 189,
   "metadata": {},
   "outputs": [],
   "source": [
    "loss_fn = torch.nn.MSELoss(reduction=\"sum\")\n",
    "optimizer = torch.optim.Adam(model.parameters(), lr = 0.0005)"
   ]
  },
  {
   "cell_type": "code",
   "execution_count": null,
   "metadata": {},
   "outputs": [
    {
     "name": "stderr",
     "output_type": "stream",
     "text": [
      "  0%|▏                                                                                                                                         | 1/1000 [00:03<1:02:49,  3.77s/it]"
     ]
    },
    {
     "name": "stdout",
     "output_type": "stream",
     "text": [
      "round : 1/1000 result win\n",
      "start training\n",
      "train loss: tensor(175.6419, device='cuda:0', grad_fn=<MseLossBackward0>)\n",
      "val loss 174.19525146484375\n"
     ]
    },
    {
     "name": "stderr",
     "output_type": "stream",
     "text": [
      "  0%|▎                                                                                                                                         | 2/1000 [00:07<1:02:59,  3.79s/it]"
     ]
    },
    {
     "name": "stdout",
     "output_type": "stream",
     "text": [
      "round : 2/1000 result win\n"
     ]
    },
    {
     "name": "stderr",
     "output_type": "stream",
     "text": [
      "  0%|▍                                                                                                                                         | 3/1000 [00:11<1:03:21,  3.81s/it]"
     ]
    },
    {
     "name": "stdout",
     "output_type": "stream",
     "text": [
      "round : 3/1000 result win\n",
      "start training\n",
      "train loss: tensor(252.9847, device='cuda:0', grad_fn=<MseLossBackward0>)\n",
      "train loss: tensor(93.8799, device='cuda:0', grad_fn=<MseLossBackward0>)\n",
      "val loss 170.19441986083984\n"
     ]
    },
    {
     "name": "stderr",
     "output_type": "stream",
     "text": [
      "  0%|▌                                                                                                                                         | 4/1000 [00:15<1:03:41,  3.84s/it]"
     ]
    },
    {
     "name": "stdout",
     "output_type": "stream",
     "text": [
      "round : 4/1000 result win\n"
     ]
    },
    {
     "name": "stderr",
     "output_type": "stream",
     "text": [
      "  0%|▋                                                                                                                                         | 5/1000 [00:19<1:03:49,  3.85s/it]"
     ]
    },
    {
     "name": "stdout",
     "output_type": "stream",
     "text": [
      "round : 5/1000 result win\n",
      "start training\n",
      "train loss: tensor(247.4570, device='cuda:0', grad_fn=<MseLossBackward0>)\n",
      "train loss: tensor(91.7366, device='cuda:0', grad_fn=<MseLossBackward0>)\n",
      "val loss 165.20427322387695\n"
     ]
    },
    {
     "name": "stderr",
     "output_type": "stream",
     "text": [
      "  1%|▊                                                                                                                                         | 6/1000 [00:23<1:03:48,  3.85s/it]"
     ]
    },
    {
     "name": "stdout",
     "output_type": "stream",
     "text": [
      "round : 6/1000 result win\n"
     ]
    },
    {
     "name": "stderr",
     "output_type": "stream",
     "text": [
      "  1%|▉                                                                                                                                         | 7/1000 [00:26<1:03:45,  3.85s/it]"
     ]
    },
    {
     "name": "stdout",
     "output_type": "stream",
     "text": [
      "round : 7/1000 result win\n",
      "start training\n",
      "train loss: tensor(239.8025, device='cuda:0', grad_fn=<MseLossBackward0>)\n",
      "train loss: tensor(88.8952, device='cuda:0', grad_fn=<MseLossBackward0>)\n",
      "val loss 157.88634490966797\n"
     ]
    },
    {
     "name": "stderr",
     "output_type": "stream",
     "text": [
      "  1%|█                                                                                                                                         | 8/1000 [00:30<1:03:38,  3.85s/it]"
     ]
    },
    {
     "name": "stdout",
     "output_type": "stream",
     "text": [
      "round : 8/1000 result win\n"
     ]
    },
    {
     "name": "stderr",
     "output_type": "stream",
     "text": [
      "  1%|█▏                                                                                                                                        | 9/1000 [00:34<1:03:49,  3.86s/it]"
     ]
    },
    {
     "name": "stdout",
     "output_type": "stream",
     "text": [
      "round : 9/1000 result win\n",
      "start training\n",
      "train loss: tensor(229.5883, device='cuda:0', grad_fn=<MseLossBackward0>)\n",
      "train loss: tensor(83.5456, device='cuda:0', grad_fn=<MseLossBackward0>)\n",
      "val loss 147.27031707763672\n"
     ]
    },
    {
     "name": "stderr",
     "output_type": "stream",
     "text": [
      "  1%|█▎                                                                                                                                       | 10/1000 [00:38<1:03:53,  3.87s/it]"
     ]
    },
    {
     "name": "stdout",
     "output_type": "stream",
     "text": [
      "round : 10/1000 result win\n"
     ]
    },
    {
     "name": "stderr",
     "output_type": "stream",
     "text": [
      "  1%|█▌                                                                                                                                       | 11/1000 [00:42<1:03:57,  3.88s/it]"
     ]
    },
    {
     "name": "stdout",
     "output_type": "stream",
     "text": [
      "round : 11/1000 result win\n",
      "start training\n",
      "train loss: tensor(214.5673, device='cuda:0', grad_fn=<MseLossBackward0>)\n",
      "train loss: tensor(76.1817, device='cuda:0', grad_fn=<MseLossBackward0>)\n",
      "val loss 132.43588256835938\n"
     ]
    },
    {
     "name": "stderr",
     "output_type": "stream",
     "text": [
      "  1%|█▋                                                                                                                                       | 12/1000 [00:46<1:03:53,  3.88s/it]"
     ]
    },
    {
     "name": "stdout",
     "output_type": "stream",
     "text": [
      "round : 12/1000 result win\n"
     ]
    },
    {
     "name": "stderr",
     "output_type": "stream",
     "text": [
      "  1%|█▊                                                                                                                                       | 13/1000 [00:50<1:03:58,  3.89s/it]"
     ]
    },
    {
     "name": "stdout",
     "output_type": "stream",
     "text": [
      "round : 13/1000 result win\n",
      "start training\n",
      "train loss: tensor(193.3159, device='cuda:0', grad_fn=<MseLossBackward0>)\n",
      "train loss: tensor(66.3624, device='cuda:0', grad_fn=<MseLossBackward0>)\n",
      "val loss 112.93603515625\n"
     ]
    },
    {
     "name": "stderr",
     "output_type": "stream",
     "text": [
      "  1%|█▉                                                                                                                                       | 14/1000 [00:54<1:03:56,  3.89s/it]"
     ]
    },
    {
     "name": "stdout",
     "output_type": "stream",
     "text": [
      "round : 14/1000 result win\n"
     ]
    },
    {
     "name": "stderr",
     "output_type": "stream",
     "text": [
      "  2%|██                                                                                                                                       | 15/1000 [00:58<1:04:04,  3.90s/it]"
     ]
    },
    {
     "name": "stdout",
     "output_type": "stream",
     "text": [
      "round : 15/1000 result win\n",
      "start training\n",
      "train loss: tensor(164.8786, device='cuda:0', grad_fn=<MseLossBackward0>)\n",
      "train loss: tensor(54.6486, device='cuda:0', grad_fn=<MseLossBackward0>)\n",
      "val loss 89.54674530029297\n"
     ]
    },
    {
     "name": "stderr",
     "output_type": "stream",
     "text": [
      "  2%|██▏                                                                                                                                      | 16/1000 [01:01<1:03:59,  3.90s/it]"
     ]
    },
    {
     "name": "stdout",
     "output_type": "stream",
     "text": [
      "round : 16/1000 result win\n"
     ]
    },
    {
     "name": "stderr",
     "output_type": "stream",
     "text": [
      "  2%|██▎                                                                                                                                      | 17/1000 [01:05<1:04:04,  3.91s/it]"
     ]
    },
    {
     "name": "stdout",
     "output_type": "stream",
     "text": [
      "round : 17/1000 result win\n",
      "start training\n",
      "train loss: tensor(129.4629, device='cuda:0', grad_fn=<MseLossBackward0>)\n",
      "train loss: tensor(42.8556, device='cuda:0', grad_fn=<MseLossBackward0>)\n",
      "val loss 65.13505554199219\n"
     ]
    },
    {
     "name": "stderr",
     "output_type": "stream",
     "text": [
      "  2%|██▍                                                                                                                                      | 18/1000 [01:09<1:04:09,  3.92s/it]"
     ]
    },
    {
     "name": "stdout",
     "output_type": "stream",
     "text": [
      "round : 18/1000 result win\n"
     ]
    },
    {
     "name": "stderr",
     "output_type": "stream",
     "text": [
      "  2%|██▌                                                                                                                                      | 19/1000 [01:13<1:03:57,  3.91s/it]"
     ]
    },
    {
     "name": "stdout",
     "output_type": "stream",
     "text": [
      "round : 19/1000 result win\n",
      "start training\n",
      "train loss: tensor(97.8208, device='cuda:0', grad_fn=<MseLossBackward0>)\n",
      "train loss: tensor(26.4186, device='cuda:0', grad_fn=<MseLossBackward0>)\n",
      "val loss 44.255319595336914\n"
     ]
    },
    {
     "name": "stderr",
     "output_type": "stream",
     "text": [
      "  2%|██▋                                                                                                                                      | 20/1000 [01:17<1:03:50,  3.91s/it]"
     ]
    },
    {
     "name": "stdout",
     "output_type": "stream",
     "text": [
      "round : 20/1000 result win\n"
     ]
    },
    {
     "name": "stderr",
     "output_type": "stream",
     "text": [
      "  2%|██▉                                                                                                                                      | 21/1000 [01:21<1:03:47,  3.91s/it]"
     ]
    },
    {
     "name": "stdout",
     "output_type": "stream",
     "text": [
      "round : 21/1000 result win\n",
      "start training\n",
      "train loss: tensor(66.0166, device='cuda:0', grad_fn=<MseLossBackward0>)\n",
      "train loss: tensor(18.4269, device='cuda:0', grad_fn=<MseLossBackward0>)\n",
      "val loss 30.598466873168945\n"
     ]
    },
    {
     "name": "stderr",
     "output_type": "stream",
     "text": [
      "  2%|███                                                                                                                                      | 22/1000 [01:25<1:03:42,  3.91s/it]"
     ]
    },
    {
     "name": "stdout",
     "output_type": "stream",
     "text": [
      "round : 22/1000 result win\n"
     ]
    },
    {
     "name": "stderr",
     "output_type": "stream",
     "text": [
      "  2%|███▏                                                                                                                                     | 23/1000 [01:29<1:03:31,  3.90s/it]"
     ]
    },
    {
     "name": "stdout",
     "output_type": "stream",
     "text": [
      "round : 23/1000 result win\n",
      "start training\n",
      "train loss: tensor(45.1731, device='cuda:0', grad_fn=<MseLossBackward0>)\n",
      "train loss: tensor(14.0600, device='cuda:0', grad_fn=<MseLossBackward0>)\n",
      "val loss 24.1253080368042\n"
     ]
    },
    {
     "name": "stderr",
     "output_type": "stream",
     "text": [
      "  2%|███▎                                                                                                                                     | 24/1000 [01:33<1:03:12,  3.89s/it]"
     ]
    },
    {
     "name": "stdout",
     "output_type": "stream",
     "text": [
      "round : 24/1000 result win\n"
     ]
    },
    {
     "name": "stderr",
     "output_type": "stream",
     "text": [
      "  2%|███▍                                                                                                                                     | 25/1000 [01:37<1:03:11,  3.89s/it]"
     ]
    },
    {
     "name": "stdout",
     "output_type": "stream",
     "text": [
      "round : 25/1000 result win\n",
      "start training\n",
      "train loss: tensor(34.9884, device='cuda:0', grad_fn=<MseLossBackward0>)\n",
      "train loss: tensor(12.4431, device='cuda:0', grad_fn=<MseLossBackward0>)\n",
      "val loss 21.99210023880005\n"
     ]
    },
    {
     "name": "stderr",
     "output_type": "stream",
     "text": [
      "  3%|███▌                                                                                                                                     | 26/1000 [01:40<1:03:11,  3.89s/it]"
     ]
    },
    {
     "name": "stdout",
     "output_type": "stream",
     "text": [
      "round : 26/1000 result win\n"
     ]
    },
    {
     "name": "stderr",
     "output_type": "stream",
     "text": [
      "  3%|███▋                                                                                                                                     | 27/1000 [01:44<1:03:06,  3.89s/it]"
     ]
    },
    {
     "name": "stdout",
     "output_type": "stream",
     "text": [
      "round : 27/1000 result win\n",
      "start training\n",
      "train loss: tensor(31.8423, device='cuda:0', grad_fn=<MseLossBackward0>)\n",
      "train loss: tensor(11.9324, device='cuda:0', grad_fn=<MseLossBackward0>)\n",
      "val loss 21.574571132659912\n"
     ]
    },
    {
     "name": "stderr",
     "output_type": "stream",
     "text": [
      "  3%|███▊                                                                                                                                     | 28/1000 [01:48<1:03:01,  3.89s/it]"
     ]
    },
    {
     "name": "stdout",
     "output_type": "stream",
     "text": [
      "round : 28/1000 result win\n"
     ]
    },
    {
     "name": "stderr",
     "output_type": "stream",
     "text": [
      "  3%|███▉                                                                                                                                     | 29/1000 [01:52<1:03:03,  3.90s/it]"
     ]
    },
    {
     "name": "stdout",
     "output_type": "stream",
     "text": [
      "round : 29/1000 result win\n",
      "start training\n",
      "train loss: tensor(31.1109, device='cuda:0', grad_fn=<MseLossBackward0>)\n",
      "train loss: tensor(11.9430, device='cuda:0', grad_fn=<MseLossBackward0>)\n",
      "val loss 21.617719650268555\n"
     ]
    },
    {
     "name": "stderr",
     "output_type": "stream",
     "text": [
      "  3%|████                                                                                                                                     | 30/1000 [01:56<1:02:50,  3.89s/it]"
     ]
    },
    {
     "name": "stdout",
     "output_type": "stream",
     "text": [
      "round : 30/1000 result win\n"
     ]
    },
    {
     "name": "stderr",
     "output_type": "stream",
     "text": [
      "  3%|████▏                                                                                                                                    | 31/1000 [02:00<1:02:42,  3.88s/it]"
     ]
    },
    {
     "name": "stdout",
     "output_type": "stream",
     "text": [
      "round : 31/1000 result win\n",
      "start training\n",
      "train loss: tensor(31.4265, device='cuda:0', grad_fn=<MseLossBackward0>)\n",
      "train loss: tensor(11.8486, device='cuda:0', grad_fn=<MseLossBackward0>)\n",
      "val loss 21.724026203155518\n"
     ]
    },
    {
     "name": "stderr",
     "output_type": "stream",
     "text": [
      "  3%|████▍                                                                                                                                    | 32/1000 [02:04<1:02:35,  3.88s/it]"
     ]
    },
    {
     "name": "stdout",
     "output_type": "stream",
     "text": [
      "round : 32/1000 result win\n"
     ]
    },
    {
     "name": "stderr",
     "output_type": "stream",
     "text": [
      "  3%|████▌                                                                                                                                    | 33/1000 [02:08<1:02:41,  3.89s/it]"
     ]
    },
    {
     "name": "stdout",
     "output_type": "stream",
     "text": [
      "round : 33/1000 result win\n",
      "start training\n",
      "train loss: tensor(31.6203, device='cuda:0', grad_fn=<MseLossBackward0>)\n",
      "train loss: tensor(11.8610, device='cuda:0', grad_fn=<MseLossBackward0>)\n",
      "val loss 21.808034896850586\n"
     ]
    },
    {
     "name": "stderr",
     "output_type": "stream",
     "text": [
      "  3%|████▋                                                                                                                                    | 34/1000 [02:12<1:02:45,  3.90s/it]"
     ]
    },
    {
     "name": "stdout",
     "output_type": "stream",
     "text": [
      "round : 34/1000 result win\n"
     ]
    },
    {
     "name": "stderr",
     "output_type": "stream",
     "text": [
      "  4%|████▊                                                                                                                                    | 35/1000 [02:15<1:02:36,  3.89s/it]"
     ]
    },
    {
     "name": "stdout",
     "output_type": "stream",
     "text": [
      "round : 35/1000 result win\n",
      "start training\n",
      "train loss: tensor(31.7023, device='cuda:0', grad_fn=<MseLossBackward0>)\n",
      "train loss: tensor(11.9293, device='cuda:0', grad_fn=<MseLossBackward0>)\n",
      "val loss 21.864033699035645\n"
     ]
    },
    {
     "name": "stderr",
     "output_type": "stream",
     "text": [
      "  4%|████▉                                                                                                                                    | 36/1000 [02:19<1:02:16,  3.88s/it]"
     ]
    },
    {
     "name": "stdout",
     "output_type": "stream",
     "text": [
      "round : 36/1000 result win\n"
     ]
    },
    {
     "name": "stderr",
     "output_type": "stream",
     "text": [
      "  4%|█████                                                                                                                                    | 37/1000 [02:23<1:02:16,  3.88s/it]"
     ]
    },
    {
     "name": "stdout",
     "output_type": "stream",
     "text": [
      "round : 37/1000 result win\n",
      "start training\n",
      "train loss: tensor(31.8236, device='cuda:0', grad_fn=<MseLossBackward0>)\n",
      "train loss: tensor(11.9168, device='cuda:0', grad_fn=<MseLossBackward0>)\n",
      "val loss 21.900155067443848\n"
     ]
    },
    {
     "name": "stderr",
     "output_type": "stream",
     "text": [
      "  4%|█████▏                                                                                                                                   | 38/1000 [02:27<1:02:14,  3.88s/it]"
     ]
    },
    {
     "name": "stdout",
     "output_type": "stream",
     "text": [
      "round : 38/1000 result win\n"
     ]
    },
    {
     "name": "stderr",
     "output_type": "stream",
     "text": [
      "  4%|█████▎                                                                                                                                   | 39/1000 [02:31<1:02:34,  3.91s/it]"
     ]
    },
    {
     "name": "stdout",
     "output_type": "stream",
     "text": [
      "round : 39/1000 result win\n",
      "start training\n",
      "train loss: tensor(31.8443, device='cuda:0', grad_fn=<MseLossBackward0>)\n",
      "train loss: tensor(11.9622, device='cuda:0', grad_fn=<MseLossBackward0>)\n",
      "val loss 21.923516273498535\n"
     ]
    },
    {
     "name": "stderr",
     "output_type": "stream",
     "text": [
      "  4%|█████▍                                                                                                                                   | 40/1000 [02:35<1:02:31,  3.91s/it]"
     ]
    },
    {
     "name": "stdout",
     "output_type": "stream",
     "text": [
      "round : 40/1000 result win\n"
     ]
    },
    {
     "name": "stderr",
     "output_type": "stream",
     "text": [
      "  4%|█████▌                                                                                                                                   | 41/1000 [02:39<1:02:28,  3.91s/it]"
     ]
    },
    {
     "name": "stdout",
     "output_type": "stream",
     "text": [
      "round : 41/1000 result win\n",
      "start training\n",
      "train loss: tensor(31.8885, device='cuda:0', grad_fn=<MseLossBackward0>)\n",
      "train loss: tensor(11.9635, device='cuda:0', grad_fn=<MseLossBackward0>)\n",
      "val loss 21.938965797424316\n"
     ]
    },
    {
     "name": "stderr",
     "output_type": "stream",
     "text": [
      "  4%|█████▊                                                                                                                                   | 42/1000 [02:43<1:02:27,  3.91s/it]"
     ]
    },
    {
     "name": "stdout",
     "output_type": "stream",
     "text": [
      "round : 42/1000 result win\n"
     ]
    },
    {
     "name": "stderr",
     "output_type": "stream",
     "text": [
      "  4%|█████▉                                                                                                                                   | 43/1000 [02:47<1:02:20,  3.91s/it]"
     ]
    },
    {
     "name": "stdout",
     "output_type": "stream",
     "text": [
      "round : 43/1000 result win\n",
      "start training\n",
      "train loss: tensor(31.9121, device='cuda:0', grad_fn=<MseLossBackward0>)\n",
      "train loss: tensor(11.9692, device='cuda:0', grad_fn=<MseLossBackward0>)\n",
      "val loss 21.94943618774414\n"
     ]
    },
    {
     "name": "stderr",
     "output_type": "stream",
     "text": [
      "  4%|██████                                                                                                                                   | 44/1000 [02:51<1:02:15,  3.91s/it]"
     ]
    },
    {
     "name": "stdout",
     "output_type": "stream",
     "text": [
      "round : 44/1000 result win\n"
     ]
    },
    {
     "name": "stderr",
     "output_type": "stream",
     "text": [
      "  4%|██████▏                                                                                                                                  | 45/1000 [02:54<1:02:20,  3.92s/it]"
     ]
    },
    {
     "name": "stdout",
     "output_type": "stream",
     "text": [
      "round : 45/1000 result win\n",
      "start training\n",
      "train loss: tensor(31.9224, device='cuda:0', grad_fn=<MseLossBackward0>)\n",
      "train loss: tensor(11.9788, device='cuda:0', grad_fn=<MseLossBackward0>)\n",
      "val loss 21.956689834594727\n"
     ]
    },
    {
     "name": "stderr",
     "output_type": "stream",
     "text": [
      "  5%|██████▎                                                                                                                                  | 46/1000 [02:58<1:02:03,  3.90s/it]"
     ]
    },
    {
     "name": "stdout",
     "output_type": "stream",
     "text": [
      "round : 46/1000 result win\n"
     ]
    },
    {
     "name": "stderr",
     "output_type": "stream",
     "text": [
      "  5%|██████▍                                                                                                                                  | 47/1000 [03:02<1:01:58,  3.90s/it]"
     ]
    },
    {
     "name": "stdout",
     "output_type": "stream",
     "text": [
      "round : 47/1000 result win\n",
      "start training\n",
      "train loss: tensor(31.9309, device='cuda:0', grad_fn=<MseLossBackward0>)\n",
      "train loss: tensor(11.9839, device='cuda:0', grad_fn=<MseLossBackward0>)\n",
      "val loss 21.961822509765625\n"
     ]
    },
    {
     "name": "stderr",
     "output_type": "stream",
     "text": [
      "  5%|██████▌                                                                                                                                  | 48/1000 [03:06<1:01:53,  3.90s/it]"
     ]
    },
    {
     "name": "stdout",
     "output_type": "stream",
     "text": [
      "round : 48/1000 result win\n"
     ]
    },
    {
     "name": "stderr",
     "output_type": "stream",
     "text": [
      "  5%|██████▋                                                                                                                                  | 49/1000 [03:10<1:02:11,  3.92s/it]"
     ]
    },
    {
     "name": "stdout",
     "output_type": "stream",
     "text": [
      "round : 49/1000 result win\n",
      "start training\n",
      "train loss: tensor(31.9479, device='cuda:0', grad_fn=<MseLossBackward0>)\n",
      "train loss: tensor(11.9771, device='cuda:0', grad_fn=<MseLossBackward0>)\n",
      "val loss 21.96552085876465\n"
     ]
    },
    {
     "name": "stderr",
     "output_type": "stream",
     "text": [
      "  5%|██████▊                                                                                                                                  | 50/1000 [03:14<1:02:06,  3.92s/it]"
     ]
    },
    {
     "name": "stdout",
     "output_type": "stream",
     "text": [
      "round : 50/1000 result win\n"
     ]
    },
    {
     "name": "stderr",
     "output_type": "stream",
     "text": [
      "  5%|██████▉                                                                                                                                  | 51/1000 [03:18<1:01:59,  3.92s/it]"
     ]
    },
    {
     "name": "stdout",
     "output_type": "stream",
     "text": [
      "round : 51/1000 result win\n",
      "start training\n",
      "train loss: tensor(31.9409, device='cuda:0', grad_fn=<MseLossBackward0>)\n",
      "train loss: tensor(11.9906, device='cuda:0', grad_fn=<MseLossBackward0>)\n",
      "val loss 21.968201160430908\n"
     ]
    },
    {
     "name": "stderr",
     "output_type": "stream",
     "text": [
      "  5%|███████                                                                                                                                  | 52/1000 [03:22<1:01:44,  3.91s/it]"
     ]
    },
    {
     "name": "stdout",
     "output_type": "stream",
     "text": [
      "round : 52/1000 result win\n"
     ]
    },
    {
     "name": "stderr",
     "output_type": "stream",
     "text": [
      "  5%|███████▎                                                                                                                                 | 53/1000 [03:26<1:01:52,  3.92s/it]"
     ]
    },
    {
     "name": "stdout",
     "output_type": "stream",
     "text": [
      "round : 53/1000 result win\n",
      "start training\n",
      "train loss: tensor(31.9530, device='cuda:0', grad_fn=<MseLossBackward0>)\n",
      "train loss: tensor(11.9840, device='cuda:0', grad_fn=<MseLossBackward0>)\n",
      "val loss 21.970168590545654\n"
     ]
    },
    {
     "name": "stderr",
     "output_type": "stream",
     "text": [
      "  5%|███████▍                                                                                                                                 | 54/1000 [03:30<1:01:49,  3.92s/it]"
     ]
    },
    {
     "name": "stdout",
     "output_type": "stream",
     "text": [
      "round : 54/1000 result win\n"
     ]
    },
    {
     "name": "stderr",
     "output_type": "stream",
     "text": [
      "  6%|███████▌                                                                                                                                 | 55/1000 [03:34<1:01:37,  3.91s/it]"
     ]
    },
    {
     "name": "stdout",
     "output_type": "stream",
     "text": [
      "round : 55/1000 result win\n",
      "start training\n",
      "train loss: tensor(31.9647, device='cuda:0', grad_fn=<MseLossBackward0>)\n",
      "train loss: tensor(11.9761, device='cuda:0', grad_fn=<MseLossBackward0>)\n",
      "val loss 21.971611976623535\n"
     ]
    },
    {
     "name": "stderr",
     "output_type": "stream",
     "text": [
      "  6%|███████▋                                                                                                                                 | 56/1000 [03:38<1:01:36,  3.92s/it]"
     ]
    },
    {
     "name": "stdout",
     "output_type": "stream",
     "text": [
      "round : 56/1000 result win\n"
     ]
    },
    {
     "name": "stderr",
     "output_type": "stream",
     "text": [
      "  6%|███████▊                                                                                                                                 | 57/1000 [03:42<1:01:47,  3.93s/it]"
     ]
    },
    {
     "name": "stdout",
     "output_type": "stream",
     "text": [
      "round : 57/1000 result win\n",
      "start training\n",
      "train loss: tensor(31.9562, device='cuda:0', grad_fn=<MseLossBackward0>)\n",
      "train loss: tensor(11.9873, device='cuda:0', grad_fn=<MseLossBackward0>)\n",
      "val loss 21.972641944885254\n"
     ]
    },
    {
     "name": "stderr",
     "output_type": "stream",
     "text": [
      "  6%|███████▉                                                                                                                                 | 58/1000 [03:45<1:01:44,  3.93s/it]"
     ]
    },
    {
     "name": "stdout",
     "output_type": "stream",
     "text": [
      "round : 58/1000 result win\n"
     ]
    },
    {
     "name": "stderr",
     "output_type": "stream",
     "text": [
      "  6%|████████                                                                                                                                 | 59/1000 [03:49<1:01:43,  3.94s/it]"
     ]
    },
    {
     "name": "stdout",
     "output_type": "stream",
     "text": [
      "round : 59/1000 result win\n",
      "start training\n",
      "train loss: tensor(31.9579, device='cuda:0', grad_fn=<MseLossBackward0>)\n",
      "train loss: tensor(11.9876, device='cuda:0', grad_fn=<MseLossBackward0>)\n",
      "val loss 21.973365783691406\n"
     ]
    },
    {
     "name": "stderr",
     "output_type": "stream",
     "text": [
      "  6%|████████▏                                                                                                                                | 60/1000 [03:53<1:01:33,  3.93s/it]"
     ]
    },
    {
     "name": "stdout",
     "output_type": "stream",
     "text": [
      "round : 60/1000 result win\n"
     ]
    },
    {
     "name": "stderr",
     "output_type": "stream",
     "text": [
      "  6%|████████▎                                                                                                                                | 61/1000 [03:57<1:01:28,  3.93s/it]"
     ]
    },
    {
     "name": "stdout",
     "output_type": "stream",
     "text": [
      "round : 61/1000 result win\n",
      "start training\n",
      "train loss: tensor(31.9753, device='cuda:0', grad_fn=<MseLossBackward0>)\n",
      "train loss: tensor(11.9716, device='cuda:0', grad_fn=<MseLossBackward0>)\n",
      "val loss 21.973868370056152\n"
     ]
    },
    {
     "name": "stderr",
     "output_type": "stream",
     "text": [
      "  6%|████████▍                                                                                                                                | 62/1000 [04:01<1:01:17,  3.92s/it]"
     ]
    },
    {
     "name": "stdout",
     "output_type": "stream",
     "text": [
      "round : 62/1000 result win\n"
     ]
    },
    {
     "name": "stderr",
     "output_type": "stream",
     "text": [
      "  6%|████████▋                                                                                                                                | 63/1000 [04:05<1:01:30,  3.94s/it]"
     ]
    },
    {
     "name": "stdout",
     "output_type": "stream",
     "text": [
      "round : 63/1000 result win\n",
      "start training\n",
      "train loss: tensor(31.9769, device='cuda:0', grad_fn=<MseLossBackward0>)\n",
      "train loss: tensor(11.9710, device='cuda:0', grad_fn=<MseLossBackward0>)\n",
      "val loss 21.974177837371826\n"
     ]
    },
    {
     "name": "stderr",
     "output_type": "stream",
     "text": [
      "  6%|████████▊                                                                                                                                | 64/1000 [04:09<1:01:16,  3.93s/it]"
     ]
    },
    {
     "name": "stdout",
     "output_type": "stream",
     "text": [
      "round : 64/1000 result win\n"
     ]
    },
    {
     "name": "stderr",
     "output_type": "stream",
     "text": [
      "  6%|████████▉                                                                                                                                | 65/1000 [04:13<1:01:08,  3.92s/it]"
     ]
    },
    {
     "name": "stdout",
     "output_type": "stream",
     "text": [
      "round : 65/1000 result win\n",
      "start training\n",
      "train loss: tensor(31.9547, device='cuda:0', grad_fn=<MseLossBackward0>)\n",
      "train loss: tensor(11.9937, device='cuda:0', grad_fn=<MseLossBackward0>)\n",
      "val loss 21.974303722381592\n"
     ]
    },
    {
     "name": "stderr",
     "output_type": "stream",
     "text": [
      "  7%|█████████                                                                                                                                | 66/1000 [04:17<1:01:01,  3.92s/it]"
     ]
    },
    {
     "name": "stdout",
     "output_type": "stream",
     "text": [
      "round : 66/1000 result win\n"
     ]
    },
    {
     "name": "stderr",
     "output_type": "stream",
     "text": [
      "  7%|█████████▏                                                                                                                               | 67/1000 [04:21<1:01:06,  3.93s/it]"
     ]
    },
    {
     "name": "stdout",
     "output_type": "stream",
     "text": [
      "round : 67/1000 result win\n",
      "start training\n",
      "train loss: tensor(31.9671, device='cuda:0', grad_fn=<MseLossBackward0>)\n",
      "train loss: tensor(11.9816, device='cuda:0', grad_fn=<MseLossBackward0>)\n",
      "val loss 21.97431182861328\n"
     ]
    },
    {
     "name": "stderr",
     "output_type": "stream",
     "text": [
      "  7%|█████████▎                                                                                                                               | 68/1000 [04:25<1:01:03,  3.93s/it]"
     ]
    },
    {
     "name": "stdout",
     "output_type": "stream",
     "text": [
      "round : 68/1000 result win\n"
     ]
    },
    {
     "name": "stderr",
     "output_type": "stream",
     "text": [
      "  7%|█████████▍                                                                                                                               | 69/1000 [04:29<1:01:04,  3.94s/it]"
     ]
    },
    {
     "name": "stdout",
     "output_type": "stream",
     "text": [
      "round : 69/1000 result win\n",
      "start training\n",
      "train loss: tensor(31.9550, device='cuda:0', grad_fn=<MseLossBackward0>)\n",
      "train loss: tensor(11.9937, device='cuda:0', grad_fn=<MseLossBackward0>)\n",
      "val loss 21.974201679229736\n"
     ]
    },
    {
     "name": "stderr",
     "output_type": "stream",
     "text": [
      "  7%|█████████▌                                                                                                                               | 70/1000 [04:33<1:00:56,  3.93s/it]"
     ]
    },
    {
     "name": "stdout",
     "output_type": "stream",
     "text": [
      "round : 70/1000 result win\n"
     ]
    },
    {
     "name": "stderr",
     "output_type": "stream",
     "text": [
      "  7%|█████████▋                                                                                                                               | 71/1000 [04:37<1:00:55,  3.93s/it]"
     ]
    },
    {
     "name": "stdout",
     "output_type": "stream",
     "text": [
      "round : 71/1000 result win\n",
      "start training\n",
      "train loss: tensor(31.9837, device='cuda:0', grad_fn=<MseLossBackward0>)\n",
      "train loss: tensor(11.9646, device='cuda:0', grad_fn=<MseLossBackward0>)\n",
      "val loss 21.974027633666992\n"
     ]
    },
    {
     "name": "stderr",
     "output_type": "stream",
     "text": [
      "  7%|█████████▊                                                                                                                               | 72/1000 [04:40<1:00:42,  3.93s/it]"
     ]
    },
    {
     "name": "stdout",
     "output_type": "stream",
     "text": [
      "round : 72/1000 result win\n"
     ]
    },
    {
     "name": "stderr",
     "output_type": "stream",
     "text": [
      "  7%|██████████                                                                                                                               | 73/1000 [04:44<1:00:33,  3.92s/it]"
     ]
    },
    {
     "name": "stdout",
     "output_type": "stream",
     "text": [
      "round : 73/1000 result win\n",
      "start training\n",
      "train loss: tensor(31.9723, device='cuda:0', grad_fn=<MseLossBackward0>)\n",
      "train loss: tensor(11.9756, device='cuda:0', grad_fn=<MseLossBackward0>)\n",
      "val loss 21.973753452301025\n"
     ]
    },
    {
     "name": "stderr",
     "output_type": "stream",
     "text": [
      "  7%|██████████▏                                                                                                                              | 74/1000 [04:48<1:00:41,  3.93s/it]"
     ]
    },
    {
     "name": "stdout",
     "output_type": "stream",
     "text": [
      "round : 74/1000 result win\n"
     ]
    },
    {
     "name": "stderr",
     "output_type": "stream",
     "text": [
      "  8%|██████████▎                                                                                                                              | 75/1000 [04:52<1:00:34,  3.93s/it]"
     ]
    },
    {
     "name": "stdout",
     "output_type": "stream",
     "text": [
      "round : 75/1000 result win\n",
      "start training\n",
      "train loss: tensor(31.9784, device='cuda:0', grad_fn=<MseLossBackward0>)\n",
      "train loss: tensor(11.9689, device='cuda:0', grad_fn=<MseLossBackward0>)\n",
      "val loss 21.97340679168701\n"
     ]
    },
    {
     "name": "stderr",
     "output_type": "stream",
     "text": [
      "  8%|██████████▍                                                                                                                              | 76/1000 [04:56<1:00:22,  3.92s/it]"
     ]
    },
    {
     "name": "stdout",
     "output_type": "stream",
     "text": [
      "round : 76/1000 result win\n"
     ]
    },
    {
     "name": "stderr",
     "output_type": "stream",
     "text": [
      "  8%|██████████▌                                                                                                                              | 77/1000 [05:00<1:00:17,  3.92s/it]"
     ]
    },
    {
     "name": "stdout",
     "output_type": "stream",
     "text": [
      "round : 77/1000 result win\n",
      "start training\n",
      "train loss: tensor(31.9543, device='cuda:0', grad_fn=<MseLossBackward0>)\n",
      "train loss: tensor(11.9925, device='cuda:0', grad_fn=<MseLossBackward0>)\n",
      "val loss 21.972952842712402\n"
     ]
    },
    {
     "name": "stderr",
     "output_type": "stream",
     "text": [
      "  8%|██████████▋                                                                                                                              | 78/1000 [05:04<1:00:23,  3.93s/it]"
     ]
    },
    {
     "name": "stdout",
     "output_type": "stream",
     "text": [
      "round : 78/1000 result win\n"
     ]
    },
    {
     "name": "stderr",
     "output_type": "stream",
     "text": [
      "  8%|██████████▊                                                                                                                              | 79/1000 [05:08<1:00:24,  3.94s/it]"
     ]
    },
    {
     "name": "stdout",
     "output_type": "stream",
     "text": [
      "round : 79/1000 result win\n",
      "start training\n",
      "train loss: tensor(31.9504, device='cuda:0', grad_fn=<MseLossBackward0>)\n",
      "train loss: tensor(11.9954, device='cuda:0', grad_fn=<MseLossBackward0>)\n",
      "val loss 21.972434520721436\n"
     ]
    },
    {
     "name": "stderr",
     "output_type": "stream",
     "text": [
      "  8%|██████████▉                                                                                                                              | 80/1000 [05:12<1:00:26,  3.94s/it]"
     ]
    },
    {
     "name": "stdout",
     "output_type": "stream",
     "text": [
      "round : 80/1000 result win\n"
     ]
    },
    {
     "name": "stderr",
     "output_type": "stream",
     "text": [
      "  8%|███████████                                                                                                                              | 81/1000 [05:16<1:00:17,  3.94s/it]"
     ]
    },
    {
     "name": "stdout",
     "output_type": "stream",
     "text": [
      "round : 81/1000 result win\n",
      "start training\n",
      "train loss: tensor(31.9650, device='cuda:0', grad_fn=<MseLossBackward0>)\n",
      "train loss: tensor(11.9797, device='cuda:0', grad_fn=<MseLossBackward0>)\n",
      "val loss 21.971867561340332\n"
     ]
    },
    {
     "name": "stderr",
     "output_type": "stream",
     "text": [
      "  8%|███████████▏                                                                                                                             | 82/1000 [05:20<1:00:05,  3.93s/it]"
     ]
    },
    {
     "name": "stdout",
     "output_type": "stream",
     "text": [
      "round : 82/1000 result win\n"
     ]
    },
    {
     "name": "stderr",
     "output_type": "stream",
     "text": [
      "  8%|███████████▎                                                                                                                             | 83/1000 [05:24<1:00:05,  3.93s/it]"
     ]
    },
    {
     "name": "stdout",
     "output_type": "stream",
     "text": [
      "round : 83/1000 result win\n",
      "start training\n",
      "train loss: tensor(31.9495, device='cuda:0', grad_fn=<MseLossBackward0>)\n",
      "train loss: tensor(11.9942, device='cuda:0', grad_fn=<MseLossBackward0>)\n",
      "val loss 21.971213817596436\n"
     ]
    },
    {
     "name": "stderr",
     "output_type": "stream",
     "text": [
      "  8%|███████████▋                                                                                                                               | 84/1000 [05:28<59:50,  3.92s/it]"
     ]
    },
    {
     "name": "stdout",
     "output_type": "stream",
     "text": [
      "round : 84/1000 result win\n"
     ]
    },
    {
     "name": "stderr",
     "output_type": "stream",
     "text": [
      "  8%|███████████▊                                                                                                                               | 85/1000 [05:31<59:42,  3.91s/it]"
     ]
    },
    {
     "name": "stdout",
     "output_type": "stream",
     "text": [
      "round : 85/1000 result win\n",
      "start training\n",
      "train loss: tensor(31.9499, device='cuda:0', grad_fn=<MseLossBackward0>)\n",
      "train loss: tensor(11.9924, device='cuda:0', grad_fn=<MseLossBackward0>)\n",
      "val loss 21.970499992370605\n"
     ]
    },
    {
     "name": "stderr",
     "output_type": "stream",
     "text": [
      "  9%|███████████▉                                                                                                                               | 86/1000 [05:35<59:37,  3.91s/it]"
     ]
    },
    {
     "name": "stdout",
     "output_type": "stream",
     "text": [
      "round : 86/1000 result win\n"
     ]
    },
    {
     "name": "stderr",
     "output_type": "stream",
     "text": [
      "  9%|████████████                                                                                                                               | 87/1000 [05:39<59:37,  3.92s/it]"
     ]
    },
    {
     "name": "stdout",
     "output_type": "stream",
     "text": [
      "round : 87/1000 result win\n",
      "start training\n",
      "train loss: tensor(31.9557, device='cuda:0', grad_fn=<MseLossBackward0>)\n",
      "train loss: tensor(11.9851, device='cuda:0', grad_fn=<MseLossBackward0>)\n",
      "val loss 21.96972417831421\n"
     ]
    },
    {
     "name": "stderr",
     "output_type": "stream",
     "text": [
      "  9%|████████████▏                                                                                                                              | 88/1000 [05:43<59:28,  3.91s/it]"
     ]
    },
    {
     "name": "stdout",
     "output_type": "stream",
     "text": [
      "round : 88/1000 result win\n"
     ]
    },
    {
     "name": "stderr",
     "output_type": "stream",
     "text": [
      "  9%|████████████▎                                                                                                                              | 89/1000 [05:47<59:29,  3.92s/it]"
     ]
    },
    {
     "name": "stdout",
     "output_type": "stream",
     "text": [
      "round : 89/1000 result win\n",
      "start training\n",
      "train loss: tensor(31.9493, device='cuda:0', grad_fn=<MseLossBackward0>)\n",
      "train loss: tensor(11.9900, device='cuda:0', grad_fn=<MseLossBackward0>)\n",
      "val loss 21.968864917755127\n"
     ]
    },
    {
     "name": "stderr",
     "output_type": "stream",
     "text": [
      "  9%|████████████▌                                                                                                                              | 90/1000 [05:51<59:24,  3.92s/it]"
     ]
    },
    {
     "name": "stdout",
     "output_type": "stream",
     "text": [
      "round : 90/1000 result win\n"
     ]
    },
    {
     "name": "stderr",
     "output_type": "stream",
     "text": [
      "  9%|████████████▋                                                                                                                              | 91/1000 [05:55<59:21,  3.92s/it]"
     ]
    },
    {
     "name": "stdout",
     "output_type": "stream",
     "text": [
      "round : 91/1000 result win\n",
      "start training\n",
      "train loss: tensor(31.9534, device='cuda:0', grad_fn=<MseLossBackward0>)\n",
      "train loss: tensor(11.9841, device='cuda:0', grad_fn=<MseLossBackward0>)\n",
      "val loss 21.967944145202637\n"
     ]
    },
    {
     "name": "stderr",
     "output_type": "stream",
     "text": [
      "  9%|████████████▊                                                                                                                              | 92/1000 [05:59<59:09,  3.91s/it]"
     ]
    },
    {
     "name": "stdout",
     "output_type": "stream",
     "text": [
      "round : 92/1000 result win\n"
     ]
    },
    {
     "name": "stderr",
     "output_type": "stream",
     "text": [
      "  9%|████████████▉                                                                                                                              | 93/1000 [06:03<59:13,  3.92s/it]"
     ]
    },
    {
     "name": "stdout",
     "output_type": "stream",
     "text": [
      "round : 93/1000 result win\n",
      "start training\n",
      "train loss: tensor(31.9527, device='cuda:0', grad_fn=<MseLossBackward0>)\n",
      "train loss: tensor(11.9829, device='cuda:0', grad_fn=<MseLossBackward0>)\n",
      "val loss 21.96693706512451\n"
     ]
    },
    {
     "name": "stderr",
     "output_type": "stream",
     "text": [
      "  9%|█████████████                                                                                                                              | 94/1000 [06:07<58:58,  3.91s/it]"
     ]
    },
    {
     "name": "stdout",
     "output_type": "stream",
     "text": [
      "round : 94/1000 result win\n"
     ]
    },
    {
     "name": "stderr",
     "output_type": "stream",
     "text": [
      " 10%|█████████████▏                                                                                                                             | 95/1000 [06:11<58:57,  3.91s/it]"
     ]
    },
    {
     "name": "stdout",
     "output_type": "stream",
     "text": [
      "round : 95/1000 result win\n",
      "start training\n",
      "train loss: tensor(31.9687, device='cuda:0', grad_fn=<MseLossBackward0>)\n",
      "train loss: tensor(11.9646, device='cuda:0', grad_fn=<MseLossBackward0>)\n",
      "val loss 21.96587324142456\n"
     ]
    },
    {
     "name": "stderr",
     "output_type": "stream",
     "text": [
      " 10%|█████████████▎                                                                                                                             | 96/1000 [06:14<58:47,  3.90s/it]"
     ]
    },
    {
     "name": "stdout",
     "output_type": "stream",
     "text": [
      "round : 96/1000 result win\n"
     ]
    },
    {
     "name": "stderr",
     "output_type": "stream",
     "text": [
      " 10%|█████████████▍                                                                                                                             | 97/1000 [06:18<58:46,  3.91s/it]"
     ]
    },
    {
     "name": "stdout",
     "output_type": "stream",
     "text": [
      "round : 97/1000 result win\n",
      "start training\n",
      "train loss: tensor(31.9403, device='cuda:0', grad_fn=<MseLossBackward0>)\n",
      "train loss: tensor(11.9913, device='cuda:0', grad_fn=<MseLossBackward0>)\n",
      "val loss 21.964651107788086\n"
     ]
    },
    {
     "name": "stderr",
     "output_type": "stream",
     "text": [
      " 10%|█████████████▌                                                                                                                             | 98/1000 [06:22<58:43,  3.91s/it]"
     ]
    },
    {
     "name": "stdout",
     "output_type": "stream",
     "text": [
      "round : 98/1000 result win\n"
     ]
    },
    {
     "name": "stderr",
     "output_type": "stream",
     "text": [
      " 10%|█████████████▊                                                                                                                             | 99/1000 [06:26<58:42,  3.91s/it]"
     ]
    },
    {
     "name": "stdout",
     "output_type": "stream",
     "text": [
      "round : 99/1000 result win\n",
      "start training\n",
      "train loss: tensor(31.9465, device='cuda:0', grad_fn=<MseLossBackward0>)\n",
      "train loss: tensor(11.9825, device='cuda:0', grad_fn=<MseLossBackward0>)\n",
      "val loss 21.963340282440186\n"
     ]
    },
    {
     "name": "stderr",
     "output_type": "stream",
     "text": [
      " 10%|█████████████▊                                                                                                                            | 100/1000 [06:30<58:32,  3.90s/it]"
     ]
    },
    {
     "name": "stdout",
     "output_type": "stream",
     "text": [
      "round : 100/1000 result win\n"
     ]
    },
    {
     "name": "stderr",
     "output_type": "stream",
     "text": [
      " 10%|█████████████▉                                                                                                                            | 101/1000 [06:34<58:32,  3.91s/it]"
     ]
    },
    {
     "name": "stdout",
     "output_type": "stream",
     "text": [
      "round : 101/1000 result win\n",
      "start training\n",
      "train loss: tensor(31.9634, device='cuda:0', grad_fn=<MseLossBackward0>)\n",
      "train loss: tensor(11.9626, device='cuda:0', grad_fn=<MseLossBackward0>)\n",
      "val loss 21.961952686309814\n"
     ]
    },
    {
     "name": "stderr",
     "output_type": "stream",
     "text": [
      " 10%|██████████████                                                                                                                            | 102/1000 [06:38<58:23,  3.90s/it]"
     ]
    },
    {
     "name": "stdout",
     "output_type": "stream",
     "text": [
      "round : 102/1000 result win\n"
     ]
    },
    {
     "name": "stderr",
     "output_type": "stream",
     "text": [
      " 10%|██████████████▏                                                                                                                           | 103/1000 [06:42<58:16,  3.90s/it]"
     ]
    },
    {
     "name": "stdout",
     "output_type": "stream",
     "text": [
      "round : 103/1000 result win\n",
      "start training\n",
      "train loss: tensor(31.9369, device='cuda:0', grad_fn=<MseLossBackward0>)\n",
      "train loss: tensor(11.9868, device='cuda:0', grad_fn=<MseLossBackward0>)\n",
      "val loss 21.960362434387207\n"
     ]
    },
    {
     "name": "stderr",
     "output_type": "stream",
     "text": [
      " 10%|██████████████▎                                                                                                                           | 104/1000 [06:46<58:09,  3.89s/it]"
     ]
    },
    {
     "name": "stdout",
     "output_type": "stream",
     "text": [
      "round : 104/1000 result win\n"
     ]
    },
    {
     "name": "stderr",
     "output_type": "stream",
     "text": [
      " 10%|██████████████▍                                                                                                                           | 105/1000 [06:50<58:15,  3.91s/it]"
     ]
    },
    {
     "name": "stdout",
     "output_type": "stream",
     "text": [
      "round : 105/1000 result win\n",
      "start training\n",
      "train loss: tensor(31.9334, device='cuda:0', grad_fn=<MseLossBackward0>)\n",
      "train loss: tensor(11.9871, device='cuda:0', grad_fn=<MseLossBackward0>)\n",
      "val loss 21.958635330200195\n"
     ]
    },
    {
     "name": "stderr",
     "output_type": "stream",
     "text": [
      " 11%|██████████████▋                                                                                                                           | 106/1000 [06:53<58:01,  3.89s/it]"
     ]
    },
    {
     "name": "stdout",
     "output_type": "stream",
     "text": [
      "round : 106/1000 result win\n"
     ]
    },
    {
     "name": "stderr",
     "output_type": "stream",
     "text": [
      " 11%|██████████████▊                                                                                                                           | 107/1000 [06:57<58:02,  3.90s/it]"
     ]
    },
    {
     "name": "stdout",
     "output_type": "stream",
     "text": [
      "round : 107/1000 result win\n",
      "start training\n",
      "train loss: tensor(31.9275, device='cuda:0', grad_fn=<MseLossBackward0>)\n",
      "train loss: tensor(11.9895, device='cuda:0', grad_fn=<MseLossBackward0>)\n",
      "val loss 21.95674228668213\n"
     ]
    },
    {
     "name": "stderr",
     "output_type": "stream",
     "text": [
      " 11%|██████████████▉                                                                                                                           | 108/1000 [07:01<58:05,  3.91s/it]"
     ]
    },
    {
     "name": "stdout",
     "output_type": "stream",
     "text": [
      "round : 108/1000 result win\n"
     ]
    },
    {
     "name": "stderr",
     "output_type": "stream",
     "text": [
      " 11%|███████████████                                                                                                                           | 109/1000 [07:05<58:03,  3.91s/it]"
     ]
    },
    {
     "name": "stdout",
     "output_type": "stream",
     "text": [
      "round : 109/1000 result win\n",
      "start training\n",
      "train loss: tensor(31.9226, device='cuda:0', grad_fn=<MseLossBackward0>)\n",
      "train loss: tensor(11.9908, device='cuda:0', grad_fn=<MseLossBackward0>)\n",
      "val loss 21.954666137695312\n"
     ]
    }
   ],
   "source": [
    "# A few matches against a random player\n",
    "max_game_len = 100\n",
    "n_matches = 1000\n",
    "n_wins, n_draws, n_losses = 0, 0, 0\n",
    "is_show_game = False\n",
    "train_batch_size = 16\n",
    "device =  \"cuda\"\n",
    "offset_seed = 1000\n",
    "model = model.to(device)\n",
    "train_seqs = []\n",
    "\n",
    "for i in tqdm(range(n_matches)):\n",
    "    if is_show_game:\n",
    "        print('game', i)\n",
    "    ch = Checkers()\n",
    "    black_player = MinimaxPlayer(\n",
    "        'black',\n",
    "        # value_func=partial(first_order_adv, 'black', 200, 100, 20, 0),\n",
    "        value_func=partial(first_order_adv, 'black', 86.0315, 54.568, 87.21072, 25.85066),        \n",
    "        # The provided legal moves might be ordered differently\n",
    "        rollout_order_gen=lambda x: sorted(x),\n",
    "        search_depth=2,\n",
    "        seed=i+offset_seed)\n",
    "\n",
    "    white_player = MinimaxPlayer(\n",
    "                    'white',\n",
    "                    # value_func=partial(first_order_adv, 'black', 200, 100, 20, 0),\n",
    "                    value_func=partial(first_order_adv, 'white', 86.0315, 54.568, 87.21072, 25.85066),        \n",
    "                    # The provided legal moves might be ordered differently\n",
    "                    rollout_order_gen=lambda x: sorted(x),\n",
    "                    search_depth=4,\n",
    "                    seed=i+offset_seed)\n",
    "\n",
    "    #modify this function to put our RL model as white\n",
    "    winner = play_a_game(ch, black_player.next_move, white_player.next_move, max_game_len,is_show_detail = is_show_game)\n",
    "\n",
    "    # Play with a minimax player\n",
    "    # play_a_game(ch, keyboard_player_move, white_player.next_move)\n",
    "    if is_show_game:\n",
    "        print('black player evaluated %i positions in %.2fs (avg %.2f positions/s) effective branching factor %.2f' % (black_player.n_evaluated_positions, black_player.evaluation_dt, black_player.n_evaluated_positions / black_player.evaluation_dt, (black_player.n_evaluated_positions / black_player.ply) ** (1 / black_player.search_depth)))\n",
    "        print('black player pruned', black_player.prunes.items())\n",
    "        print()\n",
    "    result:RESULT_TYPE\n",
    "    if winner == 'black':\n",
    "        n_wins += 1\n",
    "        result = RESULT_TYPE.LOSE\n",
    "    elif winner is None:\n",
    "        n_draws += 1\n",
    "        result = RESULT_TYPE.DRAW\n",
    "    else:\n",
    "        n_losses += 1\n",
    "        result = RESULT_TYPE.WIN\n",
    "\n",
    "    print(f\"round : {i+1}/{n_matches} result {result.value}\")\n",
    "\n",
    "    # training \n",
    "    if result.value != \"win\": continue # dont learn if current episode is not winning\n",
    "\n",
    "    train_seqs.extend(white_player.board_move_dict)\n",
    "\n",
    "    if i % 2 != 0: continue\n",
    "        \n",
    "    print(\"start training\")\n",
    "    encoded_boards = []\n",
    "    encoded_actions = []\n",
    "    for board, action in train_seqs:\n",
    "        encoded_boards.append(encode_board_to_feature_map(board))\n",
    "        encoded_actions.append(encode_action(action))\n",
    "\n",
    "    encoded_boards = torch.stack(encoded_boards)\n",
    "    encoded_actions = torch.stack(encoded_actions)\n",
    "\n",
    "    dataset = TensorDataset(encoded_boards[:encoded_boards.shape[0]//2], encoded_actions[:encoded_boards.shape[0]//2])\n",
    "    val_dataset = TensorDataset(encoded_boards[encoded_boards.shape[0]//2:], encoded_actions[encoded_boards.shape[0]//2:])\n",
    "\n",
    "    train_dataloader = DataLoader(dataset, batch_size = train_batch_size, shuffle=True)\n",
    "    val_dataloader = DataLoader(val_dataset, batch_size = train_batch_size)\n",
    "\n",
    "    # train loop\n",
    "    for encoded_board, encoded_action in train_dataloader:\n",
    "        \n",
    "        encoded_board = encoded_board.to(device)\n",
    "        encoded_action = encoded_action.to(device)\n",
    "\n",
    "        encoded_board = encoded_board.flatten(start_dim = 1)\n",
    "        encoded_action = encoded_action.flatten(start_dim = 1)\n",
    "        \n",
    "        predicted_action = model(encoded_board)\n",
    "\n",
    "        loss = loss_fn(predicted_action, encoded_action)\n",
    "\n",
    "        optimizer.zero_grad()\n",
    "        loss.backward()\n",
    "        optimizer.step()\n",
    "        print(\"train loss:\", loss)\n",
    "\n",
    "    # val loop\n",
    "    with torch.no_grad():\n",
    "        val_loss = 0\n",
    "        count = 0\n",
    "        for encoded_board, encoded_action in val_dataloader:\n",
    "                \n",
    "                encoded_board = encoded_board.to(device)\n",
    "                encoded_action = encoded_action.to(device)\n",
    "        \n",
    "                encoded_board = encoded_board.flatten(start_dim = 1)\n",
    "                encoded_action = encoded_action.flatten(start_dim = 1)\n",
    "                \n",
    "                predicted_action = model(encoded_board)\n",
    "        \n",
    "                loss = loss_fn(predicted_action, encoded_action)\n",
    "            \n",
    "                val_loss += loss.item()\n",
    "                count += 1\n",
    "        print(\"val loss\", val_loss/count)\n",
    "\n",
    "    train_seqs = []\n",
    "\n",
    "print('black win', n_wins, 'draw', n_draws, 'loss', n_losses)"
   ]
  },
  {
   "cell_type": "code",
   "execution_count": 158,
   "metadata": {},
   "outputs": [],
   "source": [
    "# torch.save(model.state_dict(), open(\"./modelDenseSomthing_latest_2.pt\", \"wb\"))"
   ]
  },
  {
   "cell_type": "code",
   "execution_count": 180,
   "metadata": {},
   "outputs": [],
   "source": [
    "from checkers.agents import Player\n",
    "\n",
    "# A random player\n",
    "class DenseNetPlayer(Player):\n",
    "    \"\"\"A player that makes random legal moves.\"\"\"\n",
    "    def __init__(self, color, model, device):\n",
    "        super().__init__(color=color)\n",
    "        self.device = device\n",
    "        self.model = model\n",
    "        self.model.to(device)\n",
    "        self.color = color\n",
    "        \n",
    "    def next_move(self, board, last_moved_piece):\n",
    "        state = (board, self.color, last_moved_piece)\n",
    "        self.simulator.restore_state(state)\n",
    "        legal_moves = self.simulator.legal_moves()\n",
    "        # print(\"legal_moves\", legal_moves)\n",
    "\n",
    "        # inference here\n",
    "        encoded_board = encode_board_to_feature_map(board)\n",
    "        encoded_board = encoded_board.flatten(start_dim=0)\n",
    "        encoded_board = encoded_board[None, :].to(self.device)\n",
    "\n",
    "        predict = model(encoded_board)[0]\n",
    "\n",
    "        action_map = predict.reshape((2,8,4)).cpu().detach().numpy()\n",
    "        \n",
    "        max_pos_a = np.unravel_index(np.argmax(action_map[0,:,:]), (8,4))\n",
    "        max_pos_b = np.unravel_index(np.argmax(action_map[1,:,:]), (8,4))\n",
    "\n",
    "        pred_move = ((max_pos_a[0] * 4) + max_pos_a[1], (max_pos_b[0] * 4) + max_pos_b[1])\n",
    "        # print(action_map, max_pos_a, max_pos_b)\n",
    "        # print(\"pred_move\",pred_move)\n",
    "\n",
    "        # print(legal_moves)\n",
    "\n",
    "        # if prediction is legal\n",
    "        p = pred_move\n",
    "        for legal_move in legal_moves:\n",
    "            l = legal_move\n",
    "            if p[0] == l[0] and p[1] == l[1]:\n",
    "                print(\"choose predict move\", pred_move)\n",
    "                return pred_move\n",
    "\n",
    "        # the predict is not legal but predict target position is legal\n",
    "        for legal_move in legal_moves:\n",
    "            l = legal_move\n",
    "            if p[0] == l[0]:\n",
    "                print(\"choose legal move\", legal_move, \"from predict target\", pred_move)\n",
    "                return legal_move\n",
    "\n",
    "        for legal_move in legal_moves:\n",
    "            l = legal_move\n",
    "            if p[1] == l[1]:\n",
    "                print(\"choose legal move\", legal_move, \"from predict target\", pred_move)\n",
    "                return legal_move\n",
    "\n",
    "        # else: prediction is trash. random\n",
    "        move = self.random.choice(np.asarray(legal_moves, dtype=\"int,int\"))\n",
    "        print(\"random\", move)\n",
    "        \n",
    "        return move"
   ]
  },
  {
   "cell_type": "code",
   "execution_count": 182,
   "metadata": {},
   "outputs": [
    {
     "name": "stderr",
     "output_type": "stream",
     "text": [
      "  0%|                                                                                                                                                     | 0/100 [00:00<?, ?it/s]"
     ]
    },
    {
     "name": "stdout",
     "output_type": "stream",
     "text": [
      "choose predict move (24, 20)\n",
      "choose legal move (26, 23) from predict target (18, 23)\n",
      "choose predict move (25, 21)\n",
      "choose predict move (21, 17)\n",
      "choose legal move (23, 19) from predict target (23, 14)\n",
      "choose legal move (17, 14) from predict target (23, 14)\n",
      "random (31, 26)\n",
      "choose legal move (26, 23) from predict target (23, 23)\n",
      "random (23, 18)\n",
      "random (30, 25)\n",
      "choose legal move (25, 21) from predict target (23, 21)\n",
      "choose legal move (28, 21) from predict target (21, 21)\n",
      "choose predict move (21, 16)\n",
      "random (27, 23)\n",
      "random (19, 15)\n",
      "choose legal move (18, 14) from predict target (21, 14)\n",
      "random (20, 16)\n",
      "choose legal move (14, 10) from predict target (19, 10)\n",
      "random (29, 24)\n",
      "random (16, 13)\n",
      "random (13, 9)\n",
      "random (9, 5)\n",
      "random (5, 1)\n",
      "choose legal move (1, 5) from predict target (10, 5)\n",
      "random (5, 14)\n",
      "round : 1/100 result lose, explore_rate 0.1\n"
     ]
    },
    {
     "name": "stderr",
     "output_type": "stream",
     "text": [
      "  2%|██▊                                                                                                                                          | 2/100 [00:00<00:18,  5.40it/s]"
     ]
    },
    {
     "name": "stdout",
     "output_type": "stream",
     "text": [
      "choose predict move (24, 20)\n",
      "choose legal move (26, 23) from predict target (18, 23)\n",
      "choose predict move (25, 21)\n",
      "choose predict move (21, 17)\n",
      "choose legal move (23, 19) from predict target (23, 14)\n",
      "choose legal move (17, 14) from predict target (23, 14)\n",
      "random (29, 24)\n",
      "choose legal move (24, 21) from predict target (23, 21)\n",
      "choose legal move (21, 17) from predict target (21, 21)\n",
      "choose legal move (27, 23) from predict target (13, 23)\n",
      "choose legal move (23, 18) from predict target (23, 19)\n",
      "random (30, 25)\n",
      "random (20, 16)\n",
      "random (18, 14)\n",
      "random (17, 13)\n",
      "random (28, 24)\n",
      "choose legal move (24, 21) from predict target (21, 21)\n",
      "choose predict move (21, 16)\n",
      "random (31, 27)\n",
      "random (19, 15)\n",
      "choose legal move (27, 23) from predict target (24, 23)\n",
      "round : 2/100 result lose, explore_rate 0.1\n",
      "choose predict move (24, 20)\n",
      "choose legal move (26, 23) from predict target (18, 23)\n",
      "choose predict move (25, 21)\n",
      "choose predict move (21, 17)\n",
      "choose legal move (23, 19) from predict target (23, 14)\n"
     ]
    },
    {
     "name": "stderr",
     "output_type": "stream",
     "text": [
      "  3%|████▏                                                                                                                                        | 3/100 [00:00<00:17,  5.48it/s]"
     ]
    },
    {
     "name": "stdout",
     "output_type": "stream",
     "text": [
      "choose legal move (17, 14) from predict target (23, 14)\n",
      "random (30, 26)\n",
      "choose legal move (26, 23) from predict target (23, 23)\n",
      "random (20, 16)\n",
      "choose legal move (23, 18) from predict target (23, 21)\n",
      "random (28, 24)\n",
      "choose legal move (24, 21) from predict target (24, 17)\n",
      "random (27, 23)\n",
      "random (29, 24)\n",
      "random (18, 14)\n",
      "random (31, 27)\n",
      "random (14, 9)\n",
      "random (9, 6)\n",
      "random (23, 18)\n",
      "random (18, 14)\n",
      "random (27, 23)\n",
      "random (14, 10)\n",
      "choose legal move (23, 18) from predict target (23, 5)\n",
      "random (10, 7)\n",
      "random (19, 15)\n",
      "random (18, 15)\n",
      "round : 3/100 result lose, explore_rate 0.1\n",
      "choose predict move (24, 20)\n",
      "choose legal move (26, 23) from predict target (18, 23)\n",
      "choose predict move (25, 21)\n",
      "choose predict move (21, 17)\n",
      "choose legal move (23, 19) from predict target (23, 14)\n",
      "choose legal move (17, 14) from predict target (23, 14)\n",
      "random (27, 23)\n",
      "random (19, 15)\n",
      "random (30, 25)\n",
      "random (31, 26)\n"
     ]
    },
    {
     "name": "stderr",
     "output_type": "stream",
     "text": [
      "  5%|███████                                                                                                                                      | 5/100 [00:00<00:13,  6.81it/s]"
     ]
    },
    {
     "name": "stdout",
     "output_type": "stream",
     "text": [
      "random (26, 23)\n",
      "choose legal move (23, 14) from predict target (23, 19)\n",
      "choose legal move (25, 21) from predict target (23, 21)\n",
      "choose predict move (21, 16)\n",
      "random (28, 24)\n",
      "random (20, 16)\n",
      "random (29, 24)\n",
      "random (16, 12)\n",
      "round : 4/100 result lose, explore_rate 0.1\n",
      "choose predict move (24, 20)\n",
      "choose legal move (26, 23) from predict target (18, 23)\n",
      "choose predict move (25, 21)\n",
      "choose predict move (21, 17)\n",
      "choose legal move (23, 19) from predict target (23, 14)\n",
      "choose legal move (17, 14) from predict target (23, 14)\n",
      "random (29, 25)\n",
      "choose legal move (27, 23) from predict target (23, 23)\n",
      "choose predict move (25, 21)\n",
      "choose legal move (21, 17) from predict target (21, 5)\n",
      "random (28, 24)\n",
      "random (30, 25)\n",
      "random (19, 15)\n",
      "random (20, 16)\n",
      "random (31, 26)\n",
      "random (26, 23)\n",
      "choose legal move (23, 19) from predict target (23, 21)\n",
      "random (19, 15)\n",
      "round : 5/100 result lose, explore_rate 0.1\n",
      "choose predict move (24, 20)\n",
      "choose legal move (26, 23) from predict target (18, 23)\n",
      "choose predict move (25, 21)\n",
      "choose predict move (21, 17)\n"
     ]
    },
    {
     "name": "stderr",
     "output_type": "stream",
     "text": [
      "  6%|████████▍                                                                                                                                    | 6/100 [00:01<00:15,  6.04it/s]"
     ]
    },
    {
     "name": "stdout",
     "output_type": "stream",
     "text": [
      "choose legal move (23, 19) from predict target (23, 14)\n",
      "choose legal move (17, 14) from predict target (23, 14)\n",
      "random (31, 26)\n",
      "choose legal move (26, 23) from predict target (23, 23)\n",
      "random (29, 24)\n",
      "choose legal move (23, 18) from predict target (23, 21)\n",
      "choose legal move (18, 14) from predict target (23, 14)\n",
      "random (24, 21)\n",
      "random (28, 21)\n",
      "choose legal move (21, 17) from predict target (21, 5)\n",
      "choose legal move (27, 23) from predict target (13, 23)\n",
      "choose legal move (23, 18) from predict target (23, 19)\n",
      "random (30, 23)\n",
      "random (20, 16)\n",
      "random (14, 10)\n",
      "random (10, 6)\n",
      "random (19, 15)\n",
      "random (23, 19)\n",
      "random (15, 10)\n",
      "random (10, 7)\n",
      "random (19, 15)\n",
      "random (18, 14)\n",
      "random (14, 10)\n",
      "random (10, 7)\n",
      "random (7, 2)\n",
      "random (2, 13)\n",
      "random (13, 2)\n",
      "random (2, 6)\n",
      "random (6, 15)\n",
      "round : 6/100 result lose, explore_rate 0.1\n",
      "choose predict move (24, 20)\n",
      "choose legal move (26, 23) from predict target (18, 23)\n",
      "choose predict move (25, 21)\n",
      "choose predict move (21, 17)\n"
     ]
    },
    {
     "name": "stderr",
     "output_type": "stream",
     "text": [
      "  7%|█████████▊                                                                                                                                   | 7/100 [00:01<00:14,  6.50it/s]"
     ]
    },
    {
     "name": "stdout",
     "output_type": "stream",
     "text": [
      "choose legal move (23, 19) from predict target (23, 14)\n",
      "choose legal move (17, 14) from predict target (23, 14)\n",
      "random (29, 25)\n",
      "choose legal move (27, 23) from predict target (23, 23)\n",
      "choose predict move (25, 21)\n",
      "choose legal move (21, 17) from predict target (21, 5)\n",
      "random (20, 16)\n",
      "random (30, 26)\n",
      "random (26, 22)\n",
      "random (19, 15)\n",
      "random (22, 15)\n",
      "random (15, 11)\n",
      "random (31, 26)\n",
      "random (26, 22)\n",
      "random (22, 17)\n",
      "random (11, 7)\n",
      "random (28, 24)\n",
      "round : 7/100 result lose, explore_rate 0.1\n",
      "choose predict move (24, 20)\n",
      "choose legal move (26, 23) from predict target (18, 23)\n",
      "choose predict move (25, 21)\n",
      "choose predict move (21, 17)\n",
      "choose legal move (23, 19) from predict target (23, 14)\n",
      "choose legal move (17, 14) from predict target (23, 14)\n",
      "random (31, 26)\n",
      "choose legal move (26, 23) from predict target (23, 23)\n",
      "random (30, 26)\n",
      "random (29, 24)\n",
      "choose legal move (23, 18) from predict target (23, 21)\n",
      "choose legal move (24, 21) from predict target (21, 21)\n",
      "choose legal move (21, 17) from predict target (21, 21)\n",
      "random (18, 15)\n",
      "random (19, 15)\n"
     ]
    },
    {
     "name": "stderr",
     "output_type": "stream",
     "text": [
      "  8%|███████████▎                                                                                                                                 | 8/100 [00:01<00:15,  5.91it/s]"
     ]
    },
    {
     "name": "stdout",
     "output_type": "stream",
     "text": [
      "random (28, 24)\n",
      "choose legal move (24, 21) from predict target (25, 21)\n",
      "choose legal move (21, 17) from predict target (21, 21)\n",
      "random (27, 23)\n",
      "random (23, 19)\n",
      "random (20, 16)\n",
      "random (15, 10)\n",
      "random (10, 7)\n",
      "random (19, 15)\n",
      "round : 8/100 result lose, explore_rate 0.1\n",
      "choose predict move (24, 20)\n",
      "choose legal move (26, 23) from predict target (18, 23)\n",
      "choose predict move (25, 21)\n",
      "choose predict move (21, 17)\n",
      "choose legal move (23, 19) from predict target (23, 14)\n",
      "choose legal move (17, 14) from predict target (23, 14)\n",
      "random (28, 24)\n",
      "choose legal move (24, 21) from predict target (25, 21)\n",
      "choose legal move (21, 17) from predict target (21, 21)\n",
      "choose legal move (27, 23) from predict target (23, 23)\n",
      "choose legal move (23, 18) from predict target (23, 14)\n",
      "choose legal move (17, 14) from predict target (23, 14)\n",
      "choose legal move (14, 5) from predict target (21, 5)\n",
      "random (30, 25)\n",
      "choose predict move (25, 21)\n",
      "random (18, 15)\n",
      "random (5, 1)\n"
     ]
    },
    {
     "name": "stderr",
     "output_type": "stream",
     "text": [
      "  9%|████████████▋                                                                                                                                | 9/100 [00:01<00:16,  5.42it/s]"
     ]
    },
    {
     "name": "stdout",
     "output_type": "stream",
     "text": [
      "random (1, 6)\n",
      "random (29, 24)\n",
      "choose legal move (24, 21) from predict target (24, 17)\n",
      "choose predict move (21, 16)\n",
      "random (19, 15)\n",
      "random (6, 1)\n",
      "random (1, 5)\n",
      "random (20, 16)\n",
      "random (5, 0)\n",
      "random (0, 9)\n",
      "random (31, 26)\n",
      "random (9, 2)\n",
      "random (2, 9)\n",
      "random (9, 14)\n",
      "round : 9/100 result lose, explore_rate 0.1\n",
      "choose predict move (24, 20)\n",
      "choose legal move (26, 23) from predict target (18, 23)\n",
      "choose predict move (25, 21)\n",
      "choose predict move (21, 17)\n",
      "choose legal move (23, 19) from predict target (23, 14)\n",
      "choose legal move (17, 14) from predict target (23, 14)\n",
      "random (30, 26)\n",
      "choose legal move (26, 23) from predict target (23, 23)\n",
      "random (29, 24)\n",
      "choose legal move (23, 18) from predict target (23, 21)\n",
      "choose legal move (24, 21) from predict target (25, 21)\n",
      "choose legal move (28, 21) from predict target (25, 21)\n",
      "choose predict move (21, 16)\n",
      "random (18, 14)\n",
      "random (31, 26)\n"
     ]
    },
    {
     "name": "stderr",
     "output_type": "stream",
     "text": [
      " 10%|██████████████                                                                                                                              | 10/100 [00:01<00:16,  5.34it/s]"
     ]
    },
    {
     "name": "stdout",
     "output_type": "stream",
     "text": [
      "random (27, 23)\n",
      "random (14, 9)\n",
      "choose legal move (23, 18) from predict target (23, 5)\n",
      "random (9, 6)\n",
      "random (18, 15)\n",
      "random (19, 15)\n",
      "random (26, 23)\n",
      "random (6, 2)\n",
      "random (2, 7)\n",
      "random (7, 24)\n",
      "random (20, 16)\n",
      "random (16, 13)\n",
      "random (13, 8)\n",
      "round : 10/100 result lose, explore_rate 0.1\n",
      "choose predict move (24, 20)\n",
      "choose legal move (26, 23) from predict target (18, 23)\n",
      "choose predict move (25, 21)\n",
      "choose predict move (21, 17)\n",
      "choose legal move (23, 19) from predict target (23, 14)\n",
      "choose legal move (17, 14) from predict target (23, 14)\n",
      "random (31, 26)\n",
      "choose legal move (26, 23) from predict target (23, 23)\n",
      "random (23, 18)\n",
      "random (20, 16)\n",
      "choose legal move (27, 23) from predict target (24, 23)\n",
      "choose legal move (18, 14) from predict target (23, 14)\n",
      "random (29, 25)\n",
      "random (14, 10)\n",
      "choose legal move (23, 18) from predict target (23, 21)\n"
     ]
    },
    {
     "name": "stderr",
     "output_type": "stream",
     "text": [
      " 12%|████████████████▊                                                                                                                           | 12/100 [00:02<00:14,  6.27it/s]"
     ]
    },
    {
     "name": "stdout",
     "output_type": "stream",
     "text": [
      "random (10, 6)\n",
      "random (30, 25)\n",
      "random (18, 15)\n",
      "random (19, 15)\n",
      "random (28, 24)\n",
      "round : 11/100 result lose, explore_rate 0.1\n",
      "choose predict move (24, 20)\n",
      "choose legal move (26, 23) from predict target (18, 23)\n",
      "choose predict move (25, 21)\n",
      "choose predict move (21, 17)\n",
      "choose legal move (23, 19) from predict target (23, 14)\n",
      "choose legal move (17, 14) from predict target (23, 14)\n",
      "random (20, 16)\n",
      "choose legal move (27, 23) from predict target (23, 23)\n",
      "random (19, 15)\n",
      "random (29, 24)\n",
      "choose legal move (24, 17) from predict target (24, 23)\n",
      "random (30, 25)\n",
      "random (28, 24)\n",
      "random (17, 13)\n",
      "random (31, 26)\n",
      "choose legal move (26, 23) from predict target (18, 23)\n",
      "choose legal move (23, 19) from predict target (23, 14)\n",
      "random (19, 15)\n",
      "random (15, 11)\n",
      "round : 12/100 result lose, explore_rate 0.1\n",
      "choose predict move (24, 20)\n",
      "choose legal move (26, 23) from predict target (18, 23)\n",
      "choose predict move (25, 21)\n",
      "choose predict move (21, 17)\n",
      "choose legal move (23, 19) from predict target (23, 14)\n"
     ]
    },
    {
     "name": "stderr",
     "output_type": "stream",
     "text": [
      " 13%|██████████████████▏                                                                                                                         | 13/100 [00:02<00:13,  6.59it/s]"
     ]
    },
    {
     "name": "stdout",
     "output_type": "stream",
     "text": [
      "choose legal move (17, 14) from predict target (23, 14)\n",
      "random (30, 25)\n",
      "choose legal move (27, 23) from predict target (23, 23)\n",
      "choose predict move (25, 21)\n",
      "choose legal move (21, 17) from predict target (21, 5)\n",
      "random (28, 24)\n",
      "random (19, 15)\n",
      "random (31, 26)\n",
      "random (29, 25)\n",
      "choose predict move (25, 21)\n",
      "choose legal move (21, 17) from predict target (21, 5)\n",
      "random (17, 14)\n",
      "random (20, 16)\n",
      "random (14, 10)\n",
      "round : 13/100 result lose, explore_rate 0.1\n",
      "choose predict move (24, 20)\n",
      "choose legal move (26, 23) from predict target (18, 23)\n",
      "choose predict move (25, 21)\n",
      "choose predict move (21, 17)\n",
      "choose legal move (23, 19) from predict target (23, 14)\n",
      "choose legal move (17, 14) from predict target (23, 14)\n",
      "random (28, 24)\n",
      "choose legal move (24, 21) from predict target (25, 21)\n",
      "choose legal move (21, 17) from predict target (21, 21)\n",
      "choose legal move (27, 23) from predict target (23, 23)\n",
      "choose legal move (23, 18) from predict target (23, 14)\n",
      "choose legal move (17, 14) from predict target (23, 14)\n",
      "choose legal move (14, 5) from predict target (21, 5)\n",
      "random (30, 25)\n",
      "choose predict move (25, 21)\n",
      "random (18, 15)\n"
     ]
    },
    {
     "name": "stderr",
     "output_type": "stream",
     "text": [
      " 14%|███████████████████▌                                                                                                                        | 14/100 [00:02<00:15,  5.69it/s]"
     ]
    },
    {
     "name": "stdout",
     "output_type": "stream",
     "text": [
      "random (31, 26)\n",
      "random (29, 22)\n",
      "random (22, 15)\n",
      "choose legal move (20, 16) from predict target (21, 16)\n",
      "random (5, 1)\n",
      "random (1, 8)\n",
      "random (15, 11)\n",
      "random (19, 15)\n",
      "random (15, 10)\n",
      "random (11, 7)\n",
      "random (10, 6)\n",
      "random (6, 1)\n",
      "choose legal move (1, 19) from predict target (23, 19)\n",
      "random (19, 6)\n",
      "random (6, 15)\n",
      "random (15, 29)\n",
      "random (29, 18)\n",
      "round : 14/100 result lose, explore_rate 0.1\n",
      "choose predict move (24, 20)\n",
      "choose legal move (26, 23) from predict target (18, 23)\n",
      "choose predict move (25, 21)\n",
      "choose predict move (21, 17)\n",
      "choose legal move (23, 19) from predict target (23, 14)\n",
      "choose legal move (17, 14) from predict target (23, 14)\n",
      "random (27, 23)\n",
      "random (28, 24)\n",
      "choose legal move (24, 21) from predict target (25, 21)\n",
      "choose predict move (21, 16)\n",
      "random (20, 16)\n",
      "random (30, 26)\n",
      "choose legal move (26, 23) from predict target (18, 23)\n",
      "random (29, 24)\n",
      "random (31, 26)\n"
     ]
    },
    {
     "name": "stderr",
     "output_type": "stream",
     "text": [
      " 16%|██████████████████████▍                                                                                                                     | 16/100 [00:02<00:13,  6.36it/s]"
     ]
    },
    {
     "name": "stdout",
     "output_type": "stream",
     "text": [
      "random (26, 22)\n",
      "random (23, 18)\n",
      "choose legal move (19, 15) from predict target (19, 5)\n",
      "random (15, 10)\n",
      "random (18, 14)\n",
      "round : 15/100 result lose, explore_rate 0.1\n",
      "choose predict move (24, 20)\n",
      "choose legal move (26, 23) from predict target (18, 23)\n",
      "choose predict move (25, 21)\n",
      "choose predict move (21, 17)\n",
      "choose legal move (23, 19) from predict target (23, 14)\n",
      "choose legal move (17, 14) from predict target (23, 14)\n",
      "random (29, 25)\n",
      "choose legal move (27, 23) from predict target (23, 23)\n",
      "choose predict move (25, 21)\n",
      "choose legal move (21, 17) from predict target (21, 5)\n",
      "random (30, 25)\n",
      "random (31, 26)\n",
      "random (28, 24)\n",
      "choose predict move (24, 21)\n",
      "choose legal move (19, 15) from predict target (19, 5)\n",
      "random (20, 16)\n",
      "random (26, 23)\n",
      "choose predict move (21, 16)\n",
      "random (23, 19)\n",
      "random (19, 15)\n",
      "round : 16/100 result lose, explore_rate 0.1\n",
      "choose predict move (24, 20)\n",
      "choose legal move (26, 23) from predict target (18, 23)\n",
      "choose predict move (25, 21)\n"
     ]
    },
    {
     "name": "stderr",
     "output_type": "stream",
     "text": [
      " 17%|███████████████████████▊                                                                                                                    | 17/100 [00:02<00:15,  5.43it/s]"
     ]
    },
    {
     "name": "stdout",
     "output_type": "stream",
     "text": [
      "choose predict move (21, 17)\n",
      "choose legal move (23, 19) from predict target (23, 14)\n",
      "choose legal move (17, 14) from predict target (23, 14)\n",
      "random (27, 23)\n",
      "random (30, 26)\n",
      "choose legal move (26, 23) from predict target (18, 23)\n",
      "choose legal move (23, 18) from predict target (23, 19)\n",
      "random (18, 14)\n",
      "random (31, 26)\n",
      "choose legal move (26, 23) from predict target (13, 23)\n",
      "random (14, 9)\n",
      "choose legal move (23, 18) from predict target (23, 19)\n",
      "random (18, 15)\n",
      "random (20, 16)\n",
      "random (19, 15)\n",
      "random (16, 13)\n",
      "random (15, 10)\n",
      "choose legal move (10, 6) from predict target (10, 3)\n",
      "random (6, 1)\n",
      "random (1, 15)\n",
      "choose legal move (13, 8) from predict target (13, 23)\n",
      "random (9, 6)\n",
      "random (28, 24)\n",
      "choose legal move (24, 21) from predict target (24, 14)\n",
      "choose legal move (21, 12) from predict target (21, 17)\n",
      "random (29, 24)\n",
      "random (6, 2)\n",
      "random (2, 6)\n",
      "random (6, 13)\n",
      "random (12, 8)\n",
      "random (8, 5)\n",
      "round : 17/100 result lose, explore_rate 0.1\n"
     ]
    },
    {
     "name": "stderr",
     "output_type": "stream",
     "text": [
      " 18%|█████████████████████████▏                                                                                                                  | 18/100 [00:03<00:14,  5.48it/s]"
     ]
    },
    {
     "name": "stdout",
     "output_type": "stream",
     "text": [
      "choose predict move (24, 20)\n",
      "choose legal move (26, 23) from predict target (18, 23)\n",
      "choose predict move (25, 21)\n",
      "choose predict move (21, 17)\n",
      "choose legal move (23, 19) from predict target (23, 14)\n",
      "choose legal move (17, 14) from predict target (23, 14)\n",
      "random (31, 26)\n",
      "choose legal move (26, 23) from predict target (23, 23)\n",
      "random (28, 24)\n",
      "choose legal move (23, 18) from predict target (23, 21)\n",
      "choose legal move (18, 14) from predict target (23, 14)\n",
      "random (30, 26)\n",
      "random (24, 21)\n",
      "random (19, 15)\n",
      "random (14, 9)\n",
      "choose legal move (27, 23) from predict target (23, 23)\n",
      "random (20, 16)\n",
      "random (9, 5)\n",
      "random (5, 0)\n",
      "choose predict move (0, 18)\n",
      "random (29, 25)\n",
      "random (18, 22)\n",
      "random (25, 21)\n",
      "choose legal move (21, 16) from predict target (10, 16)\n",
      "round : 18/100 result lose, explore_rate 0.1\n",
      "choose predict move (24, 20)\n",
      "choose legal move (26, 23) from predict target (18, 23)\n"
     ]
    },
    {
     "name": "stderr",
     "output_type": "stream",
     "text": [
      " 19%|██████████████████████████▌                                                                                                                 | 19/100 [00:03<00:14,  5.67it/s]"
     ]
    },
    {
     "name": "stdout",
     "output_type": "stream",
     "text": [
      "choose predict move (25, 21)\n",
      "choose predict move (21, 17)\n",
      "choose legal move (23, 19) from predict target (23, 14)\n",
      "choose legal move (17, 14) from predict target (23, 14)\n",
      "random (29, 24)\n",
      "choose legal move (24, 21) from predict target (23, 21)\n",
      "choose legal move (21, 17) from predict target (21, 21)\n",
      "choose legal move (27, 23) from predict target (13, 23)\n",
      "choose legal move (23, 18) from predict target (23, 19)\n",
      "random (30, 26)\n",
      "choose legal move (26, 23) from predict target (23, 23)\n",
      "random (28, 24)\n",
      "random (19, 15)\n",
      "choose legal move (24, 21) from predict target (21, 21)\n",
      "random (18, 14)\n",
      "random (31, 26)\n",
      "random (15, 10)\n",
      "random (20, 16)\n",
      "random (10, 6)\n",
      "round : 19/100 result lose, explore_rate 0.1\n",
      "choose predict move (24, 20)\n",
      "choose legal move (26, 23) from predict target (18, 23)\n",
      "choose predict move (25, 21)\n",
      "choose predict move (21, 17)\n",
      "choose legal move (23, 19) from predict target (23, 14)\n"
     ]
    },
    {
     "name": "stderr",
     "output_type": "stream",
     "text": [
      " 20%|████████████████████████████                                                                                                                | 20/100 [00:03<00:14,  5.49it/s]"
     ]
    },
    {
     "name": "stdout",
     "output_type": "stream",
     "text": [
      "choose legal move (17, 14) from predict target (23, 14)\n",
      "random (28, 24)\n",
      "choose legal move (24, 21) from predict target (25, 21)\n",
      "choose legal move (21, 17) from predict target (21, 21)\n",
      "choose legal move (27, 23) from predict target (23, 23)\n",
      "choose legal move (23, 18) from predict target (23, 14)\n",
      "choose legal move (17, 14) from predict target (23, 14)\n",
      "choose legal move (14, 5) from predict target (21, 5)\n",
      "random (18, 15)\n",
      "random (31, 26)\n",
      "random (19, 15)\n",
      "random (5, 1)\n",
      "random (1, 10)\n",
      "random (29, 24)\n",
      "random (10, 21)\n",
      "random (15, 10)\n",
      "random (30, 26)\n",
      "random (20, 16)\n",
      "random (26, 22)\n",
      "round : 20/100 result lose, explore_rate 0.1\n",
      "choose predict move (24, 20)\n",
      "choose legal move (26, 23) from predict target (18, 23)\n",
      "choose predict move (25, 21)\n",
      "choose predict move (21, 17)\n",
      "choose legal move (23, 19) from predict target (23, 14)\n",
      "choose legal move (17, 14) from predict target (23, 14)\n",
      "random (27, 23)\n",
      "random (30, 25)\n"
     ]
    },
    {
     "name": "stderr",
     "output_type": "stream",
     "text": [
      " 22%|██████████████████████████████▊                                                                                                             | 22/100 [00:03<00:12,  6.22it/s]"
     ]
    },
    {
     "name": "stdout",
     "output_type": "stream",
     "text": [
      "choose predict move (25, 21)\n",
      "choose legal move (21, 17) from predict target (21, 5)\n",
      "random (28, 24)\n",
      "random (20, 16)\n",
      "random (29, 24)\n",
      "random (19, 15)\n",
      "random (31, 26)\n",
      "round : 21/100 result lose, explore_rate 0.1\n",
      "choose predict move (24, 20)\n",
      "choose legal move (26, 23) from predict target (18, 23)\n",
      "choose predict move (25, 21)\n",
      "choose predict move (21, 17)\n",
      "choose legal move (23, 19) from predict target (23, 14)\n",
      "choose legal move (17, 14) from predict target (23, 14)\n",
      "random (31, 26)\n",
      "choose legal move (26, 23) from predict target (23, 23)\n",
      "random (29, 25)\n",
      "random (23, 18)\n",
      "random (19, 10)\n",
      "random (28, 24)\n",
      "choose legal move (24, 21) from predict target (23, 21)\n",
      "choose legal move (21, 17) from predict target (21, 21)\n",
      "random (20, 16)\n",
      "choose legal move (27, 23) from predict target (18, 23)\n",
      "choose legal move (23, 19) from predict target (23, 14)\n",
      "choose legal move (17, 14) from predict target (0, 14)\n",
      "choose legal move (10, 7) from predict target (10, 3)\n",
      "random (19, 15)\n",
      "random (30, 26)\n",
      "random (26, 22)\n",
      "round : 22/100 result lose, explore_rate 0.1\n",
      "choose predict move (24, 20)\n"
     ]
    },
    {
     "name": "stderr",
     "output_type": "stream",
     "text": [
      " 23%|████████████████████████████████▏                                                                                                           | 23/100 [00:03<00:12,  6.23it/s]"
     ]
    },
    {
     "name": "stdout",
     "output_type": "stream",
     "text": [
      "choose legal move (26, 23) from predict target (18, 23)\n",
      "choose predict move (25, 21)\n",
      "choose predict move (21, 17)\n",
      "choose legal move (23, 19) from predict target (23, 14)\n",
      "choose legal move (17, 14) from predict target (23, 14)\n",
      "random (29, 24)\n",
      "choose legal move (24, 21) from predict target (23, 21)\n",
      "choose legal move (21, 17) from predict target (21, 21)\n",
      "choose legal move (27, 23) from predict target (13, 23)\n",
      "choose legal move (23, 18) from predict target (23, 19)\n",
      "random (20, 16)\n",
      "choose legal move (17, 14) from predict target (23, 14)\n",
      "random (30, 25)\n",
      "random (19, 15)\n",
      "random (15, 10)\n",
      "random (28, 24)\n",
      "random (31, 27)\n",
      "random (14, 10)\n",
      "random (27, 23)\n",
      "choose legal move (23, 18) from predict target (23, 19)\n",
      "round : 23/100 result lose, explore_rate 0.1\n",
      "choose predict move (24, 20)\n",
      "choose legal move (26, 23) from predict target (18, 23)\n",
      "choose predict move (25, 21)\n",
      "choose predict move (21, 17)\n"
     ]
    },
    {
     "name": "stderr",
     "output_type": "stream",
     "text": [
      " 24%|█████████████████████████████████▌                                                                                                          | 24/100 [00:04<00:12,  6.18it/s]"
     ]
    },
    {
     "name": "stdout",
     "output_type": "stream",
     "text": [
      "choose legal move (23, 19) from predict target (23, 14)\n",
      "choose legal move (17, 14) from predict target (23, 14)\n",
      "random (27, 23)\n",
      "random (31, 26)\n",
      "choose legal move (26, 23) from predict target (18, 23)\n",
      "choose legal move (23, 18) from predict target (23, 19)\n",
      "random (29, 24)\n",
      "choose legal move (30, 21) from predict target (25, 21)\n",
      "choose predict move (21, 16)\n",
      "choose predict move (24, 17)\n",
      "random (17, 14)\n",
      "random (20, 16)\n",
      "random (14, 10)\n",
      "random (10, 6)\n",
      "random (19, 15)\n",
      "random (28, 24)\n",
      "choose predict move (24, 21)\n",
      "choose predict move (21, 16)\n",
      "choose predict move (16, 13)\n",
      "choose legal move (15, 10) from predict target (19, 10)\n",
      "random (13, 8)\n",
      "round : 24/100 result lose, explore_rate 0.1\n",
      "choose predict move (24, 20)\n",
      "choose legal move (26, 23) from predict target (18, 23)\n",
      "choose predict move (25, 21)\n",
      "choose predict move (21, 17)\n",
      "choose legal move (23, 19) from predict target (23, 14)\n",
      "choose legal move (17, 14) from predict target (23, 14)\n",
      "random (27, 23)\n",
      "random (20, 16)\n",
      "random (31, 26)\n",
      "random (29, 25)\n",
      "random (26, 23)\n",
      "random (30, 26)\n",
      "random (26, 22)\n"
     ]
    },
    {
     "name": "stderr",
     "output_type": "stream",
     "text": [
      " 26%|████████████████████████████████████▍                                                                                                       | 26/100 [00:04<00:10,  7.12it/s]"
     ]
    },
    {
     "name": "stdout",
     "output_type": "stream",
     "text": [
      "random (28, 24)\n",
      "random (22, 18)\n",
      "random (19, 10)\n",
      "round : 25/100 result lose, explore_rate 0.1\n",
      "choose predict move (24, 20)\n",
      "choose legal move (26, 23) from predict target (18, 23)\n",
      "choose predict move (25, 21)\n",
      "choose predict move (21, 17)\n",
      "choose legal move (23, 19) from predict target (23, 14)\n",
      "choose legal move (17, 14) from predict target (23, 14)\n",
      "random (19, 15)\n",
      "choose legal move (27, 23) from predict target (23, 23)\n",
      "random (30, 25)\n",
      "random (28, 24)\n",
      "random (25, 22)\n",
      "random (31, 22)\n",
      "random (22, 15)\n",
      "random (15, 10)\n",
      "random (10, 6)\n",
      "random (29, 25)\n",
      "choose predict move (24, 21)\n",
      "random (21, 16)\n",
      "random (20, 16)\n",
      "round : 26/100 result lose, explore_rate 0.1\n",
      "choose predict move (24, 20)\n",
      "choose legal move (26, 23) from predict target (18, 23)\n",
      "choose predict move (25, 21)\n",
      "choose predict move (21, 17)\n",
      "choose legal move (23, 19) from predict target (23, 14)\n"
     ]
    },
    {
     "name": "stderr",
     "output_type": "stream",
     "text": [
      " 28%|███████████████████████████████████████▏                                                                                                    | 28/100 [00:04<00:10,  7.16it/s]"
     ]
    },
    {
     "name": "stdout",
     "output_type": "stream",
     "text": [
      "choose legal move (17, 14) from predict target (23, 14)\n",
      "random (29, 24)\n",
      "choose legal move (24, 21) from predict target (23, 21)\n",
      "choose legal move (21, 17) from predict target (21, 21)\n",
      "choose legal move (27, 23) from predict target (13, 23)\n",
      "choose legal move (23, 18) from predict target (23, 19)\n",
      "random (31, 26)\n",
      "random (18, 15)\n",
      "random (30, 26)\n",
      "random (26, 17)\n",
      "random (20, 16)\n",
      "random (28, 24)\n",
      "random (19, 15)\n",
      "round : 27/100 result lose, explore_rate 0.1\n",
      "choose predict move (24, 20)\n",
      "choose legal move (26, 23) from predict target (18, 23)\n",
      "choose predict move (25, 21)\n",
      "choose predict move (21, 17)\n",
      "choose legal move (23, 19) from predict target (23, 14)\n",
      "choose legal move (17, 14) from predict target (23, 14)\n",
      "random (20, 16)\n",
      "choose legal move (27, 23) from predict target (23, 23)\n",
      "random (30, 26)\n",
      "random (19, 15)\n",
      "choose legal move (26, 23) from predict target (18, 23)\n",
      "choose legal move (23, 19) from predict target (23, 21)\n",
      "random (29, 24)\n",
      "choose predict move (24, 21)\n",
      "choose legal move (21, 17) from predict target (21, 5)\n",
      "random (17, 13)\n",
      "random (31, 26)\n",
      "random (28, 24)\n",
      "random (24, 20)\n",
      "random (20, 16)\n",
      "random (19, 15)\n",
      "random (15, 11)\n",
      "random (11, 7)\n",
      "round : 28/100 result lose, explore_rate 0.1\n"
     ]
    },
    {
     "name": "stderr",
     "output_type": "stream",
     "text": [
      " 29%|████████████████████████████████████████▌                                                                                                   | 29/100 [00:04<00:09,  7.20it/s]"
     ]
    },
    {
     "name": "stdout",
     "output_type": "stream",
     "text": [
      "choose predict move (24, 20)\n",
      "choose legal move (26, 23) from predict target (18, 23)\n",
      "choose predict move (25, 21)\n",
      "choose predict move (21, 17)\n",
      "choose legal move (23, 19) from predict target (23, 14)\n",
      "choose legal move (17, 14) from predict target (23, 14)\n",
      "random (31, 26)\n",
      "choose legal move (26, 23) from predict target (23, 23)\n",
      "random (28, 24)\n",
      "choose legal move (23, 18) from predict target (23, 21)\n",
      "choose legal move (18, 14) from predict target (23, 14)\n",
      "random (20, 16)\n",
      "random (14, 10)\n",
      "random (29, 25)\n",
      "random (30, 25)\n",
      "random (27, 23)\n",
      "choose legal move (23, 18) from predict target (23, 5)\n",
      "random (19, 10)\n",
      "round : 29/100 result lose, explore_rate 0.1\n",
      "choose predict move (24, 20)\n",
      "choose legal move (26, 23) from predict target (18, 23)\n",
      "choose predict move (25, 21)\n",
      "choose predict move (21, 17)\n",
      "choose legal move (23, 19) from predict target (23, 14)\n"
     ]
    },
    {
     "name": "stderr",
     "output_type": "stream",
     "text": [
      " 30%|██████████████████████████████████████████                                                                                                  | 30/100 [00:04<00:10,  6.57it/s]"
     ]
    },
    {
     "name": "stdout",
     "output_type": "stream",
     "text": [
      "choose legal move (17, 14) from predict target (23, 14)\n",
      "random (30, 26)\n",
      "choose legal move (26, 23) from predict target (23, 23)\n",
      "random (31, 26)\n",
      "random (28, 24)\n",
      "choose legal move (23, 18) from predict target (23, 21)\n",
      "choose legal move (24, 21) from predict target (21, 21)\n",
      "choose legal move (21, 17) from predict target (21, 5)\n",
      "random (29, 24)\n",
      "choose legal move (24, 21) from predict target (21, 21)\n",
      "choose legal move (21, 17) from predict target (21, 5)\n",
      "random (27, 18)\n",
      "choose legal move (20, 16) from predict target (21, 16)\n",
      "random (19, 15)\n",
      "random (17, 13)\n",
      "random (18, 14)\n",
      "random (14, 10)\n",
      "random (10, 6)\n",
      "round : 30/100 result lose, explore_rate 0.1\n",
      "choose predict move (24, 20)\n",
      "choose legal move (26, 23) from predict target (18, 23)\n",
      "choose predict move (25, 21)\n",
      "choose predict move (21, 17)\n",
      "choose legal move (23, 19) from predict target (23, 14)\n",
      "choose legal move (17, 14) from predict target (23, 14)\n",
      "random (19, 15)\n",
      "choose legal move (27, 23) from predict target (23, 23)\n",
      "random (28, 24)\n",
      "random (30, 25)\n"
     ]
    },
    {
     "name": "stderr",
     "output_type": "stream",
     "text": [
      " 31%|███████████████████████████████████████████▍                                                                                                | 31/100 [00:05<00:11,  6.14it/s]"
     ]
    },
    {
     "name": "stdout",
     "output_type": "stream",
     "text": [
      "random (25, 22)\n",
      "random (31, 22)\n",
      "random (22, 15)\n",
      "random (24, 21)\n",
      "random (15, 10)\n",
      "random (29, 24)\n",
      "choose legal move (10, 6) from predict target (10, 5)\n",
      "choose legal move (21, 17) from predict target (21, 5)\n",
      "random (6, 2)\n",
      "choose legal move (24, 21) from predict target (21, 21)\n",
      "choose legal move (21, 17) from predict target (21, 5)\n",
      "random (17, 14)\n",
      "random (20, 16)\n",
      "random (2, 9)\n",
      "choose legal move (9, 20) from predict target (24, 20)\n",
      "random (20, 6)\n",
      "random (6, 2)\n",
      "random (2, 13)\n",
      "round : 31/100 result lose, explore_rate 0.1\n",
      "choose predict move (24, 20)\n",
      "choose legal move (26, 23) from predict target (18, 23)\n",
      "choose predict move (25, 21)\n",
      "choose predict move (21, 17)\n",
      "choose legal move (23, 19) from predict target (23, 14)\n",
      "choose legal move (17, 14) from predict target (23, 14)\n",
      "random (28, 24)\n",
      "choose legal move (24, 21) from predict target (25, 21)\n",
      "choose legal move (21, 17) from predict target (21, 21)\n",
      "choose legal move (27, 23) from predict target (23, 23)\n"
     ]
    },
    {
     "name": "stderr",
     "output_type": "stream",
     "text": [
      " 33%|██████████████████████████████████████████████▏                                                                                             | 33/100 [00:05<00:10,  6.47it/s]"
     ]
    },
    {
     "name": "stdout",
     "output_type": "stream",
     "text": [
      "choose legal move (23, 18) from predict target (23, 14)\n",
      "choose legal move (17, 14) from predict target (23, 14)\n",
      "choose legal move (14, 5) from predict target (21, 5)\n",
      "random (29, 24)\n",
      "random (5, 0)\n",
      "choose legal move (0, 4) from predict target (0, 21)\n",
      "random (4, 26)\n",
      "random (26, 8)\n",
      "random (20, 13)\n",
      "choose legal move (30, 21) from predict target (25, 21)\n",
      "choose legal move (19, 15) from predict target (19, 5)\n",
      "choose legal move (8, 5) from predict target (10, 5)\n",
      "random (24, 20)\n",
      "random (5, 18)\n",
      "random (31, 22)\n",
      "random (18, 11)\n",
      "random (21, 12)\n",
      "round : 32/100 result win, explore_rate 0.1\n",
      "choose predict move (24, 20)\n",
      "choose legal move (26, 23) from predict target (18, 23)\n",
      "choose predict move (25, 21)\n",
      "choose predict move (21, 17)\n",
      "choose legal move (23, 19) from predict target (23, 14)\n",
      "choose legal move (17, 14) from predict target (23, 14)\n",
      "random (30, 25)\n",
      "choose legal move (27, 23) from predict target (23, 23)\n",
      "choose predict move (25, 21)\n",
      "choose legal move (21, 17) from predict target (21, 5)\n",
      "random (28, 24)\n",
      "random (24, 21)\n",
      "choose legal move (21, 17) from predict target (21, 5)\n",
      "random (20, 16)\n",
      "random (17, 13)\n",
      "random (29, 24)\n",
      "random (19, 15)\n",
      "random (31, 26)\n",
      "round : 33/100 result lose, explore_rate 0.1\n",
      "choose predict move (24, 20)\n"
     ]
    },
    {
     "name": "stderr",
     "output_type": "stream",
     "text": [
      " 34%|███████████████████████████████████████████████▌                                                                                            | 34/100 [00:05<00:11,  5.90it/s]"
     ]
    },
    {
     "name": "stdout",
     "output_type": "stream",
     "text": [
      "choose legal move (26, 23) from predict target (18, 23)\n",
      "choose predict move (25, 21)\n",
      "choose predict move (21, 17)\n",
      "choose legal move (23, 19) from predict target (23, 14)\n",
      "choose legal move (17, 14) from predict target (23, 14)\n",
      "random (28, 24)\n",
      "choose legal move (24, 21) from predict target (25, 21)\n",
      "choose legal move (21, 17) from predict target (21, 21)\n",
      "choose legal move (27, 23) from predict target (23, 23)\n",
      "choose legal move (23, 18) from predict target (23, 14)\n",
      "choose legal move (17, 14) from predict target (23, 14)\n",
      "choose legal move (14, 5) from predict target (21, 5)\n",
      "random (19, 15)\n",
      "random (5, 0)\n",
      "random (30, 26)\n",
      "random (0, 4)\n",
      "random (31, 27)\n",
      "random (4, 22)\n",
      "random (15, 10)\n",
      "random (29, 25)\n",
      "random (27, 23)\n",
      "choose legal move (23, 19) from predict target (23, 5)\n",
      "random (19, 15)\n",
      "random (20, 16)\n",
      "round : 34/100 result lose, explore_rate 0.1\n",
      "choose predict move (24, 20)\n"
     ]
    },
    {
     "name": "stderr",
     "output_type": "stream",
     "text": [
      " 35%|█████████████████████████████████████████████████                                                                                           | 35/100 [00:05<00:10,  6.16it/s]"
     ]
    },
    {
     "name": "stdout",
     "output_type": "stream",
     "text": [
      "choose legal move (26, 23) from predict target (18, 23)\n",
      "choose predict move (25, 21)\n",
      "choose predict move (21, 17)\n",
      "choose legal move (23, 19) from predict target (23, 14)\n",
      "choose legal move (17, 14) from predict target (23, 14)\n",
      "random (31, 26)\n",
      "choose legal move (26, 23) from predict target (23, 23)\n",
      "random (29, 24)\n",
      "choose legal move (23, 18) from predict target (23, 21)\n",
      "choose legal move (18, 14) from predict target (23, 14)\n",
      "random (30, 26)\n",
      "random (14, 10)\n",
      "random (19, 15)\n",
      "random (20, 16)\n",
      "random (24, 17)\n",
      "random (27, 23)\n",
      "random (28, 24)\n",
      "random (10, 6)\n",
      "choose legal move (24, 21) from predict target (24, 11)\n",
      "choose predict move (21, 16)\n",
      "round : 35/100 result lose, explore_rate 0.1\n",
      "choose predict move (24, 20)\n",
      "choose legal move (26, 23) from predict target (18, 23)\n",
      "choose predict move (25, 21)\n",
      "choose predict move (21, 17)\n",
      "choose legal move (23, 19) from predict target (23, 14)\n"
     ]
    },
    {
     "name": "stderr",
     "output_type": "stream",
     "text": [
      " 36%|██████████████████████████████████████████████████▍                                                                                         | 36/100 [00:05<00:11,  5.39it/s]"
     ]
    },
    {
     "name": "stdout",
     "output_type": "stream",
     "text": [
      "choose legal move (17, 14) from predict target (23, 14)\n",
      "random (28, 24)\n",
      "choose legal move (24, 21) from predict target (25, 21)\n",
      "choose legal move (21, 17) from predict target (21, 21)\n",
      "choose legal move (27, 23) from predict target (23, 23)\n",
      "choose legal move (23, 18) from predict target (23, 14)\n",
      "choose legal move (17, 14) from predict target (23, 14)\n",
      "choose legal move (14, 5) from predict target (21, 5)\n",
      "random (5, 1)\n",
      "random (1, 8)\n",
      "random (19, 15)\n",
      "random (15, 10)\n",
      "random (31, 26)\n",
      "choose legal move (26, 19) from predict target (23, 19)\n",
      "choose legal move (8, 5) from predict target (23, 5)\n",
      "random (30, 25)\n",
      "random (5, 14)\n",
      "random (14, 7)\n",
      "random (7, 21)\n",
      "random (19, 15)\n",
      "random (25, 21)\n",
      "random (20, 16)\n",
      "random (29, 20)\n",
      "random (20, 16)\n",
      "random (16, 13)\n",
      "random (13, 9)\n",
      "random (9, 6)\n",
      "random (6, 1)\n",
      "random (1, 8)\n",
      "random (8, 26)\n",
      "round : 36/100 result lose, explore_rate 0.1\n",
      "choose predict move (24, 20)\n",
      "choose legal move (26, 23) from predict target (18, 23)\n",
      "choose predict move (25, 21)\n"
     ]
    },
    {
     "name": "stderr",
     "output_type": "stream",
     "text": [
      " 37%|███████████████████████████████████████████████████▊                                                                                        | 37/100 [00:06<00:12,  5.21it/s]"
     ]
    },
    {
     "name": "stdout",
     "output_type": "stream",
     "text": [
      "choose predict move (21, 17)\n",
      "choose legal move (23, 19) from predict target (23, 14)\n",
      "choose legal move (17, 14) from predict target (23, 14)\n",
      "random (30, 26)\n",
      "choose legal move (26, 23) from predict target (23, 23)\n",
      "random (29, 25)\n",
      "random (19, 15)\n",
      "choose legal move (23, 14) from predict target (23, 19)\n",
      "random (31, 26)\n",
      "choose legal move (26, 23) from predict target (24, 23)\n",
      "random (28, 24)\n",
      "random (14, 10)\n",
      "choose predict move (23, 19)\n",
      "choose legal move (24, 21) from predict target (25, 21)\n",
      "choose legal move (21, 17) from predict target (21, 5)\n",
      "random (27, 23)\n",
      "random (19, 15)\n",
      "choose legal move (23, 19) from predict target (23, 21)\n",
      "random (20, 16)\n",
      "random (19, 15)\n",
      "random (15, 10)\n",
      "random (10, 6)\n",
      "random (6, 1)\n",
      "random (1, 12)\n",
      "random (12, 16)\n",
      "round : 37/100 result lose, explore_rate 0.1\n",
      "choose predict move (24, 20)\n",
      "choose legal move (26, 23) from predict target (18, 23)\n",
      "choose predict move (25, 21)\n"
     ]
    },
    {
     "name": "stderr",
     "output_type": "stream",
     "text": [
      " 38%|█████████████████████████████████████████████████████▏                                                                                      | 38/100 [00:06<00:10,  5.72it/s]"
     ]
    },
    {
     "name": "stdout",
     "output_type": "stream",
     "text": [
      "choose predict move (21, 17)\n",
      "choose legal move (23, 19) from predict target (23, 14)\n",
      "choose legal move (17, 14) from predict target (23, 14)\n",
      "random (30, 25)\n",
      "choose legal move (27, 23) from predict target (23, 23)\n",
      "choose predict move (25, 21)\n",
      "choose legal move (21, 17) from predict target (21, 5)\n",
      "random (31, 26)\n",
      "random (20, 16)\n",
      "random (19, 15)\n",
      "random (29, 24)\n",
      "choose legal move (24, 21) from predict target (24, 14)\n",
      "random (28, 24)\n",
      "choose legal move (21, 17) from predict target (21, 5)\n",
      "choose legal move (24, 21) from predict target (23, 21)\n",
      "choose legal move (21, 17) from predict target (21, 5)\n",
      "random (17, 13)\n",
      "round : 38/100 result lose, explore_rate 0.1\n",
      "choose predict move (24, 20)\n",
      "choose legal move (26, 23) from predict target (18, 23)\n",
      "choose predict move (25, 21)\n",
      "choose predict move (21, 17)\n",
      "choose legal move (23, 19) from predict target (23, 14)\n",
      "choose legal move (17, 14) from predict target (23, 14)\n",
      "random (28, 24)\n",
      "choose legal move (24, 21) from predict target (25, 21)\n",
      "choose legal move (21, 17) from predict target (21, 21)\n",
      "choose legal move (27, 23) from predict target (23, 23)\n"
     ]
    },
    {
     "name": "stderr",
     "output_type": "stream",
     "text": [
      " 39%|██████████████████████████████████████████████████████▌                                                                                     | 39/100 [00:06<00:12,  4.88it/s]"
     ]
    },
    {
     "name": "stdout",
     "output_type": "stream",
     "text": [
      "choose legal move (23, 18) from predict target (23, 14)\n",
      "choose legal move (17, 14) from predict target (23, 14)\n",
      "choose legal move (14, 5) from predict target (21, 5)\n",
      "random (31, 26)\n",
      "random (19, 15)\n",
      "random (29, 25)\n",
      "choose predict move (25, 21)\n",
      "choose legal move (21, 17) from predict target (21, 5)\n",
      "random (15, 10)\n",
      "random (5, 1)\n",
      "choose legal move (1, 19) from predict target (23, 19)\n",
      "random (19, 23)\n",
      "random (30, 26)\n",
      "random (23, 0)\n",
      "random (20, 16)\n",
      "random (0, 4)\n",
      "random (4, 8)\n",
      "random (26, 22)\n",
      "random (22, 17)\n",
      "random (17, 14)\n",
      "random (14, 10)\n",
      "random (10, 6)\n",
      "round : 39/100 result lose, explore_rate 0.1\n",
      "choose predict move (24, 20)\n",
      "choose legal move (26, 23) from predict target (18, 23)\n",
      "choose predict move (25, 21)\n"
     ]
    },
    {
     "name": "stderr",
     "output_type": "stream",
     "text": [
      " 40%|████████████████████████████████████████████████████████                                                                                    | 40/100 [00:06<00:12,  4.92it/s]"
     ]
    },
    {
     "name": "stdout",
     "output_type": "stream",
     "text": [
      "choose predict move (21, 17)\n",
      "choose legal move (23, 19) from predict target (23, 14)\n",
      "choose legal move (17, 14) from predict target (23, 14)\n",
      "random (29, 24)\n",
      "choose legal move (24, 21) from predict target (23, 21)\n",
      "choose legal move (21, 17) from predict target (21, 21)\n",
      "choose legal move (27, 23) from predict target (13, 23)\n",
      "choose legal move (23, 18) from predict target (23, 19)\n",
      "random (18, 14)\n",
      "random (19, 15)\n",
      "random (15, 10)\n",
      "random (20, 16)\n",
      "random (30, 26)\n",
      "random (28, 24)\n",
      "random (26, 23)\n",
      "choose predict move (23, 19)\n",
      "random (19, 15)\n",
      "random (31, 26)\n",
      "random (17, 14)\n",
      "random (14, 9)\n",
      "random (10, 6)\n",
      "random (9, 5)\n",
      "random (5, 1)\n",
      "random (1, 15)\n",
      "round : 40/100 result lose, explore_rate 0.1\n",
      "choose predict move (24, 20)\n",
      "choose legal move (26, 23) from predict target (18, 23)\n",
      "choose predict move (25, 21)\n",
      "choose predict move (21, 17)\n"
     ]
    },
    {
     "name": "stderr",
     "output_type": "stream",
     "text": [
      " 41%|█████████████████████████████████████████████████████████▍                                                                                  | 41/100 [00:06<00:11,  5.24it/s]"
     ]
    },
    {
     "name": "stdout",
     "output_type": "stream",
     "text": [
      "choose legal move (23, 19) from predict target (23, 14)\n",
      "choose legal move (17, 14) from predict target (23, 14)\n",
      "random (29, 24)\n",
      "choose legal move (24, 21) from predict target (23, 21)\n",
      "choose legal move (21, 17) from predict target (21, 21)\n",
      "choose legal move (27, 23) from predict target (13, 23)\n",
      "choose legal move (23, 18) from predict target (23, 19)\n",
      "random (19, 15)\n",
      "random (18, 14)\n",
      "random (30, 25)\n",
      "random (17, 14)\n",
      "random (14, 10)\n",
      "random (10, 7)\n",
      "random (20, 16)\n",
      "random (28, 24)\n",
      "random (31, 26)\n",
      "random (26, 23)\n",
      "round : 41/100 result lose, explore_rate 0.1\n",
      "choose predict move (24, 20)\n",
      "choose legal move (26, 23) from predict target (18, 23)\n",
      "choose predict move (25, 21)\n",
      "choose predict move (21, 17)\n",
      "choose legal move (23, 19) from predict target (23, 14)\n",
      "choose legal move (17, 14) from predict target (23, 14)\n",
      "random (30, 26)\n",
      "choose legal move (26, 23) from predict target (23, 23)\n",
      "random (28, 24)\n",
      "choose legal move (23, 18) from predict target (23, 21)\n"
     ]
    },
    {
     "name": "stderr",
     "output_type": "stream",
     "text": [
      " 43%|████████████████████████████████████████████████████████████▏                                                                               | 43/100 [00:07<00:09,  5.91it/s]"
     ]
    },
    {
     "name": "stdout",
     "output_type": "stream",
     "text": [
      "choose legal move (18, 14) from predict target (21, 14)\n",
      "random (14, 10)\n",
      "random (10, 7)\n",
      "choose legal move (24, 21) from predict target (23, 21)\n",
      "random (31, 26)\n",
      "random (19, 15)\n",
      "choose legal move (27, 23) from predict target (18, 23)\n",
      "random (20, 16)\n",
      "random (29, 25)\n",
      "choose legal move (25, 21) from predict target (23, 21)\n",
      "choose legal move (21, 17) from predict target (21, 5)\n",
      "random (17, 14)\n",
      "round : 42/100 result lose, explore_rate 0.1\n",
      "choose predict move (24, 20)\n",
      "choose legal move (26, 23) from predict target (18, 23)\n",
      "choose predict move (25, 21)\n",
      "choose predict move (21, 17)\n",
      "choose legal move (23, 19) from predict target (23, 14)\n",
      "choose legal move (17, 14) from predict target (23, 14)\n",
      "random (29, 24)\n",
      "choose legal move (24, 21) from predict target (23, 21)\n",
      "choose legal move (21, 17) from predict target (21, 21)\n",
      "choose legal move (27, 23) from predict target (13, 23)\n",
      "choose legal move (23, 18) from predict target (23, 19)\n",
      "random (31, 27)\n",
      "random (28, 24)\n",
      "choose legal move (17, 14) from predict target (0, 14)\n",
      "random (18, 14)\n",
      "random (19, 15)\n",
      "random (15, 10)\n",
      "random (27, 23)\n",
      "random (20, 16)\n",
      "random (30, 26)\n",
      "round : 43/100 result lose, explore_rate 0.1\n",
      "choose predict move (24, 20)\n"
     ]
    },
    {
     "name": "stderr",
     "output_type": "stream",
     "text": [
      " 44%|█████████████████████████████████████████████████████████████▌                                                                              | 44/100 [00:07<00:08,  6.29it/s]"
     ]
    },
    {
     "name": "stdout",
     "output_type": "stream",
     "text": [
      "choose legal move (26, 23) from predict target (18, 23)\n",
      "choose predict move (25, 21)\n",
      "choose predict move (21, 17)\n",
      "choose legal move (23, 19) from predict target (23, 14)\n",
      "choose legal move (17, 14) from predict target (23, 14)\n",
      "random (19, 15)\n",
      "choose legal move (27, 23) from predict target (23, 23)\n",
      "random (30, 26)\n",
      "choose legal move (26, 23) from predict target (13, 23)\n",
      "choose legal move (23, 19) from predict target (23, 23)\n",
      "random (31, 26)\n",
      "random (29, 25)\n",
      "random (25, 21)\n",
      "random (28, 21)\n",
      "choose legal move (21, 17) from predict target (21, 5)\n",
      "random (20, 16)\n",
      "random (19, 15)\n",
      "random (15, 10)\n",
      "random (10, 7)\n",
      "round : 44/100 result lose, explore_rate 0.1\n",
      "choose predict move (24, 20)\n",
      "choose legal move (26, 23) from predict target (18, 23)\n",
      "choose predict move (25, 21)\n",
      "choose predict move (21, 17)\n",
      "choose legal move (23, 19) from predict target (23, 14)\n",
      "choose legal move (17, 14) from predict target (23, 14)\n",
      "random (27, 23)\n",
      "random (29, 25)\n"
     ]
    },
    {
     "name": "stderr",
     "output_type": "stream",
     "text": [
      " 45%|███████████████████████████████████████████████████████████████                                                                             | 45/100 [00:07<00:08,  6.31it/s]"
     ]
    },
    {
     "name": "stdout",
     "output_type": "stream",
     "text": [
      "choose predict move (25, 21)\n",
      "choose legal move (21, 17) from predict target (21, 5)\n",
      "random (20, 16)\n",
      "random (28, 24)\n",
      "random (30, 26)\n",
      "random (26, 23)\n",
      "random (31, 26)\n",
      "random (23, 18)\n",
      "random (18, 15)\n",
      "random (26, 23)\n",
      "random (19, 15)\n",
      "random (15, 11)\n",
      "random (11, 7)\n",
      "random (23, 18)\n",
      "random (18, 14)\n",
      "round : 45/100 result lose, explore_rate 0.1\n",
      "choose predict move (24, 20)\n",
      "choose legal move (26, 23) from predict target (18, 23)\n",
      "choose predict move (25, 21)\n",
      "choose predict move (21, 17)\n",
      "choose legal move (23, 19) from predict target (23, 14)\n",
      "choose legal move (17, 14) from predict target (23, 14)\n",
      "random (28, 24)\n",
      "choose legal move (24, 21) from predict target (25, 21)\n",
      "choose legal move (21, 17) from predict target (21, 21)\n",
      "choose legal move (27, 23) from predict target (23, 23)\n",
      "choose legal move (23, 18) from predict target (23, 14)\n",
      "choose legal move (17, 14) from predict target (23, 14)\n",
      "choose legal move (14, 5) from predict target (21, 5)\n"
     ]
    },
    {
     "name": "stderr",
     "output_type": "stream",
     "text": [
      " 46%|████████████████████████████████████████████████████████████████▍                                                                           | 46/100 [00:07<00:08,  6.13it/s]"
     ]
    },
    {
     "name": "stdout",
     "output_type": "stream",
     "text": [
      "random (29, 24)\n",
      "random (30, 25)\n",
      "random (31, 26)\n",
      "choose predict move (19, 10)\n",
      "choose legal move (10, 1) from predict target (10, 5)\n",
      "choose legal move (1, 10) from predict target (19, 10)\n",
      "choose legal move (26, 23) from predict target (13, 23)\n",
      "choose predict move (23, 19)\n",
      "choose legal move (19, 15) from predict target (19, 21)\n",
      "random (20, 16)\n",
      "random (5, 0)\n",
      "random (0, 27)\n",
      "random (27, 18)\n",
      "round : 46/100 result lose, explore_rate 0.1\n",
      "choose predict move (24, 20)\n",
      "choose legal move (26, 23) from predict target (18, 23)\n",
      "choose predict move (25, 21)\n",
      "choose predict move (21, 17)\n",
      "choose legal move (23, 19) from predict target (23, 14)\n",
      "choose legal move (17, 14) from predict target (23, 14)\n",
      "random (31, 26)\n",
      "choose legal move (26, 23) from predict target (23, 23)\n",
      "random (28, 24)\n",
      "choose legal move (23, 18) from predict target (23, 21)\n",
      "choose legal move (18, 14) from predict target (23, 14)\n",
      "random (14, 9)\n",
      "choose legal move (27, 23) from predict target (23, 23)\n",
      "choose legal move (23, 18) from predict target (23, 19)\n",
      "random (29, 25)\n",
      "choose predict move (25, 21)\n"
     ]
    },
    {
     "name": "stderr",
     "output_type": "stream",
     "text": [
      " 47%|█████████████████████████████████████████████████████████████████▊                                                                          | 47/100 [00:07<00:09,  5.89it/s]"
     ]
    },
    {
     "name": "stdout",
     "output_type": "stream",
     "text": [
      "random (9, 6)\n",
      "choose predict move (21, 16)\n",
      "random (30, 21)\n",
      "choose legal move (20, 16) from predict target (24, 16)\n",
      "random (18, 14)\n",
      "random (19, 15)\n",
      "random (15, 10)\n",
      "round : 47/100 result lose, explore_rate 0.1\n",
      "choose predict move (24, 20)\n",
      "choose legal move (26, 23) from predict target (18, 23)\n",
      "choose predict move (25, 21)\n",
      "choose predict move (21, 17)\n",
      "choose legal move (23, 19) from predict target (23, 14)\n",
      "choose legal move (17, 14) from predict target (23, 14)\n",
      "random (19, 15)\n",
      "choose legal move (27, 23) from predict target (23, 23)\n",
      "random (15, 10)\n",
      "random (31, 26)\n",
      "choose legal move (26, 23) from predict target (23, 23)\n",
      "choose legal move (23, 19) from predict target (23, 21)\n",
      "random (20, 16)\n",
      "random (19, 15)\n",
      "random (16, 13)\n",
      "choose legal move (13, 9) from predict target (13, 4)\n",
      "random (15, 11)\n",
      "random (9, 6)\n",
      "random (28, 24)\n",
      "random (10, 6)\n",
      "random (29, 25)\n",
      "random (11, 7)\n",
      "random (30, 26)\n"
     ]
    },
    {
     "name": "stderr",
     "output_type": "stream",
     "text": [
      " 49%|████████████████████████████████████████████████████████████████████▌                                                                       | 49/100 [00:08<00:08,  6.09it/s]"
     ]
    },
    {
     "name": "stdout",
     "output_type": "stream",
     "text": [
      "random (6, 1)\n",
      "random (26, 22)\n",
      "random (1, 6)\n",
      "choose legal move (6, 19) from predict target (23, 19)\n",
      "random (19, 23)\n",
      "random (23, 18)\n",
      "round : 48/100 result lose, explore_rate 0.1\n",
      "choose predict move (24, 20)\n",
      "choose legal move (26, 23) from predict target (18, 23)\n",
      "choose predict move (25, 21)\n",
      "choose predict move (21, 17)\n",
      "choose legal move (23, 19) from predict target (23, 14)\n",
      "choose legal move (17, 14) from predict target (23, 14)\n",
      "random (19, 15)\n",
      "choose legal move (27, 23) from predict target (23, 23)\n",
      "random (29, 25)\n",
      "random (25, 22)\n",
      "random (30, 21)\n",
      "random (21, 17)\n",
      "random (31, 26)\n",
      "random (20, 16)\n",
      "random (28, 24)\n",
      "round : 49/100 result lose, explore_rate 0.1\n",
      "choose predict move (24, 20)\n",
      "choose legal move (26, 23) from predict target (18, 23)\n",
      "choose predict move (25, 21)\n",
      "choose predict move (21, 17)\n"
     ]
    },
    {
     "name": "stderr",
     "output_type": "stream",
     "text": [
      " 50%|██████████████████████████████████████████████████████████████████████                                                                      | 50/100 [00:08<00:08,  6.06it/s]"
     ]
    },
    {
     "name": "stdout",
     "output_type": "stream",
     "text": [
      "choose legal move (23, 19) from predict target (23, 14)\n",
      "choose legal move (17, 14) from predict target (23, 14)\n",
      "random (28, 24)\n",
      "choose legal move (24, 21) from predict target (25, 21)\n",
      "choose legal move (21, 17) from predict target (21, 21)\n",
      "choose legal move (27, 23) from predict target (23, 23)\n",
      "choose legal move (23, 18) from predict target (23, 14)\n",
      "choose legal move (17, 14) from predict target (23, 14)\n",
      "choose legal move (14, 5) from predict target (21, 5)\n",
      "random (19, 15)\n",
      "random (29, 24)\n",
      "random (31, 26)\n",
      "random (18, 14)\n",
      "random (5, 1)\n",
      "random (1, 10)\n",
      "random (20, 16)\n",
      "random (30, 26)\n",
      "round : 50/100 result lose, explore_rate 0.1\n",
      "choose predict move (24, 20)\n",
      "choose legal move (26, 23) from predict target (18, 23)\n",
      "choose predict move (25, 21)\n",
      "choose predict move (21, 17)\n",
      "choose legal move (23, 19) from predict target (23, 14)\n",
      "choose legal move (17, 14) from predict target (23, 14)\n",
      "random (28, 24)\n",
      "choose legal move (24, 21) from predict target (25, 21)\n"
     ]
    },
    {
     "name": "stderr",
     "output_type": "stream",
     "text": [
      " 51%|███████████████████████████████████████████████████████████████████████▍                                                                    | 51/100 [00:08<00:09,  5.37it/s]"
     ]
    },
    {
     "name": "stdout",
     "output_type": "stream",
     "text": [
      "choose legal move (21, 17) from predict target (21, 21)\n",
      "choose legal move (27, 23) from predict target (23, 23)\n",
      "choose legal move (23, 18) from predict target (23, 14)\n",
      "choose legal move (17, 14) from predict target (23, 14)\n",
      "choose legal move (14, 5) from predict target (21, 5)\n",
      "random (5, 1)\n",
      "random (20, 16)\n",
      "random (1, 15)\n",
      "random (15, 25)\n",
      "random (31, 26)\n",
      "random (18, 14)\n",
      "random (25, 15)\n",
      "random (26, 22)\n",
      "choose legal move (30, 21) from predict target (25, 21)\n",
      "choose legal move (21, 17) from predict target (21, 5)\n",
      "random (29, 25)\n",
      "choose legal move (17, 13) from predict target (16, 13)\n",
      "choose legal move (19, 15) from predict target (19, 5)\n",
      "choose legal move (13, 9) from predict target (13, 4)\n",
      "random (9, 5)\n",
      "random (5, 0)\n",
      "choose legal move (0, 23) from predict target (13, 23)\n",
      "random (23, 5)\n",
      "choose legal move (5, 23) from predict target (18, 23)\n",
      "random (23, 30)\n",
      "choose legal move (30, 23) from predict target (18, 23)\n",
      "round : 51/100 result lose, explore_rate 0.1\n",
      "choose predict move (24, 20)\n",
      "choose legal move (26, 23) from predict target (18, 23)\n",
      "choose predict move (25, 21)\n",
      "choose predict move (21, 17)\n",
      "choose legal move (23, 19) from predict target (23, 14)\n"
     ]
    },
    {
     "name": "stderr",
     "output_type": "stream",
     "text": [
      " 52%|████████████████████████████████████████████████████████████████████████▊                                                                   | 52/100 [00:08<00:08,  5.48it/s]"
     ]
    },
    {
     "name": "stdout",
     "output_type": "stream",
     "text": [
      "choose legal move (17, 14) from predict target (23, 14)\n",
      "random (30, 26)\n",
      "choose legal move (26, 23) from predict target (23, 23)\n",
      "random (28, 24)\n",
      "choose legal move (23, 18) from predict target (23, 21)\n",
      "choose legal move (18, 14) from predict target (21, 14)\n",
      "random (27, 23)\n",
      "choose legal move (23, 18) from predict target (23, 5)\n",
      "choose legal move (19, 15) from predict target (19, 5)\n",
      "random (14, 9)\n",
      "random (9, 2)\n",
      "random (2, 16)\n",
      "random (31, 26)\n",
      "random (29, 25)\n",
      "choose predict move (25, 21)\n",
      "random (20, 16)\n",
      "random (16, 12)\n",
      "random (18, 14)\n",
      "random (12, 8)\n",
      "round : 52/100 result lose, explore_rate 0.1\n",
      "choose predict move (24, 20)\n",
      "choose legal move (26, 23) from predict target (18, 23)\n",
      "choose predict move (25, 21)\n",
      "choose predict move (21, 17)\n",
      "choose legal move (23, 19) from predict target (23, 14)\n",
      "choose legal move (17, 14) from predict target (23, 14)\n",
      "random (19, 15)\n",
      "choose legal move (27, 23) from predict target (23, 23)\n",
      "random (15, 10)\n",
      "random (20, 16)\n",
      "random (30, 25)\n"
     ]
    },
    {
     "name": "stderr",
     "output_type": "stream",
     "text": [
      " 53%|██████████████████████████████████████████████████████████████████████████▏                                                                 | 53/100 [00:08<00:07,  5.93it/s]"
     ]
    },
    {
     "name": "stdout",
     "output_type": "stream",
     "text": [
      "random (29, 24)\n",
      "random (10, 7)\n",
      "choose predict move (24, 20)\n",
      "random (31, 26)\n",
      "random (20, 16)\n",
      "random (28, 24)\n",
      "choose legal move (24, 21) from predict target (23, 21)\n",
      "round : 53/100 result lose, explore_rate 0.1\n",
      "choose predict move (24, 20)\n",
      "choose legal move (26, 23) from predict target (18, 23)\n",
      "choose predict move (25, 21)\n",
      "choose predict move (21, 17)\n",
      "choose legal move (23, 19) from predict target (23, 14)\n",
      "choose legal move (17, 14) from predict target (23, 14)\n",
      "random (29, 25)\n",
      "choose legal move (27, 23) from predict target (23, 23)\n",
      "choose predict move (25, 21)\n",
      "choose legal move (21, 17) from predict target (21, 5)\n",
      "random (19, 15)\n",
      "random (30, 26)\n",
      "random (28, 24)\n",
      "random (26, 23)\n",
      "choose legal move (23, 19) from predict target (23, 21)\n",
      "choose predict move (24, 21)\n",
      "choose legal move (19, 15) from predict target (19, 5)\n",
      "choose predict move (21, 16)\n",
      "random (15, 10)\n",
      "random (10, 6)\n",
      "random (31, 26)\n",
      "random (6, 2)\n",
      "random (2, 9)\n",
      "random (9, 5)\n"
     ]
    },
    {
     "name": "stderr",
     "output_type": "stream",
     "text": [
      " 55%|█████████████████████████████████████████████████████████████████████████████                                                               | 55/100 [00:09<00:06,  6.63it/s]"
     ]
    },
    {
     "name": "stdout",
     "output_type": "stream",
     "text": [
      "random (5, 14)\n",
      "random (14, 17)\n",
      "random (20, 16)\n",
      "round : 54/100 result lose, explore_rate 0.1\n",
      "choose predict move (24, 20)\n",
      "choose legal move (26, 23) from predict target (18, 23)\n",
      "choose predict move (25, 21)\n",
      "choose predict move (21, 17)\n",
      "choose legal move (23, 19) from predict target (23, 14)\n",
      "choose legal move (17, 14) from predict target (23, 14)\n",
      "random (20, 16)\n",
      "choose legal move (27, 23) from predict target (23, 23)\n",
      "random (28, 24)\n",
      "random (30, 25)\n",
      "choose predict move (25, 21)\n",
      "random (19, 15)\n",
      "random (29, 25)\n",
      "choose legal move (25, 21) from predict target (23, 21)\n",
      "random (31, 26)\n",
      "round : 55/100 result lose, explore_rate 0.1\n",
      "choose predict move (24, 20)\n",
      "choose legal move (26, 23) from predict target (18, 23)\n",
      "choose predict move (25, 21)\n",
      "choose predict move (21, 17)\n",
      "choose legal move (23, 19) from predict target (23, 14)\n",
      "choose legal move (17, 14) from predict target (23, 14)\n",
      "random (27, 23)\n",
      "random (30, 25)\n",
      "choose predict move (25, 21)\n"
     ]
    },
    {
     "name": "stderr",
     "output_type": "stream",
     "text": [
      " 57%|███████████████████████████████████████████████████████████████████████████████▊                                                            | 57/100 [00:09<00:06,  6.84it/s]"
     ]
    },
    {
     "name": "stdout",
     "output_type": "stream",
     "text": [
      "choose legal move (21, 17) from predict target (21, 5)\n",
      "random (20, 16)\n",
      "random (28, 24)\n",
      "random (29, 25)\n",
      "random (19, 15)\n",
      "random (31, 26)\n",
      "random (26, 23)\n",
      "choose predict move (23, 19)\n",
      "random (19, 15)\n",
      "round : 56/100 result lose, explore_rate 0.1\n",
      "choose predict move (24, 20)\n",
      "choose legal move (26, 23) from predict target (18, 23)\n",
      "choose predict move (25, 21)\n",
      "choose predict move (21, 17)\n",
      "choose legal move (23, 19) from predict target (23, 14)\n",
      "choose legal move (17, 14) from predict target (23, 14)\n",
      "random (27, 23)\n",
      "random (20, 16)\n",
      "random (30, 25)\n",
      "random (29, 24)\n",
      "choose legal move (24, 21) from predict target (21, 21)\n",
      "random (19, 15)\n",
      "random (28, 24)\n",
      "choose legal move (24, 21) from predict target (23, 21)\n",
      "choose legal move (21, 17) from predict target (21, 5)\n",
      "random (17, 14)\n",
      "random (31, 26)\n",
      "random (14, 9)\n",
      "random (26, 22)\n",
      "random (22, 18)\n",
      "random (18, 14)\n",
      "random (14, 9)\n",
      "random (9, 6)\n",
      "round : 57/100 result lose, explore_rate 0.1\n",
      "choose predict move (24, 20)\n",
      "choose legal move (26, 23) from predict target (18, 23)\n"
     ]
    },
    {
     "name": "stderr",
     "output_type": "stream",
     "text": [
      " 58%|█████████████████████████████████████████████████████████████████████████████████▏                                                          | 58/100 [00:09<00:06,  6.22it/s]"
     ]
    },
    {
     "name": "stdout",
     "output_type": "stream",
     "text": [
      "choose predict move (25, 21)\n",
      "choose predict move (21, 17)\n",
      "choose legal move (23, 19) from predict target (23, 14)\n",
      "choose legal move (17, 14) from predict target (23, 14)\n",
      "random (30, 26)\n",
      "choose legal move (26, 23) from predict target (23, 23)\n",
      "random (31, 26)\n",
      "random (28, 24)\n",
      "choose legal move (23, 18) from predict target (23, 21)\n",
      "choose legal move (24, 21) from predict target (21, 21)\n",
      "choose legal move (21, 17) from predict target (21, 5)\n",
      "random (27, 23)\n",
      "random (18, 14)\n",
      "random (29, 25)\n",
      "choose legal move (25, 21) from predict target (21, 21)\n",
      "choose legal move (21, 17) from predict target (21, 5)\n",
      "random (23, 18)\n",
      "random (19, 10)\n",
      "random (10, 6)\n",
      "random (20, 16)\n",
      "round : 58/100 result lose, explore_rate 0.1\n",
      "choose predict move (24, 20)\n",
      "choose legal move (26, 23) from predict target (18, 23)\n",
      "choose predict move (25, 21)\n"
     ]
    },
    {
     "name": "stderr",
     "output_type": "stream",
     "text": [
      " 59%|██████████████████████████████████████████████████████████████████████████████████▌                                                         | 59/100 [00:09<00:06,  6.20it/s]"
     ]
    },
    {
     "name": "stdout",
     "output_type": "stream",
     "text": [
      "choose predict move (21, 17)\n",
      "choose legal move (23, 19) from predict target (23, 14)\n",
      "choose legal move (17, 14) from predict target (23, 14)\n",
      "random (29, 24)\n",
      "choose legal move (24, 21) from predict target (23, 21)\n",
      "choose legal move (21, 17) from predict target (21, 21)\n",
      "choose legal move (27, 23) from predict target (13, 23)\n",
      "choose legal move (23, 18) from predict target (23, 19)\n",
      "random (19, 15)\n",
      "random (18, 14)\n",
      "random (28, 24)\n",
      "random (24, 21)\n",
      "random (31, 26)\n",
      "random (15, 10)\n",
      "random (20, 16)\n",
      "random (30, 25)\n",
      "choose legal move (10, 7) from predict target (10, 3)\n",
      "random (16, 13)\n",
      "round : 59/100 result lose, explore_rate 0.1\n",
      "choose predict move (24, 20)\n",
      "choose legal move (26, 23) from predict target (18, 23)\n",
      "choose predict move (25, 21)\n",
      "choose predict move (21, 17)\n",
      "choose legal move (23, 19) from predict target (23, 14)\n",
      "choose legal move (17, 14) from predict target (23, 14)\n",
      "random (30, 25)\n"
     ]
    },
    {
     "name": "stderr",
     "output_type": "stream",
     "text": [
      " 61%|█████████████████████████████████████████████████████████████████████████████████████▍                                                      | 61/100 [00:10<00:06,  6.43it/s]"
     ]
    },
    {
     "name": "stdout",
     "output_type": "stream",
     "text": [
      "choose legal move (27, 23) from predict target (23, 23)\n",
      "choose predict move (25, 21)\n",
      "choose legal move (21, 17) from predict target (21, 5)\n",
      "random (28, 24)\n",
      "random (31, 26)\n",
      "random (20, 16)\n",
      "random (19, 15)\n",
      "random (29, 24)\n",
      "round : 60/100 result lose, explore_rate 0.1\n",
      "choose predict move (24, 20)\n",
      "choose legal move (26, 23) from predict target (18, 23)\n",
      "choose predict move (25, 21)\n",
      "choose predict move (21, 17)\n",
      "choose legal move (23, 19) from predict target (23, 14)\n",
      "choose legal move (17, 14) from predict target (23, 14)\n",
      "random (30, 26)\n",
      "choose legal move (26, 23) from predict target (23, 23)\n",
      "random (29, 24)\n",
      "choose legal move (23, 18) from predict target (23, 21)\n",
      "choose legal move (24, 21) from predict target (25, 21)\n",
      "choose legal move (28, 21) from predict target (25, 21)\n",
      "choose predict move (21, 16)\n",
      "random (27, 23)\n",
      "random (31, 27)\n",
      "random (20, 16)\n",
      "random (19, 15)\n",
      "random (15, 10)\n",
      "random (10, 6)\n",
      "random (23, 19)\n",
      "random (18, 14)\n",
      "choose legal move (19, 15) from predict target (19, 21)\n",
      "random (27, 23)\n",
      "random (6, 1)\n",
      "random (1, 12)\n",
      "random (12, 8)\n",
      "round : 61/100 result lose, explore_rate 0.1\n"
     ]
    },
    {
     "name": "stderr",
     "output_type": "stream",
     "text": [
      " 62%|██████████████████████████████████████████████████████████████████████████████████████▊                                                     | 62/100 [00:10<00:05,  6.40it/s]"
     ]
    },
    {
     "name": "stdout",
     "output_type": "stream",
     "text": [
      "choose predict move (24, 20)\n",
      "choose legal move (26, 23) from predict target (18, 23)\n",
      "choose predict move (25, 21)\n",
      "choose predict move (21, 17)\n",
      "choose legal move (23, 19) from predict target (23, 14)\n",
      "choose legal move (17, 14) from predict target (23, 14)\n",
      "random (30, 26)\n",
      "choose legal move (26, 23) from predict target (23, 23)\n",
      "random (28, 24)\n",
      "choose legal move (23, 18) from predict target (23, 21)\n",
      "choose legal move (18, 14) from predict target (21, 14)\n",
      "random (20, 16)\n",
      "random (29, 24)\n",
      "random (27, 23)\n",
      "choose legal move (23, 18) from predict target (23, 5)\n",
      "random (31, 27)\n",
      "random (18, 15)\n",
      "random (19, 15)\n",
      "random (27, 23)\n",
      "random (15, 11)\n",
      "round : 62/100 result lose, explore_rate 0.1\n",
      "choose predict move (24, 20)\n",
      "choose legal move (26, 23) from predict target (18, 23)\n",
      "choose predict move (25, 21)\n",
      "choose predict move (21, 17)\n"
     ]
    },
    {
     "name": "stderr",
     "output_type": "stream",
     "text": [
      " 63%|████████████████████████████████████████████████████████████████████████████████████████▏                                                   | 63/100 [00:10<00:05,  6.38it/s]"
     ]
    },
    {
     "name": "stdout",
     "output_type": "stream",
     "text": [
      "choose legal move (23, 19) from predict target (23, 14)\n",
      "choose legal move (17, 14) from predict target (23, 14)\n",
      "random (31, 26)\n",
      "choose legal move (26, 23) from predict target (23, 23)\n",
      "random (19, 15)\n",
      "choose predict move (23, 14)\n",
      "random (30, 25)\n",
      "random (14, 9)\n",
      "random (29, 24)\n",
      "choose legal move (25, 22) from predict target (25, 23)\n",
      "random (20, 16)\n",
      "random (22, 13)\n",
      "choose legal move (27, 23) from predict target (18, 23)\n",
      "choose predict move (23, 19)\n",
      "random (13, 8)\n",
      "random (19, 15)\n",
      "random (28, 24)\n",
      "random (24, 21)\n",
      "round : 63/100 result lose, explore_rate 0.1\n",
      "choose predict move (24, 20)\n",
      "choose legal move (26, 23) from predict target (18, 23)\n",
      "choose predict move (25, 21)\n",
      "choose predict move (21, 17)\n",
      "choose legal move (23, 19) from predict target (23, 14)\n",
      "choose legal move (17, 14) from predict target (23, 14)\n",
      "random (28, 24)\n",
      "choose legal move (24, 21) from predict target (25, 21)\n",
      "choose legal move (21, 17) from predict target (21, 21)\n",
      "choose legal move (27, 23) from predict target (23, 23)\n"
     ]
    },
    {
     "name": "stderr",
     "output_type": "stream",
     "text": [
      " 64%|█████████████████████████████████████████████████████████████████████████████████████████▌                                                  | 64/100 [00:10<00:06,  5.53it/s]"
     ]
    },
    {
     "name": "stdout",
     "output_type": "stream",
     "text": [
      "choose legal move (23, 18) from predict target (23, 14)\n",
      "choose legal move (17, 14) from predict target (23, 14)\n",
      "choose legal move (14, 5) from predict target (21, 5)\n",
      "random (18, 14)\n",
      "random (31, 26)\n",
      "random (20, 16)\n",
      "random (30, 25)\n",
      "random (19, 15)\n",
      "random (14, 10)\n",
      "random (29, 25)\n",
      "random (5, 1)\n",
      "random (1, 5)\n",
      "random (5, 23)\n",
      "random (23, 5)\n",
      "random (5, 8)\n",
      "random (8, 22)\n",
      "round : 64/100 result lose, explore_rate 0.1\n",
      "choose predict move (24, 20)\n",
      "choose legal move (26, 23) from predict target (18, 23)\n",
      "choose predict move (25, 21)\n",
      "choose predict move (21, 17)\n",
      "choose legal move (23, 19) from predict target (23, 14)\n",
      "choose legal move (17, 14) from predict target (23, 14)\n",
      "random (27, 23)\n",
      "random (31, 26)\n"
     ]
    },
    {
     "name": "stderr",
     "output_type": "stream",
     "text": [
      " 66%|████████████████████████████████████████████████████████████████████████████████████████████▍                                               | 66/100 [00:10<00:05,  6.54it/s]"
     ]
    },
    {
     "name": "stdout",
     "output_type": "stream",
     "text": [
      "choose legal move (26, 23) from predict target (18, 23)\n",
      "choose legal move (23, 18) from predict target (23, 19)\n",
      "random (28, 24)\n",
      "random (18, 15)\n",
      "random (29, 24)\n",
      "random (30, 26)\n",
      "random (20, 16)\n",
      "random (26, 22)\n",
      "random (19, 15)\n",
      "random (15, 11)\n",
      "round : 65/100 result lose, explore_rate 0.1\n",
      "choose predict move (24, 20)\n",
      "choose legal move (26, 23) from predict target (18, 23)\n",
      "choose predict move (25, 21)\n",
      "choose predict move (21, 17)\n",
      "choose legal move (23, 19) from predict target (23, 14)\n",
      "choose legal move (17, 14) from predict target (23, 14)\n",
      "random (29, 25)\n",
      "choose legal move (27, 23) from predict target (23, 23)\n",
      "choose predict move (25, 21)\n",
      "choose legal move (21, 17) from predict target (21, 5)\n",
      "random (20, 16)\n",
      "random (19, 15)\n",
      "random (30, 26)\n",
      "random (26, 22)\n",
      "random (22, 17)\n",
      "random (28, 24)\n",
      "random (17, 13)\n",
      "random (31, 26)\n",
      "round : 66/100 result lose, explore_rate 0.1\n",
      "choose predict move (24, 20)\n",
      "choose legal move (26, 23) from predict target (18, 23)\n",
      "choose predict move (25, 21)\n",
      "choose predict move (21, 17)\n",
      "choose legal move (23, 19) from predict target (23, 14)\n",
      "choose legal move (17, 14) from predict target (23, 14)\n",
      "random (27, 23)\n",
      "random (20, 16)\n",
      "random (30, 25)\n",
      "random (28, 24)\n",
      "choose legal move (24, 21) from predict target (21, 21)\n",
      "random (29, 25)\n",
      "random (31, 26)\n",
      "random (19, 15)\n",
      "round : 67/100 result lose, explore_rate 0.1\n",
      "choose predict move (24, 20)\n",
      "choose legal move (26, 23) from predict target (18, 23)\n",
      "choose predict move (25, 21)\n",
      "choose predict move (21, 17)\n",
      "choose legal move (23, 19) from predict target (23, 14)\n",
      "choose legal move (17, 14) from predict target (23, 14)\n",
      "random (29, 24)\n",
      "choose legal move (24, 21) from predict target (23, 21)\n",
      "choose legal move (21, 17) from predict target (21, 21)\n",
      "choose legal move (27, 23) from predict target (13, 23)\n",
      "choose legal move (23, 18) from predict target (23, 19)\n",
      "random (20, 16)\n",
      "choose legal move (17, 14) from predict target (23, 14)\n",
      "random (31, 27)\n",
      "random (30, 25)\n",
      "random (28, 24)\n",
      "random (19, 10)\n",
      "random (14, 9)\n",
      "random (9, 5)\n"
     ]
    },
    {
     "name": "stderr",
     "output_type": "stream",
     "text": [
      " 68%|███████████████████████████████████████████████████████████████████████████████████████████████▏                                            | 68/100 [00:11<00:04,  6.76it/s]"
     ]
    },
    {
     "name": "stdout",
     "output_type": "stream",
     "text": [
      "choose legal move (27, 23) from predict target (23, 23)\n",
      "choose legal move (23, 19) from predict target (23, 14)\n",
      "random (10, 7)\n",
      "random (5, 0)\n",
      "choose legal move (0, 18) from predict target (23, 18)\n",
      "round : 68/100 result lose, explore_rate 0.1\n",
      "choose predict move (24, 20)\n",
      "choose legal move (26, 23) from predict target (18, 23)\n",
      "choose predict move (25, 21)\n",
      "choose predict move (21, 17)\n",
      "choose legal move (23, 19) from predict target (23, 14)\n",
      "choose legal move (17, 14) from predict target (23, 14)\n",
      "random (30, 26)\n",
      "choose legal move (26, 23) from predict target (23, 23)\n",
      "random (23, 18)\n",
      "random (29, 25)\n",
      "random (20, 16)\n",
      "choose legal move (27, 23) from predict target (24, 23)\n",
      "random (19, 10)\n",
      "choose legal move (23, 19) from predict target (23, 14)\n",
      "random (31, 27)\n",
      "random (19, 15)\n",
      "random (10, 7)\n",
      "random (27, 23)\n",
      "random (28, 24)\n",
      "choose predict move (24, 20)\n",
      "random (20, 16)\n",
      "random (16, 13)\n",
      "random (13, 9)\n",
      "random (9, 6)\n",
      "random (6, 2)\n",
      "random (2, 13)\n"
     ]
    },
    {
     "name": "stderr",
     "output_type": "stream",
     "text": [
      " 69%|████████████████████████████████████████████████████████████████████████████████████████████████▌                                           | 69/100 [00:11<00:05,  5.73it/s]"
     ]
    },
    {
     "name": "stdout",
     "output_type": "stream",
     "text": [
      "random (13, 17)\n",
      "choose legal move (17, 21) from predict target (19, 21)\n",
      "choose legal move (21, 10) from predict target (19, 10)\n",
      "random (10, 7)\n",
      "choose legal move (7, 21) from predict target (19, 21)\n",
      "random (21, 10)\n",
      "random (10, 1)\n",
      "choose legal move (1, 5) from predict target (10, 5)\n",
      "random (5, 0)\n",
      "random (0, 9)\n",
      "round : 69/100 result lose, explore_rate 0.1\n",
      "choose predict move (24, 20)\n",
      "choose legal move (26, 23) from predict target (18, 23)\n",
      "choose predict move (25, 21)\n",
      "choose predict move (21, 17)\n",
      "choose legal move (23, 19) from predict target (23, 14)\n",
      "choose legal move (17, 14) from predict target (23, 14)\n",
      "random (30, 26)\n",
      "choose legal move (26, 23) from predict target (23, 23)\n",
      "random (28, 24)\n",
      "choose legal move (23, 18) from predict target (23, 21)\n",
      "choose legal move (18, 14) from predict target (21, 14)\n"
     ]
    },
    {
     "name": "stderr",
     "output_type": "stream",
     "text": [
      " 70%|██████████████████████████████████████████████████████████████████████████████████████████████████                                          | 70/100 [00:11<00:05,  5.97it/s]"
     ]
    },
    {
     "name": "stdout",
     "output_type": "stream",
     "text": [
      "random (24, 21)\n",
      "random (31, 26)\n",
      "random (20, 16)\n",
      "random (29, 20)\n",
      "random (20, 16)\n",
      "random (16, 13)\n",
      "random (19, 15)\n",
      "random (27, 23)\n",
      "random (14, 10)\n",
      "random (10, 6)\n",
      "round : 70/100 result lose, explore_rate 0.1\n",
      "choose predict move (24, 20)\n",
      "choose legal move (26, 23) from predict target (18, 23)\n",
      "choose predict move (25, 21)\n",
      "choose predict move (21, 17)\n",
      "choose legal move (23, 19) from predict target (23, 14)\n",
      "choose legal move (17, 14) from predict target (23, 14)\n",
      "random (19, 15)\n",
      "choose legal move (27, 23) from predict target (23, 23)\n",
      "random (15, 10)\n",
      "random (30, 26)\n",
      "choose legal move (26, 23) from predict target (23, 23)\n",
      "choose legal move (23, 19) from predict target (23, 21)\n",
      "random (19, 15)\n",
      "random (29, 25)\n",
      "random (28, 24)\n",
      "choose legal move (24, 21) from predict target (23, 21)\n",
      "random (20, 13)\n",
      "random (31, 26)\n",
      "choose legal move (13, 9) from predict target (13, 4)\n",
      "choose legal move (26, 23) from predict target (18, 23)\n"
     ]
    },
    {
     "name": "stderr",
     "output_type": "stream",
     "text": [
      " 71%|███████████████████████████████████████████████████████████████████████████████████████████████████▍                                        | 71/100 [00:11<00:06,  4.78it/s]"
     ]
    },
    {
     "name": "stdout",
     "output_type": "stream",
     "text": [
      "choose predict move (23, 19)\n",
      "random (10, 7)\n",
      "choose legal move (9, 5) from predict target (23, 5)\n",
      "random (5, 1)\n",
      "random (19, 15)\n",
      "choose legal move (1, 5) from predict target (19, 5)\n",
      "random (5, 18)\n",
      "random (18, 25)\n",
      "random (15, 10)\n",
      "choose legal move (10, 7) from predict target (10, 3)\n",
      "random (7, 3)\n",
      "random (3, 24)\n",
      "random (24, 28)\n",
      "choose legal move (28, 10) from predict target (19, 10)\n",
      "random (10, 7)\n",
      "random (7, 10)\n",
      "random (10, 15)\n",
      "random (15, 22)\n",
      "choose legal move (22, 11) from predict target (24, 11)\n",
      "random (11, 25)\n",
      "round : 71/100 result lose, explore_rate 0.1\n",
      "choose predict move (24, 20)\n",
      "choose legal move (26, 23) from predict target (18, 23)\n",
      "choose predict move (25, 21)\n",
      "choose predict move (21, 17)\n"
     ]
    },
    {
     "name": "stderr",
     "output_type": "stream",
     "text": [
      " 72%|████████████████████████████████████████████████████████████████████████████████████████████████████▊                                       | 72/100 [00:12<00:05,  5.47it/s]"
     ]
    },
    {
     "name": "stdout",
     "output_type": "stream",
     "text": [
      "choose legal move (23, 19) from predict target (23, 14)\n",
      "choose legal move (17, 14) from predict target (23, 14)\n",
      "random (27, 23)\n",
      "random (29, 24)\n",
      "choose legal move (24, 21) from predict target (25, 21)\n",
      "choose legal move (21, 17) from predict target (21, 5)\n",
      "random (30, 25)\n",
      "random (31, 26)\n",
      "random (26, 22)\n",
      "random (20, 16)\n",
      "random (19, 15)\n",
      "random (28, 24)\n",
      "random (15, 10)\n",
      "round : 72/100 result lose, explore_rate 0.1\n",
      "choose predict move (24, 20)\n",
      "choose legal move (26, 23) from predict target (18, 23)\n",
      "choose predict move (25, 21)\n",
      "choose predict move (21, 17)\n",
      "choose legal move (23, 19) from predict target (23, 14)\n",
      "choose legal move (17, 14) from predict target (23, 14)\n",
      "random (31, 26)\n",
      "choose legal move (26, 23) from predict target (23, 23)\n",
      "random (28, 24)\n",
      "choose legal move (23, 18) from predict target (23, 21)\n",
      "choose legal move (18, 14) from predict target (23, 14)\n",
      "random (30, 25)\n",
      "random (25, 21)\n",
      "choose legal move (21, 16) from predict target (21, 5)\n",
      "choose legal move (27, 23) from predict target (23, 23)\n",
      "choose legal move (23, 18) from predict target (23, 19)\n"
     ]
    },
    {
     "name": "stderr",
     "output_type": "stream",
     "text": [
      " 74%|███████████████████████████████████████████████████████████████████████████████████████████████████████▌                                    | 74/100 [00:12<00:04,  5.74it/s]"
     ]
    },
    {
     "name": "stdout",
     "output_type": "stream",
     "text": [
      "random (19, 15)\n",
      "random (18, 14)\n",
      "random (29, 24)\n",
      "random (14, 10)\n",
      "random (20, 16)\n",
      "round : 73/100 result lose, explore_rate 0.1\n",
      "choose predict move (24, 20)\n",
      "choose legal move (26, 23) from predict target (18, 23)\n",
      "choose predict move (25, 21)\n",
      "choose predict move (21, 17)\n",
      "choose legal move (23, 19) from predict target (23, 14)\n",
      "choose legal move (17, 14) from predict target (23, 14)\n",
      "random (30, 26)\n",
      "choose legal move (26, 23) from predict target (23, 23)\n",
      "random (31, 26)\n",
      "random (29, 25)\n",
      "choose legal move (23, 18) from predict target (23, 21)\n",
      "choose predict move (25, 21)\n",
      "choose legal move (21, 17) from predict target (21, 21)\n",
      "random (20, 16)\n",
      "random (27, 23)\n",
      "random (18, 14)\n",
      "random (19, 15)\n",
      "random (14, 10)\n",
      "random (10, 7)\n",
      "random (28, 24)\n",
      "round : 74/100 result lose, explore_rate 0.1\n",
      "choose predict move (24, 20)\n",
      "choose legal move (26, 23) from predict target (18, 23)\n"
     ]
    },
    {
     "name": "stderr",
     "output_type": "stream",
     "text": [
      " 75%|█████████████████████████████████████████████████████████████████████████████████████████████████████████                                   | 75/100 [00:12<00:04,  5.93it/s]"
     ]
    },
    {
     "name": "stdout",
     "output_type": "stream",
     "text": [
      "choose predict move (25, 21)\n",
      "choose predict move (21, 17)\n",
      "choose legal move (23, 19) from predict target (23, 14)\n",
      "choose legal move (17, 14) from predict target (23, 14)\n",
      "random (20, 16)\n",
      "choose legal move (27, 23) from predict target (23, 23)\n",
      "random (30, 26)\n",
      "random (26, 23)\n",
      "random (29, 24)\n",
      "choose legal move (24, 21) from predict target (21, 21)\n",
      "choose legal move (21, 17) from predict target (21, 5)\n",
      "choose legal move (23, 18) from predict target (23, 5)\n",
      "random (18, 15)\n",
      "random (17, 14)\n",
      "random (31, 26)\n",
      "random (26, 23)\n",
      "random (14, 9)\n",
      "choose legal move (23, 18) from predict target (23, 19)\n",
      "choose legal move (18, 15) from predict target (18, 21)\n",
      "random (28, 24)\n",
      "random (9, 5)\n",
      "random (19, 15)\n",
      "round : 75/100 result lose, explore_rate 0.1\n",
      "choose predict move (24, 20)\n",
      "choose legal move (26, 23) from predict target (18, 23)\n",
      "choose predict move (25, 21)\n",
      "choose predict move (21, 17)\n",
      "choose legal move (23, 19) from predict target (23, 14)\n",
      "choose legal move (17, 14) from predict target (23, 14)\n",
      "random (19, 15)\n"
     ]
    },
    {
     "name": "stderr",
     "output_type": "stream",
     "text": [
      " 77%|███████████████████████████████████████████████████████████████████████████████████████████████████████████▊                                | 77/100 [00:12<00:03,  7.05it/s]"
     ]
    },
    {
     "name": "stdout",
     "output_type": "stream",
     "text": [
      "choose legal move (27, 23) from predict target (23, 23)\n",
      "random (30, 25)\n",
      "random (28, 24)\n",
      "random (24, 21)\n",
      "random (20, 16)\n",
      "random (29, 20)\n",
      "random (31, 26)\n",
      "random (20, 16)\n",
      "round : 76/100 result lose, explore_rate 0.1\n",
      "choose predict move (24, 20)\n",
      "choose legal move (26, 23) from predict target (18, 23)\n",
      "choose predict move (25, 21)\n",
      "choose predict move (21, 17)\n",
      "choose legal move (23, 19) from predict target (23, 14)\n",
      "choose legal move (17, 14) from predict target (23, 14)\n",
      "random (30, 26)\n",
      "choose legal move (26, 23) from predict target (23, 23)\n",
      "random (23, 18)\n",
      "random (29, 25)\n",
      "random (18, 15)\n",
      "random (19, 15)\n",
      "random (27, 23)\n",
      "random (20, 16)\n",
      "random (28, 24)\n",
      "random (31, 26)\n",
      "random (26, 22)\n",
      "round : 77/100 result lose, explore_rate 0.1\n",
      "choose predict move (24, 20)\n",
      "choose legal move (26, 23) from predict target (18, 23)\n",
      "choose predict move (25, 21)\n",
      "choose predict move (21, 17)\n"
     ]
    },
    {
     "name": "stderr",
     "output_type": "stream",
     "text": [
      " 78%|█████████████████████████████████████████████████████████████████████████████████████████████████████████████▏                              | 78/100 [00:12<00:03,  7.01it/s]"
     ]
    },
    {
     "name": "stdout",
     "output_type": "stream",
     "text": [
      "choose legal move (23, 19) from predict target (23, 14)\n",
      "choose legal move (17, 14) from predict target (23, 14)\n",
      "random (30, 26)\n",
      "choose legal move (26, 23) from predict target (23, 23)\n",
      "random (20, 16)\n",
      "choose legal move (23, 18) from predict target (23, 21)\n",
      "random (31, 26)\n",
      "random (29, 24)\n",
      "random (28, 24)\n",
      "random (19, 15)\n",
      "random (27, 23)\n",
      "random (23, 19)\n",
      "random (18, 14)\n",
      "random (14, 9)\n",
      "random (19, 15)\n",
      "round : 78/100 result lose, explore_rate 0.1\n",
      "choose predict move (24, 20)\n",
      "choose legal move (26, 23) from predict target (18, 23)\n",
      "choose predict move (25, 21)\n",
      "choose predict move (21, 17)\n",
      "choose legal move (23, 19) from predict target (23, 14)\n",
      "choose legal move (17, 14) from predict target (23, 14)\n",
      "random (27, 23)\n",
      "random (19, 15)\n",
      "random (30, 25)\n",
      "random (20, 16)\n",
      "random (31, 26)\n",
      "random (29, 25)\n",
      "random (28, 24)\n",
      "choose predict move (25, 21)\n",
      "choose predict move (24, 21)\n",
      "choose legal move (21, 17) from predict target (21, 21)\n"
     ]
    },
    {
     "name": "stderr",
     "output_type": "stream",
     "text": [
      " 80%|████████████████████████████████████████████████████████████████████████████████████████████████████████████████                            | 80/100 [00:13<00:02,  6.92it/s]"
     ]
    },
    {
     "name": "stdout",
     "output_type": "stream",
     "text": [
      "random (17, 13)\n",
      "random (13, 8)\n",
      "round : 79/100 result lose, explore_rate 0.1\n",
      "choose predict move (24, 20)\n",
      "choose legal move (26, 23) from predict target (18, 23)\n",
      "choose predict move (25, 21)\n",
      "choose predict move (21, 17)\n",
      "choose legal move (23, 19) from predict target (23, 14)\n",
      "choose legal move (17, 14) from predict target (23, 14)\n",
      "random (30, 25)\n",
      "choose legal move (27, 23) from predict target (23, 23)\n",
      "choose predict move (25, 21)\n",
      "choose legal move (21, 17) from predict target (21, 5)\n",
      "random (29, 24)\n",
      "random (19, 15)\n",
      "random (24, 21)\n",
      "random (21, 17)\n",
      "random (17, 14)\n",
      "random (14, 9)\n",
      "random (20, 16)\n",
      "random (31, 26)\n",
      "random (9, 5)\n",
      "random (28, 24)\n",
      "random (5, 1)\n",
      "random (1, 6)\n",
      "round : 80/100 result lose, explore_rate 0.1\n",
      "choose predict move (24, 20)\n",
      "choose legal move (26, 23) from predict target (18, 23)\n",
      "choose predict move (25, 21)\n"
     ]
    },
    {
     "name": "stderr",
     "output_type": "stream",
     "text": [
      " 81%|█████████████████████████████████████████████████████████████████████████████████████████████████████████████████▍                          | 81/100 [00:13<00:02,  7.08it/s]"
     ]
    },
    {
     "name": "stdout",
     "output_type": "stream",
     "text": [
      "choose predict move (21, 17)\n",
      "choose legal move (23, 19) from predict target (23, 14)\n",
      "choose legal move (17, 14) from predict target (23, 14)\n",
      "random (27, 23)\n",
      "random (20, 16)\n",
      "random (31, 26)\n",
      "random (28, 24)\n",
      "random (26, 22)\n",
      "random (30, 26)\n",
      "random (29, 24)\n",
      "random (19, 15)\n",
      "choose legal move (26, 23) from predict target (18, 23)\n",
      "choose legal move (23, 19) from predict target (23, 21)\n",
      "random (19, 15)\n",
      "random (15, 10)\n",
      "round : 81/100 result lose, explore_rate 0.1\n",
      "choose predict move (24, 20)\n",
      "choose legal move (26, 23) from predict target (18, 23)\n",
      "choose predict move (25, 21)\n",
      "choose predict move (21, 17)\n",
      "choose legal move (23, 19) from predict target (23, 14)\n",
      "choose legal move (17, 14) from predict target (23, 14)\n",
      "random (30, 25)\n",
      "choose legal move (27, 23) from predict target (23, 23)\n",
      "choose predict move (25, 21)\n",
      "choose legal move (21, 17) from predict target (21, 5)\n",
      "random (29, 25)\n",
      "random (20, 16)\n",
      "random (19, 15)\n",
      "random (31, 26)\n",
      "choose legal move (26, 23) from predict target (13, 23)\n",
      "choose legal move (23, 19) from predict target (23, 23)\n"
     ]
    },
    {
     "name": "stderr",
     "output_type": "stream",
     "text": [
      " 83%|████████████████████████████████████████████████████████████████████████████████████████████████████████████████████▏                       | 83/100 [00:13<00:02,  7.18it/s]"
     ]
    },
    {
     "name": "stdout",
     "output_type": "stream",
     "text": [
      "random (19, 15)\n",
      "random (28, 24)\n",
      "round : 82/100 result lose, explore_rate 0.1\n",
      "choose predict move (24, 20)\n",
      "choose legal move (26, 23) from predict target (18, 23)\n",
      "choose predict move (25, 21)\n",
      "choose predict move (21, 17)\n",
      "choose legal move (23, 19) from predict target (23, 14)\n",
      "choose legal move (17, 14) from predict target (23, 14)\n",
      "random (31, 26)\n",
      "choose legal move (26, 23) from predict target (23, 23)\n",
      "random (20, 16)\n",
      "random (30, 25)\n",
      "choose predict move (25, 21)\n",
      "choose legal move (21, 17) from predict target (21, 14)\n",
      "choose legal move (23, 18) from predict target (23, 19)\n",
      "random (18, 15)\n",
      "random (29, 25)\n",
      "random (25, 22)\n",
      "choose legal move (19, 15) from predict target (19, 10)\n",
      "choose legal move (27, 23) from predict target (18, 23)\n",
      "choose predict move (23, 19)\n",
      "random (15, 11)\n",
      "random (28, 24)\n",
      "random (11, 7)\n",
      "random (19, 15)\n",
      "round : 83/100 result lose, explore_rate 0.1\n",
      "choose predict move (24, 20)\n",
      "choose legal move (26, 23) from predict target (18, 23)\n",
      "choose predict move (25, 21)\n",
      "choose predict move (21, 17)\n"
     ]
    },
    {
     "name": "stderr",
     "output_type": "stream",
     "text": [
      " 84%|█████████████████████████████████████████████████████████████████████████████████████████████████████████████████████▌                      | 84/100 [00:13<00:02,  6.34it/s]"
     ]
    },
    {
     "name": "stdout",
     "output_type": "stream",
     "text": [
      "choose legal move (23, 19) from predict target (23, 14)\n",
      "choose legal move (17, 14) from predict target (23, 14)\n",
      "random (28, 24)\n",
      "choose legal move (24, 21) from predict target (25, 21)\n",
      "choose legal move (21, 17) from predict target (21, 21)\n",
      "choose legal move (27, 23) from predict target (23, 23)\n",
      "choose legal move (23, 18) from predict target (23, 14)\n",
      "choose legal move (17, 14) from predict target (23, 14)\n",
      "choose legal move (14, 5) from predict target (21, 5)\n",
      "random (18, 14)\n",
      "random (5, 0)\n",
      "random (31, 27)\n",
      "random (14, 10)\n",
      "random (0, 9)\n",
      "choose legal move (9, 5) from predict target (23, 5)\n",
      "random (5, 18)\n",
      "random (18, 25)\n",
      "random (25, 16)\n",
      "random (30, 25)\n",
      "random (29, 25)\n",
      "random (20, 16)\n",
      "random (19, 15)\n",
      "random (27, 23)\n",
      "round : 84/100 result lose, explore_rate 0.1\n",
      "choose predict move (24, 20)\n",
      "choose legal move (26, 23) from predict target (18, 23)\n",
      "choose predict move (25, 21)\n",
      "choose predict move (21, 17)\n",
      "choose legal move (23, 19) from predict target (23, 14)\n"
     ]
    },
    {
     "name": "stderr",
     "output_type": "stream",
     "text": [
      " 85%|███████████████████████████████████████████████████████████████████████████████████████████████████████████████████████                     | 85/100 [00:13<00:02,  6.95it/s]"
     ]
    },
    {
     "name": "stdout",
     "output_type": "stream",
     "text": [
      "choose legal move (17, 14) from predict target (23, 14)\n",
      "random (29, 25)\n",
      "choose legal move (27, 23) from predict target (23, 23)\n",
      "choose predict move (25, 21)\n",
      "choose legal move (21, 17) from predict target (21, 5)\n",
      "random (20, 16)\n",
      "random (19, 15)\n",
      "random (28, 24)\n",
      "random (30, 25)\n",
      "random (31, 26)\n",
      "random (26, 22)\n",
      "round : 85/100 result lose, explore_rate 0.1\n",
      "choose predict move (24, 20)\n",
      "choose legal move (26, 23) from predict target (18, 23)\n",
      "choose predict move (25, 21)\n",
      "choose predict move (21, 17)\n",
      "choose legal move (23, 19) from predict target (23, 14)\n",
      "choose legal move (17, 14) from predict target (23, 14)\n",
      "random (28, 24)\n",
      "choose legal move (24, 21) from predict target (25, 21)\n",
      "choose legal move (21, 17) from predict target (21, 21)\n",
      "choose legal move (27, 23) from predict target (23, 23)\n",
      "choose legal move (23, 18) from predict target (23, 14)\n",
      "choose legal move (17, 14) from predict target (23, 14)\n",
      "choose legal move (14, 5) from predict target (21, 5)\n",
      "random (18, 14)\n",
      "random (31, 26)\n",
      "random (30, 26)\n",
      "random (14, 9)\n",
      "random (29, 24)\n",
      "random (5, 0)\n"
     ]
    },
    {
     "name": "stderr",
     "output_type": "stream",
     "text": [
      " 86%|████████████████████████████████████████████████████████████████████████████████████████████████████████████████████████▍                   | 86/100 [00:14<00:02,  6.25it/s]"
     ]
    },
    {
     "name": "stdout",
     "output_type": "stream",
     "text": [
      "random (0, 4)\n",
      "random (9, 6)\n",
      "choose legal move (20, 16) from predict target (21, 16)\n",
      "random (4, 17)\n",
      "random (19, 15)\n",
      "round : 86/100 result lose, explore_rate 0.1\n",
      "choose predict move (24, 20)\n",
      "choose legal move (26, 23) from predict target (18, 23)\n",
      "choose predict move (25, 21)\n",
      "choose predict move (21, 17)\n",
      "choose legal move (23, 19) from predict target (23, 14)\n",
      "choose legal move (17, 14) from predict target (23, 14)\n",
      "random (30, 26)\n",
      "choose legal move (26, 23) from predict target (23, 23)\n",
      "random (29, 24)\n",
      "choose legal move (23, 18) from predict target (23, 21)\n",
      "choose legal move (24, 21) from predict target (25, 21)\n",
      "choose legal move (28, 21) from predict target (25, 21)\n",
      "choose predict move (21, 16)\n",
      "random (18, 14)\n",
      "random (14, 9)\n",
      "random (27, 23)\n",
      "choose legal move (23, 18) from predict target (23, 21)\n",
      "choose legal move (19, 15) from predict target (19, 5)\n",
      "random (31, 26)\n",
      "choose legal move (18, 14) from predict target (18, 23)\n",
      "choose legal move (26, 23) from predict target (13, 23)\n",
      "choose legal move (9, 5) from predict target (19, 5)\n",
      "random (5, 0)\n",
      "random (0, 5)\n"
     ]
    },
    {
     "name": "stderr",
     "output_type": "stream",
     "text": [
      " 88%|███████████████████████████████████████████████████████████████████████████████████████████████████████████████████████████▏                | 88/100 [00:14<00:01,  6.15it/s]"
     ]
    },
    {
     "name": "stdout",
     "output_type": "stream",
     "text": [
      "random (5, 9)\n",
      "choose legal move (9, 5) from predict target (19, 5)\n",
      "choose legal move (14, 10) from predict target (19, 10)\n",
      "random (5, 18)\n",
      "random (18, 29)\n",
      "random (29, 11)\n",
      "random (11, 15)\n",
      "random (15, 22)\n",
      "random (22, 18)\n",
      "random (20, 16)\n",
      "round : 87/100 result lose, explore_rate 0.1\n",
      "choose predict move (24, 20)\n",
      "choose legal move (26, 23) from predict target (18, 23)\n",
      "choose predict move (25, 21)\n",
      "choose predict move (21, 17)\n",
      "choose legal move (23, 19) from predict target (23, 14)\n",
      "choose legal move (17, 14) from predict target (23, 14)\n",
      "random (29, 25)\n",
      "choose legal move (27, 23) from predict target (23, 23)\n",
      "choose predict move (25, 21)\n",
      "choose legal move (21, 17) from predict target (21, 5)\n",
      "random (30, 25)\n",
      "random (20, 16)\n",
      "random (19, 15)\n",
      "random (28, 24)\n",
      "random (31, 26)\n",
      "choose legal move (26, 23) from predict target (13, 23)\n",
      "choose legal move (23, 19) from predict target (23, 23)\n",
      "random (19, 15)\n",
      "random (15, 10)\n",
      "random (10, 6)\n",
      "round : 88/100 result lose, explore_rate 0.1\n",
      "choose predict move (24, 20)\n",
      "choose legal move (26, 23) from predict target (18, 23)\n",
      "choose predict move (25, 21)\n"
     ]
    },
    {
     "name": "stderr",
     "output_type": "stream",
     "text": [
      " 89%|████████████████████████████████████████████████████████████████████████████████████████████████████████████████████████████▌               | 89/100 [00:14<00:01,  6.62it/s]"
     ]
    },
    {
     "name": "stdout",
     "output_type": "stream",
     "text": [
      "choose predict move (21, 17)\n",
      "choose legal move (23, 19) from predict target (23, 14)\n",
      "choose legal move (17, 14) from predict target (23, 14)\n",
      "random (29, 25)\n",
      "choose legal move (27, 23) from predict target (23, 23)\n",
      "choose predict move (25, 21)\n",
      "choose legal move (21, 17) from predict target (21, 5)\n",
      "random (28, 24)\n",
      "random (31, 26)\n",
      "random (30, 25)\n",
      "choose predict move (25, 21)\n",
      "choose legal move (19, 15) from predict target (19, 5)\n",
      "choose legal move (21, 17) from predict target (21, 5)\n",
      "random (20, 16)\n",
      "round : 89/100 result lose, explore_rate 0.1\n",
      "choose predict move (24, 20)\n",
      "choose legal move (26, 23) from predict target (18, 23)\n",
      "choose predict move (25, 21)\n",
      "choose predict move (21, 17)\n",
      "choose legal move (23, 19) from predict target (23, 14)\n",
      "choose legal move (17, 14) from predict target (23, 14)\n",
      "random (20, 16)\n",
      "choose legal move (27, 23) from predict target (23, 23)\n",
      "random (29, 24)\n",
      "choose legal move (24, 17) from predict target (24, 21)\n",
      "random (17, 14)\n",
      "random (31, 26)\n",
      "random (30, 25)\n",
      "choose legal move (26, 23) from predict target (18, 23)\n",
      "choose legal move (25, 21) from predict target (21, 21)\n"
     ]
    },
    {
     "name": "stderr",
     "output_type": "stream",
     "text": [
      " 91%|███████████████████████████████████████████████████████████████████████████████████████████████████████████████████████████████▍            | 91/100 [00:14<00:01,  7.12it/s]"
     ]
    },
    {
     "name": "stdout",
     "output_type": "stream",
     "text": [
      "choose predict move (21, 16)\n",
      "choose legal move (19, 15) from predict target (19, 16)\n",
      "random (14, 9)\n",
      "random (23, 14)\n",
      "random (28, 24)\n",
      "choose legal move (14, 10) from predict target (19, 10)\n",
      "round : 90/100 result lose, explore_rate 0.1\n",
      "choose predict move (24, 20)\n",
      "choose legal move (26, 23) from predict target (18, 23)\n",
      "choose predict move (25, 21)\n",
      "choose predict move (21, 17)\n",
      "choose legal move (23, 19) from predict target (23, 14)\n",
      "choose legal move (17, 14) from predict target (23, 14)\n",
      "random (20, 16)\n",
      "choose legal move (27, 23) from predict target (23, 23)\n",
      "random (29, 25)\n",
      "random (25, 16)\n",
      "random (31, 26)\n",
      "random (19, 15)\n",
      "random (28, 24)\n",
      "random (30, 25)\n",
      "choose legal move (26, 23) from predict target (13, 23)\n",
      "choose predict move (23, 19)\n",
      "choose legal move (25, 21) from predict target (23, 21)\n",
      "random (19, 15)\n",
      "random (15, 11)\n",
      "round : 91/100 result lose, explore_rate 0.1\n",
      "choose predict move (24, 20)\n",
      "choose legal move (26, 23) from predict target (18, 23)\n",
      "choose predict move (25, 21)\n",
      "choose predict move (21, 17)\n",
      "choose legal move (23, 19) from predict target (23, 14)\n"
     ]
    },
    {
     "name": "stderr",
     "output_type": "stream",
     "text": [
      " 93%|██████████████████████████████████████████████████████████████████████████████████████████████████████████████████████████████████▏         | 93/100 [00:15<00:00,  7.10it/s]"
     ]
    },
    {
     "name": "stdout",
     "output_type": "stream",
     "text": [
      "choose legal move (17, 14) from predict target (23, 14)\n",
      "random (19, 15)\n",
      "choose legal move (27, 23) from predict target (23, 23)\n",
      "random (29, 25)\n",
      "random (25, 22)\n",
      "random (30, 21)\n",
      "random (21, 17)\n",
      "random (31, 26)\n",
      "random (28, 24)\n",
      "random (20, 16)\n",
      "round : 92/100 result lose, explore_rate 0.1\n",
      "choose predict move (24, 20)\n",
      "choose legal move (26, 23) from predict target (18, 23)\n",
      "choose predict move (25, 21)\n",
      "choose predict move (21, 17)\n",
      "choose legal move (23, 19) from predict target (23, 14)\n",
      "choose legal move (17, 14) from predict target (23, 14)\n",
      "random (28, 24)\n",
      "choose legal move (24, 21) from predict target (25, 21)\n",
      "choose legal move (21, 17) from predict target (21, 21)\n",
      "choose legal move (27, 23) from predict target (23, 23)\n",
      "choose legal move (23, 18) from predict target (23, 14)\n",
      "choose legal move (17, 14) from predict target (23, 14)\n",
      "choose legal move (14, 5) from predict target (21, 5)\n",
      "random (31, 26)\n",
      "random (29, 24)\n",
      "choose legal move (24, 21) from predict target (25, 21)\n",
      "choose legal move (21, 17) from predict target (21, 5)\n",
      "random (20, 13)\n",
      "random (13, 9)\n",
      "random (30, 26)\n",
      "random (19, 15)\n",
      "random (9, 6)\n",
      "round : 93/100 result lose, explore_rate 0.1\n"
     ]
    },
    {
     "name": "stderr",
     "output_type": "stream",
     "text": [
      " 94%|███████████████████████████████████████████████████████████████████████████████████████████████████████████████████████████████████▌        | 94/100 [00:15<00:00,  6.95it/s]"
     ]
    },
    {
     "name": "stdout",
     "output_type": "stream",
     "text": [
      "choose predict move (24, 20)\n",
      "choose legal move (26, 23) from predict target (18, 23)\n",
      "choose predict move (25, 21)\n",
      "choose predict move (21, 17)\n",
      "choose legal move (23, 19) from predict target (23, 14)\n",
      "choose legal move (17, 14) from predict target (23, 14)\n",
      "random (30, 26)\n",
      "choose legal move (26, 23) from predict target (23, 23)\n",
      "random (20, 16)\n",
      "choose legal move (23, 18) from predict target (23, 21)\n",
      "random (29, 24)\n",
      "random (18, 14)\n",
      "random (14, 9)\n",
      "random (9, 6)\n",
      "random (27, 23)\n",
      "random (19, 15)\n",
      "random (28, 24)\n",
      "choose predict move (24, 21)\n",
      "random (31, 26)\n",
      "random (26, 23)\n",
      "random (23, 19)\n",
      "random (19, 15)\n",
      "round : 94/100 result lose, explore_rate 0.1\n",
      "choose predict move (24, 20)\n",
      "choose legal move (26, 23) from predict target (18, 23)\n",
      "choose predict move (25, 21)\n",
      "choose predict move (21, 17)\n"
     ]
    },
    {
     "name": "stderr",
     "output_type": "stream",
     "text": [
      " 96%|██████████████████████████████████████████████████████████████████████████████████████████████████████████████████████████████████████▍     | 96/100 [00:15<00:00,  7.50it/s]"
     ]
    },
    {
     "name": "stdout",
     "output_type": "stream",
     "text": [
      "choose legal move (23, 19) from predict target (23, 14)\n",
      "choose legal move (17, 14) from predict target (23, 14)\n",
      "random (29, 24)\n",
      "choose legal move (24, 21) from predict target (23, 21)\n",
      "choose legal move (21, 17) from predict target (21, 21)\n",
      "choose legal move (27, 23) from predict target (13, 23)\n",
      "choose legal move (23, 18) from predict target (23, 19)\n",
      "random (18, 15)\n",
      "random (30, 25)\n",
      "random (28, 24)\n",
      "random (31, 26)\n",
      "random (24, 21)\n",
      "choose predict move (21, 16)\n",
      "random (20, 16)\n",
      "random (19, 15)\n",
      "round : 95/100 result lose, explore_rate 0.1\n",
      "choose predict move (24, 20)\n",
      "choose legal move (26, 23) from predict target (18, 23)\n",
      "choose predict move (25, 21)\n",
      "choose predict move (21, 17)\n",
      "choose legal move (23, 19) from predict target (23, 14)\n",
      "choose legal move (17, 14) from predict target (23, 14)\n",
      "random (30, 25)\n",
      "choose legal move (27, 23) from predict target (23, 23)\n",
      "choose predict move (25, 21)\n",
      "choose legal move (21, 17) from predict target (21, 5)\n",
      "random (19, 15)\n",
      "random (20, 16)\n",
      "random (31, 26)\n",
      "random (28, 24)\n",
      "random (29, 25)\n",
      "random (25, 21)\n",
      "round : 96/100 result lose, explore_rate 0.1\n",
      "choose predict move (24, 20)\n"
     ]
    },
    {
     "name": "stderr",
     "output_type": "stream",
     "text": [
      " 97%|███████████████████████████████████████████████████████████████████████████████████████████████████████████████████████████████████████▊    | 97/100 [00:15<00:00,  6.67it/s]"
     ]
    },
    {
     "name": "stdout",
     "output_type": "stream",
     "text": [
      "choose legal move (26, 23) from predict target (18, 23)\n",
      "choose predict move (25, 21)\n",
      "choose predict move (21, 17)\n",
      "choose legal move (23, 19) from predict target (23, 14)\n",
      "choose legal move (17, 14) from predict target (23, 14)\n",
      "random (20, 16)\n",
      "choose legal move (27, 23) from predict target (23, 23)\n",
      "random (29, 24)\n",
      "choose legal move (24, 17) from predict target (24, 21)\n",
      "random (28, 24)\n",
      "choose legal move (24, 21) from predict target (24, 20)\n",
      "choose legal move (21, 16) from predict target (20, 16)\n",
      "random (16, 12)\n",
      "random (12, 5)\n",
      "choose predict move (5, 0)\n",
      "random (0, 14)\n",
      "random (14, 3)\n",
      "random (3, 10)\n",
      "choose legal move (17, 13) from predict target (16, 13)\n",
      "random (10, 17)\n",
      "choose legal move (17, 3) from predict target (10, 3)\n",
      "choose legal move (13, 9) from predict target (13, 4)\n",
      "random (19, 15)\n",
      "random (3, 24)\n",
      "random (30, 25)\n",
      "random (31, 22)\n",
      "random (9, 6)\n",
      "choose legal move (25, 21) from predict target (18, 21)\n",
      "choose predict move (21, 16)\n",
      "random (16, 13)\n",
      "random (13, 8)\n",
      "random (8, 5)\n",
      "choose legal move (5, 0) from predict target (24, 0)\n",
      "choose predict move (0, 18)\n",
      "round : 97/100 result lose, explore_rate 0.1\n",
      "choose predict move (24, 20)\n",
      "choose legal move (26, 23) from predict target (18, 23)\n",
      "choose predict move (25, 21)\n"
     ]
    },
    {
     "name": "stderr",
     "output_type": "stream",
     "text": [
      " 98%|█████████████████████████████████████████████████████████████████████████████████████████████████████████████████████████████████████████▏  | 98/100 [00:15<00:00,  6.74it/s]"
     ]
    },
    {
     "name": "stdout",
     "output_type": "stream",
     "text": [
      "choose predict move (21, 17)\n",
      "choose legal move (23, 19) from predict target (23, 14)\n",
      "choose legal move (17, 14) from predict target (23, 14)\n",
      "random (19, 15)\n",
      "choose legal move (27, 23) from predict target (23, 23)\n",
      "random (29, 25)\n",
      "random (30, 26)\n",
      "random (25, 22)\n",
      "random (26, 22)\n",
      "random (31, 22)\n",
      "random (22, 18)\n",
      "random (18, 14)\n",
      "random (28, 24)\n",
      "choose legal move (24, 21) from predict target (21, 21)\n",
      "random (20, 16)\n",
      "random (14, 10)\n",
      "random (10, 6)\n",
      "random (6, 1)\n",
      "choose legal move (1, 10) from predict target (19, 10)\n",
      "round : 98/100 result lose, explore_rate 0.1\n",
      "choose predict move (24, 20)\n",
      "choose legal move (26, 23) from predict target (18, 23)\n",
      "choose predict move (25, 21)\n",
      "choose predict move (21, 17)\n",
      "choose legal move (23, 19) from predict target (23, 14)\n",
      "choose legal move (17, 14) from predict target (23, 14)\n",
      "random (28, 24)\n",
      "choose legal move (24, 21) from predict target (25, 21)\n",
      "choose legal move (21, 17) from predict target (21, 21)\n",
      "choose legal move (27, 23) from predict target (23, 23)\n",
      "choose legal move (23, 18) from predict target (23, 14)\n",
      "choose legal move (17, 14) from predict target (23, 14)\n",
      "choose legal move (14, 5) from predict target (21, 5)\n",
      "random (31, 27)\n",
      "random (30, 26)\n",
      "random (29, 24)\n",
      "random (20, 16)\n",
      "random (18, 14)\n",
      "random (5, 0)\n",
      "random (19, 15)\n",
      "choose legal move (0, 14) from predict target (23, 14)\n",
      "choose legal move (14, 21) from predict target (23, 21)\n",
      "choose legal move (21, 14) from predict target (23, 14)\n",
      "choose legal move (14, 21) from predict target (23, 21)\n",
      "choose legal move (21, 14) from predict target (23, 14)\n",
      "choose legal move (14, 21) from predict target (23, 21)\n",
      "choose legal move (21, 14) from predict target (23, 14)\n",
      "choose legal move (14, 21) from predict target (23, 21)\n",
      "choose legal move (21, 14) from predict target (23, 14)\n",
      "choose legal move (14, 21) from predict target (23, 21)\n",
      "choose legal move (21, 14) from predict target (23, 14)\n",
      "choose legal move (14, 21) from predict target (23, 21)\n",
      "choose legal move (21, 14) from predict target (23, 14)\n",
      "choose legal move (14, 21) from predict target (23, 21)\n",
      "choose legal move (21, 14) from predict target (23, 14)\n",
      "choose legal move (14, 21) from predict target (23, 21)\n",
      "choose legal move (21, 14) from predict target (23, 14)\n",
      "choose legal move (14, 21) from predict target (23, 21)\n",
      "choose legal move (21, 14) from predict target (23, 14)\n",
      "choose legal move (14, 21) from predict target (23, 21)\n",
      "choose legal move (21, 14) from predict target (23, 14)\n",
      "choose legal move (14, 21) from predict target (23, 21)\n",
      "choose legal move (21, 14) from predict target (23, 14)\n",
      "choose legal move (14, 21) from predict target (23, 21)\n"
     ]
    },
    {
     "name": "stderr",
     "output_type": "stream",
     "text": [
      " 99%|██████████████████████████████████████████████████████████████████████████████████████████████████████████████████████████████████████████▌ | 99/100 [00:16<00:00,  2.69it/s]"
     ]
    },
    {
     "name": "stdout",
     "output_type": "stream",
     "text": [
      "choose legal move (21, 14) from predict target (23, 14)\n",
      "choose legal move (14, 21) from predict target (23, 21)\n",
      "choose legal move (21, 14) from predict target (23, 14)\n",
      "choose legal move (14, 21) from predict target (23, 21)\n",
      "choose legal move (21, 14) from predict target (23, 14)\n",
      "choose legal move (14, 21) from predict target (23, 21)\n",
      "round : 99/100 result draw, explore_rate 0.1\n",
      "choose predict move (24, 20)\n",
      "choose legal move (26, 23) from predict target (18, 23)\n",
      "choose predict move (25, 21)\n",
      "choose predict move (21, 17)\n",
      "choose legal move (23, 19) from predict target (23, 14)\n",
      "choose legal move (17, 14) from predict target (23, 14)\n",
      "random (31, 26)\n"
     ]
    },
    {
     "name": "stderr",
     "output_type": "stream",
     "text": [
      "100%|███████████████████████████████████████████████████████████████████████████████████████████████████████████████████████████████████████████| 100/100 [00:16<00:00,  5.91it/s]"
     ]
    },
    {
     "name": "stdout",
     "output_type": "stream",
     "text": [
      "choose legal move (26, 23) from predict target (23, 23)\n",
      "random (20, 16)\n",
      "random (30, 26)\n",
      "random (28, 24)\n",
      "choose legal move (24, 21) from predict target (24, 17)\n",
      "random (29, 22)\n",
      "random (19, 15)\n",
      "choose predict move (23, 14)\n",
      "random (27, 23)\n",
      "random (23, 18)\n",
      "random (18, 15)\n",
      "random (15, 11)\n",
      "round : 100/100 result lose, explore_rate 0.1\n",
      "black win 98 draw 1 loss 1\n"
     ]
    },
    {
     "name": "stderr",
     "output_type": "stream",
     "text": [
      "\n"
     ]
    }
   ],
   "source": [
    "# A few matches against a random player\n",
    "import numpy as np\n",
    "\n",
    "max_game_len = 100\n",
    "n_matches = 100\n",
    "n_wins, n_draws, n_losses = 0, 0, 0\n",
    "is_show_game = False\n",
    "explore_rate=0.1\n",
    "for i in tqdm(range(n_matches)):\n",
    "    if is_show_game:\n",
    "        print('game', i)\n",
    "    ch = Checkers()\n",
    "    black_player = MinimaxPlayer(\n",
    "        'black',\n",
    "        # value_func=partial(first_order_adv, 'black', 200, 100, 20, 0),\n",
    "        value_func=partial(first_order_adv, 'black', 86.0315, 54.568, 87.21072, 25.85066),        \n",
    "        # The provided legal moves might be ordered differently\n",
    "        rollout_order_gen=lambda x: sorted(x),\n",
    "        search_depth=2,\n",
    "        seed=i)\n",
    "\n",
    "    white_player = DenseNetPlayer(\"white\",model, device)\n",
    "\n",
    "    #modify this function to put our RL model as white\n",
    "    winner = play_a_game(ch, black_player.next_move, white_player.next_move, max_game_len,is_show_detail = is_show_game)\n",
    "\n",
    "    # Play with a minimax player\n",
    "    # play_a_game(ch, keyboard_player_move, white_player.next_move)\n",
    "    if is_show_game:\n",
    "        print('black player evaluated %i positions in %.2fs (avg %.2f positions/s) effective branching factor %.2f' % (black_player.n_evaluated_positions, black_player.evaluation_dt, black_player.n_evaluated_positions / black_player.evaluation_dt, (black_player.n_evaluated_positions / black_player.ply) ** (1 / black_player.search_depth)))\n",
    "        print('black player pruned', black_player.prunes.items())\n",
    "        print()\n",
    "    result:RESULT_TYPE\n",
    "    if winner == 'black':\n",
    "        n_wins += 1\n",
    "        result = RESULT_TYPE.LOSE\n",
    "    elif winner is None:\n",
    "        n_draws += 1\n",
    "        result = RESULT_TYPE.DRAW\n",
    "    else:\n",
    "        n_losses += 1\n",
    "        result = RESULT_TYPE.WIN\n",
    "\n",
    "    print(f\"round : {i+1}/{n_matches} result {result.value}, explore_rate {explore_rate}\")\n",
    "\n",
    "print('black win', n_wins, 'draw', n_draws, 'loss', n_losses)"
   ]
  },
  {
   "cell_type": "markdown",
   "metadata": {},
   "source": []
  }
 ],
 "metadata": {
  "kernelspec": {
   "display_name": "Python 3 (ipykernel)",
   "language": "python",
   "name": "python3"
  },
  "language_info": {
   "codemirror_mode": {
    "name": "ipython",
    "version": 3
   },
   "file_extension": ".py",
   "mimetype": "text/x-python",
   "name": "python",
   "nbconvert_exporter": "python",
   "pygments_lexer": "ipython3",
   "version": "3.12.2"
  }
 },
 "nbformat": 4,
 "nbformat_minor": 4
}
